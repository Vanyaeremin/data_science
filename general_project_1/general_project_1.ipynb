{
 "cells": [
  {
   "cell_type": "markdown",
   "metadata": {},
   "source": [
    "# Введение\n",
    "Вы работаете в интернет-магазине «Стримчик», который продаёт по всему миру компьютерные игры. Из открытых источников доступны исторические данные о продажах игр, оценки пользователей и экспертов, жанры и платформы (например, Xbox или PlayStation). Вам нужно выявить определяющие успешность игры закономерности. Это позволит сделать ставку на потенциально популярный продукт и спланировать рекламные кампании."
   ]
  },
  {
   "cell_type": "markdown",
   "metadata": {},
   "source": [
    "# План работы\n",
    "1) Изучение общей информации\\\n",
    "2) Предобработка данных\\\n",
    "3) Исследовательский анализ данных\\\n",
    "4) Составление портрета пользователя каждого региона\\\n",
    "5) Проверка гипотез\\\n",
    "6) Подведение итогов"
   ]
  },
  {
   "cell_type": "markdown",
   "metadata": {},
   "source": [
    "# Описание данных\n",
    "`Name` — название игры\\\n",
    "`Platform` — платформа\\\n",
    "`Year_of_Release` — год выпуска\\\n",
    "`Genre` — жанр игры\\\n",
    "`NA_sales` — продажи в Северной Америке (миллионы проданных копий)\\\n",
    "`EU_sales` — продажи в Европе (миллионы проданных копий)\\\n",
    "`JP_sales` — продажи в Японии (миллионы проданных копий)\\\n",
    "`Other_sales` — продажи в других странах (миллионы проданных копий)\\\n",
    "`Critic_Score` — оценка критиков (максимум 100)\\\n",
    "`User_Score` — оценка пользователей (максимум 10)\\\n",
    "`Rating` — рейтинг от организации ESRB (англ. Entertainment Software Rating Board). Эта ассоциация определяет рейтинг компьютерных игр и присваивает им подходящую возрастную категорию."
   ]
  },
  {
   "cell_type": "markdown",
   "metadata": {},
   "source": [
    "## Изучение общей информации"
   ]
  },
  {
   "cell_type": "code",
   "execution_count": 1,
   "metadata": {},
   "outputs": [],
   "source": [
    "import pandas as pd\n",
    "import numpy as np\n",
    "import matplotlib.pyplot as plt\n",
    "import scipy.stats "
   ]
  },
  {
   "cell_type": "code",
   "execution_count": 2,
   "metadata": {},
   "outputs": [
    {
     "data": {
      "text/html": [
       "<div>\n",
       "<style scoped>\n",
       "    .dataframe tbody tr th:only-of-type {\n",
       "        vertical-align: middle;\n",
       "    }\n",
       "\n",
       "    .dataframe tbody tr th {\n",
       "        vertical-align: top;\n",
       "    }\n",
       "\n",
       "    .dataframe thead th {\n",
       "        text-align: right;\n",
       "    }\n",
       "</style>\n",
       "<table border=\"1\" class=\"dataframe\">\n",
       "  <thead>\n",
       "    <tr style=\"text-align: right;\">\n",
       "      <th></th>\n",
       "      <th>Name</th>\n",
       "      <th>Platform</th>\n",
       "      <th>Year_of_Release</th>\n",
       "      <th>Genre</th>\n",
       "      <th>NA_sales</th>\n",
       "      <th>EU_sales</th>\n",
       "      <th>JP_sales</th>\n",
       "      <th>Other_sales</th>\n",
       "      <th>Critic_Score</th>\n",
       "      <th>User_Score</th>\n",
       "      <th>Rating</th>\n",
       "    </tr>\n",
       "  </thead>\n",
       "  <tbody>\n",
       "    <tr>\n",
       "      <th>0</th>\n",
       "      <td>Wii Sports</td>\n",
       "      <td>Wii</td>\n",
       "      <td>2006.0</td>\n",
       "      <td>Sports</td>\n",
       "      <td>41.36</td>\n",
       "      <td>28.96</td>\n",
       "      <td>3.77</td>\n",
       "      <td>8.45</td>\n",
       "      <td>76.0</td>\n",
       "      <td>8</td>\n",
       "      <td>E</td>\n",
       "    </tr>\n",
       "    <tr>\n",
       "      <th>1</th>\n",
       "      <td>Super Mario Bros.</td>\n",
       "      <td>NES</td>\n",
       "      <td>1985.0</td>\n",
       "      <td>Platform</td>\n",
       "      <td>29.08</td>\n",
       "      <td>3.58</td>\n",
       "      <td>6.81</td>\n",
       "      <td>0.77</td>\n",
       "      <td>NaN</td>\n",
       "      <td>NaN</td>\n",
       "      <td>NaN</td>\n",
       "    </tr>\n",
       "    <tr>\n",
       "      <th>2</th>\n",
       "      <td>Mario Kart Wii</td>\n",
       "      <td>Wii</td>\n",
       "      <td>2008.0</td>\n",
       "      <td>Racing</td>\n",
       "      <td>15.68</td>\n",
       "      <td>12.76</td>\n",
       "      <td>3.79</td>\n",
       "      <td>3.29</td>\n",
       "      <td>82.0</td>\n",
       "      <td>8.3</td>\n",
       "      <td>E</td>\n",
       "    </tr>\n",
       "    <tr>\n",
       "      <th>3</th>\n",
       "      <td>Wii Sports Resort</td>\n",
       "      <td>Wii</td>\n",
       "      <td>2009.0</td>\n",
       "      <td>Sports</td>\n",
       "      <td>15.61</td>\n",
       "      <td>10.93</td>\n",
       "      <td>3.28</td>\n",
       "      <td>2.95</td>\n",
       "      <td>80.0</td>\n",
       "      <td>8</td>\n",
       "      <td>E</td>\n",
       "    </tr>\n",
       "    <tr>\n",
       "      <th>4</th>\n",
       "      <td>Pokemon Red/Pokemon Blue</td>\n",
       "      <td>GB</td>\n",
       "      <td>1996.0</td>\n",
       "      <td>Role-Playing</td>\n",
       "      <td>11.27</td>\n",
       "      <td>8.89</td>\n",
       "      <td>10.22</td>\n",
       "      <td>1.00</td>\n",
       "      <td>NaN</td>\n",
       "      <td>NaN</td>\n",
       "      <td>NaN</td>\n",
       "    </tr>\n",
       "  </tbody>\n",
       "</table>\n",
       "</div>"
      ],
      "text/plain": [
       "                       Name Platform  Year_of_Release         Genre  NA_sales  \\\n",
       "0                Wii Sports      Wii           2006.0        Sports     41.36   \n",
       "1         Super Mario Bros.      NES           1985.0      Platform     29.08   \n",
       "2            Mario Kart Wii      Wii           2008.0        Racing     15.68   \n",
       "3         Wii Sports Resort      Wii           2009.0        Sports     15.61   \n",
       "4  Pokemon Red/Pokemon Blue       GB           1996.0  Role-Playing     11.27   \n",
       "\n",
       "   EU_sales  JP_sales  Other_sales  Critic_Score User_Score Rating  \n",
       "0     28.96      3.77         8.45          76.0          8      E  \n",
       "1      3.58      6.81         0.77           NaN        NaN    NaN  \n",
       "2     12.76      3.79         3.29          82.0        8.3      E  \n",
       "3     10.93      3.28         2.95          80.0          8      E  \n",
       "4      8.89     10.22         1.00           NaN        NaN    NaN  "
      ]
     },
     "execution_count": 2,
     "metadata": {},
     "output_type": "execute_result"
    }
   ],
   "source": [
    "data = pd.read_csv('/datasets/games.csv')\n",
    "data.head()"
   ]
  },
  {
   "cell_type": "code",
   "execution_count": 3,
   "metadata": {},
   "outputs": [
    {
     "data": {
      "text/plain": [
       "(16715, 11)"
      ]
     },
     "execution_count": 3,
     "metadata": {},
     "output_type": "execute_result"
    }
   ],
   "source": [
    "data.shape"
   ]
  },
  {
   "cell_type": "code",
   "execution_count": 4,
   "metadata": {},
   "outputs": [
    {
     "data": {
      "text/plain": [
       "16715"
      ]
     },
     "execution_count": 4,
     "metadata": {},
     "output_type": "execute_result"
    }
   ],
   "source": [
    "rows = len(data.axes[0])\n",
    "rows"
   ]
  },
  {
   "cell_type": "code",
   "execution_count": 5,
   "metadata": {},
   "outputs": [
    {
     "name": "stdout",
     "output_type": "stream",
     "text": [
      "<class 'pandas.core.frame.DataFrame'>\n",
      "RangeIndex: 16715 entries, 0 to 16714\n",
      "Data columns (total 11 columns):\n",
      " #   Column           Non-Null Count  Dtype  \n",
      "---  ------           --------------  -----  \n",
      " 0   Name             16713 non-null  object \n",
      " 1   Platform         16715 non-null  object \n",
      " 2   Year_of_Release  16446 non-null  float64\n",
      " 3   Genre            16713 non-null  object \n",
      " 4   NA_sales         16715 non-null  float64\n",
      " 5   EU_sales         16715 non-null  float64\n",
      " 6   JP_sales         16715 non-null  float64\n",
      " 7   Other_sales      16715 non-null  float64\n",
      " 8   Critic_Score     8137 non-null   float64\n",
      " 9   User_Score       10014 non-null  object \n",
      " 10  Rating           9949 non-null   object \n",
      "dtypes: float64(6), object(5)\n",
      "memory usage: 1.4+ MB\n"
     ]
    }
   ],
   "source": [
    "data.info()"
   ]
  },
  {
   "cell_type": "code",
   "execution_count": 6,
   "metadata": {},
   "outputs": [
    {
     "data": {
      "text/html": [
       "<div>\n",
       "<style scoped>\n",
       "    .dataframe tbody tr th:only-of-type {\n",
       "        vertical-align: middle;\n",
       "    }\n",
       "\n",
       "    .dataframe tbody tr th {\n",
       "        vertical-align: top;\n",
       "    }\n",
       "\n",
       "    .dataframe thead th {\n",
       "        text-align: right;\n",
       "    }\n",
       "</style>\n",
       "<table border=\"1\" class=\"dataframe\">\n",
       "  <thead>\n",
       "    <tr style=\"text-align: right;\">\n",
       "      <th></th>\n",
       "      <th>missing_values</th>\n",
       "      <th>% of total</th>\n",
       "    </tr>\n",
       "  </thead>\n",
       "  <tbody>\n",
       "    <tr>\n",
       "      <th>Critic_Score</th>\n",
       "      <td>8578</td>\n",
       "      <td>51.0</td>\n",
       "    </tr>\n",
       "    <tr>\n",
       "      <th>Rating</th>\n",
       "      <td>6766</td>\n",
       "      <td>40.0</td>\n",
       "    </tr>\n",
       "    <tr>\n",
       "      <th>User_Score</th>\n",
       "      <td>6701</td>\n",
       "      <td>40.0</td>\n",
       "    </tr>\n",
       "    <tr>\n",
       "      <th>Year_of_Release</th>\n",
       "      <td>269</td>\n",
       "      <td>2.0</td>\n",
       "    </tr>\n",
       "    <tr>\n",
       "      <th>Name</th>\n",
       "      <td>2</td>\n",
       "      <td>0.0</td>\n",
       "    </tr>\n",
       "    <tr>\n",
       "      <th>Genre</th>\n",
       "      <td>2</td>\n",
       "      <td>0.0</td>\n",
       "    </tr>\n",
       "    <tr>\n",
       "      <th>Platform</th>\n",
       "      <td>0</td>\n",
       "      <td>0.0</td>\n",
       "    </tr>\n",
       "    <tr>\n",
       "      <th>NA_sales</th>\n",
       "      <td>0</td>\n",
       "      <td>0.0</td>\n",
       "    </tr>\n",
       "    <tr>\n",
       "      <th>EU_sales</th>\n",
       "      <td>0</td>\n",
       "      <td>0.0</td>\n",
       "    </tr>\n",
       "    <tr>\n",
       "      <th>JP_sales</th>\n",
       "      <td>0</td>\n",
       "      <td>0.0</td>\n",
       "    </tr>\n",
       "    <tr>\n",
       "      <th>Other_sales</th>\n",
       "      <td>0</td>\n",
       "      <td>0.0</td>\n",
       "    </tr>\n",
       "  </tbody>\n",
       "</table>\n",
       "</div>"
      ],
      "text/plain": [
       "                 missing_values  % of total\n",
       "Critic_Score               8578        51.0\n",
       "Rating                     6766        40.0\n",
       "User_Score                 6701        40.0\n",
       "Year_of_Release             269         2.0\n",
       "Name                          2         0.0\n",
       "Genre                         2         0.0\n",
       "Platform                      0         0.0\n",
       "NA_sales                      0         0.0\n",
       "EU_sales                      0         0.0\n",
       "JP_sales                      0         0.0\n",
       "Other_sales                   0         0.0"
      ]
     },
     "execution_count": 6,
     "metadata": {},
     "output_type": "execute_result"
    }
   ],
   "source": [
    "report = data.isna().sum().to_frame()\n",
    "report = report.rename(columns = {0: 'missing_values'})\n",
    "report['% of total'] = (report['missing_values'] / data.shape[0]).round(2)*100\n",
    "report.sort_values(by = 'missing_values', ascending = False)"
   ]
  },
  {
   "cell_type": "code",
   "execution_count": 7,
   "metadata": {},
   "outputs": [
    {
     "data": {
      "text/plain": [
       "0"
      ]
     },
     "execution_count": 7,
     "metadata": {},
     "output_type": "execute_result"
    }
   ],
   "source": [
    "data.duplicated().sum()"
   ]
  },
  {
   "cell_type": "markdown",
   "metadata": {},
   "source": [
    "В ходе обзора данных были изучены первые строки датафрейма, его размеры, тип значений столбцов и количество значений в них. После обзора можно сказать, что в датафрейме во некоторых столбцах присутствуют пропуски и указан неправильный тип данных. Явные дубликаты отсутствуют."
   ]
  },
  {
   "cell_type": "markdown",
   "metadata": {},
   "source": [
    "## Предобработка данных"
   ]
  },
  {
   "cell_type": "code",
   "execution_count": 8,
   "metadata": {},
   "outputs": [],
   "source": [
    "data.columns = data.columns.str.lower() #приведём названия столбцов к нижнему регистру"
   ]
  },
  {
   "cell_type": "code",
   "execution_count": 9,
   "metadata": {},
   "outputs": [],
   "source": [
    "data = data.dropna(subset = ['name']) #Удаляем пропуски в столбцах с пропущенным названием и жанром\n",
    "data = data.dropna(subset = ['year_of_release']) #Удаляем пропуски в столбцах с пропущенным годом релиза\n",
    "data['critic_score'] = data['critic_score'].fillna('unknown') #Заполняем пропуски в столбце с оценками критиков медианными значениями\n",
    "data['user_score'] = data['user_score'].replace('tbd', np.NaN) #TBD — сокращение от To Be Determined. Служит для отметки неясностей или пропусков, которые надо заполнить, поэтому переобозначим за пропуск\n",
    "data['user_score'] = data['user_score'].fillna('unknown') #Заполняем пропуски в столбце с оценками пользователей медианными значениями\n",
    "data['rating'] = data['rating'].fillna('unknown')  #Вместо пропусков пишем слово неизвестно (заполнить нельзя, но и удалять тоже, так как количество пропусков слишком велико)\n",
    "data['year_of_release'] = pd.to_datetime(data['year_of_release'], format = '%Y') #Тип данных в столбце с годом меняем на соответсвующий"
   ]
  },
  {
   "cell_type": "markdown",
   "metadata": {},
   "source": [
    "В стобце `name` есть 2 пропуска, но сделать с ними мы ничего не можем, поэтому данные строки удаляем. В столбцах с оценкой критиков/пользователей пишем вместо пропусков unknown. Далее, в столбцах `year_of_release` также удаляем пропуски, а в стобце `rating` вместо пропусков пишем слово неизвестно (заполнить нельзя, но и удалять тоже, так как количество пропусков слишком велико). Причины появления пропусков могут быть различными: возможно просто забыли указать какую-либо информацию, возможно произошла какая-то ошибка при выгрузке данных, а может быть и просто данные не известны (например год выхода игры)"
   ]
  },
  {
   "cell_type": "code",
   "execution_count": 10,
   "metadata": {},
   "outputs": [],
   "source": [
    "data['all_sales'] = data['na_sales'] + data['eu_sales'] + data['jp_sales'] + data['other_sales']"
   ]
  },
  {
   "cell_type": "code",
   "execution_count": 11,
   "metadata": {},
   "outputs": [
    {
     "name": "stdout",
     "output_type": "stream",
     "text": [
      "<class 'pandas.core.frame.DataFrame'>\n",
      "Int64Index: 16444 entries, 0 to 16714\n",
      "Data columns (total 12 columns):\n",
      " #   Column           Non-Null Count  Dtype         \n",
      "---  ------           --------------  -----         \n",
      " 0   name             16444 non-null  object        \n",
      " 1   platform         16444 non-null  object        \n",
      " 2   year_of_release  16444 non-null  datetime64[ns]\n",
      " 3   genre            16444 non-null  object        \n",
      " 4   na_sales         16444 non-null  float64       \n",
      " 5   eu_sales         16444 non-null  float64       \n",
      " 6   jp_sales         16444 non-null  float64       \n",
      " 7   other_sales      16444 non-null  float64       \n",
      " 8   critic_score     16444 non-null  object        \n",
      " 9   user_score       16444 non-null  object        \n",
      " 10  rating           16444 non-null  object        \n",
      " 11  all_sales        16444 non-null  float64       \n",
      "dtypes: datetime64[ns](1), float64(5), object(6)\n",
      "memory usage: 1.6+ MB\n"
     ]
    }
   ],
   "source": [
    "#Проверим \n",
    "data.info()"
   ]
  },
  {
   "cell_type": "code",
   "execution_count": 12,
   "metadata": {},
   "outputs": [
    {
     "data": {
      "text/html": [
       "<div>\n",
       "<style scoped>\n",
       "    .dataframe tbody tr th:only-of-type {\n",
       "        vertical-align: middle;\n",
       "    }\n",
       "\n",
       "    .dataframe tbody tr th {\n",
       "        vertical-align: top;\n",
       "    }\n",
       "\n",
       "    .dataframe thead th {\n",
       "        text-align: right;\n",
       "    }\n",
       "</style>\n",
       "<table border=\"1\" class=\"dataframe\">\n",
       "  <thead>\n",
       "    <tr style=\"text-align: right;\">\n",
       "      <th></th>\n",
       "      <th>missing_values</th>\n",
       "      <th>% of total</th>\n",
       "    </tr>\n",
       "  </thead>\n",
       "  <tbody>\n",
       "    <tr>\n",
       "      <th>name</th>\n",
       "      <td>0</td>\n",
       "      <td>0.0</td>\n",
       "    </tr>\n",
       "    <tr>\n",
       "      <th>platform</th>\n",
       "      <td>0</td>\n",
       "      <td>0.0</td>\n",
       "    </tr>\n",
       "    <tr>\n",
       "      <th>year_of_release</th>\n",
       "      <td>0</td>\n",
       "      <td>0.0</td>\n",
       "    </tr>\n",
       "    <tr>\n",
       "      <th>genre</th>\n",
       "      <td>0</td>\n",
       "      <td>0.0</td>\n",
       "    </tr>\n",
       "    <tr>\n",
       "      <th>na_sales</th>\n",
       "      <td>0</td>\n",
       "      <td>0.0</td>\n",
       "    </tr>\n",
       "    <tr>\n",
       "      <th>eu_sales</th>\n",
       "      <td>0</td>\n",
       "      <td>0.0</td>\n",
       "    </tr>\n",
       "    <tr>\n",
       "      <th>jp_sales</th>\n",
       "      <td>0</td>\n",
       "      <td>0.0</td>\n",
       "    </tr>\n",
       "    <tr>\n",
       "      <th>other_sales</th>\n",
       "      <td>0</td>\n",
       "      <td>0.0</td>\n",
       "    </tr>\n",
       "    <tr>\n",
       "      <th>critic_score</th>\n",
       "      <td>0</td>\n",
       "      <td>0.0</td>\n",
       "    </tr>\n",
       "    <tr>\n",
       "      <th>user_score</th>\n",
       "      <td>0</td>\n",
       "      <td>0.0</td>\n",
       "    </tr>\n",
       "    <tr>\n",
       "      <th>rating</th>\n",
       "      <td>0</td>\n",
       "      <td>0.0</td>\n",
       "    </tr>\n",
       "    <tr>\n",
       "      <th>all_sales</th>\n",
       "      <td>0</td>\n",
       "      <td>0.0</td>\n",
       "    </tr>\n",
       "  </tbody>\n",
       "</table>\n",
       "</div>"
      ],
      "text/plain": [
       "                 missing_values  % of total\n",
       "name                          0         0.0\n",
       "platform                      0         0.0\n",
       "year_of_release               0         0.0\n",
       "genre                         0         0.0\n",
       "na_sales                      0         0.0\n",
       "eu_sales                      0         0.0\n",
       "jp_sales                      0         0.0\n",
       "other_sales                   0         0.0\n",
       "critic_score                  0         0.0\n",
       "user_score                    0         0.0\n",
       "rating                        0         0.0\n",
       "all_sales                     0         0.0"
      ]
     },
     "execution_count": 12,
     "metadata": {},
     "output_type": "execute_result"
    }
   ],
   "source": [
    "report = data.isna().sum().to_frame()\n",
    "report = report.rename(columns = {0: 'missing_values'})\n",
    "report['% of total'] = (report['missing_values'] / data.shape[0]).round(2)*100\n",
    "report.sort_values(by = 'missing_values', ascending = False)"
   ]
  },
  {
   "cell_type": "code",
   "execution_count": 13,
   "metadata": {},
   "outputs": [
    {
     "data": {
      "text/plain": [
       "16444"
      ]
     },
     "execution_count": 13,
     "metadata": {},
     "output_type": "execute_result"
    }
   ],
   "source": [
    "rows_new = len(data.axes[0])\n",
    "rows_new"
   ]
  },
  {
   "cell_type": "code",
   "execution_count": 14,
   "metadata": {},
   "outputs": [
    {
     "data": {
      "text/plain": [
       "1.6212982351181608"
      ]
     },
     "execution_count": 14,
     "metadata": {},
     "output_type": "execute_result"
    }
   ],
   "source": [
    "100-(rows_new/rows*100)"
   ]
  },
  {
   "cell_type": "markdown",
   "metadata": {},
   "source": [
    "Было удалено менее 2% данных из датафрейма, что является допустимым"
   ]
  },
  {
   "cell_type": "markdown",
   "metadata": {},
   "source": [
    "В рамках данного этапа работы были обработаны пропущенные значения, типы данных в стобцах были приведены к корректным и добавлен новый столбец с итоговой прибылью"
   ]
  },
  {
   "cell_type": "markdown",
   "metadata": {},
   "source": [
    "## Исследовательский анализ данных"
   ]
  },
  {
   "cell_type": "markdown",
   "metadata": {},
   "source": [
    "### Количество игр, выпущенные в различные года"
   ]
  },
  {
   "cell_type": "code",
   "execution_count": 15,
   "metadata": {},
   "outputs": [
    {
     "data": {
      "text/plain": [
       "year_of_release\n",
       "1980-01-01       9\n",
       "1981-01-01      46\n",
       "1982-01-01      36\n",
       "1983-01-01      17\n",
       "1984-01-01      14\n",
       "1985-01-01      14\n",
       "1986-01-01      21\n",
       "1987-01-01      16\n",
       "1988-01-01      15\n",
       "1989-01-01      17\n",
       "1990-01-01      16\n",
       "1991-01-01      41\n",
       "1992-01-01      43\n",
       "1993-01-01      60\n",
       "1994-01-01     121\n",
       "1995-01-01     219\n",
       "1996-01-01     263\n",
       "1997-01-01     289\n",
       "1998-01-01     379\n",
       "1999-01-01     338\n",
       "2000-01-01     350\n",
       "2001-01-01     482\n",
       "2002-01-01     829\n",
       "2003-01-01     775\n",
       "2004-01-01     762\n",
       "2005-01-01     939\n",
       "2006-01-01    1006\n",
       "2007-01-01    1197\n",
       "2008-01-01    1427\n",
       "2009-01-01    1426\n",
       "2010-01-01    1255\n",
       "2011-01-01    1136\n",
       "2012-01-01     653\n",
       "2013-01-01     544\n",
       "2014-01-01     581\n",
       "2015-01-01     606\n",
       "2016-01-01     502\n",
       "Name: name, dtype: int64"
      ]
     },
     "execution_count": 15,
     "metadata": {},
     "output_type": "execute_result"
    }
   ],
   "source": [
    "data.groupby('year_of_release')['name'].count() #Количество выпущенных игр в каждый год"
   ]
  },
  {
   "cell_type": "code",
   "execution_count": 16,
   "metadata": {},
   "outputs": [
    {
     "data": {
      "image/png": "[encoded data removed]",
      "text/plain": [
       "<Figure size 1080x504 with 1 Axes>"
      ]
     },
     "metadata": {
      "needs_background": "light"
     },
     "output_type": "display_data"
    }
   ],
   "source": [
    "data.groupby('year_of_release')['name'].count().plot(style = 'o-', figsize = (15, 7), grid = True)\n",
    "plt.title('Количество выпущенных игр по годам')\n",
    "plt.xlabel('Год')\n",
    "plt.ylabel('Количество игр')\n",
    "plt.show()"
   ]
  },
  {
   "cell_type": "markdown",
   "metadata": {},
   "source": [
    "Пик, выпущенных игр приходится 2008-2009 года, далее количество идёт на спад."
   ]
  },
  {
   "cell_type": "markdown",
   "metadata": {},
   "source": [
    "### Продажи по платформам"
   ]
  },
  {
   "cell_type": "code",
   "execution_count": 17,
   "metadata": {},
   "outputs": [
    {
     "data": {
      "text/plain": [
       "platform\n",
       "PS2     1233.56\n",
       "X360     961.24\n",
       "PS3      931.34\n",
       "Wii      891.18\n",
       "DS       802.78\n",
       "PS       727.58\n",
       "PS4      314.14\n",
       "GBA      312.88\n",
       "PSP      289.53\n",
       "3DS      257.81\n",
       "PC       255.76\n",
       "GB       254.43\n",
       "XB       251.57\n",
       "NES      251.05\n",
       "N64      218.01\n",
       "SNES     200.04\n",
       "GC       196.73\n",
       "XOne     159.32\n",
       "2600      86.48\n",
       "WiiU      82.19\n",
       "PSV       53.81\n",
       "SAT       33.59\n",
       "GEN       28.35\n",
       "DC        15.95\n",
       "SCD        1.86\n",
       "NG         1.44\n",
       "WS         1.42\n",
       "TG16       0.16\n",
       "3DO        0.10\n",
       "GG         0.04\n",
       "PCFX       0.03\n",
       "Name: all_sales, dtype: float64"
      ]
     },
     "execution_count": 17,
     "metadata": {},
     "output_type": "execute_result"
    }
   ],
   "source": [
    "data.groupby('platform')['all_sales'].sum().sort_values(ascending = False) #Продажи игр на каждой из платформ"
   ]
  },
  {
   "cell_type": "code",
   "execution_count": 18,
   "metadata": {},
   "outputs": [
    {
     "data": {
      "image/png": "[encoded data removed]",
      "text/plain": [
       "<Figure size 1080x936 with 1 Axes>"
      ]
     },
     "metadata": {
      "needs_background": "light"
     },
     "output_type": "display_data"
    }
   ],
   "source": [
    "data.groupby('platform')['all_sales'].sum().sort_values(ascending = False).plot(kind = 'barh', figsize = (15, 13))\n",
    "plt.xlabel('Продажи')\n",
    "plt.ylabel('Платформа')\n",
    "plt.title('Продажи игр по платформам')\n",
    "plt.show()"
   ]
  },
  {
   "cell_type": "markdown",
   "metadata": {},
   "source": [
    "Наибольшее количество продаж на платформах PS2, X360 и PS3, наименьшее - PCFX.\\\n",
    "Изучим две наиболее популярные платформы"
   ]
  },
  {
   "cell_type": "code",
   "execution_count": 19,
   "metadata": {},
   "outputs": [
    {
     "data": {
      "image/png": "[encoded data removed]",
      "text/plain": [
       "<Figure size 1080x504 with 1 Axes>"
      ]
     },
     "metadata": {
      "needs_background": "light"
     },
     "output_type": "display_data"
    }
   ],
   "source": [
    "data.query('platform == [\"PS2\", \"X360\"]').pivot_table(index='year_of_release', columns = 'platform', values='all_sales', aggfunc='sum').plot(grid=True, figsize=(15, 7), style = 'o-')\n",
    "plt.xlabel('Год')\n",
    "plt.ylabel('Продажи')\n",
    "plt.title('Продажи игр по платформам')\n",
    "plt.show()"
   ]
  },
  {
   "cell_type": "markdown",
   "metadata": {},
   "source": [
    "Срок жизни платформы довольно продолжительный (PS2 появилось раньше 2000 года, и просуществовала до 2011; X360 с 2005 по 2016 год минимум, т.е. 11 лет), однако пик популярности консоли 1-2 года, после чего популярность идёт на спад, ибо выходят новые модели. При этом и до пика, популярность растёт, но не всегда велика, скорее всего это связано с тем, что не все сразу хотят пересаживаться на новые устройства. Поэтому для нашего анализа мы возьмём период в 3 года."
   ]
  },
  {
   "cell_type": "code",
   "execution_count": 20,
   "metadata": {
    "scrolled": false
   },
   "outputs": [
    {
     "data": {
      "image/png": "[encoded data removed]",
      "text/plain": [
       "<Figure size 1080x504 with 1 Axes>"
      ]
     },
     "metadata": {
      "needs_background": "light"
     },
     "output_type": "display_data"
    }
   ],
   "source": [
    "data_1516 = data.query('2014 <= year_of_release <= 2016')\n",
    "data_1516.pivot_table(index='year_of_release', columns = 'platform', values='all_sales', aggfunc='sum').plot(grid=True, figsize=(15, 7))\n",
    "plt.xlabel('Год')\n",
    "plt.ylabel('Продажи')\n",
    "plt.title('Продажи игр по платформам')\n",
    "plt.show()"
   ]
  },
  {
   "cell_type": "code",
   "execution_count": 21,
   "metadata": {},
   "outputs": [
    {
     "data": {
      "text/plain": [
       "platform\n",
       "PS4     288.15\n",
       "XOne    140.36\n",
       "3DS      86.68\n",
       "PS3      68.18\n",
       "X360     48.22\n",
       "WiiU     42.98\n",
       "PC       27.05\n",
       "PSV      22.40\n",
       "Wii       5.07\n",
       "PSP       0.36\n",
       "Name: all_sales, dtype: float64"
      ]
     },
     "execution_count": 21,
     "metadata": {},
     "output_type": "execute_result"
    }
   ],
   "source": [
    "data_1516.groupby('platform')['all_sales'].sum().sort_values(ascending = False) #Продажи игр на каждой из платформ в 2015 - 2016 годах"
   ]
  },
  {
   "cell_type": "markdown",
   "metadata": {},
   "source": [
    "С 2014 по 2015 год у PS4 и XOne продажи росли, далее пошли на спад. У остальных падали на всём периоде, но спад в 15-16 году может быть объяснён не полными данными за 2016 год.\n",
    "Наибольшее число продаж у PS4 и XOne, построим график отдельно для них. Таким образом также отсеется и устаревшая продукция."
   ]
  },
  {
   "cell_type": "code",
   "execution_count": 22,
   "metadata": {
    "scrolled": false
   },
   "outputs": [
    {
     "data": {
      "image/png": "[encoded data removed]",
      "text/plain": [
       "<Figure size 1080x504 with 1 Axes>"
      ]
     },
     "metadata": {
      "needs_background": "light"
     },
     "output_type": "display_data"
    }
   ],
   "source": [
    "data_1516.query('platform == [\"PS4\", \"XOne\"]').pivot_table(index='year_of_release', columns = 'platform', values='all_sales', aggfunc='sum').plot(grid=True, figsize=(15, 7))\n",
    "plt.xlabel('Год')\n",
    "plt.ylabel('Продажи')\n",
    "plt.title('Продажи игр по платформам')\n",
    "plt.show()"
   ]
  },
  {
   "cell_type": "markdown",
   "metadata": {},
   "source": [
    "Исходя из этого графика можно сказать, что наиболее прибыльными платформами стоит считать PS4 и XOne, продажи второго существенно ниже, но всё ещё весомы"
   ]
  },
  {
   "cell_type": "markdown",
   "metadata": {},
   "source": [
    "Новые платформы появляются примерно раз в год, старые перестают использоваться постепенно, за исключением Nintendo, те перестали использоваться в один год."
   ]
  },
  {
   "cell_type": "markdown",
   "metadata": {},
   "source": [
    "### \"Ящик с усами\" по глобальным продажам игр в разбивке по платформам"
   ]
  },
  {
   "cell_type": "code",
   "execution_count": 23,
   "metadata": {},
   "outputs": [
    {
     "data": {
      "image/png": "[encoded data removed]",
      "text/plain": [
       "<Figure size 1080x504 with 1 Axes>"
      ]
     },
     "metadata": {
      "needs_background": "light"
     },
     "output_type": "display_data"
    }
   ],
   "source": [
    "data_1516.boxplot(column = 'all_sales', by = 'platform', figsize = (15, 7))\n",
    "plt.title('Продажи по платформам, диаграмма размаха')\n",
    "plt.xlabel('Платформа')\n",
    "plt.show()"
   ]
  },
  {
   "cell_type": "code",
   "execution_count": 24,
   "metadata": {},
   "outputs": [
    {
     "data": {
      "text/html": [
       "<div>\n",
       "<style scoped>\n",
       "    .dataframe tbody tr th:only-of-type {\n",
       "        vertical-align: middle;\n",
       "    }\n",
       "\n",
       "    .dataframe tbody tr th {\n",
       "        vertical-align: top;\n",
       "    }\n",
       "\n",
       "    .dataframe thead th {\n",
       "        text-align: right;\n",
       "    }\n",
       "</style>\n",
       "<table border=\"1\" class=\"dataframe\">\n",
       "  <thead>\n",
       "    <tr style=\"text-align: right;\">\n",
       "      <th></th>\n",
       "      <th>count</th>\n",
       "      <th>mean</th>\n",
       "      <th>std</th>\n",
       "      <th>min</th>\n",
       "      <th>25%</th>\n",
       "      <th>50%</th>\n",
       "      <th>75%</th>\n",
       "      <th>max</th>\n",
       "    </tr>\n",
       "    <tr>\n",
       "      <th>platform</th>\n",
       "      <th></th>\n",
       "      <th></th>\n",
       "      <th></th>\n",
       "      <th></th>\n",
       "      <th></th>\n",
       "      <th></th>\n",
       "      <th></th>\n",
       "      <th></th>\n",
       "    </tr>\n",
       "  </thead>\n",
       "  <tbody>\n",
       "    <tr>\n",
       "      <th>3DS</th>\n",
       "      <td>212.0</td>\n",
       "      <td>0.408868</td>\n",
       "      <td>1.188368</td>\n",
       "      <td>0.01</td>\n",
       "      <td>0.0300</td>\n",
       "      <td>0.090</td>\n",
       "      <td>0.2500</td>\n",
       "      <td>11.68</td>\n",
       "    </tr>\n",
       "    <tr>\n",
       "      <th>PC</th>\n",
       "      <td>151.0</td>\n",
       "      <td>0.179139</td>\n",
       "      <td>0.329359</td>\n",
       "      <td>0.01</td>\n",
       "      <td>0.0200</td>\n",
       "      <td>0.060</td>\n",
       "      <td>0.2000</td>\n",
       "      <td>3.05</td>\n",
       "    </tr>\n",
       "    <tr>\n",
       "      <th>PS3</th>\n",
       "      <td>219.0</td>\n",
       "      <td>0.311324</td>\n",
       "      <td>0.633059</td>\n",
       "      <td>0.01</td>\n",
       "      <td>0.0400</td>\n",
       "      <td>0.110</td>\n",
       "      <td>0.3250</td>\n",
       "      <td>5.27</td>\n",
       "    </tr>\n",
       "    <tr>\n",
       "      <th>PS4</th>\n",
       "      <td>376.0</td>\n",
       "      <td>0.766356</td>\n",
       "      <td>1.614969</td>\n",
       "      <td>0.01</td>\n",
       "      <td>0.0575</td>\n",
       "      <td>0.185</td>\n",
       "      <td>0.6900</td>\n",
       "      <td>14.63</td>\n",
       "    </tr>\n",
       "    <tr>\n",
       "      <th>PSP</th>\n",
       "      <td>13.0</td>\n",
       "      <td>0.027692</td>\n",
       "      <td>0.027735</td>\n",
       "      <td>0.01</td>\n",
       "      <td>0.0100</td>\n",
       "      <td>0.020</td>\n",
       "      <td>0.0200</td>\n",
       "      <td>0.09</td>\n",
       "    </tr>\n",
       "    <tr>\n",
       "      <th>PSV</th>\n",
       "      <td>295.0</td>\n",
       "      <td>0.075932</td>\n",
       "      <td>0.141591</td>\n",
       "      <td>0.01</td>\n",
       "      <td>0.0200</td>\n",
       "      <td>0.040</td>\n",
       "      <td>0.0900</td>\n",
       "      <td>1.96</td>\n",
       "    </tr>\n",
       "    <tr>\n",
       "      <th>Wii</th>\n",
       "      <td>11.0</td>\n",
       "      <td>0.460909</td>\n",
       "      <td>0.625451</td>\n",
       "      <td>0.01</td>\n",
       "      <td>0.0350</td>\n",
       "      <td>0.180</td>\n",
       "      <td>0.7550</td>\n",
       "      <td>2.01</td>\n",
       "    </tr>\n",
       "    <tr>\n",
       "      <th>WiiU</th>\n",
       "      <td>73.0</td>\n",
       "      <td>0.588767</td>\n",
       "      <td>1.161467</td>\n",
       "      <td>0.01</td>\n",
       "      <td>0.0500</td>\n",
       "      <td>0.190</td>\n",
       "      <td>0.5700</td>\n",
       "      <td>7.09</td>\n",
       "    </tr>\n",
       "    <tr>\n",
       "      <th>X360</th>\n",
       "      <td>111.0</td>\n",
       "      <td>0.434414</td>\n",
       "      <td>0.628967</td>\n",
       "      <td>0.01</td>\n",
       "      <td>0.0700</td>\n",
       "      <td>0.180</td>\n",
       "      <td>0.5050</td>\n",
       "      <td>4.28</td>\n",
       "    </tr>\n",
       "    <tr>\n",
       "      <th>XOne</th>\n",
       "      <td>228.0</td>\n",
       "      <td>0.615614</td>\n",
       "      <td>1.046513</td>\n",
       "      <td>0.01</td>\n",
       "      <td>0.0500</td>\n",
       "      <td>0.205</td>\n",
       "      <td>0.6325</td>\n",
       "      <td>7.39</td>\n",
       "    </tr>\n",
       "  </tbody>\n",
       "</table>\n",
       "</div>"
      ],
      "text/plain": [
       "          count      mean       std   min     25%    50%     75%    max\n",
       "platform                                                               \n",
       "3DS       212.0  0.408868  1.188368  0.01  0.0300  0.090  0.2500  11.68\n",
       "PC        151.0  0.179139  0.329359  0.01  0.0200  0.060  0.2000   3.05\n",
       "PS3       219.0  0.311324  0.633059  0.01  0.0400  0.110  0.3250   5.27\n",
       "PS4       376.0  0.766356  1.614969  0.01  0.0575  0.185  0.6900  14.63\n",
       "PSP        13.0  0.027692  0.027735  0.01  0.0100  0.020  0.0200   0.09\n",
       "PSV       295.0  0.075932  0.141591  0.01  0.0200  0.040  0.0900   1.96\n",
       "Wii        11.0  0.460909  0.625451  0.01  0.0350  0.180  0.7550   2.01\n",
       "WiiU       73.0  0.588767  1.161467  0.01  0.0500  0.190  0.5700   7.09\n",
       "X360      111.0  0.434414  0.628967  0.01  0.0700  0.180  0.5050   4.28\n",
       "XOne      228.0  0.615614  1.046513  0.01  0.0500  0.205  0.6325   7.39"
      ]
     },
     "execution_count": 24,
     "metadata": {},
     "output_type": "execute_result"
    }
   ],
   "source": [
    "data_1516.groupby('platform')['all_sales'].describe()"
   ]
  },
  {
   "cell_type": "code",
   "execution_count": 25,
   "metadata": {},
   "outputs": [
    {
     "data": {
      "image/png": "[encoded data removed]",
      "text/plain": [
       "<Figure size 1080x504 with 1 Axes>"
      ]
     },
     "metadata": {
      "needs_background": "light"
     },
     "output_type": "display_data"
    }
   ],
   "source": [
    "data_1516.boxplot(column = 'all_sales', by = 'platform', figsize = (15, 7), showfliers=False )\n",
    "plt.title('Продажи по платформам, диаграмма размаха')\n",
    "plt.xlabel('Платформа')\n",
    "plt.show()"
   ]
  },
  {
   "cell_type": "markdown",
   "metadata": {},
   "source": [
    "На диаграмме размаха можно наблюдать некоторые значения, которые сильно большие. Однако удалять их не имеет смысла, так как возможно, игра была просто очень популярна. Если смотреть на диаграмму размаха без выбросов, то можно сказать, что медиана не превышает 0.3 млн. продаж. Также можно отметить, что наибольшая верхняя граница у таких платформ как PS4, XOne и WiiU, а значит и количество игр с наибольшим числом продаж там было больше."
   ]
  },
  {
   "cell_type": "markdown",
   "metadata": {},
   "source": [
    "### Влияние на продажи внутри одной популярной платформы отзывы пользователей и критиков"
   ]
  },
  {
   "cell_type": "code",
   "execution_count": 26,
   "metadata": {},
   "outputs": [
    {
     "data": {
      "image/png": "[encoded data removed]",
      "text/plain": [
       "<Figure size 1080x504 with 1 Axes>"
      ]
     },
     "metadata": {
      "needs_background": "light"
     },
     "output_type": "display_data"
    }
   ],
   "source": [
    "data_1516.query('platform == \"PS4\" and critic_score != \"unknown\"').plot(kind = 'scatter', x = 'critic_score', y = 'all_sales', figsize = (15,7))\n",
    "plt.ylabel('Продажи')\n",
    "plt.xlabel('Оценка критиков')\n",
    "plt.title('Зависимость продаж от оценки критиков')\n",
    "plt.show()"
   ]
  },
  {
   "cell_type": "code",
   "execution_count": 27,
   "metadata": {},
   "outputs": [
    {
     "data": {
      "image/png": "[encoded data removed]",
      "text/plain": [
       "<Figure size 1080x504 with 1 Axes>"
      ]
     },
     "metadata": {
      "needs_background": "light"
     },
     "output_type": "display_data"
    }
   ],
   "source": [
    "data_1516.query('platform == \"PS4\" and user_score != \"unknown\"').sort_values(by='user_score').plot(kind = 'scatter', x = 'user_score', y = 'all_sales', figsize = (15,7))\n",
    "plt.ylabel('Продажи')\n",
    "plt.xlabel('Оценка пользователей')\n",
    "plt.title('Зависимость продаж от оценки пользователей')\n",
    "plt.show()"
   ]
  },
  {
   "cell_type": "code",
   "execution_count": 28,
   "metadata": {},
   "outputs": [
    {
     "data": {
      "text/plain": [
       "0.40266141068104083"
      ]
     },
     "execution_count": 28,
     "metadata": {},
     "output_type": "execute_result"
    }
   ],
   "source": [
    "data_ts = data_1516.query('platform == \"PS4\" and critic_score != \"unknown\"')\n",
    "data_ts['all_sales'].corr(data_ts['critic_score'].astype('float'))"
   ]
  },
  {
   "cell_type": "code",
   "execution_count": 29,
   "metadata": {},
   "outputs": [
    {
     "data": {
      "text/plain": [
       "-0.040131589472697356"
      ]
     },
     "execution_count": 29,
     "metadata": {},
     "output_type": "execute_result"
    }
   ],
   "source": [
    "data_ts = data_1516.query('platform == \"PS4\" and user_score != \"unknown\"')\n",
    "data_ts['all_sales'].corr(data_ts['user_score'].astype('float'))"
   ]
  },
  {
   "cell_type": "markdown",
   "metadata": {},
   "source": [
    "Корреляция между отзывами критиков и продажами слабо положительная, между отзывами пользователей и продажами очень слабо отрицательная, а значит мы не будем брать их в расчёт и говорить о какой-либо зависимости"
   ]
  },
  {
   "cell_type": "markdown",
   "metadata": {},
   "source": [
    "### Соотнесём выводы с продажами на других платформах"
   ]
  },
  {
   "cell_type": "code",
   "execution_count": 30,
   "metadata": {},
   "outputs": [
    {
     "data": {
      "image/png": "[encoded data removed]",
      "text/plain": [
       "<Figure size 1080x504 with 1 Axes>"
      ]
     },
     "metadata": {
      "needs_background": "light"
     },
     "output_type": "display_data"
    }
   ],
   "source": [
    "#Проведём те же действиям с двумя другими платформами: XOne и WiiU, а затем сравним результаты\n",
    "data_1516.query('platform == \"XOne\" and critic_score != \"unknown\"').plot(kind = 'scatter', x = 'critic_score', y = 'all_sales', figsize = (15,7))\n",
    "plt.ylabel('Продажи')\n",
    "plt.xlabel('Оценка критиков')\n",
    "plt.title('Зависимость продаж от оценки критиков')\n",
    "plt.show()"
   ]
  },
  {
   "cell_type": "code",
   "execution_count": 31,
   "metadata": {},
   "outputs": [
    {
     "data": {
      "image/png": "[encoded data removed]",
      "text/plain": [
       "<Figure size 1080x504 with 1 Axes>"
      ]
     },
     "metadata": {
      "needs_background": "light"
     },
     "output_type": "display_data"
    }
   ],
   "source": [
    "data_1516.query('platform == \"PS4\" and user_score != \"unknown\"').sort_values(by='user_score').plot(kind = 'scatter', x = 'user_score', y = 'all_sales', figsize = (15,7))\n",
    "plt.ylabel('Продажи')\n",
    "plt.xlabel('Оценка пользователей')\n",
    "plt.title('Зависимость продаж от оценки пользователей')\n",
    "plt.show()"
   ]
  },
  {
   "cell_type": "code",
   "execution_count": 32,
   "metadata": {},
   "outputs": [
    {
     "data": {
      "text/plain": [
       "0.42867694370333226"
      ]
     },
     "execution_count": 32,
     "metadata": {},
     "output_type": "execute_result"
    }
   ],
   "source": [
    "data_ts = data_1516.query('platform == \"XOne\" and critic_score != \"unknown\"')\n",
    "data_ts['all_sales'].corr(data_ts['critic_score'].astype('float'))"
   ]
  },
  {
   "cell_type": "code",
   "execution_count": 33,
   "metadata": {},
   "outputs": [
    {
     "data": {
      "text/plain": [
       "-0.0703839280647581"
      ]
     },
     "execution_count": 33,
     "metadata": {},
     "output_type": "execute_result"
    }
   ],
   "source": [
    "data_ts = data_1516.query('platform == \"XOne\" and user_score != \"unknown\"')\n",
    "data_ts['all_sales'].corr(data_ts['user_score'].astype('float'))"
   ]
  },
  {
   "cell_type": "markdown",
   "metadata": {},
   "source": [
    "Ситуации XOne и PS4 похожи, уровень корелляции одинаковый"
   ]
  },
  {
   "cell_type": "code",
   "execution_count": 34,
   "metadata": {},
   "outputs": [
    {
     "data": {
      "image/png": "[encoded data removed]",
      "text/plain": [
       "<Figure size 1080x504 with 1 Axes>"
      ]
     },
     "metadata": {
      "needs_background": "light"
     },
     "output_type": "display_data"
    }
   ],
   "source": [
    "data_1516.query('platform == \"WiiU\" and critic_score != \"unknown\"').plot(kind = 'scatter', x = 'critic_score', y = 'all_sales', figsize = (15,7))\n",
    "plt.ylabel('Продажи')\n",
    "plt.xlabel('Оценка критиков')\n",
    "plt.title('Зависимость продаж от оценки критиков')\n",
    "plt.show()"
   ]
  },
  {
   "cell_type": "code",
   "execution_count": 35,
   "metadata": {},
   "outputs": [
    {
     "data": {
      "image/png": "[encoded data removed]",
      "text/plain": [
       "<Figure size 1080x504 with 1 Axes>"
      ]
     },
     "metadata": {
      "needs_background": "light"
     },
     "output_type": "display_data"
    }
   ],
   "source": [
    "data_1516.query('platform == \"WiiU\" and user_score != \"unknown\"').sort_values(by='user_score').plot(kind = 'scatter', x = 'user_score', y = 'all_sales', figsize = (15,7))\n",
    "plt.ylabel('Продажи')\n",
    "plt.xlabel('Оценка пользователей')\n",
    "plt.title('Зависимость продаж от оценки пользователей')\n",
    "plt.show()"
   ]
  },
  {
   "cell_type": "code",
   "execution_count": 36,
   "metadata": {},
   "outputs": [
    {
     "data": {
      "text/plain": [
       "0.370201412480884"
      ]
     },
     "execution_count": 36,
     "metadata": {},
     "output_type": "execute_result"
    }
   ],
   "source": [
    "data_ts = data_1516.query('platform == \"WiiU\" and critic_score != \"unknown\"')\n",
    "data_ts['all_sales'].corr(data_ts['critic_score'].astype('float'))"
   ]
  },
  {
   "cell_type": "code",
   "execution_count": 37,
   "metadata": {},
   "outputs": [
    {
     "data": {
      "text/plain": [
       "-0.0703839280647581"
      ]
     },
     "execution_count": 37,
     "metadata": {},
     "output_type": "execute_result"
    }
   ],
   "source": [
    "data_ts = data_1516.query('platform == \"XOne\" and user_score != \"unknown\"')\n",
    "data_ts['all_sales'].corr(data_ts['user_score'].astype('float'))"
   ]
  },
  {
   "cell_type": "markdown",
   "metadata": {},
   "source": [
    "Ситуации трёх изученный консолей похожи, уровень корелляции одинаковый и либо слабый, либо очень слабый, а значит говорить о зависимости между продажами и оценками критиков/пользователей мы не можем"
   ]
  },
  {
   "cell_type": "markdown",
   "metadata": {},
   "source": [
    "### Распределение по жанрам. Прибыльные жанры"
   ]
  },
  {
   "cell_type": "code",
   "execution_count": 38,
   "metadata": {},
   "outputs": [
    {
     "data": {
      "text/plain": [
       "genre\n",
       "Action          619\n",
       "Role-Playing    221\n",
       "Adventure       185\n",
       "Sports          161\n",
       "Shooter         128\n",
       "Misc            113\n",
       "Racing           69\n",
       "Fighting         60\n",
       "Simulation       44\n",
       "Platform         38\n",
       "Strategy         37\n",
       "Puzzle           14\n",
       "Name: name, dtype: int64"
      ]
     },
     "execution_count": 38,
     "metadata": {},
     "output_type": "execute_result"
    }
   ],
   "source": [
    "data_1516.groupby('genre')['name'].count().sort_values(ascending = False)"
   ]
  },
  {
   "cell_type": "code",
   "execution_count": 39,
   "metadata": {},
   "outputs": [
    {
     "data": {
      "text/plain": [
       "Text(0, 0.5, 'Количество игр')"
      ]
     },
     "execution_count": 39,
     "metadata": {},
     "output_type": "execute_result"
    },
    {
     "data": {
      "image/png": "[encoded data removed]",
      "text/plain": [
       "<Figure size 432x288 with 1 Axes>"
      ]
     },
     "metadata": {
      "needs_background": "light"
     },
     "output_type": "display_data"
    }
   ],
   "source": [
    "data_1516.groupby('genre')['all_sales'].count().sort_values(ascending = False).plot(kind = 'bar')\n",
    "plt.title('Игры различных жанров')\n",
    "plt.xlabel('Жанры')\n",
    "plt.ylabel('Количество игр')"
   ]
  },
  {
   "cell_type": "markdown",
   "metadata": {},
   "source": [
    "Больше всего выпущено игр жанра Action, Role-Playing. Меньше всего Puzzle и Strategy"
   ]
  },
  {
   "cell_type": "code",
   "execution_count": 40,
   "metadata": {},
   "outputs": [
    {
     "data": {
      "text/plain": [
       "genre\n",
       "Shooter         0.515\n",
       "Sports          0.180\n",
       "Platform        0.140\n",
       "Fighting        0.125\n",
       "Role-Playing    0.110\n",
       "Simulation      0.100\n",
       "Action          0.090\n",
       "Misc            0.090\n",
       "Racing          0.090\n",
       "Strategy        0.060\n",
       "Puzzle          0.045\n",
       "Adventure       0.030\n",
       "Name: all_sales, dtype: float64"
      ]
     },
     "execution_count": 40,
     "metadata": {},
     "output_type": "execute_result"
    }
   ],
   "source": [
    "data_1516.groupby('genre')['all_sales'].median().sort_values(ascending = False)"
   ]
  },
  {
   "cell_type": "code",
   "execution_count": 41,
   "metadata": {},
   "outputs": [
    {
     "data": {
      "text/plain": [
       "Text(0, 0.5, 'Продажи')"
      ]
     },
     "execution_count": 41,
     "metadata": {},
     "output_type": "execute_result"
    },
    {
     "data": {
      "image/png": "[encoded data removed]",
      "text/plain": [
       "<Figure size 432x288 with 1 Axes>"
      ]
     },
     "metadata": {
      "needs_background": "light"
     },
     "output_type": "display_data"
    }
   ],
   "source": [
    "data_1516.groupby('genre')['all_sales'].median().sort_values(ascending = False).plot(kind = 'bar')\n",
    "plt.title('Продажи по жанрам')\n",
    "plt.xlabel('Жанры')\n",
    "plt.ylabel('Продажи')"
   ]
  },
  {
   "cell_type": "markdown",
   "metadata": {},
   "source": [
    "В среднем наибольшее число продаж у игр жанров Shooter и Sports, наименьшее - Puzzle, Adventure."
   ]
  },
  {
   "cell_type": "markdown",
   "metadata": {},
   "source": [
    "В рамках данного этапа было установлено:\n",
    "1) Пик, выпущенных игр приходится 2008-2009 года, далее количество идёт на спад.\\\n",
    "2) Наибольшее количество продаж на платформах PS2, X360 и PS3, наименьшее - PCFX.\\\n",
    "3) Новые платформы появляются примерно раз в год, старые перестают использоваться постепенно, за исключением Nintendo, те перестали использоваться в один год.\\\n",
    "4) В качестве актуального периода возьмём 2014 - 2016 года и в дальнейшем будем работать только с ними.\\\n",
    "5) Исходя из этого графика можно сказать, что наиболее прибыльными платформами стоит считать PS4 и XOne, продажи второго существенно ниже, но всё ещё весомы.\\\n",
    "6) Был построен \"Ящик с усами\" по глобальным продажам игр в разбивке по платформам.\\\n",
    "7) Ситуации трёх изученный консолей похожи, уровень корелляции одинаковый и либо слабый, либо очень слабый, а значит говорить о зависимости между продажами и оценками критиков/пользователей мы не можем\\\n",
    "8) Если смотреть на диаграмму размаха без выбросов, то можно сказать, что медиана не превышает 0.3 млн. продаж. Также можно отметить, что наибольшая верхняя граница у таких платформ как PS4, XOne и WiiU, а значит и количество игр с наибольшим числом продаж там было больше.\\\n",
    "9) В среднем наибольшее число продаж у игр жанров Shooter и Sports, наименьшее - Puzzle, Adventure.\n"
   ]
  },
  {
   "cell_type": "markdown",
   "metadata": {},
   "source": [
    "## Портрет пользователя каждого региона"
   ]
  },
  {
   "cell_type": "markdown",
   "metadata": {},
   "source": [
    "### Европа"
   ]
  },
  {
   "cell_type": "code",
   "execution_count": 42,
   "metadata": {},
   "outputs": [
    {
     "data": {
      "text/plain": [
       "platform\n",
       "PS4     130.04\n",
       "XOne     46.25\n",
       "PS3      25.54\n",
       "PC       17.97\n",
       "3DS      16.12\n",
       "X360     15.49\n",
       "WiiU     13.15\n",
       "PSV       3.53\n",
       "Wii       2.59\n",
       "PSP       0.00\n",
       "Name: eu_sales, dtype: float64"
      ]
     },
     "execution_count": 42,
     "metadata": {},
     "output_type": "execute_result"
    }
   ],
   "source": [
    "data_1516.groupby('platform')['eu_sales'].sum().sort_values(ascending = False)"
   ]
  },
  {
   "cell_type": "code",
   "execution_count": 43,
   "metadata": {},
   "outputs": [
    {
     "data": {
      "image/png": "[encoded data removed]",
      "text/plain": [
       "<Figure size 1080x504 with 1 Axes>"
      ]
     },
     "metadata": {
      "needs_background": "light"
     },
     "output_type": "display_data"
    }
   ],
   "source": [
    "data_1516.groupby('platform')['eu_sales'].sum().sort_values(ascending = False).plot(kind = 'barh', legend = True, figsize = (15, 7))\n",
    "plt.title('Продажи в зависимости от платформы в Европе')\n",
    "plt.ylabel('Платформа')\n",
    "plt.xlabel('Продажи')\n",
    "plt.show()"
   ]
  },
  {
   "cell_type": "markdown",
   "metadata": {},
   "source": [
    "Наибольшее число продаж для консолей - PS4 и XOne. Далее следует уже устаревшее PS3 и PC"
   ]
  },
  {
   "cell_type": "code",
   "execution_count": 44,
   "metadata": {},
   "outputs": [
    {
     "data": {
      "text/plain": [
       "genre\n",
       "Action          74.68\n",
       "Shooter         65.52\n",
       "Sports          45.73\n",
       "Role-Playing    28.17\n",
       "Racing          14.13\n",
       "Misc            12.86\n",
       "Simulation       7.30\n",
       "Platform         6.80\n",
       "Fighting         6.69\n",
       "Adventure        6.49\n",
       "Strategy         1.79\n",
       "Puzzle           0.52\n",
       "Name: eu_sales, dtype: float64"
      ]
     },
     "execution_count": 44,
     "metadata": {},
     "output_type": "execute_result"
    }
   ],
   "source": [
    "data_1516.groupby('genre')['eu_sales'].sum().sort_values(ascending = False)"
   ]
  },
  {
   "cell_type": "code",
   "execution_count": 45,
   "metadata": {},
   "outputs": [
    {
     "data": {
      "image/png": "[encoded data removed]",
      "text/plain": [
       "<Figure size 1080x504 with 1 Axes>"
      ]
     },
     "metadata": {
      "needs_background": "light"
     },
     "output_type": "display_data"
    }
   ],
   "source": [
    "data_1516.groupby('genre')['eu_sales'].sum().sort_values(ascending = False).plot(kind = 'barh', legend = True, figsize = (15, 7))\n",
    "plt.title('Продажи в зависимости от жанра в Европе')\n",
    "plt.ylabel('Жанр')\n",
    "plt.xlabel('Продажи')\n",
    "plt.show()"
   ]
  },
  {
   "cell_type": "markdown",
   "metadata": {},
   "source": [
    "Самые популярные жанры: Action, Shooter, Sports"
   ]
  },
  {
   "cell_type": "code",
   "execution_count": 46,
   "metadata": {},
   "outputs": [
    {
     "data": {
      "text/plain": [
       "rating\n",
       "M          93.44\n",
       "unknown    58.95\n",
       "E          58.06\n",
       "T          34.07\n",
       "E10+       26.16\n",
       "Name: eu_sales, dtype: float64"
      ]
     },
     "execution_count": 46,
     "metadata": {},
     "output_type": "execute_result"
    }
   ],
   "source": [
    "data_1516.groupby('rating')['eu_sales'].sum().sort_values(ascending = False)"
   ]
  },
  {
   "cell_type": "code",
   "execution_count": 47,
   "metadata": {},
   "outputs": [
    {
     "data": {
      "image/png": "[encoded data removed]",
      "text/plain": [
       "<Figure size 1080x504 with 1 Axes>"
      ]
     },
     "metadata": {
      "needs_background": "light"
     },
     "output_type": "display_data"
    }
   ],
   "source": [
    "data_1516.groupby('rating')['eu_sales'].sum().sort_values(ascending = False).plot(kind = 'barh', legend = True, figsize = (15, 7))\n",
    "plt.title('Продажи в зависимости от рейтинга ESRB')\n",
    "plt.ylabel('Рейтинг')\n",
    "plt.xlabel('Продажи')\n",
    "plt.show()"
   ]
  },
  {
   "cell_type": "markdown",
   "metadata": {},
   "source": [
    "Говорить о зависимости от рейтинга нельзя, т.к. с одной стороны большая доля продаж приходится как на рейтинг для взрослых(M), так и на детский(E), а также довольно для большого числа игр рейтинг не известен"
   ]
  },
  {
   "cell_type": "markdown",
   "metadata": {},
   "source": [
    "### Япония\n"
   ]
  },
  {
   "cell_type": "code",
   "execution_count": 48,
   "metadata": {},
   "outputs": [
    {
     "data": {
      "text/plain": [
       "platform\n",
       "3DS     44.24\n",
       "PS4     15.02\n",
       "PSV     14.54\n",
       "PS3     11.22\n",
       "WiiU     7.31\n",
       "PSP      0.36\n",
       "XOne     0.32\n",
       "X360     0.08\n",
       "PC       0.00\n",
       "Wii      0.00\n",
       "Name: jp_sales, dtype: float64"
      ]
     },
     "execution_count": 48,
     "metadata": {},
     "output_type": "execute_result"
    }
   ],
   "source": [
    "data_1516.groupby('platform')['jp_sales'].sum().sort_values(ascending = False)"
   ]
  },
  {
   "cell_type": "code",
   "execution_count": 49,
   "metadata": {},
   "outputs": [
    {
     "data": {
      "image/png": "[encoded data removed]",
      "text/plain": [
       "<Figure size 1080x504 with 1 Axes>"
      ]
     },
     "metadata": {
      "needs_background": "light"
     },
     "output_type": "display_data"
    }
   ],
   "source": [
    "data_1516.groupby('platform')['jp_sales'].sum().sort_values(ascending = False).plot(kind = 'barh', legend = True, figsize = (15, 7))\n",
    "plt.title('Продажи в зависимости от платформы в Японии')\n",
    "plt.ylabel('Платформа')\n",
    "plt.xlabel('Продажи')\n",
    "plt.show()"
   ]
  },
  {
   "cell_type": "markdown",
   "metadata": {},
   "source": [
    "Наибольшее число продаж для консолей и игровых приставок - Nintendo 3DS и PS4. В отличие от Европы здесь популярен Nintendo, и практически не используется XOne. Xbox исторически не прижился в Японии"
   ]
  },
  {
   "cell_type": "code",
   "execution_count": 50,
   "metadata": {},
   "outputs": [
    {
     "data": {
      "text/plain": [
       "genre\n",
       "Role-Playing    31.16\n",
       "Action          29.58\n",
       "Fighting         6.37\n",
       "Misc             5.61\n",
       "Shooter          4.87\n",
       "Adventure        3.60\n",
       "Sports           3.26\n",
       "Platform         2.69\n",
       "Simulation       2.31\n",
       "Racing           1.76\n",
       "Strategy         0.95\n",
       "Puzzle           0.93\n",
       "Name: jp_sales, dtype: float64"
      ]
     },
     "execution_count": 50,
     "metadata": {},
     "output_type": "execute_result"
    }
   ],
   "source": [
    "data_1516.groupby('genre')['jp_sales'].sum().sort_values(ascending = False)"
   ]
  },
  {
   "cell_type": "code",
   "execution_count": 51,
   "metadata": {},
   "outputs": [
    {
     "data": {
      "image/png": "[encoded data removed]",
      "text/plain": [
       "<Figure size 1080x504 with 1 Axes>"
      ]
     },
     "metadata": {
      "needs_background": "light"
     },
     "output_type": "display_data"
    }
   ],
   "source": [
    "data_1516.groupby('genre')['jp_sales'].sum().sort_values(ascending = False).plot(kind = 'barh', legend = True, figsize = (15, 7))\n",
    "plt.title('Продажи в зависимости от жанра в Японии')\n",
    "plt.ylabel('Жанр')\n",
    "plt.xlabel('Продажи')\n",
    "plt.show()"
   ]
  },
  {
   "cell_type": "markdown",
   "metadata": {},
   "source": [
    "Наибольшее число продаж у жанров Action и Role-Playing"
   ]
  },
  {
   "cell_type": "code",
   "execution_count": 52,
   "metadata": {},
   "outputs": [
    {
     "data": {
      "text/plain": [
       "rating\n",
       "unknown    56.90\n",
       "T          14.78\n",
       "E           8.94\n",
       "M           8.01\n",
       "E10+        4.46\n",
       "Name: jp_sales, dtype: float64"
      ]
     },
     "execution_count": 52,
     "metadata": {},
     "output_type": "execute_result"
    }
   ],
   "source": [
    "data_1516.groupby('rating')['jp_sales'].sum().sort_values(ascending = False)"
   ]
  },
  {
   "cell_type": "code",
   "execution_count": 53,
   "metadata": {},
   "outputs": [
    {
     "data": {
      "image/png": "[encoded data removed]",
      "text/plain": [
       "<Figure size 1080x504 with 1 Axes>"
      ]
     },
     "metadata": {
      "needs_background": "light"
     },
     "output_type": "display_data"
    }
   ],
   "source": [
    "data_1516.groupby('rating')['jp_sales'].sum().sort_values(ascending = False).plot(kind = 'barh', legend = True, figsize = (15, 7))\n",
    "plt.title('Продажи в зависимости от рейтинга ESRB')\n",
    "plt.ylabel('Рейтинг')\n",
    "plt.xlabel('Продажи')\n",
    "plt.show()"
   ]
  },
  {
   "cell_type": "markdown",
   "metadata": {},
   "source": [
    "Говорить о зависимости между рейтингом и продажами нельзя, т.к. у более 60% он неизвестен"
   ]
  },
  {
   "cell_type": "markdown",
   "metadata": {},
   "source": [
    "### Северная Америка"
   ]
  },
  {
   "cell_type": "code",
   "execution_count": 54,
   "metadata": {},
   "outputs": [
    {
     "data": {
      "text/plain": [
       "platform\n",
       "PS4     98.61\n",
       "XOne    81.27\n",
       "X360    28.30\n",
       "3DS     22.64\n",
       "PS3     22.05\n",
       "WiiU    19.36\n",
       "PC       7.23\n",
       "PSV      2.52\n",
       "Wii      2.08\n",
       "PSP      0.00\n",
       "Name: na_sales, dtype: float64"
      ]
     },
     "execution_count": 54,
     "metadata": {},
     "output_type": "execute_result"
    }
   ],
   "source": [
    "data_1516.groupby('platform')['na_sales'].sum().sort_values(ascending = False)"
   ]
  },
  {
   "cell_type": "code",
   "execution_count": 55,
   "metadata": {},
   "outputs": [
    {
     "data": {
      "image/png": "[encoded data removed]",
      "text/plain": [
       "<Figure size 1080x504 with 1 Axes>"
      ]
     },
     "metadata": {
      "needs_background": "light"
     },
     "output_type": "display_data"
    }
   ],
   "source": [
    "data_1516.groupby('platform')['na_sales'].sum().sort_values(ascending = False).plot(kind = 'barh', legend = True, figsize = (15, 7))\n",
    "plt.title('Продажи в зависимости от платформы в Северной Амереке')\n",
    "plt.ylabel('Платформа')\n",
    "plt.xlabel('Продажи')\n",
    "plt.show()"
   ]
  },
  {
   "cell_type": "markdown",
   "metadata": {},
   "source": [
    "Ситуация похожа на Европу: наибольшее число продаж у консолей PS4 и XOne"
   ]
  },
  {
   "cell_type": "code",
   "execution_count": 56,
   "metadata": {},
   "outputs": [
    {
     "data": {
      "text/plain": [
       "genre\n",
       "Shooter         79.02\n",
       "Action          72.53\n",
       "Sports          46.13\n",
       "Role-Playing    33.47\n",
       "Misc            15.05\n",
       "Fighting        12.43\n",
       "Racing           8.74\n",
       "Platform         6.79\n",
       "Adventure        5.64\n",
       "Simulation       2.63\n",
       "Strategy         0.98\n",
       "Puzzle           0.65\n",
       "Name: na_sales, dtype: float64"
      ]
     },
     "execution_count": 56,
     "metadata": {},
     "output_type": "execute_result"
    }
   ],
   "source": [
    "data_1516.groupby('genre')['na_sales'].sum().sort_values(ascending = False)"
   ]
  },
  {
   "cell_type": "code",
   "execution_count": 57,
   "metadata": {},
   "outputs": [
    {
     "data": {
      "image/png": "[encoded data removed]",
      "text/plain": [
       "<Figure size 1080x504 with 1 Axes>"
      ]
     },
     "metadata": {
      "needs_background": "light"
     },
     "output_type": "display_data"
    }
   ],
   "source": [
    "data_1516.groupby('genre')['na_sales'].sum().sort_values(ascending = False).plot(kind = 'barh', legend = True, figsize = (15, 7))\n",
    "plt.title('Продажи в зависимости от жанра в Северной Амереке')\n",
    "plt.ylabel('Жанр')\n",
    "plt.xlabel('Продажи')\n",
    "plt.show()"
   ]
  },
  {
   "cell_type": "markdown",
   "metadata": {},
   "source": [
    "Самые популярные жанры: Shooter, Action, Sports"
   ]
  },
  {
   "cell_type": "code",
   "execution_count": 58,
   "metadata": {},
   "outputs": [
    {
     "data": {
      "text/plain": [
       "rating\n",
       "M          96.42\n",
       "unknown    64.72\n",
       "E          50.74\n",
       "T          38.95\n",
       "E10+       33.23\n",
       "Name: na_sales, dtype: float64"
      ]
     },
     "execution_count": 58,
     "metadata": {},
     "output_type": "execute_result"
    }
   ],
   "source": [
    "data_1516.groupby('rating')['na_sales'].sum().sort_values(ascending = False)"
   ]
  },
  {
   "cell_type": "code",
   "execution_count": 59,
   "metadata": {},
   "outputs": [
    {
     "data": {
      "image/png": "[encoded data removed]",
      "text/plain": [
       "<Figure size 1080x504 with 1 Axes>"
      ]
     },
     "metadata": {
      "needs_background": "light"
     },
     "output_type": "display_data"
    }
   ],
   "source": [
    "data_1516.groupby('rating')['na_sales'].sum().sort_values(ascending = False).plot(kind = 'barh', legend = True, figsize = (15, 7))\n",
    "plt.title('Продажи в зависимости от рейтинга ESRB')\n",
    "plt.ylabel('Рейтинг')\n",
    "plt.xlabel('Продажи')\n",
    "plt.show()"
   ]
  },
  {
   "cell_type": "markdown",
   "metadata": {},
   "source": [
    "Говорить о зависимости от рейтинга нельзя, т.к. с одной стороны большая доля продаж приходится как на рейтинг для взрослых(M), так и на детский(E), а также довольно для большого числа игр рейтинг не известен"
   ]
  },
  {
   "cell_type": "markdown",
   "metadata": {},
   "source": [
    "Промежуточные выводы:\n",
    "Портреты пользователей Северной Америки и Европы совпадают: наибольшее число продаж у консолей PS4 и XOne, самые популярные жанры: Shooter, Action, Sports. Японцы же отличаются: Наибольшее число продаж для консолей и игровых приставок - Nintendo 3DS и PS4., а наиболее популярные жанры: Action и Role-Playing\\\n",
    "Говорить о зависимости между возрастным рейтингом и продажами нельзя ни в одном из регионов"
   ]
  },
  {
   "cell_type": "markdown",
   "metadata": {},
   "source": [
    "## Проверка гипотез"
   ]
  },
  {
   "cell_type": "markdown",
   "metadata": {},
   "source": [
    "### Первая гипотеза\n",
    "Гипотеза H0: Средние пользовательские рейтинги платформ Xbox One и PC одинаковые\\\n",
    "Альтернативная: Средние пользовательские рейтинги платформ Xbox One и PC не равны"
   ]
  },
  {
   "cell_type": "code",
   "execution_count": 60,
   "metadata": {},
   "outputs": [
    {
     "name": "stdout",
     "output_type": "stream",
     "text": [
      "p-value: 0.10450507919348415\n",
      "Нет оснований отвергнуть нулевую гипотезу\n"
     ]
    }
   ],
   "source": [
    "results = scipy.stats.ttest_ind(data_1516.query('platform == \"PC\" and user_score != \"unknown\"')['user_score'].astype('float'), data_1516.query('platform == \"XOne\" and user_score != \"unknown\"')['user_score'].astype('float'))\n",
    "\n",
    "alpha = 0.05 #Задаём уровень статистической важности\n",
    "print(f'p-value: {results.pvalue}')\n",
    "if results.pvalue < alpha:\n",
    "    print('Отвергаем нулевую гипотезу.')\n",
    "else:\n",
    "    print('Нет оснований отвергнуть нулевую гипотезу')"
   ]
  },
  {
   "cell_type": "markdown",
   "metadata": {},
   "source": [
    "Раз нет оснований отвергать нулевую гипотезу, то есть основания говорить, что средние пользовательские рейтинги платформ Xbox One и PC одинаковые"
   ]
  },
  {
   "cell_type": "markdown",
   "metadata": {},
   "source": [
    "### Вторая гипотеза\n",
    "Гипотеза H0: Средние пользовательские рейтинги жанров Action (англ. «действие», экшен-игры) и Sports (англ. «спортивные соревнования») одинаковые. \\\n",
    "Альтернативная: Средние пользовательские рейтинги жанров Action (англ. «действие», экшен-игры) и Sports (англ. «спортивные соревнования») разные."
   ]
  },
  {
   "cell_type": "code",
   "execution_count": 61,
   "metadata": {},
   "outputs": [
    {
     "name": "stdout",
     "output_type": "stream",
     "text": [
      "p-value: 2.8711147985105864e-19\n",
      "Отвергаем нулевую гипотезу.\n"
     ]
    }
   ],
   "source": [
    "results = scipy.stats.ttest_ind(data_1516.query('genre == \"Action\" and user_score != \"unknown\"')['user_score'].astype('float'), data_1516.query('genre == \"Sports\"and user_score != \"unknown\"')['user_score'].astype('float'))\n",
    "\n",
    "alpha = 0.05 #Задаём уровень статистической важности\n",
    "print(f'p-value: {results.pvalue}')\n",
    "if results.pvalue < alpha:\n",
    "    print('Отвергаем нулевую гипотезу.')\n",
    "else:\n",
    "    print('Нет оснований отвергнуть нулевую гипотезу')"
   ]
  },
  {
   "cell_type": "markdown",
   "metadata": {},
   "source": [
    "Раз мы отвергаем нулевую гипотезу, то есть основания полагать, что  Средние пользовательские рейтинги жанров Action (англ. «действие», экшен-игры) и Sports (англ. «спортивные соревнования») разные."
   ]
  },
  {
   "cell_type": "markdown",
   "metadata": {},
   "source": [
    "Для проверки гипотез я использовал `scipy.stats.ttest_ind`, т.к. у нас есть две независимые совокупности, чьи средние мы сравниваем"
   ]
  },
  {
   "cell_type": "markdown",
   "metadata": {},
   "source": [
    "## Вывод"
   ]
  },
  {
   "cell_type": "markdown",
   "metadata": {},
   "source": [
    "В рамках данной работы был изучен датафрейм с данными интернет-магазина по продаже компьютерных игр. Датафрейм были проверен на пропуски и дубликаты. Пропуски были обработны, дубликаты не обнаружены. Далее были проанализированы данные. Основные выводы:\n",
    "1) Пик, выпущенных игр приходится 2008-2009 года, далее количество идёт на спад.\\\n",
    "2) Наибольшее количество продаж на платформах PS2, X360 и PS3, наименьшее - PCFX.\\\n",
    "3) Новые платформы появляются примерно раз в год, старые перестают использоваться постепенно, за исключением Nintendo, те перестали использоваться в один год.\\\n",
    "4) В качестве актуального периода возьмём 2014 - 2016 года и в дальнейшем будем работать только с ними.\\\n",
    "5) Исходя из этого графика можно сказать, что наиболее прибыльными платформами стоит считать PS4 и XOne, продажи второго существенно ниже, но всё ещё весомы.\\\n",
    "6) Был построен \"Ящик с усами\" по глобальным продажам игр в разбивке по платформам.\\\n",
    "7) Ситуации трёх изученный консолей похожи, уровень корелляции одинаковый и либо слабый, либо очень слабый, а значит говорить о зависимости между продажами и оценками критиков/пользователей мы не можем\\\n",
    "8) Если смотреть на диаграмму размаха без выбросов, то можно сказать, что медиана не превышает 0.3 млн. продаж. Также можно отметить, что наибольшая верхняя граница у таких платформ как PS4, XOne и WiiU, а значит и количество игр с наибольшим числом продаж там было больше.\\\n",
    "9) В среднем наибольшее число продаж у игр жанров Shooter и Sports, наименьшее - Puzzle, Adventure.\\\n",
    "\\\n",
    "Портреты пользователей Северной Америки и Европы совпадают: наибольшее число продаж у консолей PS4 и XOne, самые популярные жанры: Shooter, Action, Sports. Японцы же отличаются: Наибольшее число продаж для консолей и игровых приставок - Nintendo 3DS и PS4., а наиболее популярные жанры: Action и Role-Playing. Говорить о зависимости между возрастным рейтингом и продажами нельзя ни в одном из регионов.\\\n",
    "И наконец были проверены две гипотезы:\n",
    "1) Средние пользовательские рейтинги жанров Action (англ. «действие», экшен-игры) и Sports (англ. «спортивные соревнования») одинаковые. - мы отвергаем нулевую гипотезу, то есть основания полагать, что Средние пользовательские рейтинги жанров Action (англ. «действие», экшен-игры) и Sports (англ. «спортивные соревнования») разные.\\\n",
    "2) Средние пользовательские рейтинги платформ Xbox One и PC одинаковые - нет оснований отвергать нулевую гипотезу, то есть основания говорить, что средние пользовательские рейтинги платформ Xbox One и PC одинаковые\\\n",
    "\\\n",
    "В 2017 году в плане платформ стоить обратить внимание на две: XOne и PS4, они наиболее популярные на данный момент, однако если говорить про Японию, то можно подумать и про Nintendo 3DS (PS4 популярна во всех регионах). В плане жанров стоит обратить внимание на Action, он встречался во всех 3-х проанализированных регионах, либо же Shooter и Sports для СА и Европы / Role-Playing для Японии"
   ]
  }
 ],
 "metadata": {
  "ExecuteTimeLog": [
   {
    "duration": 403,
    "start_time": "2024-02-06T18:22:54.362Z"
   },
   {
    "duration": 113,
    "start_time": "2024-02-06T18:23:01.671Z"
   },
   {
    "duration": 3,
    "start_time": "2024-02-06T18:23:08.468Z"
   },
   {
    "duration": 14,
    "start_time": "2024-02-06T18:23:13.530Z"
   },
   {
    "duration": 11,
    "start_time": "2024-02-06T19:55:49.729Z"
   },
   {
    "duration": 17,
    "start_time": "2024-02-06T19:55:56.615Z"
   },
   {
    "duration": 20,
    "start_time": "2024-02-06T19:56:01.754Z"
   },
   {
    "duration": 3,
    "start_time": "2024-02-06T20:01:51.554Z"
   },
   {
    "duration": 22,
    "start_time": "2024-02-06T20:01:56.122Z"
   },
   {
    "duration": 3,
    "start_time": "2024-02-06T20:01:59.866Z"
   },
   {
    "duration": 6,
    "start_time": "2024-02-06T20:05:07.624Z"
   },
   {
    "duration": 45,
    "start_time": "2024-02-06T20:05:34.290Z"
   },
   {
    "duration": 78,
    "start_time": "2024-02-06T20:11:19.570Z"
   },
   {
    "duration": 12,
    "start_time": "2024-02-06T20:11:34.377Z"
   },
   {
    "duration": 20,
    "start_time": "2024-02-06T20:12:20.699Z"
   },
   {
    "duration": 10,
    "start_time": "2024-02-06T20:12:42.780Z"
   },
   {
    "duration": 15,
    "start_time": "2024-02-06T20:13:18.339Z"
   },
   {
    "duration": 4,
    "start_time": "2024-02-06T20:17:49.987Z"
   },
   {
    "duration": 5,
    "start_time": "2024-02-06T20:17:58.969Z"
   },
   {
    "duration": 10,
    "start_time": "2024-02-06T20:18:11.660Z"
   },
   {
    "duration": 6,
    "start_time": "2024-02-06T20:18:45.639Z"
   },
   {
    "duration": 6,
    "start_time": "2024-02-06T20:18:55.387Z"
   },
   {
    "duration": 9,
    "start_time": "2024-02-06T20:18:57.979Z"
   },
   {
    "duration": 18,
    "start_time": "2024-02-06T20:19:03.117Z"
   },
   {
    "duration": 4,
    "start_time": "2024-02-06T20:19:11.198Z"
   },
   {
    "duration": 18,
    "start_time": "2024-02-06T20:41:24.367Z"
   },
   {
    "duration": 2,
    "start_time": "2024-02-06T20:41:36.843Z"
   },
   {
    "duration": 20,
    "start_time": "2024-02-06T20:41:38.955Z"
   },
   {
    "duration": 13,
    "start_time": "2024-02-06T20:41:44.502Z"
   },
   {
    "duration": 11,
    "start_time": "2024-02-06T20:41:51.284Z"
   },
   {
    "duration": 8,
    "start_time": "2024-02-06T20:41:54.872Z"
   },
   {
    "duration": 375,
    "start_time": "2024-02-06T20:42:39.990Z"
   },
   {
    "duration": 69,
    "start_time": "2024-02-06T20:42:40.367Z"
   },
   {
    "duration": 4,
    "start_time": "2024-02-06T20:42:40.437Z"
   },
   {
    "duration": 17,
    "start_time": "2024-02-06T20:42:40.442Z"
   },
   {
    "duration": 8,
    "start_time": "2024-02-06T20:42:40.461Z"
   },
   {
    "duration": 20,
    "start_time": "2024-02-06T20:42:40.471Z"
   },
   {
    "duration": 2,
    "start_time": "2024-02-06T20:42:40.493Z"
   },
   {
    "duration": 20,
    "start_time": "2024-02-06T20:42:40.497Z"
   },
   {
    "duration": 24,
    "start_time": "2024-02-06T20:42:40.518Z"
   },
   {
    "duration": 8,
    "start_time": "2024-02-06T20:42:40.543Z"
   },
   {
    "duration": 49,
    "start_time": "2024-02-07T17:20:28.036Z"
   },
   {
    "duration": 385,
    "start_time": "2024-02-07T17:20:32.916Z"
   },
   {
    "duration": 223,
    "start_time": "2024-02-07T17:20:33.302Z"
   },
   {
    "duration": 371,
    "start_time": "2024-02-07T17:20:36.848Z"
   },
   {
    "duration": 73,
    "start_time": "2024-02-07T17:20:37.611Z"
   },
   {
    "duration": 4,
    "start_time": "2024-02-07T17:20:39.037Z"
   },
   {
    "duration": 15,
    "start_time": "2024-02-07T17:20:39.328Z"
   },
   {
    "duration": 10,
    "start_time": "2024-02-07T17:20:40.762Z"
   },
   {
    "duration": 16,
    "start_time": "2024-02-07T17:20:41.419Z"
   },
   {
    "duration": 4,
    "start_time": "2024-02-07T17:20:43.380Z"
   },
   {
    "duration": 25,
    "start_time": "2024-02-07T17:20:43.869Z"
   },
   {
    "duration": 6,
    "start_time": "2024-02-07T17:20:45.271Z"
   },
   {
    "duration": 13,
    "start_time": "2024-02-07T17:20:46.679Z"
   },
   {
    "duration": 10,
    "start_time": "2024-02-07T17:20:48.271Z"
   },
   {
    "duration": 21,
    "start_time": "2024-02-07T17:21:05.290Z"
   },
   {
    "duration": 4,
    "start_time": "2024-02-07T17:21:41.809Z"
   },
   {
    "duration": 410,
    "start_time": "2024-02-07T17:23:03.537Z"
   },
   {
    "duration": 75,
    "start_time": "2024-02-07T17:23:03.949Z"
   },
   {
    "duration": 4,
    "start_time": "2024-02-07T17:23:04.806Z"
   },
   {
    "duration": 14,
    "start_time": "2024-02-07T17:23:05.164Z"
   },
   {
    "duration": 9,
    "start_time": "2024-02-07T17:23:05.549Z"
   },
   {
    "duration": 16,
    "start_time": "2024-02-07T17:23:06.444Z"
   },
   {
    "duration": 3,
    "start_time": "2024-02-07T17:23:07.156Z"
   },
   {
    "duration": 21,
    "start_time": "2024-02-07T17:23:07.969Z"
   },
   {
    "duration": 4,
    "start_time": "2024-02-07T17:23:08.743Z"
   },
   {
    "duration": 14,
    "start_time": "2024-02-07T17:23:09.155Z"
   },
   {
    "duration": 10,
    "start_time": "2024-02-07T17:23:10.443Z"
   },
   {
    "duration": 3,
    "start_time": "2024-02-07T17:23:11.941Z"
   },
   {
    "duration": 4,
    "start_time": "2024-02-07T17:23:27.785Z"
   },
   {
    "duration": 15,
    "start_time": "2024-02-07T17:24:29.398Z"
   },
   {
    "duration": 8,
    "start_time": "2024-02-07T17:27:14.084Z"
   },
   {
    "duration": 627,
    "start_time": "2024-02-07T17:29:01.120Z"
   },
   {
    "duration": 3,
    "start_time": "2024-02-07T17:30:03.547Z"
   },
   {
    "duration": 231,
    "start_time": "2024-02-07T17:30:43.186Z"
   },
   {
    "duration": 304,
    "start_time": "2024-02-07T17:33:36.161Z"
   },
   {
    "duration": 5,
    "start_time": "2024-02-07T17:40:41.869Z"
   },
   {
    "duration": 134,
    "start_time": "2024-02-07T17:41:41.635Z"
   },
   {
    "duration": 289,
    "start_time": "2024-02-07T17:41:58.132Z"
   },
   {
    "duration": 342,
    "start_time": "2024-02-07T17:42:11.434Z"
   },
   {
    "duration": 335,
    "start_time": "2024-02-07T17:42:29.329Z"
   },
   {
    "duration": 338,
    "start_time": "2024-02-07T17:42:40.106Z"
   },
   {
    "duration": 161,
    "start_time": "2024-02-07T17:46:26.656Z"
   },
   {
    "duration": 73,
    "start_time": "2024-02-07T17:49:15.812Z"
   },
   {
    "duration": 363,
    "start_time": "2024-02-07T17:49:31.561Z"
   },
   {
    "duration": 294,
    "start_time": "2024-02-07T17:49:36.226Z"
   },
   {
    "duration": 301,
    "start_time": "2024-02-07T17:49:40.039Z"
   },
   {
    "duration": 351,
    "start_time": "2024-02-07T17:49:48.295Z"
   },
   {
    "duration": 253,
    "start_time": "2024-02-07T17:54:19.121Z"
   },
   {
    "duration": 8,
    "start_time": "2024-02-07T17:55:11.958Z"
   },
   {
    "duration": 22,
    "start_time": "2024-02-07T17:56:01.440Z"
   },
   {
    "duration": 8,
    "start_time": "2024-02-07T17:56:48.471Z"
   },
   {
    "duration": 8,
    "start_time": "2024-02-07T17:56:55.419Z"
   },
   {
    "duration": 267,
    "start_time": "2024-02-07T18:01:16.717Z"
   },
   {
    "duration": 286,
    "start_time": "2024-02-07T18:02:06.500Z"
   },
   {
    "duration": 276,
    "start_time": "2024-02-07T18:02:28.847Z"
   },
   {
    "duration": 400,
    "start_time": "2024-02-07T18:02:34.263Z"
   },
   {
    "duration": 4815,
    "start_time": "2024-02-07T18:06:15.817Z"
   },
   {
    "duration": 628,
    "start_time": "2024-02-07T18:07:16.413Z"
   },
   {
    "duration": 350,
    "start_time": "2024-02-07T18:07:35.188Z"
   },
   {
    "duration": 434,
    "start_time": "2024-02-07T18:07:46.516Z"
   },
   {
    "duration": 275,
    "start_time": "2024-02-07T18:10:44.368Z"
   },
   {
    "duration": 22,
    "start_time": "2024-02-07T18:13:46.850Z"
   },
   {
    "duration": 162,
    "start_time": "2024-02-07T18:14:26.643Z"
   },
   {
    "duration": 11,
    "start_time": "2024-02-07T18:14:32.611Z"
   },
   {
    "duration": 3,
    "start_time": "2024-02-07T18:15:10.613Z"
   },
   {
    "duration": 28,
    "start_time": "2024-02-07T18:15:15.984Z"
   },
   {
    "duration": 26,
    "start_time": "2024-02-07T18:15:36.225Z"
   },
   {
    "duration": 19,
    "start_time": "2024-02-07T18:27:12.956Z"
   },
   {
    "duration": 15,
    "start_time": "2024-02-07T18:27:25.096Z"
   },
   {
    "duration": 211,
    "start_time": "2024-02-07T18:27:38.399Z"
   },
   {
    "duration": 6,
    "start_time": "2024-02-07T18:29:16.041Z"
   },
   {
    "duration": 114,
    "start_time": "2024-02-07T18:42:46.167Z"
   },
   {
    "duration": 9,
    "start_time": "2024-02-07T18:42:52.247Z"
   },
   {
    "duration": 214,
    "start_time": "2024-02-07T18:47:07.187Z"
   },
   {
    "duration": 241,
    "start_time": "2024-02-07T18:48:54.789Z"
   },
   {
    "duration": 3,
    "start_time": "2024-02-07T18:50:02.959Z"
   },
   {
    "duration": 30,
    "start_time": "2024-02-07T18:50:07.674Z"
   },
   {
    "duration": 27,
    "start_time": "2024-02-07T19:18:37.717Z"
   },
   {
    "duration": 26,
    "start_time": "2024-02-07T19:18:59.010Z"
   },
   {
    "duration": 135,
    "start_time": "2024-02-07T19:19:15.956Z"
   },
   {
    "duration": 141,
    "start_time": "2024-02-07T19:20:42.782Z"
   },
   {
    "duration": 158,
    "start_time": "2024-02-07T19:21:02.973Z"
   },
   {
    "duration": 8,
    "start_time": "2024-02-07T19:30:05.262Z"
   },
   {
    "duration": 6,
    "start_time": "2024-02-07T19:30:14.237Z"
   },
   {
    "duration": 83,
    "start_time": "2024-02-07T19:47:22.454Z"
   },
   {
    "duration": 275,
    "start_time": "2024-02-07T20:14:00.754Z"
   },
   {
    "duration": 11,
    "start_time": "2024-02-07T20:16:55.001Z"
   },
   {
    "duration": 53,
    "start_time": "2024-02-07T20:16:57.184Z"
   },
   {
    "duration": 8,
    "start_time": "2024-02-07T20:22:44.858Z"
   },
   {
    "duration": 8,
    "start_time": "2024-02-07T20:22:58.913Z"
   },
   {
    "duration": 40,
    "start_time": "2024-02-07T20:23:02.978Z"
   },
   {
    "duration": 385,
    "start_time": "2024-02-07T20:31:10.659Z"
   },
   {
    "duration": 250,
    "start_time": "2024-02-07T20:31:22.608Z"
   },
   {
    "duration": 255,
    "start_time": "2024-02-07T20:31:33.200Z"
   },
   {
    "duration": 5,
    "start_time": "2024-02-07T20:40:05.361Z"
   },
   {
    "duration": 7,
    "start_time": "2024-02-07T20:40:24.331Z"
   },
   {
    "duration": 9,
    "start_time": "2024-02-07T20:40:35.768Z"
   },
   {
    "duration": 7,
    "start_time": "2024-02-07T20:40:47.343Z"
   },
   {
    "duration": 7,
    "start_time": "2024-02-07T20:40:52.951Z"
   },
   {
    "duration": 158,
    "start_time": "2024-02-07T20:54:23.570Z"
   },
   {
    "duration": 7,
    "start_time": "2024-02-07T20:55:59.481Z"
   },
   {
    "duration": 157,
    "start_time": "2024-02-07T20:56:55.199Z"
   },
   {
    "duration": 6,
    "start_time": "2024-02-07T20:59:21.352Z"
   },
   {
    "duration": 169,
    "start_time": "2024-02-07T20:59:22.571Z"
   },
   {
    "duration": 8,
    "start_time": "2024-02-07T21:32:04.047Z"
   },
   {
    "duration": 7,
    "start_time": "2024-02-07T21:32:12.884Z"
   },
   {
    "duration": 8,
    "start_time": "2024-02-07T21:32:22.423Z"
   },
   {
    "duration": 6,
    "start_time": "2024-02-07T21:32:47.872Z"
   },
   {
    "duration": 132,
    "start_time": "2024-02-07T21:33:20.721Z"
   },
   {
    "duration": 107,
    "start_time": "2024-02-07T21:33:28.287Z"
   },
   {
    "duration": 237,
    "start_time": "2024-02-07T21:33:35.891Z"
   },
   {
    "duration": 264,
    "start_time": "2024-02-07T21:33:45.978Z"
   },
   {
    "duration": 291,
    "start_time": "2024-02-07T21:35:14.277Z"
   },
   {
    "duration": 269,
    "start_time": "2024-02-07T21:35:49.548Z"
   },
   {
    "duration": 7,
    "start_time": "2024-02-07T21:38:45.593Z"
   },
   {
    "duration": 342,
    "start_time": "2024-02-07T21:38:54.771Z"
   },
   {
    "duration": 332,
    "start_time": "2024-02-07T21:39:02.284Z"
   },
   {
    "duration": 5,
    "start_time": "2024-02-07T21:45:19.981Z"
   },
   {
    "duration": 164,
    "start_time": "2024-02-07T21:46:17.815Z"
   },
   {
    "duration": 6,
    "start_time": "2024-02-07T21:50:51.438Z"
   },
   {
    "duration": 239,
    "start_time": "2024-02-07T21:51:01.695Z"
   },
   {
    "duration": 242,
    "start_time": "2024-02-07T21:51:19.510Z"
   },
   {
    "duration": 7,
    "start_time": "2024-02-07T21:54:17.342Z"
   },
   {
    "duration": 313,
    "start_time": "2024-02-07T21:54:37.775Z"
   },
   {
    "duration": 6,
    "start_time": "2024-02-07T22:08:19.508Z"
   },
   {
    "duration": 195,
    "start_time": "2024-02-07T22:08:34.250Z"
   },
   {
    "duration": 189,
    "start_time": "2024-02-07T22:08:44.179Z"
   },
   {
    "duration": 6,
    "start_time": "2024-02-07T22:11:31.350Z"
   },
   {
    "duration": 270,
    "start_time": "2024-02-07T22:11:50.640Z"
   },
   {
    "duration": 6,
    "start_time": "2024-02-07T22:12:48.884Z"
   },
   {
    "duration": 6,
    "start_time": "2024-02-07T22:13:09.752Z"
   },
   {
    "duration": 301,
    "start_time": "2024-02-07T22:13:14.764Z"
   },
   {
    "duration": 305,
    "start_time": "2024-02-07T22:13:26.756Z"
   },
   {
    "duration": 6,
    "start_time": "2024-02-07T22:15:11.291Z"
   },
   {
    "duration": 167,
    "start_time": "2024-02-07T22:15:28.853Z"
   },
   {
    "duration": 371,
    "start_time": "2024-02-07T22:19:54.827Z"
   },
   {
    "duration": 8,
    "start_time": "2024-02-07T22:21:54.742Z"
   },
   {
    "duration": 9,
    "start_time": "2024-02-07T22:26:31.642Z"
   },
   {
    "duration": 96,
    "start_time": "2024-02-07T22:26:45.577Z"
   },
   {
    "duration": 624,
    "start_time": "2024-02-08T11:07:09.874Z"
   },
   {
    "duration": 107,
    "start_time": "2024-02-08T11:07:10.500Z"
   },
   {
    "duration": 5,
    "start_time": "2024-02-08T11:07:10.610Z"
   },
   {
    "duration": 55,
    "start_time": "2024-02-08T11:07:10.616Z"
   },
   {
    "duration": 16,
    "start_time": "2024-02-08T11:07:10.672Z"
   },
   {
    "duration": 22,
    "start_time": "2024-02-08T11:07:10.690Z"
   },
   {
    "duration": 7,
    "start_time": "2024-02-08T11:07:10.714Z"
   },
   {
    "duration": 27,
    "start_time": "2024-02-08T11:07:10.723Z"
   },
   {
    "duration": 11,
    "start_time": "2024-02-08T11:07:10.753Z"
   },
   {
    "duration": 45,
    "start_time": "2024-02-08T11:07:10.765Z"
   },
   {
    "duration": 15,
    "start_time": "2024-02-08T11:07:10.811Z"
   },
   {
    "duration": 29,
    "start_time": "2024-02-08T11:07:10.828Z"
   },
   {
    "duration": 16,
    "start_time": "2024-02-08T11:07:10.859Z"
   },
   {
    "duration": 30,
    "start_time": "2024-02-08T11:07:10.876Z"
   },
   {
    "duration": 292,
    "start_time": "2024-02-08T11:07:10.908Z"
   },
   {
    "duration": 17,
    "start_time": "2024-02-08T11:07:11.201Z"
   },
   {
    "duration": 307,
    "start_time": "2024-02-08T11:07:11.220Z"
   },
   {
    "duration": 477,
    "start_time": "2024-02-08T11:07:11.528Z"
   },
   {
    "duration": 14,
    "start_time": "2024-02-08T11:07:12.007Z"
   },
   {
    "duration": 228,
    "start_time": "2024-02-08T11:07:12.024Z"
   },
   {
    "duration": 256,
    "start_time": "2024-02-08T11:07:12.253Z"
   },
   {
    "duration": 47,
    "start_time": "2024-02-08T11:07:12.510Z"
   },
   {
    "duration": 199,
    "start_time": "2024-02-08T11:07:12.558Z"
   },
   {
    "duration": 168,
    "start_time": "2024-02-08T11:07:12.759Z"
   },
   {
    "duration": 8,
    "start_time": "2024-02-08T11:07:12.929Z"
   },
   {
    "duration": 25,
    "start_time": "2024-02-08T11:07:12.939Z"
   },
   {
    "duration": 282,
    "start_time": "2024-02-08T11:07:12.970Z"
   },
   {
    "duration": 31,
    "start_time": "2024-02-08T11:07:13.254Z"
   },
   {
    "duration": 257,
    "start_time": "2024-02-08T11:07:13.287Z"
   },
   {
    "duration": 7,
    "start_time": "2024-02-08T11:07:13.546Z"
   },
   {
    "duration": 184,
    "start_time": "2024-02-08T11:07:13.554Z"
   },
   {
    "duration": 6,
    "start_time": "2024-02-08T11:07:13.740Z"
   },
   {
    "duration": 280,
    "start_time": "2024-02-08T11:07:13.748Z"
   },
   {
    "duration": 17,
    "start_time": "2024-02-08T11:07:14.030Z"
   },
   {
    "duration": 334,
    "start_time": "2024-02-08T11:07:14.049Z"
   },
   {
    "duration": 8,
    "start_time": "2024-02-08T11:07:14.385Z"
   },
   {
    "duration": 366,
    "start_time": "2024-02-08T11:07:14.394Z"
   },
   {
    "duration": 6,
    "start_time": "2024-02-08T11:07:14.762Z"
   },
   {
    "duration": 190,
    "start_time": "2024-02-08T11:07:14.770Z"
   },
   {
    "duration": 6,
    "start_time": "2024-02-08T11:07:14.962Z"
   },
   {
    "duration": 301,
    "start_time": "2024-02-08T11:07:14.970Z"
   },
   {
    "duration": 9,
    "start_time": "2024-02-08T11:07:15.272Z"
   },
   {
    "duration": 396,
    "start_time": "2024-02-08T11:07:15.283Z"
   },
   {
    "duration": 7,
    "start_time": "2024-02-08T11:07:15.680Z"
   },
   {
    "duration": 220,
    "start_time": "2024-02-08T11:07:15.689Z"
   },
   {
    "duration": 12,
    "start_time": "2024-02-08T11:07:15.910Z"
   },
   {
    "duration": 307,
    "start_time": "2024-02-08T11:07:15.924Z"
   },
   {
    "duration": 7,
    "start_time": "2024-02-08T11:07:16.233Z"
   },
   {
    "duration": 347,
    "start_time": "2024-02-08T11:07:16.242Z"
   },
   {
    "duration": 8,
    "start_time": "2024-02-08T11:07:16.591Z"
   },
   {
    "duration": 218,
    "start_time": "2024-02-08T11:07:16.601Z"
   },
   {
    "duration": 479,
    "start_time": "2024-02-08T11:07:16.821Z"
   },
   {
    "duration": 9,
    "start_time": "2024-02-08T11:07:17.302Z"
   },
   {
    "duration": 8,
    "start_time": "2024-02-08T11:07:17.317Z"
   },
   {
    "duration": 595,
    "start_time": "2024-02-08T11:39:41.375Z"
   },
   {
    "duration": 67,
    "start_time": "2024-02-08T11:39:41.972Z"
   },
   {
    "duration": 4,
    "start_time": "2024-02-08T11:39:42.041Z"
   },
   {
    "duration": 18,
    "start_time": "2024-02-08T11:39:42.047Z"
   },
   {
    "duration": 10,
    "start_time": "2024-02-08T11:39:42.066Z"
   },
   {
    "duration": 17,
    "start_time": "2024-02-08T11:39:42.077Z"
   },
   {
    "duration": 24,
    "start_time": "2024-02-08T11:39:42.095Z"
   },
   {
    "duration": 23,
    "start_time": "2024-02-08T11:39:42.120Z"
   },
   {
    "duration": 5,
    "start_time": "2024-02-08T11:39:42.144Z"
   },
   {
    "duration": 14,
    "start_time": "2024-02-08T11:39:42.152Z"
   },
   {
    "duration": 10,
    "start_time": "2024-02-08T11:39:42.168Z"
   },
   {
    "duration": 4,
    "start_time": "2024-02-08T11:39:42.179Z"
   },
   {
    "duration": 4,
    "start_time": "2024-02-08T11:39:42.218Z"
   },
   {
    "duration": 8,
    "start_time": "2024-02-08T11:39:42.224Z"
   },
   {
    "duration": 273,
    "start_time": "2024-02-08T11:39:42.234Z"
   },
   {
    "duration": 11,
    "start_time": "2024-02-08T11:39:42.508Z"
   },
   {
    "duration": 306,
    "start_time": "2024-02-08T11:39:42.520Z"
   },
   {
    "duration": 454,
    "start_time": "2024-02-08T11:39:42.827Z"
   },
   {
    "duration": 9,
    "start_time": "2024-02-08T11:39:43.282Z"
   },
   {
    "duration": 234,
    "start_time": "2024-02-08T11:39:43.293Z"
   },
   {
    "duration": 248,
    "start_time": "2024-02-08T11:39:43.529Z"
   },
   {
    "duration": 40,
    "start_time": "2024-02-08T11:39:43.779Z"
   },
   {
    "duration": 151,
    "start_time": "2024-02-08T11:39:43.820Z"
   },
   {
    "duration": 160,
    "start_time": "2024-02-08T11:39:43.972Z"
   },
   {
    "duration": 8,
    "start_time": "2024-02-08T11:39:44.134Z"
   },
   {
    "duration": 9,
    "start_time": "2024-02-08T11:39:44.143Z"
   },
   {
    "duration": 251,
    "start_time": "2024-02-08T11:39:44.153Z"
   },
   {
    "duration": 31,
    "start_time": "2024-02-08T11:39:44.417Z"
   },
   {
    "duration": 226,
    "start_time": "2024-02-08T11:39:44.450Z"
   },
   {
    "duration": 6,
    "start_time": "2024-02-08T11:39:44.677Z"
   },
   {
    "duration": 165,
    "start_time": "2024-02-08T11:39:44.685Z"
   },
   {
    "duration": 7,
    "start_time": "2024-02-08T11:39:44.851Z"
   },
   {
    "duration": 232,
    "start_time": "2024-02-08T11:39:44.859Z"
   },
   {
    "duration": 6,
    "start_time": "2024-02-08T11:39:45.093Z"
   },
   {
    "duration": 318,
    "start_time": "2024-02-08T11:39:45.100Z"
   },
   {
    "duration": 7,
    "start_time": "2024-02-08T11:39:45.419Z"
   },
   {
    "duration": 362,
    "start_time": "2024-02-08T11:39:45.428Z"
   },
   {
    "duration": 6,
    "start_time": "2024-02-08T11:39:45.792Z"
   },
   {
    "duration": 188,
    "start_time": "2024-02-08T11:39:45.800Z"
   },
   {
    "duration": 6,
    "start_time": "2024-02-08T11:39:45.990Z"
   },
   {
    "duration": 279,
    "start_time": "2024-02-08T11:39:45.997Z"
   },
   {
    "duration": 6,
    "start_time": "2024-02-08T11:39:46.278Z"
   },
   {
    "duration": 370,
    "start_time": "2024-02-08T11:39:46.286Z"
   },
   {
    "duration": 6,
    "start_time": "2024-02-08T11:39:46.658Z"
   },
   {
    "duration": 202,
    "start_time": "2024-02-08T11:39:46.665Z"
   },
   {
    "duration": 7,
    "start_time": "2024-02-08T11:39:46.868Z"
   },
   {
    "duration": 273,
    "start_time": "2024-02-08T11:39:46.876Z"
   },
   {
    "duration": 7,
    "start_time": "2024-02-08T11:39:47.150Z"
   },
   {
    "duration": 335,
    "start_time": "2024-02-08T11:39:47.158Z"
   },
   {
    "duration": 7,
    "start_time": "2024-02-08T11:39:47.494Z"
   },
   {
    "duration": 192,
    "start_time": "2024-02-08T11:39:47.502Z"
   },
   {
    "duration": 507,
    "start_time": "2024-02-08T11:39:47.695Z"
   },
   {
    "duration": 14,
    "start_time": "2024-02-08T11:39:48.203Z"
   },
   {
    "duration": 17,
    "start_time": "2024-02-08T11:39:48.219Z"
   },
   {
    "duration": 231,
    "start_time": "2024-02-08T12:09:12.880Z"
   },
   {
    "duration": 1340,
    "start_time": "2024-02-08T15:23:30.256Z"
   },
   {
    "duration": 199,
    "start_time": "2024-02-08T15:23:33.510Z"
   },
   {
    "duration": 4,
    "start_time": "2024-02-08T15:23:34.812Z"
   },
   {
    "duration": 16,
    "start_time": "2024-02-08T15:23:36.297Z"
   },
   {
    "duration": 18,
    "start_time": "2024-02-08T15:24:05.347Z"
   },
   {
    "duration": 15,
    "start_time": "2024-02-08T15:24:41.555Z"
   },
   {
    "duration": 1135,
    "start_time": "2024-02-08T15:31:27.740Z"
   },
   {
    "duration": 74,
    "start_time": "2024-02-08T15:31:30.899Z"
   },
   {
    "duration": 4,
    "start_time": "2024-02-08T15:31:31.580Z"
   },
   {
    "duration": 21,
    "start_time": "2024-02-08T15:31:32.013Z"
   },
   {
    "duration": 17,
    "start_time": "2024-02-08T15:31:33.853Z"
   },
   {
    "duration": 16,
    "start_time": "2024-02-08T15:31:38.582Z"
   },
   {
    "duration": 4,
    "start_time": "2024-02-08T15:31:41.453Z"
   },
   {
    "duration": 26,
    "start_time": "2024-02-08T15:31:42.681Z"
   },
   {
    "duration": 5,
    "start_time": "2024-02-08T15:32:17.590Z"
   },
   {
    "duration": 16,
    "start_time": "2024-02-08T15:32:18.135Z"
   },
   {
    "duration": 18,
    "start_time": "2024-02-08T15:32:51.096Z"
   },
   {
    "duration": 3,
    "start_time": "2024-02-08T15:32:54.254Z"
   },
   {
    "duration": 102,
    "start_time": "2024-02-08T15:33:32.766Z"
   },
   {
    "duration": 4,
    "start_time": "2024-02-08T15:33:36.640Z"
   },
   {
    "duration": 1120,
    "start_time": "2024-02-08T15:34:11.553Z"
   },
   {
    "duration": 73,
    "start_time": "2024-02-08T15:34:13.333Z"
   },
   {
    "duration": 4,
    "start_time": "2024-02-08T15:34:14.780Z"
   },
   {
    "duration": 4,
    "start_time": "2024-02-08T15:34:15.110Z"
   },
   {
    "duration": 21,
    "start_time": "2024-02-08T15:34:16.211Z"
   },
   {
    "duration": 18,
    "start_time": "2024-02-08T15:34:18.095Z"
   },
   {
    "duration": 18,
    "start_time": "2024-02-08T15:34:20.173Z"
   },
   {
    "duration": 3,
    "start_time": "2024-02-08T15:34:21.470Z"
   },
   {
    "duration": 21,
    "start_time": "2024-02-08T15:34:21.923Z"
   },
   {
    "duration": 5,
    "start_time": "2024-02-08T15:34:25.339Z"
   },
   {
    "duration": 16,
    "start_time": "2024-02-08T15:34:25.697Z"
   },
   {
    "duration": 20,
    "start_time": "2024-02-08T15:34:28.463Z"
   },
   {
    "duration": 4,
    "start_time": "2024-02-08T15:34:32.313Z"
   },
   {
    "duration": 3,
    "start_time": "2024-02-08T15:34:35.351Z"
   },
   {
    "duration": 83,
    "start_time": "2024-02-08T15:35:26.798Z"
   },
   {
    "duration": 8,
    "start_time": "2024-02-08T15:36:07.652Z"
   },
   {
    "duration": 282,
    "start_time": "2024-02-08T15:36:08.832Z"
   },
   {
    "duration": 9,
    "start_time": "2024-02-08T15:36:19.614Z"
   },
   {
    "duration": 309,
    "start_time": "2024-02-08T15:36:22.234Z"
   },
   {
    "duration": 323,
    "start_time": "2024-02-08T15:36:28.377Z"
   },
   {
    "duration": 296,
    "start_time": "2024-02-08T15:36:37.605Z"
   },
   {
    "duration": 314,
    "start_time": "2024-02-08T15:36:55.804Z"
   },
   {
    "duration": 427,
    "start_time": "2024-02-08T15:37:02.085Z"
   },
   {
    "duration": 328,
    "start_time": "2024-02-08T15:37:09.273Z"
   },
   {
    "duration": 85,
    "start_time": "2024-02-08T15:37:30.874Z"
   },
   {
    "duration": 12,
    "start_time": "2024-02-08T15:43:43.352Z"
   },
   {
    "duration": 26,
    "start_time": "2024-02-08T15:43:58.267Z"
   },
   {
    "duration": 98,
    "start_time": "2024-02-08T15:44:39.626Z"
   },
   {
    "duration": 240,
    "start_time": "2024-02-08T15:44:43.776Z"
   },
   {
    "duration": 85,
    "start_time": "2024-02-08T15:45:17.536Z"
   },
   {
    "duration": 247,
    "start_time": "2024-02-08T15:45:23.530Z"
   },
   {
    "duration": 254,
    "start_time": "2024-02-08T15:46:25.092Z"
   },
   {
    "duration": 250,
    "start_time": "2024-02-08T15:47:04.236Z"
   },
   {
    "duration": 353,
    "start_time": "2024-02-08T15:52:31.141Z"
   },
   {
    "duration": 310,
    "start_time": "2024-02-08T15:52:37.397Z"
   },
   {
    "duration": 335,
    "start_time": "2024-02-08T15:52:56.952Z"
   },
   {
    "duration": 8,
    "start_time": "2024-02-08T15:53:06.944Z"
   },
   {
    "duration": 322,
    "start_time": "2024-02-08T15:55:58.074Z"
   },
   {
    "duration": 297,
    "start_time": "2024-02-08T15:56:18.757Z"
   },
   {
    "duration": 319,
    "start_time": "2024-02-08T15:56:28.719Z"
   },
   {
    "duration": 45,
    "start_time": "2024-02-08T15:56:32.895Z"
   },
   {
    "duration": 283,
    "start_time": "2024-02-08T16:41:17.763Z"
   },
   {
    "duration": 279,
    "start_time": "2024-02-08T16:41:24.466Z"
   },
   {
    "duration": 40,
    "start_time": "2024-02-08T16:41:29.997Z"
   },
   {
    "duration": 267,
    "start_time": "2024-02-08T16:41:31.543Z"
   },
   {
    "duration": 251,
    "start_time": "2024-02-08T17:14:09.813Z"
   },
   {
    "duration": 1152,
    "start_time": "2024-02-08T17:14:32.992Z"
   },
   {
    "duration": 78,
    "start_time": "2024-02-08T17:14:34.146Z"
   },
   {
    "duration": 5,
    "start_time": "2024-02-08T17:14:35.383Z"
   },
   {
    "duration": 4,
    "start_time": "2024-02-08T17:14:35.702Z"
   },
   {
    "duration": 15,
    "start_time": "2024-02-08T17:14:36.100Z"
   },
   {
    "duration": 17,
    "start_time": "2024-02-08T17:14:37.465Z"
   },
   {
    "duration": 16,
    "start_time": "2024-02-08T17:14:39.344Z"
   },
   {
    "duration": 3,
    "start_time": "2024-02-08T17:14:41.147Z"
   },
   {
    "duration": 21,
    "start_time": "2024-02-08T17:14:41.476Z"
   },
   {
    "duration": 4,
    "start_time": "2024-02-08T17:14:44.054Z"
   },
   {
    "duration": 16,
    "start_time": "2024-02-08T17:14:45.094Z"
   },
   {
    "duration": 18,
    "start_time": "2024-02-08T17:14:45.671Z"
   },
   {
    "duration": 4,
    "start_time": "2024-02-08T17:14:47.731Z"
   },
   {
    "duration": 4,
    "start_time": "2024-02-08T17:14:48.650Z"
   },
   {
    "duration": 9,
    "start_time": "2024-02-08T17:14:55.276Z"
   },
   {
    "duration": 285,
    "start_time": "2024-02-08T17:14:56.679Z"
   },
   {
    "duration": 9,
    "start_time": "2024-02-08T17:15:01.912Z"
   },
   {
    "duration": 323,
    "start_time": "2024-02-08T17:15:03.546Z"
   },
   {
    "duration": 293,
    "start_time": "2024-02-08T17:15:07.041Z"
   },
   {
    "duration": 307,
    "start_time": "2024-02-08T17:15:10.428Z"
   },
   {
    "duration": 8,
    "start_time": "2024-02-08T17:15:12.248Z"
   },
   {
    "duration": 182,
    "start_time": "2024-02-08T17:15:14.734Z"
   },
   {
    "duration": 281,
    "start_time": "2024-02-08T17:15:19.542Z"
   },
   {
    "duration": 36,
    "start_time": "2024-02-08T17:15:22.133Z"
   },
   {
    "duration": 355,
    "start_time": "2024-02-08T17:15:25.985Z"
   },
   {
    "duration": 126,
    "start_time": "2024-02-08T17:16:24.465Z"
   },
   {
    "duration": 161,
    "start_time": "2024-02-08T17:16:31.941Z"
   },
   {
    "duration": 831,
    "start_time": "2024-02-08T17:17:09.808Z"
   },
   {
    "duration": 168,
    "start_time": "2024-02-08T17:17:24.028Z"
   },
   {
    "duration": 786,
    "start_time": "2024-02-08T17:17:24.947Z"
   },
   {
    "duration": 203,
    "start_time": "2024-02-08T17:17:39.916Z"
   },
   {
    "duration": 779,
    "start_time": "2024-02-08T17:17:47.364Z"
   },
   {
    "duration": 773,
    "start_time": "2024-02-08T17:18:36.217Z"
   },
   {
    "duration": 906,
    "start_time": "2024-02-08T17:18:59.531Z"
   },
   {
    "duration": 732,
    "start_time": "2024-02-08T17:19:18.330Z"
   },
   {
    "duration": 242,
    "start_time": "2024-02-08T17:19:21.890Z"
   },
   {
    "duration": 256,
    "start_time": "2024-02-08T17:19:36.534Z"
   },
   {
    "duration": 267,
    "start_time": "2024-02-08T17:20:13.202Z"
   },
   {
    "duration": 257,
    "start_time": "2024-02-08T17:23:53.901Z"
   },
   {
    "duration": 301,
    "start_time": "2024-02-08T17:32:19.429Z"
   },
   {
    "duration": 259,
    "start_time": "2024-02-08T17:33:02.180Z"
   },
   {
    "duration": 32,
    "start_time": "2024-02-08T17:33:14.046Z"
   },
   {
    "duration": 9,
    "start_time": "2024-02-08T17:34:16.694Z"
   },
   {
    "duration": 18,
    "start_time": "2024-02-08T17:34:32.429Z"
   },
   {
    "duration": 9,
    "start_time": "2024-02-08T17:34:45.979Z"
   },
   {
    "duration": 191,
    "start_time": "2024-02-08T17:36:10.592Z"
   },
   {
    "duration": 725,
    "start_time": "2024-02-08T17:36:20.232Z"
   },
   {
    "duration": 9,
    "start_time": "2024-02-08T17:36:39.768Z"
   },
   {
    "duration": 9,
    "start_time": "2024-02-08T17:36:48.599Z"
   },
   {
    "duration": 9,
    "start_time": "2024-02-08T17:36:54.091Z"
   },
   {
    "duration": 182,
    "start_time": "2024-02-08T17:39:19.366Z"
   },
   {
    "duration": 288,
    "start_time": "2024-02-08T17:39:32.566Z"
   },
   {
    "duration": 12,
    "start_time": "2024-02-08T17:39:41.973Z"
   },
   {
    "duration": 8,
    "start_time": "2024-02-08T17:39:48.770Z"
   },
   {
    "duration": 7,
    "start_time": "2024-02-08T17:41:27.254Z"
   },
   {
    "duration": 180,
    "start_time": "2024-02-08T17:41:29.369Z"
   },
   {
    "duration": 10,
    "start_time": "2024-02-08T17:42:48.255Z"
   },
   {
    "duration": 176,
    "start_time": "2024-02-08T17:42:49.062Z"
   },
   {
    "duration": 9,
    "start_time": "2024-02-08T17:45:01.228Z"
   },
   {
    "duration": 429,
    "start_time": "2024-02-08T17:45:02.785Z"
   },
   {
    "duration": 217,
    "start_time": "2024-02-08T17:45:35.936Z"
   },
   {
    "duration": 176,
    "start_time": "2024-02-08T17:46:01.123Z"
   },
   {
    "duration": 199,
    "start_time": "2024-02-08T17:46:16.036Z"
   },
   {
    "duration": 8,
    "start_time": "2024-02-08T17:46:46.139Z"
   },
   {
    "duration": 227,
    "start_time": "2024-02-08T17:46:57.178Z"
   },
   {
    "duration": 234,
    "start_time": "2024-02-08T17:47:04.328Z"
   },
   {
    "duration": 7,
    "start_time": "2024-02-08T17:47:22.514Z"
   },
   {
    "duration": 171,
    "start_time": "2024-02-08T17:47:35.977Z"
   },
   {
    "duration": 218,
    "start_time": "2024-02-08T17:47:46.671Z"
   },
   {
    "duration": 197,
    "start_time": "2024-02-08T17:47:54.540Z"
   },
   {
    "duration": 176,
    "start_time": "2024-02-08T17:47:59.808Z"
   },
   {
    "duration": 9,
    "start_time": "2024-02-08T17:48:11.678Z"
   },
   {
    "duration": 188,
    "start_time": "2024-02-08T17:48:26.262Z"
   },
   {
    "duration": 8,
    "start_time": "2024-02-08T17:48:45.923Z"
   },
   {
    "duration": 337,
    "start_time": "2024-02-08T17:48:58.482Z"
   },
   {
    "duration": 7,
    "start_time": "2024-02-08T17:49:06.177Z"
   },
   {
    "duration": 169,
    "start_time": "2024-02-08T17:49:19.795Z"
   },
   {
    "duration": 8,
    "start_time": "2024-02-08T17:51:16.946Z"
   },
   {
    "duration": 192,
    "start_time": "2024-02-08T17:51:30.614Z"
   },
   {
    "duration": 7,
    "start_time": "2024-02-08T17:51:35.758Z"
   },
   {
    "duration": 223,
    "start_time": "2024-02-08T17:51:48.676Z"
   },
   {
    "duration": 8,
    "start_time": "2024-02-08T17:51:53.881Z"
   },
   {
    "duration": 162,
    "start_time": "2024-02-08T17:52:06.050Z"
   },
   {
    "duration": 204,
    "start_time": "2024-02-08T17:52:42.273Z"
   },
   {
    "duration": 199,
    "start_time": "2024-02-08T17:52:54.212Z"
   },
   {
    "duration": 197,
    "start_time": "2024-02-08T17:53:02.657Z"
   },
   {
    "duration": 205,
    "start_time": "2024-02-08T17:53:09.646Z"
   },
   {
    "duration": 250,
    "start_time": "2024-02-08T17:53:31.127Z"
   },
   {
    "duration": 185,
    "start_time": "2024-02-08T17:53:37.878Z"
   },
   {
    "duration": 308,
    "start_time": "2024-02-08T17:53:45.217Z"
   },
   {
    "duration": 174,
    "start_time": "2024-02-08T17:53:48.506Z"
   },
   {
    "duration": 250,
    "start_time": "2024-02-08T17:53:55.976Z"
   },
   {
    "duration": 165,
    "start_time": "2024-02-08T17:53:59.372Z"
   },
   {
    "duration": 31,
    "start_time": "2024-02-08T17:58:18.219Z"
   },
   {
    "duration": 25,
    "start_time": "2024-02-08T17:58:47.616Z"
   },
   {
    "duration": 12,
    "start_time": "2024-02-08T17:59:32.045Z"
   },
   {
    "duration": 14,
    "start_time": "2024-02-08T18:01:10.398Z"
   },
   {
    "duration": 1228,
    "start_time": "2024-02-08T18:11:48.163Z"
   },
   {
    "duration": 75,
    "start_time": "2024-02-08T18:11:49.393Z"
   },
   {
    "duration": 4,
    "start_time": "2024-02-08T18:11:49.469Z"
   },
   {
    "duration": 6,
    "start_time": "2024-02-08T18:11:49.474Z"
   },
   {
    "duration": 17,
    "start_time": "2024-02-08T18:11:49.482Z"
   },
   {
    "duration": 29,
    "start_time": "2024-02-08T18:11:49.501Z"
   },
   {
    "duration": 17,
    "start_time": "2024-02-08T18:11:49.531Z"
   },
   {
    "duration": 3,
    "start_time": "2024-02-08T18:11:49.550Z"
   },
   {
    "duration": 21,
    "start_time": "2024-02-08T18:11:49.554Z"
   },
   {
    "duration": 5,
    "start_time": "2024-02-08T18:11:49.591Z"
   },
   {
    "duration": 23,
    "start_time": "2024-02-08T18:11:49.597Z"
   },
   {
    "duration": 30,
    "start_time": "2024-02-08T18:11:49.621Z"
   },
   {
    "duration": 40,
    "start_time": "2024-02-08T18:11:49.653Z"
   },
   {
    "duration": 4,
    "start_time": "2024-02-08T18:11:49.696Z"
   },
   {
    "duration": 16,
    "start_time": "2024-02-08T18:11:49.701Z"
   },
   {
    "duration": 334,
    "start_time": "2024-02-08T18:11:49.719Z"
   },
   {
    "duration": 9,
    "start_time": "2024-02-08T18:11:50.055Z"
   },
   {
    "duration": 350,
    "start_time": "2024-02-08T18:11:50.065Z"
   },
   {
    "duration": 253,
    "start_time": "2024-02-08T18:11:50.417Z"
   },
   {
    "duration": 310,
    "start_time": "2024-02-08T18:11:50.672Z"
   },
   {
    "duration": 13,
    "start_time": "2024-02-08T18:11:50.984Z"
   },
   {
    "duration": 1447,
    "start_time": "2024-02-08T18:27:07.281Z"
   },
   {
    "duration": 114,
    "start_time": "2024-02-08T18:27:08.730Z"
   },
   {
    "duration": 4,
    "start_time": "2024-02-08T18:27:08.846Z"
   },
   {
    "duration": 11,
    "start_time": "2024-02-08T18:27:08.852Z"
   },
   {
    "duration": 61,
    "start_time": "2024-02-08T18:27:08.864Z"
   },
   {
    "duration": 37,
    "start_time": "2024-02-08T18:27:08.927Z"
   },
   {
    "duration": 16,
    "start_time": "2024-02-08T18:27:08.966Z"
   },
   {
    "duration": 4,
    "start_time": "2024-02-08T18:27:08.984Z"
   },
   {
    "duration": 34,
    "start_time": "2024-02-08T18:27:08.989Z"
   },
   {
    "duration": 5,
    "start_time": "2024-02-08T18:27:09.027Z"
   },
   {
    "duration": 18,
    "start_time": "2024-02-08T18:27:09.034Z"
   },
   {
    "duration": 18,
    "start_time": "2024-02-08T18:27:09.053Z"
   },
   {
    "duration": 4,
    "start_time": "2024-02-08T18:27:09.073Z"
   },
   {
    "duration": 4,
    "start_time": "2024-02-08T18:27:09.078Z"
   },
   {
    "duration": 40,
    "start_time": "2024-02-08T18:27:09.083Z"
   },
   {
    "duration": 291,
    "start_time": "2024-02-08T18:27:09.125Z"
   },
   {
    "duration": 9,
    "start_time": "2024-02-08T18:27:09.422Z"
   },
   {
    "duration": 381,
    "start_time": "2024-02-08T18:27:09.433Z"
   },
   {
    "duration": 278,
    "start_time": "2024-02-08T18:27:09.816Z"
   },
   {
    "duration": 315,
    "start_time": "2024-02-08T18:27:10.096Z"
   },
   {
    "duration": 15,
    "start_time": "2024-02-08T18:27:10.413Z"
   },
   {
    "duration": 202,
    "start_time": "2024-02-08T18:27:10.430Z"
   },
   {
    "duration": 301,
    "start_time": "2024-02-08T18:27:10.634Z"
   },
   {
    "duration": 47,
    "start_time": "2024-02-08T18:27:10.936Z"
   },
   {
    "duration": 374,
    "start_time": "2024-02-08T18:27:10.985Z"
   },
   {
    "duration": 201,
    "start_time": "2024-02-08T18:27:11.360Z"
   },
   {
    "duration": 756,
    "start_time": "2024-02-08T18:27:11.563Z"
   },
   {
    "duration": 9,
    "start_time": "2024-02-08T18:27:12.323Z"
   },
   {
    "duration": 10,
    "start_time": "2024-02-08T18:27:12.334Z"
   },
   {
    "duration": 206,
    "start_time": "2024-02-08T18:27:12.346Z"
   },
   {
    "duration": 738,
    "start_time": "2024-02-08T18:27:12.554Z"
   },
   {
    "duration": 9,
    "start_time": "2024-02-08T18:27:13.293Z"
   },
   {
    "duration": 33,
    "start_time": "2024-02-08T18:27:13.304Z"
   },
   {
    "duration": 205,
    "start_time": "2024-02-08T18:27:13.338Z"
   },
   {
    "duration": 295,
    "start_time": "2024-02-08T18:27:13.545Z"
   },
   {
    "duration": 9,
    "start_time": "2024-02-08T18:27:13.842Z"
   },
   {
    "duration": 10,
    "start_time": "2024-02-08T18:27:13.853Z"
   },
   {
    "duration": 60,
    "start_time": "2024-02-08T18:27:13.864Z"
   },
   {
    "duration": 183,
    "start_time": "2024-02-08T18:27:13.926Z"
   },
   {
    "duration": 13,
    "start_time": "2024-02-08T18:27:14.111Z"
   },
   {
    "duration": 181,
    "start_time": "2024-02-08T18:27:14.126Z"
   },
   {
    "duration": 7,
    "start_time": "2024-02-08T18:27:14.309Z"
   },
   {
    "duration": 293,
    "start_time": "2024-02-08T18:27:14.324Z"
   },
   {
    "duration": 8,
    "start_time": "2024-02-08T18:27:14.622Z"
   },
   {
    "duration": 244,
    "start_time": "2024-02-08T18:27:14.631Z"
   },
   {
    "duration": 10,
    "start_time": "2024-02-08T18:27:14.877Z"
   },
   {
    "duration": 199,
    "start_time": "2024-02-08T18:27:14.889Z"
   },
   {
    "duration": 8,
    "start_time": "2024-02-08T18:27:15.089Z"
   },
   {
    "duration": 226,
    "start_time": "2024-02-08T18:27:15.098Z"
   },
   {
    "duration": 7,
    "start_time": "2024-02-08T18:27:15.325Z"
   },
   {
    "duration": 230,
    "start_time": "2024-02-08T18:27:15.334Z"
   },
   {
    "duration": 7,
    "start_time": "2024-02-08T18:27:15.566Z"
   },
   {
    "duration": 273,
    "start_time": "2024-02-08T18:27:15.575Z"
   },
   {
    "duration": 7,
    "start_time": "2024-02-08T18:27:15.850Z"
   },
   {
    "duration": 266,
    "start_time": "2024-02-08T18:27:15.859Z"
   },
   {
    "duration": 8,
    "start_time": "2024-02-08T18:27:16.127Z"
   },
   {
    "duration": 254,
    "start_time": "2024-02-08T18:27:16.137Z"
   },
   {
    "duration": 7,
    "start_time": "2024-02-08T18:27:16.393Z"
   },
   {
    "duration": 184,
    "start_time": "2024-02-08T18:27:16.402Z"
   },
   {
    "duration": 12,
    "start_time": "2024-02-08T18:27:16.588Z"
   },
   {
    "duration": 24,
    "start_time": "2024-02-08T18:27:16.601Z"
   }
  ],
  "kernelspec": {
   "display_name": "Python 3 (ipykernel)",
   "language": "python",
   "name": "python3"
  },
  "language_info": {
   "codemirror_mode": {
    "name": "ipython",
    "version": 3
   },
   "file_extension": ".py",
   "mimetype": "text/x-python",
   "name": "python",
   "nbconvert_exporter": "python",
   "pygments_lexer": "ipython3",
   "version": "3.9.5"
  },
  "toc": {
   "base_numbering": 1,
   "nav_menu": {},
   "number_sections": true,
   "sideBar": true,
   "skip_h1_title": true,
   "title_cell": "Table of Contents",
   "title_sidebar": "Contents",
   "toc_cell": false,
   "toc_position": {},
   "toc_section_display": true,
   "toc_window_display": false
  }
 },
 "nbformat": 4,
 "nbformat_minor": 2
}
