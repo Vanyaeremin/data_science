{
 "cells": [
  {
   "cell_type": "markdown",
   "metadata": {},
   "source": [
    "# Выбор локации для скважины"
   ]
  },
  {
   "cell_type": "markdown",
   "metadata": {},
   "source": [
    "Допустим, вы работаете в добывающей компании «ГлавРосГосНефть». Нужно решить, где бурить новую скважину.\n",
    "\n",
    "Вам предоставлены пробы нефти в трёх регионах: в каждом 10 000 месторождений, где измерили качество нефти и объём её запасов. Постройте модель машинного обучения, которая поможет определить регион, где добыча принесёт наибольшую прибыль. Проанализируйте возможную прибыль и риски техникой *Bootstrap.*\n",
    "\n",
    "Шаги для выбора локации:\n",
    "\n",
    "- В избранном регионе ищут месторождения, для каждого определяют значения признаков;\n",
    "- Строят модель и оценивают объём запасов;\n",
    "- Выбирают месторождения с самым высокими оценками значений. Количество месторождений зависит от бюджета компании и стоимости разработки одной скважины;\n",
    "- Прибыль равна суммарной прибыли отобранных месторождений."
   ]
  },
  {
   "cell_type": "markdown",
   "metadata": {},
   "source": [
    "**Описание данных:**\\\n",
    "Данные геологоразведки трёх регионов находятся в файлах: \n",
    "1) `/datasets/geo_data_0.csv` \\\n",
    "2) `/datasets/geo_data_1.csv` \\\n",
    "3) `/datasets/geo_data_2.csv` \n",
    "\n",
    "Признаки:\n",
    "- `id` — уникальный идентификатор скважины;\n",
    "- `f0`, `f1`, `f2` — три признака точек (неважно, что они означают, но сами признаки значимы);\n",
    "- `product` — объём запасов в скважине (тыс. баррелей)."
   ]
  },
  {
   "cell_type": "markdown",
   "metadata": {},
   "source": [
    "## Загрузка и подготовка данных"
   ]
  },
  {
   "cell_type": "code",
   "execution_count": 1,
   "metadata": {},
   "outputs": [],
   "source": [
    "import numpy as np\n",
    "import pandas as pd\n",
    "\n",
    "from sklearn.linear_model import LinearRegression\n",
    "from sklearn.preprocessing import StandardScaler\n",
    "from sklearn.model_selection import train_test_split \n",
    "from sklearn.metrics import mean_squared_error"
   ]
  },
  {
   "cell_type": "code",
   "execution_count": 2,
   "metadata": {},
   "outputs": [],
   "source": [
    "data0 = pd.read_csv('/datasets/geo_data_0.csv')\n",
    "data1 = pd.read_csv('/datasets/geo_data_1.csv')\n",
    "data2 = pd.read_csv('/datasets/geo_data_2.csv')"
   ]
  },
  {
   "cell_type": "code",
   "execution_count": 3,
   "metadata": {},
   "outputs": [],
   "source": [
    "data0 = data0.set_index('id')\n",
    "data1 = data1.set_index('id')\n",
    "data2 = data2.set_index('id')"
   ]
  },
  {
   "cell_type": "code",
   "execution_count": 4,
   "metadata": {},
   "outputs": [
    {
     "data": {
      "text/html": [
       "<div>\n",
       "<style scoped>\n",
       "    .dataframe tbody tr th:only-of-type {\n",
       "        vertical-align: middle;\n",
       "    }\n",
       "\n",
       "    .dataframe tbody tr th {\n",
       "        vertical-align: top;\n",
       "    }\n",
       "\n",
       "    .dataframe thead th {\n",
       "        text-align: right;\n",
       "    }\n",
       "</style>\n",
       "<table border=\"1\" class=\"dataframe\">\n",
       "  <thead>\n",
       "    <tr style=\"text-align: right;\">\n",
       "      <th></th>\n",
       "      <th>f0</th>\n",
       "      <th>f1</th>\n",
       "      <th>f2</th>\n",
       "      <th>product</th>\n",
       "    </tr>\n",
       "    <tr>\n",
       "      <th>id</th>\n",
       "      <th></th>\n",
       "      <th></th>\n",
       "      <th></th>\n",
       "      <th></th>\n",
       "    </tr>\n",
       "  </thead>\n",
       "  <tbody>\n",
       "    <tr>\n",
       "      <th>txEyH</th>\n",
       "      <td>0.705745</td>\n",
       "      <td>-0.497823</td>\n",
       "      <td>1.221170</td>\n",
       "      <td>105.280062</td>\n",
       "    </tr>\n",
       "    <tr>\n",
       "      <th>2acmU</th>\n",
       "      <td>1.334711</td>\n",
       "      <td>-0.340164</td>\n",
       "      <td>4.365080</td>\n",
       "      <td>73.037750</td>\n",
       "    </tr>\n",
       "    <tr>\n",
       "      <th>409Wp</th>\n",
       "      <td>1.022732</td>\n",
       "      <td>0.151990</td>\n",
       "      <td>1.419926</td>\n",
       "      <td>85.265647</td>\n",
       "    </tr>\n",
       "    <tr>\n",
       "      <th>iJLyR</th>\n",
       "      <td>-0.032172</td>\n",
       "      <td>0.139033</td>\n",
       "      <td>2.978566</td>\n",
       "      <td>168.620776</td>\n",
       "    </tr>\n",
       "    <tr>\n",
       "      <th>Xdl7t</th>\n",
       "      <td>1.988431</td>\n",
       "      <td>0.155413</td>\n",
       "      <td>4.751769</td>\n",
       "      <td>154.036647</td>\n",
       "    </tr>\n",
       "  </tbody>\n",
       "</table>\n",
       "</div>"
      ],
      "text/plain": [
       "             f0        f1        f2     product\n",
       "id                                             \n",
       "txEyH  0.705745 -0.497823  1.221170  105.280062\n",
       "2acmU  1.334711 -0.340164  4.365080   73.037750\n",
       "409Wp  1.022732  0.151990  1.419926   85.265647\n",
       "iJLyR -0.032172  0.139033  2.978566  168.620776\n",
       "Xdl7t  1.988431  0.155413  4.751769  154.036647"
      ]
     },
     "execution_count": 4,
     "metadata": {},
     "output_type": "execute_result"
    }
   ],
   "source": [
    "data0.head()"
   ]
  },
  {
   "cell_type": "code",
   "execution_count": 5,
   "metadata": {},
   "outputs": [
    {
     "name": "stdout",
     "output_type": "stream",
     "text": [
      "<class 'pandas.core.frame.DataFrame'>\n",
      "Index: 100000 entries, txEyH to 1CWhH\n",
      "Data columns (total 4 columns):\n",
      " #   Column   Non-Null Count   Dtype  \n",
      "---  ------   --------------   -----  \n",
      " 0   f0       100000 non-null  float64\n",
      " 1   f1       100000 non-null  float64\n",
      " 2   f2       100000 non-null  float64\n",
      " 3   product  100000 non-null  float64\n",
      "dtypes: float64(4)\n",
      "memory usage: 3.8+ MB\n"
     ]
    }
   ],
   "source": [
    "data0.info()"
   ]
  },
  {
   "cell_type": "code",
   "execution_count": 6,
   "metadata": {},
   "outputs": [
    {
     "data": {
      "text/html": [
       "<div>\n",
       "<style scoped>\n",
       "    .dataframe tbody tr th:only-of-type {\n",
       "        vertical-align: middle;\n",
       "    }\n",
       "\n",
       "    .dataframe tbody tr th {\n",
       "        vertical-align: top;\n",
       "    }\n",
       "\n",
       "    .dataframe thead th {\n",
       "        text-align: right;\n",
       "    }\n",
       "</style>\n",
       "<table border=\"1\" class=\"dataframe\">\n",
       "  <thead>\n",
       "    <tr style=\"text-align: right;\">\n",
       "      <th></th>\n",
       "      <th>missing_values</th>\n",
       "      <th>% of total</th>\n",
       "    </tr>\n",
       "  </thead>\n",
       "  <tbody>\n",
       "    <tr>\n",
       "      <th>f0</th>\n",
       "      <td>0</td>\n",
       "      <td>0.0</td>\n",
       "    </tr>\n",
       "    <tr>\n",
       "      <th>f1</th>\n",
       "      <td>0</td>\n",
       "      <td>0.0</td>\n",
       "    </tr>\n",
       "    <tr>\n",
       "      <th>f2</th>\n",
       "      <td>0</td>\n",
       "      <td>0.0</td>\n",
       "    </tr>\n",
       "    <tr>\n",
       "      <th>product</th>\n",
       "      <td>0</td>\n",
       "      <td>0.0</td>\n",
       "    </tr>\n",
       "  </tbody>\n",
       "</table>\n",
       "</div>"
      ],
      "text/plain": [
       "         missing_values  % of total\n",
       "f0                    0         0.0\n",
       "f1                    0         0.0\n",
       "f2                    0         0.0\n",
       "product               0         0.0"
      ]
     },
     "execution_count": 6,
     "metadata": {},
     "output_type": "execute_result"
    }
   ],
   "source": [
    "report = data0.isna().sum().to_frame()\n",
    "report = report.rename(columns = {0: 'missing_values'})\n",
    "report['% of total'] = (report['missing_values'] / data0.shape[0]).round(2)*100\n",
    "report.sort_values(by = 'missing_values', ascending = False)"
   ]
  },
  {
   "cell_type": "code",
   "execution_count": 7,
   "metadata": {},
   "outputs": [
    {
     "data": {
      "text/plain": [
       "0"
      ]
     },
     "execution_count": 7,
     "metadata": {},
     "output_type": "execute_result"
    }
   ],
   "source": [
    "data0.duplicated().sum()"
   ]
  },
  {
   "cell_type": "code",
   "execution_count": 8,
   "metadata": {},
   "outputs": [
    {
     "data": {
      "text/html": [
       "<div>\n",
       "<style scoped>\n",
       "    .dataframe tbody tr th:only-of-type {\n",
       "        vertical-align: middle;\n",
       "    }\n",
       "\n",
       "    .dataframe tbody tr th {\n",
       "        vertical-align: top;\n",
       "    }\n",
       "\n",
       "    .dataframe thead th {\n",
       "        text-align: right;\n",
       "    }\n",
       "</style>\n",
       "<table border=\"1\" class=\"dataframe\">\n",
       "  <thead>\n",
       "    <tr style=\"text-align: right;\">\n",
       "      <th></th>\n",
       "      <th>f0</th>\n",
       "      <th>f1</th>\n",
       "      <th>f2</th>\n",
       "      <th>product</th>\n",
       "    </tr>\n",
       "    <tr>\n",
       "      <th>id</th>\n",
       "      <th></th>\n",
       "      <th></th>\n",
       "      <th></th>\n",
       "      <th></th>\n",
       "    </tr>\n",
       "  </thead>\n",
       "  <tbody>\n",
       "    <tr>\n",
       "      <th>kBEdx</th>\n",
       "      <td>-15.001348</td>\n",
       "      <td>-8.276000</td>\n",
       "      <td>-0.005876</td>\n",
       "      <td>3.179103</td>\n",
       "    </tr>\n",
       "    <tr>\n",
       "      <th>62mP7</th>\n",
       "      <td>14.272088</td>\n",
       "      <td>-3.475083</td>\n",
       "      <td>0.999183</td>\n",
       "      <td>26.953261</td>\n",
       "    </tr>\n",
       "    <tr>\n",
       "      <th>vyE1P</th>\n",
       "      <td>6.263187</td>\n",
       "      <td>-5.948386</td>\n",
       "      <td>5.001160</td>\n",
       "      <td>134.766305</td>\n",
       "    </tr>\n",
       "    <tr>\n",
       "      <th>KcrkZ</th>\n",
       "      <td>-13.081196</td>\n",
       "      <td>-11.506057</td>\n",
       "      <td>4.999415</td>\n",
       "      <td>137.945408</td>\n",
       "    </tr>\n",
       "    <tr>\n",
       "      <th>AHL4O</th>\n",
       "      <td>12.702195</td>\n",
       "      <td>-8.147433</td>\n",
       "      <td>5.004363</td>\n",
       "      <td>134.766305</td>\n",
       "    </tr>\n",
       "  </tbody>\n",
       "</table>\n",
       "</div>"
      ],
      "text/plain": [
       "              f0         f1        f2     product\n",
       "id                                               \n",
       "kBEdx -15.001348  -8.276000 -0.005876    3.179103\n",
       "62mP7  14.272088  -3.475083  0.999183   26.953261\n",
       "vyE1P   6.263187  -5.948386  5.001160  134.766305\n",
       "KcrkZ -13.081196 -11.506057  4.999415  137.945408\n",
       "AHL4O  12.702195  -8.147433  5.004363  134.766305"
      ]
     },
     "execution_count": 8,
     "metadata": {},
     "output_type": "execute_result"
    }
   ],
   "source": [
    "data1.head()"
   ]
  },
  {
   "cell_type": "code",
   "execution_count": 9,
   "metadata": {},
   "outputs": [
    {
     "name": "stdout",
     "output_type": "stream",
     "text": [
      "<class 'pandas.core.frame.DataFrame'>\n",
      "Index: 100000 entries, kBEdx to relB0\n",
      "Data columns (total 4 columns):\n",
      " #   Column   Non-Null Count   Dtype  \n",
      "---  ------   --------------   -----  \n",
      " 0   f0       100000 non-null  float64\n",
      " 1   f1       100000 non-null  float64\n",
      " 2   f2       100000 non-null  float64\n",
      " 3   product  100000 non-null  float64\n",
      "dtypes: float64(4)\n",
      "memory usage: 3.8+ MB\n"
     ]
    }
   ],
   "source": [
    "data1.info()"
   ]
  },
  {
   "cell_type": "code",
   "execution_count": 10,
   "metadata": {},
   "outputs": [
    {
     "data": {
      "text/plain": [
       "0"
      ]
     },
     "execution_count": 10,
     "metadata": {},
     "output_type": "execute_result"
    }
   ],
   "source": [
    "data1.duplicated().sum()"
   ]
  },
  {
   "cell_type": "code",
   "execution_count": 11,
   "metadata": {},
   "outputs": [
    {
     "data": {
      "text/html": [
       "<div>\n",
       "<style scoped>\n",
       "    .dataframe tbody tr th:only-of-type {\n",
       "        vertical-align: middle;\n",
       "    }\n",
       "\n",
       "    .dataframe tbody tr th {\n",
       "        vertical-align: top;\n",
       "    }\n",
       "\n",
       "    .dataframe thead th {\n",
       "        text-align: right;\n",
       "    }\n",
       "</style>\n",
       "<table border=\"1\" class=\"dataframe\">\n",
       "  <thead>\n",
       "    <tr style=\"text-align: right;\">\n",
       "      <th></th>\n",
       "      <th>missing_values</th>\n",
       "      <th>% of total</th>\n",
       "    </tr>\n",
       "  </thead>\n",
       "  <tbody>\n",
       "    <tr>\n",
       "      <th>f0</th>\n",
       "      <td>0</td>\n",
       "      <td>0.0</td>\n",
       "    </tr>\n",
       "    <tr>\n",
       "      <th>f1</th>\n",
       "      <td>0</td>\n",
       "      <td>0.0</td>\n",
       "    </tr>\n",
       "    <tr>\n",
       "      <th>f2</th>\n",
       "      <td>0</td>\n",
       "      <td>0.0</td>\n",
       "    </tr>\n",
       "    <tr>\n",
       "      <th>product</th>\n",
       "      <td>0</td>\n",
       "      <td>0.0</td>\n",
       "    </tr>\n",
       "  </tbody>\n",
       "</table>\n",
       "</div>"
      ],
      "text/plain": [
       "         missing_values  % of total\n",
       "f0                    0         0.0\n",
       "f1                    0         0.0\n",
       "f2                    0         0.0\n",
       "product               0         0.0"
      ]
     },
     "execution_count": 11,
     "metadata": {},
     "output_type": "execute_result"
    }
   ],
   "source": [
    "report = data1.isna().sum().to_frame()\n",
    "report = report.rename(columns = {0: 'missing_values'})\n",
    "report['% of total'] = (report['missing_values'] / data1.shape[0]).round(2)*100\n",
    "report.sort_values(by = 'missing_values', ascending = False)"
   ]
  },
  {
   "cell_type": "code",
   "execution_count": 12,
   "metadata": {},
   "outputs": [
    {
     "data": {
      "text/html": [
       "<div>\n",
       "<style scoped>\n",
       "    .dataframe tbody tr th:only-of-type {\n",
       "        vertical-align: middle;\n",
       "    }\n",
       "\n",
       "    .dataframe tbody tr th {\n",
       "        vertical-align: top;\n",
       "    }\n",
       "\n",
       "    .dataframe thead th {\n",
       "        text-align: right;\n",
       "    }\n",
       "</style>\n",
       "<table border=\"1\" class=\"dataframe\">\n",
       "  <thead>\n",
       "    <tr style=\"text-align: right;\">\n",
       "      <th></th>\n",
       "      <th>f0</th>\n",
       "      <th>f1</th>\n",
       "      <th>f2</th>\n",
       "      <th>product</th>\n",
       "    </tr>\n",
       "    <tr>\n",
       "      <th>id</th>\n",
       "      <th></th>\n",
       "      <th></th>\n",
       "      <th></th>\n",
       "      <th></th>\n",
       "    </tr>\n",
       "  </thead>\n",
       "  <tbody>\n",
       "    <tr>\n",
       "      <th>fwXo0</th>\n",
       "      <td>-1.146987</td>\n",
       "      <td>0.963328</td>\n",
       "      <td>-0.828965</td>\n",
       "      <td>27.758673</td>\n",
       "    </tr>\n",
       "    <tr>\n",
       "      <th>WJtFt</th>\n",
       "      <td>0.262778</td>\n",
       "      <td>0.269839</td>\n",
       "      <td>-2.530187</td>\n",
       "      <td>56.069697</td>\n",
       "    </tr>\n",
       "    <tr>\n",
       "      <th>ovLUW</th>\n",
       "      <td>0.194587</td>\n",
       "      <td>0.289035</td>\n",
       "      <td>-5.586433</td>\n",
       "      <td>62.871910</td>\n",
       "    </tr>\n",
       "    <tr>\n",
       "      <th>q6cA6</th>\n",
       "      <td>2.236060</td>\n",
       "      <td>-0.553760</td>\n",
       "      <td>0.930038</td>\n",
       "      <td>114.572842</td>\n",
       "    </tr>\n",
       "    <tr>\n",
       "      <th>WPMUX</th>\n",
       "      <td>-0.515993</td>\n",
       "      <td>1.716266</td>\n",
       "      <td>5.899011</td>\n",
       "      <td>149.600746</td>\n",
       "    </tr>\n",
       "  </tbody>\n",
       "</table>\n",
       "</div>"
      ],
      "text/plain": [
       "             f0        f1        f2     product\n",
       "id                                             \n",
       "fwXo0 -1.146987  0.963328 -0.828965   27.758673\n",
       "WJtFt  0.262778  0.269839 -2.530187   56.069697\n",
       "ovLUW  0.194587  0.289035 -5.586433   62.871910\n",
       "q6cA6  2.236060 -0.553760  0.930038  114.572842\n",
       "WPMUX -0.515993  1.716266  5.899011  149.600746"
      ]
     },
     "execution_count": 12,
     "metadata": {},
     "output_type": "execute_result"
    }
   ],
   "source": [
    "data2.head()"
   ]
  },
  {
   "cell_type": "code",
   "execution_count": 13,
   "metadata": {},
   "outputs": [
    {
     "name": "stdout",
     "output_type": "stream",
     "text": [
      "<class 'pandas.core.frame.DataFrame'>\n",
      "Index: 100000 entries, fwXo0 to V9kWn\n",
      "Data columns (total 4 columns):\n",
      " #   Column   Non-Null Count   Dtype  \n",
      "---  ------   --------------   -----  \n",
      " 0   f0       100000 non-null  float64\n",
      " 1   f1       100000 non-null  float64\n",
      " 2   f2       100000 non-null  float64\n",
      " 3   product  100000 non-null  float64\n",
      "dtypes: float64(4)\n",
      "memory usage: 3.8+ MB\n"
     ]
    }
   ],
   "source": [
    "data2.info()"
   ]
  },
  {
   "cell_type": "code",
   "execution_count": 14,
   "metadata": {},
   "outputs": [
    {
     "data": {
      "text/html": [
       "<div>\n",
       "<style scoped>\n",
       "    .dataframe tbody tr th:only-of-type {\n",
       "        vertical-align: middle;\n",
       "    }\n",
       "\n",
       "    .dataframe tbody tr th {\n",
       "        vertical-align: top;\n",
       "    }\n",
       "\n",
       "    .dataframe thead th {\n",
       "        text-align: right;\n",
       "    }\n",
       "</style>\n",
       "<table border=\"1\" class=\"dataframe\">\n",
       "  <thead>\n",
       "    <tr style=\"text-align: right;\">\n",
       "      <th></th>\n",
       "      <th>missing_values</th>\n",
       "      <th>% of total</th>\n",
       "    </tr>\n",
       "  </thead>\n",
       "  <tbody>\n",
       "    <tr>\n",
       "      <th>f0</th>\n",
       "      <td>0</td>\n",
       "      <td>0.0</td>\n",
       "    </tr>\n",
       "    <tr>\n",
       "      <th>f1</th>\n",
       "      <td>0</td>\n",
       "      <td>0.0</td>\n",
       "    </tr>\n",
       "    <tr>\n",
       "      <th>f2</th>\n",
       "      <td>0</td>\n",
       "      <td>0.0</td>\n",
       "    </tr>\n",
       "    <tr>\n",
       "      <th>product</th>\n",
       "      <td>0</td>\n",
       "      <td>0.0</td>\n",
       "    </tr>\n",
       "  </tbody>\n",
       "</table>\n",
       "</div>"
      ],
      "text/plain": [
       "         missing_values  % of total\n",
       "f0                    0         0.0\n",
       "f1                    0         0.0\n",
       "f2                    0         0.0\n",
       "product               0         0.0"
      ]
     },
     "execution_count": 14,
     "metadata": {},
     "output_type": "execute_result"
    }
   ],
   "source": [
    "report = data2.isna().sum().to_frame()\n",
    "report = report.rename(columns = {0: 'missing_values'})\n",
    "report['% of total'] = (report['missing_values'] / data2.shape[0]).round(2)*100\n",
    "report.sort_values(by = 'missing_values', ascending = False)"
   ]
  },
  {
   "cell_type": "code",
   "execution_count": 15,
   "metadata": {},
   "outputs": [
    {
     "data": {
      "text/plain": [
       "0"
      ]
     },
     "execution_count": 15,
     "metadata": {},
     "output_type": "execute_result"
    }
   ],
   "source": [
    "data2.duplicated().sum()"
   ]
  },
  {
   "cell_type": "markdown",
   "metadata": {},
   "source": [
    "Во время данного этапа были импортированы библиотеки, первично изучени датасеты. Они были проверены на пропуски и дубликаты. Столбец `id` был переведён в индексы."
   ]
  },
  {
   "cell_type": "markdown",
   "metadata": {},
   "source": [
    "## Обучение и проверка модели"
   ]
  },
  {
   "cell_type": "markdown",
   "metadata": {},
   "source": [
    "### Работаем с data0"
   ]
  },
  {
   "cell_type": "code",
   "execution_count": 16,
   "metadata": {},
   "outputs": [],
   "source": [
    "RANDOM_STATE = 42\n",
    "X0 = data0.drop('product', axis = 1)\n",
    "y0 = data0['product']\n",
    "X0_train, X0_valid, y0_train, y0_valid = train_test_split(\n",
    "        X0, \n",
    "        y0, \n",
    "        test_size=0.25,\n",
    "        random_state=RANDOM_STATE\n",
    ") "
   ]
  },
  {
   "cell_type": "code",
   "execution_count": 17,
   "metadata": {},
   "outputs": [],
   "source": [
    "scaler0 = StandardScaler()\n",
    "X0_train_scaler = scaler0.fit_transform(X0_train)\n",
    "X0_valid_scaler = scaler0.transform(X0_valid)"
   ]
  },
  {
   "cell_type": "code",
   "execution_count": 18,
   "metadata": {},
   "outputs": [],
   "source": [
    "model0 = LinearRegression()\n",
    "model0.fit(X0_train_scaler, y0_train)\n",
    "predict0 = model0.predict(X0_valid_scaler)"
   ]
  },
  {
   "cell_type": "code",
   "execution_count": 19,
   "metadata": {},
   "outputs": [
    {
     "name": "stdout",
     "output_type": "stream",
     "text": [
      "Средний запас предсказанного сырья: 92.39879990657768, значение метрики RMSE: 37.75660035026169\n"
     ]
    }
   ],
   "source": [
    "mean0 = predict0.mean()\n",
    "rmse0 = mean_squared_error(y0_valid, predict0, squared=False)\n",
    "print(f'Средний запас предсказанного сырья: {mean0}, значение метрики RMSE: {rmse0}')"
   ]
  },
  {
   "cell_type": "markdown",
   "metadata": {},
   "source": [
    "### Работаем с data1"
   ]
  },
  {
   "cell_type": "code",
   "execution_count": 20,
   "metadata": {},
   "outputs": [],
   "source": [
    "X1 = data1.drop('product', axis = 1)\n",
    "y1 = data1['product']\n",
    "X1_train, X1_valid, y1_train, y1_valid = train_test_split(\n",
    "        X1, \n",
    "        y1, \n",
    "        test_size=0.25,\n",
    "        random_state=RANDOM_STATE\n",
    ") "
   ]
  },
  {
   "cell_type": "code",
   "execution_count": 21,
   "metadata": {},
   "outputs": [],
   "source": [
    "scaler1 = StandardScaler()\n",
    "X1_train_scaler = scaler1.fit_transform(X1_train)\n",
    "X1_valid_scaler = scaler1.transform(X1_valid)"
   ]
  },
  {
   "cell_type": "code",
   "execution_count": 22,
   "metadata": {},
   "outputs": [],
   "source": [
    "model1 = LinearRegression()\n",
    "model1.fit(X1_train_scaler, y1_train)\n",
    "predict1 = model1.predict(X1_valid_scaler)"
   ]
  },
  {
   "cell_type": "code",
   "execution_count": 23,
   "metadata": {},
   "outputs": [
    {
     "name": "stdout",
     "output_type": "stream",
     "text": [
      "Средний запас предсказанного сырья: 68.7128780391376, значение метрики RMSE: 0.8902801001028846\n"
     ]
    }
   ],
   "source": [
    "mean1 = predict1.mean()\n",
    "rmse1 = mean_squared_error(y1_valid, predict1, squared=False)\n",
    "print(f'Средний запас предсказанного сырья: {mean1}, значение метрики RMSE: {rmse1}')"
   ]
  },
  {
   "cell_type": "markdown",
   "metadata": {},
   "source": [
    "### Работаем с data2"
   ]
  },
  {
   "cell_type": "code",
   "execution_count": 24,
   "metadata": {},
   "outputs": [],
   "source": [
    "X2 = data2.drop('product', axis = 1)\n",
    "y2 = data2['product']\n",
    "X2_train, X2_valid, y2_train, y2_valid = train_test_split(\n",
    "        X2, \n",
    "        y2, \n",
    "        test_size=0.25,\n",
    "        random_state=RANDOM_STATE\n",
    ") "
   ]
  },
  {
   "cell_type": "code",
   "execution_count": 25,
   "metadata": {},
   "outputs": [],
   "source": [
    "scaler2 = StandardScaler()\n",
    "X2_train_scaler = scaler2.fit_transform(X2_train)\n",
    "X2_valid_scaler = scaler2.transform(X2_valid)"
   ]
  },
  {
   "cell_type": "code",
   "execution_count": 26,
   "metadata": {},
   "outputs": [],
   "source": [
    "model2 = LinearRegression()\n",
    "model2.fit(X2_train_scaler, y2_train)\n",
    "predict2 = model2.predict(X2_valid_scaler)"
   ]
  },
  {
   "cell_type": "code",
   "execution_count": 27,
   "metadata": {},
   "outputs": [
    {
     "name": "stdout",
     "output_type": "stream",
     "text": [
      "Средний запас предсказанного сырья: 94.77102387765939, значение метрики RMSE: 40.145872311342174\n"
     ]
    }
   ],
   "source": [
    "mean2 = predict2.mean()\n",
    "rmse2 = mean_squared_error(y2_valid, predict2, squared=False)\n",
    "print(f'Средний запас предсказанного сырья: {mean2}, значение метрики RMSE: {rmse2}')"
   ]
  },
  {
   "cell_type": "markdown",
   "metadata": {},
   "source": [
    "Наибольший запас предсказанного сырья у второго месторождения (94.8), на втором месте с незначительной разницей идёт нулевое (92.4). И наименьшие запасы у первого месторождения (68.7).\\\n",
    "Однако именно у первого месторождения модель работает точнее всего (значение метрики RMSE там меньше единицы, а чем ближе значение метрики к нулю, тем точнее модель. В тоже время у других месторождений значение метрики в районе 40)"
   ]
  },
  {
   "cell_type": "markdown",
   "metadata": {},
   "source": [
    "## Подготовка к расчёту прибыли"
   ]
  },
  {
   "cell_type": "code",
   "execution_count": 28,
   "metadata": {},
   "outputs": [],
   "source": [
    "#Для разработки выбирают 200 лучших скважин\n",
    "n = 200\n",
    "#Бюджет на разработку скважин 10 млрд. рублей\n",
    "budget = 10 * 10**9\n",
    "#Доход с единицы продукта\n",
    "revenue = 450000"
   ]
  },
  {
   "cell_type": "code",
   "execution_count": 29,
   "metadata": {},
   "outputs": [],
   "source": [
    "#Сколько выделяется денег на одну скважину\n",
    "budget_one = budget/n\n",
    "#Сколько нужно единиц продукта, чтобы потрать весь бюджет\n",
    "volume = budget_one / revenue"
   ]
  },
  {
   "cell_type": "code",
   "execution_count": 30,
   "metadata": {},
   "outputs": [
    {
     "data": {
      "text/plain": [
       "111.11111111111111"
      ]
     },
     "execution_count": 30,
     "metadata": {},
     "output_type": "execute_result"
    }
   ],
   "source": [
    "volume"
   ]
  },
  {
   "cell_type": "markdown",
   "metadata": {},
   "source": [
    "Значит, если в каждой скважине объем будет не меньше, чем 111.111, то никаких убытков не будет. Но если объем будет меньше, то затраты на бурение не окупятся. Средние запасы в каждом регионе меньше, чем данное число, а значит, либо в них есть 200 скважин с запасом, больше чем 111, либо бурение будет убыточным"
   ]
  },
  {
   "cell_type": "markdown",
   "metadata": {},
   "source": [
    "## Расчёт прибыли и рисков "
   ]
  },
  {
   "cell_type": "code",
   "execution_count": 31,
   "metadata": {},
   "outputs": [],
   "source": [
    "def profit(data, y_true, y_predict):\n",
    "    data['predict'] = y_predict\n",
    "    data['true'] = y_true\n",
    "    data = data.sort_values(by = 'predict', ascending = False)\n",
    "    data = data.head(200)\n",
    "    profite = data['true'].sum()*450000 - budget\n",
    "    return profite"
   ]
  },
  {
   "cell_type": "code",
   "execution_count": 32,
   "metadata": {},
   "outputs": [],
   "source": [
    "state = np.random.RandomState(12345)"
   ]
  },
  {
   "cell_type": "code",
   "execution_count": 33,
   "metadata": {},
   "outputs": [],
   "source": [
    "prib0 = []\n",
    "for i in range(1000):\n",
    "    subsample = X0_valid.sample(n=500, replace = True, random_state=state)\n",
    "    prib0.append(profit(subsample, y0_valid, pd.DataFrame(predict0, index = X0_valid.index)))"
   ]
  },
  {
   "cell_type": "code",
   "execution_count": 34,
   "metadata": {},
   "outputs": [],
   "source": [
    "prib1 = []\n",
    "for i in range(1000):\n",
    "    subsample = X1_valid.sample(n=500, replace = True, random_state=state)\n",
    "    prib1.append(profit(subsample, y1_valid, pd.DataFrame(predict1, index = X1_valid.index)))"
   ]
  },
  {
   "cell_type": "code",
   "execution_count": 35,
   "metadata": {},
   "outputs": [],
   "source": [
    "prib2 = []\n",
    "for i in range(1000):\n",
    "    subsample = X2_valid.sample(n=500, replace = True, random_state=state)\n",
    "    prib2.append(profit(subsample, y2_valid, pd.DataFrame(predict2, index = X2_valid.index)))"
   ]
  },
  {
   "cell_type": "code",
   "execution_count": 36,
   "metadata": {
    "scrolled": true
   },
   "outputs": [
    {
     "data": {
      "text/plain": [
       "406278783.42441905"
      ]
     },
     "execution_count": 36,
     "metadata": {},
     "output_type": "execute_result"
    }
   ],
   "source": [
    "pd.Series(prib0).mean() #Средняя прибыль нулевого региона"
   ]
  },
  {
   "cell_type": "code",
   "execution_count": 37,
   "metadata": {},
   "outputs": [
    {
     "name": "stdout",
     "output_type": "stream",
     "text": [
      "95%-доверительный интервал для нулевого региона от -117742136.49486831 до 911737050.7514055\n"
     ]
    }
   ],
   "source": [
    "#Найдём 95% доверительный интервал\n",
    "lower = pd.Series(prib0).quantile(0.025)\n",
    "upper = pd.Series(prib0).quantile(0.975)\n",
    "print(f'95%-доверительный интервал для нулевого региона от {lower} до {upper}')"
   ]
  },
  {
   "cell_type": "code",
   "execution_count": 38,
   "metadata": {},
   "outputs": [
    {
     "data": {
      "text/plain": [
       "6.7"
      ]
     },
     "execution_count": 38,
     "metadata": {},
     "output_type": "execute_result"
    }
   ],
   "source": [
    "len([i for i in prib0 if i<0])/len(prib0)*100 #Доля отрицательных значений в нулевом регионе"
   ]
  },
  {
   "cell_type": "code",
   "execution_count": 39,
   "metadata": {},
   "outputs": [
    {
     "data": {
      "text/plain": [
       "441504277.5922549"
      ]
     },
     "execution_count": 39,
     "metadata": {},
     "output_type": "execute_result"
    }
   ],
   "source": [
    "pd.Series(prib1).mean() #Средняя прибыль первого региона"
   ]
  },
  {
   "cell_type": "code",
   "execution_count": 40,
   "metadata": {},
   "outputs": [
    {
     "name": "stdout",
     "output_type": "stream",
     "text": [
      "95%-доверительный интервал для первого региона от 35728489.280851334 до 828006639.0043902\n"
     ]
    }
   ],
   "source": [
    "#Найдём 95% доверительный интервал\n",
    "lower = pd.Series(prib1).quantile(0.025)\n",
    "upper = pd.Series(prib1).quantile(0.975)\n",
    "print(f'95%-доверительный интервал для первого региона от {lower} до {upper}')"
   ]
  },
  {
   "cell_type": "code",
   "execution_count": 41,
   "metadata": {},
   "outputs": [
    {
     "data": {
      "text/plain": [
       "1.6"
      ]
     },
     "execution_count": 41,
     "metadata": {},
     "output_type": "execute_result"
    }
   ],
   "source": [
    "len([i for i in prib1 if i<0])/len(prib1)*100 #Доля отрицательных значений в первом регионе"
   ]
  },
  {
   "cell_type": "code",
   "execution_count": 42,
   "metadata": {},
   "outputs": [
    {
     "data": {
      "text/plain": [
       "385213195.91415244"
      ]
     },
     "execution_count": 42,
     "metadata": {},
     "output_type": "execute_result"
    }
   ],
   "source": [
    "pd.Series(prib2).mean() #Средняя прибыль второго региона"
   ]
  },
  {
   "cell_type": "code",
   "execution_count": 43,
   "metadata": {},
   "outputs": [
    {
     "name": "stdout",
     "output_type": "stream",
     "text": [
      "95%-доверительный интервал для второгозк региона от -164785166.1090443 до 888206234.1976783\n"
     ]
    }
   ],
   "source": [
    "#Найдём 95% доверительный интервал\n",
    "lower = pd.Series(prib2).quantile(0.025)\n",
    "upper = pd.Series(prib2).quantile(0.975)\n",
    "print(f'95%-доверительный интервал для второгозк региона от {lower} до {upper}')"
   ]
  },
  {
   "cell_type": "code",
   "execution_count": 44,
   "metadata": {},
   "outputs": [
    {
     "data": {
      "text/plain": [
       "7.8"
      ]
     },
     "execution_count": 44,
     "metadata": {},
     "output_type": "execute_result"
    }
   ],
   "source": [
    "len([i for i in prib2 if i<0])/len(prib2)*100 #Доля отрицательных значений во втором регионе"
   ]
  },
  {
   "cell_type": "markdown",
   "metadata": {},
   "source": [
    "**Вывод**\\\n",
    "Единственный регион с вероятностью убытков меньше 2.5 - это регион 1. В доверительном интервале нет отрицательных значений, значит 95% значений - прибыль, а не убытки. Среднее значение прибыли в этом регионе - 441504277.5922549. Поэтому именно этот регион лучше всего подойдёт для разработки"
   ]
  },
  {
   "cell_type": "markdown",
   "metadata": {},
   "source": [
    "## Чек-лист готовности проекта"
   ]
  },
  {
   "cell_type": "markdown",
   "metadata": {},
   "source": [
    "Поставьте 'x' в выполненных пунктах. Далее нажмите Shift+Enter."
   ]
  },
  {
   "cell_type": "markdown",
   "metadata": {},
   "source": [
    "- [x]  Jupyter Notebook открыт\n",
    "- [x]  Весь код выполняется без ошибок\n",
    "- [x]  Ячейки с кодом расположены в порядке исполнения\n",
    "- [x]  Выполнен шаг 1: данные подготовлены\n",
    "- [x]  Выполнен шаг 2: модели обучены и проверены\n",
    "    - [x]  Данные корректно разбиты на обучающую и валидационную выборки\n",
    "    - [x]  Модели обучены, предсказания сделаны\n",
    "    - [x]  Предсказания и правильные ответы на валидационной выборке сохранены\n",
    "    - [x]  На экране напечатаны результаты\n",
    "    - [x]  Сделаны выводы\n",
    "- [x]  Выполнен шаг 3: проведена подготовка к расчёту прибыли\n",
    "    - [x]  Для всех ключевых значений созданы константы Python\n",
    "    - [x]  Посчитано минимальное среднее количество продукта в месторождениях региона, достаточное для разработки\n",
    "    - [x]  По предыдущему пункту сделаны выводы\n",
    "    - [x]  Написана функция расчёта прибыли\n",
    "- [x]  Выполнен шаг 4: посчитаны риски и прибыль\n",
    "    - [x]  Проведена процедура *Bootstrap*\n",
    "    - [x]  Все параметры бутстрепа соответствуют условию\n",
    "    - [x]  Найдены все нужные величины\n",
    "    - [x]  Предложен регион для разработки месторождения\n",
    "    - [x]  Выбор региона обоснован"
   ]
  },
  {
   "cell_type": "code",
   "execution_count": null,
   "metadata": {},
   "outputs": [],
   "source": []
  }
 ],
 "metadata": {
  "ExecuteTimeLog": [
   {
    "duration": 404,
    "start_time": "2024-04-16T18:19:59.924Z"
   },
   {
    "duration": 536,
    "start_time": "2024-04-16T18:20:45.639Z"
   },
   {
    "duration": 14,
    "start_time": "2024-04-16T18:20:52.080Z"
   },
   {
    "duration": 12,
    "start_time": "2024-04-16T18:21:05.328Z"
   },
   {
    "duration": 6,
    "start_time": "2024-04-16T18:24:59.534Z"
   },
   {
    "duration": 9,
    "start_time": "2024-04-16T18:25:03.252Z"
   },
   {
    "duration": 58,
    "start_time": "2024-04-16T18:25:18.192Z"
   },
   {
    "duration": 7,
    "start_time": "2024-04-16T18:25:23.722Z"
   },
   {
    "duration": 346,
    "start_time": "2024-04-16T18:25:26.915Z"
   },
   {
    "duration": 334,
    "start_time": "2024-04-16T18:25:27.601Z"
   },
   {
    "duration": 17,
    "start_time": "2024-04-16T18:25:28.397Z"
   },
   {
    "duration": 12,
    "start_time": "2024-04-16T18:25:29.471Z"
   },
   {
    "duration": 8,
    "start_time": "2024-04-16T18:25:32.862Z"
   },
   {
    "duration": 7,
    "start_time": "2024-04-16T18:25:50.142Z"
   },
   {
    "duration": 8,
    "start_time": "2024-04-16T18:25:58.856Z"
   },
   {
    "duration": 7,
    "start_time": "2024-04-16T18:26:09.598Z"
   },
   {
    "duration": 8,
    "start_time": "2024-04-16T18:26:16.563Z"
   },
   {
    "duration": 11,
    "start_time": "2024-04-16T18:28:01.226Z"
   },
   {
    "duration": 9,
    "start_time": "2024-04-16T18:28:09.242Z"
   },
   {
    "duration": 10,
    "start_time": "2024-04-16T18:28:20.080Z"
   },
   {
    "duration": 32,
    "start_time": "2024-04-16T18:28:35.169Z"
   },
   {
    "duration": 31,
    "start_time": "2024-04-16T18:28:45.088Z"
   },
   {
    "duration": 58,
    "start_time": "2024-04-16T18:29:19.709Z"
   },
   {
    "duration": 6,
    "start_time": "2024-04-16T18:29:23.622Z"
   },
   {
    "duration": 28,
    "start_time": "2024-04-16T18:29:29.487Z"
   },
   {
    "duration": 22,
    "start_time": "2024-04-16T18:29:34.813Z"
   },
   {
    "duration": 30,
    "start_time": "2024-04-16T18:29:45.915Z"
   },
   {
    "duration": 589,
    "start_time": "2024-04-16T18:33:45.090Z"
   },
   {
    "duration": 36,
    "start_time": "2024-04-16T18:39:11.421Z"
   },
   {
    "duration": 3,
    "start_time": "2024-04-16T18:39:19.988Z"
   },
   {
    "duration": 8,
    "start_time": "2024-04-16T18:39:23.644Z"
   },
   {
    "duration": 8,
    "start_time": "2024-04-16T18:40:16.993Z"
   },
   {
    "duration": 32,
    "start_time": "2024-04-16T18:40:22.781Z"
   },
   {
    "duration": 4,
    "start_time": "2024-04-16T18:40:29.562Z"
   },
   {
    "duration": 3,
    "start_time": "2024-04-16T18:40:33.895Z"
   },
   {
    "duration": 3,
    "start_time": "2024-04-16T18:40:45.360Z"
   },
   {
    "duration": 23,
    "start_time": "2024-04-16T18:40:51.360Z"
   },
   {
    "duration": 4,
    "start_time": "2024-04-16T18:40:51.741Z"
   },
   {
    "duration": 7,
    "start_time": "2024-04-16T18:43:00.648Z"
   },
   {
    "duration": 7,
    "start_time": "2024-04-16T18:43:12.703Z"
   },
   {
    "duration": 8,
    "start_time": "2024-04-16T18:43:17.942Z"
   },
   {
    "duration": 3,
    "start_time": "2024-04-16T18:43:21.155Z"
   },
   {
    "duration": 3,
    "start_time": "2024-04-16T18:43:26.483Z"
   },
   {
    "duration": 15,
    "start_time": "2024-04-16T18:47:34.070Z"
   },
   {
    "duration": 3,
    "start_time": "2024-04-16T18:49:17.475Z"
   },
   {
    "duration": 2,
    "start_time": "2024-04-16T18:49:29.738Z"
   },
   {
    "duration": 3,
    "start_time": "2024-04-16T18:49:32.713Z"
   },
   {
    "duration": 2,
    "start_time": "2024-04-16T18:50:41.162Z"
   },
   {
    "duration": 6,
    "start_time": "2024-04-16T18:52:31.770Z"
   },
   {
    "duration": 7,
    "start_time": "2024-04-16T18:52:36.000Z"
   },
   {
    "duration": 13,
    "start_time": "2024-04-16T18:52:46.414Z"
   },
   {
    "duration": 3,
    "start_time": "2024-04-16T18:53:11.059Z"
   },
   {
    "duration": 3,
    "start_time": "2024-04-16T18:53:14.884Z"
   },
   {
    "duration": 3,
    "start_time": "2024-04-16T18:53:21.697Z"
   },
   {
    "duration": 964,
    "start_time": "2024-04-16T18:53:53.719Z"
   },
   {
    "duration": 326,
    "start_time": "2024-04-16T18:53:54.684Z"
   },
   {
    "duration": 18,
    "start_time": "2024-04-16T18:53:55.011Z"
   },
   {
    "duration": 13,
    "start_time": "2024-04-16T18:53:55.031Z"
   },
   {
    "duration": 17,
    "start_time": "2024-04-16T18:53:55.045Z"
   },
   {
    "duration": 15,
    "start_time": "2024-04-16T18:53:55.063Z"
   },
   {
    "duration": 30,
    "start_time": "2024-04-16T18:53:55.079Z"
   },
   {
    "duration": 6,
    "start_time": "2024-04-16T18:53:55.111Z"
   },
   {
    "duration": 12,
    "start_time": "2024-04-16T18:53:55.118Z"
   },
   {
    "duration": 35,
    "start_time": "2024-04-16T18:53:55.132Z"
   },
   {
    "duration": 8,
    "start_time": "2024-04-16T18:53:55.169Z"
   },
   {
    "duration": 6,
    "start_time": "2024-04-16T18:53:55.179Z"
   },
   {
    "duration": 9,
    "start_time": "2024-04-16T18:53:55.187Z"
   },
   {
    "duration": 9,
    "start_time": "2024-04-16T18:53:55.197Z"
   },
   {
    "duration": 53,
    "start_time": "2024-04-16T18:53:55.207Z"
   },
   {
    "duration": 33,
    "start_time": "2024-04-16T18:53:55.261Z"
   },
   {
    "duration": 9,
    "start_time": "2024-04-16T18:53:55.296Z"
   },
   {
    "duration": 18,
    "start_time": "2024-04-16T18:53:55.306Z"
   },
   {
    "duration": 200,
    "start_time": "2024-04-16T18:53:55.358Z"
   },
   {
    "duration": 6,
    "start_time": "2024-04-16T18:55:17.682Z"
   },
   {
    "duration": 8,
    "start_time": "2024-04-16T18:55:18.214Z"
   },
   {
    "duration": 10,
    "start_time": "2024-04-16T18:55:18.841Z"
   },
   {
    "duration": 974,
    "start_time": "2024-04-16T18:55:30.489Z"
   },
   {
    "duration": 318,
    "start_time": "2024-04-16T18:55:31.464Z"
   },
   {
    "duration": 16,
    "start_time": "2024-04-16T18:55:31.783Z"
   },
   {
    "duration": 12,
    "start_time": "2024-04-16T18:55:31.801Z"
   },
   {
    "duration": 8,
    "start_time": "2024-04-16T18:55:31.814Z"
   },
   {
    "duration": 10,
    "start_time": "2024-04-16T18:55:31.823Z"
   },
   {
    "duration": 46,
    "start_time": "2024-04-16T18:55:31.834Z"
   },
   {
    "duration": 7,
    "start_time": "2024-04-16T18:55:31.881Z"
   },
   {
    "duration": 13,
    "start_time": "2024-04-16T18:55:31.889Z"
   },
   {
    "duration": 20,
    "start_time": "2024-04-16T18:55:31.904Z"
   },
   {
    "duration": 8,
    "start_time": "2024-04-16T18:55:31.926Z"
   },
   {
    "duration": 29,
    "start_time": "2024-04-16T18:55:31.935Z"
   },
   {
    "duration": 9,
    "start_time": "2024-04-16T18:55:31.966Z"
   },
   {
    "duration": 9,
    "start_time": "2024-04-16T18:55:31.976Z"
   },
   {
    "duration": 25,
    "start_time": "2024-04-16T18:55:31.986Z"
   },
   {
    "duration": 45,
    "start_time": "2024-04-16T18:55:32.012Z"
   },
   {
    "duration": 10,
    "start_time": "2024-04-16T18:55:32.058Z"
   },
   {
    "duration": 13,
    "start_time": "2024-04-16T18:55:32.070Z"
   },
   {
    "duration": 77,
    "start_time": "2024-04-16T18:55:32.085Z"
   },
   {
    "duration": 4,
    "start_time": "2024-04-16T18:56:18.063Z"
   },
   {
    "duration": 4,
    "start_time": "2024-04-16T18:56:38.454Z"
   },
   {
    "duration": 5,
    "start_time": "2024-04-16T18:56:46.902Z"
   },
   {
    "duration": 980,
    "start_time": "2024-04-16T18:57:15.792Z"
   },
   {
    "duration": 315,
    "start_time": "2024-04-16T18:57:16.774Z"
   },
   {
    "duration": 17,
    "start_time": "2024-04-16T18:57:17.090Z"
   },
   {
    "duration": 13,
    "start_time": "2024-04-16T18:57:17.108Z"
   },
   {
    "duration": 9,
    "start_time": "2024-04-16T18:57:17.122Z"
   },
   {
    "duration": 28,
    "start_time": "2024-04-16T18:57:17.132Z"
   },
   {
    "duration": 28,
    "start_time": "2024-04-16T18:57:17.161Z"
   },
   {
    "duration": 6,
    "start_time": "2024-04-16T18:57:17.190Z"
   },
   {
    "duration": 8,
    "start_time": "2024-04-16T18:57:17.198Z"
   },
   {
    "duration": 24,
    "start_time": "2024-04-16T18:57:17.207Z"
   },
   {
    "duration": 26,
    "start_time": "2024-04-16T18:57:17.232Z"
   },
   {
    "duration": 7,
    "start_time": "2024-04-16T18:57:17.259Z"
   },
   {
    "duration": 8,
    "start_time": "2024-04-16T18:57:17.267Z"
   },
   {
    "duration": 8,
    "start_time": "2024-04-16T18:57:17.277Z"
   },
   {
    "duration": 25,
    "start_time": "2024-04-16T18:57:17.286Z"
   },
   {
    "duration": 54,
    "start_time": "2024-04-16T18:57:17.312Z"
   },
   {
    "duration": 11,
    "start_time": "2024-04-16T18:57:17.368Z"
   },
   {
    "duration": 79,
    "start_time": "2024-04-16T18:57:17.380Z"
   },
   {
    "duration": 9,
    "start_time": "2024-04-16T18:57:22.796Z"
   },
   {
    "duration": 8,
    "start_time": "2024-04-16T18:57:23.157Z"
   },
   {
    "duration": 4,
    "start_time": "2024-04-16T18:57:23.717Z"
   },
   {
    "duration": 2,
    "start_time": "2024-04-16T18:57:49.392Z"
   },
   {
    "duration": 30,
    "start_time": "2024-04-16T18:58:12.710Z"
   },
   {
    "duration": 11,
    "start_time": "2024-04-16T18:58:25.420Z"
   },
   {
    "duration": 12,
    "start_time": "2024-04-16T18:58:36.791Z"
   },
   {
    "duration": 1026,
    "start_time": "2024-04-16T18:59:02.240Z"
   },
   {
    "duration": 328,
    "start_time": "2024-04-16T18:59:03.267Z"
   },
   {
    "duration": 18,
    "start_time": "2024-04-16T18:59:03.596Z"
   },
   {
    "duration": 13,
    "start_time": "2024-04-16T18:59:03.616Z"
   },
   {
    "duration": 31,
    "start_time": "2024-04-16T18:59:03.631Z"
   },
   {
    "duration": 11,
    "start_time": "2024-04-16T18:59:03.664Z"
   },
   {
    "duration": 30,
    "start_time": "2024-04-16T18:59:03.676Z"
   },
   {
    "duration": 7,
    "start_time": "2024-04-16T18:59:03.708Z"
   },
   {
    "duration": 13,
    "start_time": "2024-04-16T18:59:03.716Z"
   },
   {
    "duration": 44,
    "start_time": "2024-04-16T18:59:03.732Z"
   },
   {
    "duration": 11,
    "start_time": "2024-04-16T18:59:03.777Z"
   },
   {
    "duration": 7,
    "start_time": "2024-04-16T18:59:03.789Z"
   },
   {
    "duration": 9,
    "start_time": "2024-04-16T18:59:03.797Z"
   },
   {
    "duration": 9,
    "start_time": "2024-04-16T18:59:03.808Z"
   },
   {
    "duration": 62,
    "start_time": "2024-04-16T18:59:03.819Z"
   },
   {
    "duration": 29,
    "start_time": "2024-04-16T18:59:03.883Z"
   },
   {
    "duration": 11,
    "start_time": "2024-04-16T18:59:03.913Z"
   },
   {
    "duration": 8,
    "start_time": "2024-04-16T18:59:03.926Z"
   },
   {
    "duration": 99,
    "start_time": "2024-04-16T18:59:03.960Z"
   },
   {
    "duration": 112,
    "start_time": "2024-04-16T18:59:04.060Z"
   },
   {
    "duration": 11,
    "start_time": "2024-04-16T18:59:04.173Z"
   },
   {
    "duration": 7,
    "start_time": "2024-04-16T18:59:04.185Z"
   },
   {
    "duration": 65,
    "start_time": "2024-04-16T18:59:04.193Z"
   },
   {
    "duration": 20,
    "start_time": "2024-04-16T19:01:54.874Z"
   },
   {
    "duration": 11,
    "start_time": "2024-04-16T19:02:11.792Z"
   },
   {
    "duration": 10,
    "start_time": "2024-04-16T19:02:23.591Z"
   },
   {
    "duration": 6,
    "start_time": "2024-04-16T19:02:29.987Z"
   },
   {
    "duration": 7,
    "start_time": "2024-04-16T19:02:41.941Z"
   },
   {
    "duration": 7,
    "start_time": "2024-04-16T19:02:45.758Z"
   },
   {
    "duration": 7,
    "start_time": "2024-04-16T19:03:00.661Z"
   },
   {
    "duration": 34,
    "start_time": "2024-04-16T19:03:14.265Z"
   },
   {
    "duration": 10,
    "start_time": "2024-04-16T19:03:14.670Z"
   },
   {
    "duration": 6,
    "start_time": "2024-04-16T19:03:14.998Z"
   },
   {
    "duration": 6,
    "start_time": "2024-04-16T19:03:15.612Z"
   },
   {
    "duration": 983,
    "start_time": "2024-04-16T19:03:23.202Z"
   },
   {
    "duration": 323,
    "start_time": "2024-04-16T19:03:24.187Z"
   },
   {
    "duration": 18,
    "start_time": "2024-04-16T19:03:24.511Z"
   },
   {
    "duration": 12,
    "start_time": "2024-04-16T19:03:24.530Z"
   },
   {
    "duration": 19,
    "start_time": "2024-04-16T19:03:24.544Z"
   },
   {
    "duration": 10,
    "start_time": "2024-04-16T19:03:24.564Z"
   },
   {
    "duration": 31,
    "start_time": "2024-04-16T19:03:24.575Z"
   },
   {
    "duration": 6,
    "start_time": "2024-04-16T19:03:24.607Z"
   },
   {
    "duration": 12,
    "start_time": "2024-04-16T19:03:24.614Z"
   },
   {
    "duration": 39,
    "start_time": "2024-04-16T19:03:24.627Z"
   },
   {
    "duration": 8,
    "start_time": "2024-04-16T19:03:24.668Z"
   },
   {
    "duration": 6,
    "start_time": "2024-04-16T19:03:24.677Z"
   },
   {
    "duration": 10,
    "start_time": "2024-04-16T19:03:24.684Z"
   },
   {
    "duration": 9,
    "start_time": "2024-04-16T19:03:24.696Z"
   },
   {
    "duration": 55,
    "start_time": "2024-04-16T19:03:24.707Z"
   },
   {
    "duration": 30,
    "start_time": "2024-04-16T19:03:24.764Z"
   },
   {
    "duration": 10,
    "start_time": "2024-04-16T19:03:24.795Z"
   },
   {
    "duration": 51,
    "start_time": "2024-04-16T19:03:24.806Z"
   },
   {
    "duration": 8,
    "start_time": "2024-04-16T19:03:24.859Z"
   },
   {
    "duration": 31,
    "start_time": "2024-04-16T19:03:24.958Z"
   },
   {
    "duration": 11,
    "start_time": "2024-04-16T19:03:24.991Z"
   },
   {
    "duration": 8,
    "start_time": "2024-04-16T19:03:25.004Z"
   },
   {
    "duration": 99,
    "start_time": "2024-04-16T19:03:25.059Z"
   },
   {
    "duration": 35,
    "start_time": "2024-04-16T19:03:25.160Z"
   },
   {
    "duration": 12,
    "start_time": "2024-04-16T19:03:25.196Z"
   },
   {
    "duration": 12,
    "start_time": "2024-04-16T19:03:25.209Z"
   },
   {
    "duration": 8,
    "start_time": "2024-04-16T19:03:25.259Z"
   },
   {
    "duration": 1004,
    "start_time": "2024-04-16T19:10:57.505Z"
   },
   {
    "duration": 320,
    "start_time": "2024-04-16T19:10:58.510Z"
   },
   {
    "duration": 17,
    "start_time": "2024-04-16T19:10:58.831Z"
   },
   {
    "duration": 15,
    "start_time": "2024-04-16T19:10:58.849Z"
   },
   {
    "duration": 8,
    "start_time": "2024-04-16T19:10:58.866Z"
   },
   {
    "duration": 9,
    "start_time": "2024-04-16T19:10:58.875Z"
   },
   {
    "duration": 30,
    "start_time": "2024-04-16T19:10:58.885Z"
   },
   {
    "duration": 7,
    "start_time": "2024-04-16T19:10:58.916Z"
   },
   {
    "duration": 32,
    "start_time": "2024-04-16T19:10:58.925Z"
   },
   {
    "duration": 22,
    "start_time": "2024-04-16T19:10:58.958Z"
   },
   {
    "duration": 9,
    "start_time": "2024-04-16T19:10:58.981Z"
   },
   {
    "duration": 7,
    "start_time": "2024-04-16T19:10:58.991Z"
   },
   {
    "duration": 11,
    "start_time": "2024-04-16T19:10:58.999Z"
   },
   {
    "duration": 13,
    "start_time": "2024-04-16T19:10:59.014Z"
   },
   {
    "duration": 51,
    "start_time": "2024-04-16T19:10:59.028Z"
   },
   {
    "duration": 32,
    "start_time": "2024-04-16T19:10:59.081Z"
   },
   {
    "duration": 12,
    "start_time": "2024-04-16T19:10:59.114Z"
   },
   {
    "duration": 30,
    "start_time": "2024-04-16T19:10:59.127Z"
   },
   {
    "duration": 8,
    "start_time": "2024-04-16T19:10:59.159Z"
   },
   {
    "duration": 120,
    "start_time": "2024-04-16T19:10:59.259Z"
   },
   {
    "duration": 9,
    "start_time": "2024-04-16T19:10:59.381Z"
   },
   {
    "duration": 6,
    "start_time": "2024-04-16T19:10:59.392Z"
   },
   {
    "duration": 58,
    "start_time": "2024-04-16T19:10:59.400Z"
   },
   {
    "duration": 128,
    "start_time": "2024-04-16T19:10:59.459Z"
   },
   {
    "duration": 10,
    "start_time": "2024-04-16T19:10:59.589Z"
   },
   {
    "duration": 7,
    "start_time": "2024-04-16T19:10:59.601Z"
   },
   {
    "duration": 9,
    "start_time": "2024-04-16T19:10:59.657Z"
   },
   {
    "duration": 10,
    "start_time": "2024-04-16T19:17:34.557Z"
   },
   {
    "duration": 2,
    "start_time": "2024-04-16T19:28:45.122Z"
   },
   {
    "duration": 3,
    "start_time": "2024-04-16T19:29:16.686Z"
   },
   {
    "duration": 2,
    "start_time": "2024-04-16T19:30:12.380Z"
   },
   {
    "duration": 2,
    "start_time": "2024-04-16T19:32:00.724Z"
   },
   {
    "duration": 4,
    "start_time": "2024-04-16T19:32:03.154Z"
   },
   {
    "duration": 1139,
    "start_time": "2024-04-17T07:47:36.651Z"
   },
   {
    "duration": 1680,
    "start_time": "2024-04-17T07:47:37.792Z"
   },
   {
    "duration": 20,
    "start_time": "2024-04-17T07:47:39.474Z"
   },
   {
    "duration": 29,
    "start_time": "2024-04-17T07:47:39.495Z"
   },
   {
    "duration": 10,
    "start_time": "2024-04-17T07:47:39.526Z"
   },
   {
    "duration": 12,
    "start_time": "2024-04-17T07:47:39.538Z"
   },
   {
    "duration": 44,
    "start_time": "2024-04-17T07:47:39.551Z"
   },
   {
    "duration": 16,
    "start_time": "2024-04-17T07:47:39.596Z"
   },
   {
    "duration": 8,
    "start_time": "2024-04-17T07:47:39.613Z"
   },
   {
    "duration": 18,
    "start_time": "2024-04-17T07:47:39.623Z"
   },
   {
    "duration": 41,
    "start_time": "2024-04-17T07:47:39.642Z"
   },
   {
    "duration": 11,
    "start_time": "2024-04-17T07:47:39.684Z"
   },
   {
    "duration": 13,
    "start_time": "2024-04-17T07:47:39.697Z"
   },
   {
    "duration": 8,
    "start_time": "2024-04-17T07:47:39.713Z"
   },
   {
    "duration": 10,
    "start_time": "2024-04-17T07:47:39.722Z"
   },
   {
    "duration": 40,
    "start_time": "2024-04-17T07:47:39.733Z"
   },
   {
    "duration": 30,
    "start_time": "2024-04-17T07:47:39.775Z"
   },
   {
    "duration": 17,
    "start_time": "2024-04-17T07:47:39.807Z"
   },
   {
    "duration": 67,
    "start_time": "2024-04-17T07:47:39.826Z"
   },
   {
    "duration": 13,
    "start_time": "2024-04-17T07:47:39.894Z"
   },
   {
    "duration": 64,
    "start_time": "2024-04-17T07:47:39.909Z"
   },
   {
    "duration": 100,
    "start_time": "2024-04-17T07:47:39.975Z"
   },
   {
    "duration": 62,
    "start_time": "2024-04-17T07:47:40.077Z"
   },
   {
    "duration": 14,
    "start_time": "2024-04-17T07:47:40.141Z"
   },
   {
    "duration": 19,
    "start_time": "2024-04-17T07:47:40.156Z"
   },
   {
    "duration": 96,
    "start_time": "2024-04-17T07:47:40.177Z"
   },
   {
    "duration": 147,
    "start_time": "2024-04-17T07:47:40.275Z"
   },
   {
    "duration": 13,
    "start_time": "2024-04-17T07:47:40.423Z"
   },
   {
    "duration": 32,
    "start_time": "2024-04-17T07:47:40.438Z"
   },
   {
    "duration": 104,
    "start_time": "2024-04-17T07:47:40.473Z"
   },
   {
    "duration": 13,
    "start_time": "2024-04-17T07:47:40.578Z"
   },
   {
    "duration": 10,
    "start_time": "2024-04-17T07:47:40.593Z"
   },
   {
    "duration": 69,
    "start_time": "2024-04-17T07:47:40.605Z"
   },
   {
    "duration": 513,
    "start_time": "2024-04-17T07:49:01.157Z"
   },
   {
    "duration": 1067,
    "start_time": "2024-04-17T07:49:15.322Z"
   },
   {
    "duration": 409,
    "start_time": "2024-04-17T07:49:16.390Z"
   },
   {
    "duration": 20,
    "start_time": "2024-04-17T07:49:16.800Z"
   },
   {
    "duration": 31,
    "start_time": "2024-04-17T07:49:16.822Z"
   },
   {
    "duration": 23,
    "start_time": "2024-04-17T07:49:16.854Z"
   },
   {
    "duration": 34,
    "start_time": "2024-04-17T07:49:16.878Z"
   },
   {
    "duration": 37,
    "start_time": "2024-04-17T07:49:16.913Z"
   },
   {
    "duration": 305,
    "start_time": "2024-04-17T07:49:16.951Z"
   },
   {
    "duration": 8,
    "start_time": "2024-04-17T07:49:17.258Z"
   },
   {
    "duration": 37,
    "start_time": "2024-04-17T07:49:17.270Z"
   },
   {
    "duration": 39,
    "start_time": "2024-04-17T07:49:17.309Z"
   },
   {
    "duration": 12,
    "start_time": "2024-04-17T07:49:17.350Z"
   },
   {
    "duration": 29,
    "start_time": "2024-04-17T07:49:17.364Z"
   },
   {
    "duration": 9,
    "start_time": "2024-04-17T07:49:17.394Z"
   },
   {
    "duration": 30,
    "start_time": "2024-04-17T07:49:17.405Z"
   },
   {
    "duration": 26,
    "start_time": "2024-04-17T07:49:17.437Z"
   },
   {
    "duration": 43,
    "start_time": "2024-04-17T07:49:17.464Z"
   },
   {
    "duration": 20,
    "start_time": "2024-04-17T07:49:17.509Z"
   },
   {
    "duration": 45,
    "start_time": "2024-04-17T07:49:17.531Z"
   },
   {
    "duration": 15,
    "start_time": "2024-04-17T07:49:17.577Z"
   },
   {
    "duration": 32,
    "start_time": "2024-04-17T07:49:17.594Z"
   },
   {
    "duration": 148,
    "start_time": "2024-04-17T07:49:17.628Z"
   },
   {
    "duration": 70,
    "start_time": "2024-04-17T07:49:17.778Z"
   },
   {
    "duration": 13,
    "start_time": "2024-04-17T07:49:17.849Z"
   },
   {
    "duration": 25,
    "start_time": "2024-04-17T07:49:17.863Z"
   },
   {
    "duration": 180,
    "start_time": "2024-04-17T07:49:17.890Z"
   },
   {
    "duration": 63,
    "start_time": "2024-04-17T07:49:18.072Z"
   },
   {
    "duration": 38,
    "start_time": "2024-04-17T07:49:18.138Z"
   },
   {
    "duration": 18,
    "start_time": "2024-04-17T07:49:18.178Z"
   },
   {
    "duration": 178,
    "start_time": "2024-04-17T07:49:18.198Z"
   },
   {
    "duration": 17,
    "start_time": "2024-04-17T07:49:18.378Z"
   },
   {
    "duration": 28,
    "start_time": "2024-04-17T07:49:18.396Z"
   },
   {
    "duration": 36,
    "start_time": "2024-04-17T07:49:18.425Z"
   },
   {
    "duration": 1145,
    "start_time": "2024-04-17T07:49:21.450Z"
   },
   {
    "duration": 413,
    "start_time": "2024-04-17T07:49:22.597Z"
   },
   {
    "duration": 22,
    "start_time": "2024-04-17T07:49:23.012Z"
   },
   {
    "duration": 16,
    "start_time": "2024-04-17T07:49:23.035Z"
   },
   {
    "duration": 25,
    "start_time": "2024-04-17T07:49:23.054Z"
   },
   {
    "duration": 14,
    "start_time": "2024-04-17T07:49:23.081Z"
   },
   {
    "duration": 45,
    "start_time": "2024-04-17T07:49:23.096Z"
   },
   {
    "duration": 331,
    "start_time": "2024-04-17T07:49:23.143Z"
   },
   {
    "duration": 9,
    "start_time": "2024-04-17T07:49:23.475Z"
   },
   {
    "duration": 18,
    "start_time": "2024-04-17T07:49:23.485Z"
   },
   {
    "duration": 30,
    "start_time": "2024-04-17T07:49:23.504Z"
   },
   {
    "duration": 36,
    "start_time": "2024-04-17T07:49:23.535Z"
   },
   {
    "duration": 32,
    "start_time": "2024-04-17T07:49:23.573Z"
   },
   {
    "duration": 8,
    "start_time": "2024-04-17T07:49:23.609Z"
   },
   {
    "duration": 33,
    "start_time": "2024-04-17T07:49:23.619Z"
   },
   {
    "duration": 37,
    "start_time": "2024-04-17T07:49:23.654Z"
   },
   {
    "duration": 54,
    "start_time": "2024-04-17T07:49:23.692Z"
   },
   {
    "duration": 21,
    "start_time": "2024-04-17T07:49:23.748Z"
   },
   {
    "duration": 50,
    "start_time": "2024-04-17T07:49:23.771Z"
   },
   {
    "duration": 14,
    "start_time": "2024-04-17T07:49:23.823Z"
   },
   {
    "duration": 38,
    "start_time": "2024-04-17T07:49:23.839Z"
   },
   {
    "duration": 98,
    "start_time": "2024-04-17T07:49:23.879Z"
   },
   {
    "duration": 158,
    "start_time": "2024-04-17T07:49:23.979Z"
   },
   {
    "duration": 25,
    "start_time": "2024-04-17T07:49:24.139Z"
   },
   {
    "duration": 19,
    "start_time": "2024-04-17T07:49:24.166Z"
   },
   {
    "duration": 183,
    "start_time": "2024-04-17T07:49:24.187Z"
   },
   {
    "duration": 40,
    "start_time": "2024-04-17T07:49:24.372Z"
   },
   {
    "duration": 12,
    "start_time": "2024-04-17T07:49:24.414Z"
   },
   {
    "duration": 42,
    "start_time": "2024-04-17T07:49:24.428Z"
   },
   {
    "duration": 198,
    "start_time": "2024-04-17T07:49:24.472Z"
   },
   {
    "duration": 9,
    "start_time": "2024-04-17T07:49:24.671Z"
   },
   {
    "duration": 29,
    "start_time": "2024-04-17T07:49:24.682Z"
   },
   {
    "duration": 30,
    "start_time": "2024-04-17T07:49:24.712Z"
   },
   {
    "duration": 4,
    "start_time": "2024-04-17T07:59:07.235Z"
   },
   {
    "duration": 3,
    "start_time": "2024-04-17T08:01:08.625Z"
   },
   {
    "duration": 101,
    "start_time": "2024-04-17T08:01:17.541Z"
   },
   {
    "duration": 17,
    "start_time": "2024-04-17T08:01:23.378Z"
   },
   {
    "duration": 17,
    "start_time": "2024-04-17T08:02:16.047Z"
   },
   {
    "duration": 4,
    "start_time": "2024-04-17T08:02:32.863Z"
   },
   {
    "duration": 1060,
    "start_time": "2024-04-17T15:03:02.520Z"
   },
   {
    "duration": 1629,
    "start_time": "2024-04-17T15:03:03.582Z"
   },
   {
    "duration": 18,
    "start_time": "2024-04-17T15:03:05.212Z"
   },
   {
    "duration": 18,
    "start_time": "2024-04-17T15:03:05.232Z"
   },
   {
    "duration": 22,
    "start_time": "2024-04-17T15:03:05.252Z"
   },
   {
    "duration": 11,
    "start_time": "2024-04-17T15:03:05.275Z"
   },
   {
    "duration": 66,
    "start_time": "2024-04-17T15:03:05.287Z"
   },
   {
    "duration": 50,
    "start_time": "2024-04-17T15:03:05.355Z"
   },
   {
    "duration": 40,
    "start_time": "2024-04-17T15:03:05.407Z"
   },
   {
    "duration": 59,
    "start_time": "2024-04-17T15:03:05.448Z"
   },
   {
    "duration": 16,
    "start_time": "2024-04-17T15:03:05.508Z"
   },
   {
    "duration": 10,
    "start_time": "2024-04-17T15:03:05.525Z"
   },
   {
    "duration": 19,
    "start_time": "2024-04-17T15:03:05.537Z"
   },
   {
    "duration": 10,
    "start_time": "2024-04-17T15:03:05.559Z"
   },
   {
    "duration": 43,
    "start_time": "2024-04-17T15:03:05.570Z"
   },
   {
    "duration": 37,
    "start_time": "2024-04-17T15:03:05.614Z"
   },
   {
    "duration": 12,
    "start_time": "2024-04-17T15:03:05.652Z"
   },
   {
    "duration": 29,
    "start_time": "2024-04-17T15:03:05.665Z"
   },
   {
    "duration": 108,
    "start_time": "2024-04-17T15:03:05.696Z"
   },
   {
    "duration": 64,
    "start_time": "2024-04-17T15:03:05.894Z"
   },
   {
    "duration": 34,
    "start_time": "2024-04-17T15:03:05.959Z"
   },
   {
    "duration": 28,
    "start_time": "2024-04-17T15:03:05.994Z"
   },
   {
    "duration": 190,
    "start_time": "2024-04-17T15:03:06.025Z"
   },
   {
    "duration": 84,
    "start_time": "2024-04-17T15:03:06.216Z"
   },
   {
    "duration": 12,
    "start_time": "2024-04-17T15:03:06.301Z"
   },
   {
    "duration": 16,
    "start_time": "2024-04-17T15:03:06.315Z"
   },
   {
    "duration": 169,
    "start_time": "2024-04-17T15:03:06.333Z"
   },
   {
    "duration": 41,
    "start_time": "2024-04-17T15:03:06.504Z"
   },
   {
    "duration": 14,
    "start_time": "2024-04-17T15:03:06.547Z"
   },
   {
    "duration": 18,
    "start_time": "2024-04-17T15:03:06.563Z"
   },
   {
    "duration": 17,
    "start_time": "2024-04-17T15:03:06.583Z"
   },
   {
    "duration": 129,
    "start_time": "2024-04-17T15:03:06.602Z"
   },
   {
    "duration": 1038,
    "start_time": "2024-04-17T15:03:20.159Z"
   },
   {
    "duration": 420,
    "start_time": "2024-04-17T15:03:21.199Z"
   },
   {
    "duration": 20,
    "start_time": "2024-04-17T15:03:21.621Z"
   },
   {
    "duration": 21,
    "start_time": "2024-04-17T15:03:21.643Z"
   },
   {
    "duration": 33,
    "start_time": "2024-04-17T15:03:21.666Z"
   },
   {
    "duration": 41,
    "start_time": "2024-04-17T15:03:21.701Z"
   },
   {
    "duration": 47,
    "start_time": "2024-04-17T15:03:21.743Z"
   },
   {
    "duration": 9,
    "start_time": "2024-04-17T15:03:21.792Z"
   },
   {
    "duration": 30,
    "start_time": "2024-04-17T15:03:21.802Z"
   },
   {
    "duration": 43,
    "start_time": "2024-04-17T15:03:21.834Z"
   },
   {
    "duration": 22,
    "start_time": "2024-04-17T15:03:21.878Z"
   },
   {
    "duration": 34,
    "start_time": "2024-04-17T15:03:21.902Z"
   },
   {
    "duration": 49,
    "start_time": "2024-04-17T15:03:21.938Z"
   },
   {
    "duration": 23,
    "start_time": "2024-04-17T15:03:21.989Z"
   },
   {
    "duration": 33,
    "start_time": "2024-04-17T15:03:22.014Z"
   },
   {
    "duration": 41,
    "start_time": "2024-04-17T15:03:22.048Z"
   },
   {
    "duration": 24,
    "start_time": "2024-04-17T15:03:22.090Z"
   },
   {
    "duration": 9,
    "start_time": "2024-04-17T15:03:22.115Z"
   },
   {
    "duration": 171,
    "start_time": "2024-04-17T15:03:22.126Z"
   },
   {
    "duration": 68,
    "start_time": "2024-04-17T15:03:22.298Z"
   },
   {
    "duration": 12,
    "start_time": "2024-04-17T15:03:22.368Z"
   },
   {
    "duration": 16,
    "start_time": "2024-04-17T15:03:22.381Z"
   },
   {
    "duration": 114,
    "start_time": "2024-04-17T15:03:22.399Z"
   },
   {
    "duration": 129,
    "start_time": "2024-04-17T15:03:22.515Z"
   },
   {
    "duration": 16,
    "start_time": "2024-04-17T15:03:22.646Z"
   },
   {
    "duration": 52,
    "start_time": "2024-04-17T15:03:22.663Z"
   },
   {
    "duration": 183,
    "start_time": "2024-04-17T15:03:22.717Z"
   },
   {
    "duration": 30,
    "start_time": "2024-04-17T15:03:22.902Z"
   },
   {
    "duration": 31,
    "start_time": "2024-04-17T15:03:22.933Z"
   },
   {
    "duration": 34,
    "start_time": "2024-04-17T15:03:22.966Z"
   },
   {
    "duration": 25,
    "start_time": "2024-04-17T15:03:23.002Z"
   },
   {
    "duration": 111,
    "start_time": "2024-04-17T15:03:23.029Z"
   },
   {
    "duration": 10,
    "start_time": "2024-04-17T15:04:09.686Z"
   },
   {
    "duration": 8,
    "start_time": "2024-04-17T15:04:11.749Z"
   },
   {
    "duration": 13,
    "start_time": "2024-04-17T15:04:16.769Z"
   },
   {
    "duration": 3,
    "start_time": "2024-04-17T15:04:29.776Z"
   },
   {
    "duration": 3,
    "start_time": "2024-04-17T15:04:49.076Z"
   },
   {
    "duration": 9,
    "start_time": "2024-04-17T15:05:06.767Z"
   },
   {
    "duration": 1052,
    "start_time": "2024-04-17T15:10:49.725Z"
   },
   {
    "duration": 376,
    "start_time": "2024-04-17T15:10:50.779Z"
   },
   {
    "duration": 18,
    "start_time": "2024-04-17T15:10:51.157Z"
   },
   {
    "duration": 18,
    "start_time": "2024-04-17T15:10:51.176Z"
   },
   {
    "duration": 43,
    "start_time": "2024-04-17T15:10:51.196Z"
   },
   {
    "duration": 38,
    "start_time": "2024-04-17T15:10:51.240Z"
   },
   {
    "duration": 50,
    "start_time": "2024-04-17T15:10:51.280Z"
   },
   {
    "duration": 10,
    "start_time": "2024-04-17T15:10:51.331Z"
   },
   {
    "duration": 42,
    "start_time": "2024-04-17T15:10:51.342Z"
   },
   {
    "duration": 50,
    "start_time": "2024-04-17T15:10:51.386Z"
   },
   {
    "duration": 14,
    "start_time": "2024-04-17T15:10:51.437Z"
   },
   {
    "duration": 22,
    "start_time": "2024-04-17T15:10:51.452Z"
   },
   {
    "duration": 23,
    "start_time": "2024-04-17T15:10:51.475Z"
   },
   {
    "duration": 38,
    "start_time": "2024-04-17T15:10:51.501Z"
   },
   {
    "duration": 62,
    "start_time": "2024-04-17T15:10:51.540Z"
   },
   {
    "duration": 45,
    "start_time": "2024-04-17T15:10:51.604Z"
   },
   {
    "duration": 11,
    "start_time": "2024-04-17T15:10:51.651Z"
   },
   {
    "duration": 20,
    "start_time": "2024-04-17T15:10:51.664Z"
   },
   {
    "duration": 202,
    "start_time": "2024-04-17T15:10:51.694Z"
   },
   {
    "duration": 60,
    "start_time": "2024-04-17T15:10:51.898Z"
   },
   {
    "duration": 39,
    "start_time": "2024-04-17T15:10:51.959Z"
   },
   {
    "duration": 12,
    "start_time": "2024-04-17T15:10:51.999Z"
   },
   {
    "duration": 88,
    "start_time": "2024-04-17T15:10:52.013Z"
   },
   {
    "duration": 127,
    "start_time": "2024-04-17T15:10:52.103Z"
   },
   {
    "duration": 18,
    "start_time": "2024-04-17T15:10:52.231Z"
   },
   {
    "duration": 21,
    "start_time": "2024-04-17T15:10:52.250Z"
   },
   {
    "duration": 107,
    "start_time": "2024-04-17T15:10:52.295Z"
   },
   {
    "duration": 23,
    "start_time": "2024-04-17T15:10:52.403Z"
   },
   {
    "duration": 30,
    "start_time": "2024-04-17T15:10:52.427Z"
   },
   {
    "duration": 12,
    "start_time": "2024-04-17T15:10:52.458Z"
   },
   {
    "duration": 14,
    "start_time": "2024-04-17T15:10:52.471Z"
   },
   {
    "duration": 36,
    "start_time": "2024-04-17T15:10:52.486Z"
   },
   {
    "duration": 40,
    "start_time": "2024-04-17T15:10:52.523Z"
   },
   {
    "duration": 3,
    "start_time": "2024-04-17T15:12:08.360Z"
   },
   {
    "duration": 4,
    "start_time": "2024-04-17T15:12:13.201Z"
   },
   {
    "duration": 4,
    "start_time": "2024-04-17T15:12:40.448Z"
   },
   {
    "duration": 13,
    "start_time": "2024-04-17T15:12:40.520Z"
   },
   {
    "duration": 3,
    "start_time": "2024-04-17T15:12:41.480Z"
   },
   {
    "duration": 4,
    "start_time": "2024-04-17T15:12:47.368Z"
   },
   {
    "duration": 29,
    "start_time": "2024-04-17T15:14:03.686Z"
   },
   {
    "duration": 4,
    "start_time": "2024-04-17T15:14:04.806Z"
   },
   {
    "duration": 1039,
    "start_time": "2024-04-17T15:14:16.018Z"
   },
   {
    "duration": 388,
    "start_time": "2024-04-17T15:14:17.058Z"
   },
   {
    "duration": 23,
    "start_time": "2024-04-17T15:14:17.448Z"
   },
   {
    "duration": 19,
    "start_time": "2024-04-17T15:14:17.472Z"
   },
   {
    "duration": 13,
    "start_time": "2024-04-17T15:14:17.494Z"
   },
   {
    "duration": 16,
    "start_time": "2024-04-17T15:14:17.509Z"
   },
   {
    "duration": 30,
    "start_time": "2024-04-17T15:14:17.526Z"
   },
   {
    "duration": 9,
    "start_time": "2024-04-17T15:14:17.558Z"
   },
   {
    "duration": 33,
    "start_time": "2024-04-17T15:14:17.569Z"
   },
   {
    "duration": 36,
    "start_time": "2024-04-17T15:14:17.603Z"
   },
   {
    "duration": 9,
    "start_time": "2024-04-17T15:14:17.641Z"
   },
   {
    "duration": 18,
    "start_time": "2024-04-17T15:14:17.652Z"
   },
   {
    "duration": 15,
    "start_time": "2024-04-17T15:14:17.672Z"
   },
   {
    "duration": 11,
    "start_time": "2024-04-17T15:14:17.690Z"
   },
   {
    "duration": 41,
    "start_time": "2024-04-17T15:14:17.702Z"
   },
   {
    "duration": 39,
    "start_time": "2024-04-17T15:14:17.744Z"
   },
   {
    "duration": 16,
    "start_time": "2024-04-17T15:14:17.785Z"
   },
   {
    "duration": 18,
    "start_time": "2024-04-17T15:14:17.803Z"
   },
   {
    "duration": 80,
    "start_time": "2024-04-17T15:14:17.823Z"
   },
   {
    "duration": 42,
    "start_time": "2024-04-17T15:14:17.994Z"
   },
   {
    "duration": 10,
    "start_time": "2024-04-17T15:14:18.037Z"
   },
   {
    "duration": 45,
    "start_time": "2024-04-17T15:14:18.049Z"
   },
   {
    "duration": 104,
    "start_time": "2024-04-17T15:14:18.096Z"
   },
   {
    "duration": 40,
    "start_time": "2024-04-17T15:14:18.201Z"
   },
   {
    "duration": 11,
    "start_time": "2024-04-17T15:14:18.242Z"
   },
   {
    "duration": 39,
    "start_time": "2024-04-17T15:14:18.255Z"
   },
   {
    "duration": 100,
    "start_time": "2024-04-17T15:14:18.297Z"
   },
   {
    "duration": 21,
    "start_time": "2024-04-17T15:14:18.398Z"
   },
   {
    "duration": 5,
    "start_time": "2024-04-17T15:14:18.421Z"
   },
   {
    "duration": 7,
    "start_time": "2024-04-17T15:14:18.427Z"
   },
   {
    "duration": 12,
    "start_time": "2024-04-17T15:14:18.435Z"
   },
   {
    "duration": 39,
    "start_time": "2024-04-17T15:14:18.448Z"
   },
   {
    "duration": 3,
    "start_time": "2024-04-17T15:14:18.489Z"
   },
   {
    "duration": 9,
    "start_time": "2024-04-17T15:14:43.238Z"
   },
   {
    "duration": 4,
    "start_time": "2024-04-17T15:16:02.854Z"
   },
   {
    "duration": 20,
    "start_time": "2024-04-17T15:16:03.158Z"
   },
   {
    "duration": 10,
    "start_time": "2024-04-17T15:16:06.879Z"
   },
   {
    "duration": 1081,
    "start_time": "2024-04-17T15:16:30.419Z"
   },
   {
    "duration": 400,
    "start_time": "2024-04-17T15:16:31.501Z"
   },
   {
    "duration": 19,
    "start_time": "2024-04-17T15:16:31.902Z"
   },
   {
    "duration": 39,
    "start_time": "2024-04-17T15:16:31.922Z"
   },
   {
    "duration": 70,
    "start_time": "2024-04-17T15:16:31.963Z"
   },
   {
    "duration": 40,
    "start_time": "2024-04-17T15:16:32.034Z"
   },
   {
    "duration": 44,
    "start_time": "2024-04-17T15:16:32.075Z"
   },
   {
    "duration": 8,
    "start_time": "2024-04-17T15:16:32.121Z"
   },
   {
    "duration": 35,
    "start_time": "2024-04-17T15:16:32.130Z"
   },
   {
    "duration": 34,
    "start_time": "2024-04-17T15:16:32.166Z"
   },
   {
    "duration": 21,
    "start_time": "2024-04-17T15:16:32.202Z"
   },
   {
    "duration": 32,
    "start_time": "2024-04-17T15:16:32.225Z"
   },
   {
    "duration": 30,
    "start_time": "2024-04-17T15:16:32.259Z"
   },
   {
    "duration": 18,
    "start_time": "2024-04-17T15:16:32.292Z"
   },
   {
    "duration": 74,
    "start_time": "2024-04-17T15:16:32.312Z"
   },
   {
    "duration": 86,
    "start_time": "2024-04-17T15:16:32.387Z"
   },
   {
    "duration": 40,
    "start_time": "2024-04-17T15:16:32.475Z"
   },
   {
    "duration": 29,
    "start_time": "2024-04-17T15:16:32.517Z"
   },
   {
    "duration": 194,
    "start_time": "2024-04-17T15:16:32.548Z"
   },
   {
    "duration": 109,
    "start_time": "2024-04-17T15:16:32.743Z"
   },
   {
    "duration": 95,
    "start_time": "2024-04-17T15:16:32.854Z"
   },
   {
    "duration": 92,
    "start_time": "2024-04-17T15:16:32.950Z"
   },
   {
    "duration": 191,
    "start_time": "2024-04-17T15:16:33.044Z"
   },
   {
    "duration": 121,
    "start_time": "2024-04-17T15:16:33.236Z"
   },
   {
    "duration": 39,
    "start_time": "2024-04-17T15:16:33.358Z"
   },
   {
    "duration": 47,
    "start_time": "2024-04-17T15:16:33.399Z"
   },
   {
    "duration": 147,
    "start_time": "2024-04-17T15:16:33.448Z"
   },
   {
    "duration": 50,
    "start_time": "2024-04-17T15:16:33.596Z"
   },
   {
    "duration": 78,
    "start_time": "2024-04-17T15:16:33.648Z"
   },
   {
    "duration": 38,
    "start_time": "2024-04-17T15:16:33.727Z"
   },
   {
    "duration": 39,
    "start_time": "2024-04-17T15:16:33.766Z"
   },
   {
    "duration": 28,
    "start_time": "2024-04-17T15:16:33.807Z"
   },
   {
    "duration": 45,
    "start_time": "2024-04-17T15:16:33.836Z"
   },
   {
    "duration": 25,
    "start_time": "2024-04-17T15:16:33.882Z"
   },
   {
    "duration": 4,
    "start_time": "2024-04-17T15:18:44.997Z"
   },
   {
    "duration": 26,
    "start_time": "2024-04-17T15:18:45.746Z"
   },
   {
    "duration": 11,
    "start_time": "2024-04-17T15:18:46.757Z"
   },
   {
    "duration": 1024,
    "start_time": "2024-04-17T15:18:55.838Z"
   },
   {
    "duration": 383,
    "start_time": "2024-04-17T15:18:56.864Z"
   },
   {
    "duration": 19,
    "start_time": "2024-04-17T15:18:57.248Z"
   },
   {
    "duration": 18,
    "start_time": "2024-04-17T15:18:57.268Z"
   },
   {
    "duration": 12,
    "start_time": "2024-04-17T15:18:57.287Z"
   },
   {
    "duration": 10,
    "start_time": "2024-04-17T15:18:57.301Z"
   },
   {
    "duration": 37,
    "start_time": "2024-04-17T15:18:57.313Z"
   },
   {
    "duration": 10,
    "start_time": "2024-04-17T15:18:57.351Z"
   },
   {
    "duration": 31,
    "start_time": "2024-04-17T15:18:57.363Z"
   },
   {
    "duration": 24,
    "start_time": "2024-04-17T15:18:57.396Z"
   },
   {
    "duration": 20,
    "start_time": "2024-04-17T15:18:57.422Z"
   },
   {
    "duration": 43,
    "start_time": "2024-04-17T15:18:57.444Z"
   },
   {
    "duration": 45,
    "start_time": "2024-04-17T15:18:57.488Z"
   },
   {
    "duration": 14,
    "start_time": "2024-04-17T15:18:57.535Z"
   },
   {
    "duration": 32,
    "start_time": "2024-04-17T15:18:57.550Z"
   },
   {
    "duration": 36,
    "start_time": "2024-04-17T15:18:57.583Z"
   },
   {
    "duration": 11,
    "start_time": "2024-04-17T15:18:57.620Z"
   },
   {
    "duration": 29,
    "start_time": "2024-04-17T15:18:57.632Z"
   },
   {
    "duration": 35,
    "start_time": "2024-04-17T15:18:57.662Z"
   },
   {
    "duration": 144,
    "start_time": "2024-04-17T15:18:57.698Z"
   },
   {
    "duration": 23,
    "start_time": "2024-04-17T15:18:57.844Z"
   },
   {
    "duration": 26,
    "start_time": "2024-04-17T15:18:57.868Z"
   },
   {
    "duration": 99,
    "start_time": "2024-04-17T15:18:57.896Z"
   },
   {
    "duration": 135,
    "start_time": "2024-04-17T15:18:57.997Z"
   },
   {
    "duration": 11,
    "start_time": "2024-04-17T15:18:58.134Z"
   },
   {
    "duration": 11,
    "start_time": "2024-04-17T15:18:58.147Z"
   },
   {
    "duration": 101,
    "start_time": "2024-04-17T15:18:58.195Z"
   },
   {
    "duration": 3,
    "start_time": "2024-04-17T15:18:58.298Z"
   },
   {
    "duration": 13,
    "start_time": "2024-04-17T15:18:58.303Z"
   },
   {
    "duration": 9,
    "start_time": "2024-04-17T15:18:58.317Z"
   },
   {
    "duration": 12,
    "start_time": "2024-04-17T15:18:58.327Z"
   },
   {
    "duration": 19,
    "start_time": "2024-04-17T15:18:58.340Z"
   },
   {
    "duration": 43,
    "start_time": "2024-04-17T15:18:58.360Z"
   },
   {
    "duration": 9,
    "start_time": "2024-04-17T15:18:58.404Z"
   },
   {
    "duration": 3,
    "start_time": "2024-04-17T15:20:34.616Z"
   },
   {
    "duration": 21,
    "start_time": "2024-04-17T15:20:35.203Z"
   },
   {
    "duration": 11,
    "start_time": "2024-04-17T15:20:38.462Z"
   },
   {
    "duration": 10,
    "start_time": "2024-04-17T15:20:43.537Z"
   },
   {
    "duration": 3,
    "start_time": "2024-04-17T15:20:56.603Z"
   },
   {
    "duration": 29,
    "start_time": "2024-04-17T15:20:56.823Z"
   },
   {
    "duration": 11,
    "start_time": "2024-04-17T15:20:57.474Z"
   },
   {
    "duration": 4,
    "start_time": "2024-04-17T15:21:47.497Z"
   },
   {
    "duration": 5,
    "start_time": "2024-04-17T15:21:53.522Z"
   },
   {
    "duration": 1128,
    "start_time": "2024-04-18T11:22:14.021Z"
   },
   {
    "duration": 673,
    "start_time": "2024-04-18T11:22:16.091Z"
   },
   {
    "duration": 20,
    "start_time": "2024-04-18T11:22:17.105Z"
   },
   {
    "duration": 24,
    "start_time": "2024-04-18T11:22:17.665Z"
   },
   {
    "duration": 11,
    "start_time": "2024-04-18T11:22:18.042Z"
   },
   {
    "duration": 11,
    "start_time": "2024-04-18T11:22:19.310Z"
   },
   {
    "duration": 32,
    "start_time": "2024-04-18T11:22:19.792Z"
   },
   {
    "duration": 8,
    "start_time": "2024-04-18T11:22:20.330Z"
   },
   {
    "duration": 9,
    "start_time": "2024-04-18T11:22:21.510Z"
   },
   {
    "duration": 24,
    "start_time": "2024-04-18T11:22:21.984Z"
   },
   {
    "duration": 10,
    "start_time": "2024-04-18T11:22:22.347Z"
   },
   {
    "duration": 8,
    "start_time": "2024-04-18T11:22:22.759Z"
   },
   {
    "duration": 10,
    "start_time": "2024-04-18T11:22:24.490Z"
   },
   {
    "duration": 10,
    "start_time": "2024-04-18T11:22:24.995Z"
   },
   {
    "duration": 30,
    "start_time": "2024-04-18T11:22:27.057Z"
   },
   {
    "duration": 42,
    "start_time": "2024-04-18T11:22:28.212Z"
   },
   {
    "duration": 13,
    "start_time": "2024-04-18T11:22:28.538Z"
   },
   {
    "duration": 13,
    "start_time": "2024-04-18T11:22:29.089Z"
   },
   {
    "duration": 9,
    "start_time": "2024-04-18T11:22:30.186Z"
   },
   {
    "duration": 41,
    "start_time": "2024-04-18T11:22:35.671Z"
   },
   {
    "duration": 12,
    "start_time": "2024-04-18T11:22:36.263Z"
   },
   {
    "duration": 15,
    "start_time": "2024-04-18T11:22:36.989Z"
   },
   {
    "duration": 9,
    "start_time": "2024-04-18T11:22:37.326Z"
   },
   {
    "duration": 49,
    "start_time": "2024-04-18T11:22:38.353Z"
   },
   {
    "duration": 13,
    "start_time": "2024-04-18T11:22:38.406Z"
   },
   {
    "duration": 12,
    "start_time": "2024-04-18T11:22:38.559Z"
   },
   {
    "duration": 8,
    "start_time": "2024-04-18T11:22:38.966Z"
   },
   {
    "duration": 3,
    "start_time": "2024-04-18T11:22:39.642Z"
   },
   {
    "duration": 2,
    "start_time": "2024-04-18T11:22:41.586Z"
   },
   {
    "duration": 4,
    "start_time": "2024-04-18T11:22:41.728Z"
   },
   {
    "duration": 105,
    "start_time": "2024-04-18T11:24:02.395Z"
   },
   {
    "duration": 3,
    "start_time": "2024-04-18T11:24:23.628Z"
   },
   {
    "duration": 25,
    "start_time": "2024-04-18T11:24:23.902Z"
   },
   {
    "duration": 9,
    "start_time": "2024-04-18T11:25:11.384Z"
   },
   {
    "duration": 11,
    "start_time": "2024-04-18T11:25:23.080Z"
   },
   {
    "duration": 5649,
    "start_time": "2024-04-18T11:25:28.444Z"
   },
   {
    "duration": 15,
    "start_time": "2024-04-18T11:25:42.177Z"
   },
   {
    "duration": 4,
    "start_time": "2024-04-18T11:25:56.227Z"
   },
   {
    "duration": 12,
    "start_time": "2024-04-18T11:25:58.883Z"
   },
   {
    "duration": 9,
    "start_time": "2024-04-18T11:26:48.555Z"
   },
   {
    "duration": 8,
    "start_time": "2024-04-18T11:26:52.112Z"
   },
   {
    "duration": 3,
    "start_time": "2024-04-18T11:27:04.449Z"
   },
   {
    "duration": 3,
    "start_time": "2024-04-18T11:27:09.306Z"
   },
   {
    "duration": 5466,
    "start_time": "2024-04-18T11:27:10.739Z"
   },
   {
    "duration": 11,
    "start_time": "2024-04-18T11:27:17.381Z"
   },
   {
    "duration": 10,
    "start_time": "2024-04-18T11:27:20.584Z"
   },
   {
    "duration": 9067,
    "start_time": "2024-04-18T11:27:31.382Z"
   },
   {
    "duration": 17,
    "start_time": "2024-04-18T11:29:06.042Z"
   },
   {
    "duration": 165,
    "start_time": "2024-04-18T11:30:21.326Z"
   },
   {
    "duration": 3105,
    "start_time": "2024-04-18T11:30:37.085Z"
   },
   {
    "duration": 3329,
    "start_time": "2024-04-18T11:30:48.245Z"
   },
   {
    "duration": 9,
    "start_time": "2024-04-18T11:31:47.933Z"
   },
   {
    "duration": 12,
    "start_time": "2024-04-18T11:32:04.058Z"
   },
   {
    "duration": 4,
    "start_time": "2024-04-18T11:32:18.558Z"
   },
   {
    "duration": 7,
    "start_time": "2024-04-18T11:32:48.771Z"
   },
   {
    "duration": 8,
    "start_time": "2024-04-18T11:32:59.147Z"
   },
   {
    "duration": 11,
    "start_time": "2024-04-18T11:33:04.012Z"
   },
   {
    "duration": 19,
    "start_time": "2024-04-18T11:33:16.313Z"
   },
   {
    "duration": 14,
    "start_time": "2024-04-18T11:33:34.221Z"
   },
   {
    "duration": 1115,
    "start_time": "2024-04-18T11:33:50.719Z"
   },
   {
    "duration": 14,
    "start_time": "2024-04-18T11:33:57.358Z"
   },
   {
    "duration": 8,
    "start_time": "2024-04-18T11:34:14.963Z"
   },
   {
    "duration": 4,
    "start_time": "2024-04-18T11:34:26.767Z"
   },
   {
    "duration": 8,
    "start_time": "2024-04-18T11:38:15.455Z"
   },
   {
    "duration": 6,
    "start_time": "2024-04-18T11:38:26.435Z"
   },
   {
    "duration": 4,
    "start_time": "2024-04-18T11:38:29.929Z"
   },
   {
    "duration": 3,
    "start_time": "2024-04-18T11:38:32.530Z"
   },
   {
    "duration": 4,
    "start_time": "2024-04-18T11:38:37.698Z"
   },
   {
    "duration": 1168,
    "start_time": "2024-04-19T08:06:01.225Z"
   },
   {
    "duration": 1740,
    "start_time": "2024-04-19T08:06:03.185Z"
   },
   {
    "duration": 21,
    "start_time": "2024-04-19T08:06:04.955Z"
   },
   {
    "duration": 16,
    "start_time": "2024-04-19T08:06:06.505Z"
   },
   {
    "duration": 11,
    "start_time": "2024-04-19T08:06:07.824Z"
   },
   {
    "duration": 14,
    "start_time": "2024-04-19T08:06:08.264Z"
   },
   {
    "duration": 35,
    "start_time": "2024-04-19T08:06:08.795Z"
   },
   {
    "duration": 8,
    "start_time": "2024-04-19T08:06:09.055Z"
   },
   {
    "duration": 10,
    "start_time": "2024-04-19T08:06:10.225Z"
   },
   {
    "duration": 25,
    "start_time": "2024-04-19T08:06:10.625Z"
   },
   {
    "duration": 12,
    "start_time": "2024-04-19T08:06:10.915Z"
   },
   {
    "duration": 10,
    "start_time": "2024-04-19T08:06:11.572Z"
   },
   {
    "duration": 20,
    "start_time": "2024-04-19T08:06:11.583Z"
   },
   {
    "duration": 11,
    "start_time": "2024-04-19T08:06:12.915Z"
   },
   {
    "duration": 41,
    "start_time": "2024-04-19T08:06:13.285Z"
   },
   {
    "duration": 52,
    "start_time": "2024-04-19T08:06:16.495Z"
   },
   {
    "duration": 15,
    "start_time": "2024-04-19T08:06:16.965Z"
   },
   {
    "duration": 58,
    "start_time": "2024-04-19T08:06:17.315Z"
   },
   {
    "duration": 8,
    "start_time": "2024-04-19T08:06:18.576Z"
   },
   {
    "duration": 58,
    "start_time": "2024-04-19T08:06:19.315Z"
   },
   {
    "duration": 13,
    "start_time": "2024-04-19T08:06:19.605Z"
   },
   {
    "duration": 12,
    "start_time": "2024-04-19T08:06:19.904Z"
   },
   {
    "duration": 10,
    "start_time": "2024-04-19T08:06:20.184Z"
   },
   {
    "duration": 53,
    "start_time": "2024-04-19T08:06:21.775Z"
   },
   {
    "duration": 13,
    "start_time": "2024-04-19T08:06:21.977Z"
   },
   {
    "duration": 19,
    "start_time": "2024-04-19T08:06:22.366Z"
   },
   {
    "duration": 16,
    "start_time": "2024-04-19T08:06:22.975Z"
   },
   {
    "duration": 3,
    "start_time": "2024-04-19T08:07:14.066Z"
   },
   {
    "duration": 3,
    "start_time": "2024-04-19T08:07:15.585Z"
   },
   {
    "duration": 3,
    "start_time": "2024-04-19T08:07:15.916Z"
   },
   {
    "duration": 5,
    "start_time": "2024-04-19T08:13:54.145Z"
   },
   {
    "duration": 3,
    "start_time": "2024-04-19T08:14:16.748Z"
   },
   {
    "duration": 107,
    "start_time": "2024-04-19T08:15:09.236Z"
   },
   {
    "duration": 321,
    "start_time": "2024-04-19T08:15:17.671Z"
   },
   {
    "duration": 18,
    "start_time": "2024-04-19T08:15:29.546Z"
   },
   {
    "duration": 3,
    "start_time": "2024-04-19T08:15:44.556Z"
   },
   {
    "duration": 3,
    "start_time": "2024-04-19T08:15:45.036Z"
   },
   {
    "duration": 2450,
    "start_time": "2024-04-19T08:15:45.526Z"
   },
   {
    "duration": 15,
    "start_time": "2024-04-19T08:15:54.516Z"
   },
   {
    "duration": 8,
    "start_time": "2024-04-19T08:15:59.298Z"
   },
   {
    "duration": 8,
    "start_time": "2024-04-19T08:16:01.608Z"
   },
   {
    "duration": 4,
    "start_time": "2024-04-19T08:16:06.587Z"
   },
   {
    "duration": 4,
    "start_time": "2024-04-19T08:16:29.595Z"
   },
   {
    "duration": 3,
    "start_time": "2024-04-19T08:16:30.476Z"
   },
   {
    "duration": 2420,
    "start_time": "2024-04-19T08:16:31.025Z"
   },
   {
    "duration": 2389,
    "start_time": "2024-04-19T08:16:48.595Z"
   },
   {
    "duration": 2378,
    "start_time": "2024-04-19T08:17:19.595Z"
   },
   {
    "duration": 5,
    "start_time": "2024-04-19T08:17:38.086Z"
   },
   {
    "duration": 4,
    "start_time": "2024-04-19T08:17:43.105Z"
   },
   {
    "duration": 5,
    "start_time": "2024-04-19T08:17:48.039Z"
   },
   {
    "duration": 7,
    "start_time": "2024-04-19T08:20:48.988Z"
   },
   {
    "duration": 6,
    "start_time": "2024-04-19T08:21:01.528Z"
   },
   {
    "duration": 6,
    "start_time": "2024-04-19T08:21:07.138Z"
   },
   {
    "duration": 104,
    "start_time": "2024-04-19T08:23:22.464Z"
   },
   {
    "duration": 4,
    "start_time": "2024-04-19T08:23:30.967Z"
   },
   {
    "duration": 5,
    "start_time": "2024-04-19T08:23:48.585Z"
   },
   {
    "duration": 15,
    "start_time": "2024-04-19T08:27:36.826Z"
   },
   {
    "duration": 5,
    "start_time": "2024-04-19T08:28:29.301Z"
   },
   {
    "duration": 4,
    "start_time": "2024-04-19T08:28:57.504Z"
   },
   {
    "duration": 4,
    "start_time": "2024-04-19T08:29:13.326Z"
   },
   {
    "duration": 1190,
    "start_time": "2024-04-19T08:32:09.856Z"
   },
   {
    "duration": 460,
    "start_time": "2024-04-19T08:32:11.049Z"
   },
   {
    "duration": 20,
    "start_time": "2024-04-19T08:32:11.511Z"
   },
   {
    "duration": 45,
    "start_time": "2024-04-19T08:32:11.533Z"
   },
   {
    "duration": 12,
    "start_time": "2024-04-19T08:32:11.581Z"
   },
   {
    "duration": 14,
    "start_time": "2024-04-19T08:32:11.595Z"
   },
   {
    "duration": 65,
    "start_time": "2024-04-19T08:32:11.611Z"
   },
   {
    "duration": 8,
    "start_time": "2024-04-19T08:32:11.678Z"
   },
   {
    "duration": 12,
    "start_time": "2024-04-19T08:32:11.688Z"
   },
   {
    "duration": 25,
    "start_time": "2024-04-19T08:32:11.701Z"
   },
   {
    "duration": 12,
    "start_time": "2024-04-19T08:32:11.728Z"
   },
   {
    "duration": 40,
    "start_time": "2024-04-19T08:32:11.742Z"
   },
   {
    "duration": 10,
    "start_time": "2024-04-19T08:32:11.784Z"
   },
   {
    "duration": 11,
    "start_time": "2024-04-19T08:32:11.798Z"
   },
   {
    "duration": 65,
    "start_time": "2024-04-19T08:32:11.811Z"
   },
   {
    "duration": 56,
    "start_time": "2024-04-19T08:32:11.878Z"
   },
   {
    "duration": 12,
    "start_time": "2024-04-19T08:32:11.936Z"
   },
   {
    "duration": 29,
    "start_time": "2024-04-19T08:32:11.950Z"
   },
   {
    "duration": 191,
    "start_time": "2024-04-19T08:32:11.982Z"
   },
   {
    "duration": 58,
    "start_time": "2024-04-19T08:32:12.175Z"
   },
   {
    "duration": 11,
    "start_time": "2024-04-19T08:32:12.235Z"
   },
   {
    "duration": 26,
    "start_time": "2024-04-19T08:32:12.248Z"
   },
   {
    "duration": 99,
    "start_time": "2024-04-19T08:32:12.277Z"
   },
   {
    "duration": 137,
    "start_time": "2024-04-19T08:32:12.380Z"
   },
   {
    "duration": 14,
    "start_time": "2024-04-19T08:32:12.519Z"
   },
   {
    "duration": 40,
    "start_time": "2024-04-19T08:32:12.534Z"
   },
   {
    "duration": 100,
    "start_time": "2024-04-19T08:32:12.576Z"
   },
   {
    "duration": 6,
    "start_time": "2024-04-19T08:32:12.677Z"
   },
   {
    "duration": 6,
    "start_time": "2024-04-19T08:32:12.684Z"
   },
   {
    "duration": 7,
    "start_time": "2024-04-19T08:32:12.691Z"
   },
   {
    "duration": 7,
    "start_time": "2024-04-19T08:32:12.700Z"
   },
   {
    "duration": 9,
    "start_time": "2024-04-19T08:32:12.709Z"
   },
   {
    "duration": 2445,
    "start_time": "2024-04-19T08:32:12.719Z"
   },
   {
    "duration": 2396,
    "start_time": "2024-04-19T08:32:15.166Z"
   },
   {
    "duration": 2330,
    "start_time": "2024-04-19T08:32:17.563Z"
   },
   {
    "duration": 4,
    "start_time": "2024-04-19T08:32:19.895Z"
   },
   {
    "duration": 19,
    "start_time": "2024-04-19T08:32:19.901Z"
   },
   {
    "duration": 6,
    "start_time": "2024-04-19T08:32:19.921Z"
   },
   {
    "duration": 27,
    "start_time": "2024-04-19T08:32:19.928Z"
   },
   {
    "duration": 18,
    "start_time": "2024-04-19T08:32:19.957Z"
   },
   {
    "duration": 4,
    "start_time": "2024-04-19T08:32:19.980Z"
   },
   {
    "duration": 13,
    "start_time": "2024-04-19T08:32:19.986Z"
   },
   {
    "duration": 27,
    "start_time": "2024-04-19T08:32:20.001Z"
   },
   {
    "duration": 29,
    "start_time": "2024-04-19T08:32:20.029Z"
   },
   {
    "duration": 1126,
    "start_time": "2024-04-20T07:52:01.472Z"
   },
   {
    "duration": 656,
    "start_time": "2024-04-20T07:52:02.600Z"
   },
   {
    "duration": 20,
    "start_time": "2024-04-20T07:52:03.258Z"
   },
   {
    "duration": 15,
    "start_time": "2024-04-20T07:52:03.279Z"
   },
   {
    "duration": 10,
    "start_time": "2024-04-20T07:52:03.296Z"
   },
   {
    "duration": 12,
    "start_time": "2024-04-20T07:52:03.308Z"
   },
   {
    "duration": 63,
    "start_time": "2024-04-20T07:52:03.321Z"
   },
   {
    "duration": 8,
    "start_time": "2024-04-20T07:52:03.385Z"
   },
   {
    "duration": 15,
    "start_time": "2024-04-20T07:52:03.394Z"
   },
   {
    "duration": 23,
    "start_time": "2024-04-20T07:52:03.410Z"
   },
   {
    "duration": 11,
    "start_time": "2024-04-20T07:52:03.435Z"
   },
   {
    "duration": 35,
    "start_time": "2024-04-20T07:52:03.447Z"
   },
   {
    "duration": 10,
    "start_time": "2024-04-20T07:52:03.484Z"
   },
   {
    "duration": 12,
    "start_time": "2024-04-20T07:52:03.497Z"
   },
   {
    "duration": 31,
    "start_time": "2024-04-20T07:52:03.511Z"
   },
   {
    "duration": 69,
    "start_time": "2024-04-20T07:52:03.543Z"
   },
   {
    "duration": 12,
    "start_time": "2024-04-20T07:52:03.614Z"
   },
   {
    "duration": 18,
    "start_time": "2024-04-20T07:52:03.628Z"
   },
   {
    "duration": 143,
    "start_time": "2024-04-20T07:52:03.647Z"
   },
   {
    "duration": 53,
    "start_time": "2024-04-20T07:52:03.792Z"
   },
   {
    "duration": 12,
    "start_time": "2024-04-20T07:52:03.846Z"
   },
   {
    "duration": 25,
    "start_time": "2024-04-20T07:52:03.859Z"
   },
   {
    "duration": 11,
    "start_time": "2024-04-20T07:52:03.886Z"
   },
   {
    "duration": 224,
    "start_time": "2024-04-20T07:52:03.899Z"
   },
   {
    "duration": 12,
    "start_time": "2024-04-20T07:52:04.124Z"
   },
   {
    "duration": 10,
    "start_time": "2024-04-20T07:52:04.138Z"
   },
   {
    "duration": 100,
    "start_time": "2024-04-20T07:52:04.184Z"
   },
   {
    "duration": 13,
    "start_time": "2024-04-20T07:52:04.286Z"
   },
   {
    "duration": 13,
    "start_time": "2024-04-20T07:52:04.301Z"
   },
   {
    "duration": 21,
    "start_time": "2024-04-20T07:52:04.316Z"
   },
   {
    "duration": 10,
    "start_time": "2024-04-20T07:52:04.338Z"
   },
   {
    "duration": 24,
    "start_time": "2024-04-20T07:52:04.349Z"
   },
   {
    "duration": 2246,
    "start_time": "2024-04-20T07:52:04.375Z"
   },
   {
    "duration": 2301,
    "start_time": "2024-04-20T07:52:06.622Z"
   },
   {
    "duration": 2216,
    "start_time": "2024-04-20T07:52:08.924Z"
   },
   {
    "duration": 4,
    "start_time": "2024-04-20T07:52:11.142Z"
   },
   {
    "duration": 16,
    "start_time": "2024-04-20T07:52:11.148Z"
   },
   {
    "duration": 4,
    "start_time": "2024-04-20T07:52:11.166Z"
   },
   {
    "duration": 14,
    "start_time": "2024-04-20T07:52:11.171Z"
   },
   {
    "duration": 13,
    "start_time": "2024-04-20T07:52:11.187Z"
   },
   {
    "duration": 5,
    "start_time": "2024-04-20T07:52:11.204Z"
   },
   {
    "duration": 5,
    "start_time": "2024-04-20T07:52:11.211Z"
   },
   {
    "duration": 6,
    "start_time": "2024-04-20T07:52:11.218Z"
   },
   {
    "duration": 4,
    "start_time": "2024-04-20T07:52:11.225Z"
   },
   {
    "duration": 5,
    "start_time": "2024-04-20T07:52:47.595Z"
   },
   {
    "duration": 3,
    "start_time": "2024-04-20T07:52:48.017Z"
   },
   {
    "duration": 2208,
    "start_time": "2024-04-20T07:52:48.395Z"
   },
   {
    "duration": 2241,
    "start_time": "2024-04-20T07:52:50.605Z"
   },
   {
    "duration": 2229,
    "start_time": "2024-04-20T07:52:52.847Z"
   },
   {
    "duration": 4,
    "start_time": "2024-04-20T07:52:56.368Z"
   },
   {
    "duration": 6,
    "start_time": "2024-04-20T07:52:58.866Z"
   },
   {
    "duration": 4,
    "start_time": "2024-04-20T07:52:59.715Z"
   },
   {
    "duration": 4,
    "start_time": "2024-04-20T07:53:00.669Z"
   },
   {
    "duration": 4,
    "start_time": "2024-04-20T07:53:57.189Z"
   },
   {
    "duration": 3,
    "start_time": "2024-04-20T07:54:28.558Z"
   },
   {
    "duration": 3,
    "start_time": "2024-04-20T07:54:29.070Z"
   },
   {
    "duration": 2246,
    "start_time": "2024-04-20T07:54:30.960Z"
   },
   {
    "duration": 2205,
    "start_time": "2024-04-20T07:54:33.863Z"
   },
   {
    "duration": 2184,
    "start_time": "2024-04-20T07:54:37.398Z"
   },
   {
    "duration": 5,
    "start_time": "2024-04-20T07:54:39.583Z"
   },
   {
    "duration": 6,
    "start_time": "2024-04-20T07:54:41.269Z"
   },
   {
    "duration": 4,
    "start_time": "2024-04-20T07:54:41.720Z"
   },
   {
    "duration": 3,
    "start_time": "2024-04-20T07:56:10.975Z"
   },
   {
    "duration": 3,
    "start_time": "2024-04-20T07:56:11.593Z"
   },
   {
    "duration": 2189,
    "start_time": "2024-04-20T07:56:12.221Z"
   },
   {
    "duration": 2197,
    "start_time": "2024-04-20T07:56:15.656Z"
   },
   {
    "duration": 2207,
    "start_time": "2024-04-20T07:56:25.414Z"
   },
   {
    "duration": 6,
    "start_time": "2024-04-20T07:56:28.607Z"
   },
   {
    "duration": 6,
    "start_time": "2024-04-20T07:56:30.041Z"
   },
   {
    "duration": 4,
    "start_time": "2024-04-20T07:56:31.162Z"
   },
   {
    "duration": 4,
    "start_time": "2024-04-20T07:56:32.100Z"
   },
   {
    "duration": 5,
    "start_time": "2024-04-20T07:56:35.172Z"
   },
   {
    "duration": 4,
    "start_time": "2024-04-20T07:56:35.687Z"
   },
   {
    "duration": 5,
    "start_time": "2024-04-20T07:56:36.383Z"
   },
   {
    "duration": 6,
    "start_time": "2024-04-20T07:56:38.402Z"
   },
   {
    "duration": 4,
    "start_time": "2024-04-20T07:56:38.976Z"
   },
   {
    "duration": 3,
    "start_time": "2024-04-20T07:56:54.781Z"
   },
   {
    "duration": 2,
    "start_time": "2024-04-20T07:56:55.601Z"
   },
   {
    "duration": 2171,
    "start_time": "2024-04-20T07:56:56.496Z"
   },
   {
    "duration": 2174,
    "start_time": "2024-04-20T07:56:59.159Z"
   },
   {
    "duration": 2254,
    "start_time": "2024-04-20T07:57:02.139Z"
   },
   {
    "duration": 5,
    "start_time": "2024-04-20T07:57:04.395Z"
   },
   {
    "duration": 7,
    "start_time": "2024-04-20T07:57:05.479Z"
   },
   {
    "duration": 5,
    "start_time": "2024-04-20T07:57:07.719Z"
   },
   {
    "duration": 5,
    "start_time": "2024-04-20T07:57:09.631Z"
   },
   {
    "duration": 6,
    "start_time": "2024-04-20T07:57:10.069Z"
   },
   {
    "duration": 4,
    "start_time": "2024-04-20T07:57:10.632Z"
   },
   {
    "duration": 5,
    "start_time": "2024-04-20T07:57:12.596Z"
   },
   {
    "duration": 6,
    "start_time": "2024-04-20T07:57:12.940Z"
   },
   {
    "duration": 5,
    "start_time": "2024-04-20T07:57:13.331Z"
   },
   {
    "duration": 78,
    "start_time": "2024-04-20T08:00:32.472Z"
   },
   {
    "duration": 1084,
    "start_time": "2024-04-20T08:00:50.074Z"
   },
   {
    "duration": 397,
    "start_time": "2024-04-20T08:00:51.160Z"
   },
   {
    "duration": 27,
    "start_time": "2024-04-20T08:00:51.559Z"
   },
   {
    "duration": 15,
    "start_time": "2024-04-20T08:00:51.588Z"
   },
   {
    "duration": 11,
    "start_time": "2024-04-20T08:00:51.605Z"
   },
   {
    "duration": 12,
    "start_time": "2024-04-20T08:00:51.618Z"
   },
   {
    "duration": 53,
    "start_time": "2024-04-20T08:00:51.631Z"
   },
   {
    "duration": 9,
    "start_time": "2024-04-20T08:00:51.685Z"
   },
   {
    "duration": 13,
    "start_time": "2024-04-20T08:00:51.695Z"
   },
   {
    "duration": 24,
    "start_time": "2024-04-20T08:00:51.711Z"
   },
   {
    "duration": 11,
    "start_time": "2024-04-20T08:00:51.736Z"
   },
   {
    "duration": 47,
    "start_time": "2024-04-20T08:00:51.748Z"
   },
   {
    "duration": 31,
    "start_time": "2024-04-20T08:00:51.796Z"
   },
   {
    "duration": 22,
    "start_time": "2024-04-20T08:00:51.829Z"
   },
   {
    "duration": 42,
    "start_time": "2024-04-20T08:00:51.853Z"
   },
   {
    "duration": 46,
    "start_time": "2024-04-20T08:00:51.897Z"
   },
   {
    "duration": 11,
    "start_time": "2024-04-20T08:00:51.945Z"
   },
   {
    "duration": 47,
    "start_time": "2024-04-20T08:00:51.957Z"
   },
   {
    "duration": 178,
    "start_time": "2024-04-20T08:00:52.006Z"
   },
   {
    "duration": 44,
    "start_time": "2024-04-20T08:00:52.185Z"
   },
   {
    "duration": 12,
    "start_time": "2024-04-20T08:00:52.230Z"
   },
   {
    "duration": 43,
    "start_time": "2024-04-20T08:00:52.244Z"
   },
   {
    "duration": 98,
    "start_time": "2024-04-20T08:00:52.290Z"
   },
   {
    "duration": 117,
    "start_time": "2024-04-20T08:00:52.390Z"
   },
   {
    "duration": 12,
    "start_time": "2024-04-20T08:00:52.509Z"
   },
   {
    "duration": 62,
    "start_time": "2024-04-20T08:00:52.523Z"
   },
   {
    "duration": 97,
    "start_time": "2024-04-20T08:00:52.588Z"
   },
   {
    "duration": 3,
    "start_time": "2024-04-20T08:00:52.688Z"
   },
   {
    "duration": 4,
    "start_time": "2024-04-20T08:00:52.693Z"
   },
   {
    "duration": 9,
    "start_time": "2024-04-20T08:00:52.698Z"
   },
   {
    "duration": 4,
    "start_time": "2024-04-20T08:00:52.708Z"
   },
   {
    "duration": 4,
    "start_time": "2024-04-20T08:00:52.713Z"
   },
   {
    "duration": 2228,
    "start_time": "2024-04-20T08:00:52.719Z"
   },
   {
    "duration": 2150,
    "start_time": "2024-04-20T08:00:54.949Z"
   },
   {
    "duration": 2173,
    "start_time": "2024-04-20T08:00:57.101Z"
   },
   {
    "duration": 7,
    "start_time": "2024-04-20T08:00:59.276Z"
   },
   {
    "duration": 13,
    "start_time": "2024-04-20T08:00:59.284Z"
   },
   {
    "duration": 6,
    "start_time": "2024-04-20T08:00:59.299Z"
   },
   {
    "duration": 10,
    "start_time": "2024-04-20T08:00:59.306Z"
   },
   {
    "duration": 10,
    "start_time": "2024-04-20T08:00:59.317Z"
   },
   {
    "duration": 7,
    "start_time": "2024-04-20T08:00:59.329Z"
   },
   {
    "duration": 9,
    "start_time": "2024-04-20T08:00:59.338Z"
   },
   {
    "duration": 10,
    "start_time": "2024-04-20T08:00:59.349Z"
   },
   {
    "duration": 24,
    "start_time": "2024-04-20T08:00:59.361Z"
   }
  ],
  "kernelspec": {
   "display_name": "Python 3 (ipykernel)",
   "language": "python",
   "name": "python3"
  },
  "language_info": {
   "codemirror_mode": {
    "name": "ipython",
    "version": 3
   },
   "file_extension": ".py",
   "mimetype": "text/x-python",
   "name": "python",
   "nbconvert_exporter": "python",
   "pygments_lexer": "ipython3",
   "version": "3.9.5"
  },
  "toc": {
   "base_numbering": 1,
   "nav_menu": {},
   "number_sections": true,
   "sideBar": true,
   "skip_h1_title": true,
   "title_cell": "Table of Contents",
   "title_sidebar": "Contents",
   "toc_cell": false,
   "toc_position": {},
   "toc_section_display": true,
   "toc_window_display": false
  }
 },
 "nbformat": 4,
 "nbformat_minor": 2
}
