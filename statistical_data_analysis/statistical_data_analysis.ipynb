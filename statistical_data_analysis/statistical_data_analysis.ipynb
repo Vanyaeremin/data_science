{
 "cells": [
  {
   "cell_type": "markdown",
   "id": "8d2b2d36",
   "metadata": {},
   "source": [
    "# Введение\n",
    "\n",
    "Вы аналитик популярного сервиса аренды самокатов GoFast. Вам передали данные о некоторых пользователях из нескольких городов, а также об их поездках. Проанализируйте данные и проверьте некоторые гипотезы, которые могут помочь бизнесу вырасти.\n",
    "Чтобы совершать поездки по городу, пользователи сервиса GoFast пользуются мобильным приложением. Сервисом можно пользоваться:\n",
    "без подписки\n",
    "абонентская плата отсутствует;\n",
    "стоимость одной минуты поездки — \n",
    "8 рублей;\n",
    "стоимость старта (начала поездки) — \n",
    "50 рублей;\n",
    "с подпиской Ultra\n",
    "абонентская плата — \n",
    "199 рублей в месяц;\n",
    "стоимость одной минуты поездки — \n",
    "6 рублей;\n",
    "стоимость старта — бесплатно.\n",
    "\n",
    "# План работы\n",
    "1) Изучение общей информации\\\n",
    "2) Предобработка данных\\\n",
    "3) Анализ данных\\\n",
    "4) Объединение данных\\\n",
    "5) Подсчёт выручки\\\n",
    "6) Проверка гипотез\\\n",
    "7) Распределения\n",
    "\n",
    "# Описание данных\n",
    "\n",
    "### Пользователи — `users_go.csv`\n",
    "`user_id` - уникальный идентификатор пользователя\\\n",
    "`name` - имя пользователя\\\n",
    "`age` - возраст\\\n",
    "`city` - город\\\n",
    "`subscription_type`\t- тип подписки (free, ultra)\n",
    "### Поездки — `rides_go.csv`\n",
    "`user_id` - уникальный идентификатор пользователя\\\n",
    "`distance` - расстояние, которое пользователь проехал в текущей сессии (в метрах)\\\n",
    "`duration` - продолжительность сессии (в минутах) — время с того момента, как пользователь нажал кнопку «Начать поездку» до момента, как он нажал кнопку «Завершить поездку»\\\n",
    "`date` - дата совершения поездки\n",
    "### Подписки — `subscriptions_go.csv`\n",
    "`subscription_type` - тип подписки\\\n",
    "`minute_price` - стоимость одной минуты поездки по данной подписке\\\n",
    "`start_ride_price` - стоимость начала поездки\\\n",
    "`subscription_fee` - стоимость ежемесячного платежа"
   ]
  },
  {
   "cell_type": "code",
   "execution_count": 1,
   "id": "72576667",
   "metadata": {},
   "outputs": [],
   "source": [
    "import pandas as pd\n",
    "import matplotlib.pyplot as plt"
   ]
  },
  {
   "cell_type": "markdown",
   "id": "c42cbe00",
   "metadata": {},
   "source": [
    "#### Шаг 1. Загрузка данных"
   ]
  },
  {
   "cell_type": "code",
   "execution_count": 2,
   "id": "eff9f206",
   "metadata": {},
   "outputs": [
    {
     "data": {
      "text/html": [
       "<div>\n",
       "<style scoped>\n",
       "    .dataframe tbody tr th:only-of-type {\n",
       "        vertical-align: middle;\n",
       "    }\n",
       "\n",
       "    .dataframe tbody tr th {\n",
       "        vertical-align: top;\n",
       "    }\n",
       "\n",
       "    .dataframe thead th {\n",
       "        text-align: right;\n",
       "    }\n",
       "</style>\n",
       "<table border=\"1\" class=\"dataframe\">\n",
       "  <thead>\n",
       "    <tr style=\"text-align: right;\">\n",
       "      <th></th>\n",
       "      <th>user_id</th>\n",
       "      <th>name</th>\n",
       "      <th>age</th>\n",
       "      <th>city</th>\n",
       "      <th>subscription_type</th>\n",
       "    </tr>\n",
       "  </thead>\n",
       "  <tbody>\n",
       "    <tr>\n",
       "      <th>0</th>\n",
       "      <td>1</td>\n",
       "      <td>Кира</td>\n",
       "      <td>22</td>\n",
       "      <td>Тюмень</td>\n",
       "      <td>ultra</td>\n",
       "    </tr>\n",
       "    <tr>\n",
       "      <th>1</th>\n",
       "      <td>2</td>\n",
       "      <td>Станислав</td>\n",
       "      <td>31</td>\n",
       "      <td>Омск</td>\n",
       "      <td>ultra</td>\n",
       "    </tr>\n",
       "    <tr>\n",
       "      <th>2</th>\n",
       "      <td>3</td>\n",
       "      <td>Алексей</td>\n",
       "      <td>20</td>\n",
       "      <td>Москва</td>\n",
       "      <td>ultra</td>\n",
       "    </tr>\n",
       "    <tr>\n",
       "      <th>3</th>\n",
       "      <td>4</td>\n",
       "      <td>Константин</td>\n",
       "      <td>26</td>\n",
       "      <td>Ростов-на-Дону</td>\n",
       "      <td>ultra</td>\n",
       "    </tr>\n",
       "    <tr>\n",
       "      <th>4</th>\n",
       "      <td>5</td>\n",
       "      <td>Адель</td>\n",
       "      <td>28</td>\n",
       "      <td>Омск</td>\n",
       "      <td>ultra</td>\n",
       "    </tr>\n",
       "  </tbody>\n",
       "</table>\n",
       "</div>"
      ],
      "text/plain": [
       "   user_id        name  age            city subscription_type\n",
       "0        1        Кира   22          Тюмень             ultra\n",
       "1        2   Станислав   31            Омск             ultra\n",
       "2        3     Алексей   20          Москва             ultra\n",
       "3        4  Константин   26  Ростов-на-Дону             ultra\n",
       "4        5       Адель   28            Омск             ultra"
      ]
     },
     "execution_count": 2,
     "metadata": {},
     "output_type": "execute_result"
    }
   ],
   "source": [
    "#Считаем датафрейм users_go и изучим информацию о нём.\n",
    "users = pd.read_csv('/datasets/users_go.csv')\n",
    "users.head()"
   ]
  },
  {
   "cell_type": "code",
   "execution_count": 3,
   "id": "f9e25540",
   "metadata": {},
   "outputs": [
    {
     "name": "stdout",
     "output_type": "stream",
     "text": [
      "<class 'pandas.core.frame.DataFrame'>\n",
      "RangeIndex: 1565 entries, 0 to 1564\n",
      "Data columns (total 5 columns):\n",
      " #   Column             Non-Null Count  Dtype \n",
      "---  ------             --------------  ----- \n",
      " 0   user_id            1565 non-null   int64 \n",
      " 1   name               1565 non-null   object\n",
      " 2   age                1565 non-null   int64 \n",
      " 3   city               1565 non-null   object\n",
      " 4   subscription_type  1565 non-null   object\n",
      "dtypes: int64(2), object(3)\n",
      "memory usage: 61.3+ KB\n"
     ]
    }
   ],
   "source": [
    "users.info()"
   ]
  },
  {
   "cell_type": "code",
   "execution_count": 4,
   "id": "4fefbede",
   "metadata": {},
   "outputs": [
    {
     "data": {
      "text/plain": [
       "user_id              0\n",
       "name                 0\n",
       "age                  0\n",
       "city                 0\n",
       "subscription_type    0\n",
       "dtype: int64"
      ]
     },
     "execution_count": 4,
     "metadata": {},
     "output_type": "execute_result"
    }
   ],
   "source": [
    "users.isna().sum()"
   ]
  },
  {
   "cell_type": "code",
   "execution_count": 5,
   "id": "6587f3ce",
   "metadata": {},
   "outputs": [
    {
     "data": {
      "text/plain": [
       "(1565, 5)"
      ]
     },
     "execution_count": 5,
     "metadata": {},
     "output_type": "execute_result"
    }
   ],
   "source": [
    "users.shape"
   ]
  },
  {
   "cell_type": "markdown",
   "id": "cef147d9",
   "metadata": {},
   "source": [
    "В ходе обзора данных первого датафрейма были изучены его первые строки, тип значений столбцов и количество значений в них. Пропуски в данном датафрейме отсутствуют, типы данных в столбцах указаны верно"
   ]
  },
  {
   "cell_type": "code",
   "execution_count": 6,
   "id": "f3bd70ba",
   "metadata": {},
   "outputs": [
    {
     "data": {
      "text/html": [
       "<div>\n",
       "<style scoped>\n",
       "    .dataframe tbody tr th:only-of-type {\n",
       "        vertical-align: middle;\n",
       "    }\n",
       "\n",
       "    .dataframe tbody tr th {\n",
       "        vertical-align: top;\n",
       "    }\n",
       "\n",
       "    .dataframe thead th {\n",
       "        text-align: right;\n",
       "    }\n",
       "</style>\n",
       "<table border=\"1\" class=\"dataframe\">\n",
       "  <thead>\n",
       "    <tr style=\"text-align: right;\">\n",
       "      <th></th>\n",
       "      <th>user_id</th>\n",
       "      <th>distance</th>\n",
       "      <th>duration</th>\n",
       "      <th>date</th>\n",
       "    </tr>\n",
       "  </thead>\n",
       "  <tbody>\n",
       "    <tr>\n",
       "      <th>0</th>\n",
       "      <td>1</td>\n",
       "      <td>4409.919140</td>\n",
       "      <td>25.599769</td>\n",
       "      <td>2021-01-01</td>\n",
       "    </tr>\n",
       "    <tr>\n",
       "      <th>1</th>\n",
       "      <td>1</td>\n",
       "      <td>2617.592153</td>\n",
       "      <td>15.816871</td>\n",
       "      <td>2021-01-18</td>\n",
       "    </tr>\n",
       "    <tr>\n",
       "      <th>2</th>\n",
       "      <td>1</td>\n",
       "      <td>754.159807</td>\n",
       "      <td>6.232113</td>\n",
       "      <td>2021-04-20</td>\n",
       "    </tr>\n",
       "    <tr>\n",
       "      <th>3</th>\n",
       "      <td>1</td>\n",
       "      <td>2694.783254</td>\n",
       "      <td>18.511000</td>\n",
       "      <td>2021-08-11</td>\n",
       "    </tr>\n",
       "    <tr>\n",
       "      <th>4</th>\n",
       "      <td>1</td>\n",
       "      <td>4028.687306</td>\n",
       "      <td>26.265803</td>\n",
       "      <td>2021-08-28</td>\n",
       "    </tr>\n",
       "  </tbody>\n",
       "</table>\n",
       "</div>"
      ],
      "text/plain": [
       "   user_id     distance   duration        date\n",
       "0        1  4409.919140  25.599769  2021-01-01\n",
       "1        1  2617.592153  15.816871  2021-01-18\n",
       "2        1   754.159807   6.232113  2021-04-20\n",
       "3        1  2694.783254  18.511000  2021-08-11\n",
       "4        1  4028.687306  26.265803  2021-08-28"
      ]
     },
     "execution_count": 6,
     "metadata": {},
     "output_type": "execute_result"
    }
   ],
   "source": [
    "#Считаем датафрейм rides_go и изучим информацию о нём.\n",
    "rides = pd.read_csv('/datasets/rides_go.csv') \n",
    "rides.head()"
   ]
  },
  {
   "cell_type": "code",
   "execution_count": 7,
   "id": "9d69e1e9",
   "metadata": {},
   "outputs": [
    {
     "name": "stdout",
     "output_type": "stream",
     "text": [
      "<class 'pandas.core.frame.DataFrame'>\n",
      "RangeIndex: 18068 entries, 0 to 18067\n",
      "Data columns (total 4 columns):\n",
      " #   Column    Non-Null Count  Dtype  \n",
      "---  ------    --------------  -----  \n",
      " 0   user_id   18068 non-null  int64  \n",
      " 1   distance  18068 non-null  float64\n",
      " 2   duration  18068 non-null  float64\n",
      " 3   date      18068 non-null  object \n",
      "dtypes: float64(2), int64(1), object(1)\n",
      "memory usage: 564.8+ KB\n"
     ]
    }
   ],
   "source": [
    "rides.info()"
   ]
  },
  {
   "cell_type": "code",
   "execution_count": 8,
   "id": "7508690c",
   "metadata": {},
   "outputs": [
    {
     "data": {
      "text/plain": [
       "(18068, 4)"
      ]
     },
     "execution_count": 8,
     "metadata": {},
     "output_type": "execute_result"
    }
   ],
   "source": [
    "rides.shape"
   ]
  },
  {
   "cell_type": "code",
   "execution_count": 9,
   "id": "a2fe5795",
   "metadata": {},
   "outputs": [
    {
     "data": {
      "text/plain": [
       "user_id     0\n",
       "distance    0\n",
       "duration    0\n",
       "date        0\n",
       "dtype: int64"
      ]
     },
     "execution_count": 9,
     "metadata": {},
     "output_type": "execute_result"
    }
   ],
   "source": [
    "rides.isna().sum()"
   ]
  },
  {
   "cell_type": "markdown",
   "id": "e29c69ab",
   "metadata": {},
   "source": [
    "В ходе обзора данных второго датафрейма были изучены его первые строки, тип значений столбцов и количество значений в них. Пропуски в данном датафрейме отсутствуют, типы данных указаны верно во всех столбцах, кроме столбца с датой."
   ]
  },
  {
   "cell_type": "code",
   "execution_count": 10,
   "id": "66380184",
   "metadata": {},
   "outputs": [
    {
     "data": {
      "text/html": [
       "<div>\n",
       "<style scoped>\n",
       "    .dataframe tbody tr th:only-of-type {\n",
       "        vertical-align: middle;\n",
       "    }\n",
       "\n",
       "    .dataframe tbody tr th {\n",
       "        vertical-align: top;\n",
       "    }\n",
       "\n",
       "    .dataframe thead th {\n",
       "        text-align: right;\n",
       "    }\n",
       "</style>\n",
       "<table border=\"1\" class=\"dataframe\">\n",
       "  <thead>\n",
       "    <tr style=\"text-align: right;\">\n",
       "      <th></th>\n",
       "      <th>subscription_type</th>\n",
       "      <th>minute_price</th>\n",
       "      <th>start_ride_price</th>\n",
       "      <th>subscription_fee</th>\n",
       "    </tr>\n",
       "  </thead>\n",
       "  <tbody>\n",
       "    <tr>\n",
       "      <th>0</th>\n",
       "      <td>free</td>\n",
       "      <td>8</td>\n",
       "      <td>50</td>\n",
       "      <td>0</td>\n",
       "    </tr>\n",
       "    <tr>\n",
       "      <th>1</th>\n",
       "      <td>ultra</td>\n",
       "      <td>6</td>\n",
       "      <td>0</td>\n",
       "      <td>199</td>\n",
       "    </tr>\n",
       "  </tbody>\n",
       "</table>\n",
       "</div>"
      ],
      "text/plain": [
       "  subscription_type  minute_price  start_ride_price  subscription_fee\n",
       "0              free             8                50                 0\n",
       "1             ultra             6                 0               199"
      ]
     },
     "execution_count": 10,
     "metadata": {},
     "output_type": "execute_result"
    }
   ],
   "source": [
    "#Считаем датафрейм subscriptions_go и изучим информацию о нём.\n",
    "subscriptions = pd.read_csv('/datasets/subscriptions_go.csv')\n",
    "subscriptions.head()"
   ]
  },
  {
   "cell_type": "code",
   "execution_count": 11,
   "id": "8d76e9d5",
   "metadata": {},
   "outputs": [
    {
     "name": "stdout",
     "output_type": "stream",
     "text": [
      "<class 'pandas.core.frame.DataFrame'>\n",
      "RangeIndex: 2 entries, 0 to 1\n",
      "Data columns (total 4 columns):\n",
      " #   Column             Non-Null Count  Dtype \n",
      "---  ------             --------------  ----- \n",
      " 0   subscription_type  2 non-null      object\n",
      " 1   minute_price       2 non-null      int64 \n",
      " 2   start_ride_price   2 non-null      int64 \n",
      " 3   subscription_fee   2 non-null      int64 \n",
      "dtypes: int64(3), object(1)\n",
      "memory usage: 192.0+ bytes\n"
     ]
    }
   ],
   "source": [
    "subscriptions.info()"
   ]
  },
  {
   "cell_type": "code",
   "execution_count": 12,
   "id": "7a75e685",
   "metadata": {},
   "outputs": [
    {
     "data": {
      "text/plain": [
       "(2, 4)"
      ]
     },
     "execution_count": 12,
     "metadata": {},
     "output_type": "execute_result"
    }
   ],
   "source": [
    "subscriptions.shape"
   ]
  },
  {
   "cell_type": "code",
   "execution_count": 13,
   "id": "21a8edcd",
   "metadata": {},
   "outputs": [
    {
     "data": {
      "text/plain": [
       "subscription_type    0\n",
       "minute_price         0\n",
       "start_ride_price     0\n",
       "subscription_fee     0\n",
       "dtype: int64"
      ]
     },
     "execution_count": 13,
     "metadata": {},
     "output_type": "execute_result"
    }
   ],
   "source": [
    "subscriptions.isna().sum()"
   ]
  },
  {
   "cell_type": "markdown",
   "id": "7f26e3a3",
   "metadata": {},
   "source": [
    "В ходе обзора данных третьего датафрейма были изучены его первые строки, тип значений столбцов и количество значений в них. Пропуски в данном датафрейме отсутствуют, типы данных указаны верно во всех столбцах."
   ]
  },
  {
   "cell_type": "markdown",
   "id": "e95ebca7",
   "metadata": {},
   "source": [
    "#### Шаг 2. Предобработка данных"
   ]
  },
  {
   "cell_type": "code",
   "execution_count": 14,
   "id": "af6d202c",
   "metadata": {},
   "outputs": [
    {
     "data": {
      "text/plain": [
       "31"
      ]
     },
     "execution_count": 14,
     "metadata": {},
     "output_type": "execute_result"
    }
   ],
   "source": [
    "#Проведём проверку на дубликаты в датафреймах\n",
    "users.duplicated().sum()"
   ]
  },
  {
   "cell_type": "code",
   "execution_count": 15,
   "id": "f2f0a8af",
   "metadata": {},
   "outputs": [],
   "source": [
    "users = users.drop_duplicates() #Удаляем дубликаты"
   ]
  },
  {
   "cell_type": "code",
   "execution_count": 16,
   "id": "058b0df8",
   "metadata": {},
   "outputs": [
    {
     "data": {
      "text/plain": [
       "0"
      ]
     },
     "execution_count": 16,
     "metadata": {},
     "output_type": "execute_result"
    }
   ],
   "source": [
    "rides.duplicated().sum()"
   ]
  },
  {
   "cell_type": "code",
   "execution_count": 17,
   "id": "471a8b9b",
   "metadata": {},
   "outputs": [
    {
     "data": {
      "text/plain": [
       "0"
      ]
     },
     "execution_count": 17,
     "metadata": {},
     "output_type": "execute_result"
    }
   ],
   "source": [
    "subscriptions.duplicated().sum()"
   ]
  },
  {
   "cell_type": "code",
   "execution_count": 18,
   "id": "c8978263",
   "metadata": {},
   "outputs": [
    {
     "data": {
      "text/plain": [
       "0"
      ]
     },
     "execution_count": 18,
     "metadata": {},
     "output_type": "execute_result"
    }
   ],
   "source": [
    "users.duplicated().sum()"
   ]
  },
  {
   "cell_type": "code",
   "execution_count": 19,
   "id": "dcdf5c32",
   "metadata": {},
   "outputs": [],
   "source": [
    "#Приведём столбец с датой в датафрейме riders_go к нужному типу данных\n",
    "rides['date'] = pd.to_datetime(rides['date'], format = '%Y-%m-%d')"
   ]
  },
  {
   "cell_type": "code",
   "execution_count": 20,
   "id": "fc3b25d3",
   "metadata": {},
   "outputs": [],
   "source": [
    "rides['month'] = rides['date'].dt.month #Добавляем столбец с номером месяца"
   ]
  },
  {
   "cell_type": "code",
   "execution_count": 21,
   "id": "f5753c47",
   "metadata": {},
   "outputs": [
    {
     "name": "stdout",
     "output_type": "stream",
     "text": [
      "<class 'pandas.core.frame.DataFrame'>\n",
      "RangeIndex: 18068 entries, 0 to 18067\n",
      "Data columns (total 5 columns):\n",
      " #   Column    Non-Null Count  Dtype         \n",
      "---  ------    --------------  -----         \n",
      " 0   user_id   18068 non-null  int64         \n",
      " 1   distance  18068 non-null  float64       \n",
      " 2   duration  18068 non-null  float64       \n",
      " 3   date      18068 non-null  datetime64[ns]\n",
      " 4   month     18068 non-null  int64         \n",
      "dtypes: datetime64[ns](1), float64(2), int64(2)\n",
      "memory usage: 705.9 KB\n"
     ]
    }
   ],
   "source": [
    "rides.info() #Проверим, внесённые изменения"
   ]
  },
  {
   "cell_type": "code",
   "execution_count": 22,
   "id": "723220ae",
   "metadata": {},
   "outputs": [
    {
     "data": {
      "text/html": [
       "<div>\n",
       "<style scoped>\n",
       "    .dataframe tbody tr th:only-of-type {\n",
       "        vertical-align: middle;\n",
       "    }\n",
       "\n",
       "    .dataframe tbody tr th {\n",
       "        vertical-align: top;\n",
       "    }\n",
       "\n",
       "    .dataframe thead th {\n",
       "        text-align: right;\n",
       "    }\n",
       "</style>\n",
       "<table border=\"1\" class=\"dataframe\">\n",
       "  <thead>\n",
       "    <tr style=\"text-align: right;\">\n",
       "      <th></th>\n",
       "      <th>user_id</th>\n",
       "      <th>distance</th>\n",
       "      <th>duration</th>\n",
       "      <th>date</th>\n",
       "      <th>month</th>\n",
       "    </tr>\n",
       "  </thead>\n",
       "  <tbody>\n",
       "    <tr>\n",
       "      <th>0</th>\n",
       "      <td>1</td>\n",
       "      <td>4409.919140</td>\n",
       "      <td>25.599769</td>\n",
       "      <td>2021-01-01</td>\n",
       "      <td>1</td>\n",
       "    </tr>\n",
       "    <tr>\n",
       "      <th>1</th>\n",
       "      <td>1</td>\n",
       "      <td>2617.592153</td>\n",
       "      <td>15.816871</td>\n",
       "      <td>2021-01-18</td>\n",
       "      <td>1</td>\n",
       "    </tr>\n",
       "    <tr>\n",
       "      <th>2</th>\n",
       "      <td>1</td>\n",
       "      <td>754.159807</td>\n",
       "      <td>6.232113</td>\n",
       "      <td>2021-04-20</td>\n",
       "      <td>4</td>\n",
       "    </tr>\n",
       "    <tr>\n",
       "      <th>3</th>\n",
       "      <td>1</td>\n",
       "      <td>2694.783254</td>\n",
       "      <td>18.511000</td>\n",
       "      <td>2021-08-11</td>\n",
       "      <td>8</td>\n",
       "    </tr>\n",
       "    <tr>\n",
       "      <th>4</th>\n",
       "      <td>1</td>\n",
       "      <td>4028.687306</td>\n",
       "      <td>26.265803</td>\n",
       "      <td>2021-08-28</td>\n",
       "      <td>8</td>\n",
       "    </tr>\n",
       "  </tbody>\n",
       "</table>\n",
       "</div>"
      ],
      "text/plain": [
       "   user_id     distance   duration       date  month\n",
       "0        1  4409.919140  25.599769 2021-01-01      1\n",
       "1        1  2617.592153  15.816871 2021-01-18      1\n",
       "2        1   754.159807   6.232113 2021-04-20      4\n",
       "3        1  2694.783254  18.511000 2021-08-11      8\n",
       "4        1  4028.687306  26.265803 2021-08-28      8"
      ]
     },
     "execution_count": 22,
     "metadata": {},
     "output_type": "execute_result"
    }
   ],
   "source": [
    "rides.head() "
   ]
  },
  {
   "cell_type": "markdown",
   "id": "2fcacc7e",
   "metadata": {},
   "source": [
    "В рамках данного шага была проведена проверка на дубликаты, они были только в датафрейме `users_go`, после их обнаружения они были удалены. В датафрейме `rides_go` столбец с датой был приведён к нужному типу данных, а также был добавлен столбец с месяцем."
   ]
  },
  {
   "cell_type": "markdown",
   "id": "212593c7",
   "metadata": {},
   "source": [
    "#### Шаг 3. Исследовательский анализ данных"
   ]
  },
  {
   "cell_type": "code",
   "execution_count": 23,
   "id": "e3a4274c",
   "metadata": {},
   "outputs": [
    {
     "data": {
      "text/plain": [
       "Пятигорск         219\n",
       "Екатеринбург      204\n",
       "Ростов-на-Дону    198\n",
       "Краснодар         193\n",
       "Сочи              189\n",
       "Омск              183\n",
       "Тюмень            180\n",
       "Москва            168\n",
       "Name: city, dtype: int64"
      ]
     },
     "execution_count": 23,
     "metadata": {},
     "output_type": "execute_result"
    }
   ],
   "source": [
    "#Частота встречаемости городов\n",
    "users['city'].value_counts()"
   ]
  },
  {
   "cell_type": "code",
   "execution_count": 24,
   "id": "e9d5b3a2",
   "metadata": {},
   "outputs": [
    {
     "data": {
      "text/plain": [
       "Text(0, 0.5, 'Город')"
      ]
     },
     "execution_count": 24,
     "metadata": {},
     "output_type": "execute_result"
    },
    {
     "data": {
      "image/png": "[encoded data removed]",
      "text/plain": [
       "<Figure size 432x288 with 1 Axes>"
      ]
     },
     "metadata": {
      "needs_background": "light"
     },
     "output_type": "display_data"
    }
   ],
   "source": [
    "users['city'].value_counts().plot(x='city', y='count', kind = 'barh')\n",
    "plt.title(\"Количество пользователей из различных городов\")\n",
    "plt.xlabel(\"Количество пользователей\")\n",
    "plt.ylabel(\"Город\")"
   ]
  },
  {
   "cell_type": "markdown",
   "id": "30edd8f3",
   "metadata": {},
   "source": [
    "Чаще всего встречаются пользователи в Пятигорске и Екатеринбурге, реже всего в Тюмени и Москве"
   ]
  },
  {
   "cell_type": "code",
   "execution_count": 25,
   "id": "837e8e80",
   "metadata": {},
   "outputs": [
    {
     "data": {
      "text/plain": [
       "<AxesSubplot:title={'center':'Пользователи с подпиской и без'}, ylabel='Тип подписки'>"
      ]
     },
     "execution_count": 25,
     "metadata": {},
     "output_type": "execute_result"
    },
    {
     "data": {
      "image/png": "[encoded data removed]",
      "text/plain": [
       "<Figure size 432x288 with 1 Axes>"
      ]
     },
     "metadata": {},
     "output_type": "display_data"
    }
   ],
   "source": [
    "users['subscription_type'].value_counts().plot(y = 'count', kind = 'pie', autopct='%1.0f%%', title = 'Пользователи с подпиской и без', legend = True, ylabel = 'Тип подписки')"
   ]
  },
  {
   "cell_type": "code",
   "execution_count": 26,
   "id": "aabc2d83",
   "metadata": {},
   "outputs": [
    {
     "data": {
      "text/plain": [
       "free     835\n",
       "ultra    699\n",
       "Name: subscription_type, dtype: int64"
      ]
     },
     "execution_count": 26,
     "metadata": {},
     "output_type": "execute_result"
    }
   ],
   "source": [
    "#Соотношение пользователей с подпиской и без\n",
    "users['subscription_type'].value_counts()"
   ]
  },
  {
   "cell_type": "markdown",
   "id": "3968ecb9",
   "metadata": {},
   "source": [
    "Без подписки большее число пользователей - 835, то есть 54% от общего количества, с подпиской - 46% от общего числа пользователей (699 человек)"
   ]
  },
  {
   "cell_type": "code",
   "execution_count": 27,
   "id": "ec9c00e9",
   "metadata": {},
   "outputs": [
    {
     "data": {
      "text/plain": [
       "count    1534.000000\n",
       "mean       24.903520\n",
       "std         4.572367\n",
       "min        12.000000\n",
       "25%        22.000000\n",
       "50%        25.000000\n",
       "75%        28.000000\n",
       "max        43.000000\n",
       "Name: age, dtype: float64"
      ]
     },
     "execution_count": 27,
     "metadata": {},
     "output_type": "execute_result"
    }
   ],
   "source": [
    "#Возраст пользователей\n",
    "users['age'].describe() "
   ]
  },
  {
   "cell_type": "code",
   "execution_count": 28,
   "id": "4a856afc",
   "metadata": {},
   "outputs": [
    {
     "data": {
      "text/plain": [
       "Text(0, 0.5, 'Возраст')"
      ]
     },
     "execution_count": 28,
     "metadata": {},
     "output_type": "execute_result"
    },
    {
     "data": {
      "image/png": "[encoded data removed]",
      "text/plain": [
       "<Figure size 432x288 with 1 Axes>"
      ]
     },
     "metadata": {
      "needs_background": "light"
     },
     "output_type": "display_data"
    }
   ],
   "source": [
    "users.boxplot('age')\n",
    "plt.title(\"Диаграмма размаха возраста пользователей\")\n",
    "plt.ylabel(\"Возраст\")"
   ]
  },
  {
   "cell_type": "code",
   "execution_count": 29,
   "id": "ffe6a199",
   "metadata": {},
   "outputs": [
    {
     "data": {
      "text/plain": [
       "Text(0.5, 0, 'Возраст')"
      ]
     },
     "execution_count": 29,
     "metadata": {},
     "output_type": "execute_result"
    },
    {
     "data": {
      "image/png": "[encoded data removed]",
      "text/plain": [
       "<Figure size 432x288 with 1 Axes>"
      ]
     },
     "metadata": {
      "needs_background": "light"
     },
     "output_type": "display_data"
    }
   ],
   "source": [
    "users['age'].plot.hist(bins = 30)\n",
    "plt.title(\"Возраст пользователей\")\n",
    "plt.ylabel(\"Количество пользователей\")\n",
    "plt.xlabel(\"Возраст\")"
   ]
  },
  {
   "cell_type": "markdown",
   "id": "3766da36",
   "metadata": {},
   "source": [
    "Средний возраст пользователей - 25 лет, минимальный возраст - 12 лет, а максимальный - 43 года."
   ]
  },
  {
   "cell_type": "code",
   "execution_count": 30,
   "id": "ee62931e",
   "metadata": {},
   "outputs": [
    {
     "data": {
      "text/plain": [
       "count    18068.000000\n",
       "mean      3070.659976\n",
       "std       1116.831209\n",
       "min          0.855683\n",
       "25%       2543.226360\n",
       "50%       3133.609994\n",
       "75%       3776.222735\n",
       "max       7211.007745\n",
       "Name: distance, dtype: float64"
      ]
     },
     "execution_count": 30,
     "metadata": {},
     "output_type": "execute_result"
    }
   ],
   "source": [
    "#Расстояние, которое преодолевает пользователь за одну поездку\n",
    "rides['distance'].describe()"
   ]
  },
  {
   "cell_type": "code",
   "execution_count": 31,
   "id": "953f2c9f",
   "metadata": {},
   "outputs": [
    {
     "data": {
      "text/plain": [
       "Text(0, 0.5, 'Расстояние (м)')"
      ]
     },
     "execution_count": 31,
     "metadata": {},
     "output_type": "execute_result"
    },
    {
     "data": {
      "image/png": "[encoded data removed]",
      "text/plain": [
       "<Figure size 432x288 with 1 Axes>"
      ]
     },
     "metadata": {
      "needs_background": "light"
     },
     "output_type": "display_data"
    }
   ],
   "source": [
    "rides.boxplot('distance')\n",
    "plt.title(\"Диаграмма размаха, проеханного пользователями расстояния за одну поездку\")\n",
    "plt.ylabel(\"Расстояние (м)\")"
   ]
  },
  {
   "cell_type": "code",
   "execution_count": 32,
   "id": "529caf31",
   "metadata": {},
   "outputs": [],
   "source": [
    "#Удалим выбросы - поездки, менее 100 м.\n",
    "rides=rides.query('distance >= 100')"
   ]
  },
  {
   "cell_type": "code",
   "execution_count": 33,
   "id": "0139ab21",
   "metadata": {},
   "outputs": [
    {
     "data": {
      "text/plain": [
       "count    17990.000000\n",
       "mean      3083.724675\n",
       "std       1101.442969\n",
       "min        102.323624\n",
       "25%       2551.031541\n",
       "50%       3137.750590\n",
       "75%       3779.705094\n",
       "max       7211.007745\n",
       "Name: distance, dtype: float64"
      ]
     },
     "execution_count": 33,
     "metadata": {},
     "output_type": "execute_result"
    }
   ],
   "source": [
    "rides['distance'].describe()"
   ]
  },
  {
   "cell_type": "code",
   "execution_count": 34,
   "id": "d3c9b32f",
   "metadata": {},
   "outputs": [
    {
     "data": {
      "text/plain": [
       "Text(0, 0.5, 'Количество поездок')"
      ]
     },
     "execution_count": 34,
     "metadata": {},
     "output_type": "execute_result"
    },
    {
     "data": {
      "image/png": "[encoded data removed]",
      "text/plain": [
       "<Figure size 432x288 with 1 Axes>"
      ]
     },
     "metadata": {
      "needs_background": "light"
     },
     "output_type": "display_data"
    }
   ],
   "source": [
    "rides['distance'].hist(bins = 30)\n",
    "plt.title(\"Расстояние, которое проезжают пользователи за одну поездку\")\n",
    "plt.xlabel(\"Расстояние (м)\")\n",
    "plt.ylabel(\"Количество поездок\")"
   ]
  },
  {
   "cell_type": "markdown",
   "id": "acda62a2",
   "metadata": {},
   "source": [
    "Среднее расстояние, преодолеваемое за поездку - 3070 м., однако на гистограмме можно наблюдать два пиковых значения, скорее всего это связанно, с разными целями для поездки, кто-то использует самокат как транспорт (добраться до дома/работы/метро), кто-то же использует его в качестве развлечения и просто катается по городу. Максимальное расстояние - 7211 м., минимальное(после удаление поездок, менее 100 м.) - 102 м."
   ]
  },
  {
   "cell_type": "code",
   "execution_count": 35,
   "id": "6c5073f1",
   "metadata": {},
   "outputs": [
    {
     "data": {
      "text/plain": [
       "count    17990.000000\n",
       "mean        17.849271\n",
       "std          6.062243\n",
       "min          0.500000\n",
       "25%         13.655664\n",
       "50%         17.709849\n",
       "75%         21.742960\n",
       "max         40.823963\n",
       "Name: duration, dtype: float64"
      ]
     },
     "execution_count": 35,
     "metadata": {},
     "output_type": "execute_result"
    }
   ],
   "source": [
    "#Продолжительность поездок\n",
    "rides['duration'].describe()"
   ]
  },
  {
   "cell_type": "code",
   "execution_count": 36,
   "id": "f0ac7f6c",
   "metadata": {
    "scrolled": true
   },
   "outputs": [
    {
     "data": {
      "text/plain": [
       "Text(0, 0.5, 'Время (мин)')"
      ]
     },
     "execution_count": 36,
     "metadata": {},
     "output_type": "execute_result"
    },
    {
     "data": {
      "image/png": "[encoded data removed]",
      "text/plain": [
       "<Figure size 432x288 with 1 Axes>"
      ]
     },
     "metadata": {
      "needs_background": "light"
     },
     "output_type": "display_data"
    }
   ],
   "source": [
    "rides.boxplot('duration')\n",
    "plt.title(\"Диаграмма размаха времени одной поездки\")\n",
    "plt.ylabel(\"Время (мин)\")"
   ]
  },
  {
   "cell_type": "code",
   "execution_count": 37,
   "id": "186fed4a",
   "metadata": {},
   "outputs": [],
   "source": [
    "#Удаляем слишком маленькие поездки \n",
    "rides=rides.query('duration >= 1')"
   ]
  },
  {
   "cell_type": "code",
   "execution_count": 38,
   "id": "a33ff531",
   "metadata": {},
   "outputs": [
    {
     "data": {
      "text/plain": [
       "count    17895.000000\n",
       "mean        17.941374\n",
       "std          5.944696\n",
       "min          2.222598\n",
       "25%         13.724161\n",
       "50%         17.744733\n",
       "75%         21.764967\n",
       "max         40.823963\n",
       "Name: duration, dtype: float64"
      ]
     },
     "execution_count": 38,
     "metadata": {},
     "output_type": "execute_result"
    }
   ],
   "source": [
    "rides['duration'].describe()"
   ]
  },
  {
   "cell_type": "code",
   "execution_count": 39,
   "id": "8206495a",
   "metadata": {},
   "outputs": [
    {
     "data": {
      "text/plain": [
       "Text(0, 0.5, 'Количество поездок')"
      ]
     },
     "execution_count": 39,
     "metadata": {},
     "output_type": "execute_result"
    },
    {
     "data": {
      "image/png": "[encoded data removed]",
      "text/plain": [
       "<Figure size 432x288 with 1 Axes>"
      ]
     },
     "metadata": {
      "needs_background": "light"
     },
     "output_type": "display_data"
    }
   ],
   "source": [
    "rides['duration'].hist(bins = 30)\n",
    "plt.title(\"Время одной поездки пользователя\")\n",
    "plt.xlabel(\"Время (мин)\")\n",
    "plt.ylabel(\"Количество поездок\")"
   ]
  },
  {
   "cell_type": "markdown",
   "id": "7aeaa069",
   "metadata": {},
   "source": [
    "Среднее время поездки - 17 минут, минимальное время - 2 минуты, максимальное - 41."
   ]
  },
  {
   "cell_type": "code",
   "execution_count": 40,
   "id": "3e95cb42",
   "metadata": {},
   "outputs": [
    {
     "data": {
      "text/plain": [
       "(17895, 5)"
      ]
     },
     "execution_count": 40,
     "metadata": {},
     "output_type": "execute_result"
    }
   ],
   "source": [
    "rides.shape"
   ]
  },
  {
   "cell_type": "code",
   "execution_count": 41,
   "id": "d1ca47dc",
   "metadata": {},
   "outputs": [
    {
     "data": {
      "text/plain": [
       "99.04250608811158"
      ]
     },
     "execution_count": 41,
     "metadata": {},
     "output_type": "execute_result"
    }
   ],
   "source": [
    "17895/18068*100"
   ]
  },
  {
   "cell_type": "markdown",
   "id": "1d897386",
   "metadata": {},
   "source": [
    "Было удалено менее 1% данных из датафрейма rides_go, что является допустимым."
   ]
  },
  {
   "cell_type": "markdown",
   "id": "4ef51331",
   "metadata": {},
   "source": [
    "#### Шаг 4. Объединение данных"
   ]
  },
  {
   "cell_type": "code",
   "execution_count": 42,
   "id": "6bf288b5",
   "metadata": {
    "scrolled": false
   },
   "outputs": [
    {
     "data": {
      "text/html": [
       "<div>\n",
       "<style scoped>\n",
       "    .dataframe tbody tr th:only-of-type {\n",
       "        vertical-align: middle;\n",
       "    }\n",
       "\n",
       "    .dataframe tbody tr th {\n",
       "        vertical-align: top;\n",
       "    }\n",
       "\n",
       "    .dataframe thead th {\n",
       "        text-align: right;\n",
       "    }\n",
       "</style>\n",
       "<table border=\"1\" class=\"dataframe\">\n",
       "  <thead>\n",
       "    <tr style=\"text-align: right;\">\n",
       "      <th></th>\n",
       "      <th>user_id</th>\n",
       "      <th>name</th>\n",
       "      <th>age</th>\n",
       "      <th>city</th>\n",
       "      <th>subscription_type</th>\n",
       "      <th>distance</th>\n",
       "      <th>duration</th>\n",
       "      <th>date</th>\n",
       "      <th>month</th>\n",
       "      <th>minute_price</th>\n",
       "      <th>start_ride_price</th>\n",
       "      <th>subscription_fee</th>\n",
       "    </tr>\n",
       "  </thead>\n",
       "  <tbody>\n",
       "    <tr>\n",
       "      <th>0</th>\n",
       "      <td>1</td>\n",
       "      <td>Кира</td>\n",
       "      <td>22</td>\n",
       "      <td>Тюмень</td>\n",
       "      <td>ultra</td>\n",
       "      <td>4409.919140</td>\n",
       "      <td>26</td>\n",
       "      <td>2021-01-01</td>\n",
       "      <td>1</td>\n",
       "      <td>6</td>\n",
       "      <td>0</td>\n",
       "      <td>199</td>\n",
       "    </tr>\n",
       "    <tr>\n",
       "      <th>1</th>\n",
       "      <td>1</td>\n",
       "      <td>Кира</td>\n",
       "      <td>22</td>\n",
       "      <td>Тюмень</td>\n",
       "      <td>ultra</td>\n",
       "      <td>2617.592153</td>\n",
       "      <td>16</td>\n",
       "      <td>2021-01-18</td>\n",
       "      <td>1</td>\n",
       "      <td>6</td>\n",
       "      <td>0</td>\n",
       "      <td>199</td>\n",
       "    </tr>\n",
       "    <tr>\n",
       "      <th>2</th>\n",
       "      <td>1</td>\n",
       "      <td>Кира</td>\n",
       "      <td>22</td>\n",
       "      <td>Тюмень</td>\n",
       "      <td>ultra</td>\n",
       "      <td>754.159807</td>\n",
       "      <td>7</td>\n",
       "      <td>2021-04-20</td>\n",
       "      <td>4</td>\n",
       "      <td>6</td>\n",
       "      <td>0</td>\n",
       "      <td>199</td>\n",
       "    </tr>\n",
       "    <tr>\n",
       "      <th>3</th>\n",
       "      <td>1</td>\n",
       "      <td>Кира</td>\n",
       "      <td>22</td>\n",
       "      <td>Тюмень</td>\n",
       "      <td>ultra</td>\n",
       "      <td>2694.783254</td>\n",
       "      <td>19</td>\n",
       "      <td>2021-08-11</td>\n",
       "      <td>8</td>\n",
       "      <td>6</td>\n",
       "      <td>0</td>\n",
       "      <td>199</td>\n",
       "    </tr>\n",
       "    <tr>\n",
       "      <th>4</th>\n",
       "      <td>1</td>\n",
       "      <td>Кира</td>\n",
       "      <td>22</td>\n",
       "      <td>Тюмень</td>\n",
       "      <td>ultra</td>\n",
       "      <td>4028.687306</td>\n",
       "      <td>27</td>\n",
       "      <td>2021-08-28</td>\n",
       "      <td>8</td>\n",
       "      <td>6</td>\n",
       "      <td>0</td>\n",
       "      <td>199</td>\n",
       "    </tr>\n",
       "    <tr>\n",
       "      <th>...</th>\n",
       "      <td>...</td>\n",
       "      <td>...</td>\n",
       "      <td>...</td>\n",
       "      <td>...</td>\n",
       "      <td>...</td>\n",
       "      <td>...</td>\n",
       "      <td>...</td>\n",
       "      <td>...</td>\n",
       "      <td>...</td>\n",
       "      <td>...</td>\n",
       "      <td>...</td>\n",
       "      <td>...</td>\n",
       "    </tr>\n",
       "    <tr>\n",
       "      <th>17890</th>\n",
       "      <td>1534</td>\n",
       "      <td>Альберт</td>\n",
       "      <td>25</td>\n",
       "      <td>Краснодар</td>\n",
       "      <td>free</td>\n",
       "      <td>3781.098080</td>\n",
       "      <td>20</td>\n",
       "      <td>2021-11-04</td>\n",
       "      <td>11</td>\n",
       "      <td>8</td>\n",
       "      <td>50</td>\n",
       "      <td>0</td>\n",
       "    </tr>\n",
       "    <tr>\n",
       "      <th>17891</th>\n",
       "      <td>1534</td>\n",
       "      <td>Альберт</td>\n",
       "      <td>25</td>\n",
       "      <td>Краснодар</td>\n",
       "      <td>free</td>\n",
       "      <td>2840.423057</td>\n",
       "      <td>22</td>\n",
       "      <td>2021-11-16</td>\n",
       "      <td>11</td>\n",
       "      <td>8</td>\n",
       "      <td>50</td>\n",
       "      <td>0</td>\n",
       "    </tr>\n",
       "    <tr>\n",
       "      <th>17892</th>\n",
       "      <td>1534</td>\n",
       "      <td>Альберт</td>\n",
       "      <td>25</td>\n",
       "      <td>Краснодар</td>\n",
       "      <td>free</td>\n",
       "      <td>3826.185507</td>\n",
       "      <td>19</td>\n",
       "      <td>2021-11-18</td>\n",
       "      <td>11</td>\n",
       "      <td>8</td>\n",
       "      <td>50</td>\n",
       "      <td>0</td>\n",
       "    </tr>\n",
       "    <tr>\n",
       "      <th>17893</th>\n",
       "      <td>1534</td>\n",
       "      <td>Альберт</td>\n",
       "      <td>25</td>\n",
       "      <td>Краснодар</td>\n",
       "      <td>free</td>\n",
       "      <td>2902.308661</td>\n",
       "      <td>17</td>\n",
       "      <td>2021-11-27</td>\n",
       "      <td>11</td>\n",
       "      <td>8</td>\n",
       "      <td>50</td>\n",
       "      <td>0</td>\n",
       "    </tr>\n",
       "    <tr>\n",
       "      <th>17894</th>\n",
       "      <td>1534</td>\n",
       "      <td>Альберт</td>\n",
       "      <td>25</td>\n",
       "      <td>Краснодар</td>\n",
       "      <td>free</td>\n",
       "      <td>2371.711192</td>\n",
       "      <td>16</td>\n",
       "      <td>2021-12-29</td>\n",
       "      <td>12</td>\n",
       "      <td>8</td>\n",
       "      <td>50</td>\n",
       "      <td>0</td>\n",
       "    </tr>\n",
       "  </tbody>\n",
       "</table>\n",
       "<p>17895 rows × 12 columns</p>\n",
       "</div>"
      ],
      "text/plain": [
       "       user_id     name  age       city subscription_type     distance  \\\n",
       "0            1     Кира   22     Тюмень             ultra  4409.919140   \n",
       "1            1     Кира   22     Тюмень             ultra  2617.592153   \n",
       "2            1     Кира   22     Тюмень             ultra   754.159807   \n",
       "3            1     Кира   22     Тюмень             ultra  2694.783254   \n",
       "4            1     Кира   22     Тюмень             ultra  4028.687306   \n",
       "...        ...      ...  ...        ...               ...          ...   \n",
       "17890     1534  Альберт   25  Краснодар              free  3781.098080   \n",
       "17891     1534  Альберт   25  Краснодар              free  2840.423057   \n",
       "17892     1534  Альберт   25  Краснодар              free  3826.185507   \n",
       "17893     1534  Альберт   25  Краснодар              free  2902.308661   \n",
       "17894     1534  Альберт   25  Краснодар              free  2371.711192   \n",
       "\n",
       "       duration       date  month  minute_price  start_ride_price  \\\n",
       "0            26 2021-01-01      1             6                 0   \n",
       "1            16 2021-01-18      1             6                 0   \n",
       "2             7 2021-04-20      4             6                 0   \n",
       "3            19 2021-08-11      8             6                 0   \n",
       "4            27 2021-08-28      8             6                 0   \n",
       "...         ...        ...    ...           ...               ...   \n",
       "17890        20 2021-11-04     11             8                50   \n",
       "17891        22 2021-11-16     11             8                50   \n",
       "17892        19 2021-11-18     11             8                50   \n",
       "17893        17 2021-11-27     11             8                50   \n",
       "17894        16 2021-12-29     12             8                50   \n",
       "\n",
       "       subscription_fee  \n",
       "0                   199  \n",
       "1                   199  \n",
       "2                   199  \n",
       "3                   199  \n",
       "4                   199  \n",
       "...                 ...  \n",
       "17890                 0  \n",
       "17891                 0  \n",
       "17892                 0  \n",
       "17893                 0  \n",
       "17894                 0  \n",
       "\n",
       "[17895 rows x 12 columns]"
      ]
     },
     "execution_count": 42,
     "metadata": {},
     "output_type": "execute_result"
    }
   ],
   "source": [
    "#Объединим датафреймы в один\n",
    "import numpy as np\n",
    "data = users.merge(rides, on='user_id', how = 'inner')\n",
    "data = data.merge(subscriptions, on='subscription_type', how='inner')\n",
    "data['duration'] = np.ceil(data['duration']).astype('int')\n",
    "data"
   ]
  },
  {
   "cell_type": "code",
   "execution_count": 43,
   "id": "a88c9743",
   "metadata": {},
   "outputs": [
    {
     "data": {
      "text/plain": [
       "user_id              0\n",
       "name                 0\n",
       "age                  0\n",
       "city                 0\n",
       "subscription_type    0\n",
       "distance             0\n",
       "duration             0\n",
       "date                 0\n",
       "month                0\n",
       "minute_price         0\n",
       "start_ride_price     0\n",
       "subscription_fee     0\n",
       "dtype: int64"
      ]
     },
     "execution_count": 43,
     "metadata": {},
     "output_type": "execute_result"
    }
   ],
   "source": [
    "data.isna().sum() #Проверим таблицу на пропуски после объединения"
   ]
  },
  {
   "cell_type": "markdown",
   "id": "a9a45d4e",
   "metadata": {},
   "source": [
    "Пропусков в новом датафрейме нет, количество строк равно количеству строк в датафрейме с поездками, значит объединение таблиц прошло успешно"
   ]
  },
  {
   "cell_type": "code",
   "execution_count": 44,
   "id": "48e8ce03",
   "metadata": {},
   "outputs": [],
   "source": [
    "#Создадим датафрейм только с пользователями без подписки\n",
    "data_free = data.query('subscription_type == \"free\"')\n",
    "#Создадим датафрейм только с пользователями c подпиской\n",
    "data_ultra = data.query('subscription_type == \"ultra\"')"
   ]
  },
  {
   "cell_type": "code",
   "execution_count": 45,
   "id": "d95cac27",
   "metadata": {},
   "outputs": [
    {
     "data": {
      "text/plain": [
       "count    11395.000000\n",
       "mean      3048.710848\n",
       "std       1214.976625\n",
       "min        102.323624\n",
       "25%       2374.272932\n",
       "50%       3111.679928\n",
       "75%       3890.641189\n",
       "max       7066.003772\n",
       "Name: distance, dtype: float64"
      ]
     },
     "execution_count": 45,
     "metadata": {},
     "output_type": "execute_result"
    }
   ],
   "source": [
    "#Расстояние, которое проезжают пользователи без подписки за одну поездку\n",
    "data_free['distance'].describe()"
   ]
  },
  {
   "cell_type": "code",
   "execution_count": 46,
   "id": "ec0bc1fe",
   "metadata": {},
   "outputs": [
    {
     "data": {
      "text/plain": [
       "Text(0, 0.5, 'Количество поездок')"
      ]
     },
     "execution_count": 46,
     "metadata": {},
     "output_type": "execute_result"
    },
    {
     "data": {
      "image/png": "[encoded data removed]",
      "text/plain": [
       "<Figure size 432x288 with 1 Axes>"
      ]
     },
     "metadata": {
      "needs_background": "light"
     },
     "output_type": "display_data"
    }
   ],
   "source": [
    "data_free['distance'].hist(bins = 30)\n",
    "plt.title(\"Расстояние, которое проезжают пользователи без подписки за одну поездку\")\n",
    "plt.xlabel(\"Расстояние (м)\")\n",
    "plt.ylabel(\"Количество поездок\")"
   ]
  },
  {
   "cell_type": "code",
   "execution_count": 47,
   "id": "3f73aa7e",
   "metadata": {},
   "outputs": [
    {
     "data": {
      "text/plain": [
       "count    6500.000000\n",
       "mean     3115.445388\n",
       "std       836.895330\n",
       "min       244.210438\n",
       "25%      2785.444017\n",
       "50%      3148.637229\n",
       "75%      3560.574425\n",
       "max      5699.769662\n",
       "Name: distance, dtype: float64"
      ]
     },
     "execution_count": 47,
     "metadata": {},
     "output_type": "execute_result"
    }
   ],
   "source": [
    "#Расстояние, которое проезжают пользователи c подпиской за одну поездку\n",
    "data_ultra['distance'].describe()"
   ]
  },
  {
   "cell_type": "code",
   "execution_count": 48,
   "id": "9884142b",
   "metadata": {},
   "outputs": [
    {
     "data": {
      "text/plain": [
       "Text(0, 0.5, 'Количество поездок')"
      ]
     },
     "execution_count": 48,
     "metadata": {},
     "output_type": "execute_result"
    },
    {
     "data": {
      "image/png": "[encoded data removed]",
      "text/plain": [
       "<Figure size 432x288 with 1 Axes>"
      ]
     },
     "metadata": {
      "needs_background": "light"
     },
     "output_type": "display_data"
    }
   ],
   "source": [
    "data_ultra['distance'].hist(bins = 30)\n",
    "plt.title(\"Расстояние, которое проезжают пользователи с подпиской за одну поездку\")\n",
    "plt.xlabel(\"Расстояние (м)\")\n",
    "plt.ylabel(\"Количество поездок\")"
   ]
  },
  {
   "cell_type": "markdown",
   "id": "dae7e9c7",
   "metadata": {},
   "source": [
    "Среднее расстояние, которое проезжают пользователи без подписки и с ней примерно равно (в районе 3 км.)"
   ]
  },
  {
   "cell_type": "code",
   "execution_count": 49,
   "id": "0e4627c8",
   "metadata": {},
   "outputs": [
    {
     "data": {
      "text/plain": [
       "count    11395.000000\n",
       "mean        18.096709\n",
       "std          6.128097\n",
       "min          3.000000\n",
       "25%         14.000000\n",
       "50%         18.000000\n",
       "75%         22.000000\n",
       "max         35.000000\n",
       "Name: duration, dtype: float64"
      ]
     },
     "execution_count": 49,
     "metadata": {},
     "output_type": "execute_result"
    }
   ],
   "source": [
    "#Время одной поездки, которую проезжают пользователи без подписки\n",
    "data_free['duration'].describe()"
   ]
  },
  {
   "cell_type": "code",
   "execution_count": 50,
   "id": "19f3ef56",
   "metadata": {},
   "outputs": [
    {
     "data": {
      "text/plain": [
       "Text(0, 0.5, 'Количество поездок')"
      ]
     },
     "execution_count": 50,
     "metadata": {},
     "output_type": "execute_result"
    },
    {
     "data": {
      "image/png": "[encoded data removed]",
      "text/plain": [
       "<Figure size 432x288 with 1 Axes>"
      ]
     },
     "metadata": {
      "needs_background": "light"
     },
     "output_type": "display_data"
    }
   ],
   "source": [
    "data_free['duration'].hist(bins = 30)\n",
    "plt.title(\"Время одной поездки, которую проезжают пользователи без подписки\")\n",
    "plt.xlabel(\"Время (мин)\")\n",
    "plt.ylabel(\"Количество поездок\")"
   ]
  },
  {
   "cell_type": "code",
   "execution_count": 51,
   "id": "7022cd56",
   "metadata": {},
   "outputs": [
    {
     "data": {
      "text/plain": [
       "count    6500.000000\n",
       "mean       19.037692\n",
       "std         5.577439\n",
       "min         4.000000\n",
       "25%        15.000000\n",
       "50%        19.000000\n",
       "75%        22.000000\n",
       "max        41.000000\n",
       "Name: duration, dtype: float64"
      ]
     },
     "execution_count": 51,
     "metadata": {},
     "output_type": "execute_result"
    }
   ],
   "source": [
    "#Время одной поездки, которую проезжают пользователи с подпиской\n",
    "data_ultra['duration'].describe()"
   ]
  },
  {
   "cell_type": "code",
   "execution_count": 52,
   "id": "d808ab7b",
   "metadata": {},
   "outputs": [
    {
     "data": {
      "text/plain": [
       "Text(0, 0.5, 'Количество поездок')"
      ]
     },
     "execution_count": 52,
     "metadata": {},
     "output_type": "execute_result"
    },
    {
     "data": {
      "image/png": "[encoded data removed]",
      "text/plain": [
       "<Figure size 432x288 with 1 Axes>"
      ]
     },
     "metadata": {
      "needs_background": "light"
     },
     "output_type": "display_data"
    }
   ],
   "source": [
    "data_ultra['duration'].hist(bins = 30)\n",
    "plt.title(\"Время одной поездки, которую проезжают пользователи с подпиской\")\n",
    "plt.xlabel(\"Время (мин)\")\n",
    "plt.ylabel(\"Количество поездок\")"
   ]
  },
  {
   "cell_type": "markdown",
   "id": "6ad7f543",
   "metadata": {},
   "source": [
    "Среднее время поездки у пользователей с подпиской на 1 минуту больше, чем у пользователей без неё. Максимальное время поездки у пользователей с подпиской и без неё: 41 минута и 35 минуты соответственно.\n"
   ]
  },
  {
   "cell_type": "markdown",
   "id": "402d620f",
   "metadata": {},
   "source": [
    "#### Шаг 5. Подсчёт выручки"
   ]
  },
  {
   "cell_type": "code",
   "execution_count": 53,
   "id": "53049e0a",
   "metadata": {},
   "outputs": [
    {
     "data": {
      "text/html": [
       "<div>\n",
       "<style scoped>\n",
       "    .dataframe tbody tr th:only-of-type {\n",
       "        vertical-align: middle;\n",
       "    }\n",
       "\n",
       "    .dataframe tbody tr th {\n",
       "        vertical-align: top;\n",
       "    }\n",
       "\n",
       "    .dataframe thead th {\n",
       "        text-align: right;\n",
       "    }\n",
       "</style>\n",
       "<table border=\"1\" class=\"dataframe\">\n",
       "  <thead>\n",
       "    <tr style=\"text-align: right;\">\n",
       "      <th></th>\n",
       "      <th></th>\n",
       "      <th>start_ride_price</th>\n",
       "      <th>subscription_fee</th>\n",
       "      <th>minute_price</th>\n",
       "      <th>count</th>\n",
       "      <th>sum_distance</th>\n",
       "      <th>sum_duration</th>\n",
       "    </tr>\n",
       "    <tr>\n",
       "      <th>user_id</th>\n",
       "      <th>month</th>\n",
       "      <th></th>\n",
       "      <th></th>\n",
       "      <th></th>\n",
       "      <th></th>\n",
       "      <th></th>\n",
       "      <th></th>\n",
       "    </tr>\n",
       "  </thead>\n",
       "  <tbody>\n",
       "    <tr>\n",
       "      <th rowspan=\"6\" valign=\"top\">1</th>\n",
       "      <th>1</th>\n",
       "      <td>0</td>\n",
       "      <td>199</td>\n",
       "      <td>6</td>\n",
       "      <td>2</td>\n",
       "      <td>7027.511294</td>\n",
       "      <td>42</td>\n",
       "    </tr>\n",
       "    <tr>\n",
       "      <th>4</th>\n",
       "      <td>0</td>\n",
       "      <td>199</td>\n",
       "      <td>6</td>\n",
       "      <td>1</td>\n",
       "      <td>754.159807</td>\n",
       "      <td>7</td>\n",
       "    </tr>\n",
       "    <tr>\n",
       "      <th>8</th>\n",
       "      <td>0</td>\n",
       "      <td>199</td>\n",
       "      <td>6</td>\n",
       "      <td>2</td>\n",
       "      <td>6723.470560</td>\n",
       "      <td>46</td>\n",
       "    </tr>\n",
       "    <tr>\n",
       "      <th>10</th>\n",
       "      <td>0</td>\n",
       "      <td>199</td>\n",
       "      <td>6</td>\n",
       "      <td>2</td>\n",
       "      <td>5809.911100</td>\n",
       "      <td>32</td>\n",
       "    </tr>\n",
       "    <tr>\n",
       "      <th>11</th>\n",
       "      <td>0</td>\n",
       "      <td>199</td>\n",
       "      <td>6</td>\n",
       "      <td>3</td>\n",
       "      <td>7003.499363</td>\n",
       "      <td>56</td>\n",
       "    </tr>\n",
       "    <tr>\n",
       "      <th>12</th>\n",
       "      <td>0</td>\n",
       "      <td>199</td>\n",
       "      <td>6</td>\n",
       "      <td>2</td>\n",
       "      <td>6751.629942</td>\n",
       "      <td>28</td>\n",
       "    </tr>\n",
       "    <tr>\n",
       "      <th rowspan=\"6\" valign=\"top\">2</th>\n",
       "      <th>3</th>\n",
       "      <td>0</td>\n",
       "      <td>199</td>\n",
       "      <td>6</td>\n",
       "      <td>3</td>\n",
       "      <td>10187.723006</td>\n",
       "      <td>63</td>\n",
       "    </tr>\n",
       "    <tr>\n",
       "      <th>4</th>\n",
       "      <td>0</td>\n",
       "      <td>199</td>\n",
       "      <td>6</td>\n",
       "      <td>2</td>\n",
       "      <td>6164.381824</td>\n",
       "      <td>40</td>\n",
       "    </tr>\n",
       "    <tr>\n",
       "      <th>6</th>\n",
       "      <td>0</td>\n",
       "      <td>199</td>\n",
       "      <td>6</td>\n",
       "      <td>1</td>\n",
       "      <td>3255.338202</td>\n",
       "      <td>14</td>\n",
       "    </tr>\n",
       "    <tr>\n",
       "      <th>7</th>\n",
       "      <td>0</td>\n",
       "      <td>199</td>\n",
       "      <td>6</td>\n",
       "      <td>2</td>\n",
       "      <td>6780.722964</td>\n",
       "      <td>48</td>\n",
       "    </tr>\n",
       "    <tr>\n",
       "      <th>8</th>\n",
       "      <td>0</td>\n",
       "      <td>199</td>\n",
       "      <td>6</td>\n",
       "      <td>1</td>\n",
       "      <td>923.007439</td>\n",
       "      <td>7</td>\n",
       "    </tr>\n",
       "    <tr>\n",
       "      <th>10</th>\n",
       "      <td>0</td>\n",
       "      <td>199</td>\n",
       "      <td>6</td>\n",
       "      <td>1</td>\n",
       "      <td>2824.636598</td>\n",
       "      <td>19</td>\n",
       "    </tr>\n",
       "  </tbody>\n",
       "</table>\n",
       "</div>"
      ],
      "text/plain": [
       "               start_ride_price  subscription_fee  minute_price  count  \\\n",
       "user_id month                                                            \n",
       "1       1                     0               199             6      2   \n",
       "        4                     0               199             6      1   \n",
       "        8                     0               199             6      2   \n",
       "        10                    0               199             6      2   \n",
       "        11                    0               199             6      3   \n",
       "        12                    0               199             6      2   \n",
       "2       3                     0               199             6      3   \n",
       "        4                     0               199             6      2   \n",
       "        6                     0               199             6      1   \n",
       "        7                     0               199             6      2   \n",
       "        8                     0               199             6      1   \n",
       "        10                    0               199             6      1   \n",
       "\n",
       "               sum_distance  sum_duration  \n",
       "user_id month                              \n",
       "1       1       7027.511294            42  \n",
       "        4        754.159807             7  \n",
       "        8       6723.470560            46  \n",
       "        10      5809.911100            32  \n",
       "        11      7003.499363            56  \n",
       "        12      6751.629942            28  \n",
       "2       3      10187.723006            63  \n",
       "        4       6164.381824            40  \n",
       "        6       3255.338202            14  \n",
       "        7       6780.722964            48  \n",
       "        8        923.007439             7  \n",
       "        10      2824.636598            19  "
      ]
     },
     "execution_count": 53,
     "metadata": {},
     "output_type": "execute_result"
    }
   ],
   "source": [
    "#Создаём новый датафрейм, где для каждого пользователя посчитаем суммарное расстояние, количество поездок и суммарное время за каждый месяц.\n",
    "\n",
    "user_info = data.pivot_table(index = ['user_id', 'month', 'start_ride_price', 'subscription_fee', 'minute_price'], values = ['distance', 'duration'], aggfunc = ['count', 'sum'])\n",
    "user_info.columns = ['count', 'count_er', 'sum_distance', 'sum_duration']\n",
    "user_info.drop('count_er', axis=1, inplace=True) #Удаляем повторяющийся столбец\n",
    "\n",
    "user_info.reset_index(inplace= True, level =['start_ride_price', 'subscription_fee', 'minute_price'])\n",
    "user_info.head(12)"
   ]
  },
  {
   "cell_type": "code",
   "execution_count": 54,
   "id": "34a33262",
   "metadata": {},
   "outputs": [
    {
     "data": {
      "text/html": [
       "<div>\n",
       "<style scoped>\n",
       "    .dataframe tbody tr th:only-of-type {\n",
       "        vertical-align: middle;\n",
       "    }\n",
       "\n",
       "    .dataframe tbody tr th {\n",
       "        vertical-align: top;\n",
       "    }\n",
       "\n",
       "    .dataframe thead th {\n",
       "        text-align: right;\n",
       "    }\n",
       "</style>\n",
       "<table border=\"1\" class=\"dataframe\">\n",
       "  <thead>\n",
       "    <tr style=\"text-align: right;\">\n",
       "      <th></th>\n",
       "      <th></th>\n",
       "      <th>start_ride_price</th>\n",
       "      <th>subscription_fee</th>\n",
       "      <th>minute_price</th>\n",
       "      <th>count</th>\n",
       "      <th>sum_distance</th>\n",
       "      <th>sum_duration</th>\n",
       "      <th>monthly_revenue</th>\n",
       "    </tr>\n",
       "    <tr>\n",
       "      <th>user_id</th>\n",
       "      <th>month</th>\n",
       "      <th></th>\n",
       "      <th></th>\n",
       "      <th></th>\n",
       "      <th></th>\n",
       "      <th></th>\n",
       "      <th></th>\n",
       "      <th></th>\n",
       "    </tr>\n",
       "  </thead>\n",
       "  <tbody>\n",
       "    <tr>\n",
       "      <th rowspan=\"6\" valign=\"top\">1</th>\n",
       "      <th>1</th>\n",
       "      <td>0</td>\n",
       "      <td>199</td>\n",
       "      <td>6</td>\n",
       "      <td>2</td>\n",
       "      <td>7027.511294</td>\n",
       "      <td>42</td>\n",
       "      <td>451</td>\n",
       "    </tr>\n",
       "    <tr>\n",
       "      <th>4</th>\n",
       "      <td>0</td>\n",
       "      <td>199</td>\n",
       "      <td>6</td>\n",
       "      <td>1</td>\n",
       "      <td>754.159807</td>\n",
       "      <td>7</td>\n",
       "      <td>241</td>\n",
       "    </tr>\n",
       "    <tr>\n",
       "      <th>8</th>\n",
       "      <td>0</td>\n",
       "      <td>199</td>\n",
       "      <td>6</td>\n",
       "      <td>2</td>\n",
       "      <td>6723.470560</td>\n",
       "      <td>46</td>\n",
       "      <td>475</td>\n",
       "    </tr>\n",
       "    <tr>\n",
       "      <th>10</th>\n",
       "      <td>0</td>\n",
       "      <td>199</td>\n",
       "      <td>6</td>\n",
       "      <td>2</td>\n",
       "      <td>5809.911100</td>\n",
       "      <td>32</td>\n",
       "      <td>391</td>\n",
       "    </tr>\n",
       "    <tr>\n",
       "      <th>11</th>\n",
       "      <td>0</td>\n",
       "      <td>199</td>\n",
       "      <td>6</td>\n",
       "      <td>3</td>\n",
       "      <td>7003.499363</td>\n",
       "      <td>56</td>\n",
       "      <td>535</td>\n",
       "    </tr>\n",
       "    <tr>\n",
       "      <th>12</th>\n",
       "      <td>0</td>\n",
       "      <td>199</td>\n",
       "      <td>6</td>\n",
       "      <td>2</td>\n",
       "      <td>6751.629942</td>\n",
       "      <td>28</td>\n",
       "      <td>367</td>\n",
       "    </tr>\n",
       "    <tr>\n",
       "      <th rowspan=\"6\" valign=\"top\">2</th>\n",
       "      <th>3</th>\n",
       "      <td>0</td>\n",
       "      <td>199</td>\n",
       "      <td>6</td>\n",
       "      <td>3</td>\n",
       "      <td>10187.723006</td>\n",
       "      <td>63</td>\n",
       "      <td>577</td>\n",
       "    </tr>\n",
       "    <tr>\n",
       "      <th>4</th>\n",
       "      <td>0</td>\n",
       "      <td>199</td>\n",
       "      <td>6</td>\n",
       "      <td>2</td>\n",
       "      <td>6164.381824</td>\n",
       "      <td>40</td>\n",
       "      <td>439</td>\n",
       "    </tr>\n",
       "    <tr>\n",
       "      <th>6</th>\n",
       "      <td>0</td>\n",
       "      <td>199</td>\n",
       "      <td>6</td>\n",
       "      <td>1</td>\n",
       "      <td>3255.338202</td>\n",
       "      <td>14</td>\n",
       "      <td>283</td>\n",
       "    </tr>\n",
       "    <tr>\n",
       "      <th>7</th>\n",
       "      <td>0</td>\n",
       "      <td>199</td>\n",
       "      <td>6</td>\n",
       "      <td>2</td>\n",
       "      <td>6780.722964</td>\n",
       "      <td>48</td>\n",
       "      <td>487</td>\n",
       "    </tr>\n",
       "    <tr>\n",
       "      <th>8</th>\n",
       "      <td>0</td>\n",
       "      <td>199</td>\n",
       "      <td>6</td>\n",
       "      <td>1</td>\n",
       "      <td>923.007439</td>\n",
       "      <td>7</td>\n",
       "      <td>241</td>\n",
       "    </tr>\n",
       "    <tr>\n",
       "      <th>10</th>\n",
       "      <td>0</td>\n",
       "      <td>199</td>\n",
       "      <td>6</td>\n",
       "      <td>1</td>\n",
       "      <td>2824.636598</td>\n",
       "      <td>19</td>\n",
       "      <td>313</td>\n",
       "    </tr>\n",
       "  </tbody>\n",
       "</table>\n",
       "</div>"
      ],
      "text/plain": [
       "               start_ride_price  subscription_fee  minute_price  count  \\\n",
       "user_id month                                                            \n",
       "1       1                     0               199             6      2   \n",
       "        4                     0               199             6      1   \n",
       "        8                     0               199             6      2   \n",
       "        10                    0               199             6      2   \n",
       "        11                    0               199             6      3   \n",
       "        12                    0               199             6      2   \n",
       "2       3                     0               199             6      3   \n",
       "        4                     0               199             6      2   \n",
       "        6                     0               199             6      1   \n",
       "        7                     0               199             6      2   \n",
       "        8                     0               199             6      1   \n",
       "        10                    0               199             6      1   \n",
       "\n",
       "               sum_distance  sum_duration  monthly_revenue  \n",
       "user_id month                                               \n",
       "1       1       7027.511294            42              451  \n",
       "        4        754.159807             7              241  \n",
       "        8       6723.470560            46              475  \n",
       "        10      5809.911100            32              391  \n",
       "        11      7003.499363            56              535  \n",
       "        12      6751.629942            28              367  \n",
       "2       3      10187.723006            63              577  \n",
       "        4       6164.381824            40              439  \n",
       "        6       3255.338202            14              283  \n",
       "        7       6780.722964            48              487  \n",
       "        8        923.007439             7              241  \n",
       "        10      2824.636598            19              313  "
      ]
     },
     "execution_count": 54,
     "metadata": {},
     "output_type": "execute_result"
    }
   ],
   "source": [
    "#Добавим столбец с ежемесячной выручкой\n",
    "user_info['monthly_revenue'] = user_info['count']*user_info['start_ride_price']+user_info['subscription_fee']+user_info['sum_duration']*user_info['minute_price']\n",
    "user_info.head(12)"
   ]
  },
  {
   "cell_type": "markdown",
   "id": "41545ac0",
   "metadata": {},
   "source": [
    "#### Шаг 6. Проверка гипотез"
   ]
  },
  {
   "cell_type": "code",
   "execution_count": 57,
   "id": "23ea867b",
   "metadata": {},
   "outputs": [
    {
     "name": "stdout",
     "output_type": "stream",
     "text": [
      "p-value: 1.1333176538017645e-24\n",
      "Отвергаем нулевую гипотезу.\n"
     ]
    }
   ],
   "source": [
    "#Проверим первую гипотезу: Тратят ли пользователи с подпиской больше времени на поездки?\n",
    "#Гипотеза H0: Между средними значениями двух совокупностей (пользователями с подпиской и без) нет разницы, они равны\n",
    "#Альтернативная: Среднее значение первой генеральной совокупности больше среднего значения второй генеральной совокупности. \n",
    "#(Пользователи с подспикой тратят больше времени на поездки)\n",
    "import scipy.stats \n",
    "results = scipy.stats.ttest_ind(data_ultra['duration'], data_free['duration'], alternative = 'greater')\n",
    "\n",
    "alpha = 0.05 #Задаём уровень статистической важности\n",
    "print(f'p-value: {results.pvalue}')\n",
    "if results.pvalue < alpha:\n",
    "    print('Отвергаем нулевую гипотезу.')\n",
    "else:\n",
    "    print('Нет оснований отвергнуть нулевую гипотезу')"
   ]
  },
  {
   "cell_type": "markdown",
   "id": "0a406f52",
   "metadata": {},
   "source": [
    "Раз мы отвергаем нулевую гипотезу, то есть основания пологать, что пользователи с подпиской тратят больше времени на поездки."
   ]
  },
  {
   "cell_type": "code",
   "execution_count": 58,
   "id": "9b6920e7",
   "metadata": {},
   "outputs": [
    {
     "name": "stdout",
     "output_type": "stream",
     "text": [
      "p-value: 0.08046311521502146\n",
      "Не получилось отвергнуть нулевую гипотезу\n"
     ]
    }
   ],
   "source": [
    "#Проверим вторую гипотезу:  Можно ли сказать, что среднее расстояние, которое проезжают пользователи с подпиской за одну поездку, не превышает 3130 метров? \n",
    "#Гипотеза H0: Среднее расстояние, которое проезжают пользователи с подпиской составляет 3130 метров\n",
    "#Альтернативная: Среднее расстояние, которое проезжают пользователи с подпиской менее 3130 метров \n",
    "interested_value = 3130\n",
    "results = st.ttest_1samp(data_ultra['distance'], interested_value, alternative='less')\n",
    "print(f'p-value: {results.pvalue}')\n",
    "if (results.pvalue < alpha):\n",
    "    print('Отвергаем нулевую гипотезу')\n",
    "else:\n",
    "    print('Не получилось отвергнуть нулевую гипотезу')"
   ]
  },
  {
   "cell_type": "markdown",
   "id": "c67c547f",
   "metadata": {},
   "source": [
    "Не получилось отвергнуть нулевую гипотезу, значит утверждать, что среднее расстояние, которое проезжают пользователи с подпиской за одну поездку, менее 3130 метров нельзя."
   ]
  },
  {
   "cell_type": "code",
   "execution_count": 59,
   "id": "8d33f61a",
   "metadata": {},
   "outputs": [
    {
     "name": "stdout",
     "output_type": "stream",
     "text": [
      "p-value: 3.4544775648938923e-31\n",
      "Отвергаем нулевую гипотезу\n"
     ]
    }
   ],
   "source": [
    "#Проверим третью гипотезу:  будет ли помесячная выручка от пользователей с подпиской по месяцам выше, чем выручка от пользователей без подписки.  \n",
    "#Гипотеза H0: Помесячная выручка от пользователей с подпиской по месяцам равна выручке от пользователей без подписки.\n",
    "#Альтернативная: помесячная выручка от пользователей с подпиской по месяцам выше, чем выручка от пользователей без подписки.\n",
    "\n",
    "user_info = pd.DataFrame(user_info)\n",
    "monthly_revenue_ultra = user_info.loc[user_info['subscription_fee'] == 199, 'monthly_revenue']\n",
    "monthly_revenue_free = user_info.loc[user_info['subscription_fee'] == 0, 'monthly_revenue']\n",
    "results = scipy.stats.ttest_ind(monthly_revenue_ultra, monthly_revenue_free, alternative = 'greater')\n",
    "print(f'p-value: {results.pvalue}')\n",
    "if (results.pvalue < alpha):\n",
    "    print('Отвергаем нулевую гипотезу')\n",
    "else:\n",
    "    print('Не получилось отвергнуть нулевую гипотезу')"
   ]
  },
  {
   "cell_type": "markdown",
   "id": "ea5bc504",
   "metadata": {},
   "source": [
    "Отвергаем нулевую гипотезу, значит есть основания утверждать, что помесячная выручка от пользователей с подпиской выше, чем выручка от пользователей без неё."
   ]
  },
  {
   "cell_type": "markdown",
   "id": "8c29397b",
   "metadata": {},
   "source": [
    "6.4 Представьте такую ситуацию: техническая команда сервиса обновила сервера, с которыми взаимодействует мобильное приложение. Она надеется, что из-за этого количество обращений в техподдержку значимо снизилось. Некоторый файл содержит для каждого пользователя данные о количестве обращений до обновления и после него. Какой тест вам понадобился бы для проверки этой гипотезы?"
   ]
  },
  {
   "cell_type": "markdown",
   "id": "370766cb",
   "metadata": {},
   "source": [
    "Для проверки данной гипотезы необходимо воспользоваться `scipy.stats.ttest_rel()`. Чтобы проверить, что количество обращений снизилось (то есть раньше их было больше), необходимо указать `alternative='greater'`"
   ]
  },
  {
   "cell_type": "markdown",
   "id": "0ca8a999",
   "metadata": {},
   "source": [
    "### Общий вывод\n",
    "В рамках данной работы был изучен датафрейм с данными сервиса аренды самокатов GoFast. Датафреймы были проверены на пропуски, после чего из них были удалены дубликаты. После этого быда изучена и визуализированна общая информация о пользователях и поездках: частота встречаемости городов; соотношение пользователей с подпиской и без подписки; возраст пользователей; расстояние, которое пользователь преодолел за одну поездку; продолжительность поездок. Затем данные были объединены в один датфрейм и была посчитана для каждого пользователя помесячная выручка. После чего были проверены несколько гипотез:\n",
    "1) Тратят ли пользователи с подпиской больше времени на поездки? - Есть основания пологать, что пользователи с подпиской тратят больше времени на поездки.\\\n",
    "2) Можно ли сказать, что среднее расстояние, которое проезжают пользователи с подпиской за одну поездку, не превышает 3130 метров? -  Утверждать, что среднее расстояние, которое проезжают пользователи с подпиской за одну поездку, менее 3130 метров нельзя.\\\n",
    "3) Будет ли помесячная выручка от пользователей с подпиской по месяцам выше, чем выручка от пользователей без подписки. - Есть основания утверждать, что помесячная выручка от пользователей с подпиской выше, чем выручка от пользователей без неё."
   ]
  }
 ],
 "metadata": {
  "ExecuteTimeLog": [
   {
    "duration": 392,
    "start_time": "2024-02-01T13:32:11.826Z"
   },
   {
    "duration": 113,
    "start_time": "2024-02-01T13:32:13.105Z"
   },
   {
    "duration": 93,
    "start_time": "2024-02-01T13:32:28.424Z"
   },
   {
    "duration": 10,
    "start_time": "2024-02-01T13:32:40.486Z"
   },
   {
    "duration": 7,
    "start_time": "2024-02-01T13:32:59.956Z"
   },
   {
    "duration": 6,
    "start_time": "2024-02-01T13:33:33.096Z"
   },
   {
    "duration": 793,
    "start_time": "2024-02-01T13:33:38.376Z"
   },
   {
    "duration": 277,
    "start_time": "2024-02-01T13:33:47.882Z"
   },
   {
    "duration": 4,
    "start_time": "2024-02-01T13:35:12.947Z"
   },
   {
    "duration": 158,
    "start_time": "2024-02-01T13:35:44.664Z"
   },
   {
    "duration": 43,
    "start_time": "2024-02-01T13:36:11.778Z"
   },
   {
    "duration": 12,
    "start_time": "2024-02-01T13:36:19.202Z"
   },
   {
    "duration": 4,
    "start_time": "2024-02-01T13:36:45.926Z"
   },
   {
    "duration": 10,
    "start_time": "2024-02-01T13:36:59.251Z"
   },
   {
    "duration": 69,
    "start_time": "2024-02-01T13:39:21.845Z"
   },
   {
    "duration": 62,
    "start_time": "2024-02-01T13:39:52.813Z"
   },
   {
    "duration": 4,
    "start_time": "2024-02-01T13:40:08.776Z"
   },
   {
    "duration": 6,
    "start_time": "2024-02-01T13:40:14.434Z"
   },
   {
    "duration": 29,
    "start_time": "2024-02-01T13:42:35.243Z"
   },
   {
    "duration": 9,
    "start_time": "2024-02-01T13:42:37.163Z"
   },
   {
    "duration": 4,
    "start_time": "2024-02-01T13:42:37.544Z"
   },
   {
    "duration": 6,
    "start_time": "2024-02-01T13:42:37.905Z"
   },
   {
    "duration": 5,
    "start_time": "2024-02-01T13:43:00.080Z"
   },
   {
    "duration": 4,
    "start_time": "2024-02-01T13:44:00.321Z"
   },
   {
    "duration": 24,
    "start_time": "2024-02-01T13:44:19.246Z"
   },
   {
    "duration": 9,
    "start_time": "2024-02-01T13:44:23.025Z"
   },
   {
    "duration": 4,
    "start_time": "2024-02-01T13:44:32.762Z"
   },
   {
    "duration": 9,
    "start_time": "2024-02-01T13:44:40.901Z"
   },
   {
    "duration": 10,
    "start_time": "2024-02-01T13:47:17.615Z"
   },
   {
    "duration": 8,
    "start_time": "2024-02-01T13:47:27.253Z"
   },
   {
    "duration": 10,
    "start_time": "2024-02-01T13:47:31.686Z"
   },
   {
    "duration": 5,
    "start_time": "2024-02-01T13:48:40.633Z"
   },
   {
    "duration": 11,
    "start_time": "2024-02-01T13:48:41.653Z"
   },
   {
    "duration": 9,
    "start_time": "2024-02-01T13:48:47.009Z"
   },
   {
    "duration": 5,
    "start_time": "2024-02-01T13:55:20.100Z"
   },
   {
    "duration": 136,
    "start_time": "2024-02-01T13:56:19.129Z"
   },
   {
    "duration": 352,
    "start_time": "2024-02-01T13:59:06.732Z"
   },
   {
    "duration": 142,
    "start_time": "2024-02-01T14:00:24.885Z"
   },
   {
    "duration": 121,
    "start_time": "2024-02-01T14:01:13.371Z"
   },
   {
    "duration": 133,
    "start_time": "2024-02-01T14:01:18.994Z"
   },
   {
    "duration": 5,
    "start_time": "2024-02-01T14:04:31.783Z"
   },
   {
    "duration": 7,
    "start_time": "2024-02-01T14:06:56.896Z"
   },
   {
    "duration": 4,
    "start_time": "2024-02-01T14:07:30.820Z"
   },
   {
    "duration": 3,
    "start_time": "2024-02-01T14:07:51.646Z"
   },
   {
    "duration": 69,
    "start_time": "2024-02-01T14:08:20.594Z"
   },
   {
    "duration": 86,
    "start_time": "2024-02-01T14:09:23.388Z"
   },
   {
    "duration": 77,
    "start_time": "2024-02-01T14:09:40.698Z"
   },
   {
    "duration": 6,
    "start_time": "2024-02-01T14:19:30.805Z"
   },
   {
    "duration": 10,
    "start_time": "2024-02-01T14:20:28.882Z"
   },
   {
    "duration": 9,
    "start_time": "2024-02-01T14:20:38.582Z"
   },
   {
    "duration": 8,
    "start_time": "2024-02-01T14:21:14.888Z"
   },
   {
    "duration": 111,
    "start_time": "2024-02-01T14:21:18.883Z"
   },
   {
    "duration": 7,
    "start_time": "2024-02-01T14:21:35.509Z"
   },
   {
    "duration": 131,
    "start_time": "2024-02-01T14:21:39.485Z"
   },
   {
    "duration": 164,
    "start_time": "2024-02-01T14:21:46.380Z"
   },
   {
    "duration": 1365,
    "start_time": "2024-02-01T14:25:07.235Z"
   },
   {
    "duration": 6,
    "start_time": "2024-02-01T14:25:24.328Z"
   },
   {
    "duration": 423,
    "start_time": "2024-02-01T14:26:00.725Z"
   },
   {
    "duration": 46,
    "start_time": "2024-02-01T14:26:02.343Z"
   },
   {
    "duration": 14,
    "start_time": "2024-02-01T14:26:03.033Z"
   },
   {
    "duration": 8,
    "start_time": "2024-02-01T14:26:05.298Z"
   },
   {
    "duration": 4,
    "start_time": "2024-02-01T14:26:05.673Z"
   },
   {
    "duration": 53,
    "start_time": "2024-02-01T14:26:06.377Z"
   },
   {
    "duration": 12,
    "start_time": "2024-02-01T14:26:07.008Z"
   },
   {
    "duration": 4,
    "start_time": "2024-02-01T14:26:08.002Z"
   },
   {
    "duration": 7,
    "start_time": "2024-02-01T14:26:09.355Z"
   },
   {
    "duration": 31,
    "start_time": "2024-02-01T14:26:09.964Z"
   },
   {
    "duration": 10,
    "start_time": "2024-02-01T14:26:10.418Z"
   },
   {
    "duration": 3,
    "start_time": "2024-02-01T14:26:11.665Z"
   },
   {
    "duration": 5,
    "start_time": "2024-02-01T14:26:13.166Z"
   },
   {
    "duration": 5,
    "start_time": "2024-02-01T14:26:28.686Z"
   },
   {
    "duration": 7,
    "start_time": "2024-02-01T14:26:36.531Z"
   },
   {
    "duration": 5,
    "start_time": "2024-02-01T14:26:37.559Z"
   },
   {
    "duration": 11,
    "start_time": "2024-02-01T14:26:37.901Z"
   },
   {
    "duration": 5,
    "start_time": "2024-02-01T14:26:38.430Z"
   },
   {
    "duration": 7,
    "start_time": "2024-02-01T14:26:42.129Z"
   },
   {
    "duration": 7,
    "start_time": "2024-02-01T14:26:51.958Z"
   },
   {
    "duration": 5,
    "start_time": "2024-02-01T14:26:52.257Z"
   },
   {
    "duration": 10,
    "start_time": "2024-02-01T14:26:52.838Z"
   },
   {
    "duration": 9,
    "start_time": "2024-02-01T14:26:53.812Z"
   },
   {
    "duration": 5,
    "start_time": "2024-02-01T14:26:57.568Z"
   },
   {
    "duration": 373,
    "start_time": "2024-02-01T14:26:59.025Z"
   },
   {
    "duration": 5,
    "start_time": "2024-02-01T14:27:00.388Z"
   },
   {
    "duration": 77,
    "start_time": "2024-02-01T14:27:01.068Z"
   },
   {
    "duration": 5,
    "start_time": "2024-02-01T14:27:04.202Z"
   },
   {
    "duration": 7,
    "start_time": "2024-02-01T14:27:05.383Z"
   },
   {
    "duration": 90,
    "start_time": "2024-02-01T14:27:05.814Z"
   },
   {
    "duration": 149,
    "start_time": "2024-02-01T14:27:07.101Z"
   },
   {
    "duration": 1470,
    "start_time": "2024-02-01T14:31:31.278Z"
   },
   {
    "duration": 8,
    "start_time": "2024-02-01T14:31:46.743Z"
   },
   {
    "duration": 92,
    "start_time": "2024-02-01T14:36:56.574Z"
   },
   {
    "duration": 156,
    "start_time": "2024-02-01T14:37:27.480Z"
   },
   {
    "duration": 150,
    "start_time": "2024-02-01T14:40:59.367Z"
   },
   {
    "duration": 121,
    "start_time": "2024-02-01T14:41:35.738Z"
   },
   {
    "duration": 138,
    "start_time": "2024-02-01T14:41:39.414Z"
   },
   {
    "duration": 145,
    "start_time": "2024-02-01T14:42:51.935Z"
   },
   {
    "duration": 137,
    "start_time": "2024-02-01T14:43:03.024Z"
   },
   {
    "duration": 164,
    "start_time": "2024-02-01T14:43:08.954Z"
   },
   {
    "duration": 220,
    "start_time": "2024-02-01T14:43:47.379Z"
   },
   {
    "duration": 116,
    "start_time": "2024-02-01T14:44:06.019Z"
   },
   {
    "duration": 145,
    "start_time": "2024-02-01T14:44:14.779Z"
   },
   {
    "duration": 132,
    "start_time": "2024-02-01T14:44:37.018Z"
   },
   {
    "duration": 274,
    "start_time": "2024-02-01T14:45:35.070Z"
   },
   {
    "duration": 225,
    "start_time": "2024-02-01T14:45:40.862Z"
   },
   {
    "duration": 231,
    "start_time": "2024-02-01T14:45:48.603Z"
   },
   {
    "duration": 149,
    "start_time": "2024-02-01T14:45:57.258Z"
   },
   {
    "duration": 120,
    "start_time": "2024-02-01T14:47:22.485Z"
   },
   {
    "duration": 1480,
    "start_time": "2024-02-01T14:47:43.322Z"
   },
   {
    "duration": 110,
    "start_time": "2024-02-01T14:47:57.449Z"
   },
   {
    "duration": 171,
    "start_time": "2024-02-01T14:48:05.232Z"
   },
   {
    "duration": 1459,
    "start_time": "2024-02-01T14:52:08.352Z"
   },
   {
    "duration": 169,
    "start_time": "2024-02-01T14:52:11.189Z"
   },
   {
    "duration": 155,
    "start_time": "2024-02-01T14:52:30.194Z"
   },
   {
    "duration": 188,
    "start_time": "2024-02-01T14:52:31.070Z"
   },
   {
    "duration": 369,
    "start_time": "2024-02-01T14:53:02.735Z"
   },
   {
    "duration": 39,
    "start_time": "2024-02-01T14:53:03.106Z"
   },
   {
    "duration": 10,
    "start_time": "2024-02-01T14:53:03.147Z"
   },
   {
    "duration": 36,
    "start_time": "2024-02-01T14:53:03.159Z"
   },
   {
    "duration": 28,
    "start_time": "2024-02-01T14:53:03.198Z"
   },
   {
    "duration": 47,
    "start_time": "2024-02-01T14:53:03.228Z"
   },
   {
    "duration": 11,
    "start_time": "2024-02-01T14:53:03.277Z"
   },
   {
    "duration": 16,
    "start_time": "2024-02-01T14:53:03.290Z"
   },
   {
    "duration": 51,
    "start_time": "2024-02-01T14:53:03.307Z"
   },
   {
    "duration": 31,
    "start_time": "2024-02-01T14:53:03.360Z"
   },
   {
    "duration": 23,
    "start_time": "2024-02-01T14:53:03.393Z"
   },
   {
    "duration": 39,
    "start_time": "2024-02-01T14:53:03.417Z"
   },
   {
    "duration": 32,
    "start_time": "2024-02-01T14:53:03.458Z"
   },
   {
    "duration": 49,
    "start_time": "2024-02-01T14:53:03.492Z"
   },
   {
    "duration": 22,
    "start_time": "2024-02-01T14:53:03.542Z"
   },
   {
    "duration": 19,
    "start_time": "2024-02-01T14:53:03.565Z"
   },
   {
    "duration": 35,
    "start_time": "2024-02-01T14:53:03.586Z"
   },
   {
    "duration": 64,
    "start_time": "2024-02-01T14:53:03.622Z"
   },
   {
    "duration": 38,
    "start_time": "2024-02-01T14:53:03.687Z"
   },
   {
    "duration": 22,
    "start_time": "2024-02-01T14:53:03.727Z"
   },
   {
    "duration": 24,
    "start_time": "2024-02-01T14:53:03.750Z"
   },
   {
    "duration": 14,
    "start_time": "2024-02-01T14:53:03.775Z"
   },
   {
    "duration": 12,
    "start_time": "2024-02-01T14:53:03.790Z"
   },
   {
    "duration": 387,
    "start_time": "2024-02-01T14:53:03.804Z"
   },
   {
    "duration": 6,
    "start_time": "2024-02-01T14:53:04.194Z"
   },
   {
    "duration": 157,
    "start_time": "2024-02-01T14:53:04.202Z"
   },
   {
    "duration": 8,
    "start_time": "2024-02-01T14:53:04.361Z"
   },
   {
    "duration": 112,
    "start_time": "2024-02-01T14:53:04.370Z"
   },
   {
    "duration": 160,
    "start_time": "2024-02-01T14:53:04.484Z"
   },
   {
    "duration": 8,
    "start_time": "2024-02-01T14:53:04.645Z"
   },
   {
    "duration": 141,
    "start_time": "2024-02-01T14:53:04.655Z"
   },
   {
    "duration": 270,
    "start_time": "2024-02-01T14:53:04.798Z"
   },
   {
    "duration": 5,
    "start_time": "2024-02-01T15:00:45.883Z"
   },
   {
    "duration": 154,
    "start_time": "2024-02-01T15:00:46.820Z"
   },
   {
    "duration": 8,
    "start_time": "2024-02-01T15:01:03.234Z"
   },
   {
    "duration": 8,
    "start_time": "2024-02-01T15:03:09.058Z"
   },
   {
    "duration": 110,
    "start_time": "2024-02-01T15:03:46.611Z"
   },
   {
    "duration": 123,
    "start_time": "2024-02-01T15:03:53.633Z"
   },
   {
    "duration": 112,
    "start_time": "2024-02-01T15:04:49.156Z"
   },
   {
    "duration": 5,
    "start_time": "2024-02-01T15:04:59.203Z"
   },
   {
    "duration": 105,
    "start_time": "2024-02-01T15:05:02.404Z"
   },
   {
    "duration": 6,
    "start_time": "2024-02-01T15:05:11.294Z"
   },
   {
    "duration": 110,
    "start_time": "2024-02-01T15:05:12.859Z"
   },
   {
    "duration": 370,
    "start_time": "2024-02-01T15:05:21.617Z"
   },
   {
    "duration": 38,
    "start_time": "2024-02-01T15:05:21.989Z"
   },
   {
    "duration": 10,
    "start_time": "2024-02-01T15:05:22.028Z"
   },
   {
    "duration": 38,
    "start_time": "2024-02-01T15:05:22.040Z"
   },
   {
    "duration": 17,
    "start_time": "2024-02-01T15:05:22.080Z"
   },
   {
    "duration": 65,
    "start_time": "2024-02-01T15:05:22.099Z"
   },
   {
    "duration": 12,
    "start_time": "2024-02-01T15:05:22.165Z"
   },
   {
    "duration": 27,
    "start_time": "2024-02-01T15:05:22.178Z"
   },
   {
    "duration": 29,
    "start_time": "2024-02-01T15:05:22.206Z"
   },
   {
    "duration": 36,
    "start_time": "2024-02-01T15:05:22.236Z"
   },
   {
    "duration": 18,
    "start_time": "2024-02-01T15:05:22.275Z"
   },
   {
    "duration": 19,
    "start_time": "2024-02-01T15:05:22.294Z"
   },
   {
    "duration": 21,
    "start_time": "2024-02-01T15:05:22.314Z"
   },
   {
    "duration": 12,
    "start_time": "2024-02-01T15:05:22.337Z"
   },
   {
    "duration": 29,
    "start_time": "2024-02-01T15:05:22.350Z"
   },
   {
    "duration": 33,
    "start_time": "2024-02-01T15:05:22.380Z"
   },
   {
    "duration": 23,
    "start_time": "2024-02-01T15:05:22.414Z"
   },
   {
    "duration": 18,
    "start_time": "2024-02-01T15:05:22.438Z"
   },
   {
    "duration": 15,
    "start_time": "2024-02-01T15:05:22.457Z"
   },
   {
    "duration": 10,
    "start_time": "2024-02-01T15:05:22.473Z"
   },
   {
    "duration": 37,
    "start_time": "2024-02-01T15:05:22.484Z"
   },
   {
    "duration": 19,
    "start_time": "2024-02-01T15:05:22.523Z"
   },
   {
    "duration": 22,
    "start_time": "2024-02-01T15:05:22.543Z"
   },
   {
    "duration": 370,
    "start_time": "2024-02-01T15:05:22.567Z"
   },
   {
    "duration": 5,
    "start_time": "2024-02-01T15:05:22.939Z"
   },
   {
    "duration": 150,
    "start_time": "2024-02-01T15:05:22.945Z"
   },
   {
    "duration": 8,
    "start_time": "2024-02-01T15:05:23.097Z"
   },
   {
    "duration": 112,
    "start_time": "2024-02-01T15:05:23.106Z"
   },
   {
    "duration": 151,
    "start_time": "2024-02-01T15:05:23.219Z"
   },
   {
    "duration": 8,
    "start_time": "2024-02-01T15:05:23.373Z"
   },
   {
    "duration": 135,
    "start_time": "2024-02-01T15:05:23.383Z"
   },
   {
    "duration": 6,
    "start_time": "2024-02-01T15:05:23.520Z"
   },
   {
    "duration": 36,
    "start_time": "2024-02-01T15:05:23.528Z"
   },
   {
    "duration": 199,
    "start_time": "2024-02-01T15:05:23.565Z"
   },
   {
    "duration": 8,
    "start_time": "2024-02-01T15:05:23.766Z"
   },
   {
    "duration": 131,
    "start_time": "2024-02-01T15:05:23.776Z"
   },
   {
    "duration": 6,
    "start_time": "2024-02-01T15:05:23.909Z"
   },
   {
    "duration": 124,
    "start_time": "2024-02-01T15:05:23.916Z"
   },
   {
    "duration": 8,
    "start_time": "2024-02-01T15:05:45.843Z"
   },
   {
    "duration": 166,
    "start_time": "2024-02-01T15:06:55.415Z"
   },
   {
    "duration": 4,
    "start_time": "2024-02-01T15:08:30.809Z"
   },
   {
    "duration": 3,
    "start_time": "2024-02-01T15:09:14.230Z"
   },
   {
    "duration": 23,
    "start_time": "2024-02-01T15:17:56.384Z"
   },
   {
    "duration": 75,
    "start_time": "2024-02-01T15:20:28.650Z"
   },
   {
    "duration": 16,
    "start_time": "2024-02-01T15:20:45.866Z"
   },
   {
    "duration": 22,
    "start_time": "2024-02-01T15:20:53.044Z"
   },
   {
    "duration": 36,
    "start_time": "2024-02-01T15:21:01.575Z"
   },
   {
    "duration": 13,
    "start_time": "2024-02-01T15:22:37.363Z"
   },
   {
    "duration": 19,
    "start_time": "2024-02-01T15:22:41.356Z"
   },
   {
    "duration": 9,
    "start_time": "2024-02-01T15:23:13.658Z"
   },
   {
    "duration": 21,
    "start_time": "2024-02-01T15:23:18.367Z"
   },
   {
    "duration": 8,
    "start_time": "2024-02-01T15:23:38.731Z"
   },
   {
    "duration": 8,
    "start_time": "2024-02-01T15:28:10.580Z"
   },
   {
    "duration": 160,
    "start_time": "2024-02-01T15:28:32.048Z"
   },
   {
    "duration": 182,
    "start_time": "2024-02-01T15:28:38.892Z"
   },
   {
    "duration": 8,
    "start_time": "2024-02-01T15:29:13.329Z"
   },
   {
    "duration": 150,
    "start_time": "2024-02-01T15:29:24.178Z"
   },
   {
    "duration": 8,
    "start_time": "2024-02-01T15:37:51.644Z"
   },
   {
    "duration": 148,
    "start_time": "2024-02-01T15:38:03.969Z"
   },
   {
    "duration": 8,
    "start_time": "2024-02-01T15:39:19.315Z"
   },
   {
    "duration": 159,
    "start_time": "2024-02-01T15:39:30.140Z"
   },
   {
    "duration": 4,
    "start_time": "2024-02-01T17:22:47.723Z"
   },
   {
    "duration": 7,
    "start_time": "2024-02-01T17:23:15.493Z"
   },
   {
    "duration": 8,
    "start_time": "2024-02-01T17:23:24.119Z"
   },
   {
    "duration": 4,
    "start_time": "2024-02-01T17:24:23.147Z"
   },
   {
    "duration": 9,
    "start_time": "2024-02-01T17:24:28.371Z"
   },
   {
    "duration": 10,
    "start_time": "2024-02-01T17:25:18.640Z"
   },
   {
    "duration": 7,
    "start_time": "2024-02-01T17:29:22.385Z"
   },
   {
    "duration": 28,
    "start_time": "2024-02-01T17:29:31.772Z"
   },
   {
    "duration": 36,
    "start_time": "2024-02-01T17:29:36.687Z"
   },
   {
    "duration": 19,
    "start_time": "2024-02-01T17:30:25.514Z"
   },
   {
    "duration": 31,
    "start_time": "2024-02-01T17:30:30.086Z"
   },
   {
    "duration": 414,
    "start_time": "2024-02-01T17:31:23.330Z"
   },
   {
    "duration": 32,
    "start_time": "2024-02-01T17:31:42.286Z"
   },
   {
    "duration": 30,
    "start_time": "2024-02-01T17:31:58.263Z"
   },
   {
    "duration": 1023,
    "start_time": "2024-02-01T17:32:34.322Z"
   },
   {
    "duration": 33,
    "start_time": "2024-02-01T17:32:55.706Z"
   },
   {
    "duration": 32,
    "start_time": "2024-02-01T17:34:35.990Z"
   },
   {
    "duration": 33,
    "start_time": "2024-02-01T17:35:20.561Z"
   },
   {
    "duration": 28,
    "start_time": "2024-02-01T17:36:57.666Z"
   },
   {
    "duration": 28,
    "start_time": "2024-02-01T17:37:02.835Z"
   },
   {
    "duration": 28,
    "start_time": "2024-02-01T17:37:07.792Z"
   },
   {
    "duration": 31,
    "start_time": "2024-02-01T17:37:13.411Z"
   },
   {
    "duration": 16,
    "start_time": "2024-02-01T17:43:17.950Z"
   },
   {
    "duration": 44,
    "start_time": "2024-02-02T11:24:25.831Z"
   },
   {
    "duration": 410,
    "start_time": "2024-02-02T11:24:35.059Z"
   },
   {
    "duration": 91,
    "start_time": "2024-02-02T11:24:35.471Z"
   },
   {
    "duration": 10,
    "start_time": "2024-02-02T11:24:35.564Z"
   },
   {
    "duration": 19,
    "start_time": "2024-02-02T11:24:35.575Z"
   },
   {
    "duration": 4,
    "start_time": "2024-02-02T11:24:35.597Z"
   },
   {
    "duration": 72,
    "start_time": "2024-02-02T11:24:35.603Z"
   },
   {
    "duration": 11,
    "start_time": "2024-02-02T11:24:35.676Z"
   },
   {
    "duration": 4,
    "start_time": "2024-02-02T11:24:35.689Z"
   },
   {
    "duration": 42,
    "start_time": "2024-02-02T11:24:35.694Z"
   },
   {
    "duration": 55,
    "start_time": "2024-02-02T11:24:35.737Z"
   },
   {
    "duration": 10,
    "start_time": "2024-02-02T11:24:35.793Z"
   },
   {
    "duration": 3,
    "start_time": "2024-02-02T11:24:35.805Z"
   },
   {
    "duration": 7,
    "start_time": "2024-02-02T11:24:35.810Z"
   },
   {
    "duration": 5,
    "start_time": "2024-02-02T11:24:35.819Z"
   },
   {
    "duration": 5,
    "start_time": "2024-02-02T11:24:35.825Z"
   },
   {
    "duration": 7,
    "start_time": "2024-02-02T11:24:35.831Z"
   },
   {
    "duration": 21,
    "start_time": "2024-02-02T11:24:35.839Z"
   },
   {
    "duration": 10,
    "start_time": "2024-02-02T11:24:35.861Z"
   },
   {
    "duration": 24,
    "start_time": "2024-02-02T11:24:35.872Z"
   },
   {
    "duration": 4,
    "start_time": "2024-02-02T11:24:35.897Z"
   },
   {
    "duration": 9,
    "start_time": "2024-02-02T11:24:35.903Z"
   },
   {
    "duration": 7,
    "start_time": "2024-02-02T11:24:35.913Z"
   },
   {
    "duration": 13,
    "start_time": "2024-02-02T11:24:35.921Z"
   },
   {
    "duration": 532,
    "start_time": "2024-02-02T11:24:35.935Z"
   },
   {
    "duration": 5,
    "start_time": "2024-02-02T11:24:36.468Z"
   },
   {
    "duration": 128,
    "start_time": "2024-02-02T11:24:36.475Z"
   },
   {
    "duration": 7,
    "start_time": "2024-02-02T11:24:36.604Z"
   },
   {
    "duration": 102,
    "start_time": "2024-02-02T11:24:36.612Z"
   },
   {
    "duration": 153,
    "start_time": "2024-02-02T11:24:36.716Z"
   },
   {
    "duration": 8,
    "start_time": "2024-02-02T11:24:36.871Z"
   },
   {
    "duration": 174,
    "start_time": "2024-02-02T11:24:36.881Z"
   },
   {
    "duration": 11,
    "start_time": "2024-02-02T11:24:37.057Z"
   },
   {
    "duration": 8,
    "start_time": "2024-02-02T11:24:37.069Z"
   },
   {
    "duration": 185,
    "start_time": "2024-02-02T11:24:37.078Z"
   },
   {
    "duration": 8,
    "start_time": "2024-02-02T11:24:37.264Z"
   },
   {
    "duration": 129,
    "start_time": "2024-02-02T11:24:37.273Z"
   },
   {
    "duration": 5,
    "start_time": "2024-02-02T11:24:37.404Z"
   },
   {
    "duration": 14,
    "start_time": "2024-02-02T11:24:37.410Z"
   },
   {
    "duration": 183,
    "start_time": "2024-02-02T11:24:37.426Z"
   },
   {
    "duration": 3,
    "start_time": "2024-02-02T11:24:37.611Z"
   },
   {
    "duration": 3,
    "start_time": "2024-02-02T11:24:37.618Z"
   },
   {
    "duration": 45,
    "start_time": "2024-02-02T11:24:37.623Z"
   },
   {
    "duration": 11,
    "start_time": "2024-02-02T11:24:37.669Z"
   },
   {
    "duration": 8,
    "start_time": "2024-02-02T11:24:37.681Z"
   },
   {
    "duration": 169,
    "start_time": "2024-02-02T11:24:37.690Z"
   },
   {
    "duration": 8,
    "start_time": "2024-02-02T11:24:37.864Z"
   },
   {
    "duration": 150,
    "start_time": "2024-02-02T11:24:37.874Z"
   },
   {
    "duration": 10,
    "start_time": "2024-02-02T11:24:38.026Z"
   },
   {
    "duration": 189,
    "start_time": "2024-02-02T11:24:38.038Z"
   },
   {
    "duration": 8,
    "start_time": "2024-02-02T11:24:38.228Z"
   },
   {
    "duration": 170,
    "start_time": "2024-02-02T11:24:38.238Z"
   },
   {
    "duration": 31,
    "start_time": "2024-02-02T11:24:38.409Z"
   },
   {
    "duration": 89,
    "start_time": "2024-02-02T11:24:38.441Z"
   },
   {
    "duration": 11,
    "start_time": "2024-02-02T11:24:58.326Z"
   },
   {
    "duration": 10,
    "start_time": "2024-02-02T11:25:03.459Z"
   },
   {
    "duration": 10,
    "start_time": "2024-02-02T11:25:08.291Z"
   },
   {
    "duration": 4,
    "start_time": "2024-02-02T11:25:23.728Z"
   },
   {
    "duration": 3,
    "start_time": "2024-02-02T11:25:34.629Z"
   },
   {
    "duration": 4,
    "start_time": "2024-02-02T11:25:41.624Z"
   },
   {
    "duration": 10,
    "start_time": "2024-02-02T11:25:48.892Z"
   },
   {
    "duration": 10,
    "start_time": "2024-02-02T11:26:54.199Z"
   },
   {
    "duration": 631,
    "start_time": "2024-02-02T11:27:00.874Z"
   },
   {
    "duration": 16,
    "start_time": "2024-02-02T11:28:54.477Z"
   },
   {
    "duration": 34,
    "start_time": "2024-02-02T11:28:59.016Z"
   },
   {
    "duration": 1211,
    "start_time": "2024-02-02T11:29:24.605Z"
   },
   {
    "duration": 1261,
    "start_time": "2024-02-02T11:29:30.918Z"
   },
   {
    "duration": 37,
    "start_time": "2024-02-02T11:31:19.414Z"
   },
   {
    "duration": 37,
    "start_time": "2024-02-02T11:31:24.804Z"
   },
   {
    "duration": 35,
    "start_time": "2024-02-02T11:32:23.924Z"
   },
   {
    "duration": 1190,
    "start_time": "2024-02-02T11:32:31.831Z"
   },
   {
    "duration": 12,
    "start_time": "2024-02-02T11:32:37.766Z"
   },
   {
    "duration": 15,
    "start_time": "2024-02-02T11:32:43.743Z"
   },
   {
    "duration": 547,
    "start_time": "2024-02-02T11:47:41.747Z"
   },
   {
    "duration": 9,
    "start_time": "2024-02-02T11:47:54.867Z"
   },
   {
    "duration": 11,
    "start_time": "2024-02-02T11:49:15.968Z"
   },
   {
    "duration": 6,
    "start_time": "2024-02-02T11:49:22.486Z"
   },
   {
    "duration": 4,
    "start_time": "2024-02-02T11:49:26.112Z"
   },
   {
    "duration": 10,
    "start_time": "2024-02-02T11:54:28.938Z"
   },
   {
    "duration": 5,
    "start_time": "2024-02-02T11:54:35.404Z"
   },
   {
    "duration": 631,
    "start_time": "2024-02-02T12:01:06.426Z"
   },
   {
    "duration": 939,
    "start_time": "2024-02-02T12:01:29.084Z"
   },
   {
    "duration": 1158,
    "start_time": "2024-02-02T12:01:34.160Z"
   },
   {
    "duration": 8,
    "start_time": "2024-02-02T12:03:16.528Z"
   },
   {
    "duration": 8,
    "start_time": "2024-02-02T12:03:23.471Z"
   },
   {
    "duration": 9,
    "start_time": "2024-02-02T12:04:06.037Z"
   },
   {
    "duration": 7,
    "start_time": "2024-02-02T12:04:20.794Z"
   },
   {
    "duration": 10,
    "start_time": "2024-02-02T12:04:43.331Z"
   },
   {
    "duration": 3,
    "start_time": "2024-02-02T12:04:53.867Z"
   },
   {
    "duration": 8,
    "start_time": "2024-02-02T12:04:57.273Z"
   },
   {
    "duration": 5,
    "start_time": "2024-02-02T12:05:05.305Z"
   },
   {
    "duration": 14,
    "start_time": "2024-02-02T12:05:06.991Z"
   },
   {
    "duration": 11,
    "start_time": "2024-02-02T12:05:11.789Z"
   },
   {
    "duration": 12,
    "start_time": "2024-02-02T12:05:18.893Z"
   },
   {
    "duration": 5,
    "start_time": "2024-02-02T12:05:51.943Z"
   },
   {
    "duration": 8,
    "start_time": "2024-02-02T12:05:57.305Z"
   },
   {
    "duration": 9,
    "start_time": "2024-02-02T12:06:20.981Z"
   },
   {
    "duration": 7,
    "start_time": "2024-02-02T12:06:59.951Z"
   },
   {
    "duration": 10,
    "start_time": "2024-02-02T12:07:13.940Z"
   },
   {
    "duration": 407,
    "start_time": "2024-02-02T21:12:55.928Z"
   },
   {
    "duration": 94,
    "start_time": "2024-02-02T21:12:57.445Z"
   },
   {
    "duration": 10,
    "start_time": "2024-02-02T21:12:58.325Z"
   },
   {
    "duration": 6,
    "start_time": "2024-02-02T21:13:00.004Z"
   },
   {
    "duration": 4,
    "start_time": "2024-02-02T21:13:00.384Z"
   },
   {
    "duration": 172,
    "start_time": "2024-02-02T21:13:00.992Z"
   },
   {
    "duration": 11,
    "start_time": "2024-02-02T21:13:01.414Z"
   },
   {
    "duration": 4,
    "start_time": "2024-02-02T21:13:02.608Z"
   },
   {
    "duration": 6,
    "start_time": "2024-02-02T21:13:02.939Z"
   },
   {
    "duration": 69,
    "start_time": "2024-02-02T21:13:04.818Z"
   },
   {
    "duration": 9,
    "start_time": "2024-02-02T21:13:05.244Z"
   },
   {
    "duration": 4,
    "start_time": "2024-02-02T21:13:05.657Z"
   },
   {
    "duration": 5,
    "start_time": "2024-02-02T21:13:06.910Z"
   },
   {
    "duration": 5,
    "start_time": "2024-02-02T21:13:07.882Z"
   },
   {
    "duration": 4,
    "start_time": "2024-02-02T21:13:08.169Z"
   },
   {
    "duration": 8,
    "start_time": "2024-02-02T21:13:08.470Z"
   },
   {
    "duration": 5,
    "start_time": "2024-02-02T21:13:08.790Z"
   },
   {
    "duration": 6,
    "start_time": "2024-02-02T21:13:09.072Z"
   },
   {
    "duration": 8,
    "start_time": "2024-02-02T21:13:10.810Z"
   },
   {
    "duration": 5,
    "start_time": "2024-02-02T21:13:11.220Z"
   },
   {
    "duration": 11,
    "start_time": "2024-02-02T21:13:11.544Z"
   },
   {
    "duration": 9,
    "start_time": "2024-02-02T21:13:12.860Z"
   },
   {
    "duration": 6,
    "start_time": "2024-02-02T21:13:14.968Z"
   },
   {
    "duration": 548,
    "start_time": "2024-02-02T21:13:15.849Z"
   },
   {
    "duration": 134,
    "start_time": "2024-02-02T21:13:50.796Z"
   },
   {
    "duration": 133,
    "start_time": "2024-02-02T21:13:56.505Z"
   },
   {
    "duration": 126,
    "start_time": "2024-02-02T21:14:41.214Z"
   },
   {
    "duration": 187,
    "start_time": "2024-02-02T21:14:51.857Z"
   },
   {
    "duration": 132,
    "start_time": "2024-02-02T21:15:03.397Z"
   },
   {
    "duration": 145,
    "start_time": "2024-02-02T21:15:56.836Z"
   },
   {
    "duration": 139,
    "start_time": "2024-02-02T21:17:21.588Z"
   },
   {
    "duration": 4,
    "start_time": "2024-02-02T21:17:39.651Z"
   },
   {
    "duration": 8,
    "start_time": "2024-02-02T21:17:41.777Z"
   },
   {
    "duration": 90,
    "start_time": "2024-02-02T21:17:44.553Z"
   },
   {
    "duration": 171,
    "start_time": "2024-02-02T21:18:20.669Z"
   },
   {
    "duration": 118,
    "start_time": "2024-02-02T21:18:26.931Z"
   },
   {
    "duration": 156,
    "start_time": "2024-02-02T21:18:32.364Z"
   },
   {
    "duration": 177,
    "start_time": "2024-02-02T21:19:29.688Z"
   },
   {
    "duration": 7,
    "start_time": "2024-02-02T21:19:51.323Z"
   },
   {
    "duration": 163,
    "start_time": "2024-02-02T21:20:45.498Z"
   },
   {
    "duration": 172,
    "start_time": "2024-02-02T21:21:30.290Z"
   },
   {
    "duration": 153,
    "start_time": "2024-02-02T21:21:54.312Z"
   },
   {
    "duration": 186,
    "start_time": "2024-02-02T21:22:01.390Z"
   },
   {
    "duration": 172,
    "start_time": "2024-02-02T21:22:10.502Z"
   },
   {
    "duration": 187,
    "start_time": "2024-02-02T21:22:14.534Z"
   },
   {
    "duration": 6,
    "start_time": "2024-02-02T21:23:26.407Z"
   },
   {
    "duration": 483,
    "start_time": "2024-02-02T21:23:30.891Z"
   },
   {
    "duration": 39,
    "start_time": "2024-02-02T21:23:32.296Z"
   },
   {
    "duration": 11,
    "start_time": "2024-02-02T21:23:33.357Z"
   },
   {
    "duration": 5,
    "start_time": "2024-02-02T21:23:33.820Z"
   },
   {
    "duration": 4,
    "start_time": "2024-02-02T21:23:34.986Z"
   },
   {
    "duration": 47,
    "start_time": "2024-02-02T21:23:35.678Z"
   },
   {
    "duration": 14,
    "start_time": "2024-02-02T21:23:36.303Z"
   },
   {
    "duration": 3,
    "start_time": "2024-02-02T21:23:37.776Z"
   },
   {
    "duration": 6,
    "start_time": "2024-02-02T21:23:38.149Z"
   },
   {
    "duration": 29,
    "start_time": "2024-02-02T21:23:39.419Z"
   },
   {
    "duration": 12,
    "start_time": "2024-02-02T21:23:40.569Z"
   },
   {
    "duration": 4,
    "start_time": "2024-02-02T21:23:41.273Z"
   },
   {
    "duration": 6,
    "start_time": "2024-02-02T21:23:41.778Z"
   },
   {
    "duration": 6,
    "start_time": "2024-02-02T21:23:43.738Z"
   },
   {
    "duration": 5,
    "start_time": "2024-02-02T21:23:44.081Z"
   },
   {
    "duration": 8,
    "start_time": "2024-02-02T21:23:44.261Z"
   },
   {
    "duration": 6,
    "start_time": "2024-02-02T21:23:44.501Z"
   },
   {
    "duration": 6,
    "start_time": "2024-02-02T21:23:45.871Z"
   },
   {
    "duration": 7,
    "start_time": "2024-02-02T21:23:47.784Z"
   },
   {
    "duration": 8,
    "start_time": "2024-02-02T21:23:48.090Z"
   },
   {
    "duration": 9,
    "start_time": "2024-02-02T21:23:48.472Z"
   },
   {
    "duration": 8,
    "start_time": "2024-02-02T21:23:49.827Z"
   },
   {
    "duration": 5,
    "start_time": "2024-02-02T21:23:53.510Z"
   },
   {
    "duration": 62,
    "start_time": "2024-02-02T21:24:22.606Z"
   },
   {
    "duration": 323,
    "start_time": "2024-02-02T21:25:31.712Z"
   },
   {
    "duration": 669,
    "start_time": "2024-02-02T21:26:28.385Z"
   },
   {
    "duration": 38,
    "start_time": "2024-02-02T21:26:29.980Z"
   },
   {
    "duration": 12,
    "start_time": "2024-02-02T21:26:30.626Z"
   },
   {
    "duration": 5,
    "start_time": "2024-02-02T21:26:31.867Z"
   },
   {
    "duration": 4,
    "start_time": "2024-02-02T21:26:32.135Z"
   },
   {
    "duration": 43,
    "start_time": "2024-02-02T21:26:33.247Z"
   },
   {
    "duration": 10,
    "start_time": "2024-02-02T21:26:33.733Z"
   },
   {
    "duration": 6,
    "start_time": "2024-02-02T21:26:35.022Z"
   },
   {
    "duration": 12,
    "start_time": "2024-02-02T21:26:35.320Z"
   },
   {
    "duration": 32,
    "start_time": "2024-02-02T21:26:36.809Z"
   },
   {
    "duration": 9,
    "start_time": "2024-02-02T21:26:37.347Z"
   },
   {
    "duration": 3,
    "start_time": "2024-02-02T21:26:38.523Z"
   },
   {
    "duration": 5,
    "start_time": "2024-02-02T21:26:38.677Z"
   },
   {
    "duration": 6,
    "start_time": "2024-02-02T21:26:40.120Z"
   },
   {
    "duration": 5,
    "start_time": "2024-02-02T21:26:40.348Z"
   },
   {
    "duration": 8,
    "start_time": "2024-02-02T21:26:40.579Z"
   },
   {
    "duration": 5,
    "start_time": "2024-02-02T21:26:40.912Z"
   },
   {
    "duration": 6,
    "start_time": "2024-02-02T21:26:41.163Z"
   },
   {
    "duration": 7,
    "start_time": "2024-02-02T21:26:42.874Z"
   },
   {
    "duration": 5,
    "start_time": "2024-02-02T21:26:43.236Z"
   },
   {
    "duration": 10,
    "start_time": "2024-02-02T21:26:43.637Z"
   },
   {
    "duration": 21,
    "start_time": "2024-02-02T21:26:44.991Z"
   },
   {
    "duration": 16,
    "start_time": "2024-02-02T21:26:46.291Z"
   },
   {
    "duration": 131,
    "start_time": "2024-02-02T21:26:59.506Z"
   },
   {
    "duration": 175,
    "start_time": "2024-02-02T21:27:09.012Z"
   },
   {
    "duration": 124,
    "start_time": "2024-02-02T21:27:24.586Z"
   },
   {
    "duration": 113,
    "start_time": "2024-02-02T21:27:46.650Z"
   },
   {
    "duration": 202,
    "start_time": "2024-02-02T21:28:07.456Z"
   },
   {
    "duration": 116,
    "start_time": "2024-02-02T21:28:19.940Z"
   },
   {
    "duration": 129,
    "start_time": "2024-02-02T21:28:36.089Z"
   },
   {
    "duration": 145,
    "start_time": "2024-02-02T21:28:56.941Z"
   },
   {
    "duration": 129,
    "start_time": "2024-02-02T21:29:08.004Z"
   },
   {
    "duration": 151,
    "start_time": "2024-02-02T21:29:34.343Z"
   },
   {
    "duration": 128,
    "start_time": "2024-02-02T21:30:22.967Z"
   },
   {
    "duration": 6,
    "start_time": "2024-02-02T21:30:36.032Z"
   },
   {
    "duration": 8,
    "start_time": "2024-02-02T21:30:36.725Z"
   },
   {
    "duration": 104,
    "start_time": "2024-02-02T21:31:22.082Z"
   },
   {
    "duration": 104,
    "start_time": "2024-02-02T21:31:44.365Z"
   },
   {
    "duration": 165,
    "start_time": "2024-02-02T21:32:26.077Z"
   },
   {
    "duration": 8,
    "start_time": "2024-02-02T21:32:47.023Z"
   },
   {
    "duration": 131,
    "start_time": "2024-02-02T21:33:25.178Z"
   },
   {
    "duration": 6,
    "start_time": "2024-02-02T21:33:30.447Z"
   },
   {
    "duration": 9,
    "start_time": "2024-02-02T21:33:30.975Z"
   },
   {
    "duration": 229,
    "start_time": "2024-02-02T21:34:26.757Z"
   },
   {
    "duration": 8,
    "start_time": "2024-02-02T21:34:39.756Z"
   },
   {
    "duration": 123,
    "start_time": "2024-02-02T21:34:40.331Z"
   },
   {
    "duration": 6,
    "start_time": "2024-02-02T21:34:42.259Z"
   },
   {
    "duration": 8,
    "start_time": "2024-02-02T21:34:42.852Z"
   },
   {
    "duration": 623,
    "start_time": "2024-02-02T21:34:49.188Z"
   },
   {
    "duration": 36,
    "start_time": "2024-02-02T21:34:50.629Z"
   },
   {
    "duration": 13,
    "start_time": "2024-02-02T21:34:51.081Z"
   },
   {
    "duration": 5,
    "start_time": "2024-02-02T21:34:51.453Z"
   },
   {
    "duration": 3,
    "start_time": "2024-02-02T21:34:52.694Z"
   },
   {
    "duration": 45,
    "start_time": "2024-02-02T21:34:53.314Z"
   },
   {
    "duration": 10,
    "start_time": "2024-02-02T21:34:53.809Z"
   },
   {
    "duration": 3,
    "start_time": "2024-02-02T21:34:55.014Z"
   },
   {
    "duration": 6,
    "start_time": "2024-02-02T21:34:55.247Z"
   },
   {
    "duration": 30,
    "start_time": "2024-02-02T21:34:55.940Z"
   },
   {
    "duration": 9,
    "start_time": "2024-02-02T21:34:57.188Z"
   },
   {
    "duration": 3,
    "start_time": "2024-02-02T21:34:57.394Z"
   },
   {
    "duration": 5,
    "start_time": "2024-02-02T21:34:57.644Z"
   },
   {
    "duration": 6,
    "start_time": "2024-02-02T21:34:59.366Z"
   },
   {
    "duration": 5,
    "start_time": "2024-02-02T21:34:59.525Z"
   },
   {
    "duration": 8,
    "start_time": "2024-02-02T21:34:59.812Z"
   },
   {
    "duration": 5,
    "start_time": "2024-02-02T21:34:59.991Z"
   },
   {
    "duration": 6,
    "start_time": "2024-02-02T21:35:00.180Z"
   },
   {
    "duration": 7,
    "start_time": "2024-02-02T21:35:00.685Z"
   },
   {
    "duration": 5,
    "start_time": "2024-02-02T21:35:00.917Z"
   },
   {
    "duration": 11,
    "start_time": "2024-02-02T21:35:01.129Z"
   },
   {
    "duration": 9,
    "start_time": "2024-02-02T21:35:01.581Z"
   },
   {
    "duration": 5,
    "start_time": "2024-02-02T21:35:03.059Z"
   },
   {
    "duration": 155,
    "start_time": "2024-02-02T21:35:04.632Z"
   },
   {
    "duration": 121,
    "start_time": "2024-02-02T21:35:19.027Z"
   },
   {
    "duration": 5,
    "start_time": "2024-02-02T21:35:19.871Z"
   },
   {
    "duration": 7,
    "start_time": "2024-02-02T21:35:21.668Z"
   },
   {
    "duration": 101,
    "start_time": "2024-02-02T21:35:22.976Z"
   },
   {
    "duration": 155,
    "start_time": "2024-02-02T21:35:24.415Z"
   },
   {
    "duration": 8,
    "start_time": "2024-02-02T21:35:28.267Z"
   },
   {
    "duration": 168,
    "start_time": "2024-02-02T21:35:29.213Z"
   },
   {
    "duration": 5,
    "start_time": "2024-02-02T21:35:40.452Z"
   },
   {
    "duration": 8,
    "start_time": "2024-02-02T21:35:40.788Z"
   },
   {
    "duration": 192,
    "start_time": "2024-02-02T21:35:41.364Z"
   },
   {
    "duration": 8,
    "start_time": "2024-02-02T21:35:49.341Z"
   },
   {
    "duration": 122,
    "start_time": "2024-02-02T21:36:26.726Z"
   },
   {
    "duration": 201,
    "start_time": "2024-02-02T21:36:38.189Z"
   },
   {
    "duration": 142,
    "start_time": "2024-02-02T21:36:47.365Z"
   },
   {
    "duration": 126,
    "start_time": "2024-02-02T21:37:07.098Z"
   },
   {
    "duration": 5,
    "start_time": "2024-02-02T21:37:08.735Z"
   },
   {
    "duration": 9,
    "start_time": "2024-02-02T21:37:09.097Z"
   },
   {
    "duration": 188,
    "start_time": "2024-02-02T21:38:01.548Z"
   },
   {
    "duration": 183,
    "start_time": "2024-02-02T21:38:13.754Z"
   },
   {
    "duration": 4,
    "start_time": "2024-02-02T21:39:04.968Z"
   },
   {
    "duration": 4,
    "start_time": "2024-02-02T21:39:05.324Z"
   },
   {
    "duration": 583,
    "start_time": "2024-02-02T21:39:14.331Z"
   },
   {
    "duration": 37,
    "start_time": "2024-02-02T21:39:15.655Z"
   },
   {
    "duration": 11,
    "start_time": "2024-02-02T21:39:16.222Z"
   },
   {
    "duration": 6,
    "start_time": "2024-02-02T21:39:17.962Z"
   },
   {
    "duration": 4,
    "start_time": "2024-02-02T21:39:18.166Z"
   },
   {
    "duration": 44,
    "start_time": "2024-02-02T21:39:18.559Z"
   },
   {
    "duration": 13,
    "start_time": "2024-02-02T21:39:18.934Z"
   },
   {
    "duration": 4,
    "start_time": "2024-02-02T21:39:20.144Z"
   },
   {
    "duration": 6,
    "start_time": "2024-02-02T21:39:20.298Z"
   },
   {
    "duration": 32,
    "start_time": "2024-02-02T21:39:20.834Z"
   },
   {
    "duration": 9,
    "start_time": "2024-02-02T21:39:22.015Z"
   },
   {
    "duration": 3,
    "start_time": "2024-02-02T21:39:22.857Z"
   },
   {
    "duration": 5,
    "start_time": "2024-02-02T21:39:23.183Z"
   },
   {
    "duration": 6,
    "start_time": "2024-02-02T21:39:24.889Z"
   },
   {
    "duration": 5,
    "start_time": "2024-02-02T21:39:25.026Z"
   },
   {
    "duration": 8,
    "start_time": "2024-02-02T21:39:25.232Z"
   },
   {
    "duration": 5,
    "start_time": "2024-02-02T21:39:25.439Z"
   },
   {
    "duration": 5,
    "start_time": "2024-02-02T21:39:25.576Z"
   },
   {
    "duration": 8,
    "start_time": "2024-02-02T21:39:26.886Z"
   },
   {
    "duration": 6,
    "start_time": "2024-02-02T21:39:27.041Z"
   },
   {
    "duration": 10,
    "start_time": "2024-02-02T21:39:27.194Z"
   },
   {
    "duration": 9,
    "start_time": "2024-02-02T21:39:27.347Z"
   },
   {
    "duration": 5,
    "start_time": "2024-02-02T21:39:29.295Z"
   },
   {
    "duration": 150,
    "start_time": "2024-02-02T21:39:30.475Z"
   },
   {
    "duration": 123,
    "start_time": "2024-02-02T21:39:35.194Z"
   },
   {
    "duration": 5,
    "start_time": "2024-02-02T21:39:36.941Z"
   },
   {
    "duration": 8,
    "start_time": "2024-02-02T21:39:37.740Z"
   },
   {
    "duration": 99,
    "start_time": "2024-02-02T21:39:40.261Z"
   },
   {
    "duration": 158,
    "start_time": "2024-02-02T21:39:46.392Z"
   },
   {
    "duration": 8,
    "start_time": "2024-02-02T21:39:51.716Z"
   },
   {
    "duration": 172,
    "start_time": "2024-02-02T21:39:53.069Z"
   },
   {
    "duration": 6,
    "start_time": "2024-02-02T21:39:56.563Z"
   },
   {
    "duration": 9,
    "start_time": "2024-02-02T21:40:00.566Z"
   },
   {
    "duration": 191,
    "start_time": "2024-02-02T21:40:01.342Z"
   },
   {
    "duration": 8,
    "start_time": "2024-02-02T21:40:09.105Z"
   },
   {
    "duration": 123,
    "start_time": "2024-02-02T21:40:09.642Z"
   },
   {
    "duration": 5,
    "start_time": "2024-02-02T21:40:12.862Z"
   },
   {
    "duration": 9,
    "start_time": "2024-02-02T21:40:13.252Z"
   },
   {
    "duration": 186,
    "start_time": "2024-02-02T21:40:13.895Z"
   },
   {
    "duration": 4,
    "start_time": "2024-02-02T21:40:24.218Z"
   },
   {
    "duration": 3,
    "start_time": "2024-02-02T21:40:24.462Z"
   },
   {
    "duration": 78,
    "start_time": "2024-02-02T21:41:37.312Z"
   },
   {
    "duration": 29,
    "start_time": "2024-02-02T21:41:59.961Z"
   },
   {
    "duration": 9,
    "start_time": "2024-02-02T21:42:27.780Z"
   },
   {
    "duration": 11,
    "start_time": "2024-02-02T21:44:52.496Z"
   },
   {
    "duration": 8,
    "start_time": "2024-02-02T21:45:00.976Z"
   },
   {
    "duration": 176,
    "start_time": "2024-02-02T21:45:45.605Z"
   },
   {
    "duration": 171,
    "start_time": "2024-02-02T21:45:58.582Z"
   },
   {
    "duration": 7,
    "start_time": "2024-02-02T21:46:23.111Z"
   },
   {
    "duration": 156,
    "start_time": "2024-02-02T21:46:36.462Z"
   },
   {
    "duration": 7,
    "start_time": "2024-02-02T21:46:43.163Z"
   },
   {
    "duration": 178,
    "start_time": "2024-02-02T21:46:59.634Z"
   },
   {
    "duration": 175,
    "start_time": "2024-02-02T21:47:13.104Z"
   },
   {
    "duration": 592,
    "start_time": "2024-02-02T21:47:23.115Z"
   },
   {
    "duration": 35,
    "start_time": "2024-02-02T21:47:23.709Z"
   },
   {
    "duration": 9,
    "start_time": "2024-02-02T21:47:23.746Z"
   },
   {
    "duration": 9,
    "start_time": "2024-02-02T21:47:23.757Z"
   },
   {
    "duration": 14,
    "start_time": "2024-02-02T21:47:23.768Z"
   },
   {
    "duration": 34,
    "start_time": "2024-02-02T21:47:23.783Z"
   },
   {
    "duration": 9,
    "start_time": "2024-02-02T21:47:23.819Z"
   },
   {
    "duration": 9,
    "start_time": "2024-02-02T21:47:23.830Z"
   },
   {
    "duration": 8,
    "start_time": "2024-02-02T21:47:23.841Z"
   },
   {
    "duration": 28,
    "start_time": "2024-02-02T21:47:23.850Z"
   },
   {
    "duration": 13,
    "start_time": "2024-02-02T21:47:23.879Z"
   },
   {
    "duration": 41,
    "start_time": "2024-02-02T21:47:23.893Z"
   },
   {
    "duration": 52,
    "start_time": "2024-02-02T21:47:23.935Z"
   },
   {
    "duration": 34,
    "start_time": "2024-02-02T21:47:23.990Z"
   },
   {
    "duration": 19,
    "start_time": "2024-02-02T21:47:24.025Z"
   },
   {
    "duration": 15,
    "start_time": "2024-02-02T21:47:24.045Z"
   },
   {
    "duration": 14,
    "start_time": "2024-02-02T21:47:24.062Z"
   },
   {
    "duration": 17,
    "start_time": "2024-02-02T21:47:24.077Z"
   },
   {
    "duration": 14,
    "start_time": "2024-02-02T21:47:24.096Z"
   },
   {
    "duration": 22,
    "start_time": "2024-02-02T21:47:24.111Z"
   },
   {
    "duration": 22,
    "start_time": "2024-02-02T21:47:24.135Z"
   },
   {
    "duration": 12,
    "start_time": "2024-02-02T21:47:24.159Z"
   },
   {
    "duration": 23,
    "start_time": "2024-02-02T21:47:24.172Z"
   },
   {
    "duration": 162,
    "start_time": "2024-02-02T21:47:24.196Z"
   },
   {
    "duration": 141,
    "start_time": "2024-02-02T21:47:24.359Z"
   },
   {
    "duration": 5,
    "start_time": "2024-02-02T21:47:24.502Z"
   },
   {
    "duration": 43,
    "start_time": "2024-02-02T21:47:24.509Z"
   },
   {
    "duration": 111,
    "start_time": "2024-02-02T21:47:24.554Z"
   },
   {
    "duration": 159,
    "start_time": "2024-02-02T21:47:24.666Z"
   },
   {
    "duration": 8,
    "start_time": "2024-02-02T21:47:24.827Z"
   },
   {
    "duration": 203,
    "start_time": "2024-02-02T21:47:24.837Z"
   },
   {
    "duration": 6,
    "start_time": "2024-02-02T21:47:25.042Z"
   },
   {
    "duration": 38,
    "start_time": "2024-02-02T21:47:25.050Z"
   },
   {
    "duration": 213,
    "start_time": "2024-02-02T21:47:25.089Z"
   },
   {
    "duration": 8,
    "start_time": "2024-02-02T21:47:25.304Z"
   },
   {
    "duration": 132,
    "start_time": "2024-02-02T21:47:25.314Z"
   },
   {
    "duration": 6,
    "start_time": "2024-02-02T21:47:25.448Z"
   },
   {
    "duration": 36,
    "start_time": "2024-02-02T21:47:25.456Z"
   },
   {
    "duration": 178,
    "start_time": "2024-02-02T21:47:25.494Z"
   },
   {
    "duration": 3,
    "start_time": "2024-02-02T21:47:25.673Z"
   },
   {
    "duration": 34,
    "start_time": "2024-02-02T21:47:25.680Z"
   },
   {
    "duration": 64,
    "start_time": "2024-02-02T21:47:25.715Z"
   },
   {
    "duration": 9,
    "start_time": "2024-02-02T21:47:25.780Z"
   },
   {
    "duration": 42,
    "start_time": "2024-02-02T21:47:25.790Z"
   },
   {
    "duration": 23,
    "start_time": "2024-02-02T21:47:25.834Z"
   },
   {
    "duration": 167,
    "start_time": "2024-02-02T21:47:25.858Z"
   },
   {
    "duration": 7,
    "start_time": "2024-02-02T21:47:26.027Z"
   },
   {
    "duration": 194,
    "start_time": "2024-02-02T21:47:26.036Z"
   },
   {
    "duration": 7,
    "start_time": "2024-02-02T21:47:26.232Z"
   },
   {
    "duration": 183,
    "start_time": "2024-02-02T21:47:26.240Z"
   },
   {
    "duration": 7,
    "start_time": "2024-02-02T21:47:26.425Z"
   },
   {
    "duration": 165,
    "start_time": "2024-02-02T21:47:26.433Z"
   },
   {
    "duration": 39,
    "start_time": "2024-02-02T21:47:26.599Z"
   },
   {
    "duration": 12,
    "start_time": "2024-02-02T21:47:26.639Z"
   },
   {
    "duration": 580,
    "start_time": "2024-02-02T21:47:26.652Z"
   },
   {
    "duration": 0,
    "start_time": "2024-02-02T21:47:27.234Z"
   },
   {
    "duration": 0,
    "start_time": "2024-02-02T21:47:27.235Z"
   },
   {
    "duration": 595,
    "start_time": "2024-02-02T21:51:30.657Z"
   },
   {
    "duration": 36,
    "start_time": "2024-02-02T21:51:31.368Z"
   },
   {
    "duration": 11,
    "start_time": "2024-02-02T21:51:31.796Z"
   },
   {
    "duration": 5,
    "start_time": "2024-02-02T21:51:32.126Z"
   },
   {
    "duration": 3,
    "start_time": "2024-02-02T21:51:33.598Z"
   },
   {
    "duration": 42,
    "start_time": "2024-02-02T21:51:34.290Z"
   },
   {
    "duration": 9,
    "start_time": "2024-02-02T21:51:35.623Z"
   },
   {
    "duration": 3,
    "start_time": "2024-02-02T21:51:35.946Z"
   },
   {
    "duration": 6,
    "start_time": "2024-02-02T21:51:36.306Z"
   },
   {
    "duration": 30,
    "start_time": "2024-02-02T21:51:37.892Z"
   },
   {
    "duration": 10,
    "start_time": "2024-02-02T21:51:38.145Z"
   },
   {
    "duration": 3,
    "start_time": "2024-02-02T21:51:39.297Z"
   },
   {
    "duration": 5,
    "start_time": "2024-02-02T21:51:39.651Z"
   },
   {
    "duration": 5,
    "start_time": "2024-02-02T21:51:42.822Z"
   },
   {
    "duration": 4,
    "start_time": "2024-02-02T21:51:43.324Z"
   },
   {
    "duration": 8,
    "start_time": "2024-02-02T21:51:43.545Z"
   },
   {
    "duration": 4,
    "start_time": "2024-02-02T21:51:43.713Z"
   },
   {
    "duration": 6,
    "start_time": "2024-02-02T21:51:43.867Z"
   },
   {
    "duration": 7,
    "start_time": "2024-02-02T21:51:44.183Z"
   },
   {
    "duration": 5,
    "start_time": "2024-02-02T21:51:44.535Z"
   },
   {
    "duration": 10,
    "start_time": "2024-02-02T21:51:45.557Z"
   },
   {
    "duration": 8,
    "start_time": "2024-02-02T21:51:45.807Z"
   },
   {
    "duration": 5,
    "start_time": "2024-02-02T21:51:46.649Z"
   },
   {
    "duration": 148,
    "start_time": "2024-02-02T21:51:47.967Z"
   },
   {
    "duration": 130,
    "start_time": "2024-02-02T21:51:51.413Z"
   },
   {
    "duration": 5,
    "start_time": "2024-02-02T21:51:52.786Z"
   },
   {
    "duration": 8,
    "start_time": "2024-02-02T21:51:53.690Z"
   },
   {
    "duration": 100,
    "start_time": "2024-02-02T21:51:55.012Z"
   },
   {
    "duration": 153,
    "start_time": "2024-02-02T21:51:56.457Z"
   },
   {
    "duration": 8,
    "start_time": "2024-02-02T21:51:58.541Z"
   },
   {
    "duration": 166,
    "start_time": "2024-02-02T21:51:59.872Z"
   },
   {
    "duration": 6,
    "start_time": "2024-02-02T21:52:00.045Z"
   },
   {
    "duration": 10,
    "start_time": "2024-02-02T21:52:01.485Z"
   },
   {
    "duration": 200,
    "start_time": "2024-02-02T21:52:01.671Z"
   },
   {
    "duration": 8,
    "start_time": "2024-02-02T21:52:04.000Z"
   },
   {
    "duration": 124,
    "start_time": "2024-02-02T21:52:05.274Z"
   },
   {
    "duration": 5,
    "start_time": "2024-02-02T21:52:06.685Z"
   },
   {
    "duration": 8,
    "start_time": "2024-02-02T21:52:07.041Z"
   },
   {
    "duration": 174,
    "start_time": "2024-02-02T21:52:07.270Z"
   },
   {
    "duration": 6,
    "start_time": "2024-02-02T21:52:11.370Z"
   },
   {
    "duration": 3,
    "start_time": "2024-02-02T21:52:12.430Z"
   },
   {
    "duration": 32,
    "start_time": "2024-02-02T21:52:13.121Z"
   },
   {
    "duration": 9,
    "start_time": "2024-02-02T21:52:14.382Z"
   },
   {
    "duration": 10,
    "start_time": "2024-02-02T21:52:17.552Z"
   },
   {
    "duration": 8,
    "start_time": "2024-02-02T21:52:17.629Z"
   },
   {
    "duration": 163,
    "start_time": "2024-02-02T21:52:18.018Z"
   },
   {
    "duration": 8,
    "start_time": "2024-02-02T21:52:20.281Z"
   },
   {
    "duration": 158,
    "start_time": "2024-02-02T21:52:20.547Z"
   },
   {
    "duration": 8,
    "start_time": "2024-02-02T21:52:22.114Z"
   },
   {
    "duration": 164,
    "start_time": "2024-02-02T21:52:22.739Z"
   },
   {
    "duration": 7,
    "start_time": "2024-02-02T21:52:28.812Z"
   },
   {
    "duration": 156,
    "start_time": "2024-02-02T21:52:29.823Z"
   },
   {
    "duration": 3,
    "start_time": "2024-02-02T22:09:46.952Z"
   },
   {
    "duration": 646,
    "start_time": "2024-02-02T22:09:50.553Z"
   },
   {
    "duration": 37,
    "start_time": "2024-02-02T22:09:51.688Z"
   },
   {
    "duration": 11,
    "start_time": "2024-02-02T22:09:52.946Z"
   },
   {
    "duration": 6,
    "start_time": "2024-02-02T22:09:53.407Z"
   },
   {
    "duration": 3,
    "start_time": "2024-02-02T22:09:54.674Z"
   },
   {
    "duration": 45,
    "start_time": "2024-02-02T22:09:55.322Z"
   },
   {
    "duration": 14,
    "start_time": "2024-02-02T22:09:58.081Z"
   },
   {
    "duration": 3,
    "start_time": "2024-02-02T22:09:59.569Z"
   },
   {
    "duration": 9,
    "start_time": "2024-02-02T22:09:59.888Z"
   },
   {
    "duration": 32,
    "start_time": "2024-02-02T22:10:00.324Z"
   },
   {
    "duration": 11,
    "start_time": "2024-02-02T22:10:00.792Z"
   },
   {
    "duration": 4,
    "start_time": "2024-02-02T22:10:02.445Z"
   },
   {
    "duration": 6,
    "start_time": "2024-02-02T22:10:02.620Z"
   },
   {
    "duration": 5,
    "start_time": "2024-02-02T22:10:04.041Z"
   },
   {
    "duration": 5,
    "start_time": "2024-02-02T22:10:04.238Z"
   },
   {
    "duration": 8,
    "start_time": "2024-02-02T22:10:04.424Z"
   },
   {
    "duration": 4,
    "start_time": "2024-02-02T22:10:04.601Z"
   },
   {
    "duration": 5,
    "start_time": "2024-02-02T22:10:04.749Z"
   },
   {
    "duration": 8,
    "start_time": "2024-02-02T22:10:06.371Z"
   },
   {
    "duration": 5,
    "start_time": "2024-02-02T22:10:06.578Z"
   },
   {
    "duration": 11,
    "start_time": "2024-02-02T22:10:06.739Z"
   },
   {
    "duration": 9,
    "start_time": "2024-02-02T22:10:08.541Z"
   },
   {
    "duration": 6,
    "start_time": "2024-02-02T22:10:09.735Z"
   },
   {
    "duration": 152,
    "start_time": "2024-02-02T22:10:13.958Z"
   },
   {
    "duration": 124,
    "start_time": "2024-02-02T22:10:17.549Z"
   },
   {
    "duration": 6,
    "start_time": "2024-02-02T22:10:18.284Z"
   },
   {
    "duration": 9,
    "start_time": "2024-02-02T22:10:18.931Z"
   },
   {
    "duration": 118,
    "start_time": "2024-02-02T22:10:19.103Z"
   },
   {
    "duration": 161,
    "start_time": "2024-02-02T22:10:20.551Z"
   },
   {
    "duration": 10,
    "start_time": "2024-02-02T22:10:22.288Z"
   },
   {
    "duration": 181,
    "start_time": "2024-02-02T22:10:23.490Z"
   },
   {
    "duration": 6,
    "start_time": "2024-02-02T22:10:24.986Z"
   },
   {
    "duration": 8,
    "start_time": "2024-02-02T22:10:25.140Z"
   },
   {
    "duration": 186,
    "start_time": "2024-02-02T22:10:25.548Z"
   },
   {
    "duration": 11,
    "start_time": "2024-02-02T22:10:30.322Z"
   },
   {
    "duration": 133,
    "start_time": "2024-02-02T22:10:31.859Z"
   },
   {
    "duration": 5,
    "start_time": "2024-02-02T22:10:32.040Z"
   },
   {
    "duration": 8,
    "start_time": "2024-02-02T22:10:33.713Z"
   },
   {
    "duration": 176,
    "start_time": "2024-02-02T22:10:35.883Z"
   },
   {
    "duration": 5,
    "start_time": "2024-02-02T22:10:54.354Z"
   },
   {
    "duration": 4,
    "start_time": "2024-02-02T22:10:54.757Z"
   },
   {
    "duration": 33,
    "start_time": "2024-02-02T22:11:01.926Z"
   },
   {
    "duration": 9,
    "start_time": "2024-02-02T22:11:03.903Z"
   },
   {
    "duration": 11,
    "start_time": "2024-02-02T22:11:19.146Z"
   },
   {
    "duration": 8,
    "start_time": "2024-02-02T22:11:22.019Z"
   },
   {
    "duration": 191,
    "start_time": "2024-02-02T22:11:24.923Z"
   },
   {
    "duration": 8,
    "start_time": "2024-02-02T22:11:29.333Z"
   },
   {
    "duration": 165,
    "start_time": "2024-02-02T22:11:31.427Z"
   },
   {
    "duration": 9,
    "start_time": "2024-02-02T22:11:48.667Z"
   },
   {
    "duration": 179,
    "start_time": "2024-02-02T22:11:51.792Z"
   },
   {
    "duration": 7,
    "start_time": "2024-02-02T22:11:56.802Z"
   },
   {
    "duration": 159,
    "start_time": "2024-02-02T22:11:57.786Z"
   },
   {
    "duration": 46,
    "start_time": "2024-02-02T22:13:14.948Z"
   },
   {
    "duration": 17,
    "start_time": "2024-02-02T22:13:24.414Z"
   },
   {
    "duration": 490,
    "start_time": "2024-02-02T22:14:10.631Z"
   },
   {
    "duration": 9,
    "start_time": "2024-02-02T22:14:18.560Z"
   },
   {
    "duration": 8,
    "start_time": "2024-02-02T22:14:23.472Z"
   },
   {
    "duration": 6,
    "start_time": "2024-02-02T22:14:35.209Z"
   },
   {
    "duration": 6,
    "start_time": "2024-02-02T22:14:41.488Z"
   },
   {
    "duration": 5,
    "start_time": "2024-02-02T22:15:04.120Z"
   },
   {
    "duration": 99,
    "start_time": "2024-02-02T22:15:37.017Z"
   },
   {
    "duration": 5,
    "start_time": "2024-02-02T22:16:15.276Z"
   },
   {
    "duration": 9,
    "start_time": "2024-02-02T22:16:17.496Z"
   },
   {
    "duration": 83,
    "start_time": "2024-02-02T22:26:22.758Z"
   },
   {
    "duration": 617,
    "start_time": "2024-02-02T22:26:47.564Z"
   },
   {
    "duration": 35,
    "start_time": "2024-02-02T22:26:48.182Z"
   },
   {
    "duration": 10,
    "start_time": "2024-02-02T22:26:48.219Z"
   },
   {
    "duration": 19,
    "start_time": "2024-02-02T22:26:48.231Z"
   },
   {
    "duration": 6,
    "start_time": "2024-02-02T22:26:48.251Z"
   },
   {
    "duration": 35,
    "start_time": "2024-02-02T22:26:48.258Z"
   },
   {
    "duration": 12,
    "start_time": "2024-02-02T22:26:48.295Z"
   },
   {
    "duration": 4,
    "start_time": "2024-02-02T22:26:48.309Z"
   },
   {
    "duration": 7,
    "start_time": "2024-02-02T22:26:48.326Z"
   },
   {
    "duration": 22,
    "start_time": "2024-02-02T22:26:48.336Z"
   },
   {
    "duration": 10,
    "start_time": "2024-02-02T22:26:48.360Z"
   },
   {
    "duration": 12,
    "start_time": "2024-02-02T22:26:48.372Z"
   },
   {
    "duration": 22,
    "start_time": "2024-02-02T22:26:48.386Z"
   },
   {
    "duration": 10,
    "start_time": "2024-02-02T22:26:48.410Z"
   },
   {
    "duration": 6,
    "start_time": "2024-02-02T22:26:48.421Z"
   },
   {
    "duration": 9,
    "start_time": "2024-02-02T22:26:48.428Z"
   },
   {
    "duration": 15,
    "start_time": "2024-02-02T22:26:48.438Z"
   },
   {
    "duration": 12,
    "start_time": "2024-02-02T22:26:48.454Z"
   },
   {
    "duration": 14,
    "start_time": "2024-02-02T22:26:48.467Z"
   },
   {
    "duration": 6,
    "start_time": "2024-02-02T22:26:48.482Z"
   },
   {
    "duration": 18,
    "start_time": "2024-02-02T22:26:48.494Z"
   },
   {
    "duration": 12,
    "start_time": "2024-02-02T22:26:48.514Z"
   },
   {
    "duration": 6,
    "start_time": "2024-02-02T22:26:48.527Z"
   },
   {
    "duration": 164,
    "start_time": "2024-02-02T22:26:48.535Z"
   },
   {
    "duration": 123,
    "start_time": "2024-02-02T22:26:48.701Z"
   },
   {
    "duration": 5,
    "start_time": "2024-02-02T22:26:48.825Z"
   },
   {
    "duration": 9,
    "start_time": "2024-02-02T22:26:48.831Z"
   },
   {
    "duration": 118,
    "start_time": "2024-02-02T22:26:48.843Z"
   },
   {
    "duration": 186,
    "start_time": "2024-02-02T22:26:48.963Z"
   },
   {
    "duration": 8,
    "start_time": "2024-02-02T22:26:49.151Z"
   },
   {
    "duration": 191,
    "start_time": "2024-02-02T22:26:49.161Z"
   },
   {
    "duration": 6,
    "start_time": "2024-02-02T22:26:49.353Z"
   },
   {
    "duration": 48,
    "start_time": "2024-02-02T22:26:49.360Z"
   },
   {
    "duration": 200,
    "start_time": "2024-02-02T22:26:49.409Z"
   },
   {
    "duration": 7,
    "start_time": "2024-02-02T22:26:49.611Z"
   },
   {
    "duration": 131,
    "start_time": "2024-02-02T22:26:49.620Z"
   },
   {
    "duration": 4,
    "start_time": "2024-02-02T22:26:49.753Z"
   },
   {
    "duration": 8,
    "start_time": "2024-02-02T22:26:49.759Z"
   },
   {
    "duration": 188,
    "start_time": "2024-02-02T22:26:49.768Z"
   },
   {
    "duration": 4,
    "start_time": "2024-02-02T22:26:49.958Z"
   },
   {
    "duration": 15,
    "start_time": "2024-02-02T22:26:49.964Z"
   },
   {
    "duration": 51,
    "start_time": "2024-02-02T22:26:49.981Z"
   },
   {
    "duration": 10,
    "start_time": "2024-02-02T22:26:50.034Z"
   },
   {
    "duration": 43,
    "start_time": "2024-02-02T22:26:50.046Z"
   },
   {
    "duration": 39,
    "start_time": "2024-02-02T22:26:50.090Z"
   },
   {
    "duration": 179,
    "start_time": "2024-02-02T22:26:50.130Z"
   },
   {
    "duration": 8,
    "start_time": "2024-02-02T22:26:50.310Z"
   },
   {
    "duration": 169,
    "start_time": "2024-02-02T22:26:50.319Z"
   },
   {
    "duration": 9,
    "start_time": "2024-02-02T22:26:50.489Z"
   },
   {
    "duration": 188,
    "start_time": "2024-02-02T22:26:50.500Z"
   },
   {
    "duration": 7,
    "start_time": "2024-02-02T22:26:50.694Z"
   },
   {
    "duration": 181,
    "start_time": "2024-02-02T22:26:50.702Z"
   },
   {
    "duration": 38,
    "start_time": "2024-02-02T22:26:50.884Z"
   },
   {
    "duration": 10,
    "start_time": "2024-02-02T22:26:50.924Z"
   },
   {
    "duration": 613,
    "start_time": "2024-02-02T22:26:50.936Z"
   },
   {
    "duration": 0,
    "start_time": "2024-02-02T22:26:51.550Z"
   },
   {
    "duration": 0,
    "start_time": "2024-02-02T22:26:51.551Z"
   },
   {
    "duration": 785,
    "start_time": "2024-02-03T09:32:54.676Z"
   },
   {
    "duration": 94,
    "start_time": "2024-02-03T09:32:55.463Z"
   },
   {
    "duration": 11,
    "start_time": "2024-02-03T09:32:55.559Z"
   },
   {
    "duration": 10,
    "start_time": "2024-02-03T09:32:55.571Z"
   },
   {
    "duration": 4,
    "start_time": "2024-02-03T09:32:55.582Z"
   },
   {
    "duration": 160,
    "start_time": "2024-02-03T09:32:55.587Z"
   },
   {
    "duration": 10,
    "start_time": "2024-02-03T09:32:55.748Z"
   },
   {
    "duration": 29,
    "start_time": "2024-02-03T09:32:55.759Z"
   },
   {
    "duration": 31,
    "start_time": "2024-02-03T09:32:55.789Z"
   },
   {
    "duration": 73,
    "start_time": "2024-02-03T09:32:55.822Z"
   },
   {
    "duration": 8,
    "start_time": "2024-02-03T09:32:55.897Z"
   },
   {
    "duration": 5,
    "start_time": "2024-02-03T09:32:55.907Z"
   },
   {
    "duration": 15,
    "start_time": "2024-02-03T09:32:55.913Z"
   },
   {
    "duration": 25,
    "start_time": "2024-02-03T09:32:55.929Z"
   },
   {
    "duration": 9,
    "start_time": "2024-02-03T09:32:55.955Z"
   },
   {
    "duration": 11,
    "start_time": "2024-02-03T09:32:55.965Z"
   },
   {
    "duration": 6,
    "start_time": "2024-02-03T09:32:55.977Z"
   },
   {
    "duration": 17,
    "start_time": "2024-02-03T09:32:55.985Z"
   },
   {
    "duration": 28,
    "start_time": "2024-02-03T09:32:56.003Z"
   },
   {
    "duration": 4,
    "start_time": "2024-02-03T09:32:56.033Z"
   },
   {
    "duration": 9,
    "start_time": "2024-02-03T09:32:56.039Z"
   },
   {
    "duration": 16,
    "start_time": "2024-02-03T09:32:56.049Z"
   },
   {
    "duration": 7,
    "start_time": "2024-02-03T09:32:56.066Z"
   },
   {
    "duration": 156,
    "start_time": "2024-02-03T09:32:56.074Z"
   },
   {
    "duration": 131,
    "start_time": "2024-02-03T09:32:56.232Z"
   },
   {
    "duration": 5,
    "start_time": "2024-02-03T09:32:56.364Z"
   },
   {
    "duration": 47,
    "start_time": "2024-02-03T09:32:56.370Z"
   },
   {
    "duration": 95,
    "start_time": "2024-02-03T09:32:56.422Z"
   },
   {
    "duration": 153,
    "start_time": "2024-02-03T09:32:56.519Z"
   },
   {
    "duration": 8,
    "start_time": "2024-02-03T09:32:56.673Z"
   },
   {
    "duration": 193,
    "start_time": "2024-02-03T09:32:56.682Z"
   },
   {
    "duration": 6,
    "start_time": "2024-02-03T09:32:56.877Z"
   },
   {
    "duration": 26,
    "start_time": "2024-02-03T09:32:56.884Z"
   },
   {
    "duration": 188,
    "start_time": "2024-02-03T09:32:56.911Z"
   },
   {
    "duration": 8,
    "start_time": "2024-02-03T09:32:57.100Z"
   },
   {
    "duration": 140,
    "start_time": "2024-02-03T09:32:57.109Z"
   },
   {
    "duration": 11,
    "start_time": "2024-02-03T09:32:57.251Z"
   },
   {
    "duration": 15,
    "start_time": "2024-02-03T09:32:57.263Z"
   },
   {
    "duration": 185,
    "start_time": "2024-02-03T09:32:57.279Z"
   },
   {
    "duration": 4,
    "start_time": "2024-02-03T09:32:57.465Z"
   },
   {
    "duration": 16,
    "start_time": "2024-02-03T09:32:57.471Z"
   },
   {
    "duration": 39,
    "start_time": "2024-02-03T09:32:57.488Z"
   },
   {
    "duration": 8,
    "start_time": "2024-02-03T09:32:57.529Z"
   },
   {
    "duration": 21,
    "start_time": "2024-02-03T09:32:57.539Z"
   },
   {
    "duration": 8,
    "start_time": "2024-02-03T09:32:57.562Z"
   },
   {
    "duration": 180,
    "start_time": "2024-02-03T09:32:57.572Z"
   },
   {
    "duration": 13,
    "start_time": "2024-02-03T09:32:57.753Z"
   },
   {
    "duration": 158,
    "start_time": "2024-02-03T09:32:57.767Z"
   },
   {
    "duration": 8,
    "start_time": "2024-02-03T09:32:57.926Z"
   },
   {
    "duration": 201,
    "start_time": "2024-02-03T09:32:57.935Z"
   },
   {
    "duration": 7,
    "start_time": "2024-02-03T09:32:58.138Z"
   },
   {
    "duration": 186,
    "start_time": "2024-02-03T09:32:58.146Z"
   },
   {
    "duration": 48,
    "start_time": "2024-02-03T09:32:58.333Z"
   },
   {
    "duration": 12,
    "start_time": "2024-02-03T09:32:58.383Z"
   },
   {
    "duration": 614,
    "start_time": "2024-02-03T09:32:58.396Z"
   },
   {
    "duration": 0,
    "start_time": "2024-02-03T09:32:59.012Z"
   },
   {
    "duration": 0,
    "start_time": "2024-02-03T09:32:59.013Z"
   },
   {
    "duration": 10,
    "start_time": "2024-02-03T09:33:14.584Z"
   },
   {
    "duration": 5,
    "start_time": "2024-02-03T09:33:21.148Z"
   },
   {
    "duration": 5,
    "start_time": "2024-02-03T09:33:22.682Z"
   },
   {
    "duration": 9,
    "start_time": "2024-02-03T09:33:23.744Z"
   }
  ],
  "kernelspec": {
   "display_name": "Python 3 (ipykernel)",
   "language": "python",
   "name": "python3"
  },
  "language_info": {
   "codemirror_mode": {
    "name": "ipython",
    "version": 3
   },
   "file_extension": ".py",
   "mimetype": "text/x-python",
   "name": "python",
   "nbconvert_exporter": "python",
   "pygments_lexer": "ipython3",
   "version": "3.9.5"
  },
  "toc": {
   "base_numbering": 1,
   "nav_menu": {},
   "number_sections": true,
   "sideBar": true,
   "skip_h1_title": true,
   "title_cell": "Table of Contents",
   "title_sidebar": "Contents",
   "toc_cell": false,
   "toc_position": {},
   "toc_section_display": true,
   "toc_window_display": false
  }
 },
 "nbformat": 4,
 "nbformat_minor": 5
}
