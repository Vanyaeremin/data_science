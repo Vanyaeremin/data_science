{
 "cells": [
  {
   "cell_type": "markdown",
   "metadata": {
    "id": "-VFbjcb3Awb7"
   },
   "source": [
    "# Исследование объявлений о продаже квартир\n",
    "\n",
    "В вашем распоряжении данные сервиса Яндекс Недвижимость — архив объявлений о продаже квартир в Санкт-Петербурге и соседних населённых пунктах за несколько лет. Вам нужно научиться определять рыночную стоимость объектов недвижимости. Для этого проведите исследовательский анализ данных и установите параметры, влияющие на цену объектов. Это позволит построить автоматизированную систему: она отследит аномалии и мошенническую деятельность.\n",
    "\n",
    "По каждой квартире на продажу доступны два вида данных. Первые вписаны пользователем, вторые — получены автоматически на основе картографических данных. Например, расстояние до центра, аэропорта и других объектов — эти данные автоматически получены из геосервисов. Количество парков и водоёмов также заполняется без участия пользователя."
   ]
  },
  {
   "cell_type": "markdown",
   "metadata": {},
   "source": [
    "# План работы\n",
    "1) Изучение общей информации\\\n",
    "2) Предобработка данных\\\n",
    "3) Добавление новых столбцов\\\n",
    "4) Проведение анализа данных\\\n",
    "5) Подведение итогов\n",
    "# Описание данных\n",
    "`airports_nearest` — расстояние до ближайшего аэропорта в метрах (м)\\\n",
    "`balcony` — число балконов\\\n",
    "`ceiling_height` — высота потолков (м)\\\n",
    "`cityCenters_nearest` — расстояние до центра города (м)\\\n",
    "`days_exposition` — сколько дней было размещено объявление (от публикации до снятия)\\\n",
    "`first_day_exposition` — дата публикации\\\n",
    "`floor` — этаж\\\n",
    "`floors_total` — всего этажей в доме\\\n",
    "`is_apartment` — апартаменты (булев тип)\\\n",
    "`kitchen_area` — площадь кухни в квадратных метрах (м²)\\\n",
    "`last_price` — цена на момент снятия с публикации\\\n",
    "`living_area` — жилая площадь в квадратных метрах (м²)\\\n",
    "`locality_name` — название населённого пункта\\\n",
    "`open_plan` — свободная планировка (булев тип)\\\n",
    "`parks_around3000` — число парков в радиусе 3 км\\\n",
    "`parks_nearest` — расстояние до ближайшего парка (м)\\\n",
    "`ponds_around3000` — число водоёмов в радиусе 3 км\\\n",
    "`ponds_nearest` — расстояние до ближайшего водоёма (м)\\\n",
    "`rooms` — число комнат\\\n",
    "`studio` — квартира-студия (булев тип)\\\n",
    "`total_area` — общая площадь квартиры в квадратных метрах (м²)\\\n",
    "`total_images` — число фотографий квартиры в объявлении"
   ]
  },
  {
   "cell_type": "markdown",
   "metadata": {
    "id": "aeFLH07FAwb9"
   },
   "source": [
    "### Откройте файл с данными и изучите общую информацию"
   ]
  },
  {
   "cell_type": "code",
   "execution_count": 1,
   "metadata": {
    "id": "7MZxY65pAwb9"
   },
   "outputs": [],
   "source": [
    "import pandas as pd"
   ]
  },
  {
   "cell_type": "code",
   "execution_count": 2,
   "metadata": {
    "scrolled": true
   },
   "outputs": [
    {
     "data": {
      "text/html": [
       "<div>\n",
       "<style scoped>\n",
       "    .dataframe tbody tr th:only-of-type {\n",
       "        vertical-align: middle;\n",
       "    }\n",
       "\n",
       "    .dataframe tbody tr th {\n",
       "        vertical-align: top;\n",
       "    }\n",
       "\n",
       "    .dataframe thead th {\n",
       "        text-align: right;\n",
       "    }\n",
       "</style>\n",
       "<table border=\"1\" class=\"dataframe\">\n",
       "  <thead>\n",
       "    <tr style=\"text-align: right;\">\n",
       "      <th></th>\n",
       "      <th>total_images</th>\n",
       "      <th>last_price</th>\n",
       "      <th>total_area</th>\n",
       "      <th>first_day_exposition</th>\n",
       "      <th>rooms</th>\n",
       "      <th>ceiling_height</th>\n",
       "      <th>floors_total</th>\n",
       "      <th>living_area</th>\n",
       "      <th>floor</th>\n",
       "      <th>is_apartment</th>\n",
       "      <th>...</th>\n",
       "      <th>kitchen_area</th>\n",
       "      <th>balcony</th>\n",
       "      <th>locality_name</th>\n",
       "      <th>airports_nearest</th>\n",
       "      <th>cityCenters_nearest</th>\n",
       "      <th>parks_around3000</th>\n",
       "      <th>parks_nearest</th>\n",
       "      <th>ponds_around3000</th>\n",
       "      <th>ponds_nearest</th>\n",
       "      <th>days_exposition</th>\n",
       "    </tr>\n",
       "  </thead>\n",
       "  <tbody>\n",
       "    <tr>\n",
       "      <th>0</th>\n",
       "      <td>20</td>\n",
       "      <td>13000000.0</td>\n",
       "      <td>108.0</td>\n",
       "      <td>2019-03-07T00:00:00</td>\n",
       "      <td>3</td>\n",
       "      <td>2.70</td>\n",
       "      <td>16.0</td>\n",
       "      <td>51.0</td>\n",
       "      <td>8</td>\n",
       "      <td>NaN</td>\n",
       "      <td>...</td>\n",
       "      <td>25.0</td>\n",
       "      <td>NaN</td>\n",
       "      <td>Санкт-Петербург</td>\n",
       "      <td>18863.0</td>\n",
       "      <td>16028.0</td>\n",
       "      <td>1.0</td>\n",
       "      <td>482.0</td>\n",
       "      <td>2.0</td>\n",
       "      <td>755.0</td>\n",
       "      <td>NaN</td>\n",
       "    </tr>\n",
       "    <tr>\n",
       "      <th>1</th>\n",
       "      <td>7</td>\n",
       "      <td>3350000.0</td>\n",
       "      <td>40.4</td>\n",
       "      <td>2018-12-04T00:00:00</td>\n",
       "      <td>1</td>\n",
       "      <td>NaN</td>\n",
       "      <td>11.0</td>\n",
       "      <td>18.6</td>\n",
       "      <td>1</td>\n",
       "      <td>NaN</td>\n",
       "      <td>...</td>\n",
       "      <td>11.0</td>\n",
       "      <td>2.0</td>\n",
       "      <td>посёлок Шушары</td>\n",
       "      <td>12817.0</td>\n",
       "      <td>18603.0</td>\n",
       "      <td>0.0</td>\n",
       "      <td>NaN</td>\n",
       "      <td>0.0</td>\n",
       "      <td>NaN</td>\n",
       "      <td>81.0</td>\n",
       "    </tr>\n",
       "    <tr>\n",
       "      <th>2</th>\n",
       "      <td>10</td>\n",
       "      <td>5196000.0</td>\n",
       "      <td>56.0</td>\n",
       "      <td>2015-08-20T00:00:00</td>\n",
       "      <td>2</td>\n",
       "      <td>NaN</td>\n",
       "      <td>5.0</td>\n",
       "      <td>34.3</td>\n",
       "      <td>4</td>\n",
       "      <td>NaN</td>\n",
       "      <td>...</td>\n",
       "      <td>8.3</td>\n",
       "      <td>0.0</td>\n",
       "      <td>Санкт-Петербург</td>\n",
       "      <td>21741.0</td>\n",
       "      <td>13933.0</td>\n",
       "      <td>1.0</td>\n",
       "      <td>90.0</td>\n",
       "      <td>2.0</td>\n",
       "      <td>574.0</td>\n",
       "      <td>558.0</td>\n",
       "    </tr>\n",
       "    <tr>\n",
       "      <th>3</th>\n",
       "      <td>0</td>\n",
       "      <td>64900000.0</td>\n",
       "      <td>159.0</td>\n",
       "      <td>2015-07-24T00:00:00</td>\n",
       "      <td>3</td>\n",
       "      <td>NaN</td>\n",
       "      <td>14.0</td>\n",
       "      <td>NaN</td>\n",
       "      <td>9</td>\n",
       "      <td>NaN</td>\n",
       "      <td>...</td>\n",
       "      <td>NaN</td>\n",
       "      <td>0.0</td>\n",
       "      <td>Санкт-Петербург</td>\n",
       "      <td>28098.0</td>\n",
       "      <td>6800.0</td>\n",
       "      <td>2.0</td>\n",
       "      <td>84.0</td>\n",
       "      <td>3.0</td>\n",
       "      <td>234.0</td>\n",
       "      <td>424.0</td>\n",
       "    </tr>\n",
       "    <tr>\n",
       "      <th>4</th>\n",
       "      <td>2</td>\n",
       "      <td>10000000.0</td>\n",
       "      <td>100.0</td>\n",
       "      <td>2018-06-19T00:00:00</td>\n",
       "      <td>2</td>\n",
       "      <td>3.03</td>\n",
       "      <td>14.0</td>\n",
       "      <td>32.0</td>\n",
       "      <td>13</td>\n",
       "      <td>NaN</td>\n",
       "      <td>...</td>\n",
       "      <td>41.0</td>\n",
       "      <td>NaN</td>\n",
       "      <td>Санкт-Петербург</td>\n",
       "      <td>31856.0</td>\n",
       "      <td>8098.0</td>\n",
       "      <td>2.0</td>\n",
       "      <td>112.0</td>\n",
       "      <td>1.0</td>\n",
       "      <td>48.0</td>\n",
       "      <td>121.0</td>\n",
       "    </tr>\n",
       "  </tbody>\n",
       "</table>\n",
       "<p>5 rows × 22 columns</p>\n",
       "</div>"
      ],
      "text/plain": [
       "   total_images  last_price  total_area first_day_exposition  rooms  \\\n",
       "0            20  13000000.0       108.0  2019-03-07T00:00:00      3   \n",
       "1             7   3350000.0        40.4  2018-12-04T00:00:00      1   \n",
       "2            10   5196000.0        56.0  2015-08-20T00:00:00      2   \n",
       "3             0  64900000.0       159.0  2015-07-24T00:00:00      3   \n",
       "4             2  10000000.0       100.0  2018-06-19T00:00:00      2   \n",
       "\n",
       "   ceiling_height  floors_total  living_area  floor is_apartment  ...  \\\n",
       "0            2.70          16.0         51.0      8          NaN  ...   \n",
       "1             NaN          11.0         18.6      1          NaN  ...   \n",
       "2             NaN           5.0         34.3      4          NaN  ...   \n",
       "3             NaN          14.0          NaN      9          NaN  ...   \n",
       "4            3.03          14.0         32.0     13          NaN  ...   \n",
       "\n",
       "   kitchen_area  balcony    locality_name  airports_nearest  \\\n",
       "0          25.0      NaN  Санкт-Петербург           18863.0   \n",
       "1          11.0      2.0   посёлок Шушары           12817.0   \n",
       "2           8.3      0.0  Санкт-Петербург           21741.0   \n",
       "3           NaN      0.0  Санкт-Петербург           28098.0   \n",
       "4          41.0      NaN  Санкт-Петербург           31856.0   \n",
       "\n",
       "  cityCenters_nearest  parks_around3000  parks_nearest  ponds_around3000  \\\n",
       "0             16028.0               1.0          482.0               2.0   \n",
       "1             18603.0               0.0            NaN               0.0   \n",
       "2             13933.0               1.0           90.0               2.0   \n",
       "3              6800.0               2.0           84.0               3.0   \n",
       "4              8098.0               2.0          112.0               1.0   \n",
       "\n",
       "   ponds_nearest  days_exposition  \n",
       "0          755.0              NaN  \n",
       "1            NaN             81.0  \n",
       "2          574.0            558.0  \n",
       "3          234.0            424.0  \n",
       "4           48.0            121.0  \n",
       "\n",
       "[5 rows x 22 columns]"
      ]
     },
     "execution_count": 2,
     "metadata": {},
     "output_type": "execute_result"
    }
   ],
   "source": [
    "data = pd.read_csv('/datasets/real_estate_data.csv', sep = '\\t')\n",
    "data.head()"
   ]
  },
  {
   "cell_type": "code",
   "execution_count": 3,
   "metadata": {
    "scrolled": true
   },
   "outputs": [
    {
     "name": "stdout",
     "output_type": "stream",
     "text": [
      "<class 'pandas.core.frame.DataFrame'>\n",
      "RangeIndex: 23699 entries, 0 to 23698\n",
      "Data columns (total 22 columns):\n",
      " #   Column                Non-Null Count  Dtype  \n",
      "---  ------                --------------  -----  \n",
      " 0   total_images          23699 non-null  int64  \n",
      " 1   last_price            23699 non-null  float64\n",
      " 2   total_area            23699 non-null  float64\n",
      " 3   first_day_exposition  23699 non-null  object \n",
      " 4   rooms                 23699 non-null  int64  \n",
      " 5   ceiling_height        14504 non-null  float64\n",
      " 6   floors_total          23613 non-null  float64\n",
      " 7   living_area           21796 non-null  float64\n",
      " 8   floor                 23699 non-null  int64  \n",
      " 9   is_apartment          2775 non-null   object \n",
      " 10  studio                23699 non-null  bool   \n",
      " 11  open_plan             23699 non-null  bool   \n",
      " 12  kitchen_area          21421 non-null  float64\n",
      " 13  balcony               12180 non-null  float64\n",
      " 14  locality_name         23650 non-null  object \n",
      " 15  airports_nearest      18157 non-null  float64\n",
      " 16  cityCenters_nearest   18180 non-null  float64\n",
      " 17  parks_around3000      18181 non-null  float64\n",
      " 18  parks_nearest         8079 non-null   float64\n",
      " 19  ponds_around3000      18181 non-null  float64\n",
      " 20  ponds_nearest         9110 non-null   float64\n",
      " 21  days_exposition       20518 non-null  float64\n",
      "dtypes: bool(2), float64(14), int64(3), object(3)\n",
      "memory usage: 3.7+ MB\n"
     ]
    }
   ],
   "source": [
    "data.info() #Общая информация"
   ]
  },
  {
   "cell_type": "code",
   "execution_count": 4,
   "metadata": {},
   "outputs": [
    {
     "data": {
      "text/plain": [
       "(23699, 22)"
      ]
     },
     "execution_count": 4,
     "metadata": {},
     "output_type": "execute_result"
    }
   ],
   "source": [
    "data.shape #Размер"
   ]
  },
  {
   "cell_type": "code",
   "execution_count": 5,
   "metadata": {},
   "outputs": [
    {
     "data": {
      "text/plain": [
       "array([[<AxesSubplot:title={'center':'total_images'}>,\n",
       "        <AxesSubplot:title={'center':'last_price'}>,\n",
       "        <AxesSubplot:title={'center':'total_area'}>,\n",
       "        <AxesSubplot:title={'center':'rooms'}>],\n",
       "       [<AxesSubplot:title={'center':'ceiling_height'}>,\n",
       "        <AxesSubplot:title={'center':'floors_total'}>,\n",
       "        <AxesSubplot:title={'center':'living_area'}>,\n",
       "        <AxesSubplot:title={'center':'floor'}>],\n",
       "       [<AxesSubplot:title={'center':'kitchen_area'}>,\n",
       "        <AxesSubplot:title={'center':'balcony'}>,\n",
       "        <AxesSubplot:title={'center':'airports_nearest'}>,\n",
       "        <AxesSubplot:title={'center':'cityCenters_nearest'}>],\n",
       "       [<AxesSubplot:title={'center':'parks_around3000'}>,\n",
       "        <AxesSubplot:title={'center':'parks_nearest'}>,\n",
       "        <AxesSubplot:title={'center':'ponds_around3000'}>,\n",
       "        <AxesSubplot:title={'center':'ponds_nearest'}>],\n",
       "       [<AxesSubplot:title={'center':'days_exposition'}>, <AxesSubplot:>,\n",
       "        <AxesSubplot:>, <AxesSubplot:>]], dtype=object)"
      ]
     },
     "execution_count": 5,
     "metadata": {},
     "output_type": "execute_result"
    },
    {
     "data": {
      "image/png": "[encoded data removed]",
      "text/plain": [
       "<Figure size 1440x1440 with 20 Axes>"
      ]
     },
     "metadata": {
      "needs_background": "light"
     },
     "output_type": "display_data"
    }
   ],
   "source": [
    "data.hist(figsize=(20,20)) #Гистограммы"
   ]
  },
  {
   "cell_type": "code",
   "execution_count": 6,
   "metadata": {
    "scrolled": false
   },
   "outputs": [
    {
     "data": {
      "text/plain": [
       "total_images                0\n",
       "last_price                  0\n",
       "total_area                  0\n",
       "first_day_exposition        0\n",
       "rooms                       0\n",
       "ceiling_height           9195\n",
       "floors_total               86\n",
       "living_area              1903\n",
       "floor                       0\n",
       "is_apartment            20924\n",
       "studio                      0\n",
       "open_plan                   0\n",
       "kitchen_area             2278\n",
       "balcony                 11519\n",
       "locality_name              49\n",
       "airports_nearest         5542\n",
       "cityCenters_nearest      5519\n",
       "parks_around3000         5518\n",
       "parks_nearest           15620\n",
       "ponds_around3000         5518\n",
       "ponds_nearest           14589\n",
       "days_exposition          3181\n",
       "dtype: int64"
      ]
     },
     "execution_count": 6,
     "metadata": {},
     "output_type": "execute_result"
    }
   ],
   "source": [
    "data.isna().sum() #Количество пропусков"
   ]
  },
  {
   "cell_type": "markdown",
   "metadata": {},
   "source": [
    "В ходе обзора данных были изучены первые строки датафрейма, его размеры, тип значений столбцов и количество значений в них. После обзора можно сказать, что в датафрейме во множетсве столбцов присутствуют пропуски и указан неправильный тип данных. Присутствуют также выбросы и аномалии."
   ]
  },
  {
   "cell_type": "markdown",
   "metadata": {
    "id": "-O5NtivEAwb9"
   },
   "source": [
    "### Выполните предобработку данных"
   ]
  },
  {
   "cell_type": "code",
   "execution_count": 7,
   "metadata": {
    "id": "7v3vAeTuAwb-"
   },
   "outputs": [],
   "source": [
    "data['is_apartment']=data['is_apartment'].astype(bool) #Убираем пропуски и переводим в нужный тип столбец is_apartment"
   ]
  },
  {
   "cell_type": "code",
   "execution_count": 8,
   "metadata": {},
   "outputs": [],
   "source": [
    "data['balcony'] = data['balcony'].fillna(0) #Заполняем пропуски в количестве балконов"
   ]
  },
  {
   "cell_type": "code",
   "execution_count": 9,
   "metadata": {},
   "outputs": [],
   "source": [
    "data['ceiling_height'] = data['ceiling_height'].fillna(data['ceiling_height'].median()) #Заполняем высоту потолков медианным значением"
   ]
  },
  {
   "cell_type": "code",
   "execution_count": 10,
   "metadata": {},
   "outputs": [],
   "source": [
    "for room in data['rooms'].unique():\n",
    "    data.loc[(data['rooms'] == room) & (data['living_area'].isna()), 'living_area'] = data.loc[(data['rooms'] == room), 'living_area'].mean()\n",
    "#Заполняем пропуски в жилой площади медианным значением в зависимости от количества комнат"
   ]
  },
  {
   "cell_type": "code",
   "execution_count": 11,
   "metadata": {},
   "outputs": [],
   "source": [
    "data['kitchen_area'] = data['kitchen_area'].fillna(data['kitchen_area'].median()) #Заполняем площади кухонь медианным значением"
   ]
  },
  {
   "cell_type": "code",
   "execution_count": 12,
   "metadata": {},
   "outputs": [],
   "source": [
    "data['parks_around3000'] = data['parks_around3000'].fillna(0) #Заполняем пропуски в числе парков в радиусе 3 км\n",
    "data['ponds_around3000'] = data['ponds_around3000'].fillna(0) #Заполняем пропуски в числе водоёмов в радиусе 3 км"
   ]
  },
  {
   "cell_type": "code",
   "execution_count": 13,
   "metadata": {},
   "outputs": [],
   "source": [
    "data['balcony']=data['balcony'].astype(int)\n",
    "data['ponds_around3000']=data['ponds_around3000'].astype(int)\n",
    "data['parks_around3000']=data['parks_around3000'].astype(int)\n",
    "#Меняем, где можно тип данных на целочисленный"
   ]
  },
  {
   "cell_type": "code",
   "execution_count": 14,
   "metadata": {},
   "outputs": [],
   "source": [
    "data['first_day_exposition']=pd.to_datetime(data['first_day_exposition'], format = '%Y-%m-%dT%H:%M:%S')"
   ]
  },
  {
   "cell_type": "code",
   "execution_count": 15,
   "metadata": {},
   "outputs": [
    {
     "name": "stdout",
     "output_type": "stream",
     "text": [
      "<class 'pandas.core.frame.DataFrame'>\n",
      "RangeIndex: 23699 entries, 0 to 23698\n",
      "Data columns (total 22 columns):\n",
      " #   Column                Non-Null Count  Dtype         \n",
      "---  ------                --------------  -----         \n",
      " 0   total_images          23699 non-null  int64         \n",
      " 1   last_price            23699 non-null  float64       \n",
      " 2   total_area            23699 non-null  float64       \n",
      " 3   first_day_exposition  23699 non-null  datetime64[ns]\n",
      " 4   rooms                 23699 non-null  int64         \n",
      " 5   ceiling_height        23699 non-null  float64       \n",
      " 6   floors_total          23613 non-null  float64       \n",
      " 7   living_area           23699 non-null  float64       \n",
      " 8   floor                 23699 non-null  int64         \n",
      " 9   is_apartment          23699 non-null  bool          \n",
      " 10  studio                23699 non-null  bool          \n",
      " 11  open_plan             23699 non-null  bool          \n",
      " 12  kitchen_area          23699 non-null  float64       \n",
      " 13  balcony               23699 non-null  int64         \n",
      " 14  locality_name         23650 non-null  object        \n",
      " 15  airports_nearest      18157 non-null  float64       \n",
      " 16  cityCenters_nearest   18180 non-null  float64       \n",
      " 17  parks_around3000      23699 non-null  int64         \n",
      " 18  parks_nearest         8079 non-null   float64       \n",
      " 19  ponds_around3000      23699 non-null  int64         \n",
      " 20  ponds_nearest         9110 non-null   float64       \n",
      " 21  days_exposition       20518 non-null  float64       \n",
      "dtypes: bool(3), datetime64[ns](1), float64(11), int64(6), object(1)\n",
      "memory usage: 3.5+ MB\n"
     ]
    }
   ],
   "source": [
    "#Проведём контроль изменений\n",
    "data.info()"
   ]
  },
  {
   "cell_type": "code",
   "execution_count": 16,
   "metadata": {},
   "outputs": [
    {
     "data": {
      "text/plain": [
       "total_images                0\n",
       "last_price                  0\n",
       "total_area                  0\n",
       "first_day_exposition        0\n",
       "rooms                       0\n",
       "ceiling_height              0\n",
       "floors_total               86\n",
       "living_area                 0\n",
       "floor                       0\n",
       "is_apartment                0\n",
       "studio                      0\n",
       "open_plan                   0\n",
       "kitchen_area                0\n",
       "balcony                     0\n",
       "locality_name              49\n",
       "airports_nearest         5542\n",
       "cityCenters_nearest      5519\n",
       "parks_around3000            0\n",
       "parks_nearest           15620\n",
       "ponds_around3000            0\n",
       "ponds_nearest           14589\n",
       "days_exposition          3181\n",
       "dtype: int64"
      ]
     },
     "execution_count": 16,
     "metadata": {},
     "output_type": "execute_result"
    }
   ],
   "source": [
    "data.isna().sum()"
   ]
  },
  {
   "cell_type": "markdown",
   "metadata": {},
   "source": [
    "Причины появления пропусков могут быть различными. Это может быть ошибкой при выгрузке данных (для тех данных, что заполнялись автоматически), человеческим фактором (продавец забыл указать, либо не указал, подразумевая отсутствие (например в случае количества балконов, пропуск может означать, что балкона просто нет). Но верно и однозначно определить причину пропусков в текущей ситуации не представляется возможным"
   ]
  },
  {
   "cell_type": "markdown",
   "metadata": {},
   "source": [
    "В стоблце 'is_apartment' есть два значение True/False (логический тип данных) - поэтому меняем тип данных на bool. В столбцах с количеством балконов, парков и водоёмов может хранится тольцо целочисленное значение (не может быть 0.5 балкона), поэтому тип данных меняем с float на int. Переводим дату в соответствующий формат"
   ]
  },
  {
   "cell_type": "code",
   "execution_count": 17,
   "metadata": {
    "scrolled": false
   },
   "outputs": [
    {
     "data": {
      "text/plain": [
       "array(['Санкт-Петербург', 'посёлок Шушары', 'городской посёлок Янино-1',\n",
       "       'посёлок Парголово', 'посёлок Мурино', 'Ломоносов', 'Сертолово',\n",
       "       'Петергоф', 'Пушкин', 'деревня Кудрово', 'Коммунар', 'Колпино',\n",
       "       'поселок городского типа Красный Бор', 'Гатчина', 'поселок Мурино',\n",
       "       'деревня Фёдоровское', 'Выборг', 'Кронштадт', 'Кировск',\n",
       "       'деревня Новое Девяткино', 'посёлок Металлострой',\n",
       "       'посёлок городского типа Лебяжье',\n",
       "       'посёлок городского типа Сиверский', 'поселок Молодцово',\n",
       "       'поселок городского типа Кузьмоловский',\n",
       "       'садовое товарищество Новая Ропша', 'Павловск',\n",
       "       'деревня Пикколово', 'Всеволожск', 'Волхов', 'Кингисепп',\n",
       "       'Приозерск', 'Сестрорецк', 'деревня Куттузи', 'посёлок Аннино',\n",
       "       'поселок городского типа Ефимовский', 'посёлок Плодовое',\n",
       "       'деревня Заклинье', 'поселок Торковичи', 'поселок Первомайское',\n",
       "       'Красное Село', 'посёлок Понтонный', 'Сясьстрой', 'деревня Старая',\n",
       "       'деревня Лесколово', 'посёлок Новый Свет', 'Сланцы',\n",
       "       'село Путилово', 'Ивангород', 'Мурино', 'Шлиссельбург',\n",
       "       'Никольское', 'Зеленогорск', 'Сосновый Бор', 'поселок Новый Свет',\n",
       "       'деревня Оржицы', 'деревня Кальтино', 'Кудрово',\n",
       "       'поселок Романовка', 'посёлок Бугры', 'поселок Бугры',\n",
       "       'поселок городского типа Рощино', 'Кириши', 'Луга', 'Волосово',\n",
       "       'Отрадное', 'село Павлово', 'поселок Оредеж', 'село Копорье',\n",
       "       'посёлок городского типа Красный Бор', 'посёлок Молодёжное',\n",
       "       'Тихвин', 'посёлок Победа', 'деревня Нурма',\n",
       "       'поселок городского типа Синявино', 'Тосно',\n",
       "       'посёлок городского типа Кузьмоловский', 'посёлок Стрельна',\n",
       "       'Бокситогорск', 'посёлок Александровская', 'деревня Лопухинка',\n",
       "       'Пикалёво', 'поселок Терволово',\n",
       "       'поселок городского типа Советский', 'Подпорожье',\n",
       "       'посёлок Петровское', 'посёлок городского типа Токсово',\n",
       "       'поселок Сельцо', 'посёлок городского типа Вырица',\n",
       "       'деревня Кипень', 'деревня Келози', 'деревня Вартемяги',\n",
       "       'посёлок Тельмана', 'поселок Севастьяново',\n",
       "       'городской поселок Большая Ижора', nan,\n",
       "       'городской посёлок Павлово', 'деревня Агалатово',\n",
       "       'посёлок Новогорелово', 'городской посёлок Лесогорский',\n",
       "       'деревня Лаголово', 'поселок Цвелодубово',\n",
       "       'поселок городского типа Рахья', 'поселок городского типа Вырица',\n",
       "       'деревня Белогорка', 'поселок Заводской',\n",
       "       'городской посёлок Новоселье', 'деревня Большие Колпаны',\n",
       "       'деревня Горбунки', 'деревня Батово', 'деревня Заневка',\n",
       "       'деревня Иссад', 'Приморск', 'городской посёлок Фёдоровское',\n",
       "       'деревня Мистолово', 'Новая Ладога', 'поселок Зимитицы',\n",
       "       'поселок Барышево', 'деревня Разметелево',\n",
       "       'поселок городского типа имени Свердлова', 'деревня Пеники',\n",
       "       'поселок Рябово', 'деревня Пудомяги', 'поселок станции Корнево',\n",
       "       'деревня Низино', 'деревня Бегуницы', 'посёлок Поляны',\n",
       "       'городской посёлок Мга', 'поселок Елизаветино',\n",
       "       'посёлок городского типа Кузнечное', 'деревня Колтуши',\n",
       "       'поселок Запорожское', 'посёлок городского типа Рощино',\n",
       "       'деревня Гостилицы', 'деревня Малое Карлино',\n",
       "       'посёлок Мичуринское', 'посёлок городского типа имени Морозова',\n",
       "       'посёлок Песочный', 'посёлок Сосново', 'деревня Аро',\n",
       "       'поселок Ильичёво', 'посёлок городского типа Тайцы',\n",
       "       'деревня Малое Верево', 'деревня Извара', 'поселок станции Вещево',\n",
       "       'село Паша', 'деревня Калитино',\n",
       "       'посёлок городского типа Ульяновка', 'деревня Чудской Бор',\n",
       "       'поселок городского типа Дубровка', 'деревня Мины',\n",
       "       'поселок Войсковицы', 'посёлок городского типа имени Свердлова',\n",
       "       'деревня Коркино', 'посёлок Ропша',\n",
       "       'поселок городского типа Приладожский', 'посёлок Щеглово',\n",
       "       'посёлок Гаврилово', 'Лодейное Поле', 'деревня Рабитицы',\n",
       "       'поселок городского типа Никольский', 'деревня Кузьмолово',\n",
       "       'деревня Малые Колпаны', 'поселок Тельмана',\n",
       "       'посёлок Петро-Славянка', 'городской посёлок Назия',\n",
       "       'посёлок Репино', 'посёлок Ильичёво', 'поселок Углово',\n",
       "       'поселок Старая Малукса', 'садовое товарищество Рахья',\n",
       "       'поселок Аннино', 'поселок Победа', 'деревня Меньково',\n",
       "       'деревня Старые Бегуницы', 'посёлок Сапёрный', 'поселок Семрино',\n",
       "       'поселок Гаврилово', 'поселок Глажево', 'поселок Кобринское',\n",
       "       'деревня Гарболово', 'деревня Юкки',\n",
       "       'поселок станции Приветнинское', 'деревня Мануйлово',\n",
       "       'деревня Пчева', 'поселок Поляны', 'поселок Цвылёво',\n",
       "       'поселок Мельниково', 'посёлок Пудость', 'посёлок Усть-Луга',\n",
       "       'Светогорск', 'Любань', 'поселок Селезнёво',\n",
       "       'поселок городского типа Рябово', 'Каменногорск', 'деревня Кривко',\n",
       "       'поселок Глебычево', 'деревня Парицы', 'поселок Жилпосёлок',\n",
       "       'посёлок городского типа Мга', 'городской поселок Янино-1',\n",
       "       'посёлок Войскорово', 'село Никольское', 'посёлок Терволово',\n",
       "       'поселок Стеклянный', 'посёлок городского типа Важины',\n",
       "       'посёлок Мыза-Ивановка', 'село Русско-Высоцкое',\n",
       "       'поселок городского типа Лебяжье',\n",
       "       'поселок городского типа Форносово', 'село Старая Ладога',\n",
       "       'поселок Житково', 'городской посёлок Виллози', 'деревня Лампово',\n",
       "       'деревня Шпаньково', 'деревня Лаврики', 'посёлок Сумино',\n",
       "       'посёлок Возрождение', 'деревня Старосиверская',\n",
       "       'посёлок Кикерино', 'поселок Возрождение',\n",
       "       'деревня Старое Хинколово', 'посёлок Пригородный',\n",
       "       'посёлок Торфяное', 'городской посёлок Будогощь',\n",
       "       'поселок Суходолье', 'поселок Красная Долина', 'деревня Хапо-Ое',\n",
       "       'поселок городского типа Дружная Горка', 'поселок Лисий Нос',\n",
       "       'деревня Яльгелево', 'посёлок Стеклянный', 'село Рождествено',\n",
       "       'деревня Старополье', 'посёлок Левашово', 'деревня Сяськелево',\n",
       "       'деревня Камышовка',\n",
       "       'садоводческое некоммерческое товарищество Лесная Поляна',\n",
       "       'деревня Хязельки', 'поселок Жилгородок',\n",
       "       'посёлок городского типа Павлово', 'деревня Ялгино',\n",
       "       'поселок Новый Учхоз', 'городской посёлок Рощино',\n",
       "       'поселок Гончарово', 'поселок Почап', 'посёлок Сапёрное',\n",
       "       'посёлок Платформа 69-й километр', 'поселок Каложицы',\n",
       "       'деревня Фалилеево', 'деревня Пельгора',\n",
       "       'поселок городского типа Лесогорский', 'деревня Торошковичи',\n",
       "       'посёлок Белоостров', 'посёлок Алексеевка', 'поселок Серебрянский',\n",
       "       'поселок Лукаши', 'поселок Петровское', 'деревня Щеглово',\n",
       "       'поселок Мичуринское', 'деревня Тарасово', 'поселок Кингисеппский',\n",
       "       'посёлок при железнодорожной станции Вещево', 'поселок Ушаки',\n",
       "       'деревня Котлы', 'деревня Сижно', 'деревня Торосово',\n",
       "       'посёлок Форт Красная Горка', 'поселок городского типа Токсово',\n",
       "       'деревня Новолисино', 'посёлок станции Громово', 'деревня Глинка',\n",
       "       'посёлок Мельниково', 'поселок городского типа Назия',\n",
       "       'деревня Старая Пустошь', 'поселок Коммунары', 'поселок Починок',\n",
       "       'посёлок городского типа Вознесенье', 'деревня Разбегаево',\n",
       "       'посёлок городского типа Рябово', 'поселок Гладкое',\n",
       "       'посёлок при железнодорожной станции Приветнинское',\n",
       "       'поселок Тёсово-4', 'посёлок Жилгородок', 'деревня Бор',\n",
       "       'посёлок Коробицыно', 'деревня Большая Вруда', 'деревня Курковицы',\n",
       "       'посёлок Лисий Нос', 'городской посёлок Советский',\n",
       "       'посёлок Кобралово', 'деревня Суоранда', 'поселок Кобралово',\n",
       "       'поселок городского типа Кондратьево',\n",
       "       'коттеджный поселок Счастье', 'поселок Любань', 'деревня Реброво',\n",
       "       'деревня Зимитицы', 'деревня Тойворово', 'поселок Семиозерье',\n",
       "       'поселок Лесное', 'поселок Совхозный', 'поселок Усть-Луга',\n",
       "       'посёлок Ленинское', 'посёлок Суйда',\n",
       "       'посёлок городского типа Форносово', 'деревня Нижние Осельки',\n",
       "       'посёлок станции Свирь', 'поселок Перово', 'Высоцк',\n",
       "       'поселок Гарболово', 'село Шум', 'поселок Котельский',\n",
       "       'поселок станции Лужайка', 'деревня Большая Пустомержа',\n",
       "       'поселок Красносельское', 'деревня Вахнова Кара', 'деревня Пижма',\n",
       "       'коттеджный поселок Кивеннапа Север', 'поселок Коробицыно',\n",
       "       'поселок Ромашки', 'посёлок Перово', 'деревня Каськово',\n",
       "       'деревня Куровицы', 'посёлок Плоское', 'поселок Сумино',\n",
       "       'поселок городского типа Большая Ижора', 'поселок Кирпичное',\n",
       "       'деревня Ям-Тесово', 'деревня Раздолье', 'деревня Терпилицы',\n",
       "       'посёлок Шугозеро', 'деревня Ваганово', 'поселок Пушное',\n",
       "       'садовое товарищество Садко', 'посёлок Усть-Ижора',\n",
       "       'деревня Выскатка', 'городской посёлок Свирьстрой',\n",
       "       'поселок Громово', 'деревня Кисельня', 'посёлок Старая Малукса',\n",
       "       'деревня Трубников Бор', 'поселок Калитино',\n",
       "       'посёлок Высокоключевой', 'садовое товарищество Приладожский',\n",
       "       'посёлок Пансионат Зелёный Бор', 'деревня Ненимяки',\n",
       "       'поселок Пансионат Зелёный Бор', 'деревня Снегирёвка',\n",
       "       'деревня Рапполово', 'деревня Пустынка', 'поселок Рабитицы',\n",
       "       'деревня Большой Сабск', 'деревня Русско', 'деревня Лупполово',\n",
       "       'деревня Большое Рейзино', 'деревня Малая Романовка',\n",
       "       'поселок Дружноселье', 'поселок Пчевжа', 'поселок Володарское',\n",
       "       'деревня Нижняя', 'коттеджный посёлок Лесное', 'деревня Тихковицы',\n",
       "       'деревня Борисова Грива', 'посёлок Дзержинского'], dtype=object)"
      ]
     },
     "execution_count": 17,
     "metadata": {},
     "output_type": "execute_result"
    }
   ],
   "source": [
    "data['locality_name'].unique() #Список уникальных названий нас. пунктов"
   ]
  },
  {
   "cell_type": "code",
   "execution_count": 18,
   "metadata": {},
   "outputs": [
    {
     "data": {
      "text/plain": [
       "365"
      ]
     },
     "execution_count": 18,
     "metadata": {},
     "output_type": "execute_result"
    }
   ],
   "source": [
    "len(data['locality_name'].unique()) #Их количество"
   ]
  },
  {
   "cell_type": "code",
   "execution_count": 19,
   "metadata": {},
   "outputs": [],
   "source": [
    "list = (data[data['locality_name'].isna() == 0]) #Саисок индексов строк, в которых в столбце названия нас.пункта, не пропущенное значение\n",
    "for i in list.index.tolist():\n",
    "    data.loc[i,'locality_name'] = data.loc[i,'locality_name'].split( )[-1] #Оставляем только название нас.пункта, без статуса (деревня/посёлок и т.д.)"
   ]
  },
  {
   "cell_type": "code",
   "execution_count": 20,
   "metadata": {},
   "outputs": [
    {
     "data": {
      "text/plain": [
       "array(['Санкт-Петербург', 'Шушары', 'Янино-1', 'Парголово', 'Мурино',\n",
       "       'Ломоносов', 'Сертолово', 'Петергоф', 'Пушкин', 'Кудрово',\n",
       "       'Коммунар', 'Колпино', 'Бор', 'Гатчина', 'Фёдоровское', 'Выборг',\n",
       "       'Кронштадт', 'Кировск', 'Девяткино', 'Металлострой', 'Лебяжье',\n",
       "       'Сиверский', 'Молодцово', 'Кузьмоловский', 'Ропша', 'Павловск',\n",
       "       'Пикколово', 'Всеволожск', 'Волхов', 'Кингисепп', 'Приозерск',\n",
       "       'Сестрорецк', 'Куттузи', 'Аннино', 'Ефимовский', 'Плодовое',\n",
       "       'Заклинье', 'Торковичи', 'Первомайское', 'Село', 'Понтонный',\n",
       "       'Сясьстрой', 'Старая', 'Лесколово', 'Свет', 'Сланцы', 'Путилово',\n",
       "       'Ивангород', 'Шлиссельбург', 'Никольское', 'Зеленогорск', 'Оржицы',\n",
       "       'Кальтино', 'Романовка', 'Бугры', 'Рощино', 'Кириши', 'Луга',\n",
       "       'Волосово', 'Отрадное', 'Павлово', 'Оредеж', 'Копорье',\n",
       "       'Молодёжное', 'Тихвин', 'Победа', 'Нурма', 'Синявино', 'Тосно',\n",
       "       'Стрельна', 'Бокситогорск', 'Александровская', 'Лопухинка',\n",
       "       'Пикалёво', 'Терволово', 'Советский', 'Подпорожье', 'Петровское',\n",
       "       'Токсово', 'Сельцо', 'Вырица', 'Кипень', 'Келози', 'Вартемяги',\n",
       "       'Тельмана', 'Севастьяново', 'Ижора', nan, 'Агалатово',\n",
       "       'Новогорелово', 'Лесогорский', 'Лаголово', 'Цвелодубово', 'Рахья',\n",
       "       'Белогорка', 'Заводской', 'Новоселье', 'Колпаны', 'Горбунки',\n",
       "       'Батово', 'Заневка', 'Иссад', 'Приморск', 'Мистолово', 'Ладога',\n",
       "       'Зимитицы', 'Барышево', 'Разметелево', 'Свердлова', 'Пеники',\n",
       "       'Рябово', 'Пудомяги', 'Корнево', 'Низино', 'Бегуницы', 'Поляны',\n",
       "       'Мга', 'Елизаветино', 'Кузнечное', 'Колтуши', 'Запорожское',\n",
       "       'Гостилицы', 'Карлино', 'Мичуринское', 'Морозова', 'Песочный',\n",
       "       'Сосново', 'Аро', 'Ильичёво', 'Тайцы', 'Верево', 'Извара',\n",
       "       'Вещево', 'Паша', 'Калитино', 'Ульяновка', 'Дубровка', 'Мины',\n",
       "       'Войсковицы', 'Коркино', 'Приладожский', 'Щеглово', 'Гаврилово',\n",
       "       'Поле', 'Рабитицы', 'Никольский', 'Кузьмолово', 'Петро-Славянка',\n",
       "       'Назия', 'Репино', 'Углово', 'Малукса', 'Меньково', 'Сапёрный',\n",
       "       'Семрино', 'Глажево', 'Кобринское', 'Гарболово', 'Юкки',\n",
       "       'Приветнинское', 'Мануйлово', 'Пчева', 'Цвылёво', 'Мельниково',\n",
       "       'Пудость', 'Усть-Луга', 'Светогорск', 'Любань', 'Селезнёво',\n",
       "       'Каменногорск', 'Кривко', 'Глебычево', 'Парицы', 'Жилпосёлок',\n",
       "       'Войскорово', 'Стеклянный', 'Важины', 'Мыза-Ивановка',\n",
       "       'Русско-Высоцкое', 'Форносово', 'Житково', 'Виллози', 'Лампово',\n",
       "       'Шпаньково', 'Лаврики', 'Сумино', 'Возрождение', 'Старосиверская',\n",
       "       'Кикерино', 'Хинколово', 'Пригородный', 'Торфяное', 'Будогощь',\n",
       "       'Суходолье', 'Долина', 'Хапо-Ое', 'Горка', 'Нос', 'Яльгелево',\n",
       "       'Рождествено', 'Старополье', 'Левашово', 'Сяськелево', 'Камышовка',\n",
       "       'Поляна', 'Хязельки', 'Жилгородок', 'Ялгино', 'Учхоз', 'Гончарово',\n",
       "       'Почап', 'Сапёрное', 'километр', 'Каложицы', 'Фалилеево',\n",
       "       'Пельгора', 'Торошковичи', 'Белоостров', 'Алексеевка',\n",
       "       'Серебрянский', 'Лукаши', 'Тарасово', 'Кингисеппский', 'Ушаки',\n",
       "       'Котлы', 'Сижно', 'Торосово', 'Новолисино', 'Громово', 'Глинка',\n",
       "       'Пустошь', 'Коммунары', 'Починок', 'Вознесенье', 'Разбегаево',\n",
       "       'Гладкое', 'Тёсово-4', 'Коробицыно', 'Вруда', 'Курковицы',\n",
       "       'Кобралово', 'Суоранда', 'Кондратьево', 'Счастье', 'Реброво',\n",
       "       'Тойворово', 'Семиозерье', 'Лесное', 'Совхозный', 'Ленинское',\n",
       "       'Суйда', 'Осельки', 'Свирь', 'Перово', 'Высоцк', 'Шум',\n",
       "       'Котельский', 'Лужайка', 'Пустомержа', 'Красносельское', 'Кара',\n",
       "       'Пижма', 'Север', 'Ромашки', 'Каськово', 'Куровицы', 'Плоское',\n",
       "       'Кирпичное', 'Ям-Тесово', 'Раздолье', 'Терпилицы', 'Шугозеро',\n",
       "       'Ваганово', 'Пушное', 'Садко', 'Усть-Ижора', 'Выскатка',\n",
       "       'Свирьстрой', 'Кисельня', 'Высокоключевой', 'Ненимяки',\n",
       "       'Снегирёвка', 'Рапполово', 'Пустынка', 'Сабск', 'Русско',\n",
       "       'Лупполово', 'Рейзино', 'Дружноселье', 'Пчевжа', 'Володарское',\n",
       "       'Нижняя', 'Тихковицы', 'Грива', 'Дзержинского'], dtype=object)"
      ]
     },
     "execution_count": 20,
     "metadata": {},
     "output_type": "execute_result"
    }
   ],
   "source": [
    "data['locality_name'].unique()"
   ]
  },
  {
   "cell_type": "code",
   "execution_count": 21,
   "metadata": {
    "scrolled": true
   },
   "outputs": [
    {
     "data": {
      "text/plain": [
       "295"
      ]
     },
     "execution_count": 21,
     "metadata": {},
     "output_type": "execute_result"
    }
   ],
   "source": [
    "len(data['locality_name'].unique()) #Число нас.пунктов после удаления дубликатов"
   ]
  },
  {
   "cell_type": "code",
   "execution_count": 22,
   "metadata": {},
   "outputs": [
    {
     "data": {
      "text/plain": [
       "0"
      ]
     },
     "execution_count": 22,
     "metadata": {},
     "output_type": "execute_result"
    }
   ],
   "source": [
    "data.duplicated().sum() #Проверка на явные дубликаты"
   ]
  },
  {
   "cell_type": "markdown",
   "metadata": {
    "id": "QCcvyY6YAwb-"
   },
   "source": [
    "### Добавьте в таблицу новые столбцы"
   ]
  },
  {
   "cell_type": "code",
   "execution_count": 23,
   "metadata": {},
   "outputs": [],
   "source": [
    "data['price_one_km'] = (data['last_price']/data['total_area']).round(2) #Цена кв.км.\n",
    "data['day_public'] = data['first_day_exposition'].dt.dayofweek #День недели\n",
    "data['month_public'] = data['first_day_exposition'].dt.month #Месяц\n",
    "data['year_public'] = data['first_day_exposition'].dt.year #Год\n",
    "#Тип этажа\n",
    "data['floor_type'] = data['floor'].where((data['floor'] == 1) | (data['floor'] == data['floors_total']), 'другой').where((data['floor'] != 1), 'первый').where((data['floor'] != data['floors_total']), 'последний')\n",
    "data['city_center_km'] = (data['cityCenters_nearest']/1000).round(0) #Расстояние до центра города в км"
   ]
  },
  {
   "cell_type": "code",
   "execution_count": 24,
   "metadata": {
    "id": "Z8eJek3IAwb-",
    "scrolled": true
   },
   "outputs": [
    {
     "data": {
      "text/html": [
       "<div>\n",
       "<style scoped>\n",
       "    .dataframe tbody tr th:only-of-type {\n",
       "        vertical-align: middle;\n",
       "    }\n",
       "\n",
       "    .dataframe tbody tr th {\n",
       "        vertical-align: top;\n",
       "    }\n",
       "\n",
       "    .dataframe thead th {\n",
       "        text-align: right;\n",
       "    }\n",
       "</style>\n",
       "<table border=\"1\" class=\"dataframe\">\n",
       "  <thead>\n",
       "    <tr style=\"text-align: right;\">\n",
       "      <th></th>\n",
       "      <th>total_images</th>\n",
       "      <th>last_price</th>\n",
       "      <th>total_area</th>\n",
       "      <th>first_day_exposition</th>\n",
       "      <th>rooms</th>\n",
       "      <th>ceiling_height</th>\n",
       "      <th>floors_total</th>\n",
       "      <th>living_area</th>\n",
       "      <th>floor</th>\n",
       "      <th>is_apartment</th>\n",
       "      <th>...</th>\n",
       "      <th>parks_nearest</th>\n",
       "      <th>ponds_around3000</th>\n",
       "      <th>ponds_nearest</th>\n",
       "      <th>days_exposition</th>\n",
       "      <th>price_one_km</th>\n",
       "      <th>day_public</th>\n",
       "      <th>month_public</th>\n",
       "      <th>year_public</th>\n",
       "      <th>floor_type</th>\n",
       "      <th>city_center_km</th>\n",
       "    </tr>\n",
       "  </thead>\n",
       "  <tbody>\n",
       "    <tr>\n",
       "      <th>0</th>\n",
       "      <td>20</td>\n",
       "      <td>13000000.0</td>\n",
       "      <td>108.00</td>\n",
       "      <td>2019-03-07</td>\n",
       "      <td>3</td>\n",
       "      <td>2.70</td>\n",
       "      <td>16.0</td>\n",
       "      <td>51.000000</td>\n",
       "      <td>8</td>\n",
       "      <td>True</td>\n",
       "      <td>...</td>\n",
       "      <td>482.0</td>\n",
       "      <td>2</td>\n",
       "      <td>755.0</td>\n",
       "      <td>NaN</td>\n",
       "      <td>120370.37</td>\n",
       "      <td>3</td>\n",
       "      <td>3</td>\n",
       "      <td>2019</td>\n",
       "      <td>другой</td>\n",
       "      <td>16.0</td>\n",
       "    </tr>\n",
       "    <tr>\n",
       "      <th>1</th>\n",
       "      <td>7</td>\n",
       "      <td>3350000.0</td>\n",
       "      <td>40.40</td>\n",
       "      <td>2018-12-04</td>\n",
       "      <td>1</td>\n",
       "      <td>2.65</td>\n",
       "      <td>11.0</td>\n",
       "      <td>18.600000</td>\n",
       "      <td>1</td>\n",
       "      <td>True</td>\n",
       "      <td>...</td>\n",
       "      <td>NaN</td>\n",
       "      <td>0</td>\n",
       "      <td>NaN</td>\n",
       "      <td>81.0</td>\n",
       "      <td>82920.79</td>\n",
       "      <td>1</td>\n",
       "      <td>12</td>\n",
       "      <td>2018</td>\n",
       "      <td>первый</td>\n",
       "      <td>19.0</td>\n",
       "    </tr>\n",
       "    <tr>\n",
       "      <th>2</th>\n",
       "      <td>10</td>\n",
       "      <td>5196000.0</td>\n",
       "      <td>56.00</td>\n",
       "      <td>2015-08-20</td>\n",
       "      <td>2</td>\n",
       "      <td>2.65</td>\n",
       "      <td>5.0</td>\n",
       "      <td>34.300000</td>\n",
       "      <td>4</td>\n",
       "      <td>True</td>\n",
       "      <td>...</td>\n",
       "      <td>90.0</td>\n",
       "      <td>2</td>\n",
       "      <td>574.0</td>\n",
       "      <td>558.0</td>\n",
       "      <td>92785.71</td>\n",
       "      <td>3</td>\n",
       "      <td>8</td>\n",
       "      <td>2015</td>\n",
       "      <td>другой</td>\n",
       "      <td>14.0</td>\n",
       "    </tr>\n",
       "    <tr>\n",
       "      <th>3</th>\n",
       "      <td>0</td>\n",
       "      <td>64900000.0</td>\n",
       "      <td>159.00</td>\n",
       "      <td>2015-07-24</td>\n",
       "      <td>3</td>\n",
       "      <td>2.65</td>\n",
       "      <td>14.0</td>\n",
       "      <td>47.387941</td>\n",
       "      <td>9</td>\n",
       "      <td>True</td>\n",
       "      <td>...</td>\n",
       "      <td>84.0</td>\n",
       "      <td>3</td>\n",
       "      <td>234.0</td>\n",
       "      <td>424.0</td>\n",
       "      <td>408176.10</td>\n",
       "      <td>4</td>\n",
       "      <td>7</td>\n",
       "      <td>2015</td>\n",
       "      <td>другой</td>\n",
       "      <td>7.0</td>\n",
       "    </tr>\n",
       "    <tr>\n",
       "      <th>4</th>\n",
       "      <td>2</td>\n",
       "      <td>10000000.0</td>\n",
       "      <td>100.00</td>\n",
       "      <td>2018-06-19</td>\n",
       "      <td>2</td>\n",
       "      <td>3.03</td>\n",
       "      <td>14.0</td>\n",
       "      <td>32.000000</td>\n",
       "      <td>13</td>\n",
       "      <td>True</td>\n",
       "      <td>...</td>\n",
       "      <td>112.0</td>\n",
       "      <td>1</td>\n",
       "      <td>48.0</td>\n",
       "      <td>121.0</td>\n",
       "      <td>100000.00</td>\n",
       "      <td>1</td>\n",
       "      <td>6</td>\n",
       "      <td>2018</td>\n",
       "      <td>другой</td>\n",
       "      <td>8.0</td>\n",
       "    </tr>\n",
       "    <tr>\n",
       "      <th>...</th>\n",
       "      <td>...</td>\n",
       "      <td>...</td>\n",
       "      <td>...</td>\n",
       "      <td>...</td>\n",
       "      <td>...</td>\n",
       "      <td>...</td>\n",
       "      <td>...</td>\n",
       "      <td>...</td>\n",
       "      <td>...</td>\n",
       "      <td>...</td>\n",
       "      <td>...</td>\n",
       "      <td>...</td>\n",
       "      <td>...</td>\n",
       "      <td>...</td>\n",
       "      <td>...</td>\n",
       "      <td>...</td>\n",
       "      <td>...</td>\n",
       "      <td>...</td>\n",
       "      <td>...</td>\n",
       "      <td>...</td>\n",
       "      <td>...</td>\n",
       "    </tr>\n",
       "    <tr>\n",
       "      <th>23694</th>\n",
       "      <td>9</td>\n",
       "      <td>9700000.0</td>\n",
       "      <td>133.81</td>\n",
       "      <td>2017-03-21</td>\n",
       "      <td>3</td>\n",
       "      <td>3.70</td>\n",
       "      <td>5.0</td>\n",
       "      <td>73.300000</td>\n",
       "      <td>3</td>\n",
       "      <td>True</td>\n",
       "      <td>...</td>\n",
       "      <td>796.0</td>\n",
       "      <td>3</td>\n",
       "      <td>381.0</td>\n",
       "      <td>NaN</td>\n",
       "      <td>72490.85</td>\n",
       "      <td>1</td>\n",
       "      <td>3</td>\n",
       "      <td>2017</td>\n",
       "      <td>другой</td>\n",
       "      <td>4.0</td>\n",
       "    </tr>\n",
       "    <tr>\n",
       "      <th>23695</th>\n",
       "      <td>14</td>\n",
       "      <td>3100000.0</td>\n",
       "      <td>59.00</td>\n",
       "      <td>2018-01-15</td>\n",
       "      <td>3</td>\n",
       "      <td>2.65</td>\n",
       "      <td>5.0</td>\n",
       "      <td>38.000000</td>\n",
       "      <td>4</td>\n",
       "      <td>True</td>\n",
       "      <td>...</td>\n",
       "      <td>NaN</td>\n",
       "      <td>0</td>\n",
       "      <td>NaN</td>\n",
       "      <td>45.0</td>\n",
       "      <td>52542.37</td>\n",
       "      <td>0</td>\n",
       "      <td>1</td>\n",
       "      <td>2018</td>\n",
       "      <td>другой</td>\n",
       "      <td>NaN</td>\n",
       "    </tr>\n",
       "    <tr>\n",
       "      <th>23696</th>\n",
       "      <td>18</td>\n",
       "      <td>2500000.0</td>\n",
       "      <td>56.70</td>\n",
       "      <td>2018-02-11</td>\n",
       "      <td>2</td>\n",
       "      <td>2.65</td>\n",
       "      <td>3.0</td>\n",
       "      <td>29.700000</td>\n",
       "      <td>1</td>\n",
       "      <td>True</td>\n",
       "      <td>...</td>\n",
       "      <td>NaN</td>\n",
       "      <td>0</td>\n",
       "      <td>NaN</td>\n",
       "      <td>NaN</td>\n",
       "      <td>44091.71</td>\n",
       "      <td>6</td>\n",
       "      <td>2</td>\n",
       "      <td>2018</td>\n",
       "      <td>первый</td>\n",
       "      <td>NaN</td>\n",
       "    </tr>\n",
       "    <tr>\n",
       "      <th>23697</th>\n",
       "      <td>13</td>\n",
       "      <td>11475000.0</td>\n",
       "      <td>76.75</td>\n",
       "      <td>2017-03-28</td>\n",
       "      <td>2</td>\n",
       "      <td>3.00</td>\n",
       "      <td>17.0</td>\n",
       "      <td>31.736849</td>\n",
       "      <td>12</td>\n",
       "      <td>True</td>\n",
       "      <td>...</td>\n",
       "      <td>173.0</td>\n",
       "      <td>3</td>\n",
       "      <td>196.0</td>\n",
       "      <td>602.0</td>\n",
       "      <td>149511.40</td>\n",
       "      <td>1</td>\n",
       "      <td>3</td>\n",
       "      <td>2017</td>\n",
       "      <td>другой</td>\n",
       "      <td>10.0</td>\n",
       "    </tr>\n",
       "    <tr>\n",
       "      <th>23698</th>\n",
       "      <td>4</td>\n",
       "      <td>1350000.0</td>\n",
       "      <td>32.30</td>\n",
       "      <td>2017-07-21</td>\n",
       "      <td>1</td>\n",
       "      <td>2.50</td>\n",
       "      <td>5.0</td>\n",
       "      <td>12.300000</td>\n",
       "      <td>1</td>\n",
       "      <td>True</td>\n",
       "      <td>...</td>\n",
       "      <td>NaN</td>\n",
       "      <td>0</td>\n",
       "      <td>NaN</td>\n",
       "      <td>NaN</td>\n",
       "      <td>41795.67</td>\n",
       "      <td>4</td>\n",
       "      <td>7</td>\n",
       "      <td>2017</td>\n",
       "      <td>первый</td>\n",
       "      <td>NaN</td>\n",
       "    </tr>\n",
       "  </tbody>\n",
       "</table>\n",
       "<p>23699 rows × 28 columns</p>\n",
       "</div>"
      ],
      "text/plain": [
       "       total_images  last_price  total_area first_day_exposition  rooms  \\\n",
       "0                20  13000000.0      108.00           2019-03-07      3   \n",
       "1                 7   3350000.0       40.40           2018-12-04      1   \n",
       "2                10   5196000.0       56.00           2015-08-20      2   \n",
       "3                 0  64900000.0      159.00           2015-07-24      3   \n",
       "4                 2  10000000.0      100.00           2018-06-19      2   \n",
       "...             ...         ...         ...                  ...    ...   \n",
       "23694             9   9700000.0      133.81           2017-03-21      3   \n",
       "23695            14   3100000.0       59.00           2018-01-15      3   \n",
       "23696            18   2500000.0       56.70           2018-02-11      2   \n",
       "23697            13  11475000.0       76.75           2017-03-28      2   \n",
       "23698             4   1350000.0       32.30           2017-07-21      1   \n",
       "\n",
       "       ceiling_height  floors_total  living_area  floor  is_apartment  ...  \\\n",
       "0                2.70          16.0    51.000000      8          True  ...   \n",
       "1                2.65          11.0    18.600000      1          True  ...   \n",
       "2                2.65           5.0    34.300000      4          True  ...   \n",
       "3                2.65          14.0    47.387941      9          True  ...   \n",
       "4                3.03          14.0    32.000000     13          True  ...   \n",
       "...               ...           ...          ...    ...           ...  ...   \n",
       "23694            3.70           5.0    73.300000      3          True  ...   \n",
       "23695            2.65           5.0    38.000000      4          True  ...   \n",
       "23696            2.65           3.0    29.700000      1          True  ...   \n",
       "23697            3.00          17.0    31.736849     12          True  ...   \n",
       "23698            2.50           5.0    12.300000      1          True  ...   \n",
       "\n",
       "       parks_nearest  ponds_around3000  ponds_nearest  days_exposition  \\\n",
       "0              482.0                 2          755.0              NaN   \n",
       "1                NaN                 0            NaN             81.0   \n",
       "2               90.0                 2          574.0            558.0   \n",
       "3               84.0                 3          234.0            424.0   \n",
       "4              112.0                 1           48.0            121.0   \n",
       "...              ...               ...            ...              ...   \n",
       "23694          796.0                 3          381.0              NaN   \n",
       "23695            NaN                 0            NaN             45.0   \n",
       "23696            NaN                 0            NaN              NaN   \n",
       "23697          173.0                 3          196.0            602.0   \n",
       "23698            NaN                 0            NaN              NaN   \n",
       "\n",
       "      price_one_km  day_public  month_public  year_public  floor_type  \\\n",
       "0        120370.37           3             3         2019      другой   \n",
       "1         82920.79           1            12         2018      первый   \n",
       "2         92785.71           3             8         2015      другой   \n",
       "3        408176.10           4             7         2015      другой   \n",
       "4        100000.00           1             6         2018      другой   \n",
       "...            ...         ...           ...          ...         ...   \n",
       "23694     72490.85           1             3         2017      другой   \n",
       "23695     52542.37           0             1         2018      другой   \n",
       "23696     44091.71           6             2         2018      первый   \n",
       "23697    149511.40           1             3         2017      другой   \n",
       "23698     41795.67           4             7         2017      первый   \n",
       "\n",
       "       city_center_km  \n",
       "0                16.0  \n",
       "1                19.0  \n",
       "2                14.0  \n",
       "3                 7.0  \n",
       "4                 8.0  \n",
       "...               ...  \n",
       "23694             4.0  \n",
       "23695             NaN  \n",
       "23696             NaN  \n",
       "23697            10.0  \n",
       "23698             NaN  \n",
       "\n",
       "[23699 rows x 28 columns]"
      ]
     },
     "execution_count": 24,
     "metadata": {},
     "output_type": "execute_result"
    }
   ],
   "source": [
    "data"
   ]
  },
  {
   "cell_type": "markdown",
   "metadata": {
    "id": "pPyxrKWTAwb-"
   },
   "source": [
    "### Проведите исследовательский анализ данных"
   ]
  },
  {
   "cell_type": "code",
   "execution_count": 25,
   "metadata": {
    "id": "V2f0D3kLAwb-"
   },
   "outputs": [
    {
     "data": {
      "text/plain": [
       "<AxesSubplot:>"
      ]
     },
     "execution_count": 25,
     "metadata": {},
     "output_type": "execute_result"
    },
    {
     "data": {
      "image/png": "[encoded data removed]",
      "text/plain": [
       "<Figure size 432x288 with 1 Axes>"
      ]
     },
     "metadata": {
      "needs_background": "light"
     },
     "output_type": "display_data"
    }
   ],
   "source": [
    "#Общая площадь\n",
    "data['total_area'].hist(bins = 40)"
   ]
  },
  {
   "cell_type": "code",
   "execution_count": 26,
   "metadata": {},
   "outputs": [
    {
     "data": {
      "text/plain": [
       "<AxesSubplot:>"
      ]
     },
     "execution_count": 26,
     "metadata": {},
     "output_type": "execute_result"
    },
    {
     "data": {
      "image/png": "[encoded data removed]",
      "text/plain": [
       "<Figure size 432x288 with 1 Axes>"
      ]
     },
     "metadata": {
      "needs_background": "light"
     },
     "output_type": "display_data"
    }
   ],
   "source": [
    "data.boxplot('total_area')"
   ]
  },
  {
   "cell_type": "code",
   "execution_count": 27,
   "metadata": {},
   "outputs": [
    {
     "data": {
      "text/plain": [
       "count    23699.000000\n",
       "mean        60.348651\n",
       "std         35.654083\n",
       "min         12.000000\n",
       "25%         40.000000\n",
       "50%         52.000000\n",
       "75%         69.900000\n",
       "max        900.000000\n",
       "Name: total_area, dtype: float64"
      ]
     },
     "execution_count": 27,
     "metadata": {},
     "output_type": "execute_result"
    }
   ],
   "source": [
    "data['total_area'].describe()"
   ]
  },
  {
   "cell_type": "code",
   "execution_count": 28,
   "metadata": {},
   "outputs": [],
   "source": [
    "data = data[data['total_area'] <= 500]"
   ]
  },
  {
   "cell_type": "markdown",
   "metadata": {},
   "source": [
    "Присутствуют различные значения, и несколько из них сильно выбиваются, слишком больние помещения удалим из датафрейма."
   ]
  },
  {
   "cell_type": "code",
   "execution_count": 29,
   "metadata": {},
   "outputs": [
    {
     "data": {
      "text/plain": [
       "<AxesSubplot:>"
      ]
     },
     "execution_count": 29,
     "metadata": {},
     "output_type": "execute_result"
    },
    {
     "data": {
      "image/png": "[encoded data removed]",
      "text/plain": [
       "<Figure size 432x288 with 1 Axes>"
      ]
     },
     "metadata": {
      "needs_background": "light"
     },
     "output_type": "display_data"
    }
   ],
   "source": [
    "#Жилая площадь\n",
    "data['living_area'].hist(bins = 20)"
   ]
  },
  {
   "cell_type": "code",
   "execution_count": 30,
   "metadata": {},
   "outputs": [
    {
     "data": {
      "text/plain": [
       "<AxesSubplot:>"
      ]
     },
     "execution_count": 30,
     "metadata": {},
     "output_type": "execute_result"
    },
    {
     "data": {
      "image/png": "[encoded data removed]",
      "text/plain": [
       "<Figure size 432x288 with 1 Axes>"
      ]
     },
     "metadata": {
      "needs_background": "light"
     },
     "output_type": "display_data"
    }
   ],
   "source": [
    "data.boxplot('living_area')"
   ]
  },
  {
   "cell_type": "code",
   "execution_count": 31,
   "metadata": {},
   "outputs": [
    {
     "data": {
      "text/plain": [
       "count    23692.000000\n",
       "mean        34.358641\n",
       "std         21.225963\n",
       "min          2.000000\n",
       "25%         18.400000\n",
       "50%         30.300000\n",
       "75%         42.700000\n",
       "max        347.500000\n",
       "Name: living_area, dtype: float64"
      ]
     },
     "execution_count": 31,
     "metadata": {},
     "output_type": "execute_result"
    }
   ],
   "source": [
    "data['living_area'].describe()"
   ]
  },
  {
   "cell_type": "code",
   "execution_count": 32,
   "metadata": {},
   "outputs": [],
   "source": [
    "data = data[data['living_area'] >= 5]"
   ]
  },
  {
   "cell_type": "markdown",
   "metadata": {},
   "source": [
    "Несколько значений сильно больше остальных, однако есть и общая жилая площадь, соответствующая данной жилой.\n",
    "При этом есть квартиры со слишком малой жил.площадью. Оставим только квартиры, с мин. жилой площадью в 5 кв.м."
   ]
  },
  {
   "cell_type": "code",
   "execution_count": 33,
   "metadata": {},
   "outputs": [
    {
     "data": {
      "text/plain": [
       "<AxesSubplot:>"
      ]
     },
     "execution_count": 33,
     "metadata": {},
     "output_type": "execute_result"
    },
    {
     "data": {
      "image/png": "[encoded data removed]",
      "text/plain": [
       "<Figure size 432x288 with 1 Axes>"
      ]
     },
     "metadata": {
      "needs_background": "light"
     },
     "output_type": "display_data"
    }
   ],
   "source": [
    "#Площадь кухни\n",
    "data['kitchen_area'].hist(bins = 20)"
   ]
  },
  {
   "cell_type": "code",
   "execution_count": 34,
   "metadata": {
    "scrolled": true
   },
   "outputs": [
    {
     "data": {
      "text/plain": [
       "<AxesSubplot:>"
      ]
     },
     "execution_count": 34,
     "metadata": {},
     "output_type": "execute_result"
    },
    {
     "data": {
      "image/png": "[encoded data removed]",
      "text/plain": [
       "<Figure size 432x288 with 1 Axes>"
      ]
     },
     "metadata": {
      "needs_background": "light"
     },
     "output_type": "display_data"
    }
   ],
   "source": [
    "data.boxplot('kitchen_area')"
   ]
  },
  {
   "cell_type": "code",
   "execution_count": 35,
   "metadata": {},
   "outputs": [
    {
     "data": {
      "text/plain": [
       "count    23688.000000\n",
       "mean        10.413354\n",
       "std          5.534773\n",
       "min          1.300000\n",
       "25%          7.360000\n",
       "50%          9.100000\n",
       "75%         11.402500\n",
       "max        107.000000\n",
       "Name: kitchen_area, dtype: float64"
      ]
     },
     "execution_count": 35,
     "metadata": {},
     "output_type": "execute_result"
    }
   ],
   "source": [
    "data['kitchen_area'].describe()"
   ]
  },
  {
   "cell_type": "code",
   "execution_count": 36,
   "metadata": {},
   "outputs": [],
   "source": [
    "data = data[data['kitchen_area'] >= 5]"
   ]
  },
  {
   "cell_type": "markdown",
   "metadata": {},
   "source": [
    "Если большие кухни могут обуславливаться большими жил.площадями, то кухня в 1 кв.м. это не нормально. Оставим только кухни,\n",
    "по площади не менее 5 кв.м."
   ]
  },
  {
   "cell_type": "code",
   "execution_count": 37,
   "metadata": {
    "scrolled": true
   },
   "outputs": [
    {
     "data": {
      "text/plain": [
       "<AxesSubplot:>"
      ]
     },
     "execution_count": 37,
     "metadata": {},
     "output_type": "execute_result"
    },
    {
     "data": {
      "image/png": "[encoded data removed]",
      "text/plain": [
       "<Figure size 432x288 with 1 Axes>"
      ]
     },
     "metadata": {
      "needs_background": "light"
     },
     "output_type": "display_data"
    }
   ],
   "source": [
    "#Цена объекта\n",
    "data['last_price'].hist(bins = 20)"
   ]
  },
  {
   "cell_type": "code",
   "execution_count": 38,
   "metadata": {},
   "outputs": [
    {
     "data": {
      "text/plain": [
       "count    2.358300e+04\n",
       "mean     6.505155e+06\n",
       "std      1.029594e+07\n",
       "min      1.219000e+04\n",
       "25%      3.450000e+06\n",
       "50%      4.650000e+06\n",
       "75%      6.800000e+06\n",
       "max      7.630000e+08\n",
       "Name: last_price, dtype: float64"
      ]
     },
     "execution_count": 38,
     "metadata": {},
     "output_type": "execute_result"
    }
   ],
   "source": [
    "data['last_price'].describe()"
   ]
  },
  {
   "cell_type": "code",
   "execution_count": 39,
   "metadata": {},
   "outputs": [
    {
     "data": {
      "text/plain": [
       "<AxesSubplot:>"
      ]
     },
     "execution_count": 39,
     "metadata": {},
     "output_type": "execute_result"
    },
    {
     "data": {
      "image/png": "[encoded data removed]",
      "text/plain": [
       "<Figure size 432x288 with 1 Axes>"
      ]
     },
     "metadata": {
      "needs_background": "light"
     },
     "output_type": "display_data"
    }
   ],
   "source": [
    "data.boxplot('last_price')"
   ]
  },
  {
   "cell_type": "code",
   "execution_count": 40,
   "metadata": {},
   "outputs": [],
   "source": [
    "data=data.query('10**6 <= last_price <= 3*10**8')"
   ]
  },
  {
   "cell_type": "markdown",
   "metadata": {},
   "source": [
    "Отбросим явно выбивающиеся слишком большие значения. Помимо этого отбросим цены ниже 1 млн.руб., ибо во второй столице России, цены дешевле выглядят явно как ошибка"
   ]
  },
  {
   "cell_type": "code",
   "execution_count": 41,
   "metadata": {
    "scrolled": true
   },
   "outputs": [
    {
     "data": {
      "text/plain": [
       "<AxesSubplot:>"
      ]
     },
     "execution_count": 41,
     "metadata": {},
     "output_type": "execute_result"
    },
    {
     "data": {
      "image/png": "[encoded data removed]",
      "text/plain": [
       "<Figure size 432x288 with 1 Axes>"
      ]
     },
     "metadata": {
      "needs_background": "light"
     },
     "output_type": "display_data"
    }
   ],
   "source": [
    "#Количество комнат\n",
    "data['rooms'].hist(bins = 20)"
   ]
  },
  {
   "cell_type": "code",
   "execution_count": 42,
   "metadata": {},
   "outputs": [
    {
     "data": {
      "text/plain": [
       "<AxesSubplot:>"
      ]
     },
     "execution_count": 42,
     "metadata": {},
     "output_type": "execute_result"
    },
    {
     "data": {
      "image/png": "[encoded data removed]",
      "text/plain": [
       "<Figure size 432x288 with 1 Axes>"
      ]
     },
     "metadata": {
      "needs_background": "light"
     },
     "output_type": "display_data"
    }
   ],
   "source": [
    "data.boxplot('rooms')"
   ]
  },
  {
   "cell_type": "code",
   "execution_count": 43,
   "metadata": {},
   "outputs": [
    {
     "data": {
      "text/plain": [
       "count    23358.000000\n",
       "mean         2.073893\n",
       "std          1.073775\n",
       "min          0.000000\n",
       "25%          1.000000\n",
       "50%          2.000000\n",
       "75%          3.000000\n",
       "max         19.000000\n",
       "Name: rooms, dtype: float64"
      ]
     },
     "execution_count": 43,
     "metadata": {},
     "output_type": "execute_result"
    }
   ],
   "source": [
    "data['rooms'].describe()"
   ]
  },
  {
   "cell_type": "code",
   "execution_count": 44,
   "metadata": {},
   "outputs": [],
   "source": [
    "data = data.query('rooms > 0')"
   ]
  },
  {
   "cell_type": "markdown",
   "metadata": {},
   "source": [
    "Если про максимальное количество комнат говорить нельзя (мало ли была произведена перепланировка, объединение квартир и т.п.), то ноль комнат - явный выброс."
   ]
  },
  {
   "cell_type": "code",
   "execution_count": 45,
   "metadata": {},
   "outputs": [
    {
     "data": {
      "text/plain": [
       "<AxesSubplot:>"
      ]
     },
     "execution_count": 45,
     "metadata": {},
     "output_type": "execute_result"
    },
    {
     "data": {
      "image/png": "[encoded data removed]",
      "text/plain": [
       "<Figure size 432x288 with 1 Axes>"
      ]
     },
     "metadata": {
      "needs_background": "light"
     },
     "output_type": "display_data"
    }
   ],
   "source": [
    "#Высота потолков\n",
    "data['ceiling_height'].hist(bins = 50)"
   ]
  },
  {
   "cell_type": "code",
   "execution_count": 46,
   "metadata": {},
   "outputs": [
    {
     "data": {
      "text/plain": [
       "<AxesSubplot:>"
      ]
     },
     "execution_count": 46,
     "metadata": {},
     "output_type": "execute_result"
    },
    {
     "data": {
      "image/png": "[encoded data removed]",
      "text/plain": [
       "<Figure size 432x288 with 1 Axes>"
      ]
     },
     "metadata": {
      "needs_background": "light"
     },
     "output_type": "display_data"
    }
   ],
   "source": [
    "data.boxplot('ceiling_height')"
   ]
  },
  {
   "cell_type": "code",
   "execution_count": 47,
   "metadata": {},
   "outputs": [
    {
     "data": {
      "text/plain": [
       "count    23163.000000\n",
       "mean         2.724477\n",
       "std          0.986157\n",
       "min          1.000000\n",
       "25%          2.600000\n",
       "50%          2.650000\n",
       "75%          2.700000\n",
       "max        100.000000\n",
       "Name: ceiling_height, dtype: float64"
      ]
     },
     "execution_count": 47,
     "metadata": {},
     "output_type": "execute_result"
    }
   ],
   "source": [
    "data['ceiling_height'].describe()"
   ]
  },
  {
   "cell_type": "code",
   "execution_count": 48,
   "metadata": {},
   "outputs": [],
   "source": [
    "data.loc[data['ceiling_height'] >= 20, 'ceiling_height'] = data['ceiling_height']/10\n",
    "data=data.query('ceiling_height >= 2')"
   ]
  },
  {
   "cell_type": "markdown",
   "metadata": {},
   "source": [
    "Слишком больние значения скорее всего должны были быть записаны в вещественном виде, так что переводим их. Слишком маленькие (меньше двух метров) отбрасываем."
   ]
  },
  {
   "cell_type": "code",
   "execution_count": 49,
   "metadata": {},
   "outputs": [
    {
     "data": {
      "text/plain": [
       "<AxesSubplot:>"
      ]
     },
     "execution_count": 49,
     "metadata": {},
     "output_type": "execute_result"
    },
    {
     "data": {
      "image/png": "[encoded data removed]",
      "text/plain": [
       "<Figure size 432x288 with 1 Axes>"
      ]
     },
     "metadata": {
      "needs_background": "light"
     },
     "output_type": "display_data"
    }
   ],
   "source": [
    "data['floor_type'].hist() #Тип этажа квартиры"
   ]
  },
  {
   "cell_type": "markdown",
   "metadata": {},
   "source": [
    "Здесь выбросов нет."
   ]
  },
  {
   "cell_type": "code",
   "execution_count": 50,
   "metadata": {
    "scrolled": true
   },
   "outputs": [
    {
     "data": {
      "text/plain": [
       "<AxesSubplot:>"
      ]
     },
     "execution_count": 50,
     "metadata": {},
     "output_type": "execute_result"
    },
    {
     "data": {
      "image/png": "[encoded data removed]",
      "text/plain": [
       "<Figure size 432x288 with 1 Axes>"
      ]
     },
     "metadata": {
      "needs_background": "light"
     },
     "output_type": "display_data"
    }
   ],
   "source": [
    "#Общее количество этажей\n",
    "data['floors_total'].hist(bins = 30)"
   ]
  },
  {
   "cell_type": "code",
   "execution_count": 51,
   "metadata": {
    "scrolled": true
   },
   "outputs": [
    {
     "data": {
      "text/plain": [
       "<AxesSubplot:>"
      ]
     },
     "execution_count": 51,
     "metadata": {},
     "output_type": "execute_result"
    },
    {
     "data": {
      "image/png": "[encoded data removed]",
      "text/plain": [
       "<Figure size 432x288 with 1 Axes>"
      ]
     },
     "metadata": {
      "needs_background": "light"
     },
     "output_type": "display_data"
    }
   ],
   "source": [
    "data.boxplot('floors_total')"
   ]
  },
  {
   "cell_type": "code",
   "execution_count": 52,
   "metadata": {},
   "outputs": [
    {
     "data": {
      "text/plain": [
       "count    23078.000000\n",
       "mean        10.698284\n",
       "std          6.561743\n",
       "min          1.000000\n",
       "25%          5.000000\n",
       "50%          9.000000\n",
       "75%         16.000000\n",
       "max         60.000000\n",
       "Name: floors_total, dtype: float64"
      ]
     },
     "execution_count": 52,
     "metadata": {},
     "output_type": "execute_result"
    }
   ],
   "source": [
    "data['floors_total'].describe()"
   ]
  },
  {
   "cell_type": "markdown",
   "metadata": {},
   "source": [
    "О выбросах говорить нельзя, так как в зданиях возможна разная этажность (в т.ч и 1 этаж)\n"
   ]
  },
  {
   "cell_type": "code",
   "execution_count": 53,
   "metadata": {},
   "outputs": [
    {
     "data": {
      "text/plain": [
       "<AxesSubplot:>"
      ]
     },
     "execution_count": 53,
     "metadata": {},
     "output_type": "execute_result"
    },
    {
     "data": {
      "image/png": "[encoded data removed]",
      "text/plain": [
       "<Figure size 432x288 with 1 Axes>"
      ]
     },
     "metadata": {
      "needs_background": "light"
     },
     "output_type": "display_data"
    }
   ],
   "source": [
    "#Расстояние до центра города в метрах\n",
    "data['cityCenters_nearest'].hist(bins = 50)"
   ]
  },
  {
   "cell_type": "code",
   "execution_count": 54,
   "metadata": {},
   "outputs": [
    {
     "data": {
      "text/plain": [
       "count    17977.000000\n",
       "mean     14187.212661\n",
       "std       8598.430073\n",
       "min        181.000000\n",
       "25%       9234.000000\n",
       "50%      13094.000000\n",
       "75%      16293.000000\n",
       "max      65968.000000\n",
       "Name: cityCenters_nearest, dtype: float64"
      ]
     },
     "execution_count": 54,
     "metadata": {},
     "output_type": "execute_result"
    }
   ],
   "source": [
    "data['cityCenters_nearest'].describe()"
   ]
  },
  {
   "cell_type": "code",
   "execution_count": 55,
   "metadata": {},
   "outputs": [
    {
     "data": {
      "text/plain": [
       "<AxesSubplot:>"
      ]
     },
     "execution_count": 55,
     "metadata": {},
     "output_type": "execute_result"
    },
    {
     "data": {
      "image/png": "[encoded data removed]",
      "text/plain": [
       "<Figure size 432x288 with 1 Axes>"
      ]
     },
     "metadata": {
      "needs_background": "light"
     },
     "output_type": "display_data"
    }
   ],
   "source": [
    "data.boxplot('cityCenters_nearest')"
   ]
  },
  {
   "cell_type": "markdown",
   "metadata": {},
   "source": [
    "Расстояние до центра города сильно различается между собой, но о выбросах говорить нельзя, ведь очень большое расстояние можно объяснить тем, что квартира расположена в одном из городков/посёлков недалеко от самого Санкт-Петербурга."
   ]
  },
  {
   "cell_type": "code",
   "execution_count": 56,
   "metadata": {},
   "outputs": [
    {
     "data": {
      "text/plain": [
       "<AxesSubplot:>"
      ]
     },
     "execution_count": 56,
     "metadata": {},
     "output_type": "execute_result"
    },
    {
     "data": {
      "image/png": "[encoded data removed]",
      "text/plain": [
       "<Figure size 432x288 with 1 Axes>"
      ]
     },
     "metadata": {
      "needs_background": "light"
     },
     "output_type": "display_data"
    }
   ],
   "source": [
    "#Расстояние до ближайшего парка\n",
    "data['parks_nearest'].hist(bins = 40)"
   ]
  },
  {
   "cell_type": "code",
   "execution_count": 57,
   "metadata": {},
   "outputs": [
    {
     "data": {
      "text/plain": [
       "count    8021.000000\n",
       "mean      490.536467\n",
       "std       342.881797\n",
       "min         1.000000\n",
       "25%       287.000000\n",
       "50%       453.000000\n",
       "75%       612.000000\n",
       "max      3190.000000\n",
       "Name: parks_nearest, dtype: float64"
      ]
     },
     "execution_count": 57,
     "metadata": {},
     "output_type": "execute_result"
    }
   ],
   "source": [
    "data['parks_nearest'].describe()"
   ]
  },
  {
   "cell_type": "code",
   "execution_count": 58,
   "metadata": {},
   "outputs": [
    {
     "data": {
      "text/plain": [
       "<AxesSubplot:>"
      ]
     },
     "execution_count": 58,
     "metadata": {},
     "output_type": "execute_result"
    },
    {
     "data": {
      "image/png": "[encoded data removed]",
      "text/plain": [
       "<Figure size 432x288 with 1 Axes>"
      ]
     },
     "metadata": {
      "needs_background": "light"
     },
     "output_type": "display_data"
    }
   ],
   "source": [
    "data.boxplot('parks_nearest')"
   ]
  },
  {
   "cell_type": "markdown",
   "metadata": {},
   "source": [
    "Расстояние до парка может быть различным, поэтому о выбросах говорить нельзя, ведь относительно парков дома могут быть расположены на разных расстояниях (есть как дома с выходом в парки, так и кварталы без единого парка)"
   ]
  },
  {
   "cell_type": "code",
   "execution_count": 60,
   "metadata": {},
   "outputs": [
    {
     "data": {
      "text/plain": [
       "(23160, 28)"
      ]
     },
     "execution_count": 60,
     "metadata": {},
     "output_type": "execute_result"
    }
   ],
   "source": [
    "data.shape"
   ]
  },
  {
   "cell_type": "code",
   "execution_count": 61,
   "metadata": {},
   "outputs": [
    {
     "data": {
      "text/plain": [
       "97.72564243217013"
      ]
     },
     "execution_count": 61,
     "metadata": {},
     "output_type": "execute_result"
    }
   ],
   "source": [
    "23160/23699*100"
   ]
  },
  {
   "cell_type": "markdown",
   "metadata": {},
   "source": [
    "Было удалено менее 3% данных из датафрейма"
   ]
  },
  {
   "cell_type": "code",
   "execution_count": 62,
   "metadata": {},
   "outputs": [
    {
     "data": {
      "text/plain": [
       "<AxesSubplot:>"
      ]
     },
     "execution_count": 62,
     "metadata": {},
     "output_type": "execute_result"
    },
    {
     "data": {
      "image/png": "[encoded data removed]",
      "text/plain": [
       "<Figure size 432x288 with 1 Axes>"
      ]
     },
     "metadata": {
      "needs_background": "light"
     },
     "output_type": "display_data"
    }
   ],
   "source": [
    "#Оценим время продажи квартиры\n",
    "data['days_exposition'].hist(bins = 50)"
   ]
  },
  {
   "cell_type": "code",
   "execution_count": 64,
   "metadata": {},
   "outputs": [
    {
     "data": {
      "text/plain": [
       "<AxesSubplot:>"
      ]
     },
     "execution_count": 64,
     "metadata": {},
     "output_type": "execute_result"
    },
    {
     "data": {
      "image/png": "[encoded data removed]",
      "text/plain": [
       "<Figure size 432x288 with 1 Axes>"
      ]
     },
     "metadata": {
      "needs_background": "light"
     },
     "output_type": "display_data"
    }
   ],
   "source": [
    "data.boxplot('days_exposition')"
   ]
  },
  {
   "cell_type": "code",
   "execution_count": 63,
   "metadata": {},
   "outputs": [
    {
     "data": {
      "text/plain": [
       "count    20055.000000\n",
       "mean       181.832211\n",
       "std        220.440653\n",
       "min          1.000000\n",
       "25%         45.000000\n",
       "50%         96.000000\n",
       "75%        233.000000\n",
       "max       1580.000000\n",
       "Name: days_exposition, dtype: float64"
      ]
     },
     "execution_count": 63,
     "metadata": {},
     "output_type": "execute_result"
    }
   ],
   "source": [
    "data['days_exposition'].describe()"
   ]
  },
  {
   "cell_type": "markdown",
   "metadata": {},
   "source": [
    "Среднее время продажи: 182 дня, медиана: 96. Т.к. есть сильно большие, выбивающиеся значения, лучше оценивать по медианному значению, так что среднее время продажи квартиры - 96 дней. Есть лоты, которые занимают и больше дней. Необычно долгими можно считать квартиры, продающиеся больше 233 дней. Быстрые продажи - в течение 45 дней"
   ]
  },
  {
   "cell_type": "code",
   "execution_count": 65,
   "metadata": {},
   "outputs": [
    {
     "data": {
      "image/png": "[encoded data removed]",
      "text/plain": [
       "<Figure size 432x288 with 1 Axes>"
      ]
     },
     "metadata": {
      "needs_background": "light"
     },
     "output_type": "display_data"
    }
   ],
   "source": [
    "#Зависимость цены от общей площади\n",
    "table = data.plot(x = 'total_area', y = 'last_price', kind = 'scatter')"
   ]
  },
  {
   "cell_type": "code",
   "execution_count": 66,
   "metadata": {},
   "outputs": [
    {
     "data": {
      "text/plain": [
       "0.7107926107699848"
      ]
     },
     "execution_count": 66,
     "metadata": {},
     "output_type": "execute_result"
    }
   ],
   "source": [
    "data['last_price'].corr(data['total_area'])"
   ]
  },
  {
   "cell_type": "markdown",
   "metadata": {},
   "source": [
    "Зависимость между ценой и общей площадью есть (чем больше площадь, тем больше цена), коэффицент корреляции довольно большой - 0.7"
   ]
  },
  {
   "cell_type": "code",
   "execution_count": 71,
   "metadata": {
    "scrolled": true
   },
   "outputs": [
    {
     "data": {
      "text/plain": [
       "<AxesSubplot:xlabel='living_area', ylabel='last_price'>"
      ]
     },
     "execution_count": 71,
     "metadata": {},
     "output_type": "execute_result"
    },
    {
     "data": {
      "image/png": "[encoded data removed]",
      "text/plain": [
       "<Figure size 432x288 with 1 Axes>"
      ]
     },
     "metadata": {
      "needs_background": "light"
     },
     "output_type": "display_data"
    }
   ],
   "source": [
    "#Зависимость цены от жилой площади\n",
    "data.plot(x = 'living_area', y = 'last_price', kind = 'scatter')"
   ]
  },
  {
   "cell_type": "code",
   "execution_count": 69,
   "metadata": {},
   "outputs": [
    {
     "data": {
      "text/plain": [
       "0.6063243503622102"
      ]
     },
     "execution_count": 69,
     "metadata": {},
     "output_type": "execute_result"
    }
   ],
   "source": [
    "data['last_price'].corr(data['living_area'])"
   ]
  },
  {
   "cell_type": "markdown",
   "metadata": {},
   "source": [
    "Зависимость между ценой и жилой площадью есть (чем больше площадь, тем больше цена), но меньше, чем зависимость от итоговой площади; коэффицент корреляции - 0.6.\n"
   ]
  },
  {
   "cell_type": "code",
   "execution_count": 72,
   "metadata": {},
   "outputs": [
    {
     "data": {
      "text/plain": [
       "<AxesSubplot:xlabel='kitchen_area', ylabel='last_price'>"
      ]
     },
     "execution_count": 72,
     "metadata": {},
     "output_type": "execute_result"
    },
    {
     "data": {
      "image/png": "[encoded data removed]",
      "text/plain": [
       "<Figure size 432x288 with 1 Axes>"
      ]
     },
     "metadata": {
      "needs_background": "light"
     },
     "output_type": "display_data"
    }
   ],
   "source": [
    "#Зависимость цены от кухонной площади\n",
    "data.plot(x = 'kitchen_area', y = 'last_price', kind = 'scatter')"
   ]
  },
  {
   "cell_type": "code",
   "execution_count": 73,
   "metadata": {},
   "outputs": [
    {
     "data": {
      "text/plain": [
       "0.49911213072507804"
      ]
     },
     "execution_count": 73,
     "metadata": {},
     "output_type": "execute_result"
    }
   ],
   "source": [
    "data['last_price'].corr(data['kitchen_area'])"
   ]
  },
  {
   "cell_type": "markdown",
   "metadata": {},
   "source": [
    "Зависимость между ценой и площадью кухни есть (чем больше площадь, тем больше цена), но меньше, чем зависимость от итоговой площади; коэффицент корреляции - 0.5."
   ]
  },
  {
   "cell_type": "code",
   "execution_count": 74,
   "metadata": {},
   "outputs": [
    {
     "data": {
      "text/plain": [
       "<AxesSubplot:xlabel='rooms'>"
      ]
     },
     "execution_count": 74,
     "metadata": {},
     "output_type": "execute_result"
    },
    {
     "data": {
      "image/png": "[encoded data removed]",
      "text/plain": [
       "<Figure size 432x288 with 1 Axes>"
      ]
     },
     "metadata": {
      "needs_background": "light"
     },
     "output_type": "display_data"
    }
   ],
   "source": [
    "#Зависимость цены от количества комнат\n",
    "data.plot(x = 'rooms', y = 'last_price', style = 'o' )"
   ]
  },
  {
   "cell_type": "code",
   "execution_count": 75,
   "metadata": {},
   "outputs": [
    {
     "data": {
      "text/plain": [
       "0.41329320224111865"
      ]
     },
     "execution_count": 75,
     "metadata": {},
     "output_type": "execute_result"
    }
   ],
   "source": [
    "data['last_price'].corr(data['rooms'])"
   ]
  },
  {
   "cell_type": "markdown",
   "metadata": {},
   "source": [
    "Зависимость между ценой и количеством комнат есть, но она выражена не настолько сильно, если сравнивать с предыдущими анализами."
   ]
  },
  {
   "cell_type": "code",
   "execution_count": 78,
   "metadata": {},
   "outputs": [
    {
     "data": {
      "text/plain": [
       "<AxesSubplot:xlabel='floor_type'>"
      ]
     },
     "execution_count": 78,
     "metadata": {},
     "output_type": "execute_result"
    },
    {
     "data": {
      "image/png": "[encoded data removed]",
      "text/plain": [
       "<Figure size 432x288 with 1 Axes>"
      ]
     },
     "metadata": {
      "needs_background": "light"
     },
     "output_type": "display_data"
    }
   ],
   "source": [
    "data.pivot_table(index='floor_type',values = 'last_price', aggfunc='median').plot(style = 'o-' )"
   ]
  },
  {
   "cell_type": "markdown",
   "metadata": {},
   "source": [
    "О сильной зависимости говорить нельзя (разница медианных значений меньше миллиона рублей), однако стоит отметить, что квартиры на первом этаже - самые дешёвые, квартиры на последнем этаже тоже дешевле промежуточных этажей."
   ]
  },
  {
   "cell_type": "code",
   "execution_count": 79,
   "metadata": {
    "scrolled": true
   },
   "outputs": [
    {
     "data": {
      "text/plain": [
       "<AxesSubplot:xlabel='day_public'>"
      ]
     },
     "execution_count": 79,
     "metadata": {},
     "output_type": "execute_result"
    },
    {
     "data": {
      "image/png": "[encoded data removed]",
      "text/plain": [
       "<Figure size 432x288 with 1 Axes>"
      ]
     },
     "metadata": {
      "needs_background": "light"
     },
     "output_type": "display_data"
    }
   ],
   "source": [
    "#Зависимость цены от даты размещения (день публикации объявления)\n",
    "data.pivot_table(index='day_public',values = 'last_price', aggfunc='median').plot(style = 'o-')"
   ]
  },
  {
   "cell_type": "markdown",
   "metadata": {},
   "source": [
    "Наибольшая цена продажи при размещении объявления во вторник и среду, далее идёт на спад. Наименьшая цена - в воскресенье"
   ]
  },
  {
   "cell_type": "code",
   "execution_count": 83,
   "metadata": {},
   "outputs": [
    {
     "data": {
      "text/plain": [
       "<AxesSubplot:xlabel='month_public'>"
      ]
     },
     "execution_count": 83,
     "metadata": {},
     "output_type": "execute_result"
    },
    {
     "data": {
      "image/png": "[encoded data removed]",
      "text/plain": [
       "<Figure size 432x288 with 1 Axes>"
      ]
     },
     "metadata": {
      "needs_background": "light"
     },
     "output_type": "display_data"
    }
   ],
   "source": [
    "#Зависимость цены от даты размещения (месяц публикации объявления)\n",
    "data.pivot_table(index='month_public',values = 'last_price', aggfunc='median').plot(style = 'o-')"
   ]
  },
  {
   "cell_type": "markdown",
   "metadata": {},
   "source": [
    "Цена с января по март находится на одном уровне, далее осуществляется сильная просадка до июня, дальше цена колеблется."
   ]
  },
  {
   "cell_type": "code",
   "execution_count": 84,
   "metadata": {},
   "outputs": [
    {
     "data": {
      "text/plain": [
       "<AxesSubplot:xlabel='year_public'>"
      ]
     },
     "execution_count": 84,
     "metadata": {},
     "output_type": "execute_result"
    },
    {
     "data": {
      "image/png": "[encoded data removed]",
      "text/plain": [
       "<Figure size 432x288 with 1 Axes>"
      ]
     },
     "metadata": {
      "needs_background": "light"
     },
     "output_type": "display_data"
    }
   ],
   "source": [
    "#Зависимость цены от даты размещения (год публикации объявления)\n",
    "data.pivot_table(index='year_public',values = 'last_price', aggfunc='median').plot(style = 'o-')"
   ]
  },
  {
   "cell_type": "markdown",
   "metadata": {},
   "source": [
    "Самые высоки цены наблюдались в 2014 году, после чего шёл спад до 2017 года. Далее цены снова пошли вверх"
   ]
  },
  {
   "cell_type": "markdown",
   "metadata": {},
   "source": [
    "Больше всего на цену влияют такие факторы как общая площадь квартиры и жилая площадь"
   ]
  },
  {
   "cell_type": "code",
   "execution_count": 92,
   "metadata": {},
   "outputs": [
    {
     "data": {
      "text/html": [
       "<div>\n",
       "<style scoped>\n",
       "    .dataframe tbody tr th:only-of-type {\n",
       "        vertical-align: middle;\n",
       "    }\n",
       "\n",
       "    .dataframe tbody tr th {\n",
       "        vertical-align: top;\n",
       "    }\n",
       "\n",
       "    .dataframe thead th {\n",
       "        text-align: right;\n",
       "    }\n",
       "</style>\n",
       "<table border=\"1\" class=\"dataframe\">\n",
       "  <thead>\n",
       "    <tr style=\"text-align: right;\">\n",
       "      <th></th>\n",
       "      <th>count</th>\n",
       "      <th>mean</th>\n",
       "    </tr>\n",
       "    <tr>\n",
       "      <th>locality_name</th>\n",
       "      <th></th>\n",
       "      <th></th>\n",
       "    </tr>\n",
       "  </thead>\n",
       "  <tbody>\n",
       "    <tr>\n",
       "      <th>Санкт-Петербург</th>\n",
       "      <td>15545</td>\n",
       "      <td>114422.972562</td>\n",
       "    </tr>\n",
       "    <tr>\n",
       "      <th>Мурино</th>\n",
       "      <td>558</td>\n",
       "      <td>85337.738423</td>\n",
       "    </tr>\n",
       "    <tr>\n",
       "      <th>Кудрово</th>\n",
       "      <td>451</td>\n",
       "      <td>95150.960355</td>\n",
       "    </tr>\n",
       "    <tr>\n",
       "      <th>Шушары</th>\n",
       "      <td>434</td>\n",
       "      <td>78238.944700</td>\n",
       "    </tr>\n",
       "    <tr>\n",
       "      <th>Всеволожск</th>\n",
       "      <td>391</td>\n",
       "      <td>68683.728440</td>\n",
       "    </tr>\n",
       "    <tr>\n",
       "      <th>Пушкин</th>\n",
       "      <td>366</td>\n",
       "      <td>103188.211421</td>\n",
       "    </tr>\n",
       "    <tr>\n",
       "      <th>Колпино</th>\n",
       "      <td>338</td>\n",
       "      <td>75424.579112</td>\n",
       "    </tr>\n",
       "    <tr>\n",
       "      <th>Парголово</th>\n",
       "      <td>323</td>\n",
       "      <td>90289.778019</td>\n",
       "    </tr>\n",
       "    <tr>\n",
       "      <th>Гатчина</th>\n",
       "      <td>301</td>\n",
       "      <td>69038.943654</td>\n",
       "    </tr>\n",
       "    <tr>\n",
       "      <th>Выборг</th>\n",
       "      <td>232</td>\n",
       "      <td>58735.784914</td>\n",
       "    </tr>\n",
       "  </tbody>\n",
       "</table>\n",
       "</div>"
      ],
      "text/plain": [
       "                 count           mean\n",
       "locality_name                        \n",
       "Санкт-Петербург  15545  114422.972562\n",
       "Мурино             558   85337.738423\n",
       "Кудрово            451   95150.960355\n",
       "Шушары             434   78238.944700\n",
       "Всеволожск         391   68683.728440\n",
       "Пушкин             366  103188.211421\n",
       "Колпино            338   75424.579112\n",
       "Парголово          323   90289.778019\n",
       "Гатчина            301   69038.943654\n",
       "Выборг             232   58735.784914"
      ]
     },
     "execution_count": 92,
     "metadata": {},
     "output_type": "execute_result"
    }
   ],
   "source": [
    "table = data.pivot_table(index='locality_name',values='price_one_km', aggfunc=['count','mean'])\n",
    "table.columns = ['count', 'mean']\n",
    "table = table.sort_values(by='count', ascending = False)\n",
    "table = table.iloc[:10,:]\n",
    "table"
   ]
  },
  {
   "cell_type": "markdown",
   "metadata": {},
   "source": [
    "Среди 10 посёлков с наиб. количеством объявлений наибольшая стоимость кв.м в С-Петербурге, а наим. стоимость кв.м. в Выборге"
   ]
  },
  {
   "cell_type": "code",
   "execution_count": 94,
   "metadata": {},
   "outputs": [
    {
     "data": {
      "text/plain": [
       "83851.16416003476"
      ]
     },
     "execution_count": 94,
     "metadata": {},
     "output_type": "execute_result"
    }
   ],
   "source": [
    "table['mean'].mean() #Средняя стоимость квадратного м. в 10 посёлках с наиб. кол-вом объявлений."
   ]
  },
  {
   "cell_type": "code",
   "execution_count": 95,
   "metadata": {},
   "outputs": [
    {
     "data": {
      "text/html": [
       "<div>\n",
       "<style scoped>\n",
       "    .dataframe tbody tr th:only-of-type {\n",
       "        vertical-align: middle;\n",
       "    }\n",
       "\n",
       "    .dataframe tbody tr th {\n",
       "        vertical-align: top;\n",
       "    }\n",
       "\n",
       "    .dataframe thead th {\n",
       "        text-align: right;\n",
       "    }\n",
       "</style>\n",
       "<table border=\"1\" class=\"dataframe\">\n",
       "  <thead>\n",
       "    <tr style=\"text-align: right;\">\n",
       "      <th></th>\n",
       "      <th>last_price</th>\n",
       "    </tr>\n",
       "    <tr>\n",
       "      <th>city_center_km</th>\n",
       "      <th></th>\n",
       "    </tr>\n",
       "  </thead>\n",
       "  <tbody>\n",
       "    <tr>\n",
       "      <th>0.0</th>\n",
       "      <td>3.144912e+07</td>\n",
       "    </tr>\n",
       "    <tr>\n",
       "      <th>1.0</th>\n",
       "      <td>1.964995e+07</td>\n",
       "    </tr>\n",
       "    <tr>\n",
       "      <th>2.0</th>\n",
       "      <td>1.655665e+07</td>\n",
       "    </tr>\n",
       "    <tr>\n",
       "      <th>3.0</th>\n",
       "      <td>1.116668e+07</td>\n",
       "    </tr>\n",
       "    <tr>\n",
       "      <th>4.0</th>\n",
       "      <td>1.226122e+07</td>\n",
       "    </tr>\n",
       "    <tr>\n",
       "      <th>5.0</th>\n",
       "      <td>1.392242e+07</td>\n",
       "    </tr>\n",
       "    <tr>\n",
       "      <th>6.0</th>\n",
       "      <td>1.517376e+07</td>\n",
       "    </tr>\n",
       "    <tr>\n",
       "      <th>7.0</th>\n",
       "      <td>1.485056e+07</td>\n",
       "    </tr>\n",
       "    <tr>\n",
       "      <th>8.0</th>\n",
       "      <td>9.322605e+06</td>\n",
       "    </tr>\n",
       "    <tr>\n",
       "      <th>9.0</th>\n",
       "      <td>6.982612e+06</td>\n",
       "    </tr>\n",
       "    <tr>\n",
       "      <th>10.0</th>\n",
       "      <td>6.532962e+06</td>\n",
       "    </tr>\n",
       "    <tr>\n",
       "      <th>11.0</th>\n",
       "      <td>6.260597e+06</td>\n",
       "    </tr>\n",
       "    <tr>\n",
       "      <th>12.0</th>\n",
       "      <td>5.856981e+06</td>\n",
       "    </tr>\n",
       "    <tr>\n",
       "      <th>13.0</th>\n",
       "      <td>6.127501e+06</td>\n",
       "    </tr>\n",
       "    <tr>\n",
       "      <th>14.0</th>\n",
       "      <td>5.665539e+06</td>\n",
       "    </tr>\n",
       "    <tr>\n",
       "      <th>15.0</th>\n",
       "      <td>5.899771e+06</td>\n",
       "    </tr>\n",
       "    <tr>\n",
       "      <th>16.0</th>\n",
       "      <td>5.395317e+06</td>\n",
       "    </tr>\n",
       "    <tr>\n",
       "      <th>17.0</th>\n",
       "      <td>5.331964e+06</td>\n",
       "    </tr>\n",
       "    <tr>\n",
       "      <th>18.0</th>\n",
       "      <td>5.099375e+06</td>\n",
       "    </tr>\n",
       "    <tr>\n",
       "      <th>19.0</th>\n",
       "      <td>5.067516e+06</td>\n",
       "    </tr>\n",
       "    <tr>\n",
       "      <th>20.0</th>\n",
       "      <td>6.097430e+06</td>\n",
       "    </tr>\n",
       "    <tr>\n",
       "      <th>21.0</th>\n",
       "      <td>5.515375e+06</td>\n",
       "    </tr>\n",
       "    <tr>\n",
       "      <th>22.0</th>\n",
       "      <td>5.415524e+06</td>\n",
       "    </tr>\n",
       "    <tr>\n",
       "      <th>23.0</th>\n",
       "      <td>5.042855e+06</td>\n",
       "    </tr>\n",
       "    <tr>\n",
       "      <th>24.0</th>\n",
       "      <td>3.890687e+06</td>\n",
       "    </tr>\n",
       "    <tr>\n",
       "      <th>25.0</th>\n",
       "      <td>4.052840e+06</td>\n",
       "    </tr>\n",
       "    <tr>\n",
       "      <th>26.0</th>\n",
       "      <td>3.973013e+06</td>\n",
       "    </tr>\n",
       "    <tr>\n",
       "      <th>27.0</th>\n",
       "      <td>8.300000e+06</td>\n",
       "    </tr>\n",
       "    <tr>\n",
       "      <th>28.0</th>\n",
       "      <td>5.026429e+06</td>\n",
       "    </tr>\n",
       "    <tr>\n",
       "      <th>29.0</th>\n",
       "      <td>4.236667e+06</td>\n",
       "    </tr>\n",
       "  </tbody>\n",
       "</table>\n",
       "</div>"
      ],
      "text/plain": [
       "                  last_price\n",
       "city_center_km              \n",
       "0.0             3.144912e+07\n",
       "1.0             1.964995e+07\n",
       "2.0             1.655665e+07\n",
       "3.0             1.116668e+07\n",
       "4.0             1.226122e+07\n",
       "5.0             1.392242e+07\n",
       "6.0             1.517376e+07\n",
       "7.0             1.485056e+07\n",
       "8.0             9.322605e+06\n",
       "9.0             6.982612e+06\n",
       "10.0            6.532962e+06\n",
       "11.0            6.260597e+06\n",
       "12.0            5.856981e+06\n",
       "13.0            6.127501e+06\n",
       "14.0            5.665539e+06\n",
       "15.0            5.899771e+06\n",
       "16.0            5.395317e+06\n",
       "17.0            5.331964e+06\n",
       "18.0            5.099375e+06\n",
       "19.0            5.067516e+06\n",
       "20.0            6.097430e+06\n",
       "21.0            5.515375e+06\n",
       "22.0            5.415524e+06\n",
       "23.0            5.042855e+06\n",
       "24.0            3.890687e+06\n",
       "25.0            4.052840e+06\n",
       "26.0            3.973013e+06\n",
       "27.0            8.300000e+06\n",
       "28.0            5.026429e+06\n",
       "29.0            4.236667e+06"
      ]
     },
     "execution_count": 95,
     "metadata": {},
     "output_type": "execute_result"
    }
   ],
   "source": [
    "SaintPet = data.loc[data['locality_name'] == 'Санкт-Петербург',['last_price','city_center_km']]\n",
    "SaintPet = SaintPet.pivot_table(index='city_center_km', values = 'last_price')\n",
    "SaintPet #Средняя стоимость квартиры, в зависимости удаления от центра города"
   ]
  },
  {
   "cell_type": "code",
   "execution_count": 96,
   "metadata": {},
   "outputs": [
    {
     "data": {
      "text/plain": [
       "<AxesSubplot:xlabel='city_center_km'>"
      ]
     },
     "execution_count": 96,
     "metadata": {},
     "output_type": "execute_result"
    },
    {
     "data": {
      "image/png": "[encoded data removed]",
      "text/plain": [
       "<Figure size 720x720 with 1 Axes>"
      ]
     },
     "metadata": {
      "needs_background": "light"
     },
     "output_type": "display_data"
    }
   ],
   "source": [
    "SaintPet.plot(style='o-', figsize=(10,10))"
   ]
  },
  {
   "cell_type": "markdown",
   "metadata": {},
   "source": [
    "Стоимость объекта падает при удалении от центра города, однако можно отметить несколько скачков (в районе 6-7 км и 27-28 км)"
   ]
  },
  {
   "cell_type": "markdown",
   "metadata": {
    "id": "h7VpzkIDAwb-"
   },
   "source": [
    "### Напишите общий вывод"
   ]
  },
  {
   "cell_type": "markdown",
   "metadata": {
    "id": "3H4lnp_KAwb-"
   },
   "source": [
    "В рамках данной работы был изучен датафрейм с данными сервиса Яндекс Недвижимость — архив объявлений о продаже квартир в Санкт-Петербурге и соседних населённых пунктах за несколько лет. Были обработаны пропущенные значения, неправильные типы данных в столбце, аномалии и выбросы. Далее изучены зависимости стоимости квартиры от различных параметров (общей площади; жилой площади; площади кухни; количества комнат; этажа, на котором расположена квартира (первый, последний, другой); даты размещения (день недели, месяц, год)) Больше всего на цену влияют такие факторы как общая площадь квартиры, жилая площадь, также стоит отметить количество комнат и время выставления объявления о продаже. Затем были найдены 10 посёлков с наибольшим количеством объявлений и изучена стоимость кв.м. жилья в них. Наибольшая стоимость кв.м в Санкт-Петербурге, а наим. стоимость кв.м. в Выборге. Также была изучена зависимость цены жилья от расстояния до центра города, выяснилось, что при удалении от центра города стоимость жилья уменьшается"
   ]
  },
  {
   "cell_type": "markdown",
   "metadata": {
    "id": "ME3sTWm6Awb-"
   },
   "source": [
    "- [x]  Файл с данными открыт.\n",
    "- [x]  Файл с данными изучен: выведены первые строки, использован метод `info()`, построены гистограммы.\n",
    "- [x]  Найдены пропущенные значения.\n",
    "- [x]  Пропущенные значения заполнены там, где это возможно.\n",
    "- [x]  Объяснено, какие пропущенные значения обнаружены.\n",
    "- [x]  В каждом столбце установлен корректный тип данных.\n",
    "- [x]  Объяснено, в каких столбцах изменён тип данных и почему.\n",
    "- [x]  Устранены неявные дубликаты в названиях населённых пунктов.\n",
    "- [x]  Обработаны редкие и выбивающиеся значения (аномалии).\n",
    "- [x]  В таблицу добавлены новые параметры:\n",
    "       – цена одного квадратного метра;\n",
    "       – день публикации объявления (0 - понедельник, 1 - вторник и т. д.);\n",
    "       – месяц публикации объявления;\n",
    "       – год публикации объявления;\n",
    "       – тип этажа квартиры (значения — «первый», «последний», «другой»);\n",
    "       – расстояние до центра города в километрах.\n",
    "- [x]  Изучены и описаны параметры:\n",
    "        - общая площадь;\n",
    "        - жилая площадь;\n",
    "        - площадь кухни;\n",
    "        - цена объекта;\n",
    "        - количество комнат;\n",
    "        - высота потолков;\n",
    "        - тип этажа квартиры («первый», «последний», «другой»);\n",
    "        - общее количество этажей в доме;\n",
    "        - расстояние до центра города в метрах;\n",
    "        - расстояние до ближайшего парка.\n",
    "- [x]  Выполнено задание «Изучите, как быстро продавались квартиры (столбец `days_exposition`)»:\n",
    "    - построена гистограмма;\n",
    "    - рассчитаны среднее и медиана;\n",
    "    - описано, сколько обычно занимает продажа и указано, какие продажи можно считать быстрыми, а какие — необычно долгими.\n",
    "- [x]  Выполнено задание «Определите факторы, которые больше всего влияют на общую (полную) стоимость объекта». Построены графики, которые показывают зависимость цены от параметров:\n",
    "        - общая площадь;\n",
    "        - жилая площадь;\n",
    "        - площадь кухни;\n",
    "        - количество комнат;\n",
    "        - тип этажа, на котором расположена квартира (первый, последний, другой);\n",
    "        - дата размещения (день недели, месяц, год).\n",
    "- [X]  Выполнено задание «Посчитайте среднюю цену одного квадратного метра в 10 населённых пунктах с наибольшим числом объявлений»:\n",
    "    - выделены населённые пункты с самой высокой и низкой стоимостью квадратного метра.\n",
    "- [X]  Выполнено задание «Выделите квартиры в Санкт-Петербурге с помощью столбца `locality_name` и вычислите их среднюю стоимость на разном удалении от центра»:\n",
    "    -  учтён каждый километр расстояния, известны средние цены квартир в одном километре от центра, в двух и так далее;\n",
    "    -  описано, как стоимость объекта зависит от расстояния до центра города;\n",
    "    -  построен график изменения средней цены для каждого километра от центра Петербурга.\n",
    "- [X]  На каждом этапе сделаны промежуточные выводы.\n",
    "- [X]  В конце проекта сделан общий вывод."
   ]
  },
  {
   "cell_type": "code",
   "execution_count": null,
   "metadata": {},
   "outputs": [],
   "source": []
  }
 ],
 "metadata": {
  "ExecuteTimeLog": [
   {
    "duration": 420,
    "start_time": "2024-01-23T10:59:15.191Z"
   },
   {
    "duration": 156,
    "start_time": "2024-01-23T10:59:32.377Z"
   },
   {
    "duration": 109,
    "start_time": "2024-01-23T10:59:45.099Z"
   },
   {
    "duration": 455,
    "start_time": "2024-01-23T11:00:30.980Z"
   },
   {
    "duration": 21,
    "start_time": "2024-01-23T11:00:59.575Z"
   },
   {
    "duration": 3,
    "start_time": "2024-01-23T11:01:14.112Z"
   },
   {
    "duration": 460,
    "start_time": "2024-01-23T11:01:21.717Z"
   },
   {
    "duration": 135,
    "start_time": "2024-01-23T11:01:24.627Z"
   },
   {
    "duration": 1693,
    "start_time": "2024-01-23T11:02:10.390Z"
   },
   {
    "duration": 1652,
    "start_time": "2024-01-23T11:02:13.305Z"
   },
   {
    "duration": 1520,
    "start_time": "2024-01-23T11:02:53.037Z"
   },
   {
    "duration": 5,
    "start_time": "2024-01-23T11:03:07.254Z"
   },
   {
    "duration": 59,
    "start_time": "2024-01-23T11:03:59.059Z"
   },
   {
    "duration": 451,
    "start_time": "2024-01-23T11:04:02.759Z"
   },
   {
    "duration": 121,
    "start_time": "2024-01-23T11:04:03.982Z"
   },
   {
    "duration": 1754,
    "start_time": "2024-01-23T11:04:18.913Z"
   },
   {
    "duration": 445,
    "start_time": "2024-01-23T11:06:20.096Z"
   },
   {
    "duration": 168,
    "start_time": "2024-01-23T11:06:22.300Z"
   },
   {
    "duration": 16,
    "start_time": "2024-01-23T11:07:20.308Z"
   },
   {
    "duration": 2715,
    "start_time": "2024-01-23T11:08:11.518Z"
   },
   {
    "duration": 11,
    "start_time": "2024-01-23T11:10:07.310Z"
   },
   {
    "duration": 96,
    "start_time": "2024-01-23T11:11:51.166Z"
   },
   {
    "duration": 7,
    "start_time": "2024-01-23T11:11:58.436Z"
   },
   {
    "duration": 417,
    "start_time": "2024-01-23T11:15:04.604Z"
   },
   {
    "duration": 153,
    "start_time": "2024-01-23T11:15:05.833Z"
   },
   {
    "duration": 15,
    "start_time": "2024-01-23T11:15:07.525Z"
   },
   {
    "duration": 4,
    "start_time": "2024-01-23T11:15:08.975Z"
   },
   {
    "duration": 2559,
    "start_time": "2024-01-23T11:15:11.967Z"
   },
   {
    "duration": 13,
    "start_time": "2024-01-23T11:15:16.980Z"
   },
   {
    "duration": 433,
    "start_time": "2024-01-23T12:52:42.237Z"
   },
   {
    "duration": 151,
    "start_time": "2024-01-23T12:52:44.875Z"
   },
   {
    "duration": 16,
    "start_time": "2024-01-23T12:52:47.325Z"
   },
   {
    "duration": 4,
    "start_time": "2024-01-23T12:52:49.302Z"
   },
   {
    "duration": 2430,
    "start_time": "2024-01-23T12:52:51.375Z"
   },
   {
    "duration": 11,
    "start_time": "2024-01-23T12:52:56.775Z"
   },
   {
    "duration": 5,
    "start_time": "2024-01-23T12:53:08.736Z"
   },
   {
    "duration": 4,
    "start_time": "2024-01-23T12:53:18.868Z"
   },
   {
    "duration": 5,
    "start_time": "2024-01-23T12:53:26.435Z"
   },
   {
    "duration": 29,
    "start_time": "2024-01-23T12:53:45.865Z"
   },
   {
    "duration": 5,
    "start_time": "2024-01-23T12:53:57.915Z"
   },
   {
    "duration": 5,
    "start_time": "2024-01-23T12:54:06.598Z"
   },
   {
    "duration": 10,
    "start_time": "2024-01-23T12:54:31.535Z"
   },
   {
    "duration": 15,
    "start_time": "2024-01-23T12:54:41.336Z"
   },
   {
    "duration": 9,
    "start_time": "2024-01-23T12:54:51.466Z"
   },
   {
    "duration": 389,
    "start_time": "2024-01-23T13:13:17.512Z"
   },
   {
    "duration": 161,
    "start_time": "2024-01-23T13:13:17.903Z"
   },
   {
    "duration": 17,
    "start_time": "2024-01-23T13:13:18.065Z"
   },
   {
    "duration": 7,
    "start_time": "2024-01-23T13:13:18.084Z"
   },
   {
    "duration": 2510,
    "start_time": "2024-01-23T13:13:18.092Z"
   },
   {
    "duration": 11,
    "start_time": "2024-01-23T13:13:20.603Z"
   },
   {
    "duration": 5,
    "start_time": "2024-01-23T13:13:20.615Z"
   },
   {
    "duration": 5,
    "start_time": "2024-01-23T13:13:20.622Z"
   },
   {
    "duration": 6,
    "start_time": "2024-01-23T13:13:20.629Z"
   },
   {
    "duration": 37,
    "start_time": "2024-01-23T13:13:20.638Z"
   },
   {
    "duration": 5,
    "start_time": "2024-01-23T13:13:20.678Z"
   },
   {
    "duration": 4,
    "start_time": "2024-01-23T13:13:20.685Z"
   },
   {
    "duration": 10,
    "start_time": "2024-01-23T13:13:20.691Z"
   },
   {
    "duration": 10,
    "start_time": "2024-01-23T13:13:20.702Z"
   },
   {
    "duration": 17,
    "start_time": "2024-01-23T13:13:20.713Z"
   },
   {
    "duration": 43,
    "start_time": "2024-01-23T13:13:20.731Z"
   },
   {
    "duration": 44,
    "start_time": "2024-01-23T13:13:35.632Z"
   },
   {
    "duration": 7,
    "start_time": "2024-01-23T13:56:49.159Z"
   },
   {
    "duration": 6,
    "start_time": "2024-01-23T13:58:47.252Z"
   },
   {
    "duration": 2939,
    "start_time": "2024-01-23T13:59:15.862Z"
   },
   {
    "duration": 0,
    "start_time": "2024-01-23T13:59:18.802Z"
   },
   {
    "duration": 409,
    "start_time": "2024-01-23T13:59:25.036Z"
   },
   {
    "duration": 150,
    "start_time": "2024-01-23T13:59:25.447Z"
   },
   {
    "duration": 14,
    "start_time": "2024-01-23T13:59:25.599Z"
   },
   {
    "duration": 14,
    "start_time": "2024-01-23T13:59:25.615Z"
   },
   {
    "duration": 2459,
    "start_time": "2024-01-23T13:59:25.631Z"
   },
   {
    "duration": 14,
    "start_time": "2024-01-23T13:59:28.095Z"
   },
   {
    "duration": 4,
    "start_time": "2024-01-23T13:59:28.110Z"
   },
   {
    "duration": 14,
    "start_time": "2024-01-23T13:59:28.116Z"
   },
   {
    "duration": 13,
    "start_time": "2024-01-23T13:59:28.132Z"
   },
   {
    "duration": 39,
    "start_time": "2024-01-23T13:59:28.147Z"
   },
   {
    "duration": 4,
    "start_time": "2024-01-23T13:59:28.189Z"
   },
   {
    "duration": 8,
    "start_time": "2024-01-23T13:59:28.194Z"
   },
   {
    "duration": 14,
    "start_time": "2024-01-23T13:59:28.203Z"
   },
   {
    "duration": 8,
    "start_time": "2024-01-23T13:59:28.220Z"
   },
   {
    "duration": 23,
    "start_time": "2024-01-23T13:59:28.230Z"
   },
   {
    "duration": 22,
    "start_time": "2024-01-23T13:59:28.254Z"
   },
   {
    "duration": 10,
    "start_time": "2024-01-23T13:59:28.278Z"
   },
   {
    "duration": 40,
    "start_time": "2024-01-23T13:59:28.289Z"
   },
   {
    "duration": 10796,
    "start_time": "2024-01-23T13:59:28.330Z"
   },
   {
    "duration": 6,
    "start_time": "2024-01-23T13:59:39.128Z"
   },
   {
    "duration": 6,
    "start_time": "2024-01-23T13:59:48.812Z"
   },
   {
    "duration": 23,
    "start_time": "2024-01-23T14:38:48.450Z"
   },
   {
    "duration": 48,
    "start_time": "2024-01-23T14:39:00.325Z"
   },
   {
    "duration": 388,
    "start_time": "2024-01-23T14:40:02.616Z"
   },
   {
    "duration": 131,
    "start_time": "2024-01-23T14:40:03.006Z"
   },
   {
    "duration": 15,
    "start_time": "2024-01-23T14:40:03.139Z"
   },
   {
    "duration": 4,
    "start_time": "2024-01-23T14:40:03.155Z"
   },
   {
    "duration": 2436,
    "start_time": "2024-01-23T14:40:03.174Z"
   },
   {
    "duration": 10,
    "start_time": "2024-01-23T14:40:05.611Z"
   },
   {
    "duration": 4,
    "start_time": "2024-01-23T14:40:05.623Z"
   },
   {
    "duration": 19,
    "start_time": "2024-01-23T14:40:05.629Z"
   },
   {
    "duration": 11,
    "start_time": "2024-01-23T14:40:05.650Z"
   },
   {
    "duration": 27,
    "start_time": "2024-01-23T14:40:05.663Z"
   },
   {
    "duration": 5,
    "start_time": "2024-01-23T14:40:05.691Z"
   },
   {
    "duration": 9,
    "start_time": "2024-01-23T14:40:05.697Z"
   },
   {
    "duration": 9,
    "start_time": "2024-01-23T14:40:05.707Z"
   },
   {
    "duration": 8,
    "start_time": "2024-01-23T14:40:05.719Z"
   },
   {
    "duration": 17,
    "start_time": "2024-01-23T14:40:05.728Z"
   },
   {
    "duration": 11,
    "start_time": "2024-01-23T14:40:05.747Z"
   },
   {
    "duration": 7,
    "start_time": "2024-01-23T14:40:05.773Z"
   },
   {
    "duration": 7,
    "start_time": "2024-01-23T14:40:05.781Z"
   },
   {
    "duration": 10795,
    "start_time": "2024-01-23T14:40:05.789Z"
   },
   {
    "duration": 6,
    "start_time": "2024-01-23T14:40:16.586Z"
   },
   {
    "duration": 10,
    "start_time": "2024-01-23T14:40:16.593Z"
   },
   {
    "duration": 27,
    "start_time": "2024-01-23T14:40:16.604Z"
   },
   {
    "duration": 60,
    "start_time": "2024-01-23T14:40:16.633Z"
   },
   {
    "duration": 140,
    "start_time": "2024-01-23T14:56:51.050Z"
   },
   {
    "duration": 116,
    "start_time": "2024-01-23T15:08:08.769Z"
   },
   {
    "duration": 149,
    "start_time": "2024-01-23T15:08:40.510Z"
   },
   {
    "duration": 141,
    "start_time": "2024-01-23T15:08:45.117Z"
   },
   {
    "duration": 112,
    "start_time": "2024-01-23T15:08:48.994Z"
   },
   {
    "duration": 11,
    "start_time": "2024-01-23T15:08:51.553Z"
   },
   {
    "duration": 249,
    "start_time": "2024-01-23T15:09:00.507Z"
   },
   {
    "duration": 95,
    "start_time": "2024-01-23T15:10:17.571Z"
   },
   {
    "duration": 9,
    "start_time": "2024-01-23T15:10:28.034Z"
   },
   {
    "duration": 6,
    "start_time": "2024-01-23T15:10:30.290Z"
   },
   {
    "duration": 398,
    "start_time": "2024-01-23T15:10:37.996Z"
   },
   {
    "duration": 130,
    "start_time": "2024-01-23T15:10:38.396Z"
   },
   {
    "duration": 16,
    "start_time": "2024-01-23T15:10:38.527Z"
   },
   {
    "duration": 4,
    "start_time": "2024-01-23T15:10:38.544Z"
   },
   {
    "duration": 2403,
    "start_time": "2024-01-23T15:10:38.550Z"
   },
   {
    "duration": 10,
    "start_time": "2024-01-23T15:10:40.955Z"
   },
   {
    "duration": 11,
    "start_time": "2024-01-23T15:10:40.966Z"
   },
   {
    "duration": 4,
    "start_time": "2024-01-23T15:10:40.979Z"
   },
   {
    "duration": 26,
    "start_time": "2024-01-23T15:10:40.985Z"
   },
   {
    "duration": 40,
    "start_time": "2024-01-23T15:10:41.013Z"
   },
   {
    "duration": 4,
    "start_time": "2024-01-23T15:10:41.055Z"
   },
   {
    "duration": 13,
    "start_time": "2024-01-23T15:10:41.060Z"
   },
   {
    "duration": 9,
    "start_time": "2024-01-23T15:10:41.074Z"
   },
   {
    "duration": 10,
    "start_time": "2024-01-23T15:10:41.085Z"
   },
   {
    "duration": 18,
    "start_time": "2024-01-23T15:10:41.097Z"
   },
   {
    "duration": 8,
    "start_time": "2024-01-23T15:10:41.116Z"
   },
   {
    "duration": 7,
    "start_time": "2024-01-23T15:10:41.125Z"
   },
   {
    "duration": 5,
    "start_time": "2024-01-23T15:10:41.133Z"
   },
   {
    "duration": 10791,
    "start_time": "2024-01-23T15:10:41.140Z"
   },
   {
    "duration": 6,
    "start_time": "2024-01-23T15:10:51.933Z"
   },
   {
    "duration": 9,
    "start_time": "2024-01-23T15:10:51.941Z"
   },
   {
    "duration": 34,
    "start_time": "2024-01-23T15:10:51.952Z"
   },
   {
    "duration": 45,
    "start_time": "2024-01-23T15:10:51.987Z"
   },
   {
    "duration": 181,
    "start_time": "2024-01-23T15:10:52.033Z"
   },
   {
    "duration": 113,
    "start_time": "2024-01-23T15:10:52.216Z"
   },
   {
    "duration": 9,
    "start_time": "2024-01-23T15:10:52.331Z"
   },
   {
    "duration": 10,
    "start_time": "2024-01-23T15:10:52.341Z"
   },
   {
    "duration": 139,
    "start_time": "2024-01-23T15:15:59.183Z"
   },
   {
    "duration": 153,
    "start_time": "2024-01-23T15:16:06.965Z"
   },
   {
    "duration": 8,
    "start_time": "2024-01-23T15:16:14.294Z"
   },
   {
    "duration": 8,
    "start_time": "2024-01-23T15:19:46.860Z"
   },
   {
    "duration": 399,
    "start_time": "2024-01-23T15:21:50.037Z"
   },
   {
    "duration": 131,
    "start_time": "2024-01-23T15:21:50.438Z"
   },
   {
    "duration": 16,
    "start_time": "2024-01-23T15:21:50.571Z"
   },
   {
    "duration": 28,
    "start_time": "2024-01-23T15:21:50.588Z"
   },
   {
    "duration": 2439,
    "start_time": "2024-01-23T15:21:50.618Z"
   },
   {
    "duration": 10,
    "start_time": "2024-01-23T15:21:53.059Z"
   },
   {
    "duration": 30,
    "start_time": "2024-01-23T15:21:53.071Z"
   },
   {
    "duration": 27,
    "start_time": "2024-01-23T15:21:53.102Z"
   },
   {
    "duration": 7,
    "start_time": "2024-01-23T15:21:53.130Z"
   },
   {
    "duration": 39,
    "start_time": "2024-01-23T15:21:53.138Z"
   },
   {
    "duration": 6,
    "start_time": "2024-01-23T15:21:53.179Z"
   },
   {
    "duration": 10,
    "start_time": "2024-01-23T15:21:53.186Z"
   },
   {
    "duration": 17,
    "start_time": "2024-01-23T15:21:53.197Z"
   },
   {
    "duration": 9,
    "start_time": "2024-01-23T15:21:53.217Z"
   },
   {
    "duration": 14,
    "start_time": "2024-01-23T15:21:53.228Z"
   },
   {
    "duration": 8,
    "start_time": "2024-01-23T15:21:53.244Z"
   },
   {
    "duration": 26,
    "start_time": "2024-01-23T15:21:53.253Z"
   },
   {
    "duration": 15,
    "start_time": "2024-01-23T15:21:53.280Z"
   },
   {
    "duration": 10718,
    "start_time": "2024-01-23T15:21:53.296Z"
   },
   {
    "duration": 7,
    "start_time": "2024-01-23T15:22:04.015Z"
   },
   {
    "duration": 10,
    "start_time": "2024-01-23T15:22:04.023Z"
   },
   {
    "duration": 21,
    "start_time": "2024-01-23T15:22:04.035Z"
   },
   {
    "duration": 65,
    "start_time": "2024-01-23T15:22:04.057Z"
   },
   {
    "duration": 194,
    "start_time": "2024-01-23T15:22:04.124Z"
   },
   {
    "duration": 118,
    "start_time": "2024-01-23T15:22:04.320Z"
   },
   {
    "duration": 8,
    "start_time": "2024-01-23T15:22:04.440Z"
   },
   {
    "duration": 23,
    "start_time": "2024-01-23T15:22:04.450Z"
   },
   {
    "duration": 145,
    "start_time": "2024-01-23T15:22:04.474Z"
   },
   {
    "duration": 129,
    "start_time": "2024-01-23T15:22:04.620Z"
   },
   {
    "duration": 8,
    "start_time": "2024-01-23T15:22:04.750Z"
   },
   {
    "duration": 18,
    "start_time": "2024-01-23T15:22:04.760Z"
   },
   {
    "duration": 87,
    "start_time": "2024-01-23T15:22:04.779Z"
   },
   {
    "duration": 7,
    "start_time": "2024-01-23T15:23:12.957Z"
   },
   {
    "duration": 420,
    "start_time": "2024-01-23T15:23:17.468Z"
   },
   {
    "duration": 131,
    "start_time": "2024-01-23T15:23:17.890Z"
   },
   {
    "duration": 15,
    "start_time": "2024-01-23T15:23:18.022Z"
   },
   {
    "duration": 13,
    "start_time": "2024-01-23T15:23:18.039Z"
   },
   {
    "duration": 2436,
    "start_time": "2024-01-23T15:23:18.054Z"
   },
   {
    "duration": 10,
    "start_time": "2024-01-23T15:23:20.491Z"
   },
   {
    "duration": 14,
    "start_time": "2024-01-23T15:23:20.503Z"
   },
   {
    "duration": 5,
    "start_time": "2024-01-23T15:23:20.519Z"
   },
   {
    "duration": 9,
    "start_time": "2024-01-23T15:23:20.526Z"
   },
   {
    "duration": 39,
    "start_time": "2024-01-23T15:23:20.537Z"
   },
   {
    "duration": 5,
    "start_time": "2024-01-23T15:23:20.577Z"
   },
   {
    "duration": 12,
    "start_time": "2024-01-23T15:23:20.584Z"
   },
   {
    "duration": 19,
    "start_time": "2024-01-23T15:23:20.598Z"
   },
   {
    "duration": 9,
    "start_time": "2024-01-23T15:23:20.620Z"
   },
   {
    "duration": 39,
    "start_time": "2024-01-23T15:23:20.630Z"
   },
   {
    "duration": 9,
    "start_time": "2024-01-23T15:23:20.671Z"
   },
   {
    "duration": 6,
    "start_time": "2024-01-23T15:23:20.683Z"
   },
   {
    "duration": 10,
    "start_time": "2024-01-23T15:23:20.691Z"
   },
   {
    "duration": 10896,
    "start_time": "2024-01-23T15:23:20.702Z"
   },
   {
    "duration": 7,
    "start_time": "2024-01-23T15:23:31.599Z"
   },
   {
    "duration": 33,
    "start_time": "2024-01-23T15:23:31.607Z"
   },
   {
    "duration": 48,
    "start_time": "2024-01-23T15:23:31.642Z"
   },
   {
    "duration": 56,
    "start_time": "2024-01-23T15:23:31.692Z"
   },
   {
    "duration": 163,
    "start_time": "2024-01-23T15:23:31.750Z"
   },
   {
    "duration": 125,
    "start_time": "2024-01-23T15:23:31.914Z"
   },
   {
    "duration": 9,
    "start_time": "2024-01-23T15:23:32.041Z"
   },
   {
    "duration": 24,
    "start_time": "2024-01-23T15:23:32.051Z"
   },
   {
    "duration": 154,
    "start_time": "2024-01-23T15:23:32.076Z"
   },
   {
    "duration": 127,
    "start_time": "2024-01-23T15:23:32.232Z"
   },
   {
    "duration": 13,
    "start_time": "2024-01-23T15:23:32.361Z"
   },
   {
    "duration": 22,
    "start_time": "2024-01-23T15:23:32.376Z"
   },
   {
    "duration": 150,
    "start_time": "2024-01-23T15:25:44.799Z"
   },
   {
    "duration": 185,
    "start_time": "2024-01-23T15:25:52.528Z"
   },
   {
    "duration": 10,
    "start_time": "2024-01-23T15:26:00.157Z"
   },
   {
    "duration": 97,
    "start_time": "2024-01-23T15:27:53.292Z"
   },
   {
    "duration": 7,
    "start_time": "2024-01-23T15:28:47.397Z"
   },
   {
    "duration": 150,
    "start_time": "2024-01-23T15:36:32.940Z"
   },
   {
    "duration": 8,
    "start_time": "2024-01-23T15:36:42.541Z"
   },
   {
    "duration": 128,
    "start_time": "2024-01-23T15:36:51.348Z"
   },
   {
    "duration": 12,
    "start_time": "2024-01-23T15:41:38.277Z"
   },
   {
    "duration": 159,
    "start_time": "2024-01-23T15:44:32.611Z"
   },
   {
    "duration": 119,
    "start_time": "2024-01-23T15:44:40.344Z"
   },
   {
    "duration": 8,
    "start_time": "2024-01-23T15:44:48.541Z"
   },
   {
    "duration": 9,
    "start_time": "2024-01-23T15:46:08.213Z"
   },
   {
    "duration": 135,
    "start_time": "2024-01-23T16:47:11.023Z"
   },
   {
    "duration": 195,
    "start_time": "2024-01-23T16:47:25.280Z"
   },
   {
    "duration": 126,
    "start_time": "2024-01-23T16:47:28.963Z"
   },
   {
    "duration": 10,
    "start_time": "2024-01-23T16:47:44.531Z"
   },
   {
    "duration": 17,
    "start_time": "2024-01-23T16:47:52.106Z"
   },
   {
    "duration": 149,
    "start_time": "2024-01-23T16:50:04.207Z"
   },
   {
    "duration": 133,
    "start_time": "2024-01-23T16:50:10.943Z"
   },
   {
    "duration": 195,
    "start_time": "2024-01-23T16:53:52.225Z"
   },
   {
    "duration": 114,
    "start_time": "2024-01-23T16:53:59.400Z"
   },
   {
    "duration": 10,
    "start_time": "2024-01-23T16:54:07.412Z"
   },
   {
    "duration": 287,
    "start_time": "2024-01-23T16:59:02.992Z"
   },
   {
    "duration": 9,
    "start_time": "2024-01-23T16:59:11.166Z"
   },
   {
    "duration": 128,
    "start_time": "2024-01-23T16:59:18.672Z"
   },
   {
    "duration": 177,
    "start_time": "2024-01-23T17:02:54.105Z"
   },
   {
    "duration": 10,
    "start_time": "2024-01-23T17:03:07.619Z"
   },
   {
    "duration": 110,
    "start_time": "2024-01-23T17:03:17.348Z"
   },
   {
    "duration": 168,
    "start_time": "2024-01-23T17:03:32.158Z"
   },
   {
    "duration": 216,
    "start_time": "2024-01-23T17:07:22.824Z"
   },
   {
    "duration": 9,
    "start_time": "2024-01-23T17:07:30.759Z"
   },
   {
    "duration": 127,
    "start_time": "2024-01-23T17:10:41.227Z"
   },
   {
    "duration": 194,
    "start_time": "2024-01-23T17:42:02.135Z"
   },
   {
    "duration": 6,
    "start_time": "2024-01-23T17:44:19.614Z"
   },
   {
    "duration": 76,
    "start_time": "2024-01-23T17:45:59.534Z"
   },
   {
    "duration": 180,
    "start_time": "2024-01-23T17:46:48.279Z"
   },
   {
    "duration": 6,
    "start_time": "2024-01-23T17:47:02.132Z"
   },
   {
    "duration": 195,
    "start_time": "2024-01-23T17:47:54.495Z"
   },
   {
    "duration": 184,
    "start_time": "2024-01-23T17:48:03.185Z"
   },
   {
    "duration": 180,
    "start_time": "2024-01-23T17:49:24.712Z"
   },
   {
    "duration": 5,
    "start_time": "2024-01-23T17:49:32.759Z"
   },
   {
    "duration": 192,
    "start_time": "2024-01-23T18:02:37.648Z"
   },
   {
    "duration": 7,
    "start_time": "2024-01-23T18:02:51.070Z"
   },
   {
    "duration": 206,
    "start_time": "2024-01-23T18:10:48.103Z"
   },
   {
    "duration": 202,
    "start_time": "2024-01-23T18:15:43.981Z"
   },
   {
    "duration": 274,
    "start_time": "2024-01-23T18:15:51.969Z"
   },
   {
    "duration": 160,
    "start_time": "2024-01-23T18:23:36.885Z"
   },
   {
    "duration": 93,
    "start_time": "2024-01-23T18:26:19.488Z"
   },
   {
    "duration": 153,
    "start_time": "2024-01-23T18:27:25.901Z"
   },
   {
    "duration": 102,
    "start_time": "2024-01-23T18:28:19.302Z"
   },
   {
    "duration": 155,
    "start_time": "2024-01-23T18:28:51.149Z"
   },
   {
    "duration": 150,
    "start_time": "2024-01-23T18:29:41.694Z"
   },
   {
    "duration": 91,
    "start_time": "2024-01-23T18:30:16.948Z"
   },
   {
    "duration": 95,
    "start_time": "2024-01-23T18:32:01.174Z"
   },
   {
    "duration": 31,
    "start_time": "2024-01-23T19:11:08.166Z"
   },
   {
    "duration": 77,
    "start_time": "2024-01-23T19:12:12.270Z"
   },
   {
    "duration": 6,
    "start_time": "2024-01-23T19:12:17.385Z"
   },
   {
    "duration": 33,
    "start_time": "2024-01-23T19:13:16.429Z"
   },
   {
    "duration": 28,
    "start_time": "2024-01-23T19:13:19.855Z"
   },
   {
    "duration": 28,
    "start_time": "2024-01-23T19:13:42.179Z"
   },
   {
    "duration": 5,
    "start_time": "2024-01-23T19:13:53.248Z"
   },
   {
    "duration": 4,
    "start_time": "2024-01-23T19:14:49.517Z"
   },
   {
    "duration": 21,
    "start_time": "2024-01-23T19:21:39.633Z"
   },
   {
    "duration": 172,
    "start_time": "2024-01-23T19:23:35.799Z"
   },
   {
    "duration": 104,
    "start_time": "2024-01-24T07:10:20.584Z"
   },
   {
    "duration": 110,
    "start_time": "2024-01-24T10:54:28.528Z"
   },
   {
    "duration": 47,
    "start_time": "2024-01-24T11:10:27.925Z"
   },
   {
    "duration": 476,
    "start_time": "2024-01-24T11:10:34.156Z"
   },
   {
    "duration": 344,
    "start_time": "2024-01-24T11:10:35.166Z"
   },
   {
    "duration": 16,
    "start_time": "2024-01-24T11:10:37.033Z"
   },
   {
    "duration": 4,
    "start_time": "2024-01-24T11:10:39.416Z"
   },
   {
    "duration": 2718,
    "start_time": "2024-01-24T11:10:40.914Z"
   },
   {
    "duration": 13,
    "start_time": "2024-01-24T11:10:43.634Z"
   },
   {
    "duration": 6,
    "start_time": "2024-01-24T11:10:48.080Z"
   },
   {
    "duration": 4,
    "start_time": "2024-01-24T11:10:48.650Z"
   },
   {
    "duration": 6,
    "start_time": "2024-01-24T11:10:48.954Z"
   },
   {
    "duration": 29,
    "start_time": "2024-01-24T11:10:49.357Z"
   },
   {
    "duration": 5,
    "start_time": "2024-01-24T11:10:50.129Z"
   },
   {
    "duration": 5,
    "start_time": "2024-01-24T11:10:50.563Z"
   },
   {
    "duration": 11,
    "start_time": "2024-01-24T11:10:52.192Z"
   },
   {
    "duration": 9,
    "start_time": "2024-01-24T11:10:52.528Z"
   },
   {
    "duration": 15,
    "start_time": "2024-01-24T11:10:53.013Z"
   },
   {
    "duration": 11,
    "start_time": "2024-01-24T11:10:55.413Z"
   },
   {
    "duration": 451,
    "start_time": "2024-01-24T11:11:05.661Z"
   },
   {
    "duration": 175,
    "start_time": "2024-01-24T11:11:07.030Z"
   },
   {
    "duration": 17,
    "start_time": "2024-01-24T11:11:07.572Z"
   },
   {
    "duration": 4,
    "start_time": "2024-01-24T11:11:08.428Z"
   },
   {
    "duration": 2684,
    "start_time": "2024-01-24T11:11:08.884Z"
   },
   {
    "duration": 11,
    "start_time": "2024-01-24T11:11:11.570Z"
   },
   {
    "duration": 6,
    "start_time": "2024-01-24T11:11:12.710Z"
   },
   {
    "duration": 4,
    "start_time": "2024-01-24T11:11:13.048Z"
   },
   {
    "duration": 7,
    "start_time": "2024-01-24T11:11:13.272Z"
   },
   {
    "duration": 39,
    "start_time": "2024-01-24T11:11:13.528Z"
   },
   {
    "duration": 8,
    "start_time": "2024-01-24T11:11:13.886Z"
   },
   {
    "duration": 5,
    "start_time": "2024-01-24T11:11:14.333Z"
   },
   {
    "duration": 10,
    "start_time": "2024-01-24T11:11:15.861Z"
   },
   {
    "duration": 10,
    "start_time": "2024-01-24T11:11:16.313Z"
   },
   {
    "duration": 16,
    "start_time": "2024-01-24T11:11:17.246Z"
   },
   {
    "duration": 10,
    "start_time": "2024-01-24T11:11:17.805Z"
   },
   {
    "duration": 7,
    "start_time": "2024-01-24T11:11:21.220Z"
   },
   {
    "duration": 5,
    "start_time": "2024-01-24T11:11:21.727Z"
   },
   {
    "duration": 11474,
    "start_time": "2024-01-24T11:11:22.342Z"
   },
   {
    "duration": 10,
    "start_time": "2024-01-24T11:11:33.819Z"
   },
   {
    "duration": 42,
    "start_time": "2024-01-24T11:11:33.831Z"
   },
   {
    "duration": 34,
    "start_time": "2024-01-24T11:11:37.469Z"
   },
   {
    "duration": 30,
    "start_time": "2024-01-24T11:11:49.194Z"
   },
   {
    "duration": 90,
    "start_time": "2024-01-24T11:13:52.199Z"
   },
   {
    "duration": 7,
    "start_time": "2024-01-24T11:17:17.901Z"
   },
   {
    "duration": 493,
    "start_time": "2024-01-24T11:17:26.647Z"
   },
   {
    "duration": 143,
    "start_time": "2024-01-24T11:17:27.716Z"
   },
   {
    "duration": 16,
    "start_time": "2024-01-24T11:17:28.626Z"
   },
   {
    "duration": 4,
    "start_time": "2024-01-24T11:17:30.519Z"
   },
   {
    "duration": 2618,
    "start_time": "2024-01-24T11:17:31.134Z"
   },
   {
    "duration": 10,
    "start_time": "2024-01-24T11:17:33.754Z"
   },
   {
    "duration": 5,
    "start_time": "2024-01-24T11:17:36.828Z"
   },
   {
    "duration": 3,
    "start_time": "2024-01-24T11:17:37.279Z"
   },
   {
    "duration": 6,
    "start_time": "2024-01-24T11:17:37.505Z"
   },
   {
    "duration": 30,
    "start_time": "2024-01-24T11:17:37.716Z"
   },
   {
    "duration": 6,
    "start_time": "2024-01-24T11:17:37.899Z"
   },
   {
    "duration": 4,
    "start_time": "2024-01-24T11:17:38.337Z"
   },
   {
    "duration": 10,
    "start_time": "2024-01-24T11:17:38.712Z"
   },
   {
    "duration": 9,
    "start_time": "2024-01-24T11:17:38.918Z"
   },
   {
    "duration": 14,
    "start_time": "2024-01-24T11:17:39.546Z"
   },
   {
    "duration": 9,
    "start_time": "2024-01-24T11:17:39.889Z"
   },
   {
    "duration": 7,
    "start_time": "2024-01-24T11:17:41.508Z"
   },
   {
    "duration": 6,
    "start_time": "2024-01-24T11:17:42.400Z"
   },
   {
    "duration": 11171,
    "start_time": "2024-01-24T11:17:43.031Z"
   },
   {
    "duration": 7,
    "start_time": "2024-01-24T11:17:54.204Z"
   },
   {
    "duration": 13,
    "start_time": "2024-01-24T11:17:54.212Z"
   },
   {
    "duration": 41,
    "start_time": "2024-01-24T11:17:54.227Z"
   },
   {
    "duration": 22,
    "start_time": "2024-01-24T11:17:59.641Z"
   },
   {
    "duration": 51,
    "start_time": "2024-01-24T11:18:01.421Z"
   },
   {
    "duration": 186,
    "start_time": "2024-01-24T11:18:04.865Z"
   },
   {
    "duration": 135,
    "start_time": "2024-01-24T11:18:06.990Z"
   },
   {
    "duration": 9,
    "start_time": "2024-01-24T11:18:07.999Z"
   },
   {
    "duration": 11,
    "start_time": "2024-01-24T11:18:10.473Z"
   },
   {
    "duration": 147,
    "start_time": "2024-01-24T11:18:11.482Z"
   },
   {
    "duration": 127,
    "start_time": "2024-01-24T11:18:13.376Z"
   },
   {
    "duration": 10,
    "start_time": "2024-01-24T11:18:14.756Z"
   },
   {
    "duration": 7,
    "start_time": "2024-01-24T11:18:16.600Z"
   },
   {
    "duration": 153,
    "start_time": "2024-01-24T11:18:18.073Z"
   },
   {
    "duration": 195,
    "start_time": "2024-01-24T11:18:18.648Z"
   },
   {
    "duration": 10,
    "start_time": "2024-01-24T11:18:19.341Z"
   },
   {
    "duration": 8,
    "start_time": "2024-01-24T11:18:20.491Z"
   },
   {
    "duration": 150,
    "start_time": "2024-01-24T11:18:21.889Z"
   },
   {
    "duration": 9,
    "start_time": "2024-01-24T11:18:22.420Z"
   },
   {
    "duration": 136,
    "start_time": "2024-01-24T11:18:23.973Z"
   },
   {
    "duration": 10,
    "start_time": "2024-01-24T11:18:24.742Z"
   },
   {
    "duration": 162,
    "start_time": "2024-01-24T11:18:25.644Z"
   },
   {
    "duration": 134,
    "start_time": "2024-01-24T11:18:27.101Z"
   },
   {
    "duration": 10,
    "start_time": "2024-01-24T11:18:28.609Z"
   },
   {
    "duration": 10,
    "start_time": "2024-01-24T11:18:29.418Z"
   },
   {
    "duration": 192,
    "start_time": "2024-01-24T11:18:30.380Z"
   },
   {
    "duration": 152,
    "start_time": "2024-01-24T11:18:32.172Z"
   },
   {
    "duration": 10,
    "start_time": "2024-01-24T11:18:33.831Z"
   },
   {
    "duration": 11,
    "start_time": "2024-01-24T11:18:35.033Z"
   },
   {
    "duration": 132,
    "start_time": "2024-01-24T11:18:35.647Z"
   },
   {
    "duration": 173,
    "start_time": "2024-01-24T11:18:37.082Z"
   },
   {
    "duration": 121,
    "start_time": "2024-01-24T11:18:45.393Z"
   },
   {
    "duration": 10,
    "start_time": "2024-01-24T11:18:46.715Z"
   },
   {
    "duration": 204,
    "start_time": "2024-01-24T11:18:48.779Z"
   },
   {
    "duration": 10,
    "start_time": "2024-01-24T11:18:50.309Z"
   },
   {
    "duration": 123,
    "start_time": "2024-01-24T11:18:51.008Z"
   },
   {
    "duration": 277,
    "start_time": "2024-01-24T11:18:54.487Z"
   },
   {
    "duration": 10,
    "start_time": "2024-01-24T11:18:55.363Z"
   },
   {
    "duration": 121,
    "start_time": "2024-01-24T11:18:55.961Z"
   },
   {
    "duration": 76,
    "start_time": "2024-01-24T11:18:59.413Z"
   },
   {
    "duration": 4,
    "start_time": "2024-01-24T11:19:04.333Z"
   },
   {
    "duration": 4,
    "start_time": "2024-01-24T11:19:25.844Z"
   },
   {
    "duration": 91,
    "start_time": "2024-01-24T11:29:25.768Z"
   }
  ],
  "colab": {
   "provenance": []
  },
  "kernelspec": {
   "display_name": "Python 3 (ipykernel)",
   "language": "python",
   "name": "python3"
  },
  "language_info": {
   "codemirror_mode": {
    "name": "ipython",
    "version": 3
   },
   "file_extension": ".py",
   "mimetype": "text/x-python",
   "name": "python",
   "nbconvert_exporter": "python",
   "pygments_lexer": "ipython3",
   "version": "3.9.5"
  },
  "toc": {
   "base_numbering": 1,
   "nav_menu": {},
   "number_sections": true,
   "sideBar": true,
   "skip_h1_title": true,
   "title_cell": "Table of Contents",
   "title_sidebar": "Contents",
   "toc_cell": false,
   "toc_position": {},
   "toc_section_display": true,
   "toc_window_display": false
  }
 },
 "nbformat": 4,
 "nbformat_minor": 1
}
