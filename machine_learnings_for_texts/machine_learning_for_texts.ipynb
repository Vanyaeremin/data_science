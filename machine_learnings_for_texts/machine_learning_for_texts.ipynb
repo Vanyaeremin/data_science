{
 "cells": [
  {
   "cell_type": "markdown",
   "metadata": {
    "toc": true
   },
   "source": [
    "<h1>Содержание<span class=\"tocSkip\"></span></h1>\n",
    "<div class=\"toc\"><ul class=\"toc-item\"><li><span><a href=\"#Подготовка\" data-toc-modified-id=\"Подготовка-1\"><span class=\"toc-item-num\">1&nbsp;&nbsp;</span>Подготовка</a></span></li><li><span><a href=\"#Обучение\" data-toc-modified-id=\"Обучение-2\"><span class=\"toc-item-num\">2&nbsp;&nbsp;</span>Обучение</a></span></li><li><span><a href=\"#Выводы\" data-toc-modified-id=\"Выводы-3\"><span class=\"toc-item-num\">3&nbsp;&nbsp;</span>Выводы</a></span></li><li><span><a href=\"#Чек-лист-проверки\" data-toc-modified-id=\"Чек-лист-проверки-4\"><span class=\"toc-item-num\">4&nbsp;&nbsp;</span>Чек-лист проверки</a></span></li></ul></div>"
   ]
  },
  {
   "cell_type": "markdown",
   "metadata": {},
   "source": [
    "# Проект для «Викишоп»"
   ]
  },
  {
   "cell_type": "markdown",
   "metadata": {},
   "source": [
    "Интернет-магазин «Викишоп» запускает новый сервис. Теперь пользователи могут редактировать и дополнять описания товаров, как в вики-сообществах. То есть клиенты предлагают свои правки и комментируют изменения других. Магазину нужен инструмент, который будет искать токсичные комментарии и отправлять их на модерацию. \n",
    "\n",
    "Обучите модель классифицировать комментарии на позитивные и негативные. В вашем распоряжении набор данных с разметкой о токсичности правок.\n",
    "\n",
    "Постройте модель со значением метрики качества *F1* не меньше 0.75. \n",
    "\n",
    "**Инструкция по выполнению проекта**\n",
    "\n",
    "1. Загрузите и подготовьте данные.\n",
    "2. Обучите разные модели. \n",
    "3. Сделайте выводы.\n",
    "\n",
    "Для выполнения проекта применять *BERT* необязательно, но вы можете попробовать.\n",
    "\n",
    "**Описание данных**\n",
    "\n",
    "Данные находятся в файле `toxic_comments.csv`. Столбец *text* в нём содержит текст комментария, а *toxic* — целевой признак."
   ]
  },
  {
   "cell_type": "markdown",
   "metadata": {},
   "source": [
    "## Подготовка"
   ]
  },
  {
   "cell_type": "code",
   "execution_count": 1,
   "metadata": {},
   "outputs": [],
   "source": [
    "import pandas as pd\n",
    "\n",
    "from nltk.stem import WordNetLemmatizer\n",
    "import re\n",
    "from nltk.corpus import stopwords\n",
    "from nltk.corpus import wordnet\n",
    "from sklearn.feature_extraction.text import TfidfVectorizer\n",
    "\n",
    "from sklearn.pipeline import Pipeline\n",
    "from sklearn.linear_model import LogisticRegression\n",
    "from sklearn.model_selection import GridSearchCV\n",
    "from catboost import CatBoostClassifier\n",
    "from sklearn.metrics import f1_score\n",
    "from sklearn.model_selection import train_test_split\n",
    "\n",
    "from tqdm.notebook import tqdm"
   ]
  },
  {
   "cell_type": "code",
   "execution_count": 2,
   "metadata": {},
   "outputs": [
    {
     "name": "stderr",
     "output_type": "stream",
     "text": [
      "[nltk_data] Downloading package stopwords to /home/jovyan/nltk_data...\n",
      "[nltk_data]   Package stopwords is already up-to-date!\n",
      "[nltk_data] Downloading package averaged_perceptron_tagger to\n",
      "[nltk_data]     /home/jovyan/nltk_data...\n",
      "[nltk_data]   Unzipping taggers/averaged_perceptron_tagger.zip.\n"
     ]
    },
    {
     "data": {
      "text/plain": [
       "True"
      ]
     },
     "execution_count": 2,
     "metadata": {},
     "output_type": "execute_result"
    }
   ],
   "source": [
    "import nltk\n",
    "nltk.download('stopwords') \n",
    "nltk.download('averaged_perceptron_tagger')"
   ]
  },
  {
   "cell_type": "code",
   "execution_count": 3,
   "metadata": {},
   "outputs": [],
   "source": [
    "df = pd.read_csv('/datasets/toxic_comments.csv', index_col=0)"
   ]
  },
  {
   "cell_type": "code",
   "execution_count": 4,
   "metadata": {},
   "outputs": [
    {
     "data": {
      "text/html": [
       "<div>\n",
       "<style scoped>\n",
       "    .dataframe tbody tr th:only-of-type {\n",
       "        vertical-align: middle;\n",
       "    }\n",
       "\n",
       "    .dataframe tbody tr th {\n",
       "        vertical-align: top;\n",
       "    }\n",
       "\n",
       "    .dataframe thead th {\n",
       "        text-align: right;\n",
       "    }\n",
       "</style>\n",
       "<table border=\"1\" class=\"dataframe\">\n",
       "  <thead>\n",
       "    <tr style=\"text-align: right;\">\n",
       "      <th></th>\n",
       "      <th>text</th>\n",
       "      <th>toxic</th>\n",
       "    </tr>\n",
       "  </thead>\n",
       "  <tbody>\n",
       "    <tr>\n",
       "      <th>0</th>\n",
       "      <td>Explanation\\nWhy the edits made under my usern...</td>\n",
       "      <td>0</td>\n",
       "    </tr>\n",
       "    <tr>\n",
       "      <th>1</th>\n",
       "      <td>D'aww! He matches this background colour I'm s...</td>\n",
       "      <td>0</td>\n",
       "    </tr>\n",
       "    <tr>\n",
       "      <th>2</th>\n",
       "      <td>Hey man, I'm really not trying to edit war. It...</td>\n",
       "      <td>0</td>\n",
       "    </tr>\n",
       "    <tr>\n",
       "      <th>3</th>\n",
       "      <td>\"\\nMore\\nI can't make any real suggestions on ...</td>\n",
       "      <td>0</td>\n",
       "    </tr>\n",
       "    <tr>\n",
       "      <th>4</th>\n",
       "      <td>You, sir, are my hero. Any chance you remember...</td>\n",
       "      <td>0</td>\n",
       "    </tr>\n",
       "  </tbody>\n",
       "</table>\n",
       "</div>"
      ],
      "text/plain": [
       "                                                text  toxic\n",
       "0  Explanation\\nWhy the edits made under my usern...      0\n",
       "1  D'aww! He matches this background colour I'm s...      0\n",
       "2  Hey man, I'm really not trying to edit war. It...      0\n",
       "3  \"\\nMore\\nI can't make any real suggestions on ...      0\n",
       "4  You, sir, are my hero. Any chance you remember...      0"
      ]
     },
     "execution_count": 4,
     "metadata": {},
     "output_type": "execute_result"
    }
   ],
   "source": [
    "df.head()"
   ]
  },
  {
   "cell_type": "code",
   "execution_count": 5,
   "metadata": {},
   "outputs": [
    {
     "name": "stdout",
     "output_type": "stream",
     "text": [
      "<class 'pandas.core.frame.DataFrame'>\n",
      "Int64Index: 159292 entries, 0 to 159450\n",
      "Data columns (total 2 columns):\n",
      " #   Column  Non-Null Count   Dtype \n",
      "---  ------  --------------   ----- \n",
      " 0   text    159292 non-null  object\n",
      " 1   toxic   159292 non-null  int64 \n",
      "dtypes: int64(1), object(1)\n",
      "memory usage: 3.6+ MB\n"
     ]
    }
   ],
   "source": [
    "df.info()"
   ]
  },
  {
   "cell_type": "code",
   "execution_count": 6,
   "metadata": {},
   "outputs": [
    {
     "data": {
      "text/plain": [
       "array([0, 1])"
      ]
     },
     "execution_count": 6,
     "metadata": {},
     "output_type": "execute_result"
    }
   ],
   "source": [
    "df['toxic'].unique()"
   ]
  },
  {
   "cell_type": "code",
   "execution_count": 7,
   "metadata": {},
   "outputs": [
    {
     "data": {
      "text/plain": [
       "array([False])"
      ]
     },
     "execution_count": 7,
     "metadata": {},
     "output_type": "execute_result"
    }
   ],
   "source": [
    "df.duplicated().unique()"
   ]
  },
  {
   "cell_type": "code",
   "execution_count": 8,
   "metadata": {},
   "outputs": [
    {
     "data": {
      "text/plain": [
       "<AxesSubplot:title={'center':'Тональность комментариев'}, ylabel='Тональность'>"
      ]
     },
     "execution_count": 8,
     "metadata": {},
     "output_type": "execute_result"
    },
    {
     "data": {
      "image/png": "[encoded data removed]",
      "text/plain": [
       "<Figure size 432x288 with 1 Axes>"
      ]
     },
     "metadata": {},
     "output_type": "display_data"
    }
   ],
   "source": [
    "df['toxic'].value_counts().plot(y = 'count', kind = 'pie', autopct='%1.0f%%', title = 'Тональность комментариев', legend = True, ylabel = 'Тональность')"
   ]
  },
  {
   "cell_type": "markdown",
   "metadata": {},
   "source": [
    "Был проведён первичный осмотр и анализ данных. Никаких выбросов не обнаружено, в целевом столбце все значения либо 0, либо 1. Явных дубликатов тоже нет"
   ]
  },
  {
   "cell_type": "code",
   "execution_count": 9,
   "metadata": {},
   "outputs": [],
   "source": [
    "def get_wordnet_pos(word):\n",
    "    tag = nltk.pos_tag([word])[0][1][0].upper()\n",
    "    tag_dict = {\"J\": wordnet.ADJ,\n",
    "                \"N\": wordnet.NOUN,\n",
    "                \"V\": wordnet.VERB,\n",
    "                \"R\": wordnet.ADV}\n",
    "    return tag_dict.get(tag, wordnet.NOUN)"
   ]
  },
  {
   "cell_type": "code",
   "execution_count": 10,
   "metadata": {},
   "outputs": [],
   "source": [
    "def lemmatize(text):\n",
    "    m = WordNetLemmatizer()\n",
    "    text = text.lower()\n",
    "    text = re.sub(r'[^a-zA-Z\\']', ' ', text)\n",
    "    text = text.split()\n",
    "    return ' '.join([m.lemmatize(i, get_wordnet_pos(i)) for i in text])"
   ]
  },
  {
   "cell_type": "code",
   "execution_count": 11,
   "metadata": {},
   "outputs": [
    {
     "data": {
      "application/vnd.jupyter.widget-view+json": {
       "model_id": "6f14d3c539a94fb0a2f847c03b8a060a",
       "version_major": 2,
       "version_minor": 0
      },
      "text/plain": [
       "  0%|          | 0/159292 [00:00<?, ?it/s]"
      ]
     },
     "metadata": {},
     "output_type": "display_data"
    }
   ],
   "source": [
    "tqdm.pandas()\n",
    "df['new_text'] = df['text'].progress_apply(lemmatize)"
   ]
  },
  {
   "cell_type": "code",
   "execution_count": 12,
   "metadata": {},
   "outputs": [
    {
     "data": {
      "text/html": [
       "<div>\n",
       "<style scoped>\n",
       "    .dataframe tbody tr th:only-of-type {\n",
       "        vertical-align: middle;\n",
       "    }\n",
       "\n",
       "    .dataframe tbody tr th {\n",
       "        vertical-align: top;\n",
       "    }\n",
       "\n",
       "    .dataframe thead th {\n",
       "        text-align: right;\n",
       "    }\n",
       "</style>\n",
       "<table border=\"1\" class=\"dataframe\">\n",
       "  <thead>\n",
       "    <tr style=\"text-align: right;\">\n",
       "      <th></th>\n",
       "      <th>text</th>\n",
       "      <th>toxic</th>\n",
       "      <th>new_text</th>\n",
       "    </tr>\n",
       "  </thead>\n",
       "  <tbody>\n",
       "    <tr>\n",
       "      <th>0</th>\n",
       "      <td>Explanation\\nWhy the edits made under my usern...</td>\n",
       "      <td>0</td>\n",
       "      <td>explanation why the edits make under my userna...</td>\n",
       "    </tr>\n",
       "    <tr>\n",
       "      <th>1</th>\n",
       "      <td>D'aww! He matches this background colour I'm s...</td>\n",
       "      <td>0</td>\n",
       "      <td>d'aww he match this background colour i'm seem...</td>\n",
       "    </tr>\n",
       "    <tr>\n",
       "      <th>2</th>\n",
       "      <td>Hey man, I'm really not trying to edit war. It...</td>\n",
       "      <td>0</td>\n",
       "      <td>hey man i'm really not try to edit war it's ju...</td>\n",
       "    </tr>\n",
       "    <tr>\n",
       "      <th>3</th>\n",
       "      <td>\"\\nMore\\nI can't make any real suggestions on ...</td>\n",
       "      <td>0</td>\n",
       "      <td>more i can't make any real suggestion on impro...</td>\n",
       "    </tr>\n",
       "    <tr>\n",
       "      <th>4</th>\n",
       "      <td>You, sir, are my hero. Any chance you remember...</td>\n",
       "      <td>0</td>\n",
       "      <td>you sir be my hero any chance you remember wha...</td>\n",
       "    </tr>\n",
       "    <tr>\n",
       "      <th>5</th>\n",
       "      <td>\"\\n\\nCongratulations from me as well, use the ...</td>\n",
       "      <td>0</td>\n",
       "      <td>congratulation from me a well use the tool wel...</td>\n",
       "    </tr>\n",
       "    <tr>\n",
       "      <th>6</th>\n",
       "      <td>COCKSUCKER BEFORE YOU PISS AROUND ON MY WORK</td>\n",
       "      <td>1</td>\n",
       "      <td>cocksucker before you piss around on my work</td>\n",
       "    </tr>\n",
       "    <tr>\n",
       "      <th>7</th>\n",
       "      <td>Your vandalism to the Matt Shirvington article...</td>\n",
       "      <td>0</td>\n",
       "      <td>your vandalism to the matt shirvington article...</td>\n",
       "    </tr>\n",
       "    <tr>\n",
       "      <th>8</th>\n",
       "      <td>Sorry if the word 'nonsense' was offensive to ...</td>\n",
       "      <td>0</td>\n",
       "      <td>sorry if the word 'nonsense' be offensive to y...</td>\n",
       "    </tr>\n",
       "    <tr>\n",
       "      <th>9</th>\n",
       "      <td>alignment on this subject and which are contra...</td>\n",
       "      <td>0</td>\n",
       "      <td>alignment on this subject and which be contrar...</td>\n",
       "    </tr>\n",
       "  </tbody>\n",
       "</table>\n",
       "</div>"
      ],
      "text/plain": [
       "                                                text  toxic  \\\n",
       "0  Explanation\\nWhy the edits made under my usern...      0   \n",
       "1  D'aww! He matches this background colour I'm s...      0   \n",
       "2  Hey man, I'm really not trying to edit war. It...      0   \n",
       "3  \"\\nMore\\nI can't make any real suggestions on ...      0   \n",
       "4  You, sir, are my hero. Any chance you remember...      0   \n",
       "5  \"\\n\\nCongratulations from me as well, use the ...      0   \n",
       "6       COCKSUCKER BEFORE YOU PISS AROUND ON MY WORK      1   \n",
       "7  Your vandalism to the Matt Shirvington article...      0   \n",
       "8  Sorry if the word 'nonsense' was offensive to ...      0   \n",
       "9  alignment on this subject and which are contra...      0   \n",
       "\n",
       "                                            new_text  \n",
       "0  explanation why the edits make under my userna...  \n",
       "1  d'aww he match this background colour i'm seem...  \n",
       "2  hey man i'm really not try to edit war it's ju...  \n",
       "3  more i can't make any real suggestion on impro...  \n",
       "4  you sir be my hero any chance you remember wha...  \n",
       "5  congratulation from me a well use the tool wel...  \n",
       "6       cocksucker before you piss around on my work  \n",
       "7  your vandalism to the matt shirvington article...  \n",
       "8  sorry if the word 'nonsense' be offensive to y...  \n",
       "9  alignment on this subject and which be contrar...  "
      ]
     },
     "execution_count": 12,
     "metadata": {},
     "output_type": "execute_result"
    }
   ],
   "source": [
    "df.head(10)"
   ]
  },
  {
   "cell_type": "markdown",
   "metadata": {},
   "source": [
    "Была проведена лемматизация текста и очистка от регулярных выражений."
   ]
  },
  {
   "cell_type": "markdown",
   "metadata": {},
   "source": [
    "В рамках данного этапа были осмотрены данные, проведена их подготовка к дальнейшей работе"
   ]
  },
  {
   "cell_type": "markdown",
   "metadata": {},
   "source": [
    "## Обучение"
   ]
  },
  {
   "cell_type": "code",
   "execution_count": 13,
   "metadata": {},
   "outputs": [],
   "source": [
    "y = df['toxic']\n",
    "X = df.drop(['toxic'], axis = 1)\n",
    "RANDOM_STATE = 45\n",
    "X_train, X_test, y_train, y_test = train_test_split(\n",
    "        X, \n",
    "        y, \n",
    "        random_state=RANDOM_STATE\n",
    "    ) "
   ]
  },
  {
   "cell_type": "code",
   "execution_count": 14,
   "metadata": {},
   "outputs": [],
   "source": [
    "stop_words = set(stopwords.words('english'))"
   ]
  },
  {
   "cell_type": "code",
   "execution_count": 15,
   "metadata": {},
   "outputs": [],
   "source": [
    "count_tf_idf = TfidfVectorizer(stop_words=stop_words)\n",
    "tf_idf = count_tf_idf.fit_transform(X_train['new_text']) "
   ]
  },
  {
   "cell_type": "code",
   "execution_count": 16,
   "metadata": {},
   "outputs": [],
   "source": [
    "test_tf_idf = count_tf_idf.transform(X_test['new_text'])"
   ]
  },
  {
   "cell_type": "code",
   "execution_count": 17,
   "metadata": {},
   "outputs": [],
   "source": [
    "pipe_final= Pipeline([\n",
    "    ('models', LogisticRegression())\n",
    "])"
   ]
  },
  {
   "cell_type": "code",
   "execution_count": 18,
   "metadata": {},
   "outputs": [],
   "source": [
    "param_distributions = [\n",
    "    {\n",
    "        'models': [LogisticRegression()],\n",
    "        'models__penalty': ['l2'],\n",
    "        'models__C': [0.1, 1, 10, 100]\n",
    "    },\n",
    "    {\n",
    "        'models': [LogisticRegression()],\n",
    "        'models__penalty': ['none']\n",
    "    },\n",
    "    {\n",
    "        'models': [CatBoostClassifier(random_state = RANDOM_STATE)],\n",
    "        'models__iterations': [range(100, 601, 100)]\n",
    "    }\n",
    "] "
   ]
  },
  {
   "cell_type": "code",
   "execution_count": 19,
   "metadata": {},
   "outputs": [
    {
     "name": "stderr",
     "output_type": "stream",
     "text": [
      "/opt/conda/lib/python3.9/site-packages/sklearn/linear_model/_logistic.py:763: ConvergenceWarning: lbfgs failed to converge (status=1):\n",
      "STOP: TOTAL NO. of ITERATIONS REACHED LIMIT.\n",
      "\n",
      "Increase the number of iterations (max_iter) or scale the data as shown in:\n",
      "    https://scikit-learn.org/stable/modules/preprocessing.html\n",
      "Please also refer to the documentation for alternative solver options:\n",
      "    https://scikit-learn.org/stable/modules/linear_model.html#logistic-regression\n",
      "  n_iter_i = _check_optimize_result(\n",
      "/opt/conda/lib/python3.9/site-packages/sklearn/linear_model/_logistic.py:763: ConvergenceWarning: lbfgs failed to converge (status=1):\n",
      "STOP: TOTAL NO. of ITERATIONS REACHED LIMIT.\n",
      "\n",
      "Increase the number of iterations (max_iter) or scale the data as shown in:\n",
      "    https://scikit-learn.org/stable/modules/preprocessing.html\n",
      "Please also refer to the documentation for alternative solver options:\n",
      "    https://scikit-learn.org/stable/modules/linear_model.html#logistic-regression\n",
      "  n_iter_i = _check_optimize_result(\n",
      "/opt/conda/lib/python3.9/site-packages/sklearn/linear_model/_logistic.py:763: ConvergenceWarning: lbfgs failed to converge (status=1):\n",
      "STOP: TOTAL NO. of ITERATIONS REACHED LIMIT.\n",
      "\n",
      "Increase the number of iterations (max_iter) or scale the data as shown in:\n",
      "    https://scikit-learn.org/stable/modules/preprocessing.html\n",
      "Please also refer to the documentation for alternative solver options:\n",
      "    https://scikit-learn.org/stable/modules/linear_model.html#logistic-regression\n",
      "  n_iter_i = _check_optimize_result(\n",
      "/opt/conda/lib/python3.9/site-packages/sklearn/linear_model/_logistic.py:763: ConvergenceWarning: lbfgs failed to converge (status=1):\n",
      "STOP: TOTAL NO. of ITERATIONS REACHED LIMIT.\n",
      "\n",
      "Increase the number of iterations (max_iter) or scale the data as shown in:\n",
      "    https://scikit-learn.org/stable/modules/preprocessing.html\n",
      "Please also refer to the documentation for alternative solver options:\n",
      "    https://scikit-learn.org/stable/modules/linear_model.html#logistic-regression\n",
      "  n_iter_i = _check_optimize_result(\n",
      "/opt/conda/lib/python3.9/site-packages/sklearn/linear_model/_logistic.py:763: ConvergenceWarning: lbfgs failed to converge (status=1):\n",
      "STOP: TOTAL NO. of ITERATIONS REACHED LIMIT.\n",
      "\n",
      "Increase the number of iterations (max_iter) or scale the data as shown in:\n",
      "    https://scikit-learn.org/stable/modules/preprocessing.html\n",
      "Please also refer to the documentation for alternative solver options:\n",
      "    https://scikit-learn.org/stable/modules/linear_model.html#logistic-regression\n",
      "  n_iter_i = _check_optimize_result(\n",
      "/opt/conda/lib/python3.9/site-packages/sklearn/linear_model/_logistic.py:763: ConvergenceWarning: lbfgs failed to converge (status=1):\n",
      "STOP: TOTAL NO. of ITERATIONS REACHED LIMIT.\n",
      "\n",
      "Increase the number of iterations (max_iter) or scale the data as shown in:\n",
      "    https://scikit-learn.org/stable/modules/preprocessing.html\n",
      "Please also refer to the documentation for alternative solver options:\n",
      "    https://scikit-learn.org/stable/modules/linear_model.html#logistic-regression\n",
      "  n_iter_i = _check_optimize_result(\n",
      "/opt/conda/lib/python3.9/site-packages/sklearn/linear_model/_logistic.py:763: ConvergenceWarning: lbfgs failed to converge (status=1):\n",
      "STOP: TOTAL NO. of ITERATIONS REACHED LIMIT.\n",
      "\n",
      "Increase the number of iterations (max_iter) or scale the data as shown in:\n",
      "    https://scikit-learn.org/stable/modules/preprocessing.html\n",
      "Please also refer to the documentation for alternative solver options:\n",
      "    https://scikit-learn.org/stable/modules/linear_model.html#logistic-regression\n",
      "  n_iter_i = _check_optimize_result(\n",
      "/opt/conda/lib/python3.9/site-packages/sklearn/linear_model/_logistic.py:763: ConvergenceWarning: lbfgs failed to converge (status=1):\n",
      "STOP: TOTAL NO. of ITERATIONS REACHED LIMIT.\n",
      "\n",
      "Increase the number of iterations (max_iter) or scale the data as shown in:\n",
      "    https://scikit-learn.org/stable/modules/preprocessing.html\n",
      "Please also refer to the documentation for alternative solver options:\n",
      "    https://scikit-learn.org/stable/modules/linear_model.html#logistic-regression\n",
      "  n_iter_i = _check_optimize_result(\n",
      "/opt/conda/lib/python3.9/site-packages/sklearn/linear_model/_logistic.py:763: ConvergenceWarning: lbfgs failed to converge (status=1):\n",
      "STOP: TOTAL NO. of ITERATIONS REACHED LIMIT.\n",
      "\n",
      "Increase the number of iterations (max_iter) or scale the data as shown in:\n",
      "    https://scikit-learn.org/stable/modules/preprocessing.html\n",
      "Please also refer to the documentation for alternative solver options:\n",
      "    https://scikit-learn.org/stable/modules/linear_model.html#logistic-regression\n",
      "  n_iter_i = _check_optimize_result(\n",
      "/opt/conda/lib/python3.9/site-packages/sklearn/linear_model/_logistic.py:763: ConvergenceWarning: lbfgs failed to converge (status=1):\n",
      "STOP: TOTAL NO. of ITERATIONS REACHED LIMIT.\n",
      "\n",
      "Increase the number of iterations (max_iter) or scale the data as shown in:\n",
      "    https://scikit-learn.org/stable/modules/preprocessing.html\n",
      "Please also refer to the documentation for alternative solver options:\n",
      "    https://scikit-learn.org/stable/modules/linear_model.html#logistic-regression\n",
      "  n_iter_i = _check_optimize_result(\n",
      "/opt/conda/lib/python3.9/site-packages/sklearn/linear_model/_logistic.py:763: ConvergenceWarning: lbfgs failed to converge (status=1):\n",
      "STOP: TOTAL NO. of ITERATIONS REACHED LIMIT.\n",
      "\n",
      "Increase the number of iterations (max_iter) or scale the data as shown in:\n",
      "    https://scikit-learn.org/stable/modules/preprocessing.html\n",
      "Please also refer to the documentation for alternative solver options:\n",
      "    https://scikit-learn.org/stable/modules/linear_model.html#logistic-regression\n",
      "  n_iter_i = _check_optimize_result(\n",
      "/opt/conda/lib/python3.9/site-packages/sklearn/linear_model/_logistic.py:763: ConvergenceWarning: lbfgs failed to converge (status=1):\n",
      "STOP: TOTAL NO. of ITERATIONS REACHED LIMIT.\n",
      "\n",
      "Increase the number of iterations (max_iter) or scale the data as shown in:\n",
      "    https://scikit-learn.org/stable/modules/preprocessing.html\n",
      "Please also refer to the documentation for alternative solver options:\n",
      "    https://scikit-learn.org/stable/modules/linear_model.html#logistic-regression\n",
      "  n_iter_i = _check_optimize_result(\n",
      "/opt/conda/lib/python3.9/site-packages/sklearn/linear_model/_logistic.py:763: ConvergenceWarning: lbfgs failed to converge (status=1):\n",
      "STOP: TOTAL NO. of ITERATIONS REACHED LIMIT.\n",
      "\n",
      "Increase the number of iterations (max_iter) or scale the data as shown in:\n",
      "    https://scikit-learn.org/stable/modules/preprocessing.html\n",
      "Please also refer to the documentation for alternative solver options:\n",
      "    https://scikit-learn.org/stable/modules/linear_model.html#logistic-regression\n",
      "  n_iter_i = _check_optimize_result(\n",
      "/opt/conda/lib/python3.9/site-packages/sklearn/linear_model/_logistic.py:763: ConvergenceWarning: lbfgs failed to converge (status=1):\n",
      "STOP: TOTAL NO. of ITERATIONS REACHED LIMIT.\n",
      "\n",
      "Increase the number of iterations (max_iter) or scale the data as shown in:\n",
      "    https://scikit-learn.org/stable/modules/preprocessing.html\n",
      "Please also refer to the documentation for alternative solver options:\n",
      "    https://scikit-learn.org/stable/modules/linear_model.html#logistic-regression\n",
      "  n_iter_i = _check_optimize_result(\n",
      "/opt/conda/lib/python3.9/site-packages/sklearn/linear_model/_logistic.py:763: ConvergenceWarning: lbfgs failed to converge (status=1):\n",
      "STOP: TOTAL NO. of ITERATIONS REACHED LIMIT.\n",
      "\n",
      "Increase the number of iterations (max_iter) or scale the data as shown in:\n",
      "    https://scikit-learn.org/stable/modules/preprocessing.html\n",
      "Please also refer to the documentation for alternative solver options:\n",
      "    https://scikit-learn.org/stable/modules/linear_model.html#logistic-regression\n",
      "  n_iter_i = _check_optimize_result(\n",
      "/opt/conda/lib/python3.9/site-packages/sklearn/linear_model/_logistic.py:763: ConvergenceWarning: lbfgs failed to converge (status=1):\n",
      "STOP: TOTAL NO. of ITERATIONS REACHED LIMIT.\n",
      "\n",
      "Increase the number of iterations (max_iter) or scale the data as shown in:\n",
      "    https://scikit-learn.org/stable/modules/preprocessing.html\n",
      "Please also refer to the documentation for alternative solver options:\n",
      "    https://scikit-learn.org/stable/modules/linear_model.html#logistic-regression\n",
      "  n_iter_i = _check_optimize_result(\n",
      "/opt/conda/lib/python3.9/site-packages/sklearn/linear_model/_logistic.py:763: ConvergenceWarning: lbfgs failed to converge (status=1):\n",
      "STOP: TOTAL NO. of ITERATIONS REACHED LIMIT.\n",
      "\n",
      "Increase the number of iterations (max_iter) or scale the data as shown in:\n",
      "    https://scikit-learn.org/stable/modules/preprocessing.html\n",
      "Please also refer to the documentation for alternative solver options:\n",
      "    https://scikit-learn.org/stable/modules/linear_model.html#logistic-regression\n",
      "  n_iter_i = _check_optimize_result(\n",
      "/opt/conda/lib/python3.9/site-packages/sklearn/linear_model/_logistic.py:763: ConvergenceWarning: lbfgs failed to converge (status=1):\n",
      "STOP: TOTAL NO. of ITERATIONS REACHED LIMIT.\n",
      "\n",
      "Increase the number of iterations (max_iter) or scale the data as shown in:\n",
      "    https://scikit-learn.org/stable/modules/preprocessing.html\n",
      "Please also refer to the documentation for alternative solver options:\n",
      "    https://scikit-learn.org/stable/modules/linear_model.html#logistic-regression\n",
      "  n_iter_i = _check_optimize_result(\n",
      "/opt/conda/lib/python3.9/site-packages/sklearn/model_selection/_validation.py:610: FitFailedWarning: Estimator fit failed. The score on this train-test partition for these parameters will be set to nan. Details: \n",
      "Traceback (most recent call last):\n",
      "  File \"/opt/conda/lib/python3.9/site-packages/sklearn/model_selection/_validation.py\", line 593, in _fit_and_score\n",
      "    estimator.fit(X_train, y_train, **fit_params)\n",
      "  File \"/opt/conda/lib/python3.9/site-packages/sklearn/pipeline.py\", line 346, in fit\n",
      "    self._final_estimator.fit(Xt, y, **fit_params_last_step)\n",
      "  File \"/opt/conda/lib/python3.9/site-packages/catboost/core.py\", line 4716, in fit\n",
      "    self._fit(X, y, cat_features, text_features, embedding_features, None, sample_weight, None, None, None, None, baseline, use_best_model,\n",
      "  File \"/opt/conda/lib/python3.9/site-packages/catboost/core.py\", line 2021, in _fit\n",
      "    train_params = self._prepare_train_params(\n",
      "  File \"/opt/conda/lib/python3.9/site-packages/catboost/core.py\", line 1953, in _prepare_train_params\n",
      "    _check_train_params(params)\n",
      "  File \"_catboost.pyx\", line 5839, in _catboost._check_train_params\n",
      "  File \"_catboost.pyx\", line 5857, in _catboost._check_train_params\n",
      "  File \"_catboost.pyx\", line 1712, in _catboost._PreprocessParams.__init__\n",
      "  File \"/opt/conda/lib/python3.9/json/__init__.py\", line 234, in dumps\n",
      "    return cls(\n",
      "  File \"/opt/conda/lib/python3.9/json/encoder.py\", line 199, in encode\n",
      "    chunks = self.iterencode(o, _one_shot=True)\n",
      "  File \"/opt/conda/lib/python3.9/json/encoder.py\", line 257, in iterencode\n",
      "    return _iterencode(o, 0)\n",
      "  File \"_catboost.pyx\", line 144, in _catboost._NumpyAwareEncoder.default\n",
      "  File \"/opt/conda/lib/python3.9/json/encoder.py\", line 179, in default\n",
      "    raise TypeError(f'Object of type {o.__class__.__name__} '\n",
      "TypeError: Object of type range is not JSON serializable\n",
      "\n",
      "  warnings.warn(\"Estimator fit failed. The score on this train-test\"\n",
      "/opt/conda/lib/python3.9/site-packages/sklearn/model_selection/_validation.py:610: FitFailedWarning: Estimator fit failed. The score on this train-test partition for these parameters will be set to nan. Details: \n",
      "Traceback (most recent call last):\n",
      "  File \"/opt/conda/lib/python3.9/site-packages/sklearn/model_selection/_validation.py\", line 593, in _fit_and_score\n",
      "    estimator.fit(X_train, y_train, **fit_params)\n",
      "  File \"/opt/conda/lib/python3.9/site-packages/sklearn/pipeline.py\", line 346, in fit\n",
      "    self._final_estimator.fit(Xt, y, **fit_params_last_step)\n",
      "  File \"/opt/conda/lib/python3.9/site-packages/catboost/core.py\", line 4716, in fit\n",
      "    self._fit(X, y, cat_features, text_features, embedding_features, None, sample_weight, None, None, None, None, baseline, use_best_model,\n",
      "  File \"/opt/conda/lib/python3.9/site-packages/catboost/core.py\", line 2021, in _fit\n",
      "    train_params = self._prepare_train_params(\n",
      "  File \"/opt/conda/lib/python3.9/site-packages/catboost/core.py\", line 1953, in _prepare_train_params\n",
      "    _check_train_params(params)\n",
      "  File \"_catboost.pyx\", line 5839, in _catboost._check_train_params\n",
      "  File \"_catboost.pyx\", line 5857, in _catboost._check_train_params\n",
      "  File \"_catboost.pyx\", line 1712, in _catboost._PreprocessParams.__init__\n",
      "  File \"/opt/conda/lib/python3.9/json/__init__.py\", line 234, in dumps\n",
      "    return cls(\n",
      "  File \"/opt/conda/lib/python3.9/json/encoder.py\", line 199, in encode\n",
      "    chunks = self.iterencode(o, _one_shot=True)\n",
      "  File \"/opt/conda/lib/python3.9/json/encoder.py\", line 257, in iterencode\n",
      "    return _iterencode(o, 0)\n",
      "  File \"_catboost.pyx\", line 144, in _catboost._NumpyAwareEncoder.default\n",
      "  File \"/opt/conda/lib/python3.9/json/encoder.py\", line 179, in default\n",
      "    raise TypeError(f'Object of type {o.__class__.__name__} '\n",
      "TypeError: Object of type range is not JSON serializable\n",
      "\n",
      "  warnings.warn(\"Estimator fit failed. The score on this train-test\"\n",
      "/opt/conda/lib/python3.9/site-packages/sklearn/model_selection/_validation.py:610: FitFailedWarning: Estimator fit failed. The score on this train-test partition for these parameters will be set to nan. Details: \n",
      "Traceback (most recent call last):\n",
      "  File \"/opt/conda/lib/python3.9/site-packages/sklearn/model_selection/_validation.py\", line 593, in _fit_and_score\n",
      "    estimator.fit(X_train, y_train, **fit_params)\n",
      "  File \"/opt/conda/lib/python3.9/site-packages/sklearn/pipeline.py\", line 346, in fit\n",
      "    self._final_estimator.fit(Xt, y, **fit_params_last_step)\n",
      "  File \"/opt/conda/lib/python3.9/site-packages/catboost/core.py\", line 4716, in fit\n",
      "    self._fit(X, y, cat_features, text_features, embedding_features, None, sample_weight, None, None, None, None, baseline, use_best_model,\n",
      "  File \"/opt/conda/lib/python3.9/site-packages/catboost/core.py\", line 2021, in _fit\n",
      "    train_params = self._prepare_train_params(\n",
      "  File \"/opt/conda/lib/python3.9/site-packages/catboost/core.py\", line 1953, in _prepare_train_params\n",
      "    _check_train_params(params)\n",
      "  File \"_catboost.pyx\", line 5839, in _catboost._check_train_params\n",
      "  File \"_catboost.pyx\", line 5857, in _catboost._check_train_params\n",
      "  File \"_catboost.pyx\", line 1712, in _catboost._PreprocessParams.__init__\n",
      "  File \"/opt/conda/lib/python3.9/json/__init__.py\", line 234, in dumps\n",
      "    return cls(\n",
      "  File \"/opt/conda/lib/python3.9/json/encoder.py\", line 199, in encode\n",
      "    chunks = self.iterencode(o, _one_shot=True)\n",
      "  File \"/opt/conda/lib/python3.9/json/encoder.py\", line 257, in iterencode\n",
      "    return _iterencode(o, 0)\n",
      "  File \"_catboost.pyx\", line 144, in _catboost._NumpyAwareEncoder.default\n",
      "  File \"/opt/conda/lib/python3.9/json/encoder.py\", line 179, in default\n",
      "    raise TypeError(f'Object of type {o.__class__.__name__} '\n",
      "TypeError: Object of type range is not JSON serializable\n",
      "\n",
      "  warnings.warn(\"Estimator fit failed. The score on this train-test\"\n",
      "/opt/conda/lib/python3.9/site-packages/sklearn/model_selection/_validation.py:610: FitFailedWarning: Estimator fit failed. The score on this train-test partition for these parameters will be set to nan. Details: \n",
      "Traceback (most recent call last):\n",
      "  File \"/opt/conda/lib/python3.9/site-packages/sklearn/model_selection/_validation.py\", line 593, in _fit_and_score\n",
      "    estimator.fit(X_train, y_train, **fit_params)\n",
      "  File \"/opt/conda/lib/python3.9/site-packages/sklearn/pipeline.py\", line 346, in fit\n",
      "    self._final_estimator.fit(Xt, y, **fit_params_last_step)\n",
      "  File \"/opt/conda/lib/python3.9/site-packages/catboost/core.py\", line 4716, in fit\n",
      "    self._fit(X, y, cat_features, text_features, embedding_features, None, sample_weight, None, None, None, None, baseline, use_best_model,\n",
      "  File \"/opt/conda/lib/python3.9/site-packages/catboost/core.py\", line 2021, in _fit\n",
      "    train_params = self._prepare_train_params(\n",
      "  File \"/opt/conda/lib/python3.9/site-packages/catboost/core.py\", line 1953, in _prepare_train_params\n",
      "    _check_train_params(params)\n",
      "  File \"_catboost.pyx\", line 5839, in _catboost._check_train_params\n",
      "  File \"_catboost.pyx\", line 5857, in _catboost._check_train_params\n",
      "  File \"_catboost.pyx\", line 1712, in _catboost._PreprocessParams.__init__\n",
      "  File \"/opt/conda/lib/python3.9/json/__init__.py\", line 234, in dumps\n",
      "    return cls(\n",
      "  File \"/opt/conda/lib/python3.9/json/encoder.py\", line 199, in encode\n",
      "    chunks = self.iterencode(o, _one_shot=True)\n",
      "  File \"/opt/conda/lib/python3.9/json/encoder.py\", line 257, in iterencode\n",
      "    return _iterencode(o, 0)\n",
      "  File \"_catboost.pyx\", line 144, in _catboost._NumpyAwareEncoder.default\n",
      "  File \"/opt/conda/lib/python3.9/json/encoder.py\", line 179, in default\n",
      "    raise TypeError(f'Object of type {o.__class__.__name__} '\n",
      "TypeError: Object of type range is not JSON serializable\n",
      "\n",
      "  warnings.warn(\"Estimator fit failed. The score on this train-test\"\n",
      "/opt/conda/lib/python3.9/site-packages/sklearn/model_selection/_validation.py:610: FitFailedWarning: Estimator fit failed. The score on this train-test partition for these parameters will be set to nan. Details: \n",
      "Traceback (most recent call last):\n",
      "  File \"/opt/conda/lib/python3.9/site-packages/sklearn/model_selection/_validation.py\", line 593, in _fit_and_score\n",
      "    estimator.fit(X_train, y_train, **fit_params)\n",
      "  File \"/opt/conda/lib/python3.9/site-packages/sklearn/pipeline.py\", line 346, in fit\n",
      "    self._final_estimator.fit(Xt, y, **fit_params_last_step)\n",
      "  File \"/opt/conda/lib/python3.9/site-packages/catboost/core.py\", line 4716, in fit\n",
      "    self._fit(X, y, cat_features, text_features, embedding_features, None, sample_weight, None, None, None, None, baseline, use_best_model,\n",
      "  File \"/opt/conda/lib/python3.9/site-packages/catboost/core.py\", line 2021, in _fit\n",
      "    train_params = self._prepare_train_params(\n",
      "  File \"/opt/conda/lib/python3.9/site-packages/catboost/core.py\", line 1953, in _prepare_train_params\n",
      "    _check_train_params(params)\n",
      "  File \"_catboost.pyx\", line 5839, in _catboost._check_train_params\n",
      "  File \"_catboost.pyx\", line 5857, in _catboost._check_train_params\n",
      "  File \"_catboost.pyx\", line 1712, in _catboost._PreprocessParams.__init__\n",
      "  File \"/opt/conda/lib/python3.9/json/__init__.py\", line 234, in dumps\n",
      "    return cls(\n",
      "  File \"/opt/conda/lib/python3.9/json/encoder.py\", line 199, in encode\n",
      "    chunks = self.iterencode(o, _one_shot=True)\n",
      "  File \"/opt/conda/lib/python3.9/json/encoder.py\", line 257, in iterencode\n",
      "    return _iterencode(o, 0)\n",
      "  File \"_catboost.pyx\", line 144, in _catboost._NumpyAwareEncoder.default\n",
      "  File \"/opt/conda/lib/python3.9/json/encoder.py\", line 179, in default\n",
      "    raise TypeError(f'Object of type {o.__class__.__name__} '\n",
      "TypeError: Object of type range is not JSON serializable\n",
      "\n",
      "  warnings.warn(\"Estimator fit failed. The score on this train-test\"\n",
      "/opt/conda/lib/python3.9/site-packages/sklearn/model_selection/_search.py:918: UserWarning: One or more of the test scores are non-finite: [0.47632792 0.71693605 0.75944005 0.75309469 0.73266918        nan]\n",
      "  warnings.warn(\n",
      "/opt/conda/lib/python3.9/site-packages/sklearn/linear_model/_logistic.py:763: ConvergenceWarning: lbfgs failed to converge (status=1):\n",
      "STOP: TOTAL NO. of ITERATIONS REACHED LIMIT.\n",
      "\n",
      "Increase the number of iterations (max_iter) or scale the data as shown in:\n",
      "    https://scikit-learn.org/stable/modules/preprocessing.html\n",
      "Please also refer to the documentation for alternative solver options:\n",
      "    https://scikit-learn.org/stable/modules/linear_model.html#logistic-regression\n",
      "  n_iter_i = _check_optimize_result(\n"
     ]
    },
    {
     "data": {
      "text/plain": [
       "GridSearchCV(cv=5, estimator=Pipeline(steps=[('models', LogisticRegression())]),\n",
       "             n_jobs=-1,\n",
       "             param_grid=[{'models': [LogisticRegression(C=10)],\n",
       "                          'models__C': [0.1, 1, 10, 100],\n",
       "                          'models__penalty': ['l2']},\n",
       "                         {'models': [LogisticRegression()],\n",
       "                          'models__penalty': ['none']},\n",
       "                         {'models': [<catboost.core.CatBoostClassifier object at 0x7f1c265947f0>],\n",
       "                          'models__iterations': [range(100, 601, 100)]}],\n",
       "             scoring='f1')"
      ]
     },
     "execution_count": 19,
     "metadata": {},
     "output_type": "execute_result"
    }
   ],
   "source": [
    "search = GridSearchCV(\n",
    "    pipe_final, \n",
    "    param_distributions, \n",
    "    cv = 5,\n",
    "    scoring='f1', \n",
    "    n_jobs=-1\n",
    ")\n",
    "search.fit(tf_idf, y_train)"
   ]
  },
  {
   "cell_type": "code",
   "execution_count": 20,
   "metadata": {},
   "outputs": [],
   "source": [
    "new_predict = search.predict(test_tf_idf)"
   ]
  },
  {
   "cell_type": "code",
   "execution_count": 21,
   "metadata": {},
   "outputs": [
    {
     "data": {
      "text/plain": [
       "0.7745358090185676"
      ]
     },
     "execution_count": 21,
     "metadata": {},
     "output_type": "execute_result"
    }
   ],
   "source": [
    "f1_score(y_test, new_predict)"
   ]
  },
  {
   "cell_type": "markdown",
   "metadata": {},
   "source": [
    "Значение метрики удовлетворяет условию"
   ]
  },
  {
   "cell_type": "code",
   "execution_count": 22,
   "metadata": {},
   "outputs": [
    {
     "data": {
      "text/plain": [
       "Pipeline(steps=[('models', LogisticRegression(C=10))])"
      ]
     },
     "execution_count": 22,
     "metadata": {},
     "output_type": "execute_result"
    }
   ],
   "source": [
    "search.best_estimator_"
   ]
  },
  {
   "cell_type": "markdown",
   "metadata": {},
   "source": [
    "В рамках данного этапа были обучены модели и проведён подбор гиперпараметров"
   ]
  },
  {
   "cell_type": "markdown",
   "metadata": {},
   "source": [
    "## Выводы"
   ]
  },
  {
   "cell_type": "markdown",
   "metadata": {},
   "source": [
    "Передо мной стояла задача обучить модель классифицировать комментарии на позитивные и негативные. В моём распоряжении был набор данных с разметкой о токсичности правок. Для начала была произведена подготовка данных: лемматизация текста и очистка от регулярных выражений. Далее написан пайплан для перебора двух моделей и гиперпараметров к ним. Лучшей моделью оказалась `LogisticRegression(C=10, penalty='l1', solver='saga')`. Значение метрики 0.77, что удовлетворяет условию"
   ]
  },
  {
   "cell_type": "markdown",
   "metadata": {},
   "source": [
    "## Чек-лист проверки"
   ]
  },
  {
   "cell_type": "markdown",
   "metadata": {},
   "source": [
    "- [x]  Jupyter Notebook открыт\n",
    "- [x]  Весь код выполняется без ошибок\n",
    "- [x]  Ячейки с кодом расположены в порядке исполнения\n",
    "- [x]  Данные загружены и подготовлены\n",
    "- [x]  Модели обучены\n",
    "- [x]  Значение метрики *F1* не меньше 0.75\n",
    "- [x]  Выводы написаны"
   ]
  },
  {
   "cell_type": "markdown",
   "metadata": {},
   "source": []
  }
 ],
 "metadata": {
  "ExecuteTimeLog": [
   {
    "duration": 404,
    "start_time": "2024-08-11T11:02:09.431Z"
   },
   {
    "duration": 2,
    "start_time": "2024-08-11T11:02:19.790Z"
   },
   {
    "duration": 1314,
    "start_time": "2024-08-11T11:02:33.378Z"
   },
   {
    "duration": 12,
    "start_time": "2024-08-11T11:02:44.437Z"
   },
   {
    "duration": 8,
    "start_time": "2024-08-11T11:02:55.482Z"
   },
   {
    "duration": 8,
    "start_time": "2024-08-11T11:03:02.751Z"
   },
   {
    "duration": 7,
    "start_time": "2024-08-11T11:03:09.682Z"
   },
   {
    "duration": 949,
    "start_time": "2024-08-11T11:03:27.349Z"
   },
   {
    "duration": 871,
    "start_time": "2024-08-11T11:03:34.706Z"
   },
   {
    "duration": 889,
    "start_time": "2024-08-11T11:04:23.893Z"
   },
   {
    "duration": 7,
    "start_time": "2024-08-11T11:04:25.569Z"
   },
   {
    "duration": 44,
    "start_time": "2024-08-11T11:04:36.562Z"
   },
   {
    "duration": 30,
    "start_time": "2024-08-11T11:05:09.262Z"
   },
   {
    "duration": 2,
    "start_time": "2024-08-11T11:05:17.087Z"
   },
   {
    "duration": 866,
    "start_time": "2024-08-11T11:05:17.439Z"
   },
   {
    "duration": 6,
    "start_time": "2024-08-11T11:05:18.307Z"
   },
   {
    "duration": 30,
    "start_time": "2024-08-11T11:05:18.964Z"
   },
   {
    "duration": 30,
    "start_time": "2024-08-11T11:05:21.695Z"
   },
   {
    "duration": 8,
    "start_time": "2024-08-11T11:05:29.560Z"
   },
   {
    "duration": 2,
    "start_time": "2024-08-11T11:06:20.115Z"
   },
   {
    "duration": 882,
    "start_time": "2024-08-11T11:06:20.426Z"
   },
   {
    "duration": 7,
    "start_time": "2024-08-11T11:06:22.961Z"
   },
   {
    "duration": 30,
    "start_time": "2024-08-11T11:06:23.494Z"
   },
   {
    "duration": 7,
    "start_time": "2024-08-11T11:06:25.073Z"
   },
   {
    "duration": 16,
    "start_time": "2024-08-11T11:06:34.211Z"
   },
   {
    "duration": 5,
    "start_time": "2024-08-11T11:07:35.602Z"
   },
   {
    "duration": 8,
    "start_time": "2024-08-11T11:07:58.848Z"
   },
   {
    "duration": 229,
    "start_time": "2024-08-11T11:08:01.408Z"
   },
   {
    "duration": 47,
    "start_time": "2024-08-11T11:08:07.245Z"
   },
   {
    "duration": 175,
    "start_time": "2024-08-11T11:09:48.553Z"
   },
   {
    "duration": 175,
    "start_time": "2024-08-11T11:09:54.630Z"
   },
   {
    "duration": 402,
    "start_time": "2024-08-11T11:10:08.808Z"
   },
   {
    "duration": 908,
    "start_time": "2024-08-11T11:10:09.610Z"
   },
   {
    "duration": 12,
    "start_time": "2024-08-11T11:10:10.553Z"
   },
   {
    "duration": 30,
    "start_time": "2024-08-11T11:10:11.987Z"
   },
   {
    "duration": 5,
    "start_time": "2024-08-11T11:10:12.396Z"
   },
   {
    "duration": 211,
    "start_time": "2024-08-11T11:10:12.631Z"
   },
   {
    "duration": 2,
    "start_time": "2024-08-11T11:11:52.615Z"
   },
   {
    "duration": 4,
    "start_time": "2024-08-11T11:11:55.394Z"
   },
   {
    "duration": 2727,
    "start_time": "2024-08-11T11:12:16.293Z"
   },
   {
    "duration": 401,
    "start_time": "2024-08-11T11:12:37.044Z"
   },
   {
    "duration": 1232,
    "start_time": "2024-08-11T11:12:37.447Z"
   },
   {
    "duration": 12,
    "start_time": "2024-08-11T11:12:38.680Z"
   },
   {
    "duration": 40,
    "start_time": "2024-08-11T11:12:38.693Z"
   },
   {
    "duration": 5,
    "start_time": "2024-08-11T11:12:38.735Z"
   },
   {
    "duration": 209,
    "start_time": "2024-08-11T11:12:38.741Z"
   },
   {
    "duration": 3,
    "start_time": "2024-08-11T11:12:38.951Z"
   },
   {
    "duration": 2097,
    "start_time": "2024-08-11T11:12:38.955Z"
   },
   {
    "duration": 4,
    "start_time": "2024-08-11T11:13:07.635Z"
   },
   {
    "duration": 433,
    "start_time": "2024-08-11T11:13:39.111Z"
   },
   {
    "duration": 1260,
    "start_time": "2024-08-11T11:13:39.546Z"
   },
   {
    "duration": 13,
    "start_time": "2024-08-11T11:13:40.807Z"
   },
   {
    "duration": 42,
    "start_time": "2024-08-11T11:13:40.821Z"
   },
   {
    "duration": 4,
    "start_time": "2024-08-11T11:13:40.866Z"
   },
   {
    "duration": 220,
    "start_time": "2024-08-11T11:13:40.872Z"
   },
   {
    "duration": 3,
    "start_time": "2024-08-11T11:13:41.094Z"
   },
   {
    "duration": 2210,
    "start_time": "2024-08-11T11:13:41.099Z"
   },
   {
    "duration": 0,
    "start_time": "2024-08-11T11:13:43.311Z"
   },
   {
    "duration": 9,
    "start_time": "2024-08-11T11:14:10.965Z"
   },
   {
    "duration": 10,
    "start_time": "2024-08-11T11:21:21.350Z"
   },
   {
    "duration": 7,
    "start_time": "2024-08-11T11:21:46.883Z"
   },
   {
    "duration": 17,
    "start_time": "2024-08-11T11:21:49.607Z"
   },
   {
    "duration": 5,
    "start_time": "2024-08-11T11:22:11.835Z"
   },
   {
    "duration": 866,
    "start_time": "2024-08-11T11:23:18.502Z"
   },
   {
    "duration": 3,
    "start_time": "2024-08-11T11:23:21.487Z"
   },
   {
    "duration": 60,
    "start_time": "2024-08-11T11:23:22.319Z"
   },
   {
    "duration": 6856,
    "start_time": "2024-08-11T11:24:09.017Z"
   },
   {
    "duration": 11,
    "start_time": "2024-08-11T11:24:18.916Z"
   },
   {
    "duration": 3,
    "start_time": "2024-08-11T11:25:40.210Z"
   },
   {
    "duration": 3,
    "start_time": "2024-08-11T11:26:37.541Z"
   },
   {
    "duration": 10,
    "start_time": "2024-08-11T11:26:49.603Z"
   },
   {
    "duration": 210,
    "start_time": "2024-08-11T11:26:57.980Z"
   },
   {
    "duration": 3,
    "start_time": "2024-08-11T11:27:17.288Z"
   },
   {
    "duration": 7326,
    "start_time": "2024-08-11T11:27:33.647Z"
   },
   {
    "duration": 5,
    "start_time": "2024-08-11T11:27:48.207Z"
   },
   {
    "duration": 5,
    "start_time": "2024-08-11T11:27:57.443Z"
   },
   {
    "duration": 4,
    "start_time": "2024-08-11T11:28:01.060Z"
   },
   {
    "duration": 11,
    "start_time": "2024-08-11T11:29:03.392Z"
   },
   {
    "duration": 6,
    "start_time": "2024-08-11T11:29:18.066Z"
   },
   {
    "duration": 7,
    "start_time": "2024-08-11T11:29:20.974Z"
   },
   {
    "duration": 1330,
    "start_time": "2024-08-11T11:34:07.263Z"
   },
   {
    "duration": 206,
    "start_time": "2024-08-11T11:34:08.595Z"
   },
   {
    "duration": 1252,
    "start_time": "2024-08-11T11:34:08.804Z"
   },
   {
    "duration": 8,
    "start_time": "2024-08-11T11:34:10.058Z"
   },
   {
    "duration": 39,
    "start_time": "2024-08-11T11:34:10.068Z"
   },
   {
    "duration": 5,
    "start_time": "2024-08-11T11:34:10.108Z"
   },
   {
    "duration": 230,
    "start_time": "2024-08-11T11:34:10.114Z"
   },
   {
    "duration": 3,
    "start_time": "2024-08-11T11:34:10.346Z"
   },
   {
    "duration": 6953,
    "start_time": "2024-08-11T11:34:10.351Z"
   },
   {
    "duration": 4,
    "start_time": "2024-08-11T11:34:17.305Z"
   },
   {
    "duration": 23766,
    "start_time": "2024-08-11T11:34:17.310Z"
   },
   {
    "duration": 7,
    "start_time": "2024-08-11T11:35:07.687Z"
   },
   {
    "duration": 1243,
    "start_time": "2024-08-11T11:39:32.069Z"
   },
   {
    "duration": 210,
    "start_time": "2024-08-11T11:39:33.314Z"
   },
   {
    "duration": 1233,
    "start_time": "2024-08-11T11:39:33.525Z"
   },
   {
    "duration": 8,
    "start_time": "2024-08-11T11:39:34.759Z"
   },
   {
    "duration": 31,
    "start_time": "2024-08-11T11:39:34.769Z"
   },
   {
    "duration": 4,
    "start_time": "2024-08-11T11:39:34.801Z"
   },
   {
    "duration": 229,
    "start_time": "2024-08-11T11:39:34.806Z"
   },
   {
    "duration": 3,
    "start_time": "2024-08-11T11:39:35.037Z"
   },
   {
    "duration": 7071,
    "start_time": "2024-08-11T11:39:35.042Z"
   },
   {
    "duration": 3,
    "start_time": "2024-08-11T11:39:42.115Z"
   },
   {
    "duration": 24495,
    "start_time": "2024-08-11T11:39:42.119Z"
   },
   {
    "duration": 85,
    "start_time": "2024-08-11T11:46:06.435Z"
   },
   {
    "duration": 4,
    "start_time": "2024-08-11T11:46:38.565Z"
   },
   {
    "duration": 4,
    "start_time": "2024-08-11T11:48:35.460Z"
   },
   {
    "duration": 1272,
    "start_time": "2024-08-11T11:52:11.296Z"
   },
   {
    "duration": 404,
    "start_time": "2024-08-11T11:52:12.570Z"
   },
   {
    "duration": 885,
    "start_time": "2024-08-11T11:52:12.975Z"
   },
   {
    "duration": 8,
    "start_time": "2024-08-11T11:52:13.861Z"
   },
   {
    "duration": 30,
    "start_time": "2024-08-11T11:52:13.871Z"
   },
   {
    "duration": 4,
    "start_time": "2024-08-11T11:52:13.902Z"
   },
   {
    "duration": 221,
    "start_time": "2024-08-11T11:52:13.907Z"
   },
   {
    "duration": 8,
    "start_time": "2024-08-11T11:52:14.129Z"
   },
   {
    "duration": 6902,
    "start_time": "2024-08-11T11:52:14.139Z"
   },
   {
    "duration": 55,
    "start_time": "2024-08-11T11:52:21.043Z"
   },
   {
    "duration": 3,
    "start_time": "2024-08-11T11:52:21.100Z"
   },
   {
    "duration": 17419,
    "start_time": "2024-08-11T11:52:21.104Z"
   },
   {
    "duration": 888,
    "start_time": "2024-08-11T11:52:38.525Z"
   },
   {
    "duration": 9,
    "start_time": "2024-08-11T11:52:53.325Z"
   },
   {
    "duration": 4,
    "start_time": "2024-08-11T11:52:58.788Z"
   },
   {
    "duration": 4,
    "start_time": "2024-08-11T11:53:08.982Z"
   },
   {
    "duration": 2452,
    "start_time": "2024-08-11T11:53:18.204Z"
   },
   {
    "duration": 3,
    "start_time": "2024-08-11T11:55:13.136Z"
   },
   {
    "duration": 11,
    "start_time": "2024-08-11T11:55:13.707Z"
   },
   {
    "duration": 4,
    "start_time": "2024-08-11T11:55:21.184Z"
   },
   {
    "duration": 11,
    "start_time": "2024-08-11T11:56:43.531Z"
   },
   {
    "duration": 1777,
    "start_time": "2024-08-11T11:56:49.876Z"
   },
   {
    "duration": 1387,
    "start_time": "2024-08-11T13:26:59.858Z"
   },
   {
    "duration": 241,
    "start_time": "2024-08-11T13:27:02.434Z"
   },
   {
    "duration": 1081,
    "start_time": "2024-08-11T13:27:03.056Z"
   },
   {
    "duration": 8,
    "start_time": "2024-08-11T13:27:04.912Z"
   },
   {
    "duration": 29,
    "start_time": "2024-08-11T13:27:05.449Z"
   },
   {
    "duration": 6,
    "start_time": "2024-08-11T13:27:06.847Z"
   },
   {
    "duration": 236,
    "start_time": "2024-08-11T13:27:07.179Z"
   },
   {
    "duration": 3,
    "start_time": "2024-08-11T13:27:08.327Z"
   },
   {
    "duration": 7340,
    "start_time": "2024-08-11T13:27:09.605Z"
   },
   {
    "duration": 61,
    "start_time": "2024-08-11T13:27:16.948Z"
   },
   {
    "duration": 4,
    "start_time": "2024-08-11T13:27:23.229Z"
   },
   {
    "duration": 18719,
    "start_time": "2024-08-11T13:27:23.604Z"
   },
   {
    "duration": 2705,
    "start_time": "2024-08-11T13:27:42.328Z"
   },
   {
    "duration": 3,
    "start_time": "2024-08-11T13:27:45.037Z"
   },
   {
    "duration": 4,
    "start_time": "2024-08-11T13:29:14.077Z"
   },
   {
    "duration": 1351,
    "start_time": "2024-08-11T13:30:31.471Z"
   },
   {
    "duration": 142,
    "start_time": "2024-08-11T13:30:32.824Z"
   },
   {
    "duration": 943,
    "start_time": "2024-08-11T13:30:32.967Z"
   },
   {
    "duration": 8,
    "start_time": "2024-08-11T13:30:33.912Z"
   },
   {
    "duration": 93,
    "start_time": "2024-08-11T13:30:33.921Z"
   },
   {
    "duration": 51,
    "start_time": "2024-08-11T13:30:34.016Z"
   },
   {
    "duration": 253,
    "start_time": "2024-08-11T13:30:34.069Z"
   },
   {
    "duration": 3,
    "start_time": "2024-08-11T13:30:34.324Z"
   },
   {
    "duration": 7522,
    "start_time": "2024-08-11T13:30:34.342Z"
   },
   {
    "duration": 75,
    "start_time": "2024-08-11T13:30:41.866Z"
   },
   {
    "duration": 9,
    "start_time": "2024-08-11T13:30:41.944Z"
   },
   {
    "duration": 20619,
    "start_time": "2024-08-11T13:30:41.955Z"
   },
   {
    "duration": 2983,
    "start_time": "2024-08-11T13:31:02.576Z"
   },
   {
    "duration": 3,
    "start_time": "2024-08-11T13:31:05.561Z"
   },
   {
    "duration": 16,
    "start_time": "2024-08-11T13:31:05.565Z"
   },
   {
    "duration": 1324,
    "start_time": "2024-08-11T13:44:19.582Z"
   },
   {
    "duration": 426,
    "start_time": "2024-08-11T13:44:20.908Z"
   },
   {
    "duration": 905,
    "start_time": "2024-08-11T13:44:21.335Z"
   },
   {
    "duration": 9,
    "start_time": "2024-08-11T13:44:22.241Z"
   },
   {
    "duration": 32,
    "start_time": "2024-08-11T13:44:22.252Z"
   },
   {
    "duration": 4,
    "start_time": "2024-08-11T13:44:22.286Z"
   },
   {
    "duration": 254,
    "start_time": "2024-08-11T13:44:22.292Z"
   },
   {
    "duration": 3,
    "start_time": "2024-08-11T13:44:22.548Z"
   },
   {
    "duration": 7325,
    "start_time": "2024-08-11T13:44:22.553Z"
   },
   {
    "duration": 66,
    "start_time": "2024-08-11T13:44:29.880Z"
   },
   {
    "duration": 5,
    "start_time": "2024-08-11T13:44:29.948Z"
   },
   {
    "duration": 18473,
    "start_time": "2024-08-11T13:44:29.955Z"
   },
   {
    "duration": 2689,
    "start_time": "2024-08-11T13:44:48.430Z"
   },
   {
    "duration": 3,
    "start_time": "2024-08-11T13:44:51.121Z"
   },
   {
    "duration": 106950,
    "start_time": "2024-08-11T13:45:50.427Z"
   },
   {
    "duration": 109,
    "start_time": "2024-08-11T13:49:25.390Z"
   },
   {
    "duration": 20,
    "start_time": "2024-08-11T13:49:32.024Z"
   },
   {
    "duration": 9,
    "start_time": "2024-08-11T13:50:14.694Z"
   },
   {
    "duration": 23,
    "start_time": "2024-08-11T13:50:18.639Z"
   },
   {
    "duration": 1381,
    "start_time": "2024-08-11T13:58:14.527Z"
   },
   {
    "duration": 223,
    "start_time": "2024-08-11T13:58:15.910Z"
   },
   {
    "duration": 1228,
    "start_time": "2024-08-11T13:58:16.134Z"
   },
   {
    "duration": 9,
    "start_time": "2024-08-11T13:58:17.363Z"
   },
   {
    "duration": 29,
    "start_time": "2024-08-11T13:58:17.374Z"
   },
   {
    "duration": 4,
    "start_time": "2024-08-11T13:58:17.405Z"
   },
   {
    "duration": 227,
    "start_time": "2024-08-11T13:58:17.411Z"
   },
   {
    "duration": 3,
    "start_time": "2024-08-11T13:58:17.640Z"
   },
   {
    "duration": 6956,
    "start_time": "2024-08-11T13:58:17.645Z"
   },
   {
    "duration": 61,
    "start_time": "2024-08-11T13:58:24.602Z"
   },
   {
    "duration": 3,
    "start_time": "2024-08-11T13:58:24.665Z"
   },
   {
    "duration": 17533,
    "start_time": "2024-08-11T13:58:24.670Z"
   },
   {
    "duration": 2471,
    "start_time": "2024-08-11T13:58:42.204Z"
   },
   {
    "duration": 3,
    "start_time": "2024-08-11T13:58:44.677Z"
   },
   {
    "duration": 101869,
    "start_time": "2024-08-11T13:58:44.681Z"
   },
   {
    "duration": 22,
    "start_time": "2024-08-11T14:00:26.552Z"
   },
   {
    "duration": 139576,
    "start_time": "2024-08-11T14:02:23.412Z"
   },
   {
    "duration": 14,
    "start_time": "2024-08-11T14:06:13.866Z"
   },
   {
    "duration": 15,
    "start_time": "2024-08-11T14:06:22.222Z"
   },
   {
    "duration": 1304,
    "start_time": "2024-08-11T14:06:48.570Z"
   },
   {
    "duration": 311,
    "start_time": "2024-08-11T14:06:49.876Z"
   },
   {
    "duration": 919,
    "start_time": "2024-08-11T14:06:50.189Z"
   },
   {
    "duration": 9,
    "start_time": "2024-08-11T14:06:51.109Z"
   },
   {
    "duration": 43,
    "start_time": "2024-08-11T14:06:51.120Z"
   },
   {
    "duration": 5,
    "start_time": "2024-08-11T14:06:51.164Z"
   },
   {
    "duration": 245,
    "start_time": "2024-08-11T14:06:51.171Z"
   },
   {
    "duration": 6,
    "start_time": "2024-08-11T14:06:51.418Z"
   },
   {
    "duration": 6867,
    "start_time": "2024-08-11T14:06:51.426Z"
   },
   {
    "duration": 56,
    "start_time": "2024-08-11T14:06:58.295Z"
   },
   {
    "duration": 4,
    "start_time": "2024-08-11T14:06:58.352Z"
   },
   {
    "duration": 5605,
    "start_time": "2024-08-11T14:06:58.357Z"
   },
   {
    "duration": 1739,
    "start_time": "2024-08-11T14:07:03.964Z"
   },
   {
    "duration": 2,
    "start_time": "2024-08-11T14:07:05.705Z"
   },
   {
    "duration": 7135,
    "start_time": "2024-08-11T14:07:05.708Z"
   },
   {
    "duration": 0,
    "start_time": "2024-08-11T14:07:12.845Z"
   },
   {
    "duration": 0,
    "start_time": "2024-08-11T14:07:12.846Z"
   },
   {
    "duration": 0,
    "start_time": "2024-08-11T14:07:12.847Z"
   },
   {
    "duration": 0,
    "start_time": "2024-08-11T14:07:12.848Z"
   },
   {
    "duration": 1301,
    "start_time": "2024-08-11T14:07:34.481Z"
   },
   {
    "duration": 341,
    "start_time": "2024-08-11T14:07:35.784Z"
   },
   {
    "duration": 892,
    "start_time": "2024-08-11T14:07:36.127Z"
   },
   {
    "duration": 16,
    "start_time": "2024-08-11T14:07:37.025Z"
   },
   {
    "duration": 33,
    "start_time": "2024-08-11T14:07:37.042Z"
   },
   {
    "duration": 26,
    "start_time": "2024-08-11T14:07:37.076Z"
   },
   {
    "duration": 219,
    "start_time": "2024-08-11T14:07:37.104Z"
   },
   {
    "duration": 3,
    "start_time": "2024-08-11T14:07:37.325Z"
   },
   {
    "duration": 6965,
    "start_time": "2024-08-11T14:07:37.330Z"
   },
   {
    "duration": 67,
    "start_time": "2024-08-11T14:07:44.297Z"
   },
   {
    "duration": 4,
    "start_time": "2024-08-11T14:07:44.366Z"
   },
   {
    "duration": 5559,
    "start_time": "2024-08-11T14:07:44.371Z"
   },
   {
    "duration": 1730,
    "start_time": "2024-08-11T14:07:49.931Z"
   },
   {
    "duration": 2,
    "start_time": "2024-08-11T14:07:51.663Z"
   },
   {
    "duration": 40473,
    "start_time": "2024-08-11T14:07:51.666Z"
   },
   {
    "duration": 27,
    "start_time": "2024-08-11T14:08:32.140Z"
   },
   {
    "duration": 175969,
    "start_time": "2024-08-11T14:08:32.168Z"
   },
   {
    "duration": 16,
    "start_time": "2024-08-11T14:11:28.139Z"
   },
   {
    "duration": 21,
    "start_time": "2024-08-11T14:11:28.157Z"
   },
   {
    "duration": 1288,
    "start_time": "2024-08-11T14:14:00.261Z"
   },
   {
    "duration": 136,
    "start_time": "2024-08-11T14:14:01.551Z"
   },
   {
    "duration": 1035,
    "start_time": "2024-08-11T14:14:01.689Z"
   },
   {
    "duration": 14,
    "start_time": "2024-08-11T14:14:02.726Z"
   },
   {
    "duration": 153,
    "start_time": "2024-08-11T14:14:02.741Z"
   },
   {
    "duration": 18,
    "start_time": "2024-08-11T14:14:02.896Z"
   },
   {
    "duration": 253,
    "start_time": "2024-08-11T14:14:02.916Z"
   },
   {
    "duration": 3,
    "start_time": "2024-08-11T14:14:03.171Z"
   },
   {
    "duration": 7270,
    "start_time": "2024-08-11T14:14:03.176Z"
   },
   {
    "duration": 57,
    "start_time": "2024-08-11T14:14:10.448Z"
   },
   {
    "duration": 3,
    "start_time": "2024-08-11T14:14:10.507Z"
   },
   {
    "duration": 5474,
    "start_time": "2024-08-11T14:14:10.512Z"
   },
   {
    "duration": 1719,
    "start_time": "2024-08-11T14:14:15.988Z"
   },
   {
    "duration": 44433,
    "start_time": "2024-08-11T14:14:17.709Z"
   },
   {
    "duration": 2384996,
    "start_time": "2024-08-11T14:15:02.147Z"
   },
   {
    "duration": 558,
    "start_time": "2024-08-11T14:54:47.149Z"
   },
   {
    "duration": 15,
    "start_time": "2024-08-11T14:54:47.709Z"
   },
   {
    "duration": 30,
    "start_time": "2024-08-11T14:54:47.725Z"
   },
   {
    "duration": 1463,
    "start_time": "2024-08-11T15:05:43.176Z"
   },
   {
    "duration": 233,
    "start_time": "2024-08-11T15:05:44.641Z"
   },
   {
    "duration": 1032,
    "start_time": "2024-08-11T15:05:44.876Z"
   },
   {
    "duration": 9,
    "start_time": "2024-08-11T15:05:45.909Z"
   },
   {
    "duration": 54,
    "start_time": "2024-08-11T15:05:45.919Z"
   },
   {
    "duration": 15,
    "start_time": "2024-08-11T15:05:45.975Z"
   },
   {
    "duration": 260,
    "start_time": "2024-08-11T15:05:45.992Z"
   },
   {
    "duration": 3,
    "start_time": "2024-08-11T15:05:46.254Z"
   },
   {
    "duration": 7496,
    "start_time": "2024-08-11T15:05:46.258Z"
   },
   {
    "duration": 60,
    "start_time": "2024-08-11T15:05:53.756Z"
   },
   {
    "duration": 3,
    "start_time": "2024-08-11T15:05:53.817Z"
   },
   {
    "duration": 59,
    "start_time": "2024-08-11T15:05:53.822Z"
   },
   {
    "duration": 0,
    "start_time": "2024-08-11T15:05:53.883Z"
   },
   {
    "duration": 0,
    "start_time": "2024-08-11T15:05:53.884Z"
   },
   {
    "duration": 0,
    "start_time": "2024-08-11T15:05:53.885Z"
   },
   {
    "duration": 0,
    "start_time": "2024-08-11T15:05:53.886Z"
   },
   {
    "duration": 3,
    "start_time": "2024-08-11T15:06:53.020Z"
   },
   {
    "duration": 4,
    "start_time": "2024-08-11T15:06:54.049Z"
   },
   {
    "duration": 6049,
    "start_time": "2024-08-11T15:06:54.560Z"
   },
   {
    "duration": 1887,
    "start_time": "2024-08-11T15:07:00.610Z"
   },
   {
    "duration": 1352,
    "start_time": "2024-08-11T19:26:13.125Z"
   },
   {
    "duration": 135,
    "start_time": "2024-08-11T19:26:14.479Z"
   },
   {
    "duration": 970,
    "start_time": "2024-08-11T19:26:14.616Z"
   },
   {
    "duration": 8,
    "start_time": "2024-08-11T19:26:15.588Z"
   },
   {
    "duration": 43,
    "start_time": "2024-08-11T19:26:15.598Z"
   },
   {
    "duration": 7,
    "start_time": "2024-08-11T19:26:15.645Z"
   },
   {
    "duration": 251,
    "start_time": "2024-08-11T19:26:15.654Z"
   },
   {
    "duration": 3,
    "start_time": "2024-08-11T19:26:15.907Z"
   },
   {
    "duration": 7417,
    "start_time": "2024-08-11T19:26:15.911Z"
   },
   {
    "duration": 63,
    "start_time": "2024-08-11T19:26:23.330Z"
   },
   {
    "duration": 3,
    "start_time": "2024-08-11T19:26:23.394Z"
   },
   {
    "duration": 12,
    "start_time": "2024-08-11T19:26:23.399Z"
   },
   {
    "duration": 39,
    "start_time": "2024-08-11T19:26:23.412Z"
   },
   {
    "duration": 5971,
    "start_time": "2024-08-11T19:26:23.455Z"
   },
   {
    "duration": 1879,
    "start_time": "2024-08-11T19:26:29.428Z"
   },
   {
    "duration": 1513,
    "start_time": "2024-08-11T22:58:41.029Z"
   },
   {
    "duration": 125,
    "start_time": "2024-08-11T22:58:42.543Z"
   },
   {
    "duration": 1371,
    "start_time": "2024-08-11T22:58:42.670Z"
   },
   {
    "duration": 9,
    "start_time": "2024-08-11T22:58:44.042Z"
   },
   {
    "duration": 43,
    "start_time": "2024-08-11T22:58:44.053Z"
   },
   {
    "duration": 5,
    "start_time": "2024-08-11T22:58:44.098Z"
   },
   {
    "duration": 234,
    "start_time": "2024-08-11T22:58:44.104Z"
   },
   {
    "duration": 3,
    "start_time": "2024-08-11T22:58:44.340Z"
   },
   {
    "duration": 7053,
    "start_time": "2024-08-11T22:58:44.345Z"
   },
   {
    "duration": 75,
    "start_time": "2024-08-11T22:58:51.400Z"
   },
   {
    "duration": 3,
    "start_time": "2024-08-11T22:58:51.477Z"
   },
   {
    "duration": 37,
    "start_time": "2024-08-11T22:58:51.482Z"
   },
   {
    "duration": 11,
    "start_time": "2024-08-11T22:58:51.521Z"
   },
   {
    "duration": 5823,
    "start_time": "2024-08-11T22:58:51.535Z"
   },
   {
    "duration": 1811,
    "start_time": "2024-08-11T22:58:57.361Z"
   },
   {
    "duration": 761365,
    "start_time": "2024-08-11T22:58:59.174Z"
   },
   {
    "duration": 4,
    "start_time": "2024-08-11T23:19:25.258Z"
   },
   {
    "duration": 8,
    "start_time": "2024-08-11T23:19:55.824Z"
   },
   {
    "duration": 16,
    "start_time": "2024-08-11T23:20:06.542Z"
   },
   {
    "duration": 5,
    "start_time": "2024-08-11T23:20:41.293Z"
   },
   {
    "duration": 7,
    "start_time": "2024-08-11T23:20:52.066Z"
   },
   {
    "duration": 19,
    "start_time": "2024-08-11T23:20:52.627Z"
   },
   {
    "duration": 107,
    "start_time": "2024-08-11T23:21:42.088Z"
   },
   {
    "duration": 8,
    "start_time": "2024-08-11T23:21:47.598Z"
   },
   {
    "duration": 15,
    "start_time": "2024-08-11T23:22:01.984Z"
   },
   {
    "duration": 44,
    "start_time": "2024-08-11T23:22:02.484Z"
   },
   {
    "duration": 3,
    "start_time": "2024-08-11T23:22:26.308Z"
   },
   {
    "duration": 4,
    "start_time": "2024-08-11T23:23:35.325Z"
   },
   {
    "duration": 1306,
    "start_time": "2024-08-11T23:25:48.579Z"
   },
   {
    "duration": 126,
    "start_time": "2024-08-11T23:25:49.887Z"
   },
   {
    "duration": 921,
    "start_time": "2024-08-11T23:25:50.014Z"
   },
   {
    "duration": 8,
    "start_time": "2024-08-11T23:25:50.937Z"
   },
   {
    "duration": 94,
    "start_time": "2024-08-11T23:25:50.946Z"
   },
   {
    "duration": 25,
    "start_time": "2024-08-11T23:25:51.042Z"
   },
   {
    "duration": 222,
    "start_time": "2024-08-11T23:25:51.068Z"
   },
   {
    "duration": 4,
    "start_time": "2024-08-11T23:25:51.291Z"
   },
   {
    "duration": 6901,
    "start_time": "2024-08-11T23:25:51.296Z"
   },
   {
    "duration": 72,
    "start_time": "2024-08-11T23:25:58.200Z"
   },
   {
    "duration": 117,
    "start_time": "2024-08-11T23:25:58.274Z"
   },
   {
    "duration": 0,
    "start_time": "2024-08-11T23:25:58.393Z"
   },
   {
    "duration": 0,
    "start_time": "2024-08-11T23:25:58.394Z"
   },
   {
    "duration": 0,
    "start_time": "2024-08-11T23:25:58.395Z"
   },
   {
    "duration": 0,
    "start_time": "2024-08-11T23:25:58.396Z"
   },
   {
    "duration": 0,
    "start_time": "2024-08-11T23:25:58.397Z"
   },
   {
    "duration": 0,
    "start_time": "2024-08-11T23:25:58.398Z"
   },
   {
    "duration": 1311,
    "start_time": "2024-08-11T23:26:06.432Z"
   },
   {
    "duration": 187,
    "start_time": "2024-08-11T23:26:07.747Z"
   },
   {
    "duration": 965,
    "start_time": "2024-08-11T23:26:07.937Z"
   },
   {
    "duration": 11,
    "start_time": "2024-08-11T23:26:08.904Z"
   },
   {
    "duration": 55,
    "start_time": "2024-08-11T23:26:08.917Z"
   },
   {
    "duration": 5,
    "start_time": "2024-08-11T23:26:08.974Z"
   },
   {
    "duration": 242,
    "start_time": "2024-08-11T23:26:08.981Z"
   },
   {
    "duration": 4,
    "start_time": "2024-08-11T23:26:09.225Z"
   },
   {
    "duration": 6927,
    "start_time": "2024-08-11T23:26:09.239Z"
   },
   {
    "duration": 57,
    "start_time": "2024-08-11T23:26:16.168Z"
   },
   {
    "duration": 11,
    "start_time": "2024-08-11T23:26:16.226Z"
   },
   {
    "duration": 5515,
    "start_time": "2024-08-11T23:26:16.239Z"
   },
   {
    "duration": 1691,
    "start_time": "2024-08-11T23:26:21.756Z"
   },
   {
    "duration": 48109,
    "start_time": "2024-08-11T23:26:23.449Z"
   },
   {
    "duration": 0,
    "start_time": "2024-08-11T23:27:11.559Z"
   },
   {
    "duration": 4,
    "start_time": "2024-08-11T23:27:51.243Z"
   },
   {
    "duration": 47640,
    "start_time": "2024-08-11T23:27:54.702Z"
   },
   {
    "duration": 15,
    "start_time": "2024-08-11T23:28:58.621Z"
   },
   {
    "duration": 61,
    "start_time": "2024-08-11T23:29:49.179Z"
   },
   {
    "duration": 12,
    "start_time": "2024-08-11T23:29:58.513Z"
   },
   {
    "duration": 78,
    "start_time": "2024-08-11T23:30:11.263Z"
   },
   {
    "duration": 73,
    "start_time": "2024-08-11T23:30:18.795Z"
   },
   {
    "duration": 66,
    "start_time": "2024-08-11T23:30:27.432Z"
   },
   {
    "duration": 15,
    "start_time": "2024-08-11T23:30:33.176Z"
   },
   {
    "duration": 12,
    "start_time": "2024-08-11T23:30:37.449Z"
   },
   {
    "duration": 15,
    "start_time": "2024-08-11T23:30:51.883Z"
   },
   {
    "duration": 13,
    "start_time": "2024-08-11T23:30:56.641Z"
   },
   {
    "duration": 10,
    "start_time": "2024-08-11T23:31:14.026Z"
   },
   {
    "duration": 10,
    "start_time": "2024-08-11T23:31:20.859Z"
   },
   {
    "duration": 46836,
    "start_time": "2024-08-11T23:31:52.403Z"
   },
   {
    "duration": 14,
    "start_time": "2024-08-11T23:32:39.242Z"
   },
   {
    "duration": 50455,
    "start_time": "2024-08-11T23:37:13.184Z"
   },
   {
    "duration": 14,
    "start_time": "2024-08-11T23:43:22.470Z"
   },
   {
    "duration": 2315555,
    "start_time": "2024-08-11T23:44:54.457Z"
   },
   {
    "duration": 24,
    "start_time": "2024-08-12T00:23:30.014Z"
   },
   {
    "duration": 5,
    "start_time": "2024-08-12T00:24:34.160Z"
   },
   {
    "duration": 4,
    "start_time": "2024-08-12T00:24:40.545Z"
   },
   {
    "duration": 4,
    "start_time": "2024-08-12T00:24:49.010Z"
   },
   {
    "duration": 532,
    "start_time": "2024-08-12T00:25:18.354Z"
   },
   {
    "duration": 16,
    "start_time": "2024-08-12T00:25:19.559Z"
   },
   {
    "duration": 1273,
    "start_time": "2024-08-12T00:29:04.157Z"
   },
   {
    "duration": 15,
    "start_time": "2024-08-12T00:29:06.221Z"
   },
   {
    "duration": 1309,
    "start_time": "2024-08-12T00:37:55.257Z"
   },
   {
    "duration": 194,
    "start_time": "2024-08-12T00:37:56.568Z"
   },
   {
    "duration": 947,
    "start_time": "2024-08-12T00:37:56.764Z"
   },
   {
    "duration": 8,
    "start_time": "2024-08-12T00:37:57.714Z"
   },
   {
    "duration": 38,
    "start_time": "2024-08-12T00:37:57.723Z"
   },
   {
    "duration": 5,
    "start_time": "2024-08-12T00:37:57.763Z"
   },
   {
    "duration": 251,
    "start_time": "2024-08-12T00:37:57.769Z"
   },
   {
    "duration": 4,
    "start_time": "2024-08-12T00:37:58.022Z"
   },
   {
    "duration": 6934,
    "start_time": "2024-08-12T00:37:58.028Z"
   },
   {
    "duration": 56,
    "start_time": "2024-08-12T00:38:04.965Z"
   },
   {
    "duration": 3,
    "start_time": "2024-08-12T00:38:05.023Z"
   },
   {
    "duration": 5596,
    "start_time": "2024-08-12T00:38:05.037Z"
   },
   {
    "duration": 1689,
    "start_time": "2024-08-12T00:38:10.636Z"
   },
   {
    "duration": 3,
    "start_time": "2024-08-12T00:38:12.326Z"
   },
   {
    "duration": 9,
    "start_time": "2024-08-12T00:38:12.330Z"
   },
   {
    "duration": 160,
    "start_time": "2024-08-12T00:38:12.340Z"
   },
   {
    "duration": 0,
    "start_time": "2024-08-12T00:38:12.502Z"
   },
   {
    "duration": 0,
    "start_time": "2024-08-12T00:38:12.503Z"
   },
   {
    "duration": 2749417,
    "start_time": "2024-08-12T00:39:36.531Z"
   },
   {
    "duration": 7,
    "start_time": "2024-08-12T01:25:25.950Z"
   },
   {
    "duration": 14,
    "start_time": "2024-08-12T01:25:25.959Z"
   },
   {
    "duration": 6,
    "start_time": "2024-08-12T01:35:05.875Z"
   },
   {
    "duration": 2510,
    "start_time": "2024-08-12T09:45:51.433Z"
   },
   {
    "duration": 135,
    "start_time": "2024-08-12T09:45:53.945Z"
   },
   {
    "duration": 3875,
    "start_time": "2024-08-12T09:45:54.082Z"
   },
   {
    "duration": 7,
    "start_time": "2024-08-12T09:45:57.958Z"
   },
   {
    "duration": 29,
    "start_time": "2024-08-12T09:45:57.967Z"
   },
   {
    "duration": 3,
    "start_time": "2024-08-12T09:45:57.998Z"
   },
   {
    "duration": 218,
    "start_time": "2024-08-12T09:45:58.003Z"
   },
   {
    "duration": 3,
    "start_time": "2024-08-12T09:45:58.223Z"
   },
   {
    "duration": 6654,
    "start_time": "2024-08-12T09:45:58.228Z"
   },
   {
    "duration": 54,
    "start_time": "2024-08-12T09:46:04.883Z"
   },
   {
    "duration": 3,
    "start_time": "2024-08-12T09:46:04.938Z"
   },
   {
    "duration": 5292,
    "start_time": "2024-08-12T09:46:04.942Z"
   },
   {
    "duration": 1630,
    "start_time": "2024-08-12T09:46:10.236Z"
   },
   {
    "duration": 3,
    "start_time": "2024-08-12T09:46:11.868Z"
   },
   {
    "duration": 19,
    "start_time": "2024-08-12T09:46:11.872Z"
   },
   {
    "duration": 649739,
    "start_time": "2024-08-12T09:46:11.892Z"
   },
   {
    "duration": 6,
    "start_time": "2024-08-12T09:57:01.633Z"
   },
   {
    "duration": 135,
    "start_time": "2024-08-12T09:57:01.640Z"
   },
   {
    "duration": 17,
    "start_time": "2024-08-12T09:57:01.776Z"
   },
   {
    "duration": 1384,
    "start_time": "2024-08-12T11:21:22.275Z"
   },
   {
    "duration": 213,
    "start_time": "2024-08-12T11:21:25.148Z"
   },
   {
    "duration": 1317,
    "start_time": "2024-08-12T11:21:26.590Z"
   },
   {
    "duration": 8,
    "start_time": "2024-08-12T11:21:27.909Z"
   },
   {
    "duration": 37,
    "start_time": "2024-08-12T11:21:29.119Z"
   },
   {
    "duration": 4,
    "start_time": "2024-08-12T11:21:30.709Z"
   },
   {
    "duration": 233,
    "start_time": "2024-08-12T11:21:31.444Z"
   },
   {
    "duration": 691,
    "start_time": "2024-08-12T11:21:33.403Z"
   },
   {
    "duration": 2920,
    "start_time": "2024-08-12T11:25:23.105Z"
   },
   {
    "duration": 8,
    "start_time": "2024-08-12T11:26:57.068Z"
   },
   {
    "duration": 4,
    "start_time": "2024-08-12T11:27:05.629Z"
   },
   {
    "duration": 4,
    "start_time": "2024-08-12T11:27:09.307Z"
   },
   {
    "duration": 732,
    "start_time": "2024-08-12T11:27:13.766Z"
   },
   {
    "duration": 11064,
    "start_time": "2024-08-12T11:27:31.630Z"
   },
   {
    "duration": 412,
    "start_time": "2024-08-12T11:27:50.365Z"
   },
   {
    "duration": 3,
    "start_time": "2024-08-12T11:29:04.910Z"
   },
   {
    "duration": 3805,
    "start_time": "2024-08-12T11:58:05.962Z"
   },
   {
    "duration": 77722,
    "start_time": "2024-08-12T11:58:10.918Z"
   },
   {
    "duration": 147,
    "start_time": "2024-08-12T11:59:28.642Z"
   },
   {
    "duration": 881,
    "start_time": "2024-08-12T11:59:28.790Z"
   },
   {
    "duration": 187,
    "start_time": "2024-08-12T11:59:29.673Z"
   },
   {
    "duration": 31,
    "start_time": "2024-08-12T11:59:29.862Z"
   },
   {
    "duration": 5,
    "start_time": "2024-08-12T11:59:29.894Z"
   },
   {
    "duration": 239,
    "start_time": "2024-08-12T11:59:29.900Z"
   },
   {
    "duration": 383,
    "start_time": "2024-08-12T11:59:30.140Z"
   },
   {
    "duration": 4,
    "start_time": "2024-08-12T11:59:30.524Z"
   },
   {
    "duration": 223301,
    "start_time": "2024-08-12T11:59:30.536Z"
   },
   {
    "duration": 31,
    "start_time": "2024-08-12T12:05:14.401Z"
   },
   {
    "duration": 5,
    "start_time": "2024-08-12T12:05:21.545Z"
   },
   {
    "duration": 4,
    "start_time": "2024-08-12T12:06:52.859Z"
   },
   {
    "duration": 428,
    "start_time": "2024-08-12T12:06:54.004Z"
   },
   {
    "duration": 5,
    "start_time": "2024-08-12T12:07:19.343Z"
   },
   {
    "duration": 871,
    "start_time": "2024-08-12T12:07:20.144Z"
   },
   {
    "duration": 4,
    "start_time": "2024-08-12T12:07:29.426Z"
   },
   {
    "duration": 967,
    "start_time": "2024-08-12T12:07:29.717Z"
   },
   {
    "duration": 25,
    "start_time": "2024-08-12T12:08:21.600Z"
   },
   {
    "duration": 18,
    "start_time": "2024-08-12T12:08:35.180Z"
   },
   {
    "duration": 564,
    "start_time": "2024-08-12T12:08:40.778Z"
   },
   {
    "duration": 1480,
    "start_time": "2024-08-12T12:08:53.435Z"
   },
   {
    "duration": 4,
    "start_time": "2024-08-12T12:09:02.960Z"
   },
   {
    "duration": 99897,
    "start_time": "2024-08-12T12:09:03.499Z"
   },
   {
    "duration": 3,
    "start_time": "2024-08-12T12:11:31.651Z"
   },
   {
    "duration": 295996,
    "start_time": "2024-08-12T12:11:32.258Z"
   },
   {
    "duration": 1247,
    "start_time": "2024-08-12T13:11:45.574Z"
   },
   {
    "duration": 153,
    "start_time": "2024-08-12T13:11:54.601Z"
   },
   {
    "duration": 922,
    "start_time": "2024-08-12T13:11:57.046Z"
   },
   {
    "duration": 11,
    "start_time": "2024-08-12T13:11:57.970Z"
   },
   {
    "duration": 33,
    "start_time": "2024-08-12T13:12:12.581Z"
   },
   {
    "duration": 5,
    "start_time": "2024-08-12T13:12:13.101Z"
   },
   {
    "duration": 226,
    "start_time": "2024-08-12T13:12:13.392Z"
   },
   {
    "duration": 441,
    "start_time": "2024-08-12T13:12:15.945Z"
   },
   {
    "duration": 3,
    "start_time": "2024-08-12T13:12:32.898Z"
   },
   {
    "duration": 3,
    "start_time": "2024-08-12T13:12:34.027Z"
   },
   {
    "duration": 1084178,
    "start_time": "2024-08-12T13:12:42.732Z"
   },
   {
    "duration": 9,
    "start_time": "2024-08-12T13:36:57.654Z"
   },
   {
    "duration": 102,
    "start_time": "2024-08-12T13:38:09.355Z"
   },
   {
    "duration": 4,
    "start_time": "2024-08-12T13:38:10.032Z"
   },
   {
    "duration": 5720,
    "start_time": "2024-08-12T13:38:10.523Z"
   },
   {
    "duration": 1679,
    "start_time": "2024-08-12T13:38:16.245Z"
   },
   {
    "duration": 4,
    "start_time": "2024-08-12T13:39:14.604Z"
   },
   {
    "duration": 5,
    "start_time": "2024-08-12T13:41:25.479Z"
   },
   {
    "duration": 91839,
    "start_time": "2024-08-12T13:41:29.557Z"
   },
   {
    "duration": 3,
    "start_time": "2024-08-12T13:43:03.115Z"
   },
   {
    "duration": 294068,
    "start_time": "2024-08-12T13:43:03.610Z"
   },
   {
    "duration": 6136,
    "start_time": "2024-08-12T13:48:05.216Z"
   },
   {
    "duration": 4,
    "start_time": "2024-08-12T13:48:19.741Z"
   },
   {
    "duration": 33,
    "start_time": "2024-08-12T13:48:23.468Z"
   },
   {
    "duration": 30,
    "start_time": "2024-08-12T13:48:32.773Z"
   },
   {
    "duration": 4667,
    "start_time": "2024-08-12T13:48:47.883Z"
   },
   {
    "duration": 5,
    "start_time": "2024-08-12T13:49:01.897Z"
   },
   {
    "duration": 1026081,
    "start_time": "2024-08-12T13:49:05.767Z"
   },
   {
    "duration": 8,
    "start_time": "2024-08-12T14:09:08.135Z"
   },
   {
    "duration": 15,
    "start_time": "2024-08-12T14:09:08.725Z"
   },
   {
    "duration": 4,
    "start_time": "2024-08-12T14:09:13.390Z"
   },
   {
    "duration": 2632,
    "start_time": "2024-08-12T15:59:07.592Z"
   },
   {
    "duration": 11464,
    "start_time": "2024-08-12T15:59:10.227Z"
   },
   {
    "duration": 864,
    "start_time": "2024-08-12T15:59:21.692Z"
   },
   {
    "duration": 8,
    "start_time": "2024-08-12T15:59:22.558Z"
   },
   {
    "duration": 36,
    "start_time": "2024-08-12T15:59:22.568Z"
   },
   {
    "duration": 4,
    "start_time": "2024-08-12T15:59:22.605Z"
   },
   {
    "duration": 220,
    "start_time": "2024-08-12T15:59:22.610Z"
   },
   {
    "duration": 407,
    "start_time": "2024-08-12T15:59:22.832Z"
   },
   {
    "duration": 4,
    "start_time": "2024-08-12T15:59:23.241Z"
   },
   {
    "duration": 29,
    "start_time": "2024-08-12T15:59:23.248Z"
   },
   {
    "duration": 1017676,
    "start_time": "2024-08-12T15:59:23.278Z"
   },
   {
    "duration": 8,
    "start_time": "2024-08-12T16:16:20.955Z"
   },
   {
    "duration": 83,
    "start_time": "2024-08-12T16:16:20.964Z"
   },
   {
    "duration": 3,
    "start_time": "2024-08-12T16:16:21.050Z"
   },
   {
    "duration": 4823,
    "start_time": "2024-08-12T16:16:21.055Z"
   },
   {
    "duration": 1509,
    "start_time": "2024-08-12T16:16:25.882Z"
   },
   {
    "duration": 3,
    "start_time": "2024-08-12T16:16:27.393Z"
   },
   {
    "duration": 10,
    "start_time": "2024-08-12T16:16:27.397Z"
   },
   {
    "duration": 958879,
    "start_time": "2024-08-12T16:16:27.408Z"
   },
   {
    "duration": 96,
    "start_time": "2024-08-12T16:32:26.289Z"
   },
   {
    "duration": 38,
    "start_time": "2024-08-12T16:32:26.387Z"
   },
   {
    "duration": 4,
    "start_time": "2024-08-12T16:32:26.427Z"
   }
  ],
  "kernelspec": {
   "display_name": "Python 3 (ipykernel)",
   "language": "python",
   "name": "python3"
  },
  "language_info": {
   "codemirror_mode": {
    "name": "ipython",
    "version": 3
   },
   "file_extension": ".py",
   "mimetype": "text/x-python",
   "name": "python",
   "nbconvert_exporter": "python",
   "pygments_lexer": "ipython3",
   "version": "3.9.5"
  },
  "toc": {
   "base_numbering": 1,
   "nav_menu": {},
   "number_sections": true,
   "sideBar": true,
   "skip_h1_title": true,
   "title_cell": "Содержание",
   "title_sidebar": "Contents",
   "toc_cell": true,
   "toc_position": {
    "height": "calc(100% - 180px)",
    "left": "10px",
    "top": "150px",
    "width": "302.391px"
   },
   "toc_section_display": true,
   "toc_window_display": false
  }
 },
 "nbformat": 4,
 "nbformat_minor": 2
}
