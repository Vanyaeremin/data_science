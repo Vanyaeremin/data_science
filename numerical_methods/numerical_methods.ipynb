{
 "cells": [
  {
   "cell_type": "markdown",
   "metadata": {},
   "source": [
    "# Определение стоимости автомобилей"
   ]
  },
  {
   "cell_type": "markdown",
   "metadata": {},
   "source": [
    "Сервис по продаже автомобилей с пробегом «Не бит, не крашен» разрабатывает приложение для привлечения новых клиентов. В нём можно быстро узнать рыночную стоимость своего автомобиля. В вашем распоряжении исторические данные: технические характеристики, комплектации и цены автомобилей. Вам нужно построить модель для определения стоимости. \n",
    "\n",
    "Заказчику важны:\n",
    "\n",
    "- качество предсказания;\n",
    "- скорость предсказания;\n",
    "- время обучения."
   ]
  },
  {
   "cell_type": "markdown",
   "metadata": {},
   "source": [
    "### Описание данных\n",
    "Данные находятся в файле `/datasets/autos.csv`\\\n",
    "**Признаки**\\\n",
    "`DateCrawled` — дата скачивания анкеты из базы\\\n",
    "`VehicleType` — тип автомобильного кузова\\\n",
    "`RegistrationYear` — год регистрации автомобиля\\\n",
    "`Gearbox` — тип коробки передач\\\n",
    "`Power` — мощность (л. с.)\\\n",
    "`Model` — модель автомобиля\\\n",
    "`Kilometer` — пробег (км)\\\n",
    "`RegistrationMonth` — месяц регистрации автомобиля\\\n",
    "`FuelType` — тип топлива\\\n",
    "`Brand` — марка автомобиля\\\n",
    "`Repaired` — была машина в ремонте или нет\\\n",
    "`DateCreated` — дата создания анкеты\\\n",
    "`NumberOfPictures` — количество фотографий автомобиля\\\n",
    "`PostalCode` — почтовый индекс владельца анкеты (пользователя)\\\n",
    "`LastSeen` — дата последней активности пользователя\\\n",
    "**Целевой признак**\\\n",
    "`Price` — цена (евро)\n",
    "\n",
    "### Ход работы \n",
    "- Загрузите данные, путь к файлу: `/datasets/autos.csv`.\n",
    "- Изучите данные. Заполните пропущенные значения и обработайте аномалии в столбцах. Если среди признаков имеются неинформативные, удалите их.\n",
    "- Подготовьте выборки для обучения моделей.\n",
    "- Обучите разные модели, одна из которых — LightGBM, как минимум одна — не бустинг. Для каждой модели попробуйте разные гиперпараметры.\n",
    "- Проанализируйте время обучения, время предсказания и качество моделей.\n",
    "- Опираясь на критерии заказчика, выберете лучшую модель, проверьте её качество на тестовой выборке."
   ]
  },
  {
   "cell_type": "markdown",
   "metadata": {},
   "source": [
    "## Подготовка данных"
   ]
  },
  {
   "cell_type": "code",
   "execution_count": 1,
   "metadata": {},
   "outputs": [
    {
     "name": "stdout",
     "output_type": "stream",
     "text": [
      "Requirement already satisfied: phik in /opt/conda/lib/python3.9/site-packages (0.12.4)\n",
      "Requirement already satisfied: pandas>=0.25.1 in /opt/conda/lib/python3.9/site-packages (from phik) (1.2.4)\n",
      "Requirement already satisfied: matplotlib>=2.2.3 in /opt/conda/lib/python3.9/site-packages (from phik) (3.3.4)\n",
      "Requirement already satisfied: joblib>=0.14.1 in /opt/conda/lib/python3.9/site-packages (from phik) (1.1.0)\n",
      "Requirement already satisfied: numpy>=1.18.0 in /opt/conda/lib/python3.9/site-packages (from phik) (1.21.1)\n",
      "Requirement already satisfied: scipy>=1.5.2 in /opt/conda/lib/python3.9/site-packages (from phik) (1.9.1)\n",
      "Requirement already satisfied: kiwisolver>=1.0.1 in /opt/conda/lib/python3.9/site-packages (from matplotlib>=2.2.3->phik) (1.4.4)\n",
      "Requirement already satisfied: pyparsing!=2.0.4,!=2.1.2,!=2.1.6,>=2.0.3 in /opt/conda/lib/python3.9/site-packages (from matplotlib>=2.2.3->phik) (2.4.7)\n",
      "Requirement already satisfied: cycler>=0.10 in /opt/conda/lib/python3.9/site-packages (from matplotlib>=2.2.3->phik) (0.11.0)\n",
      "Requirement already satisfied: python-dateutil>=2.1 in /opt/conda/lib/python3.9/site-packages (from matplotlib>=2.2.3->phik) (2.8.1)\n",
      "Requirement already satisfied: pillow>=6.2.0 in /opt/conda/lib/python3.9/site-packages (from matplotlib>=2.2.3->phik) (8.4.0)\n",
      "Requirement already satisfied: pytz>=2017.3 in /opt/conda/lib/python3.9/site-packages (from pandas>=0.25.1->phik) (2021.1)\n",
      "Requirement already satisfied: six>=1.5 in /opt/conda/lib/python3.9/site-packages (from python-dateutil>=2.1->matplotlib>=2.2.3->phik) (1.16.0)\n",
      "Requirement already satisfied: missingno in /opt/conda/lib/python3.9/site-packages (0.5.2)\n",
      "Requirement already satisfied: seaborn in /opt/conda/lib/python3.9/site-packages (from missingno) (0.11.1)\n",
      "Requirement already satisfied: numpy in /opt/conda/lib/python3.9/site-packages (from missingno) (1.21.1)\n",
      "Requirement already satisfied: scipy in /opt/conda/lib/python3.9/site-packages (from missingno) (1.9.1)\n",
      "Requirement already satisfied: matplotlib in /opt/conda/lib/python3.9/site-packages (from missingno) (3.3.4)\n",
      "Requirement already satisfied: python-dateutil>=2.1 in /opt/conda/lib/python3.9/site-packages (from matplotlib->missingno) (2.8.1)\n",
      "Requirement already satisfied: pyparsing!=2.0.4,!=2.1.2,!=2.1.6,>=2.0.3 in /opt/conda/lib/python3.9/site-packages (from matplotlib->missingno) (2.4.7)\n",
      "Requirement already satisfied: cycler>=0.10 in /opt/conda/lib/python3.9/site-packages (from matplotlib->missingno) (0.11.0)\n",
      "Requirement already satisfied: pillow>=6.2.0 in /opt/conda/lib/python3.9/site-packages (from matplotlib->missingno) (8.4.0)\n",
      "Requirement already satisfied: kiwisolver>=1.0.1 in /opt/conda/lib/python3.9/site-packages (from matplotlib->missingno) (1.4.4)\n",
      "Requirement already satisfied: six>=1.5 in /opt/conda/lib/python3.9/site-packages (from python-dateutil>=2.1->matplotlib->missingno) (1.16.0)\n",
      "Requirement already satisfied: pandas>=0.23 in /opt/conda/lib/python3.9/site-packages (from seaborn->missingno) (1.2.4)\n",
      "Requirement already satisfied: pytz>=2017.3 in /opt/conda/lib/python3.9/site-packages (from pandas>=0.23->seaborn->missingno) (2021.1)\n"
     ]
    }
   ],
   "source": [
    "!pip install phik\n",
    "!pip install missingno "
   ]
  },
  {
   "cell_type": "code",
   "execution_count": 2,
   "metadata": {},
   "outputs": [],
   "source": [
    "import pandas as pd\n",
    "import numpy as np\n",
    "import seaborn as sns\n",
    "\n",
    "from sklearn.model_selection import train_test_split \n",
    "from sklearn.pipeline import Pipeline\n",
    "from sklearn.impute import SimpleImputer\n",
    "from sklearn.compose import ColumnTransformer\n",
    "from sklearn.preprocessing import OneHotEncoder, OrdinalEncoder, StandardScaler, MinMaxScaler, RobustScaler, LabelEncoder\n",
    "from sklearn.model_selection import RandomizedSearchCV\n",
    "from sklearn.metrics import mean_squared_error \n",
    "\n",
    "from lightgbm import LGBMRegressor\n",
    "from sklearn.tree import DecisionTreeRegressor\n",
    "from sklearn.linear_model import LinearRegression\n",
    "\n",
    "import phik\n",
    "import missingno as msno"
   ]
  },
  {
   "cell_type": "code",
   "execution_count": 3,
   "metadata": {},
   "outputs": [],
   "source": [
    "df = pd.read_csv('/datasets/autos.csv')"
   ]
  },
  {
   "cell_type": "code",
   "execution_count": 4,
   "metadata": {},
   "outputs": [
    {
     "name": "stdout",
     "output_type": "stream",
     "text": [
      "Размер использования памяти: до 43.26 Mb - после 29.74 Mb (31.2%)\n"
     ]
    }
   ],
   "source": [
    "# Оптимизация числовых типов данных\n",
    "def optimize_memory_usage(df: pd.DataFrame, print_size: bool=True) -> pd.DataFrame:\n",
    "    numerics = ['int16', 'int32', 'int64', 'float16', 'float32', 'float64'] # Типы, которые будем проверять на оптимизацию\n",
    "    # Размер занимаемой памяти до оптимизации (в Мб)\n",
    "    before_size = df.memory_usage().sum() / 1024**2    \n",
    "    for column in df.columns:\n",
    "        column_type = df[column].dtypes\n",
    "        if column_type in numerics:\n",
    "            column_min = df[column].min()\n",
    "            column_max = df[column].max()\n",
    "            if str(column_type).startswith('int'):\n",
    "                if column_min > np.iinfo(np.int8).min and column_max < np.iinfo(np.int8).max:\n",
    "                    df[column] = df[column].astype(np.int8)\n",
    "                elif column_min > np.iinfo(np.int16).min and column_max < np.iinfo(np.int16).max:\n",
    "                    df[column] = df[column].astype(np.int16)\n",
    "                elif column_min > np.iinfo(np.int32).min and column_max < np.iinfo(np.int32).max:\n",
    "                    df[column] = df[column].astype(np.int32)\n",
    "                elif column_min > np.iinfo(np.int64).min and column_max < np.iinfo(np.int64).max:\n",
    "                    df[column] = df[column].astype(np.int64)  \n",
    "            else:\n",
    "                if column_min > np.finfo(np.float32).min and column_max < np.finfo(np.float32).max:\n",
    "                    df[column] = df[column].astype(np.float32)\n",
    "                else:\n",
    "                    df[column] = df[column].astype(np.float64)    \n",
    "    # Размер занимаемой памяти после оптимизации (в Мб)\n",
    "    after_size = df.memory_usage().sum() / 1024**2\n",
    "    if print_size: print('Размер использования памяти: до {:5.2f} Mb - после {:5.2f} Mb ({:.1f}%)'\n",
    "                         .format(before_size, after_size, 100 * (before_size - after_size) / before_size))\n",
    "    return df\n",
    "df = optimize_memory_usage(df)"
   ]
  },
  {
   "cell_type": "code",
   "execution_count": 5,
   "metadata": {},
   "outputs": [
    {
     "data": {
      "text/html": [
       "<div>\n",
       "<style scoped>\n",
       "    .dataframe tbody tr th:only-of-type {\n",
       "        vertical-align: middle;\n",
       "    }\n",
       "\n",
       "    .dataframe tbody tr th {\n",
       "        vertical-align: top;\n",
       "    }\n",
       "\n",
       "    .dataframe thead th {\n",
       "        text-align: right;\n",
       "    }\n",
       "</style>\n",
       "<table border=\"1\" class=\"dataframe\">\n",
       "  <thead>\n",
       "    <tr style=\"text-align: right;\">\n",
       "      <th></th>\n",
       "      <th>DateCrawled</th>\n",
       "      <th>Price</th>\n",
       "      <th>VehicleType</th>\n",
       "      <th>RegistrationYear</th>\n",
       "      <th>Gearbox</th>\n",
       "      <th>Power</th>\n",
       "      <th>Model</th>\n",
       "      <th>Kilometer</th>\n",
       "      <th>RegistrationMonth</th>\n",
       "      <th>FuelType</th>\n",
       "      <th>Brand</th>\n",
       "      <th>Repaired</th>\n",
       "      <th>DateCreated</th>\n",
       "      <th>NumberOfPictures</th>\n",
       "      <th>PostalCode</th>\n",
       "      <th>LastSeen</th>\n",
       "    </tr>\n",
       "  </thead>\n",
       "  <tbody>\n",
       "    <tr>\n",
       "      <th>0</th>\n",
       "      <td>2016-03-24 11:52:17</td>\n",
       "      <td>480</td>\n",
       "      <td>NaN</td>\n",
       "      <td>1993</td>\n",
       "      <td>manual</td>\n",
       "      <td>0</td>\n",
       "      <td>golf</td>\n",
       "      <td>150000</td>\n",
       "      <td>0</td>\n",
       "      <td>petrol</td>\n",
       "      <td>volkswagen</td>\n",
       "      <td>NaN</td>\n",
       "      <td>2016-03-24 00:00:00</td>\n",
       "      <td>0</td>\n",
       "      <td>70435</td>\n",
       "      <td>2016-04-07 03:16:57</td>\n",
       "    </tr>\n",
       "    <tr>\n",
       "      <th>1</th>\n",
       "      <td>2016-03-24 10:58:45</td>\n",
       "      <td>18300</td>\n",
       "      <td>coupe</td>\n",
       "      <td>2011</td>\n",
       "      <td>manual</td>\n",
       "      <td>190</td>\n",
       "      <td>NaN</td>\n",
       "      <td>125000</td>\n",
       "      <td>5</td>\n",
       "      <td>gasoline</td>\n",
       "      <td>audi</td>\n",
       "      <td>yes</td>\n",
       "      <td>2016-03-24 00:00:00</td>\n",
       "      <td>0</td>\n",
       "      <td>66954</td>\n",
       "      <td>2016-04-07 01:46:50</td>\n",
       "    </tr>\n",
       "    <tr>\n",
       "      <th>2</th>\n",
       "      <td>2016-03-14 12:52:21</td>\n",
       "      <td>9800</td>\n",
       "      <td>suv</td>\n",
       "      <td>2004</td>\n",
       "      <td>auto</td>\n",
       "      <td>163</td>\n",
       "      <td>grand</td>\n",
       "      <td>125000</td>\n",
       "      <td>8</td>\n",
       "      <td>gasoline</td>\n",
       "      <td>jeep</td>\n",
       "      <td>NaN</td>\n",
       "      <td>2016-03-14 00:00:00</td>\n",
       "      <td>0</td>\n",
       "      <td>90480</td>\n",
       "      <td>2016-04-05 12:47:46</td>\n",
       "    </tr>\n",
       "    <tr>\n",
       "      <th>3</th>\n",
       "      <td>2016-03-17 16:54:04</td>\n",
       "      <td>1500</td>\n",
       "      <td>small</td>\n",
       "      <td>2001</td>\n",
       "      <td>manual</td>\n",
       "      <td>75</td>\n",
       "      <td>golf</td>\n",
       "      <td>150000</td>\n",
       "      <td>6</td>\n",
       "      <td>petrol</td>\n",
       "      <td>volkswagen</td>\n",
       "      <td>no</td>\n",
       "      <td>2016-03-17 00:00:00</td>\n",
       "      <td>0</td>\n",
       "      <td>91074</td>\n",
       "      <td>2016-03-17 17:40:17</td>\n",
       "    </tr>\n",
       "    <tr>\n",
       "      <th>4</th>\n",
       "      <td>2016-03-31 17:25:20</td>\n",
       "      <td>3600</td>\n",
       "      <td>small</td>\n",
       "      <td>2008</td>\n",
       "      <td>manual</td>\n",
       "      <td>69</td>\n",
       "      <td>fabia</td>\n",
       "      <td>90000</td>\n",
       "      <td>7</td>\n",
       "      <td>gasoline</td>\n",
       "      <td>skoda</td>\n",
       "      <td>no</td>\n",
       "      <td>2016-03-31 00:00:00</td>\n",
       "      <td>0</td>\n",
       "      <td>60437</td>\n",
       "      <td>2016-04-06 10:17:21</td>\n",
       "    </tr>\n",
       "  </tbody>\n",
       "</table>\n",
       "</div>"
      ],
      "text/plain": [
       "           DateCrawled  Price VehicleType  RegistrationYear Gearbox  Power  \\\n",
       "0  2016-03-24 11:52:17    480         NaN              1993  manual      0   \n",
       "1  2016-03-24 10:58:45  18300       coupe              2011  manual    190   \n",
       "2  2016-03-14 12:52:21   9800         suv              2004    auto    163   \n",
       "3  2016-03-17 16:54:04   1500       small              2001  manual     75   \n",
       "4  2016-03-31 17:25:20   3600       small              2008  manual     69   \n",
       "\n",
       "   Model  Kilometer  RegistrationMonth  FuelType       Brand Repaired  \\\n",
       "0   golf     150000                  0    petrol  volkswagen      NaN   \n",
       "1    NaN     125000                  5  gasoline        audi      yes   \n",
       "2  grand     125000                  8  gasoline        jeep      NaN   \n",
       "3   golf     150000                  6    petrol  volkswagen       no   \n",
       "4  fabia      90000                  7  gasoline       skoda       no   \n",
       "\n",
       "           DateCreated  NumberOfPictures  PostalCode             LastSeen  \n",
       "0  2016-03-24 00:00:00                 0       70435  2016-04-07 03:16:57  \n",
       "1  2016-03-24 00:00:00                 0       66954  2016-04-07 01:46:50  \n",
       "2  2016-03-14 00:00:00                 0       90480  2016-04-05 12:47:46  \n",
       "3  2016-03-17 00:00:00                 0       91074  2016-03-17 17:40:17  \n",
       "4  2016-03-31 00:00:00                 0       60437  2016-04-06 10:17:21  "
      ]
     },
     "execution_count": 5,
     "metadata": {},
     "output_type": "execute_result"
    }
   ],
   "source": [
    "df.head() "
   ]
  },
  {
   "cell_type": "code",
   "execution_count": 6,
   "metadata": {},
   "outputs": [],
   "source": [
    "# Преобразуем типы данных\n",
    "df['DateCrawled'] = pd.to_datetime(df['DateCrawled'])\n",
    "df['DateCreated'] = pd.to_datetime(df['DateCreated'])\n",
    "df['LastSeen'] = pd.to_datetime(df['LastSeen'])"
   ]
  },
  {
   "cell_type": "code",
   "execution_count": 7,
   "metadata": {},
   "outputs": [
    {
     "name": "stdout",
     "output_type": "stream",
     "text": [
      "<class 'pandas.core.frame.DataFrame'>\n",
      "RangeIndex: 354369 entries, 0 to 354368\n",
      "Data columns (total 16 columns):\n",
      " #   Column             Non-Null Count   Dtype         \n",
      "---  ------             --------------   -----         \n",
      " 0   DateCrawled        354369 non-null  datetime64[ns]\n",
      " 1   Price              354369 non-null  int16         \n",
      " 2   VehicleType        316879 non-null  object        \n",
      " 3   RegistrationYear   354369 non-null  int16         \n",
      " 4   Gearbox            334536 non-null  object        \n",
      " 5   Power              354369 non-null  int16         \n",
      " 6   Model              334664 non-null  object        \n",
      " 7   Kilometer          354369 non-null  int32         \n",
      " 8   RegistrationMonth  354369 non-null  int8          \n",
      " 9   FuelType           321474 non-null  object        \n",
      " 10  Brand              354369 non-null  object        \n",
      " 11  Repaired           283215 non-null  object        \n",
      " 12  DateCreated        354369 non-null  datetime64[ns]\n",
      " 13  NumberOfPictures   354369 non-null  int8          \n",
      " 14  PostalCode         354369 non-null  int32         \n",
      " 15  LastSeen           354369 non-null  datetime64[ns]\n",
      "dtypes: datetime64[ns](3), int16(3), int32(2), int8(2), object(6)\n",
      "memory usage: 29.7+ MB\n"
     ]
    }
   ],
   "source": [
    "df.info() #Общая информация"
   ]
  },
  {
   "cell_type": "code",
   "execution_count": 8,
   "metadata": {},
   "outputs": [
    {
     "data": {
      "text/html": [
       "<div>\n",
       "<style scoped>\n",
       "    .dataframe tbody tr th:only-of-type {\n",
       "        vertical-align: middle;\n",
       "    }\n",
       "\n",
       "    .dataframe tbody tr th {\n",
       "        vertical-align: top;\n",
       "    }\n",
       "\n",
       "    .dataframe thead th {\n",
       "        text-align: right;\n",
       "    }\n",
       "</style>\n",
       "<table border=\"1\" class=\"dataframe\">\n",
       "  <thead>\n",
       "    <tr style=\"text-align: right;\">\n",
       "      <th></th>\n",
       "      <th>Price</th>\n",
       "      <th>RegistrationYear</th>\n",
       "      <th>Power</th>\n",
       "      <th>Kilometer</th>\n",
       "      <th>RegistrationMonth</th>\n",
       "      <th>NumberOfPictures</th>\n",
       "      <th>PostalCode</th>\n",
       "    </tr>\n",
       "  </thead>\n",
       "  <tbody>\n",
       "    <tr>\n",
       "      <th>count</th>\n",
       "      <td>354369.000000</td>\n",
       "      <td>354369.000000</td>\n",
       "      <td>354369.000000</td>\n",
       "      <td>354369.000000</td>\n",
       "      <td>354369.000000</td>\n",
       "      <td>354369.0</td>\n",
       "      <td>354369.000000</td>\n",
       "    </tr>\n",
       "    <tr>\n",
       "      <th>mean</th>\n",
       "      <td>4416.656776</td>\n",
       "      <td>2004.234448</td>\n",
       "      <td>110.094337</td>\n",
       "      <td>128211.172535</td>\n",
       "      <td>5.714645</td>\n",
       "      <td>0.0</td>\n",
       "      <td>50508.689087</td>\n",
       "    </tr>\n",
       "    <tr>\n",
       "      <th>std</th>\n",
       "      <td>4514.158514</td>\n",
       "      <td>90.227958</td>\n",
       "      <td>189.850405</td>\n",
       "      <td>37905.341530</td>\n",
       "      <td>3.726421</td>\n",
       "      <td>0.0</td>\n",
       "      <td>25783.096248</td>\n",
       "    </tr>\n",
       "    <tr>\n",
       "      <th>min</th>\n",
       "      <td>0.000000</td>\n",
       "      <td>1000.000000</td>\n",
       "      <td>0.000000</td>\n",
       "      <td>5000.000000</td>\n",
       "      <td>0.000000</td>\n",
       "      <td>0.0</td>\n",
       "      <td>1067.000000</td>\n",
       "    </tr>\n",
       "    <tr>\n",
       "      <th>25%</th>\n",
       "      <td>1050.000000</td>\n",
       "      <td>1999.000000</td>\n",
       "      <td>69.000000</td>\n",
       "      <td>125000.000000</td>\n",
       "      <td>3.000000</td>\n",
       "      <td>0.0</td>\n",
       "      <td>30165.000000</td>\n",
       "    </tr>\n",
       "    <tr>\n",
       "      <th>50%</th>\n",
       "      <td>2700.000000</td>\n",
       "      <td>2003.000000</td>\n",
       "      <td>105.000000</td>\n",
       "      <td>150000.000000</td>\n",
       "      <td>6.000000</td>\n",
       "      <td>0.0</td>\n",
       "      <td>49413.000000</td>\n",
       "    </tr>\n",
       "    <tr>\n",
       "      <th>75%</th>\n",
       "      <td>6400.000000</td>\n",
       "      <td>2008.000000</td>\n",
       "      <td>143.000000</td>\n",
       "      <td>150000.000000</td>\n",
       "      <td>9.000000</td>\n",
       "      <td>0.0</td>\n",
       "      <td>71083.000000</td>\n",
       "    </tr>\n",
       "    <tr>\n",
       "      <th>max</th>\n",
       "      <td>20000.000000</td>\n",
       "      <td>9999.000000</td>\n",
       "      <td>20000.000000</td>\n",
       "      <td>150000.000000</td>\n",
       "      <td>12.000000</td>\n",
       "      <td>0.0</td>\n",
       "      <td>99998.000000</td>\n",
       "    </tr>\n",
       "  </tbody>\n",
       "</table>\n",
       "</div>"
      ],
      "text/plain": [
       "               Price  RegistrationYear          Power      Kilometer  \\\n",
       "count  354369.000000     354369.000000  354369.000000  354369.000000   \n",
       "mean     4416.656776       2004.234448     110.094337  128211.172535   \n",
       "std      4514.158514         90.227958     189.850405   37905.341530   \n",
       "min         0.000000       1000.000000       0.000000    5000.000000   \n",
       "25%      1050.000000       1999.000000      69.000000  125000.000000   \n",
       "50%      2700.000000       2003.000000     105.000000  150000.000000   \n",
       "75%      6400.000000       2008.000000     143.000000  150000.000000   \n",
       "max     20000.000000       9999.000000   20000.000000  150000.000000   \n",
       "\n",
       "       RegistrationMonth  NumberOfPictures     PostalCode  \n",
       "count      354369.000000          354369.0  354369.000000  \n",
       "mean            5.714645               0.0   50508.689087  \n",
       "std             3.726421               0.0   25783.096248  \n",
       "min             0.000000               0.0    1067.000000  \n",
       "25%             3.000000               0.0   30165.000000  \n",
       "50%             6.000000               0.0   49413.000000  \n",
       "75%             9.000000               0.0   71083.000000  \n",
       "max            12.000000               0.0   99998.000000  "
      ]
     },
     "execution_count": 8,
     "metadata": {},
     "output_type": "execute_result"
    }
   ],
   "source": [
    "df.describe()"
   ]
  },
  {
   "cell_type": "code",
   "execution_count": 9,
   "metadata": {},
   "outputs": [],
   "source": [
    "#Займёмся обработкой аномальных значений, таких как 1000 год или нулевая цена\n",
    "df = df[(df['Price']>=10) & (df['RegistrationYear']>=1900) & (df['RegistrationYear']<=2016) & (df['Power']!=0)] \n",
    "df = df.drop(['NumberOfPictures', 'DateCrawled','DateCreated', 'RegistrationMonth', 'PostalCode', 'LastSeen'], axis = 1) #Удалим неинформативные признаки"
   ]
  },
  {
   "cell_type": "markdown",
   "metadata": {},
   "source": [
    "Столбец `NumberOfPictures` был удалён, т.к. все значения в нём нули, остальные столбцы были удалены, т.к. цена машины не зависит от того, в каком месяце было создано объявление, когда последний раз заходил пользователь, когда была скачена анкета и создано объявление"
   ]
  },
  {
   "cell_type": "code",
   "execution_count": 10,
   "metadata": {},
   "outputs": [
    {
     "data": {
      "text/html": [
       "<div>\n",
       "<style scoped>\n",
       "    .dataframe tbody tr th:only-of-type {\n",
       "        vertical-align: middle;\n",
       "    }\n",
       "\n",
       "    .dataframe tbody tr th {\n",
       "        vertical-align: top;\n",
       "    }\n",
       "\n",
       "    .dataframe thead th {\n",
       "        text-align: right;\n",
       "    }\n",
       "</style>\n",
       "<table border=\"1\" class=\"dataframe\">\n",
       "  <thead>\n",
       "    <tr style=\"text-align: right;\">\n",
       "      <th></th>\n",
       "      <th>Price</th>\n",
       "      <th>RegistrationYear</th>\n",
       "      <th>Power</th>\n",
       "      <th>Kilometer</th>\n",
       "    </tr>\n",
       "  </thead>\n",
       "  <tbody>\n",
       "    <tr>\n",
       "      <th>count</th>\n",
       "      <td>296218.000000</td>\n",
       "      <td>296218.000000</td>\n",
       "      <td>296218.000000</td>\n",
       "      <td>296218.000000</td>\n",
       "    </tr>\n",
       "    <tr>\n",
       "      <th>mean</th>\n",
       "      <td>4864.253016</td>\n",
       "      <td>2002.821263</td>\n",
       "      <td>124.269973</td>\n",
       "      <td>128252.891452</td>\n",
       "    </tr>\n",
       "    <tr>\n",
       "      <th>std</th>\n",
       "      <td>4610.881173</td>\n",
       "      <td>6.552150</td>\n",
       "      <td>190.930894</td>\n",
       "      <td>36797.992868</td>\n",
       "    </tr>\n",
       "    <tr>\n",
       "      <th>min</th>\n",
       "      <td>10.000000</td>\n",
       "      <td>1910.000000</td>\n",
       "      <td>1.000000</td>\n",
       "      <td>5000.000000</td>\n",
       "    </tr>\n",
       "    <tr>\n",
       "      <th>25%</th>\n",
       "      <td>1350.000000</td>\n",
       "      <td>1999.000000</td>\n",
       "      <td>75.000000</td>\n",
       "      <td>125000.000000</td>\n",
       "    </tr>\n",
       "    <tr>\n",
       "      <th>50%</th>\n",
       "      <td>3200.000000</td>\n",
       "      <td>2003.000000</td>\n",
       "      <td>111.000000</td>\n",
       "      <td>150000.000000</td>\n",
       "    </tr>\n",
       "    <tr>\n",
       "      <th>75%</th>\n",
       "      <td>6999.000000</td>\n",
       "      <td>2007.000000</td>\n",
       "      <td>150.000000</td>\n",
       "      <td>150000.000000</td>\n",
       "    </tr>\n",
       "    <tr>\n",
       "      <th>max</th>\n",
       "      <td>20000.000000</td>\n",
       "      <td>2016.000000</td>\n",
       "      <td>20000.000000</td>\n",
       "      <td>150000.000000</td>\n",
       "    </tr>\n",
       "  </tbody>\n",
       "</table>\n",
       "</div>"
      ],
      "text/plain": [
       "               Price  RegistrationYear          Power      Kilometer\n",
       "count  296218.000000     296218.000000  296218.000000  296218.000000\n",
       "mean     4864.253016       2002.821263     124.269973  128252.891452\n",
       "std      4610.881173          6.552150     190.930894   36797.992868\n",
       "min        10.000000       1910.000000       1.000000    5000.000000\n",
       "25%      1350.000000       1999.000000      75.000000  125000.000000\n",
       "50%      3200.000000       2003.000000     111.000000  150000.000000\n",
       "75%      6999.000000       2007.000000     150.000000  150000.000000\n",
       "max     20000.000000       2016.000000   20000.000000  150000.000000"
      ]
     },
     "execution_count": 10,
     "metadata": {},
     "output_type": "execute_result"
    }
   ],
   "source": [
    "df.describe()"
   ]
  },
  {
   "cell_type": "code",
   "execution_count": 11,
   "metadata": {},
   "outputs": [
    {
     "name": "stdout",
     "output_type": "stream",
     "text": [
      "<class 'pandas.core.frame.DataFrame'>\n",
      "Int64Index: 296218 entries, 1 to 354368\n",
      "Data columns (total 10 columns):\n",
      " #   Column            Non-Null Count   Dtype \n",
      "---  ------            --------------   ----- \n",
      " 0   Price             296218 non-null  int16 \n",
      " 1   VehicleType       285270 non-null  object\n",
      " 2   RegistrationYear  296218 non-null  int16 \n",
      " 3   Gearbox           290865 non-null  object\n",
      " 4   Power             296218 non-null  int16 \n",
      " 5   Model             285058 non-null  object\n",
      " 6   Kilometer         296218 non-null  int32 \n",
      " 7   FuelType          280724 non-null  object\n",
      " 8   Brand             296218 non-null  object\n",
      " 9   Repaired          253384 non-null  object\n",
      "dtypes: int16(3), int32(1), object(6)\n",
      "memory usage: 18.6+ MB\n"
     ]
    }
   ],
   "source": [
    "df.info()"
   ]
  },
  {
   "cell_type": "code",
   "execution_count": 12,
   "metadata": {},
   "outputs": [
    {
     "data": {
      "image/png": "[encoded data removed]",
      "text/plain": [
       "<Figure size 1800x720 with 3 Axes>"
      ]
     },
     "metadata": {},
     "output_type": "display_data"
    }
   ],
   "source": [
    "sns.set()\n",
    "msno.bar(df);"
   ]
  },
  {
   "cell_type": "code",
   "execution_count": 13,
   "metadata": {},
   "outputs": [
    {
     "data": {
      "image/png": "[encoded data removed]",
      "text/plain": [
       "<Figure size 1800x720 with 2 Axes>"
      ]
     },
     "metadata": {},
     "output_type": "display_data"
    }
   ],
   "source": [
    "msno.matrix(df);"
   ]
  },
  {
   "cell_type": "code",
   "execution_count": 14,
   "metadata": {},
   "outputs": [],
   "source": [
    "df = df.fillna('Unknown') #Пропуски только в категориальных столбцах и их количество слишком велико, чтобы удалять, так что заполним их значением Unknown"
   ]
  },
  {
   "cell_type": "code",
   "execution_count": 15,
   "metadata": {},
   "outputs": [
    {
     "data": {
      "text/html": [
       "<style  type=\"text/css\" >\n",
       "#T_426eb_row0_col0,#T_426eb_row1_col1,#T_426eb_row2_col2,#T_426eb_row3_col3,#T_426eb_row4_col4,#T_426eb_row5_col5,#T_426eb_row5_col8,#T_426eb_row6_col6,#T_426eb_row7_col7,#T_426eb_row8_col5,#T_426eb_row8_col8,#T_426eb_row9_col9{\n",
       "            background-color:  #b40426;\n",
       "            color:  #f1f1f1;\n",
       "        }#T_426eb_row0_col1,#T_426eb_row8_col6{\n",
       "            background-color:  #92b4fe;\n",
       "            color:  #000000;\n",
       "        }#T_426eb_row0_col2{\n",
       "            background-color:  #f7b599;\n",
       "            color:  #000000;\n",
       "        }#T_426eb_row0_col3{\n",
       "            background-color:  #98b9ff;\n",
       "            color:  #000000;\n",
       "        }#T_426eb_row0_col4{\n",
       "            background-color:  #3c4ec2;\n",
       "            color:  #f1f1f1;\n",
       "        }#T_426eb_row0_col5{\n",
       "            background-color:  #efcfbf;\n",
       "            color:  #000000;\n",
       "        }#T_426eb_row0_col6{\n",
       "            background-color:  #9fbfff;\n",
       "            color:  #000000;\n",
       "        }#T_426eb_row0_col7{\n",
       "            background-color:  #8caffe;\n",
       "            color:  #000000;\n",
       "        }#T_426eb_row0_col8{\n",
       "            background-color:  #b5cdfa;\n",
       "            color:  #000000;\n",
       "        }#T_426eb_row0_col9,#T_426eb_row8_col7{\n",
       "            background-color:  #a6c4fe;\n",
       "            color:  #000000;\n",
       "        }#T_426eb_row1_col0{\n",
       "            background-color:  #94b6ff;\n",
       "            color:  #000000;\n",
       "        }#T_426eb_row1_col2,#T_426eb_row2_col6{\n",
       "            background-color:  #f5c1a9;\n",
       "            color:  #000000;\n",
       "        }#T_426eb_row1_col3{\n",
       "            background-color:  #b9d0f9;\n",
       "            color:  #000000;\n",
       "        }#T_426eb_row1_col4,#T_426eb_row3_col4{\n",
       "            background-color:  #3e51c5;\n",
       "            color:  #f1f1f1;\n",
       "        }#T_426eb_row1_col5,#T_426eb_row5_col1{\n",
       "            background-color:  #d65244;\n",
       "            color:  #000000;\n",
       "        }#T_426eb_row1_col6,#T_426eb_row6_col1{\n",
       "            background-color:  #89acfd;\n",
       "            color:  #000000;\n",
       "        }#T_426eb_row1_col7{\n",
       "            background-color:  #bbd1f8;\n",
       "            color:  #000000;\n",
       "        }#T_426eb_row1_col8{\n",
       "            background-color:  #f1cdba;\n",
       "            color:  #000000;\n",
       "        }#T_426eb_row1_col9{\n",
       "            background-color:  #a3c2fe;\n",
       "            color:  #000000;\n",
       "        }#T_426eb_row2_col0{\n",
       "            background-color:  #f7b497;\n",
       "            color:  #000000;\n",
       "        }#T_426eb_row2_col1{\n",
       "            background-color:  #f5c0a7;\n",
       "            color:  #000000;\n",
       "        }#T_426eb_row2_col3{\n",
       "            background-color:  #799cf8;\n",
       "            color:  #000000;\n",
       "        }#T_426eb_row2_col4{\n",
       "            background-color:  #4055c8;\n",
       "            color:  #f1f1f1;\n",
       "        }#T_426eb_row2_col5{\n",
       "            background-color:  #f7b99e;\n",
       "            color:  #000000;\n",
       "        }#T_426eb_row2_col7,#T_426eb_row7_col2{\n",
       "            background-color:  #c4d5f3;\n",
       "            color:  #000000;\n",
       "        }#T_426eb_row2_col8{\n",
       "            background-color:  #bfd3f6;\n",
       "            color:  #000000;\n",
       "        }#T_426eb_row2_col9,#T_426eb_row9_col2{\n",
       "            background-color:  #a9c6fd;\n",
       "            color:  #000000;\n",
       "        }#T_426eb_row3_col0{\n",
       "            background-color:  #9abbff;\n",
       "            color:  #000000;\n",
       "        }#T_426eb_row3_col1{\n",
       "            background-color:  #b7cff9;\n",
       "            color:  #000000;\n",
       "        }#T_426eb_row3_col2{\n",
       "            background-color:  #7699f6;\n",
       "            color:  #000000;\n",
       "        }#T_426eb_row3_col5{\n",
       "            background-color:  #f5c4ac;\n",
       "            color:  #000000;\n",
       "        }#T_426eb_row3_col6{\n",
       "            background-color:  #465ecf;\n",
       "            color:  #f1f1f1;\n",
       "        }#T_426eb_row3_col7{\n",
       "            background-color:  #7b9ff9;\n",
       "            color:  #000000;\n",
       "        }#T_426eb_row3_col8{\n",
       "            background-color:  #e2dad5;\n",
       "            color:  #000000;\n",
       "        }#T_426eb_row3_col9,#T_426eb_row5_col9{\n",
       "            background-color:  #8fb1fe;\n",
       "            color:  #000000;\n",
       "        }#T_426eb_row4_col0,#T_426eb_row4_col1,#T_426eb_row4_col2,#T_426eb_row4_col3,#T_426eb_row4_col5,#T_426eb_row4_col6,#T_426eb_row4_col7,#T_426eb_row4_col8,#T_426eb_row4_col9,#T_426eb_row5_col4,#T_426eb_row8_col4{\n",
       "            background-color:  #3b4cc0;\n",
       "            color:  #f1f1f1;\n",
       "        }#T_426eb_row5_col0{\n",
       "            background-color:  #eed0c0;\n",
       "            color:  #000000;\n",
       "        }#T_426eb_row5_col2{\n",
       "            background-color:  #f7bca1;\n",
       "            color:  #000000;\n",
       "        }#T_426eb_row5_col3{\n",
       "            background-color:  #f4c5ad;\n",
       "            color:  #000000;\n",
       "        }#T_426eb_row5_col6{\n",
       "            background-color:  #cad8ef;\n",
       "            color:  #000000;\n",
       "        }#T_426eb_row5_col7{\n",
       "            background-color:  #e6d7cf;\n",
       "            color:  #000000;\n",
       "        }#T_426eb_row6_col0{\n",
       "            background-color:  #a2c1ff;\n",
       "            color:  #000000;\n",
       "        }#T_426eb_row6_col2{\n",
       "            background-color:  #f5c2aa;\n",
       "            color:  #000000;\n",
       "        }#T_426eb_row6_col3{\n",
       "            background-color:  #485fd1;\n",
       "            color:  #f1f1f1;\n",
       "        }#T_426eb_row6_col4,#T_426eb_row7_col4,#T_426eb_row9_col4{\n",
       "            background-color:  #3f53c6;\n",
       "            color:  #f1f1f1;\n",
       "        }#T_426eb_row6_col5{\n",
       "            background-color:  #cdd9ec;\n",
       "            color:  #000000;\n",
       "        }#T_426eb_row6_col7,#T_426eb_row7_col6{\n",
       "            background-color:  #6687ed;\n",
       "            color:  #000000;\n",
       "        }#T_426eb_row6_col8{\n",
       "            background-color:  #96b7ff;\n",
       "            color:  #000000;\n",
       "        }#T_426eb_row6_col9,#T_426eb_row9_col6{\n",
       "            background-color:  #80a3fa;\n",
       "            color:  #000000;\n",
       "        }#T_426eb_row7_col0,#T_426eb_row9_col3{\n",
       "            background-color:  #90b2fe;\n",
       "            color:  #000000;\n",
       "        }#T_426eb_row7_col1{\n",
       "            background-color:  #bcd2f7;\n",
       "            color:  #000000;\n",
       "        }#T_426eb_row7_col3{\n",
       "            background-color:  #7da0f9;\n",
       "            color:  #000000;\n",
       "        }#T_426eb_row7_col5{\n",
       "            background-color:  #e8d6cc;\n",
       "            color:  #000000;\n",
       "        }#T_426eb_row7_col8,#T_426eb_row9_col0{\n",
       "            background-color:  #aac7fd;\n",
       "            color:  #000000;\n",
       "        }#T_426eb_row7_col9,#T_426eb_row9_col7{\n",
       "            background-color:  #7597f6;\n",
       "            color:  #000000;\n",
       "        }#T_426eb_row8_col0{\n",
       "            background-color:  #b3cdfb;\n",
       "            color:  #000000;\n",
       "        }#T_426eb_row8_col1{\n",
       "            background-color:  #efcebd;\n",
       "            color:  #000000;\n",
       "        }#T_426eb_row8_col2{\n",
       "            background-color:  #bad0f8;\n",
       "            color:  #000000;\n",
       "        }#T_426eb_row8_col3{\n",
       "            background-color:  #e1dad6;\n",
       "            color:  #000000;\n",
       "        }#T_426eb_row8_col9{\n",
       "            background-color:  #5e7de7;\n",
       "            color:  #000000;\n",
       "        }#T_426eb_row9_col1{\n",
       "            background-color:  #a5c3fe;\n",
       "            color:  #000000;\n",
       "        }#T_426eb_row9_col5{\n",
       "            background-color:  #93b5fe;\n",
       "            color:  #000000;\n",
       "        }#T_426eb_row9_col8{\n",
       "            background-color:  #6384eb;\n",
       "            color:  #000000;\n",
       "        }</style><table id=\"T_426eb_\" ><thead>    <tr>        <th class=\"blank level0\" ></th>        <th class=\"col_heading level0 col0\" >Price</th>        <th class=\"col_heading level0 col1\" >VehicleType</th>        <th class=\"col_heading level0 col2\" >RegistrationYear</th>        <th class=\"col_heading level0 col3\" >Gearbox</th>        <th class=\"col_heading level0 col4\" >Power</th>        <th class=\"col_heading level0 col5\" >Model</th>        <th class=\"col_heading level0 col6\" >Kilometer</th>        <th class=\"col_heading level0 col7\" >FuelType</th>        <th class=\"col_heading level0 col8\" >Brand</th>        <th class=\"col_heading level0 col9\" >Repaired</th>    </tr></thead><tbody>\n",
       "                <tr>\n",
       "                        <th id=\"T_426eb_level0_row0\" class=\"row_heading level0 row0\" >Price</th>\n",
       "                        <td id=\"T_426eb_row0_col0\" class=\"data row0 col0\" >1.000000</td>\n",
       "                        <td id=\"T_426eb_row0_col1\" class=\"data row0 col1\" >0.274475</td>\n",
       "                        <td id=\"T_426eb_row0_col2\" class=\"data row0 col2\" >0.681359</td>\n",
       "                        <td id=\"T_426eb_row0_col3\" class=\"data row0 col3\" >0.292763</td>\n",
       "                        <td id=\"T_426eb_row0_col4\" class=\"data row0 col4\" >0.006193</td>\n",
       "                        <td id=\"T_426eb_row0_col5\" class=\"data row0 col5\" >0.578497</td>\n",
       "                        <td id=\"T_426eb_row0_col6\" class=\"data row0 col6\" >0.313855</td>\n",
       "                        <td id=\"T_426eb_row0_col7\" class=\"data row0 col7\" >0.263221</td>\n",
       "                        <td id=\"T_426eb_row0_col8\" class=\"data row0 col8\" >0.363349</td>\n",
       "                        <td id=\"T_426eb_row0_col9\" class=\"data row0 col9\" >0.336682</td>\n",
       "            </tr>\n",
       "            <tr>\n",
       "                        <th id=\"T_426eb_level0_row1\" class=\"row_heading level0 row1\" >VehicleType</th>\n",
       "                        <td id=\"T_426eb_row1_col0\" class=\"data row1 col0\" >0.274475</td>\n",
       "                        <td id=\"T_426eb_row1_col1\" class=\"data row1 col1\" >1.000000</td>\n",
       "                        <td id=\"T_426eb_row1_col2\" class=\"data row1 col2\" >0.643568</td>\n",
       "                        <td id=\"T_426eb_row1_col3\" class=\"data row1 col3\" >0.383012</td>\n",
       "                        <td id=\"T_426eb_row1_col4\" class=\"data row1 col4\" >0.012898</td>\n",
       "                        <td id=\"T_426eb_row1_col5\" class=\"data row1 col5\" >0.901111</td>\n",
       "                        <td id=\"T_426eb_row1_col6\" class=\"data row1 col6\" >0.251443</td>\n",
       "                        <td id=\"T_426eb_row1_col7\" class=\"data row1 col7\" >0.395823</td>\n",
       "                        <td id=\"T_426eb_row1_col8\" class=\"data row1 col8\" >0.591275</td>\n",
       "                        <td id=\"T_426eb_row1_col9\" class=\"data row1 col9\" >0.327427</td>\n",
       "            </tr>\n",
       "            <tr>\n",
       "                        <th id=\"T_426eb_level0_row2\" class=\"row_heading level0 row2\" >RegistrationYear</th>\n",
       "                        <td id=\"T_426eb_row2_col0\" class=\"data row2 col0\" >0.681359</td>\n",
       "                        <td id=\"T_426eb_row2_col1\" class=\"data row2 col1\" >0.643568</td>\n",
       "                        <td id=\"T_426eb_row2_col2\" class=\"data row2 col2\" >1.000000</td>\n",
       "                        <td id=\"T_426eb_row2_col3\" class=\"data row2 col3\" >0.203107</td>\n",
       "                        <td id=\"T_426eb_row2_col4\" class=\"data row2 col4\" >0.022394</td>\n",
       "                        <td id=\"T_426eb_row2_col5\" class=\"data row2 col5\" >0.662412</td>\n",
       "                        <td id=\"T_426eb_row2_col6\" class=\"data row2 col6\" >0.639149</td>\n",
       "                        <td id=\"T_426eb_row2_col7\" class=\"data row2 col7\" >0.423443</td>\n",
       "                        <td id=\"T_426eb_row2_col8\" class=\"data row2 col8\" >0.394743</td>\n",
       "                        <td id=\"T_426eb_row2_col9\" class=\"data row2 col9\" >0.344088</td>\n",
       "            </tr>\n",
       "            <tr>\n",
       "                        <th id=\"T_426eb_level0_row3\" class=\"row_heading level0 row3\" >Gearbox</th>\n",
       "                        <td id=\"T_426eb_row3_col0\" class=\"data row3 col0\" >0.292763</td>\n",
       "                        <td id=\"T_426eb_row3_col1\" class=\"data row3 col1\" >0.383012</td>\n",
       "                        <td id=\"T_426eb_row3_col2\" class=\"data row3 col2\" >0.203107</td>\n",
       "                        <td id=\"T_426eb_row3_col3\" class=\"data row3 col3\" >1.000000</td>\n",
       "                        <td id=\"T_426eb_row3_col4\" class=\"data row3 col4\" >0.012290</td>\n",
       "                        <td id=\"T_426eb_row3_col5\" class=\"data row3 col5\" >0.627022</td>\n",
       "                        <td id=\"T_426eb_row3_col6\" class=\"data row3 col6\" >0.056038</td>\n",
       "                        <td id=\"T_426eb_row3_col7\" class=\"data row3 col7\" >0.215213</td>\n",
       "                        <td id=\"T_426eb_row3_col8\" class=\"data row3 col8\" >0.521889</td>\n",
       "                        <td id=\"T_426eb_row3_col9\" class=\"data row3 col9\" >0.269284</td>\n",
       "            </tr>\n",
       "            <tr>\n",
       "                        <th id=\"T_426eb_level0_row4\" class=\"row_heading level0 row4\" >Power</th>\n",
       "                        <td id=\"T_426eb_row4_col0\" class=\"data row4 col0\" >0.006193</td>\n",
       "                        <td id=\"T_426eb_row4_col1\" class=\"data row4 col1\" >0.012898</td>\n",
       "                        <td id=\"T_426eb_row4_col2\" class=\"data row4 col2\" >0.022394</td>\n",
       "                        <td id=\"T_426eb_row4_col3\" class=\"data row4 col3\" >0.012290</td>\n",
       "                        <td id=\"T_426eb_row4_col4\" class=\"data row4 col4\" >1.000000</td>\n",
       "                        <td id=\"T_426eb_row4_col5\" class=\"data row4 col5\" >0.000000</td>\n",
       "                        <td id=\"T_426eb_row4_col6\" class=\"data row4 col6\" >0.015995</td>\n",
       "                        <td id=\"T_426eb_row4_col7\" class=\"data row4 col7\" >0.018255</td>\n",
       "                        <td id=\"T_426eb_row4_col8\" class=\"data row4 col8\" >0.000000</td>\n",
       "                        <td id=\"T_426eb_row4_col9\" class=\"data row4 col9\" >0.018671</td>\n",
       "            </tr>\n",
       "            <tr>\n",
       "                        <th id=\"T_426eb_level0_row5\" class=\"row_heading level0 row5\" >Model</th>\n",
       "                        <td id=\"T_426eb_row5_col0\" class=\"data row5 col0\" >0.578497</td>\n",
       "                        <td id=\"T_426eb_row5_col1\" class=\"data row5 col1\" >0.901111</td>\n",
       "                        <td id=\"T_426eb_row5_col2\" class=\"data row5 col2\" >0.662412</td>\n",
       "                        <td id=\"T_426eb_row5_col3\" class=\"data row5 col3\" >0.627022</td>\n",
       "                        <td id=\"T_426eb_row5_col4\" class=\"data row5 col4\" >0.000000</td>\n",
       "                        <td id=\"T_426eb_row5_col5\" class=\"data row5 col5\" >1.000000</td>\n",
       "                        <td id=\"T_426eb_row5_col6\" class=\"data row5 col6\" >0.441940</td>\n",
       "                        <td id=\"T_426eb_row5_col7\" class=\"data row5 col7\" >0.545232</td>\n",
       "                        <td id=\"T_426eb_row5_col8\" class=\"data row5 col8\" >0.997996</td>\n",
       "                        <td id=\"T_426eb_row5_col9\" class=\"data row5 col9\" >0.269132</td>\n",
       "            </tr>\n",
       "            <tr>\n",
       "                        <th id=\"T_426eb_level0_row6\" class=\"row_heading level0 row6\" >Kilometer</th>\n",
       "                        <td id=\"T_426eb_row6_col0\" class=\"data row6 col0\" >0.313855</td>\n",
       "                        <td id=\"T_426eb_row6_col1\" class=\"data row6 col1\" >0.251443</td>\n",
       "                        <td id=\"T_426eb_row6_col2\" class=\"data row6 col2\" >0.639149</td>\n",
       "                        <td id=\"T_426eb_row6_col3\" class=\"data row6 col3\" >0.056038</td>\n",
       "                        <td id=\"T_426eb_row6_col4\" class=\"data row6 col4\" >0.015995</td>\n",
       "                        <td id=\"T_426eb_row6_col5\" class=\"data row6 col5\" >0.441940</td>\n",
       "                        <td id=\"T_426eb_row6_col6\" class=\"data row6 col6\" >1.000000</td>\n",
       "                        <td id=\"T_426eb_row6_col7\" class=\"data row6 col7\" >0.153692</td>\n",
       "                        <td id=\"T_426eb_row6_col8\" class=\"data row6 col8\" >0.276183</td>\n",
       "                        <td id=\"T_426eb_row6_col9\" class=\"data row6 col9\" >0.226341</td>\n",
       "            </tr>\n",
       "            <tr>\n",
       "                        <th id=\"T_426eb_level0_row7\" class=\"row_heading level0 row7\" >FuelType</th>\n",
       "                        <td id=\"T_426eb_row7_col0\" class=\"data row7 col0\" >0.263221</td>\n",
       "                        <td id=\"T_426eb_row7_col1\" class=\"data row7 col1\" >0.395823</td>\n",
       "                        <td id=\"T_426eb_row7_col2\" class=\"data row7 col2\" >0.423443</td>\n",
       "                        <td id=\"T_426eb_row7_col3\" class=\"data row7 col3\" >0.215213</td>\n",
       "                        <td id=\"T_426eb_row7_col4\" class=\"data row7 col4\" >0.018255</td>\n",
       "                        <td id=\"T_426eb_row7_col5\" class=\"data row7 col5\" >0.545232</td>\n",
       "                        <td id=\"T_426eb_row7_col6\" class=\"data row7 col6\" >0.153692</td>\n",
       "                        <td id=\"T_426eb_row7_col7\" class=\"data row7 col7\" >1.000000</td>\n",
       "                        <td id=\"T_426eb_row7_col8\" class=\"data row7 col8\" >0.333760</td>\n",
       "                        <td id=\"T_426eb_row7_col9\" class=\"data row7 col9\" >0.198398</td>\n",
       "            </tr>\n",
       "            <tr>\n",
       "                        <th id=\"T_426eb_level0_row8\" class=\"row_heading level0 row8\" >Brand</th>\n",
       "                        <td id=\"T_426eb_row8_col0\" class=\"data row8 col0\" >0.363349</td>\n",
       "                        <td id=\"T_426eb_row8_col1\" class=\"data row8 col1\" >0.591275</td>\n",
       "                        <td id=\"T_426eb_row8_col2\" class=\"data row8 col2\" >0.394743</td>\n",
       "                        <td id=\"T_426eb_row8_col3\" class=\"data row8 col3\" >0.521889</td>\n",
       "                        <td id=\"T_426eb_row8_col4\" class=\"data row8 col4\" >0.000000</td>\n",
       "                        <td id=\"T_426eb_row8_col5\" class=\"data row8 col5\" >0.997996</td>\n",
       "                        <td id=\"T_426eb_row8_col6\" class=\"data row8 col6\" >0.276183</td>\n",
       "                        <td id=\"T_426eb_row8_col7\" class=\"data row8 col7\" >0.333760</td>\n",
       "                        <td id=\"T_426eb_row8_col8\" class=\"data row8 col8\" >1.000000</td>\n",
       "                        <td id=\"T_426eb_row8_col9\" class=\"data row8 col9\" >0.132673</td>\n",
       "            </tr>\n",
       "            <tr>\n",
       "                        <th id=\"T_426eb_level0_row9\" class=\"row_heading level0 row9\" >Repaired</th>\n",
       "                        <td id=\"T_426eb_row9_col0\" class=\"data row9 col0\" >0.336682</td>\n",
       "                        <td id=\"T_426eb_row9_col1\" class=\"data row9 col1\" >0.327427</td>\n",
       "                        <td id=\"T_426eb_row9_col2\" class=\"data row9 col2\" >0.344088</td>\n",
       "                        <td id=\"T_426eb_row9_col3\" class=\"data row9 col3\" >0.269284</td>\n",
       "                        <td id=\"T_426eb_row9_col4\" class=\"data row9 col4\" >0.018671</td>\n",
       "                        <td id=\"T_426eb_row9_col5\" class=\"data row9 col5\" >0.269132</td>\n",
       "                        <td id=\"T_426eb_row9_col6\" class=\"data row9 col6\" >0.226341</td>\n",
       "                        <td id=\"T_426eb_row9_col7\" class=\"data row9 col7\" >0.198398</td>\n",
       "                        <td id=\"T_426eb_row9_col8\" class=\"data row9 col8\" >0.132673</td>\n",
       "                        <td id=\"T_426eb_row9_col9\" class=\"data row9 col9\" >1.000000</td>\n",
       "            </tr>\n",
       "    </tbody></table>"
      ],
      "text/plain": [
       "<pandas.io.formats.style.Styler at 0x7f0fa02bec10>"
      ]
     },
     "execution_count": 15,
     "metadata": {},
     "output_type": "execute_result"
    }
   ],
   "source": [
    "df.phik_matrix(interval_cols=['Price', 'Power', 'Kilometer']).style.background_gradient(cmap ='coolwarm')"
   ]
  },
  {
   "cell_type": "code",
   "execution_count": 16,
   "metadata": {},
   "outputs": [],
   "source": [
    "#У столбцов Brand и Model - коллинеарность практически 1, удалим один из них для удаления мультиколлинеарности\n",
    "df = df.drop('Brand', axis=1)"
   ]
  },
  {
   "cell_type": "code",
   "execution_count": 17,
   "metadata": {},
   "outputs": [],
   "source": [
    "df.loc[df['FuelType']=='gasoline', 'FuelType']='petrol'"
   ]
  },
  {
   "cell_type": "code",
   "execution_count": 18,
   "metadata": {},
   "outputs": [],
   "source": [
    "df = df.drop_duplicates()"
   ]
  },
  {
   "cell_type": "markdown",
   "metadata": {},
   "source": [
    "В рамках этого этапа была проведена предобработка данных: обработаны пропущенные значения, удалены дубликаты, неинформативные столбцы и обработаны аномалии."
   ]
  },
  {
   "cell_type": "code",
   "execution_count": 19,
   "metadata": {},
   "outputs": [
    {
     "name": "stdout",
     "output_type": "stream",
     "text": [
      "<class 'pandas.core.frame.DataFrame'>\n",
      "Int64Index: 256316 entries, 1 to 354368\n",
      "Data columns (total 9 columns):\n",
      " #   Column            Non-Null Count   Dtype \n",
      "---  ------            --------------   ----- \n",
      " 0   Price             256316 non-null  int16 \n",
      " 1   VehicleType       256316 non-null  object\n",
      " 2   RegistrationYear  256316 non-null  int16 \n",
      " 3   Gearbox           256316 non-null  object\n",
      " 4   Power             256316 non-null  int16 \n",
      " 5   Model             256316 non-null  object\n",
      " 6   Kilometer         256316 non-null  int32 \n",
      " 7   FuelType          256316 non-null  object\n",
      " 8   Repaired          256316 non-null  object\n",
      "dtypes: int16(3), int32(1), object(5)\n",
      "memory usage: 14.2+ MB\n"
     ]
    }
   ],
   "source": [
    "df.info()"
   ]
  },
  {
   "cell_type": "markdown",
   "metadata": {},
   "source": [
    "## Обучение моделей"
   ]
  },
  {
   "cell_type": "code",
   "execution_count": 20,
   "metadata": {},
   "outputs": [],
   "source": [
    "ohe_columns = ['VehicleType', 'Gearbox', 'Model', 'FuelType']\n",
    "ord_columns = ['Repaired']\n",
    "num_columns = ['RegistrationYear', 'Power', 'Kilometer']\n",
    "RANDOM_STATE = 42\n",
    "\n",
    "y = df['Price']\n",
    "X = df.drop(['Price'], axis = 1)\n",
    "X_train, X_test, y_train, y_test = train_test_split(\n",
    "        X, \n",
    "        y, \n",
    "        random_state=RANDOM_STATE\n",
    ") "
   ]
  },
  {
   "cell_type": "code",
   "execution_count": 21,
   "metadata": {},
   "outputs": [],
   "source": [
    "ohe_pipe = Pipeline(\n",
    "    [\n",
    "        (\n",
    "            'ohe', \n",
    "            OrdinalEncoder(handle_unknown='ignore')\n",
    "        )\n",
    "    ]\n",
    ") "
   ]
  },
  {
   "cell_type": "code",
   "execution_count": 22,
   "metadata": {},
   "outputs": [],
   "source": [
    "ord_pipe = Pipeline(\n",
    "    [\n",
    "        (\n",
    "            'simpleImputer_before_ord', \n",
    "            SimpleImputer(missing_values=np.nan, strategy='most_frequent')\n",
    "        ),\n",
    "        (\n",
    "            'ord',  \n",
    "            OrdinalEncoder(\n",
    "                categories=[\n",
    "                    ['yes', 'Unknown', 'no']\n",
    "                ], \n",
    "                handle_unknown='ignore'\n",
    "            )\n",
    "        ),\n",
    "        (\n",
    "            'simpleImputer_after_ord', \n",
    "            SimpleImputer(missing_values=np.nan, strategy='most_frequent')\n",
    "        )\n",
    "    ]\n",
    ") "
   ]
  },
  {
   "cell_type": "code",
   "execution_count": 23,
   "metadata": {},
   "outputs": [],
   "source": [
    "data_preprocessor = ColumnTransformer(\n",
    "    [\n",
    "        ('ohe', ohe_pipe, ohe_columns),\n",
    "        ('ord', ord_pipe, ord_columns)\n",
    "    ], \n",
    "    remainder='passthrough'\n",
    ") "
   ]
  },
  {
   "cell_type": "code",
   "execution_count": 24,
   "metadata": {},
   "outputs": [],
   "source": [
    "pipe_final= Pipeline([\n",
    "    ('preprocessor', data_preprocessor),\n",
    "    ('models', DecisionTreeRegressor(random_state=RANDOM_STATE))\n",
    "])"
   ]
  },
  {
   "cell_type": "markdown",
   "metadata": {},
   "source": [
    "Будем искать лучшие гиперпараметры для различных моделей"
   ]
  },
  {
   "cell_type": "code",
   "execution_count": 25,
   "metadata": {},
   "outputs": [],
   "source": [
    "param_distributions = [\n",
    "    {\n",
    "        'models': [DecisionTreeRegressor(random_state=RANDOM_STATE)],\n",
    "        'models__max_depth': [None] + [i for i in range(5, 20)],\n",
    "        'models__min_samples_split': range(2, 15)\n",
    "    }\n",
    "] "
   ]
  },
  {
   "cell_type": "code",
   "execution_count": 26,
   "metadata": {},
   "outputs": [
    {
     "name": "stderr",
     "output_type": "stream",
     "text": [
      "/opt/conda/lib/python3.9/site-packages/sklearn/impute/_base.py:49: FutureWarning: Unlike other reduction functions (e.g. `skew`, `kurtosis`), the default behavior of `mode` typically preserves the axis it acts along. In SciPy 1.11.0, this behavior will change: the default value of `keepdims` will become False, the `axis` over which the statistic is taken will be eliminated, and the value None will no longer be accepted. Set `keepdims` to True or False to avoid this warning.\n",
      "  mode = stats.mode(array)\n",
      "/opt/conda/lib/python3.9/site-packages/sklearn/impute/_base.py:49: FutureWarning: Unlike other reduction functions (e.g. `skew`, `kurtosis`), the default behavior of `mode` typically preserves the axis it acts along. In SciPy 1.11.0, this behavior will change: the default value of `keepdims` will become False, the `axis` over which the statistic is taken will be eliminated, and the value None will no longer be accepted. Set `keepdims` to True or False to avoid this warning.\n",
      "  mode = stats.mode(array)\n",
      "/opt/conda/lib/python3.9/site-packages/sklearn/impute/_base.py:49: FutureWarning: Unlike other reduction functions (e.g. `skew`, `kurtosis`), the default behavior of `mode` typically preserves the axis it acts along. In SciPy 1.11.0, this behavior will change: the default value of `keepdims` will become False, the `axis` over which the statistic is taken will be eliminated, and the value None will no longer be accepted. Set `keepdims` to True or False to avoid this warning.\n",
      "  mode = stats.mode(array)\n",
      "/opt/conda/lib/python3.9/site-packages/sklearn/impute/_base.py:49: FutureWarning: Unlike other reduction functions (e.g. `skew`, `kurtosis`), the default behavior of `mode` typically preserves the axis it acts along. In SciPy 1.11.0, this behavior will change: the default value of `keepdims` will become False, the `axis` over which the statistic is taken will be eliminated, and the value None will no longer be accepted. Set `keepdims` to True or False to avoid this warning.\n",
      "  mode = stats.mode(array)\n",
      "/opt/conda/lib/python3.9/site-packages/sklearn/impute/_base.py:49: FutureWarning: Unlike other reduction functions (e.g. `skew`, `kurtosis`), the default behavior of `mode` typically preserves the axis it acts along. In SciPy 1.11.0, this behavior will change: the default value of `keepdims` will become False, the `axis` over which the statistic is taken will be eliminated, and the value None will no longer be accepted. Set `keepdims` to True or False to avoid this warning.\n",
      "  mode = stats.mode(array)\n",
      "/opt/conda/lib/python3.9/site-packages/sklearn/impute/_base.py:49: FutureWarning: Unlike other reduction functions (e.g. `skew`, `kurtosis`), the default behavior of `mode` typically preserves the axis it acts along. In SciPy 1.11.0, this behavior will change: the default value of `keepdims` will become False, the `axis` over which the statistic is taken will be eliminated, and the value None will no longer be accepted. Set `keepdims` to True or False to avoid this warning.\n",
      "  mode = stats.mode(array)\n",
      "/opt/conda/lib/python3.9/site-packages/sklearn/impute/_base.py:49: FutureWarning: Unlike other reduction functions (e.g. `skew`, `kurtosis`), the default behavior of `mode` typically preserves the axis it acts along. In SciPy 1.11.0, this behavior will change: the default value of `keepdims` will become False, the `axis` over which the statistic is taken will be eliminated, and the value None will no longer be accepted. Set `keepdims` to True or False to avoid this warning.\n",
      "  mode = stats.mode(array)\n",
      "/opt/conda/lib/python3.9/site-packages/sklearn/impute/_base.py:49: FutureWarning: Unlike other reduction functions (e.g. `skew`, `kurtosis`), the default behavior of `mode` typically preserves the axis it acts along. In SciPy 1.11.0, this behavior will change: the default value of `keepdims` will become False, the `axis` over which the statistic is taken will be eliminated, and the value None will no longer be accepted. Set `keepdims` to True or False to avoid this warning.\n",
      "  mode = stats.mode(array)\n",
      "/opt/conda/lib/python3.9/site-packages/sklearn/impute/_base.py:49: FutureWarning: Unlike other reduction functions (e.g. `skew`, `kurtosis`), the default behavior of `mode` typically preserves the axis it acts along. In SciPy 1.11.0, this behavior will change: the default value of `keepdims` will become False, the `axis` over which the statistic is taken will be eliminated, and the value None will no longer be accepted. Set `keepdims` to True or False to avoid this warning.\n",
      "  mode = stats.mode(array)\n",
      "/opt/conda/lib/python3.9/site-packages/sklearn/impute/_base.py:49: FutureWarning: Unlike other reduction functions (e.g. `skew`, `kurtosis`), the default behavior of `mode` typically preserves the axis it acts along. In SciPy 1.11.0, this behavior will change: the default value of `keepdims` will become False, the `axis` over which the statistic is taken will be eliminated, and the value None will no longer be accepted. Set `keepdims` to True or False to avoid this warning.\n",
      "  mode = stats.mode(array)\n",
      "/opt/conda/lib/python3.9/site-packages/sklearn/impute/_base.py:49: FutureWarning: Unlike other reduction functions (e.g. `skew`, `kurtosis`), the default behavior of `mode` typically preserves the axis it acts along. In SciPy 1.11.0, this behavior will change: the default value of `keepdims` will become False, the `axis` over which the statistic is taken will be eliminated, and the value None will no longer be accepted. Set `keepdims` to True or False to avoid this warning.\n",
      "  mode = stats.mode(array)\n",
      "/opt/conda/lib/python3.9/site-packages/sklearn/impute/_base.py:49: FutureWarning: Unlike other reduction functions (e.g. `skew`, `kurtosis`), the default behavior of `mode` typically preserves the axis it acts along. In SciPy 1.11.0, this behavior will change: the default value of `keepdims` will become False, the `axis` over which the statistic is taken will be eliminated, and the value None will no longer be accepted. Set `keepdims` to True or False to avoid this warning.\n",
      "  mode = stats.mode(array)\n",
      "/opt/conda/lib/python3.9/site-packages/sklearn/impute/_base.py:49: FutureWarning: Unlike other reduction functions (e.g. `skew`, `kurtosis`), the default behavior of `mode` typically preserves the axis it acts along. In SciPy 1.11.0, this behavior will change: the default value of `keepdims` will become False, the `axis` over which the statistic is taken will be eliminated, and the value None will no longer be accepted. Set `keepdims` to True or False to avoid this warning.\n",
      "  mode = stats.mode(array)\n",
      "/opt/conda/lib/python3.9/site-packages/sklearn/impute/_base.py:49: FutureWarning: Unlike other reduction functions (e.g. `skew`, `kurtosis`), the default behavior of `mode` typically preserves the axis it acts along. In SciPy 1.11.0, this behavior will change: the default value of `keepdims` will become False, the `axis` over which the statistic is taken will be eliminated, and the value None will no longer be accepted. Set `keepdims` to True or False to avoid this warning.\n",
      "  mode = stats.mode(array)\n",
      "/opt/conda/lib/python3.9/site-packages/sklearn/impute/_base.py:49: FutureWarning: Unlike other reduction functions (e.g. `skew`, `kurtosis`), the default behavior of `mode` typically preserves the axis it acts along. In SciPy 1.11.0, this behavior will change: the default value of `keepdims` will become False, the `axis` over which the statistic is taken will be eliminated, and the value None will no longer be accepted. Set `keepdims` to True or False to avoid this warning.\n",
      "  mode = stats.mode(array)\n",
      "/opt/conda/lib/python3.9/site-packages/sklearn/impute/_base.py:49: FutureWarning: Unlike other reduction functions (e.g. `skew`, `kurtosis`), the default behavior of `mode` typically preserves the axis it acts along. In SciPy 1.11.0, this behavior will change: the default value of `keepdims` will become False, the `axis` over which the statistic is taken will be eliminated, and the value None will no longer be accepted. Set `keepdims` to True or False to avoid this warning.\n",
      "  mode = stats.mode(array)\n",
      "/opt/conda/lib/python3.9/site-packages/sklearn/impute/_base.py:49: FutureWarning: Unlike other reduction functions (e.g. `skew`, `kurtosis`), the default behavior of `mode` typically preserves the axis it acts along. In SciPy 1.11.0, this behavior will change: the default value of `keepdims` will become False, the `axis` over which the statistic is taken will be eliminated, and the value None will no longer be accepted. Set `keepdims` to True or False to avoid this warning.\n",
      "  mode = stats.mode(array)\n",
      "/opt/conda/lib/python3.9/site-packages/sklearn/impute/_base.py:49: FutureWarning: Unlike other reduction functions (e.g. `skew`, `kurtosis`), the default behavior of `mode` typically preserves the axis it acts along. In SciPy 1.11.0, this behavior will change: the default value of `keepdims` will become False, the `axis` over which the statistic is taken will be eliminated, and the value None will no longer be accepted. Set `keepdims` to True or False to avoid this warning.\n",
      "  mode = stats.mode(array)\n",
      "/opt/conda/lib/python3.9/site-packages/sklearn/impute/_base.py:49: FutureWarning: Unlike other reduction functions (e.g. `skew`, `kurtosis`), the default behavior of `mode` typically preserves the axis it acts along. In SciPy 1.11.0, this behavior will change: the default value of `keepdims` will become False, the `axis` over which the statistic is taken will be eliminated, and the value None will no longer be accepted. Set `keepdims` to True or False to avoid this warning.\n",
      "  mode = stats.mode(array)\n",
      "/opt/conda/lib/python3.9/site-packages/sklearn/impute/_base.py:49: FutureWarning: Unlike other reduction functions (e.g. `skew`, `kurtosis`), the default behavior of `mode` typically preserves the axis it acts along. In SciPy 1.11.0, this behavior will change: the default value of `keepdims` will become False, the `axis` over which the statistic is taken will be eliminated, and the value None will no longer be accepted. Set `keepdims` to True or False to avoid this warning.\n",
      "  mode = stats.mode(array)\n",
      "/opt/conda/lib/python3.9/site-packages/sklearn/impute/_base.py:49: FutureWarning: Unlike other reduction functions (e.g. `skew`, `kurtosis`), the default behavior of `mode` typically preserves the axis it acts along. In SciPy 1.11.0, this behavior will change: the default value of `keepdims` will become False, the `axis` over which the statistic is taken will be eliminated, and the value None will no longer be accepted. Set `keepdims` to True or False to avoid this warning.\n",
      "  mode = stats.mode(array)\n",
      "/opt/conda/lib/python3.9/site-packages/sklearn/impute/_base.py:49: FutureWarning: Unlike other reduction functions (e.g. `skew`, `kurtosis`), the default behavior of `mode` typically preserves the axis it acts along. In SciPy 1.11.0, this behavior will change: the default value of `keepdims` will become False, the `axis` over which the statistic is taken will be eliminated, and the value None will no longer be accepted. Set `keepdims` to True or False to avoid this warning.\n",
      "  mode = stats.mode(array)\n",
      "/opt/conda/lib/python3.9/site-packages/sklearn/impute/_base.py:49: FutureWarning: Unlike other reduction functions (e.g. `skew`, `kurtosis`), the default behavior of `mode` typically preserves the axis it acts along. In SciPy 1.11.0, this behavior will change: the default value of `keepdims` will become False, the `axis` over which the statistic is taken will be eliminated, and the value None will no longer be accepted. Set `keepdims` to True or False to avoid this warning.\n",
      "  mode = stats.mode(array)\n",
      "/opt/conda/lib/python3.9/site-packages/sklearn/impute/_base.py:49: FutureWarning: Unlike other reduction functions (e.g. `skew`, `kurtosis`), the default behavior of `mode` typically preserves the axis it acts along. In SciPy 1.11.0, this behavior will change: the default value of `keepdims` will become False, the `axis` over which the statistic is taken will be eliminated, and the value None will no longer be accepted. Set `keepdims` to True or False to avoid this warning.\n",
      "  mode = stats.mode(array)\n",
      "/opt/conda/lib/python3.9/site-packages/sklearn/impute/_base.py:49: FutureWarning: Unlike other reduction functions (e.g. `skew`, `kurtosis`), the default behavior of `mode` typically preserves the axis it acts along. In SciPy 1.11.0, this behavior will change: the default value of `keepdims` will become False, the `axis` over which the statistic is taken will be eliminated, and the value None will no longer be accepted. Set `keepdims` to True or False to avoid this warning.\n",
      "  mode = stats.mode(array)\n",
      "/opt/conda/lib/python3.9/site-packages/sklearn/impute/_base.py:49: FutureWarning: Unlike other reduction functions (e.g. `skew`, `kurtosis`), the default behavior of `mode` typically preserves the axis it acts along. In SciPy 1.11.0, this behavior will change: the default value of `keepdims` will become False, the `axis` over which the statistic is taken will be eliminated, and the value None will no longer be accepted. Set `keepdims` to True or False to avoid this warning.\n",
      "  mode = stats.mode(array)\n",
      "/opt/conda/lib/python3.9/site-packages/sklearn/impute/_base.py:49: FutureWarning: Unlike other reduction functions (e.g. `skew`, `kurtosis`), the default behavior of `mode` typically preserves the axis it acts along. In SciPy 1.11.0, this behavior will change: the default value of `keepdims` will become False, the `axis` over which the statistic is taken will be eliminated, and the value None will no longer be accepted. Set `keepdims` to True or False to avoid this warning.\n",
      "  mode = stats.mode(array)\n",
      "/opt/conda/lib/python3.9/site-packages/sklearn/impute/_base.py:49: FutureWarning: Unlike other reduction functions (e.g. `skew`, `kurtosis`), the default behavior of `mode` typically preserves the axis it acts along. In SciPy 1.11.0, this behavior will change: the default value of `keepdims` will become False, the `axis` over which the statistic is taken will be eliminated, and the value None will no longer be accepted. Set `keepdims` to True or False to avoid this warning.\n",
      "  mode = stats.mode(array)\n",
      "/opt/conda/lib/python3.9/site-packages/sklearn/impute/_base.py:49: FutureWarning: Unlike other reduction functions (e.g. `skew`, `kurtosis`), the default behavior of `mode` typically preserves the axis it acts along. In SciPy 1.11.0, this behavior will change: the default value of `keepdims` will become False, the `axis` over which the statistic is taken will be eliminated, and the value None will no longer be accepted. Set `keepdims` to True or False to avoid this warning.\n",
      "  mode = stats.mode(array)\n",
      "/opt/conda/lib/python3.9/site-packages/sklearn/impute/_base.py:49: FutureWarning: Unlike other reduction functions (e.g. `skew`, `kurtosis`), the default behavior of `mode` typically preserves the axis it acts along. In SciPy 1.11.0, this behavior will change: the default value of `keepdims` will become False, the `axis` over which the statistic is taken will be eliminated, and the value None will no longer be accepted. Set `keepdims` to True or False to avoid this warning.\n",
      "  mode = stats.mode(array)\n",
      "/opt/conda/lib/python3.9/site-packages/sklearn/impute/_base.py:49: FutureWarning: Unlike other reduction functions (e.g. `skew`, `kurtosis`), the default behavior of `mode` typically preserves the axis it acts along. In SciPy 1.11.0, this behavior will change: the default value of `keepdims` will become False, the `axis` over which the statistic is taken will be eliminated, and the value None will no longer be accepted. Set `keepdims` to True or False to avoid this warning.\n",
      "  mode = stats.mode(array)\n",
      "/opt/conda/lib/python3.9/site-packages/sklearn/impute/_base.py:49: FutureWarning: Unlike other reduction functions (e.g. `skew`, `kurtosis`), the default behavior of `mode` typically preserves the axis it acts along. In SciPy 1.11.0, this behavior will change: the default value of `keepdims` will become False, the `axis` over which the statistic is taken will be eliminated, and the value None will no longer be accepted. Set `keepdims` to True or False to avoid this warning.\n",
      "  mode = stats.mode(array)\n",
      "/opt/conda/lib/python3.9/site-packages/sklearn/impute/_base.py:49: FutureWarning: Unlike other reduction functions (e.g. `skew`, `kurtosis`), the default behavior of `mode` typically preserves the axis it acts along. In SciPy 1.11.0, this behavior will change: the default value of `keepdims` will become False, the `axis` over which the statistic is taken will be eliminated, and the value None will no longer be accepted. Set `keepdims` to True or False to avoid this warning.\n",
      "  mode = stats.mode(array)\n",
      "/opt/conda/lib/python3.9/site-packages/sklearn/impute/_base.py:49: FutureWarning: Unlike other reduction functions (e.g. `skew`, `kurtosis`), the default behavior of `mode` typically preserves the axis it acts along. In SciPy 1.11.0, this behavior will change: the default value of `keepdims` will become False, the `axis` over which the statistic is taken will be eliminated, and the value None will no longer be accepted. Set `keepdims` to True or False to avoid this warning.\n",
      "  mode = stats.mode(array)\n",
      "/opt/conda/lib/python3.9/site-packages/sklearn/impute/_base.py:49: FutureWarning: Unlike other reduction functions (e.g. `skew`, `kurtosis`), the default behavior of `mode` typically preserves the axis it acts along. In SciPy 1.11.0, this behavior will change: the default value of `keepdims` will become False, the `axis` over which the statistic is taken will be eliminated, and the value None will no longer be accepted. Set `keepdims` to True or False to avoid this warning.\n",
      "  mode = stats.mode(array)\n",
      "/opt/conda/lib/python3.9/site-packages/sklearn/impute/_base.py:49: FutureWarning: Unlike other reduction functions (e.g. `skew`, `kurtosis`), the default behavior of `mode` typically preserves the axis it acts along. In SciPy 1.11.0, this behavior will change: the default value of `keepdims` will become False, the `axis` over which the statistic is taken will be eliminated, and the value None will no longer be accepted. Set `keepdims` to True or False to avoid this warning.\n",
      "  mode = stats.mode(array)\n",
      "/opt/conda/lib/python3.9/site-packages/sklearn/impute/_base.py:49: FutureWarning: Unlike other reduction functions (e.g. `skew`, `kurtosis`), the default behavior of `mode` typically preserves the axis it acts along. In SciPy 1.11.0, this behavior will change: the default value of `keepdims` will become False, the `axis` over which the statistic is taken will be eliminated, and the value None will no longer be accepted. Set `keepdims` to True or False to avoid this warning.\n",
      "  mode = stats.mode(array)\n",
      "/opt/conda/lib/python3.9/site-packages/sklearn/impute/_base.py:49: FutureWarning: Unlike other reduction functions (e.g. `skew`, `kurtosis`), the default behavior of `mode` typically preserves the axis it acts along. In SciPy 1.11.0, this behavior will change: the default value of `keepdims` will become False, the `axis` over which the statistic is taken will be eliminated, and the value None will no longer be accepted. Set `keepdims` to True or False to avoid this warning.\n",
      "  mode = stats.mode(array)\n",
      "/opt/conda/lib/python3.9/site-packages/sklearn/impute/_base.py:49: FutureWarning: Unlike other reduction functions (e.g. `skew`, `kurtosis`), the default behavior of `mode` typically preserves the axis it acts along. In SciPy 1.11.0, this behavior will change: the default value of `keepdims` will become False, the `axis` over which the statistic is taken will be eliminated, and the value None will no longer be accepted. Set `keepdims` to True or False to avoid this warning.\n",
      "  mode = stats.mode(array)\n",
      "/opt/conda/lib/python3.9/site-packages/sklearn/impute/_base.py:49: FutureWarning: Unlike other reduction functions (e.g. `skew`, `kurtosis`), the default behavior of `mode` typically preserves the axis it acts along. In SciPy 1.11.0, this behavior will change: the default value of `keepdims` will become False, the `axis` over which the statistic is taken will be eliminated, and the value None will no longer be accepted. Set `keepdims` to True or False to avoid this warning.\n",
      "  mode = stats.mode(array)\n",
      "/opt/conda/lib/python3.9/site-packages/sklearn/impute/_base.py:49: FutureWarning: Unlike other reduction functions (e.g. `skew`, `kurtosis`), the default behavior of `mode` typically preserves the axis it acts along. In SciPy 1.11.0, this behavior will change: the default value of `keepdims` will become False, the `axis` over which the statistic is taken will be eliminated, and the value None will no longer be accepted. Set `keepdims` to True or False to avoid this warning.\n",
      "  mode = stats.mode(array)\n",
      "/opt/conda/lib/python3.9/site-packages/sklearn/impute/_base.py:49: FutureWarning: Unlike other reduction functions (e.g. `skew`, `kurtosis`), the default behavior of `mode` typically preserves the axis it acts along. In SciPy 1.11.0, this behavior will change: the default value of `keepdims` will become False, the `axis` over which the statistic is taken will be eliminated, and the value None will no longer be accepted. Set `keepdims` to True or False to avoid this warning.\n",
      "  mode = stats.mode(array)\n",
      "/opt/conda/lib/python3.9/site-packages/sklearn/impute/_base.py:49: FutureWarning: Unlike other reduction functions (e.g. `skew`, `kurtosis`), the default behavior of `mode` typically preserves the axis it acts along. In SciPy 1.11.0, this behavior will change: the default value of `keepdims` will become False, the `axis` over which the statistic is taken will be eliminated, and the value None will no longer be accepted. Set `keepdims` to True or False to avoid this warning.\n",
      "  mode = stats.mode(array)\n",
      "/opt/conda/lib/python3.9/site-packages/sklearn/impute/_base.py:49: FutureWarning: Unlike other reduction functions (e.g. `skew`, `kurtosis`), the default behavior of `mode` typically preserves the axis it acts along. In SciPy 1.11.0, this behavior will change: the default value of `keepdims` will become False, the `axis` over which the statistic is taken will be eliminated, and the value None will no longer be accepted. Set `keepdims` to True or False to avoid this warning.\n",
      "  mode = stats.mode(array)\n",
      "/opt/conda/lib/python3.9/site-packages/sklearn/impute/_base.py:49: FutureWarning: Unlike other reduction functions (e.g. `skew`, `kurtosis`), the default behavior of `mode` typically preserves the axis it acts along. In SciPy 1.11.0, this behavior will change: the default value of `keepdims` will become False, the `axis` over which the statistic is taken will be eliminated, and the value None will no longer be accepted. Set `keepdims` to True or False to avoid this warning.\n",
      "  mode = stats.mode(array)\n",
      "/opt/conda/lib/python3.9/site-packages/sklearn/impute/_base.py:49: FutureWarning: Unlike other reduction functions (e.g. `skew`, `kurtosis`), the default behavior of `mode` typically preserves the axis it acts along. In SciPy 1.11.0, this behavior will change: the default value of `keepdims` will become False, the `axis` over which the statistic is taken will be eliminated, and the value None will no longer be accepted. Set `keepdims` to True or False to avoid this warning.\n",
      "  mode = stats.mode(array)\n",
      "/opt/conda/lib/python3.9/site-packages/sklearn/impute/_base.py:49: FutureWarning: Unlike other reduction functions (e.g. `skew`, `kurtosis`), the default behavior of `mode` typically preserves the axis it acts along. In SciPy 1.11.0, this behavior will change: the default value of `keepdims` will become False, the `axis` over which the statistic is taken will be eliminated, and the value None will no longer be accepted. Set `keepdims` to True or False to avoid this warning.\n",
      "  mode = stats.mode(array)\n",
      "/opt/conda/lib/python3.9/site-packages/sklearn/impute/_base.py:49: FutureWarning: Unlike other reduction functions (e.g. `skew`, `kurtosis`), the default behavior of `mode` typically preserves the axis it acts along. In SciPy 1.11.0, this behavior will change: the default value of `keepdims` will become False, the `axis` over which the statistic is taken will be eliminated, and the value None will no longer be accepted. Set `keepdims` to True or False to avoid this warning.\n",
      "  mode = stats.mode(array)\n",
      "/opt/conda/lib/python3.9/site-packages/sklearn/impute/_base.py:49: FutureWarning: Unlike other reduction functions (e.g. `skew`, `kurtosis`), the default behavior of `mode` typically preserves the axis it acts along. In SciPy 1.11.0, this behavior will change: the default value of `keepdims` will become False, the `axis` over which the statistic is taken will be eliminated, and the value None will no longer be accepted. Set `keepdims` to True or False to avoid this warning.\n",
      "  mode = stats.mode(array)\n",
      "/opt/conda/lib/python3.9/site-packages/sklearn/impute/_base.py:49: FutureWarning: Unlike other reduction functions (e.g. `skew`, `kurtosis`), the default behavior of `mode` typically preserves the axis it acts along. In SciPy 1.11.0, this behavior will change: the default value of `keepdims` will become False, the `axis` over which the statistic is taken will be eliminated, and the value None will no longer be accepted. Set `keepdims` to True or False to avoid this warning.\n",
      "  mode = stats.mode(array)\n",
      "/opt/conda/lib/python3.9/site-packages/sklearn/impute/_base.py:49: FutureWarning: Unlike other reduction functions (e.g. `skew`, `kurtosis`), the default behavior of `mode` typically preserves the axis it acts along. In SciPy 1.11.0, this behavior will change: the default value of `keepdims` will become False, the `axis` over which the statistic is taken will be eliminated, and the value None will no longer be accepted. Set `keepdims` to True or False to avoid this warning.\n",
      "  mode = stats.mode(array)\n"
     ]
    },
    {
     "data": {
      "text/plain": [
       "RandomizedSearchCV(estimator=Pipeline(steps=[('preprocessor',\n",
       "                                              ColumnTransformer(remainder='passthrough',\n",
       "                                                                transformers=[('ohe',\n",
       "                                                                               Pipeline(steps=[('ohe',\n",
       "                                                                                                OrdinalEncoder(handle_unknown='ignore'))]),\n",
       "                                                                               ['VehicleType',\n",
       "                                                                                'Gearbox',\n",
       "                                                                                'Model',\n",
       "                                                                                'FuelType']),\n",
       "                                                                              ('ord',\n",
       "                                                                               Pipeline(steps=[('simpleImputer_before_ord',\n",
       "                                                                                                SimpleImputer(strategy='most_frequent')),\n",
       "                                                                                               ('ord',\n",
       "                                                                                                OrdinalEncoder(...\n",
       "                                                                                                SimpleImputer(strategy='most_frequent'))]),\n",
       "                                                                               ['Repaired'])])),\n",
       "                                             ('models',\n",
       "                                              DecisionTreeRegressor(random_state=42))]),\n",
       "                   n_jobs=-1,\n",
       "                   param_distributions=[{'models': [DecisionTreeRegressor(max_depth=16,\n",
       "                                                                          min_samples_split=12,\n",
       "                                                                          random_state=42)],\n",
       "                                         'models__max_depth': [None, 5, 6, 7, 8,\n",
       "                                                               9, 10, 11, 12,\n",
       "                                                               13, 14, 15, 16,\n",
       "                                                               17, 18, 19],\n",
       "                                         'models__min_samples_split': range(2, 15)}],\n",
       "                   random_state=42, scoring='neg_root_mean_squared_error')"
      ]
     },
     "execution_count": 26,
     "metadata": {},
     "output_type": "execute_result"
    }
   ],
   "source": [
    "randomized_search = RandomizedSearchCV( #Дерево\n",
    "    pipe_final, \n",
    "    param_distributions, \n",
    "    scoring='neg_root_mean_squared_error', \n",
    "    random_state=RANDOM_STATE,\n",
    "    n_jobs=-1\n",
    ")\n",
    "randomized_search.fit(X_train, y_train)"
   ]
  },
  {
   "cell_type": "code",
   "execution_count": 27,
   "metadata": {},
   "outputs": [
    {
     "data": {
      "text/plain": [
       "1956.8342409651134"
      ]
     },
     "execution_count": 27,
     "metadata": {},
     "output_type": "execute_result"
    }
   ],
   "source": [
    "randomized_search.best_score_*-1 #Значение метрики меньше, чем 2500"
   ]
  },
  {
   "cell_type": "code",
   "execution_count": 28,
   "metadata": {},
   "outputs": [],
   "source": [
    "pipe_final_2= Pipeline([\n",
    "    ('models', LGBMRegressor(random_state=RANDOM_STATE))\n",
    "])"
   ]
  },
  {
   "cell_type": "code",
   "execution_count": 29,
   "metadata": {},
   "outputs": [],
   "source": [
    "param_distributions_2 = [\n",
    "    {\n",
    "        'models': [LGBMRegressor(random_state=RANDOM_STATE)],\n",
    "        'models__n_estimators': [100, 200, 500],\n",
    "        'models__max_depth': [3, 5, 7, 10]\n",
    "    }\n",
    "] "
   ]
  },
  {
   "cell_type": "code",
   "execution_count": 30,
   "metadata": {},
   "outputs": [
    {
     "name": "stderr",
     "output_type": "stream",
     "text": [
      "/tmp/ipykernel_490/3808021381.py:2: SettingWithCopyWarning: \n",
      "A value is trying to be set on a copy of a slice from a DataFrame.\n",
      "Try using .loc[row_indexer,col_indexer] = value instead\n",
      "\n",
      "See the caveats in the documentation: https://pandas.pydata.org/pandas-docs/stable/user_guide/indexing.html#returning-a-view-versus-a-copy\n",
      "  X_train[i] = X_train[i].astype('category')\n",
      "/tmp/ipykernel_490/3808021381.py:4: SettingWithCopyWarning: \n",
      "A value is trying to be set on a copy of a slice from a DataFrame.\n",
      "Try using .loc[row_indexer,col_indexer] = value instead\n",
      "\n",
      "See the caveats in the documentation: https://pandas.pydata.org/pandas-docs/stable/user_guide/indexing.html#returning-a-view-versus-a-copy\n",
      "  X_train[i] = X_train[i].astype('category')\n"
     ]
    }
   ],
   "source": [
    "for i in ohe_columns:\n",
    "    X_train[i] = X_train[i].astype('category')\n",
    "for i in ord_columns:\n",
    "    X_train[i] = X_train[i].astype('category')    "
   ]
  },
  {
   "cell_type": "code",
   "execution_count": 31,
   "metadata": {},
   "outputs": [
    {
     "data": {
      "text/plain": [
       "RandomizedSearchCV(estimator=Pipeline(steps=[('models',\n",
       "                                              LGBMRegressor(random_state=42))]),\n",
       "                   n_jobs=-1,\n",
       "                   param_distributions=[{'models': [LGBMRegressor(max_depth=10,\n",
       "                                                                  n_estimators=500,\n",
       "                                                                  random_state=42)],\n",
       "                                         'models__max_depth': [3, 5, 7, 10],\n",
       "                                         'models__n_estimators': [100, 200,\n",
       "                                                                  500]}],\n",
       "                   random_state=42, scoring='neg_root_mean_squared_error')"
      ]
     },
     "execution_count": 31,
     "metadata": {},
     "output_type": "execute_result"
    }
   ],
   "source": [
    "randomized_search_2 = RandomizedSearchCV( #LGBMRegressor\n",
    "    pipe_final_2, \n",
    "    param_distributions_2, \n",
    "    scoring='neg_root_mean_squared_error', \n",
    "    random_state=RANDOM_STATE,\n",
    "    n_jobs=-1\n",
    ")\n",
    "randomized_search_2.fit(X_train, y_train)"
   ]
  },
  {
   "cell_type": "code",
   "execution_count": 32,
   "metadata": {},
   "outputs": [
    {
     "data": {
      "text/plain": [
       "1627.178390561464"
      ]
     },
     "execution_count": 32,
     "metadata": {},
     "output_type": "execute_result"
    }
   ],
   "source": [
    "randomized_search_2.best_score_*-1 #Значение метрики меньше, чем 2500"
   ]
  },
  {
   "cell_type": "markdown",
   "metadata": {},
   "source": [
    "Были обучены две модели, решающие задачи регрессии: LGBMRegressor и DecisionTreeRegressor. У обоих значения метрик RSME меньше 2500, как и требуется по условию."
   ]
  },
  {
   "cell_type": "markdown",
   "metadata": {},
   "source": [
    "## Анализ моделей"
   ]
  },
  {
   "cell_type": "code",
   "execution_count": 33,
   "metadata": {},
   "outputs": [
    {
     "data": {
      "text/plain": [
       "Pipeline(steps=[('preprocessor',\n",
       "                 ColumnTransformer(remainder='passthrough',\n",
       "                                   transformers=[('ohe',\n",
       "                                                  Pipeline(steps=[('ohe',\n",
       "                                                                   OrdinalEncoder(handle_unknown='ignore'))]),\n",
       "                                                  ['VehicleType', 'Gearbox',\n",
       "                                                   'Model', 'FuelType']),\n",
       "                                                 ('ord',\n",
       "                                                  Pipeline(steps=[('simpleImputer_before_ord',\n",
       "                                                                   SimpleImputer(strategy='most_frequent')),\n",
       "                                                                  ('ord',\n",
       "                                                                   OrdinalEncoder(categories=[['yes',\n",
       "                                                                                               'Unknown',\n",
       "                                                                                               'no']],\n",
       "                                                                                  handle_unknown='ignore')),\n",
       "                                                                  ('simpleImputer_after_ord',\n",
       "                                                                   SimpleImputer(strategy='most_frequent'))]),\n",
       "                                                  ['Repaired'])])),\n",
       "                ('models',\n",
       "                 DecisionTreeRegressor(max_depth=16, min_samples_split=12,\n",
       "                                       random_state=42))])"
      ]
     },
     "execution_count": 33,
     "metadata": {},
     "output_type": "execute_result"
    }
   ],
   "source": [
    "randomized_search.best_estimator_ #Лучшие гиперпараметры для дерева. Теперь замерим время обучения и предсказания"
   ]
  },
  {
   "cell_type": "code",
   "execution_count": 34,
   "metadata": {},
   "outputs": [],
   "source": [
    "model_tree = Pipeline([\n",
    "    ('preprocessor', data_preprocessor),\n",
    "    ('model', DecisionTreeRegressor(max_depth=16, min_samples_split=12, random_state=42))\n",
    "])"
   ]
  },
  {
   "cell_type": "code",
   "execution_count": 35,
   "metadata": {},
   "outputs": [
    {
     "name": "stderr",
     "output_type": "stream",
     "text": [
      "/opt/conda/lib/python3.9/site-packages/sklearn/impute/_base.py:49: FutureWarning: Unlike other reduction functions (e.g. `skew`, `kurtosis`), the default behavior of `mode` typically preserves the axis it acts along. In SciPy 1.11.0, this behavior will change: the default value of `keepdims` will become False, the `axis` over which the statistic is taken will be eliminated, and the value None will no longer be accepted. Set `keepdims` to True or False to avoid this warning.\n",
      "  mode = stats.mode(array)\n",
      "/opt/conda/lib/python3.9/site-packages/sklearn/impute/_base.py:49: FutureWarning: Unlike other reduction functions (e.g. `skew`, `kurtosis`), the default behavior of `mode` typically preserves the axis it acts along. In SciPy 1.11.0, this behavior will change: the default value of `keepdims` will become False, the `axis` over which the statistic is taken will be eliminated, and the value None will no longer be accepted. Set `keepdims` to True or False to avoid this warning.\n",
      "  mode = stats.mode(array)\n",
      "/opt/conda/lib/python3.9/site-packages/sklearn/impute/_base.py:49: FutureWarning: Unlike other reduction functions (e.g. `skew`, `kurtosis`), the default behavior of `mode` typically preserves the axis it acts along. In SciPy 1.11.0, this behavior will change: the default value of `keepdims` will become False, the `axis` over which the statistic is taken will be eliminated, and the value None will no longer be accepted. Set `keepdims` to True or False to avoid this warning.\n",
      "  mode = stats.mode(array)\n",
      "/opt/conda/lib/python3.9/site-packages/sklearn/impute/_base.py:49: FutureWarning: Unlike other reduction functions (e.g. `skew`, `kurtosis`), the default behavior of `mode` typically preserves the axis it acts along. In SciPy 1.11.0, this behavior will change: the default value of `keepdims` will become False, the `axis` over which the statistic is taken will be eliminated, and the value None will no longer be accepted. Set `keepdims` to True or False to avoid this warning.\n",
      "  mode = stats.mode(array)\n",
      "/opt/conda/lib/python3.9/site-packages/sklearn/impute/_base.py:49: FutureWarning: Unlike other reduction functions (e.g. `skew`, `kurtosis`), the default behavior of `mode` typically preserves the axis it acts along. In SciPy 1.11.0, this behavior will change: the default value of `keepdims` will become False, the `axis` over which the statistic is taken will be eliminated, and the value None will no longer be accepted. Set `keepdims` to True or False to avoid this warning.\n",
      "  mode = stats.mode(array)\n",
      "/opt/conda/lib/python3.9/site-packages/sklearn/impute/_base.py:49: FutureWarning: Unlike other reduction functions (e.g. `skew`, `kurtosis`), the default behavior of `mode` typically preserves the axis it acts along. In SciPy 1.11.0, this behavior will change: the default value of `keepdims` will become False, the `axis` over which the statistic is taken will be eliminated, and the value None will no longer be accepted. Set `keepdims` to True or False to avoid this warning.\n",
      "  mode = stats.mode(array)\n",
      "/opt/conda/lib/python3.9/site-packages/sklearn/impute/_base.py:49: FutureWarning: Unlike other reduction functions (e.g. `skew`, `kurtosis`), the default behavior of `mode` typically preserves the axis it acts along. In SciPy 1.11.0, this behavior will change: the default value of `keepdims` will become False, the `axis` over which the statistic is taken will be eliminated, and the value None will no longer be accepted. Set `keepdims` to True or False to avoid this warning.\n",
      "  mode = stats.mode(array)\n",
      "/opt/conda/lib/python3.9/site-packages/sklearn/impute/_base.py:49: FutureWarning: Unlike other reduction functions (e.g. `skew`, `kurtosis`), the default behavior of `mode` typically preserves the axis it acts along. In SciPy 1.11.0, this behavior will change: the default value of `keepdims` will become False, the `axis` over which the statistic is taken will be eliminated, and the value None will no longer be accepted. Set `keepdims` to True or False to avoid this warning.\n",
      "  mode = stats.mode(array)\n"
     ]
    },
    {
     "name": "stdout",
     "output_type": "stream",
     "text": [
      "617 ms ± 5.73 ms per loop (mean ± std. dev. of 7 runs, 1 loop each)\n"
     ]
    }
   ],
   "source": [
    "%%timeit\n",
    "model_tree.fit(X_train, y_train)"
   ]
  },
  {
   "cell_type": "code",
   "execution_count": 36,
   "metadata": {},
   "outputs": [
    {
     "name": "stdout",
     "output_type": "stream",
     "text": [
      "78.9 ms ± 619 µs per loop (mean ± std. dev. of 7 runs, 10 loops each)\n"
     ]
    }
   ],
   "source": [
    "%%timeit\n",
    "tree_predict = model_tree.predict(X_test)"
   ]
  },
  {
   "cell_type": "code",
   "execution_count": 37,
   "metadata": {},
   "outputs": [],
   "source": [
    "tree_predict = model_tree.predict(X_test)"
   ]
  },
  {
   "cell_type": "code",
   "execution_count": 38,
   "metadata": {},
   "outputs": [
    {
     "data": {
      "text/plain": [
       "1923.514918694816"
      ]
     },
     "execution_count": 38,
     "metadata": {},
     "output_type": "execute_result"
    }
   ],
   "source": [
    "mean_squared_error(y_test, tree_predict, squared=False) #Значение метрики меньше чем 2500"
   ]
  },
  {
   "cell_type": "code",
   "execution_count": 39,
   "metadata": {},
   "outputs": [
    {
     "data": {
      "text/plain": [
       "Pipeline(steps=[('models',\n",
       "                 LGBMRegressor(max_depth=10, n_estimators=500,\n",
       "                               random_state=42))])"
      ]
     },
     "execution_count": 39,
     "metadata": {},
     "output_type": "execute_result"
    }
   ],
   "source": [
    "randomized_search_2.best_estimator_ #Лучшие гиперпараметры для бустинга. Теперь замерим время обучения и предсказания"
   ]
  },
  {
   "cell_type": "code",
   "execution_count": 40,
   "metadata": {},
   "outputs": [
    {
     "name": "stderr",
     "output_type": "stream",
     "text": [
      "/tmp/ipykernel_490/3941439585.py:2: SettingWithCopyWarning: \n",
      "A value is trying to be set on a copy of a slice from a DataFrame.\n",
      "Try using .loc[row_indexer,col_indexer] = value instead\n",
      "\n",
      "See the caveats in the documentation: https://pandas.pydata.org/pandas-docs/stable/user_guide/indexing.html#returning-a-view-versus-a-copy\n",
      "  X_test[i] = X_test[i].astype('category')\n",
      "/tmp/ipykernel_490/3941439585.py:4: SettingWithCopyWarning: \n",
      "A value is trying to be set on a copy of a slice from a DataFrame.\n",
      "Try using .loc[row_indexer,col_indexer] = value instead\n",
      "\n",
      "See the caveats in the documentation: https://pandas.pydata.org/pandas-docs/stable/user_guide/indexing.html#returning-a-view-versus-a-copy\n",
      "  X_test[i] = X_test[i].astype('category')\n"
     ]
    }
   ],
   "source": [
    "for i in ohe_columns:\n",
    "    X_test[i] = X_test[i].astype('category')\n",
    "for i in ord_columns:\n",
    "    X_test[i] = X_test[i].astype('category')  "
   ]
  },
  {
   "cell_type": "code",
   "execution_count": 41,
   "metadata": {},
   "outputs": [],
   "source": [
    "model_lgbm = Pipeline([\n",
    "    ('model', LGBMRegressor(max_depth=10,n_estimators=500, random_state=42))\n",
    "])"
   ]
  },
  {
   "cell_type": "code",
   "execution_count": 42,
   "metadata": {},
   "outputs": [
    {
     "name": "stdout",
     "output_type": "stream",
     "text": [
      "13 s ± 362 ms per loop (mean ± std. dev. of 7 runs, 1 loop each)\n"
     ]
    }
   ],
   "source": [
    "%%timeit\n",
    "model_lgbm.fit(X_train, y_train)"
   ]
  },
  {
   "cell_type": "code",
   "execution_count": 43,
   "metadata": {},
   "outputs": [
    {
     "name": "stdout",
     "output_type": "stream",
     "text": [
      "2.76 s ± 39.4 ms per loop (mean ± std. dev. of 7 runs, 1 loop each)\n"
     ]
    }
   ],
   "source": [
    "%%timeit\n",
    "model_lgbm.predict(X_test)"
   ]
  },
  {
   "cell_type": "code",
   "execution_count": 44,
   "metadata": {},
   "outputs": [
    {
     "data": {
      "text/plain": [
       "1610.8410313152774"
      ]
     },
     "execution_count": 44,
     "metadata": {},
     "output_type": "execute_result"
    }
   ],
   "source": [
    "boost_predict = model_lgbm.predict(X_test)\n",
    "mean_squared_error(y_test, boost_predict, squared=False) #Значение метрики меньше чем 2500"
   ]
  },
  {
   "cell_type": "markdown",
   "metadata": {},
   "source": [
    "Подведём итоги:\\\n",
    "***Модель LightGBM***\\\n",
    "Время обучения: 13 секунд, предсказания: 2.8 с, RMSE: 1610\\\n",
    "***Модель DecisionTreeRegressor***\\\n",
    "Время обучения: 617 мс, предсказания: 80 мс, RMSE: 1923\\\n",
    "\\\n",
    "Бустинг обучается сильно дольше, но и точность предсказания у этой модели выше, так что использовал бы я именно бустинг, ведь время всё ещё не сильно значительное (12 секунд)\n"
   ]
  },
  {
   "cell_type": "markdown",
   "metadata": {},
   "source": [
    "## Выводы\n"
   ]
  },
  {
   "cell_type": "markdown",
   "metadata": {},
   "source": [
    "Надо было построить модель, которая умеет определять цену автомобиля. В моём распоряжении были данные о технических характеристиках, комплектации и ценах других автомобилей.\\\n",
    "Для решения данной задачи сначала была проведена предобработка данных: удалении пропусков, обработка аномалий и дубликатов.\\\n",
    "Далее, используя пайплайны, данные были подготовлены и найдены лучшие гиперпараметры для двух моделей: DecisionTreeRegressor и LightGBM. Для них далее были проведены замеры времени обучения и предсказания.\\\n",
    "\n",
    "***Модель LightGBM***\\\n",
    "Время обучения: 13 секунд, предсказания: 2.8 с, RMSE: 1610\\\n",
    "***Модель DecisionTreeRegressor***\\\n",
    "Время обучения: 617 мс, предсказания: 80 мс, RMSE: 1923\\\n",
    "\\\n",
    "Бустинг обучается сильно дольше, но и точность предсказания у этой модели выше, так что использовал бы я именно бустинг, ведь время всё ещё не сильно значительное (12 секунд)\n"
   ]
  },
  {
   "cell_type": "code",
   "execution_count": null,
   "metadata": {},
   "outputs": [],
   "source": []
  }
 ],
 "metadata": {
  "ExecuteTimeLog": [
   {
    "duration": 415,
    "start_time": "2024-06-02T10:30:08.382Z"
   },
   {
    "duration": 1126,
    "start_time": "2024-06-02T10:30:30.932Z"
   },
   {
    "duration": 18,
    "start_time": "2024-06-02T10:30:51.600Z"
   },
   {
    "duration": 142,
    "start_time": "2024-06-02T10:31:05.399Z"
   },
   {
    "duration": 83,
    "start_time": "2024-06-02T10:31:12.702Z"
   },
   {
    "duration": 271,
    "start_time": "2024-06-02T10:33:45.218Z"
   },
   {
    "duration": 107,
    "start_time": "2024-06-02T10:33:45.869Z"
   },
   {
    "duration": 14,
    "start_time": "2024-06-02T10:33:48.128Z"
   },
   {
    "duration": 346,
    "start_time": "2024-06-02T10:34:03.645Z"
   },
   {
    "duration": 787,
    "start_time": "2024-06-02T10:34:04.430Z"
   },
   {
    "duration": 18,
    "start_time": "2024-06-02T10:34:05.322Z"
   },
   {
    "duration": 252,
    "start_time": "2024-06-02T10:34:07.319Z"
   },
   {
    "duration": 92,
    "start_time": "2024-06-02T10:34:09.428Z"
   },
   {
    "duration": 89,
    "start_time": "2024-06-02T10:34:13.580Z"
   },
   {
    "duration": 98,
    "start_time": "2024-06-02T10:39:41.244Z"
   },
   {
    "duration": 372,
    "start_time": "2024-07-12T12:08:07.709Z"
   },
   {
    "duration": 2876,
    "start_time": "2024-07-12T12:08:09.267Z"
   },
   {
    "duration": 19,
    "start_time": "2024-07-12T12:08:12.754Z"
   },
   {
    "duration": 311,
    "start_time": "2024-07-12T12:08:15.135Z"
   },
   {
    "duration": 107,
    "start_time": "2024-07-12T12:08:15.535Z"
   },
   {
    "duration": 99,
    "start_time": "2024-07-12T12:08:23.257Z"
   },
   {
    "duration": 100,
    "start_time": "2024-07-12T12:08:24.472Z"
   },
   {
    "duration": 846,
    "start_time": "2024-07-12T12:11:08.822Z"
   },
   {
    "duration": 15,
    "start_time": "2024-07-12T12:11:10.010Z"
   },
   {
    "duration": 211,
    "start_time": "2024-07-12T12:11:11.457Z"
   },
   {
    "duration": 105,
    "start_time": "2024-07-12T12:11:12.469Z"
   },
   {
    "duration": 69,
    "start_time": "2024-07-12T12:11:14.826Z"
   },
   {
    "duration": 310,
    "start_time": "2024-07-12T12:12:05.006Z"
   },
   {
    "duration": 90,
    "start_time": "2024-07-12T12:12:08.558Z"
   },
   {
    "duration": 104,
    "start_time": "2024-07-12T12:12:12.841Z"
   },
   {
    "duration": 103,
    "start_time": "2024-07-12T12:12:32.713Z"
   },
   {
    "duration": 27,
    "start_time": "2024-07-12T12:20:39.865Z"
   },
   {
    "duration": 43,
    "start_time": "2024-07-12T12:21:36.967Z"
   },
   {
    "duration": 67,
    "start_time": "2024-07-12T12:21:45.671Z"
   },
   {
    "duration": 37,
    "start_time": "2024-07-12T12:22:03.173Z"
   },
   {
    "duration": 432,
    "start_time": "2024-07-12T12:22:11.537Z"
   },
   {
    "duration": 886,
    "start_time": "2024-07-12T12:22:12.391Z"
   },
   {
    "duration": 19,
    "start_time": "2024-07-12T12:22:15.825Z"
   },
   {
    "duration": 296,
    "start_time": "2024-07-12T12:22:16.501Z"
   },
   {
    "duration": 332,
    "start_time": "2024-07-12T12:22:18.740Z"
   },
   {
    "duration": 103,
    "start_time": "2024-07-12T12:22:19.588Z"
   },
   {
    "duration": 98,
    "start_time": "2024-07-12T12:22:25.826Z"
   },
   {
    "duration": 46,
    "start_time": "2024-07-12T12:22:27.284Z"
   },
   {
    "duration": 65,
    "start_time": "2024-07-12T12:22:27.864Z"
   },
   {
    "duration": 3432,
    "start_time": "2024-07-12T12:31:32.399Z"
   },
   {
    "duration": 880,
    "start_time": "2024-07-12T12:31:37.668Z"
   },
   {
    "duration": 893,
    "start_time": "2024-07-12T12:31:40.238Z"
   },
   {
    "duration": 20,
    "start_time": "2024-07-12T12:31:43.229Z"
   },
   {
    "duration": 282,
    "start_time": "2024-07-12T12:31:45.545Z"
   },
   {
    "duration": 104,
    "start_time": "2024-07-12T12:31:46.093Z"
   },
   {
    "duration": 98,
    "start_time": "2024-07-12T12:31:48.249Z"
   },
   {
    "duration": 51,
    "start_time": "2024-07-12T12:42:43.759Z"
   },
   {
    "duration": 2665,
    "start_time": "2024-07-12T12:42:56.992Z"
   },
   {
    "duration": 945,
    "start_time": "2024-07-12T12:43:01.994Z"
   },
   {
    "duration": 2916,
    "start_time": "2024-07-12T12:43:04.972Z"
   },
   {
    "duration": 19,
    "start_time": "2024-07-12T12:43:08.725Z"
   },
   {
    "duration": 276,
    "start_time": "2024-07-12T12:43:09.544Z"
   },
   {
    "duration": 109,
    "start_time": "2024-07-12T12:43:11.355Z"
   },
   {
    "duration": 105,
    "start_time": "2024-07-12T12:43:13.453Z"
   },
   {
    "duration": 2416,
    "start_time": "2024-07-12T12:44:14.909Z"
   },
   {
    "duration": 902,
    "start_time": "2024-07-12T12:44:50.266Z"
   },
   {
    "duration": 899,
    "start_time": "2024-07-12T12:44:51.170Z"
   },
   {
    "duration": 20,
    "start_time": "2024-07-12T12:44:52.071Z"
   },
   {
    "duration": 298,
    "start_time": "2024-07-12T12:44:53.819Z"
   },
   {
    "duration": 104,
    "start_time": "2024-07-12T12:44:54.231Z"
   },
   {
    "duration": 97,
    "start_time": "2024-07-12T12:44:56.174Z"
   },
   {
    "duration": 426,
    "start_time": "2024-07-12T12:48:35.438Z"
   },
   {
    "duration": 901,
    "start_time": "2024-07-12T12:48:36.602Z"
   },
   {
    "duration": 27,
    "start_time": "2024-07-12T12:48:42.106Z"
   },
   {
    "duration": 279,
    "start_time": "2024-07-12T12:48:43.571Z"
   },
   {
    "duration": 99,
    "start_time": "2024-07-12T12:48:44.138Z"
   },
   {
    "duration": 100,
    "start_time": "2024-07-12T12:48:46.294Z"
   },
   {
    "duration": 55,
    "start_time": "2024-07-12T12:48:47.090Z"
   },
   {
    "duration": 384,
    "start_time": "2024-07-12T12:53:57.672Z"
   },
   {
    "duration": 914,
    "start_time": "2024-07-12T12:53:59.086Z"
   },
   {
    "duration": 19,
    "start_time": "2024-07-12T12:55:07.243Z"
   },
   {
    "duration": 308,
    "start_time": "2024-07-12T12:55:07.834Z"
   },
   {
    "duration": 110,
    "start_time": "2024-07-12T12:55:08.526Z"
   },
   {
    "duration": 102,
    "start_time": "2024-07-12T12:55:09.122Z"
   },
   {
    "duration": 77,
    "start_time": "2024-07-12T12:55:11.031Z"
   },
   {
    "duration": 63,
    "start_time": "2024-07-12T12:57:26.767Z"
   },
   {
    "duration": 53,
    "start_time": "2024-07-12T12:57:34.376Z"
   },
   {
    "duration": 56,
    "start_time": "2024-07-12T12:57:41.140Z"
   },
   {
    "duration": 405,
    "start_time": "2024-07-12T12:58:22.008Z"
   },
   {
    "duration": 912,
    "start_time": "2024-07-12T12:58:24.480Z"
   },
   {
    "duration": 20,
    "start_time": "2024-07-12T12:58:25.394Z"
   },
   {
    "duration": 306,
    "start_time": "2024-07-12T12:59:00.899Z"
   },
   {
    "duration": 123,
    "start_time": "2024-07-12T12:59:02.397Z"
   },
   {
    "duration": 104,
    "start_time": "2024-07-12T12:59:06.822Z"
   },
   {
    "duration": 49,
    "start_time": "2024-07-12T12:59:08.049Z"
   },
   {
    "duration": 49,
    "start_time": "2024-07-12T12:59:11.004Z"
   },
   {
    "duration": 84,
    "start_time": "2024-07-12T12:59:24.739Z"
   },
   {
    "duration": 89,
    "start_time": "2024-07-12T12:59:28.949Z"
   },
   {
    "duration": 387,
    "start_time": "2024-07-12T12:59:57.077Z"
   },
   {
    "duration": 881,
    "start_time": "2024-07-12T12:59:57.584Z"
   },
   {
    "duration": 21,
    "start_time": "2024-07-12T12:59:58.467Z"
   },
   {
    "duration": 295,
    "start_time": "2024-07-12T13:00:00.267Z"
   },
   {
    "duration": 109,
    "start_time": "2024-07-12T13:00:00.669Z"
   },
   {
    "duration": 102,
    "start_time": "2024-07-12T13:00:02.647Z"
   },
   {
    "duration": 47,
    "start_time": "2024-07-12T13:00:08.245Z"
   },
   {
    "duration": 50,
    "start_time": "2024-07-12T13:00:14.589Z"
   },
   {
    "duration": 84,
    "start_time": "2024-07-12T13:00:16.023Z"
   },
   {
    "duration": 86,
    "start_time": "2024-07-12T13:00:17.717Z"
   },
   {
    "duration": 19,
    "start_time": "2024-07-12T13:02:04.998Z"
   },
   {
    "duration": 23,
    "start_time": "2024-07-12T13:02:15.760Z"
   },
   {
    "duration": 20,
    "start_time": "2024-07-12T13:02:31.689Z"
   },
   {
    "duration": 21,
    "start_time": "2024-07-12T13:02:38.827Z"
   },
   {
    "duration": 19,
    "start_time": "2024-07-12T13:02:53.527Z"
   },
   {
    "duration": 19,
    "start_time": "2024-07-12T13:03:02.225Z"
   },
   {
    "duration": 72,
    "start_time": "2024-07-12T13:05:27.120Z"
   },
   {
    "duration": 3,
    "start_time": "2024-07-12T13:05:38.857Z"
   },
   {
    "duration": 10,
    "start_time": "2024-07-12T13:05:42.665Z"
   },
   {
    "duration": 103,
    "start_time": "2024-07-12T13:06:41.040Z"
   },
   {
    "duration": 85,
    "start_time": "2024-07-12T13:06:49.712Z"
   },
   {
    "duration": 104,
    "start_time": "2024-07-12T13:07:17.262Z"
   },
   {
    "duration": 87,
    "start_time": "2024-07-12T13:07:17.931Z"
   },
   {
    "duration": 8,
    "start_time": "2024-07-12T13:09:20.972Z"
   },
   {
    "duration": 175,
    "start_time": "2024-07-12T13:09:24.346Z"
   },
   {
    "duration": 78,
    "start_time": "2024-07-12T13:09:33.423Z"
   },
   {
    "duration": 49,
    "start_time": "2024-07-12T13:09:47.525Z"
   },
   {
    "duration": 443,
    "start_time": "2024-07-12T13:10:00.238Z"
   },
   {
    "duration": 903,
    "start_time": "2024-07-12T13:10:04.657Z"
   },
   {
    "duration": 21,
    "start_time": "2024-07-12T13:10:05.562Z"
   },
   {
    "duration": 311,
    "start_time": "2024-07-12T13:10:09.317Z"
   },
   {
    "duration": 105,
    "start_time": "2024-07-12T13:10:09.728Z"
   },
   {
    "duration": 100,
    "start_time": "2024-07-12T13:10:11.699Z"
   },
   {
    "duration": 47,
    "start_time": "2024-07-12T13:10:12.569Z"
   },
   {
    "duration": 58,
    "start_time": "2024-07-12T13:10:13.116Z"
   },
   {
    "duration": 97,
    "start_time": "2024-07-12T13:10:17.181Z"
   },
   {
    "duration": 91,
    "start_time": "2024-07-12T13:10:17.647Z"
   },
   {
    "duration": 99,
    "start_time": "2024-07-12T13:10:19.579Z"
   },
   {
    "duration": 161,
    "start_time": "2024-07-12T13:10:24.511Z"
   },
   {
    "duration": 2368,
    "start_time": "2024-07-12T13:27:34.566Z"
   },
   {
    "duration": 486,
    "start_time": "2024-07-12T13:27:48.237Z"
   },
   {
    "duration": 4543,
    "start_time": "2024-07-12T13:28:23.442Z"
   },
   {
    "duration": 2443,
    "start_time": "2024-07-12T13:32:01.128Z"
   },
   {
    "duration": 2489,
    "start_time": "2024-07-12T13:32:08.962Z"
   },
   {
    "duration": 866,
    "start_time": "2024-07-12T13:32:15.705Z"
   },
   {
    "duration": 883,
    "start_time": "2024-07-12T13:32:21.352Z"
   },
   {
    "duration": 20,
    "start_time": "2024-07-12T13:32:28.817Z"
   },
   {
    "duration": 285,
    "start_time": "2024-07-12T13:32:31.374Z"
   },
   {
    "duration": 105,
    "start_time": "2024-07-12T13:32:38.754Z"
   },
   {
    "duration": 98,
    "start_time": "2024-07-12T13:32:48.533Z"
   },
   {
    "duration": 49,
    "start_time": "2024-07-12T13:33:01.397Z"
   },
   {
    "duration": 50,
    "start_time": "2024-07-12T13:33:08.192Z"
   },
   {
    "duration": 92,
    "start_time": "2024-07-12T13:33:11.436Z"
   },
   {
    "duration": 91,
    "start_time": "2024-07-12T13:33:20.631Z"
   },
   {
    "duration": 89,
    "start_time": "2024-07-12T13:33:23.706Z"
   },
   {
    "duration": 189,
    "start_time": "2024-07-12T13:33:24.461Z"
   },
   {
    "duration": 6561,
    "start_time": "2024-07-12T13:33:27.352Z"
   },
   {
    "duration": 7082,
    "start_time": "2024-07-12T13:34:17.504Z"
   },
   {
    "duration": 2448,
    "start_time": "2024-07-12T13:36:48.583Z"
   },
   {
    "duration": 908,
    "start_time": "2024-07-12T13:36:51.033Z"
   },
   {
    "duration": 912,
    "start_time": "2024-07-12T13:36:53.735Z"
   },
   {
    "duration": 21,
    "start_time": "2024-07-12T13:36:54.649Z"
   },
   {
    "duration": 298,
    "start_time": "2024-07-12T13:36:56.690Z"
   },
   {
    "duration": 106,
    "start_time": "2024-07-12T13:36:57.776Z"
   },
   {
    "duration": 111,
    "start_time": "2024-07-12T13:36:59.300Z"
   },
   {
    "duration": 50,
    "start_time": "2024-07-12T13:36:59.749Z"
   },
   {
    "duration": 51,
    "start_time": "2024-07-12T13:37:01.362Z"
   },
   {
    "duration": 85,
    "start_time": "2024-07-12T13:37:03.851Z"
   },
   {
    "duration": 87,
    "start_time": "2024-07-12T13:37:05.874Z"
   },
   {
    "duration": 89,
    "start_time": "2024-07-12T13:37:06.334Z"
   },
   {
    "duration": 5445,
    "start_time": "2024-07-12T13:37:09.134Z"
   },
   {
    "duration": 51,
    "start_time": "2024-07-12T13:37:14.581Z"
   },
   {
    "duration": 135,
    "start_time": "2024-07-12T13:37:14.633Z"
   },
   {
    "duration": 75,
    "start_time": "2024-07-12T13:40:37.230Z"
   },
   {
    "duration": 104,
    "start_time": "2024-07-12T13:42:56.181Z"
   },
   {
    "duration": 19,
    "start_time": "2024-07-12T13:43:05.080Z"
   },
   {
    "duration": 228,
    "start_time": "2024-07-12T13:45:10.328Z"
   },
   {
    "duration": 55,
    "start_time": "2024-07-12T13:45:13.762Z"
   },
   {
    "duration": 14,
    "start_time": "2024-07-12T13:46:27.783Z"
   },
   {
    "duration": 2,
    "start_time": "2024-07-12T13:47:33.243Z"
   },
   {
    "duration": 31,
    "start_time": "2024-07-12T13:47:37.265Z"
   },
   {
    "duration": 9,
    "start_time": "2024-07-12T13:48:31.584Z"
   },
   {
    "duration": 5,
    "start_time": "2024-07-12T13:48:55.154Z"
   },
   {
    "duration": 3,
    "start_time": "2024-07-12T13:48:59.293Z"
   },
   {
    "duration": 10,
    "start_time": "2024-07-12T13:49:30.600Z"
   },
   {
    "duration": 41,
    "start_time": "2024-07-12T13:49:58.265Z"
   },
   {
    "duration": 17,
    "start_time": "2024-07-12T13:50:01.485Z"
   },
   {
    "duration": 3,
    "start_time": "2024-07-12T13:50:17.406Z"
   },
   {
    "duration": 3,
    "start_time": "2024-07-12T13:50:19.649Z"
   },
   {
    "duration": 9,
    "start_time": "2024-07-12T13:50:35.824Z"
   },
   {
    "duration": 6,
    "start_time": "2024-07-12T13:50:49.614Z"
   },
   {
    "duration": 3,
    "start_time": "2024-07-12T13:50:53.018Z"
   },
   {
    "duration": 10,
    "start_time": "2024-07-12T13:53:05.358Z"
   },
   {
    "duration": 33,
    "start_time": "2024-07-12T13:53:10.166Z"
   },
   {
    "duration": 12,
    "start_time": "2024-07-12T13:53:13.108Z"
   },
   {
    "duration": 3,
    "start_time": "2024-07-12T13:53:25.074Z"
   },
   {
    "duration": 4,
    "start_time": "2024-07-12T13:55:42.384Z"
   },
   {
    "duration": 5,
    "start_time": "2024-07-12T14:04:09.201Z"
   },
   {
    "duration": 4,
    "start_time": "2024-07-12T14:06:16.751Z"
   },
   {
    "duration": 16,
    "start_time": "2024-07-12T14:06:26.957Z"
   },
   {
    "duration": 14,
    "start_time": "2024-07-12T14:07:44.224Z"
   },
   {
    "duration": 9,
    "start_time": "2024-07-12T14:07:53.920Z"
   },
   {
    "duration": 4,
    "start_time": "2024-07-12T14:09:02.910Z"
   },
   {
    "duration": 16,
    "start_time": "2024-07-12T14:09:07.136Z"
   },
   {
    "duration": 14,
    "start_time": "2024-07-12T14:09:21.805Z"
   },
   {
    "duration": 2390,
    "start_time": "2024-07-12T14:12:23.853Z"
   },
   {
    "duration": 1234,
    "start_time": "2024-07-12T14:12:26.245Z"
   },
   {
    "duration": 915,
    "start_time": "2024-07-12T14:12:27.481Z"
   },
   {
    "duration": 19,
    "start_time": "2024-07-12T14:12:28.397Z"
   },
   {
    "duration": 307,
    "start_time": "2024-07-12T14:12:28.418Z"
   },
   {
    "duration": 133,
    "start_time": "2024-07-12T14:12:28.726Z"
   },
   {
    "duration": 107,
    "start_time": "2024-07-12T14:12:28.861Z"
   },
   {
    "duration": 46,
    "start_time": "2024-07-12T14:12:28.970Z"
   },
   {
    "duration": 65,
    "start_time": "2024-07-12T14:12:29.018Z"
   },
   {
    "duration": 93,
    "start_time": "2024-07-12T14:12:29.084Z"
   },
   {
    "duration": 151,
    "start_time": "2024-07-12T14:12:29.179Z"
   },
   {
    "duration": 95,
    "start_time": "2024-07-12T14:12:29.332Z"
   },
   {
    "duration": 5517,
    "start_time": "2024-07-12T14:12:29.429Z"
   },
   {
    "duration": 29,
    "start_time": "2024-07-12T14:12:34.955Z"
   },
   {
    "duration": 140,
    "start_time": "2024-07-12T14:12:34.985Z"
   },
   {
    "duration": 74,
    "start_time": "2024-07-12T14:12:35.126Z"
   },
   {
    "duration": 72,
    "start_time": "2024-07-12T14:12:35.202Z"
   },
   {
    "duration": 3,
    "start_time": "2024-07-12T14:12:35.275Z"
   },
   {
    "duration": 13,
    "start_time": "2024-07-12T14:12:35.279Z"
   },
   {
    "duration": 5,
    "start_time": "2024-07-12T14:12:35.293Z"
   },
   {
    "duration": 8,
    "start_time": "2024-07-12T14:12:35.300Z"
   },
   {
    "duration": 6,
    "start_time": "2024-07-12T14:12:35.310Z"
   },
   {
    "duration": 123,
    "start_time": "2024-07-12T14:12:35.317Z"
   },
   {
    "duration": 14,
    "start_time": "2024-07-12T14:13:40.502Z"
   },
   {
    "duration": 62,
    "start_time": "2024-07-12T14:14:01.702Z"
   },
   {
    "duration": 4,
    "start_time": "2024-07-12T14:15:02.968Z"
   },
   {
    "duration": 20447,
    "start_time": "2024-07-12T14:15:03.692Z"
   },
   {
    "duration": 1102,
    "start_time": "2024-07-12T14:18:28.009Z"
   },
   {
    "duration": 9,
    "start_time": "2024-07-12T14:18:37.327Z"
   },
   {
    "duration": 4,
    "start_time": "2024-07-12T14:18:51.116Z"
   },
   {
    "duration": 3,
    "start_time": "2024-07-12T14:18:53.720Z"
   },
   {
    "duration": 3,
    "start_time": "2024-07-12T14:18:54.258Z"
   },
   {
    "duration": 84,
    "start_time": "2024-07-12T14:18:54.854Z"
   },
   {
    "duration": 101215,
    "start_time": "2024-07-12T14:18:56.786Z"
   },
   {
    "duration": 9,
    "start_time": "2024-07-12T14:21:20.961Z"
   },
   {
    "duration": 9,
    "start_time": "2024-07-12T14:21:31.438Z"
   },
   {
    "duration": 76,
    "start_time": "2024-07-12T14:23:21.800Z"
   },
   {
    "duration": 4,
    "start_time": "2024-07-12T14:23:29.353Z"
   },
   {
    "duration": 49,
    "start_time": "2024-07-12T14:23:30.403Z"
   },
   {
    "duration": 47,
    "start_time": "2024-07-12T14:23:37.034Z"
   },
   {
    "duration": 2508,
    "start_time": "2024-07-12T14:24:20.130Z"
   },
   {
    "duration": 1242,
    "start_time": "2024-07-12T14:24:22.640Z"
   },
   {
    "duration": 899,
    "start_time": "2024-07-12T14:24:23.884Z"
   },
   {
    "duration": 19,
    "start_time": "2024-07-12T14:24:24.785Z"
   },
   {
    "duration": 294,
    "start_time": "2024-07-12T14:24:24.806Z"
   },
   {
    "duration": 107,
    "start_time": "2024-07-12T14:24:25.102Z"
   },
   {
    "duration": 108,
    "start_time": "2024-07-12T14:24:25.211Z"
   },
   {
    "duration": 54,
    "start_time": "2024-07-12T14:24:25.320Z"
   },
   {
    "duration": 49,
    "start_time": "2024-07-12T14:24:25.376Z"
   },
   {
    "duration": 95,
    "start_time": "2024-07-12T14:24:25.426Z"
   },
   {
    "duration": 150,
    "start_time": "2024-07-12T14:24:25.523Z"
   },
   {
    "duration": 90,
    "start_time": "2024-07-12T14:24:25.675Z"
   },
   {
    "duration": 5514,
    "start_time": "2024-07-12T14:24:25.767Z"
   },
   {
    "duration": 48,
    "start_time": "2024-07-12T14:24:31.284Z"
   },
   {
    "duration": 143,
    "start_time": "2024-07-12T14:24:31.335Z"
   },
   {
    "duration": 88,
    "start_time": "2024-07-12T14:24:31.480Z"
   },
   {
    "duration": 55,
    "start_time": "2024-07-12T14:24:31.570Z"
   },
   {
    "duration": 4,
    "start_time": "2024-07-12T14:24:31.627Z"
   },
   {
    "duration": 5,
    "start_time": "2024-07-12T14:24:31.655Z"
   },
   {
    "duration": 30,
    "start_time": "2024-07-12T14:24:31.662Z"
   },
   {
    "duration": 27,
    "start_time": "2024-07-12T14:24:31.694Z"
   },
   {
    "duration": 26,
    "start_time": "2024-07-12T14:24:31.723Z"
   },
   {
    "duration": 180,
    "start_time": "2024-07-12T14:24:31.750Z"
   },
   {
    "duration": 5,
    "start_time": "2024-07-12T14:26:10.121Z"
   },
   {
    "duration": 117450,
    "start_time": "2024-07-12T14:26:10.784Z"
   },
   {
    "duration": 64,
    "start_time": "2024-07-12T14:28:33.973Z"
   },
   {
    "duration": 5,
    "start_time": "2024-07-12T14:28:39.410Z"
   },
   {
    "duration": 190614,
    "start_time": "2024-07-12T14:28:40.061Z"
   },
   {
    "duration": 7,
    "start_time": "2024-07-12T14:33:19.038Z"
   },
   {
    "duration": 420648,
    "start_time": "2024-07-12T14:33:19.641Z"
   },
   {
    "duration": 4,
    "start_time": "2024-07-12T14:51:29.101Z"
   },
   {
    "duration": 187395,
    "start_time": "2024-07-12T14:51:31.506Z"
   },
   {
    "duration": 3,
    "start_time": "2024-07-12T14:55:42.259Z"
   },
   {
    "duration": 187112,
    "start_time": "2024-07-12T14:55:43.033Z"
   },
   {
    "duration": 2477,
    "start_time": "2024-07-12T14:59:29.583Z"
   },
   {
    "duration": 1397,
    "start_time": "2024-07-12T14:59:42.636Z"
   },
   {
    "duration": 946,
    "start_time": "2024-07-12T14:59:44.888Z"
   },
   {
    "duration": 20,
    "start_time": "2024-07-12T14:59:46.366Z"
   },
   {
    "duration": 305,
    "start_time": "2024-07-12T14:59:48.035Z"
   },
   {
    "duration": 115,
    "start_time": "2024-07-12T14:59:48.948Z"
   },
   {
    "duration": 94,
    "start_time": "2024-07-12T14:59:50.512Z"
   },
   {
    "duration": 63,
    "start_time": "2024-07-12T14:59:50.660Z"
   },
   {
    "duration": 61,
    "start_time": "2024-07-12T14:59:50.791Z"
   },
   {
    "duration": 84,
    "start_time": "2024-07-12T14:59:50.932Z"
   },
   {
    "duration": 97,
    "start_time": "2024-07-12T14:59:51.068Z"
   },
   {
    "duration": 86,
    "start_time": "2024-07-12T14:59:51.213Z"
   },
   {
    "duration": 5569,
    "start_time": "2024-07-12T14:59:52.964Z"
   },
   {
    "duration": 56,
    "start_time": "2024-07-12T14:59:58.534Z"
   },
   {
    "duration": 140,
    "start_time": "2024-07-12T15:00:01.083Z"
   },
   {
    "duration": 67,
    "start_time": "2024-07-12T15:00:02.199Z"
   },
   {
    "duration": 55,
    "start_time": "2024-07-12T15:00:03.926Z"
   },
   {
    "duration": 3,
    "start_time": "2024-07-12T15:00:05.822Z"
   },
   {
    "duration": 4,
    "start_time": "2024-07-12T15:00:05.981Z"
   },
   {
    "duration": 3,
    "start_time": "2024-07-12T15:00:06.407Z"
   },
   {
    "duration": 3,
    "start_time": "2024-07-12T15:00:09.474Z"
   },
   {
    "duration": 3,
    "start_time": "2024-07-12T15:00:11.040Z"
   },
   {
    "duration": 188159,
    "start_time": "2024-07-12T15:00:12.019Z"
   },
   {
    "duration": 416,
    "start_time": "2024-07-12T15:04:33.355Z"
   },
   {
    "duration": 517,
    "start_time": "2024-07-12T15:05:11.076Z"
   },
   {
    "duration": 390,
    "start_time": "2024-07-12T15:05:27.223Z"
   },
   {
    "duration": 393,
    "start_time": "2024-07-12T15:05:37.389Z"
   },
   {
    "duration": 402,
    "start_time": "2024-07-12T15:07:52.993Z"
   },
   {
    "duration": 10,
    "start_time": "2024-07-12T15:11:04.235Z"
   },
   {
    "duration": 3,
    "start_time": "2024-07-12T15:11:08.159Z"
   },
   {
    "duration": 194164,
    "start_time": "2024-07-12T15:11:11.270Z"
   },
   {
    "duration": 14,
    "start_time": "2024-07-12T15:19:35.958Z"
   },
   {
    "duration": 2447,
    "start_time": "2024-07-12T15:25:36.638Z"
   },
   {
    "duration": 1165,
    "start_time": "2024-07-12T15:25:39.088Z"
   },
   {
    "duration": 884,
    "start_time": "2024-07-12T15:25:40.254Z"
   },
   {
    "duration": 26,
    "start_time": "2024-07-12T15:25:41.141Z"
   },
   {
    "duration": 290,
    "start_time": "2024-07-12T15:25:41.169Z"
   },
   {
    "duration": 119,
    "start_time": "2024-07-12T15:25:41.461Z"
   },
   {
    "duration": 113,
    "start_time": "2024-07-12T15:25:41.582Z"
   },
   {
    "duration": 58,
    "start_time": "2024-07-12T15:25:41.697Z"
   },
   {
    "duration": 50,
    "start_time": "2024-07-12T15:25:41.757Z"
   },
   {
    "duration": 93,
    "start_time": "2024-07-12T15:25:41.809Z"
   },
   {
    "duration": 156,
    "start_time": "2024-07-12T15:25:41.903Z"
   },
   {
    "duration": 103,
    "start_time": "2024-07-12T15:25:42.061Z"
   },
   {
    "duration": 5536,
    "start_time": "2024-07-12T15:25:42.166Z"
   },
   {
    "duration": 54,
    "start_time": "2024-07-12T15:25:47.703Z"
   },
   {
    "duration": 150,
    "start_time": "2024-07-12T15:25:47.759Z"
   },
   {
    "duration": 71,
    "start_time": "2024-07-12T15:25:47.910Z"
   },
   {
    "duration": 76,
    "start_time": "2024-07-12T15:25:47.982Z"
   },
   {
    "duration": 3,
    "start_time": "2024-07-12T15:25:48.060Z"
   },
   {
    "duration": 13,
    "start_time": "2024-07-12T15:25:48.064Z"
   },
   {
    "duration": 5,
    "start_time": "2024-07-12T15:25:48.079Z"
   },
   {
    "duration": 15,
    "start_time": "2024-07-12T15:25:48.085Z"
   },
   {
    "duration": 28,
    "start_time": "2024-07-12T15:25:48.102Z"
   },
   {
    "duration": 113,
    "start_time": "2024-07-12T15:25:48.131Z"
   },
   {
    "duration": 0,
    "start_time": "2024-07-12T15:25:48.246Z"
   },
   {
    "duration": 0,
    "start_time": "2024-07-12T15:25:48.247Z"
   },
   {
    "duration": 0,
    "start_time": "2024-07-12T15:25:48.248Z"
   },
   {
    "duration": 0,
    "start_time": "2024-07-12T15:25:48.249Z"
   },
   {
    "duration": 205691,
    "start_time": "2024-07-12T15:26:22.249Z"
   },
   {
    "duration": 394,
    "start_time": "2024-07-12T15:30:15.810Z"
   },
   {
    "duration": 4,
    "start_time": "2024-07-12T15:31:46.025Z"
   },
   {
    "duration": 283642,
    "start_time": "2024-07-12T15:31:49.964Z"
   },
   {
    "duration": 475,
    "start_time": "2024-07-12T15:36:46.281Z"
   },
   {
    "duration": 3,
    "start_time": "2024-07-12T15:37:45.666Z"
   },
   {
    "duration": 428503,
    "start_time": "2024-07-12T15:38:03.901Z"
   },
   {
    "duration": 851,
    "start_time": "2024-07-12T15:45:21.005Z"
   },
   {
    "duration": 10,
    "start_time": "2024-07-12T15:50:41.582Z"
   },
   {
    "duration": 25,
    "start_time": "2024-07-12T15:51:05.610Z"
   },
   {
    "duration": 53,
    "start_time": "2024-07-12T15:55:30.049Z"
   },
   {
    "duration": 3,
    "start_time": "2024-07-12T15:59:47.016Z"
   },
   {
    "duration": 49,
    "start_time": "2024-07-12T15:59:47.977Z"
   },
   {
    "duration": 26,
    "start_time": "2024-07-12T16:00:21.488Z"
   },
   {
    "duration": 4,
    "start_time": "2024-07-12T16:00:22.755Z"
   },
   {
    "duration": 5214,
    "start_time": "2024-07-12T16:00:32.765Z"
   },
   {
    "duration": 401,
    "start_time": "2024-07-12T16:01:09.539Z"
   },
   {
    "duration": 395,
    "start_time": "2024-07-12T16:01:24.514Z"
   },
   {
    "duration": 23,
    "start_time": "2024-07-12T16:01:41.192Z"
   },
   {
    "duration": 2,
    "start_time": "2024-07-12T16:04:14.315Z"
   },
   {
    "duration": 4,
    "start_time": "2024-07-12T16:04:42.462Z"
   },
   {
    "duration": 63,
    "start_time": "2024-07-12T16:04:53.896Z"
   },
   {
    "duration": 7310,
    "start_time": "2024-07-12T16:05:10.670Z"
   },
   {
    "duration": 822,
    "start_time": "2024-07-12T16:05:43.549Z"
   },
   {
    "duration": 961,
    "start_time": "2024-07-12T17:17:26.216Z"
   },
   {
    "duration": 954,
    "start_time": "2024-07-12T17:17:30.704Z"
   },
   {
    "duration": 896,
    "start_time": "2024-07-12T17:17:32.875Z"
   },
   {
    "duration": 953,
    "start_time": "2024-07-12T17:17:40.706Z"
   },
   {
    "duration": 26,
    "start_time": "2024-07-12T17:18:21.098Z"
   },
   {
    "duration": 2823,
    "start_time": "2024-07-12T17:19:19.190Z"
   },
   {
    "duration": 1246,
    "start_time": "2024-07-12T17:19:22.016Z"
   },
   {
    "duration": 972,
    "start_time": "2024-07-12T17:19:23.264Z"
   },
   {
    "duration": 24,
    "start_time": "2024-07-12T17:19:24.239Z"
   },
   {
    "duration": 320,
    "start_time": "2024-07-12T17:19:24.265Z"
   },
   {
    "duration": 111,
    "start_time": "2024-07-12T17:19:24.587Z"
   },
   {
    "duration": 113,
    "start_time": "2024-07-12T17:19:24.700Z"
   },
   {
    "duration": 54,
    "start_time": "2024-07-12T17:19:24.815Z"
   },
   {
    "duration": 57,
    "start_time": "2024-07-12T17:19:24.871Z"
   },
   {
    "duration": 125,
    "start_time": "2024-07-12T17:19:24.932Z"
   },
   {
    "duration": 166,
    "start_time": "2024-07-12T17:19:25.059Z"
   },
   {
    "duration": 99,
    "start_time": "2024-07-12T17:19:25.227Z"
   },
   {
    "duration": 5889,
    "start_time": "2024-07-12T17:19:25.328Z"
   },
   {
    "duration": 38,
    "start_time": "2024-07-12T17:19:31.219Z"
   },
   {
    "duration": 136,
    "start_time": "2024-07-12T17:19:31.259Z"
   },
   {
    "duration": 71,
    "start_time": "2024-07-12T17:19:31.397Z"
   },
   {
    "duration": 79,
    "start_time": "2024-07-12T17:19:31.470Z"
   },
   {
    "duration": 3,
    "start_time": "2024-07-12T17:19:31.551Z"
   },
   {
    "duration": 27,
    "start_time": "2024-07-12T17:19:31.555Z"
   },
   {
    "duration": 29,
    "start_time": "2024-07-12T17:19:31.584Z"
   },
   {
    "duration": 68,
    "start_time": "2024-07-12T17:19:31.615Z"
   },
   {
    "duration": 28,
    "start_time": "2024-07-12T17:19:31.684Z"
   },
   {
    "duration": 208289,
    "start_time": "2024-07-12T17:19:31.714Z"
   },
   {
    "duration": 423,
    "start_time": "2024-07-12T17:23:00.004Z"
   },
   {
    "duration": 4,
    "start_time": "2024-07-12T17:23:00.428Z"
   },
   {
    "duration": 396363,
    "start_time": "2024-07-12T17:23:00.433Z"
   },
   {
    "duration": 863,
    "start_time": "2024-07-12T17:29:36.798Z"
   },
   {
    "duration": 26,
    "start_time": "2024-07-12T17:29:37.664Z"
   },
   {
    "duration": 8,
    "start_time": "2024-07-12T17:29:37.692Z"
   },
   {
    "duration": 6,
    "start_time": "2024-07-12T17:29:37.701Z"
   },
   {
    "duration": 41699,
    "start_time": "2024-07-12T17:29:37.708Z"
   },
   {
    "duration": 3270,
    "start_time": "2024-07-12T17:30:19.409Z"
   },
   {
    "duration": 24,
    "start_time": "2024-07-12T17:30:22.680Z"
   },
   {
    "duration": 24,
    "start_time": "2024-07-12T17:30:22.706Z"
   },
   {
    "duration": 9,
    "start_time": "2024-07-12T17:30:22.731Z"
   },
   {
    "duration": 61325,
    "start_time": "2024-07-12T17:30:22.741Z"
   },
   {
    "duration": 7299,
    "start_time": "2024-07-12T17:31:24.068Z"
   },
   {
    "duration": 1227,
    "start_time": "2024-07-13T10:38:59.013Z"
   },
   {
    "duration": 3206,
    "start_time": "2024-07-13T10:39:05.533Z"
   },
   {
    "duration": 44,
    "start_time": "2024-07-13T10:39:08.741Z"
   },
   {
    "duration": 2209,
    "start_time": "2024-07-13T10:39:13.393Z"
   },
   {
    "duration": 1109,
    "start_time": "2024-07-13T10:39:20.944Z"
   },
   {
    "duration": 1085,
    "start_time": "2024-07-13T10:40:37.928Z"
   },
   {
    "duration": 18,
    "start_time": "2024-07-13T10:40:39.483Z"
   },
   {
    "duration": 266,
    "start_time": "2024-07-13T10:40:56.516Z"
   },
   {
    "duration": 106,
    "start_time": "2024-07-13T10:41:06.475Z"
   },
   {
    "duration": 91,
    "start_time": "2024-07-13T10:41:24.787Z"
   },
   {
    "duration": 48,
    "start_time": "2024-07-13T10:41:27.465Z"
   },
   {
    "duration": 44,
    "start_time": "2024-07-13T10:44:44.792Z"
   },
   {
    "duration": 78,
    "start_time": "2024-07-13T10:44:45.876Z"
   },
   {
    "duration": 81,
    "start_time": "2024-07-13T10:44:50.751Z"
   },
   {
    "duration": 407,
    "start_time": "2024-07-13T10:46:38.928Z"
   },
   {
    "duration": 3714,
    "start_time": "2024-07-13T10:46:54.669Z"
   },
   {
    "duration": 2311,
    "start_time": "2024-07-13T10:47:04.221Z"
   },
   {
    "duration": 455,
    "start_time": "2024-07-13T10:47:12.675Z"
   },
   {
    "duration": 4985,
    "start_time": "2024-07-13T10:47:30.360Z"
   },
   {
    "duration": 4416,
    "start_time": "2024-07-13T10:47:45.167Z"
   },
   {
    "duration": 1506,
    "start_time": "2024-07-13T10:47:51.309Z"
   },
   {
    "duration": 788,
    "start_time": "2024-07-13T10:47:54.718Z"
   },
   {
    "duration": 16,
    "start_time": "2024-07-13T10:47:55.507Z"
   },
   {
    "duration": 275,
    "start_time": "2024-07-13T10:47:55.524Z"
   },
   {
    "duration": 97,
    "start_time": "2024-07-13T10:47:56.757Z"
   },
   {
    "duration": 88,
    "start_time": "2024-07-13T10:47:58.410Z"
   },
   {
    "duration": 46,
    "start_time": "2024-07-13T10:48:00.347Z"
   },
   {
    "duration": 46,
    "start_time": "2024-07-13T10:48:03.751Z"
   },
   {
    "duration": 79,
    "start_time": "2024-07-13T10:48:05.989Z"
   },
   {
    "duration": 1101,
    "start_time": "2024-07-13T10:48:20.373Z"
   },
   {
    "duration": 1134,
    "start_time": "2024-07-13T10:49:10.546Z"
   },
   {
    "duration": 991,
    "start_time": "2024-07-13T10:50:19.168Z"
   },
   {
    "duration": 937,
    "start_time": "2024-07-13T10:50:23.616Z"
   },
   {
    "duration": 1135,
    "start_time": "2024-07-13T10:50:25.252Z"
   },
   {
    "duration": 82,
    "start_time": "2024-07-13T10:50:34.394Z"
   },
   {
    "duration": 5051,
    "start_time": "2024-07-13T10:50:40.204Z"
   },
   {
    "duration": 27,
    "start_time": "2024-07-13T10:50:54.709Z"
   },
   {
    "duration": 117,
    "start_time": "2024-07-13T10:51:01.085Z"
   },
   {
    "duration": 62,
    "start_time": "2024-07-13T10:51:02.806Z"
   },
   {
    "duration": 4402,
    "start_time": "2024-07-13T10:56:20.317Z"
   },
   {
    "duration": 1360,
    "start_time": "2024-07-13T10:56:26.001Z"
   },
   {
    "duration": 799,
    "start_time": "2024-07-13T10:56:28.167Z"
   },
   {
    "duration": 14,
    "start_time": "2024-07-13T10:56:28.968Z"
   },
   {
    "duration": 14,
    "start_time": "2024-07-13T10:56:32.427Z"
   },
   {
    "duration": 265,
    "start_time": "2024-07-13T10:56:33.952Z"
   },
   {
    "duration": 99,
    "start_time": "2024-07-13T10:56:36.753Z"
   },
   {
    "duration": 36,
    "start_time": "2024-07-13T10:57:04.113Z"
   },
   {
    "duration": 14,
    "start_time": "2024-07-13T10:57:08.233Z"
   },
   {
    "duration": 32,
    "start_time": "2024-07-13T10:57:09.861Z"
   },
   {
    "duration": 96,
    "start_time": "2024-07-13T10:57:10.711Z"
   },
   {
    "duration": 83,
    "start_time": "2024-07-13T10:57:30.908Z"
   },
   {
    "duration": 46,
    "start_time": "2024-07-13T10:57:31.594Z"
   },
   {
    "duration": 42,
    "start_time": "2024-07-13T10:57:34.841Z"
   },
   {
    "duration": 78,
    "start_time": "2024-07-13T10:57:36.714Z"
   },
   {
    "duration": 1015,
    "start_time": "2024-07-13T10:57:37.770Z"
   },
   {
    "duration": 1100,
    "start_time": "2024-07-13T10:57:38.825Z"
   },
   {
    "duration": 80,
    "start_time": "2024-07-13T10:57:42.554Z"
   },
   {
    "duration": 4818,
    "start_time": "2024-07-13T10:57:42.905Z"
   },
   {
    "duration": 26,
    "start_time": "2024-07-13T10:57:49.887Z"
   },
   {
    "duration": 110,
    "start_time": "2024-07-13T10:57:50.859Z"
   },
   {
    "duration": 59,
    "start_time": "2024-07-13T10:57:52.134Z"
   },
   {
    "duration": 15,
    "start_time": "2024-07-13T11:01:44.789Z"
   },
   {
    "duration": 66,
    "start_time": "2024-07-13T11:02:17.448Z"
   },
   {
    "duration": 76,
    "start_time": "2024-07-13T11:02:23.903Z"
   },
   {
    "duration": 52,
    "start_time": "2024-07-13T11:02:36.212Z"
   },
   {
    "duration": 41,
    "start_time": "2024-07-13T11:02:40.903Z"
   },
   {
    "duration": 4431,
    "start_time": "2024-07-13T11:03:03.033Z"
   },
   {
    "duration": 1415,
    "start_time": "2024-07-13T11:03:07.466Z"
   },
   {
    "duration": 804,
    "start_time": "2024-07-13T11:03:10.427Z"
   },
   {
    "duration": 36,
    "start_time": "2024-07-13T11:03:11.602Z"
   },
   {
    "duration": 16,
    "start_time": "2024-07-13T11:03:15.400Z"
   },
   {
    "duration": 252,
    "start_time": "2024-07-13T11:03:16.165Z"
   },
   {
    "duration": 94,
    "start_time": "2024-07-13T11:03:17.551Z"
   },
   {
    "duration": 79,
    "start_time": "2024-07-13T11:03:18.104Z"
   },
   {
    "duration": 41,
    "start_time": "2024-07-13T11:03:18.885Z"
   },
   {
    "duration": 45,
    "start_time": "2024-07-13T11:03:21.340Z"
   },
   {
    "duration": 78,
    "start_time": "2024-07-13T11:03:21.564Z"
   },
   {
    "duration": 998,
    "start_time": "2024-07-13T11:03:22.664Z"
   },
   {
    "duration": 1114,
    "start_time": "2024-07-13T11:03:23.664Z"
   },
   {
    "duration": 78,
    "start_time": "2024-07-13T11:03:25.959Z"
   },
   {
    "duration": 4842,
    "start_time": "2024-07-13T11:03:26.307Z"
   },
   {
    "duration": 50,
    "start_time": "2024-07-13T11:03:31.151Z"
   },
   {
    "duration": 88,
    "start_time": "2024-07-13T11:03:32.957Z"
   },
   {
    "duration": 188,
    "start_time": "2024-07-13T11:03:34.169Z"
   },
   {
    "duration": 74,
    "start_time": "2024-07-13T11:03:36.784Z"
   },
   {
    "duration": 66,
    "start_time": "2024-07-13T11:07:33.801Z"
   },
   {
    "duration": 3,
    "start_time": "2024-07-13T11:12:08.274Z"
   },
   {
    "duration": 4,
    "start_time": "2024-07-13T11:12:17.965Z"
   },
   {
    "duration": 3,
    "start_time": "2024-07-13T11:12:20.040Z"
   },
   {
    "duration": 3,
    "start_time": "2024-07-13T11:12:37.173Z"
   },
   {
    "duration": 3,
    "start_time": "2024-07-13T11:12:39.825Z"
   },
   {
    "duration": 3,
    "start_time": "2024-07-13T11:12:46.810Z"
   },
   {
    "duration": 25943,
    "start_time": "2024-07-13T11:13:00.977Z"
   },
   {
    "duration": 3,
    "start_time": "2024-07-13T11:14:16.496Z"
   },
   {
    "duration": 131,
    "start_time": "2024-07-13T11:14:51.661Z"
   },
   {
    "duration": 76,
    "start_time": "2024-07-13T11:16:01.724Z"
   },
   {
    "duration": 3,
    "start_time": "2024-07-13T11:16:02.175Z"
   },
   {
    "duration": 3,
    "start_time": "2024-07-13T11:16:02.900Z"
   },
   {
    "duration": 3,
    "start_time": "2024-07-13T11:16:03.518Z"
   },
   {
    "duration": 3,
    "start_time": "2024-07-13T11:16:04.822Z"
   },
   {
    "duration": 3,
    "start_time": "2024-07-13T11:16:08.486Z"
   },
   {
    "duration": 238175,
    "start_time": "2024-07-13T11:16:10.431Z"
   },
   {
    "duration": 3,
    "start_time": "2024-07-13T11:21:06.246Z"
   },
   {
    "duration": 34,
    "start_time": "2024-07-13T11:21:36.709Z"
   },
   {
    "duration": 12,
    "start_time": "2024-07-13T11:21:54.781Z"
   },
   {
    "duration": 735,
    "start_time": "2024-07-13T11:22:02.800Z"
   },
   {
    "duration": 11,
    "start_time": "2024-07-13T11:22:08.483Z"
   },
   {
    "duration": 11,
    "start_time": "2024-07-13T11:22:13.360Z"
   },
   {
    "duration": 11,
    "start_time": "2024-07-13T11:22:22.225Z"
   },
   {
    "duration": 6,
    "start_time": "2024-07-13T11:22:39.626Z"
   },
   {
    "duration": 10,
    "start_time": "2024-07-13T11:22:50.473Z"
   },
   {
    "duration": 26,
    "start_time": "2024-07-13T11:23:22.511Z"
   },
   {
    "duration": 69,
    "start_time": "2024-07-13T11:23:33.799Z"
   },
   {
    "duration": 3,
    "start_time": "2024-07-13T11:23:34.569Z"
   },
   {
    "duration": 3,
    "start_time": "2024-07-13T11:23:35.909Z"
   },
   {
    "duration": 2,
    "start_time": "2024-07-13T11:23:36.148Z"
   },
   {
    "duration": 3,
    "start_time": "2024-07-13T11:23:36.461Z"
   },
   {
    "duration": 3,
    "start_time": "2024-07-13T11:23:37.404Z"
   },
   {
    "duration": 5,
    "start_time": "2024-07-13T11:23:48.144Z"
   },
   {
    "duration": 15,
    "start_time": "2024-07-13T11:23:53.204Z"
   },
   {
    "duration": 6,
    "start_time": "2024-07-13T11:23:59.491Z"
   },
   {
    "duration": 13,
    "start_time": "2024-07-13T11:24:10.198Z"
   },
   {
    "duration": 72,
    "start_time": "2024-07-13T11:24:35.533Z"
   },
   {
    "duration": 3,
    "start_time": "2024-07-13T11:24:35.810Z"
   },
   {
    "duration": 3,
    "start_time": "2024-07-13T11:24:36.418Z"
   },
   {
    "duration": 3,
    "start_time": "2024-07-13T11:24:37.455Z"
   },
   {
    "duration": 3,
    "start_time": "2024-07-13T11:24:37.825Z"
   },
   {
    "duration": 3,
    "start_time": "2024-07-13T11:24:38.756Z"
   },
   {
    "duration": 11302,
    "start_time": "2024-07-13T11:24:40.178Z"
   },
   {
    "duration": 14,
    "start_time": "2024-07-13T11:25:00.768Z"
   },
   {
    "duration": 13,
    "start_time": "2024-07-13T11:25:10.166Z"
   },
   {
    "duration": 3,
    "start_time": "2024-07-13T11:25:32.472Z"
   },
   {
    "duration": 9,
    "start_time": "2024-07-13T11:25:41.070Z"
   },
   {
    "duration": 19,
    "start_time": "2024-07-13T11:26:04.191Z"
   },
   {
    "duration": 4498,
    "start_time": "2024-07-13T11:28:47.003Z"
   },
   {
    "duration": 1383,
    "start_time": "2024-07-13T11:28:52.999Z"
   },
   {
    "duration": 795,
    "start_time": "2024-07-13T11:28:54.384Z"
   },
   {
    "duration": 35,
    "start_time": "2024-07-13T11:28:55.182Z"
   },
   {
    "duration": 14,
    "start_time": "2024-07-13T11:28:55.219Z"
   },
   {
    "duration": 242,
    "start_time": "2024-07-13T11:28:55.426Z"
   },
   {
    "duration": 95,
    "start_time": "2024-07-13T11:28:56.061Z"
   },
   {
    "duration": 82,
    "start_time": "2024-07-13T11:28:56.247Z"
   },
   {
    "duration": 42,
    "start_time": "2024-07-13T11:28:56.450Z"
   },
   {
    "duration": 44,
    "start_time": "2024-07-13T11:28:57.269Z"
   },
   {
    "duration": 80,
    "start_time": "2024-07-13T11:28:57.327Z"
   },
   {
    "duration": 985,
    "start_time": "2024-07-13T11:28:57.497Z"
   },
   {
    "duration": 1102,
    "start_time": "2024-07-13T11:28:58.484Z"
   },
   {
    "duration": 95,
    "start_time": "2024-07-13T11:28:59.587Z"
   },
   {
    "duration": 4963,
    "start_time": "2024-07-13T11:28:59.684Z"
   },
   {
    "duration": 50,
    "start_time": "2024-07-13T11:29:04.648Z"
   },
   {
    "duration": 93,
    "start_time": "2024-07-13T11:29:04.700Z"
   },
   {
    "duration": 201,
    "start_time": "2024-07-13T11:29:04.795Z"
   },
   {
    "duration": 73,
    "start_time": "2024-07-13T11:29:04.997Z"
   },
   {
    "duration": 67,
    "start_time": "2024-07-13T11:29:09.499Z"
   },
   {
    "duration": 3,
    "start_time": "2024-07-13T11:29:11.184Z"
   },
   {
    "duration": 3,
    "start_time": "2024-07-13T11:29:15.866Z"
   },
   {
    "duration": 3,
    "start_time": "2024-07-13T11:29:16.674Z"
   },
   {
    "duration": 3,
    "start_time": "2024-07-13T11:29:18.776Z"
   },
   {
    "duration": 3,
    "start_time": "2024-07-13T11:29:19.412Z"
   },
   {
    "duration": 11380,
    "start_time": "2024-07-13T11:29:21.025Z"
   },
   {
    "duration": 21,
    "start_time": "2024-07-13T11:29:35.674Z"
   },
   {
    "duration": 3,
    "start_time": "2024-07-13T11:29:44.932Z"
   },
   {
    "duration": 2,
    "start_time": "2024-07-13T11:30:49.020Z"
   },
   {
    "duration": 3,
    "start_time": "2024-07-13T11:30:49.577Z"
   },
   {
    "duration": 3,
    "start_time": "2024-07-13T11:30:50.585Z"
   },
   {
    "duration": 3,
    "start_time": "2024-07-13T11:30:51.828Z"
   },
   {
    "duration": 3,
    "start_time": "2024-07-13T11:30:52.571Z"
   },
   {
    "duration": 61638,
    "start_time": "2024-07-13T11:30:54.145Z"
   },
   {
    "duration": 3,
    "start_time": "2024-07-13T11:32:05.198Z"
   },
   {
    "duration": 80,
    "start_time": "2024-07-13T11:34:02.426Z"
   },
   {
    "duration": 3,
    "start_time": "2024-07-13T11:34:02.742Z"
   },
   {
    "duration": 3,
    "start_time": "2024-07-13T11:34:03.527Z"
   },
   {
    "duration": 2,
    "start_time": "2024-07-13T11:34:03.916Z"
   },
   {
    "duration": 3,
    "start_time": "2024-07-13T11:34:04.469Z"
   },
   {
    "duration": 3,
    "start_time": "2024-07-13T11:34:05.055Z"
   },
   {
    "duration": 1715,
    "start_time": "2024-07-13T11:34:06.446Z"
   },
   {
    "duration": 4502,
    "start_time": "2024-07-13T11:37:41.812Z"
   },
   {
    "duration": 1367,
    "start_time": "2024-07-13T11:37:46.316Z"
   },
   {
    "duration": 792,
    "start_time": "2024-07-13T11:37:47.684Z"
   },
   {
    "duration": 35,
    "start_time": "2024-07-13T11:37:48.478Z"
   },
   {
    "duration": 14,
    "start_time": "2024-07-13T11:37:48.515Z"
   },
   {
    "duration": 262,
    "start_time": "2024-07-13T11:37:48.530Z"
   },
   {
    "duration": 107,
    "start_time": "2024-07-13T11:37:48.794Z"
   },
   {
    "duration": 94,
    "start_time": "2024-07-13T11:37:48.903Z"
   },
   {
    "duration": 40,
    "start_time": "2024-07-13T11:37:48.999Z"
   },
   {
    "duration": 59,
    "start_time": "2024-07-13T11:37:49.042Z"
   },
   {
    "duration": 80,
    "start_time": "2024-07-13T11:37:49.102Z"
   },
   {
    "duration": 1099,
    "start_time": "2024-07-13T11:37:49.183Z"
   },
   {
    "duration": 1096,
    "start_time": "2024-07-13T11:37:50.284Z"
   },
   {
    "duration": 80,
    "start_time": "2024-07-13T11:37:51.382Z"
   },
   {
    "duration": 4838,
    "start_time": "2024-07-13T11:37:51.463Z"
   },
   {
    "duration": 41,
    "start_time": "2024-07-13T11:37:56.302Z"
   },
   {
    "duration": 9,
    "start_time": "2024-07-13T11:38:08.942Z"
   },
   {
    "duration": 84,
    "start_time": "2024-07-13T11:38:11.566Z"
   },
   {
    "duration": 10,
    "start_time": "2024-07-13T11:38:16.377Z"
   },
   {
    "duration": 130,
    "start_time": "2024-07-13T11:38:36.490Z"
   },
   {
    "duration": 10,
    "start_time": "2024-07-13T11:38:36.698Z"
   },
   {
    "duration": 20,
    "start_time": "2024-07-13T11:40:32.298Z"
   },
   {
    "duration": 10,
    "start_time": "2024-07-13T11:40:33.753Z"
   },
   {
    "duration": 4428,
    "start_time": "2024-07-13T11:40:39.956Z"
   },
   {
    "duration": 1407,
    "start_time": "2024-07-13T11:40:45.254Z"
   },
   {
    "duration": 790,
    "start_time": "2024-07-13T11:40:49.121Z"
   },
   {
    "duration": 38,
    "start_time": "2024-07-13T11:40:49.913Z"
   },
   {
    "duration": 15,
    "start_time": "2024-07-13T11:40:52.042Z"
   },
   {
    "duration": 248,
    "start_time": "2024-07-13T11:40:52.598Z"
   },
   {
    "duration": 95,
    "start_time": "2024-07-13T11:40:53.879Z"
   },
   {
    "duration": 78,
    "start_time": "2024-07-13T11:40:54.526Z"
   },
   {
    "duration": 44,
    "start_time": "2024-07-13T11:40:57.095Z"
   },
   {
    "duration": 43,
    "start_time": "2024-07-13T11:40:59.402Z"
   },
   {
    "duration": 81,
    "start_time": "2024-07-13T11:40:59.619Z"
   },
   {
    "duration": 1026,
    "start_time": "2024-07-13T11:40:59.701Z"
   },
   {
    "duration": 1141,
    "start_time": "2024-07-13T11:41:03.244Z"
   },
   {
    "duration": 78,
    "start_time": "2024-07-13T11:41:04.387Z"
   },
   {
    "duration": 4841,
    "start_time": "2024-07-13T11:41:04.785Z"
   },
   {
    "duration": 47,
    "start_time": "2024-07-13T11:41:10.190Z"
   },
   {
    "duration": 9,
    "start_time": "2024-07-13T11:41:14.452Z"
   },
   {
    "duration": 23,
    "start_time": "2024-07-13T11:41:15.326Z"
   },
   {
    "duration": 9,
    "start_time": "2024-07-13T11:41:16.046Z"
   },
   {
    "duration": 108,
    "start_time": "2024-07-13T11:41:25.838Z"
   },
   {
    "duration": 59,
    "start_time": "2024-07-13T11:41:27.947Z"
   },
   {
    "duration": 45,
    "start_time": "2024-07-13T11:41:38.043Z"
   },
   {
    "duration": 2,
    "start_time": "2024-07-13T11:41:50.819Z"
   },
   {
    "duration": 3,
    "start_time": "2024-07-13T11:41:52.217Z"
   },
   {
    "duration": 3,
    "start_time": "2024-07-13T11:41:52.847Z"
   },
   {
    "duration": 3,
    "start_time": "2024-07-13T11:41:53.420Z"
   },
   {
    "duration": 3,
    "start_time": "2024-07-13T11:41:54.627Z"
   },
   {
    "duration": 26837,
    "start_time": "2024-07-13T11:41:57.014Z"
   },
   {
    "duration": 4,
    "start_time": "2024-07-13T11:42:30.423Z"
   },
   {
    "duration": 4,
    "start_time": "2024-07-13T11:42:41.802Z"
   },
   {
    "duration": 92,
    "start_time": "2024-07-13T11:44:04.754Z"
   },
   {
    "duration": 2,
    "start_time": "2024-07-13T11:47:02.489Z"
   },
   {
    "duration": 47,
    "start_time": "2024-07-13T11:48:19.740Z"
   },
   {
    "duration": 74,
    "start_time": "2024-07-13T11:48:30.206Z"
   },
   {
    "duration": 46,
    "start_time": "2024-07-13T11:48:35.961Z"
   },
   {
    "duration": 63,
    "start_time": "2024-07-13T11:48:50.289Z"
   },
   {
    "duration": 17,
    "start_time": "2024-07-13T11:48:53.102Z"
   },
   {
    "duration": 1104,
    "start_time": "2024-07-13T11:49:01.537Z"
   },
   {
    "duration": 2,
    "start_time": "2024-07-13T11:49:59.208Z"
   },
   {
    "duration": 3,
    "start_time": "2024-07-13T11:49:59.657Z"
   },
   {
    "duration": 6,
    "start_time": "2024-07-13T11:50:00.847Z"
   },
   {
    "duration": 30223,
    "start_time": "2024-07-13T11:50:03.382Z"
   },
   {
    "duration": 4509,
    "start_time": "2024-07-13T11:51:32.074Z"
   },
   {
    "duration": 1373,
    "start_time": "2024-07-13T11:51:36.585Z"
   },
   {
    "duration": 799,
    "start_time": "2024-07-13T11:51:40.237Z"
   },
   {
    "duration": 33,
    "start_time": "2024-07-13T11:51:41.038Z"
   },
   {
    "duration": 20,
    "start_time": "2024-07-13T11:51:41.073Z"
   },
   {
    "duration": 252,
    "start_time": "2024-07-13T11:51:41.094Z"
   },
   {
    "duration": 102,
    "start_time": "2024-07-13T11:51:41.347Z"
   },
   {
    "duration": 82,
    "start_time": "2024-07-13T11:51:41.450Z"
   },
   {
    "duration": 39,
    "start_time": "2024-07-13T11:51:41.533Z"
   },
   {
    "duration": 44,
    "start_time": "2024-07-13T11:51:41.846Z"
   },
   {
    "duration": 76,
    "start_time": "2024-07-13T11:51:41.995Z"
   },
   {
    "duration": 1039,
    "start_time": "2024-07-13T11:51:42.135Z"
   },
   {
    "duration": 1106,
    "start_time": "2024-07-13T11:51:43.176Z"
   },
   {
    "duration": 82,
    "start_time": "2024-07-13T11:51:44.283Z"
   },
   {
    "duration": 4818,
    "start_time": "2024-07-13T11:51:44.367Z"
   },
   {
    "duration": 42,
    "start_time": "2024-07-13T11:51:49.187Z"
   },
   {
    "duration": 24,
    "start_time": "2024-07-13T11:51:49.230Z"
   },
   {
    "duration": 133,
    "start_time": "2024-07-13T11:51:49.255Z"
   },
   {
    "duration": 59,
    "start_time": "2024-07-13T11:51:49.389Z"
   },
   {
    "duration": 58,
    "start_time": "2024-07-13T11:51:49.451Z"
   },
   {
    "duration": 4,
    "start_time": "2024-07-13T11:51:49.510Z"
   },
   {
    "duration": 8,
    "start_time": "2024-07-13T11:51:49.515Z"
   },
   {
    "duration": 9,
    "start_time": "2024-07-13T11:51:49.525Z"
   },
   {
    "duration": 9,
    "start_time": "2024-07-13T11:51:49.535Z"
   },
   {
    "duration": 4,
    "start_time": "2024-07-13T11:51:49.546Z"
   },
   {
    "duration": 26545,
    "start_time": "2024-07-13T11:51:49.551Z"
   },
   {
    "duration": 4,
    "start_time": "2024-07-13T11:52:16.098Z"
   },
   {
    "duration": 3,
    "start_time": "2024-07-13T11:52:21.810Z"
   },
   {
    "duration": 2,
    "start_time": "2024-07-13T11:52:22.153Z"
   },
   {
    "duration": 67,
    "start_time": "2024-07-13T11:52:23.319Z"
   },
   {
    "duration": 372781,
    "start_time": "2024-07-13T11:52:24.915Z"
   },
   {
    "duration": 3,
    "start_time": "2024-07-13T11:58:51.955Z"
   },
   {
    "duration": 22,
    "start_time": "2024-07-13T11:59:06.263Z"
   },
   {
    "duration": 104,
    "start_time": "2024-07-13T11:59:46.537Z"
   },
   {
    "duration": 3,
    "start_time": "2024-07-13T11:59:55.760Z"
   },
   {
    "duration": 5038,
    "start_time": "2024-07-13T11:59:59.947Z"
   },
   {
    "duration": 6510,
    "start_time": "2024-07-13T12:00:17.298Z"
   },
   {
    "duration": 8,
    "start_time": "2024-07-13T12:00:33.794Z"
   },
   {
    "duration": 8,
    "start_time": "2024-07-13T12:00:37.492Z"
   },
   {
    "duration": 8,
    "start_time": "2024-07-13T12:00:53.029Z"
   },
   {
    "duration": 6436,
    "start_time": "2024-07-13T12:00:54.538Z"
   },
   {
    "duration": 8,
    "start_time": "2024-07-13T12:01:03.389Z"
   },
   {
    "duration": 83,
    "start_time": "2024-07-13T12:01:08.782Z"
   },
   {
    "duration": 5,
    "start_time": "2024-07-13T12:01:09.631Z"
   },
   {
    "duration": 6450,
    "start_time": "2024-07-13T12:01:17.158Z"
   },
   {
    "duration": 6563,
    "start_time": "2024-07-13T12:01:28.990Z"
   },
   {
    "duration": 81,
    "start_time": "2024-07-13T12:01:41.457Z"
   },
   {
    "duration": 4,
    "start_time": "2024-07-13T12:01:42.044Z"
   },
   {
    "duration": 6,
    "start_time": "2024-07-13T12:02:01.010Z"
   },
   {
    "duration": 2,
    "start_time": "2024-07-13T12:02:55.326Z"
   },
   {
    "duration": 100755,
    "start_time": "2024-07-13T12:02:58.336Z"
   },
   {
    "duration": 91,
    "start_time": "2024-07-13T12:04:50.012Z"
   },
   {
    "duration": 27,
    "start_time": "2024-07-13T12:05:09.690Z"
   },
   {
    "duration": 22422,
    "start_time": "2024-07-13T12:05:13.178Z"
   },
   {
    "duration": 2785,
    "start_time": "2024-07-13T12:06:06.110Z"
   },
   {
    "duration": 4398,
    "start_time": "2024-07-13T12:09:46.683Z"
   },
   {
    "duration": 1364,
    "start_time": "2024-07-13T12:09:51.083Z"
   },
   {
    "duration": 798,
    "start_time": "2024-07-13T12:09:52.448Z"
   },
   {
    "duration": 39,
    "start_time": "2024-07-13T12:09:53.248Z"
   },
   {
    "duration": 14,
    "start_time": "2024-07-13T12:09:53.290Z"
   },
   {
    "duration": 257,
    "start_time": "2024-07-13T12:09:53.306Z"
   },
   {
    "duration": 98,
    "start_time": "2024-07-13T12:09:53.565Z"
   },
   {
    "duration": 83,
    "start_time": "2024-07-13T12:09:53.665Z"
   },
   {
    "duration": 54,
    "start_time": "2024-07-13T12:09:53.750Z"
   },
   {
    "duration": 44,
    "start_time": "2024-07-13T12:09:53.806Z"
   },
   {
    "duration": 83,
    "start_time": "2024-07-13T12:09:53.852Z"
   },
   {
    "duration": 942,
    "start_time": "2024-07-13T12:09:53.936Z"
   },
   {
    "duration": 1096,
    "start_time": "2024-07-13T12:09:54.880Z"
   },
   {
    "duration": 77,
    "start_time": "2024-07-13T12:09:55.981Z"
   },
   {
    "duration": 4922,
    "start_time": "2024-07-13T12:09:56.060Z"
   },
   {
    "duration": 42,
    "start_time": "2024-07-13T12:10:00.984Z"
   },
   {
    "duration": 77,
    "start_time": "2024-07-13T12:10:01.027Z"
   },
   {
    "duration": 234,
    "start_time": "2024-07-13T12:10:01.105Z"
   },
   {
    "duration": 65,
    "start_time": "2024-07-13T12:10:01.340Z"
   },
   {
    "duration": 95,
    "start_time": "2024-07-13T12:10:01.406Z"
   },
   {
    "duration": 12,
    "start_time": "2024-07-13T12:10:01.503Z"
   },
   {
    "duration": 28,
    "start_time": "2024-07-13T12:10:01.516Z"
   },
   {
    "duration": 40,
    "start_time": "2024-07-13T12:10:01.546Z"
   },
   {
    "duration": 19,
    "start_time": "2024-07-13T12:10:01.587Z"
   },
   {
    "duration": 35,
    "start_time": "2024-07-13T12:10:01.608Z"
   },
   {
    "duration": 26597,
    "start_time": "2024-07-13T12:10:01.645Z"
   },
   {
    "duration": 4,
    "start_time": "2024-07-13T12:10:28.243Z"
   },
   {
    "duration": 3,
    "start_time": "2024-07-13T12:10:28.248Z"
   },
   {
    "duration": 4,
    "start_time": "2024-07-13T12:10:28.253Z"
   },
   {
    "duration": 83,
    "start_time": "2024-07-13T12:10:28.258Z"
   },
   {
    "duration": 368250,
    "start_time": "2024-07-13T12:10:28.343Z"
   },
   {
    "duration": 4,
    "start_time": "2024-07-13T12:16:36.594Z"
   },
   {
    "duration": 28,
    "start_time": "2024-07-13T12:16:36.599Z"
   },
   {
    "duration": 3,
    "start_time": "2024-07-13T12:16:36.629Z"
   },
   {
    "duration": 4983,
    "start_time": "2024-07-13T12:16:36.633Z"
   },
   {
    "duration": 6403,
    "start_time": "2024-07-13T12:16:41.618Z"
   },
   {
    "duration": 91,
    "start_time": "2024-07-13T12:16:48.023Z"
   },
   {
    "duration": 4,
    "start_time": "2024-07-13T12:16:48.116Z"
   },
   {
    "duration": 12,
    "start_time": "2024-07-13T12:16:48.121Z"
   },
   {
    "duration": 27,
    "start_time": "2024-07-13T12:16:48.134Z"
   },
   {
    "duration": 18,
    "start_time": "2024-07-13T12:16:48.164Z"
   },
   {
    "duration": 103406,
    "start_time": "2024-07-13T12:16:48.183Z"
   },
   {
    "duration": 22117,
    "start_time": "2024-07-13T12:18:31.590Z"
   },
   {
    "duration": 2720,
    "start_time": "2024-07-13T12:18:53.781Z"
   }
  ],
  "kernelspec": {
   "display_name": "Python 3 (ipykernel)",
   "language": "python",
   "name": "python3"
  },
  "language_info": {
   "codemirror_mode": {
    "name": "ipython",
    "version": 3
   },
   "file_extension": ".py",
   "mimetype": "text/x-python",
   "name": "python",
   "nbconvert_exporter": "python",
   "pygments_lexer": "ipython3",
   "version": "3.9.5"
  },
  "toc": {
   "base_numbering": 1,
   "nav_menu": {},
   "number_sections": true,
   "sideBar": true,
   "skip_h1_title": true,
   "title_cell": "Table of Contents",
   "title_sidebar": "Contents",
   "toc_cell": false,
   "toc_position": {},
   "toc_section_display": true,
   "toc_window_display": false
  }
 },
 "nbformat": 4,
 "nbformat_minor": 2
}
